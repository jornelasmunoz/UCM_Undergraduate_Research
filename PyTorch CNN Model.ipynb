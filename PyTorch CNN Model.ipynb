{
 "cells": [
  {
   "cell_type": "markdown",
   "id": "8dc549ea",
   "metadata": {},
   "source": [
    "# Creating CNN Class Model"
   ]
  },
  {
   "cell_type": "code",
   "execution_count": 2,
   "id": "652cd1cd",
   "metadata": {},
   "outputs": [],
   "source": [
    "import numpy as np\n",
    "import matplotlib.pyplot as plt\n",
    "\n",
    "# Neural network libraries\n",
    "import torchvision\n",
    "from torchvision import transforms, datasets\n",
    "import torch"
   ]
  },
  {
   "cell_type": "code",
   "execution_count": null,
   "id": "c43dbc7a",
   "metadata": {},
   "outputs": [],
   "source": [
    "# train = datasets.MNIST(\"\", train = True, download = True,\n",
    "#                       transform = transforms.Compose([transforms.ToTensor()]))\n",
    "\n",
    "# test = datasets.MNIST(\"\", train = False, download = True,\n",
    "#                       transform = transforms.Compose([transforms.ToTensor()]))"
   ]
  },
  {
   "cell_type": "markdown",
   "id": "1aa893c5",
   "metadata": {},
   "source": [
    "**Assuming the image is square**, `size` refers to the dimension of the image.  \n",
    "\n",
    "\n",
    "Formula for convolution input to output: \n",
    "$$\\text{Output size}= \\frac{1 + (\\text{input_size} - \\text{kernel_size} + 2* \\text{padding})}{\\text{stride}}$$"
   ]
  },
  {
   "cell_type": "code",
   "execution_count": null,
   "id": "250b545a",
   "metadata": {},
   "outputs": [],
   "source": [
    "# Define the softmax function\n",
    "## an alternative to this definition is the built-in function given by nn.torch.Softmax\n",
    "def softmax_function(x):\n",
    "    numerator = np.exp(x)\n",
    "    denominator = numerator.sum()\n",
    "    return numerator / denominator\n",
    "\n",
    "class CNN(nn.Module):\n",
    "    '''\n",
    "    Add description\n",
    "    '''\n",
    "    def __init__(self):\n",
    "        super(CNN,self).__init__()\n",
    "        '''\n",
    "        '''\n",
    "        self.layer_list = torch.nn.ModuleList([\n",
    "            # 1 channels in, 32 channels out, 5x5 kernel\n",
    "            torch.nn.Conv2d(1,32,5),                      # 1x28x28 --> 32x24x24\n",
    "            # nonlinear activation function\n",
    "            torch.nn.ReLU(inplace=True),\n",
    "            # 2d Max Pooling, kernel size 2, stride 2\n",
    "            torch.nn.MaxPool2d(2, 2),                     # 32x24x24 -> 32x12x12\n",
    "            # 32 channels in, 64 channels out, 5x5 kernel\n",
    "            torch.nn.Conv2d(32,64,5),                     # 32x12x12 -> 64x8x8\n",
    "            # nonlinear activation function\n",
    "            torch.nn.ReLU(inplace=True),\n",
    "            torch.nn.MaxPool2d(2, 2),                     # 64x8x8 -> 64x4x4= 1024\n",
    "        ])\n",
    "        \n",
    "        # Classifier: FIX ME -> Modify hyperparameters accordingly!!!!\n",
    "        self.classifier = torch.nn.Sequential(\n",
    "            # Fully-Connected, 1024 elements in, 10 elements out\n",
    "            torch.nn.Linear(1024, 512),\n",
    "            torch.nn.ReLU(inplace=True),\n",
    "            torch.nn.Linear(512, 256),\n",
    "            torch.nn.ReLU(inplace=True),\n",
    "            torch.nn.Linear(256, 128),\n",
    "            torch.nn.ReLU(inplace=True),\n",
    "            torch.nn.Linear(128, 10),\n",
    "            torch.nn.Softmax(),\n",
    "        )\n",
    "    \n",
    "\n",
    "# def relu(x):\n",
    "#     pass\n"
   ]
  }
 ],
 "metadata": {
  "kernelspec": {
   "display_name": "Python 3",
   "language": "python",
   "name": "python3"
  },
  "language_info": {
   "codemirror_mode": {
    "name": "ipython",
    "version": 3
   },
   "file_extension": ".py",
   "mimetype": "text/x-python",
   "name": "python",
   "nbconvert_exporter": "python",
   "pygments_lexer": "ipython3",
   "version": "3.6.13"
  }
 },
 "nbformat": 4,
 "nbformat_minor": 5
}
