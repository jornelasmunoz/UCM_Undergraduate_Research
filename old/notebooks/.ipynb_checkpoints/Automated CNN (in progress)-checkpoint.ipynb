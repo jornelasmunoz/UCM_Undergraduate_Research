{
 "cells": [
  {
   "cell_type": "code",
   "execution_count": 54,
   "id": "9b0a0b54",
   "metadata": {},
   "outputs": [],
   "source": [
    "import torch\n",
    "import torch.nn as nn\n",
    "from torch.autograd import Variable\n",
    "from torchvision import datasets\n",
    "import torchvision.transforms as transforms\n",
    "import numpy as np\n",
    "import matplotlib.pyplot as plt\n",
    "from matplotlib.pyplot import figure"
   ]
  },
  {
   "cell_type": "code",
   "execution_count": 2,
   "id": "f7ae6e32",
   "metadata": {},
   "outputs": [
    {
     "name": "stderr",
     "output_type": "stream",
     "text": [
      "0.3%"
     ]
    },
    {
     "name": "stdout",
     "output_type": "stream",
     "text": [
      "Downloading http://yann.lecun.com/exdb/mnist/train-images-idx3-ubyte.gz\n",
      "Downloading http://yann.lecun.com/exdb/mnist/train-images-idx3-ubyte.gz to ../data/14x14/MNIST/raw/train-images-idx3-ubyte.gz\n"
     ]
    },
    {
     "name": "stderr",
     "output_type": "stream",
     "text": [
      "102.8%\n",
      "1.4%"
     ]
    },
    {
     "name": "stdout",
     "output_type": "stream",
     "text": [
      "Downloading http://yann.lecun.com/exdb/mnist/train-labels-idx1-ubyte.gz to ../data/14x14/MNIST/raw/train-labels-idx1-ubyte.gz\n",
      "Extracting ../data/14x14/MNIST/raw/train-labels-idx1-ubyte.gz to ../data/14x14/MNIST/raw\n",
      "\n",
      "Downloading http://yann.lecun.com/exdb/mnist/t10k-images-idx3-ubyte.gz\n",
      "Downloading http://yann.lecun.com/exdb/mnist/t10k-images-idx3-ubyte.gz to ../data/14x14/MNIST/raw/t10k-images-idx3-ubyte.gz\n"
     ]
    },
    {
     "name": "stderr",
     "output_type": "stream",
     "text": [
      "90.2%"
     ]
    },
    {
     "name": "stdout",
     "output_type": "stream",
     "text": [
      "Extracting ../data/14x14/MNIST/raw/t10k-images-idx3-ubyte.gz to ../data/14x14/MNIST/raw\n",
      "\n",
      "Downloading http://yann.lecun.com/exdb/mnist/t10k-labels-idx1-ubyte.gz\n",
      "Downloading http://yann.lecun.com/exdb/mnist/t10k-labels-idx1-ubyte.gz to ../data/14x14/MNIST/raw/t10k-labels-idx1-ubyte.gz\n"
     ]
    },
    {
     "name": "stderr",
     "output_type": "stream",
     "text": [
      "\r",
      "112.7%"
     ]
    },
    {
     "name": "stdout",
     "output_type": "stream",
     "text": [
      "Extracting ../data/14x14/MNIST/raw/t10k-labels-idx1-ubyte.gz to ../data/14x14/MNIST/raw\n",
      "\n"
     ]
    },
    {
     "name": "stderr",
     "output_type": "stream",
     "text": [
      "\n",
      "/Users/cristianespinosa/opt/anaconda3/envs/tensor/lib/python3.6/site-packages/torchvision/datasets/mnist.py:498: UserWarning: The given NumPy array is not writeable, and PyTorch does not support non-writeable tensors. This means you can write to the underlying (supposedly non-writeable) NumPy array using the tensor. You may want to copy the array to protect its data or make it writeable before converting it to a tensor. This type of warning will be suppressed for the rest of this program. (Triggered internally at  /Users/distiller/project/conda/conda-bld/pytorch_1631631159818/work/torch/csrc/utils/tensor_numpy.cpp:180.)\n",
      "  return torch.from_numpy(parsed.astype(m[2], copy=False)).view(*s)\n"
     ]
    }
   ],
   "source": [
    "# There was something Jocelyn did to modify the image sizes without modifying the dtype\n",
    "size = 14\n",
    "train_data = datasets.MNIST(\n",
    "    root = '../data/14x14',\n",
    "    train = True,                         \n",
    "    transform = transforms.Compose([\n",
    "                    transforms.ToTensor(),\n",
    "                    transforms.Resize(size),\n",
    "                    transforms.Normalize(0, 1)\n",
    "                ]), \n",
    "    download = True,            \n",
    ")\n",
    "test_data = datasets.MNIST(\n",
    "    root = '../data/14x14', \n",
    "    train = False, \n",
    "    transform = transforms.Compose([\n",
    "                    transforms.ToTensor(),\n",
    "                    transforms.Resize(size),\n",
    "                    transforms.Normalize(0, 1)\n",
    "                ]),\n",
    "    download = False,\n",
    ")"
   ]
  },
  {
   "cell_type": "markdown",
   "id": "74bd506a",
   "metadata": {},
   "source": [
    "<h3>MNIST Dataset is organized by:</h3>\n",
    "<div>Set of images (with channels) and labels --> train_data</div>\n",
    "<div>image (with channels) AND label --> train_data[i (0,59999)]</div>\n",
    "<div>image (with channels) --> train_data[i][i (0,1)]</div>\n",
    "<div>image by itself (2D image) --> train_data[i][i][i (0)]</div>"
   ]
  },
  {
   "cell_type": "code",
   "execution_count": 3,
   "id": "5592a361",
   "metadata": {
    "scrolled": false
   },
   "outputs": [
    {
     "name": "stdout",
     "output_type": "stream",
     "text": [
      "2 \n",
      "\n",
      "\n",
      "(tensor([[[0.0000, 0.0000, 0.0000, 0.0000, 0.0000, 0.0000, 0.0000, 0.0000,\n",
      "          0.0000, 0.0000, 0.0000, 0.0000, 0.0000, 0.0000],\n",
      "         [0.0000, 0.0000, 0.0000, 0.0000, 0.0000, 0.0000, 0.0000, 0.0000,\n",
      "          0.0000, 0.0000, 0.0000, 0.0000, 0.0000, 0.0000],\n",
      "         [0.0000, 0.0000, 0.0000, 0.0000, 0.0000, 0.0000, 0.0206, 0.0353,\n",
      "          0.2569, 0.1971, 0.4127, 0.3667, 0.0000, 0.0000],\n",
      "         [0.0000, 0.0000, 0.0000, 0.0480, 0.5461, 0.7392, 0.9108, 0.9922,\n",
      "          0.9902, 0.5608, 0.6206, 0.2922, 0.0000, 0.0000],\n",
      "         [0.0000, 0.0000, 0.0000, 0.0176, 0.6941, 0.8490, 0.9451, 0.3833,\n",
      "          0.6716, 0.0000, 0.0000, 0.0000, 0.0000, 0.0000],\n",
      "         [0.0000, 0.0000, 0.0000, 0.0000, 0.0137, 0.2882, 0.7706, 0.0020,\n",
      "          0.0000, 0.0000, 0.0000, 0.0000, 0.0000, 0.0000],\n",
      "         [0.0000, 0.0000, 0.0000, 0.0000, 0.0000, 0.0108, 0.7049, 0.4461,\n",
      "          0.1069, 0.0000, 0.0000, 0.0000, 0.0000, 0.0000],\n",
      "         [0.0000, 0.0000, 0.0000, 0.0000, 0.0000, 0.0000, 0.0794, 0.7098,\n",
      "          0.8608, 0.1980, 0.0000, 0.0000, 0.0000, 0.0000],\n",
      "         [0.0000, 0.0000, 0.0000, 0.0000, 0.0000, 0.0000, 0.0000, 0.0157,\n",
      "          0.5824, 0.9235, 0.0627, 0.0000, 0.0000, 0.0000],\n",
      "         [0.0000, 0.0000, 0.0000, 0.0000, 0.0000, 0.0000, 0.1833, 0.6451,\n",
      "          0.9235, 0.8745, 0.0020, 0.0000, 0.0000, 0.0000],\n",
      "         [0.0000, 0.0000, 0.0000, 0.0000, 0.0873, 0.5922, 0.9608, 0.9382,\n",
      "          0.5265, 0.0765, 0.0000, 0.0000, 0.0000, 0.0000],\n",
      "         [0.0000, 0.0000, 0.2225, 0.6549, 0.9588, 0.9833, 0.5804, 0.0873,\n",
      "          0.0000, 0.0000, 0.0000, 0.0000, 0.0000, 0.0000],\n",
      "         [0.0000, 0.0000, 0.3814, 0.4961, 0.3402, 0.1451, 0.0000, 0.0000,\n",
      "          0.0000, 0.0000, 0.0000, 0.0000, 0.0000, 0.0000],\n",
      "         [0.0000, 0.0000, 0.0000, 0.0000, 0.0000, 0.0000, 0.0000, 0.0000,\n",
      "          0.0000, 0.0000, 0.0000, 0.0000, 0.0000, 0.0000]]]), 5)\n"
     ]
    }
   ],
   "source": [
    "# Images and labels are stored as a tuple (image, label)\n",
    "\n",
    "print(len(train_data[0]), '\\n\\n')\n",
    "print(train_data[0])"
   ]
  },
  {
   "cell_type": "code",
   "execution_count": 4,
   "id": "0c2b86e1",
   "metadata": {},
   "outputs": [
    {
     "data": {
      "text/plain": [
       "(tensor([[[0.0000, 0.0000, 0.0000, 0.0000, 0.0000, 0.0000, 0.0000, 0.0000,\n",
       "           0.0000, 0.0000, 0.0000, 0.0000, 0.0000, 0.0000],\n",
       "          [0.0000, 0.0000, 0.0000, 0.0000, 0.0000, 0.0000, 0.0000, 0.0000,\n",
       "           0.0000, 0.0000, 0.0000, 0.0000, 0.0000, 0.0000],\n",
       "          [0.0000, 0.0000, 0.0000, 0.0000, 0.0000, 0.0000, 0.0206, 0.0353,\n",
       "           0.2569, 0.1971, 0.4127, 0.3667, 0.0000, 0.0000],\n",
       "          [0.0000, 0.0000, 0.0000, 0.0480, 0.5461, 0.7392, 0.9108, 0.9922,\n",
       "           0.9902, 0.5608, 0.6206, 0.2922, 0.0000, 0.0000],\n",
       "          [0.0000, 0.0000, 0.0000, 0.0176, 0.6941, 0.8490, 0.9451, 0.3833,\n",
       "           0.6716, 0.0000, 0.0000, 0.0000, 0.0000, 0.0000],\n",
       "          [0.0000, 0.0000, 0.0000, 0.0000, 0.0137, 0.2882, 0.7706, 0.0020,\n",
       "           0.0000, 0.0000, 0.0000, 0.0000, 0.0000, 0.0000],\n",
       "          [0.0000, 0.0000, 0.0000, 0.0000, 0.0000, 0.0108, 0.7049, 0.4461,\n",
       "           0.1069, 0.0000, 0.0000, 0.0000, 0.0000, 0.0000],\n",
       "          [0.0000, 0.0000, 0.0000, 0.0000, 0.0000, 0.0000, 0.0794, 0.7098,\n",
       "           0.8608, 0.1980, 0.0000, 0.0000, 0.0000, 0.0000],\n",
       "          [0.0000, 0.0000, 0.0000, 0.0000, 0.0000, 0.0000, 0.0000, 0.0157,\n",
       "           0.5824, 0.9235, 0.0627, 0.0000, 0.0000, 0.0000],\n",
       "          [0.0000, 0.0000, 0.0000, 0.0000, 0.0000, 0.0000, 0.1833, 0.6451,\n",
       "           0.9235, 0.8745, 0.0020, 0.0000, 0.0000, 0.0000],\n",
       "          [0.0000, 0.0000, 0.0000, 0.0000, 0.0873, 0.5922, 0.9608, 0.9382,\n",
       "           0.5265, 0.0765, 0.0000, 0.0000, 0.0000, 0.0000],\n",
       "          [0.0000, 0.0000, 0.2225, 0.6549, 0.9588, 0.9833, 0.5804, 0.0873,\n",
       "           0.0000, 0.0000, 0.0000, 0.0000, 0.0000, 0.0000],\n",
       "          [0.0000, 0.0000, 0.3814, 0.4961, 0.3402, 0.1451, 0.0000, 0.0000,\n",
       "           0.0000, 0.0000, 0.0000, 0.0000, 0.0000, 0.0000],\n",
       "          [0.0000, 0.0000, 0.0000, 0.0000, 0.0000, 0.0000, 0.0000, 0.0000,\n",
       "           0.0000, 0.0000, 0.0000, 0.0000, 0.0000, 0.0000]]]), 5)"
      ]
     },
     "execution_count": 4,
     "metadata": {},
     "output_type": "execute_result"
    }
   ],
   "source": [
    "train_data[0]"
   ]
  },
  {
   "cell_type": "code",
   "execution_count": 5,
   "id": "b044cd6e",
   "metadata": {},
   "outputs": [
    {
     "data": {
      "text/plain": [
       "tensor([[[0.0000, 0.0000, 0.0000, 0.0000, 0.0000, 0.0000, 0.0000, 0.0000,\n",
       "          0.0000, 0.0000, 0.0000, 0.0000, 0.0000, 0.0000],\n",
       "         [0.0000, 0.0000, 0.0000, 0.0000, 0.0000, 0.0000, 0.0000, 0.0000,\n",
       "          0.0000, 0.0000, 0.0000, 0.0000, 0.0000, 0.0000],\n",
       "         [0.0000, 0.0000, 0.0000, 0.0000, 0.0000, 0.0000, 0.0206, 0.0353,\n",
       "          0.2569, 0.1971, 0.4127, 0.3667, 0.0000, 0.0000],\n",
       "         [0.0000, 0.0000, 0.0000, 0.0480, 0.5461, 0.7392, 0.9108, 0.9922,\n",
       "          0.9902, 0.5608, 0.6206, 0.2922, 0.0000, 0.0000],\n",
       "         [0.0000, 0.0000, 0.0000, 0.0176, 0.6941, 0.8490, 0.9451, 0.3833,\n",
       "          0.6716, 0.0000, 0.0000, 0.0000, 0.0000, 0.0000],\n",
       "         [0.0000, 0.0000, 0.0000, 0.0000, 0.0137, 0.2882, 0.7706, 0.0020,\n",
       "          0.0000, 0.0000, 0.0000, 0.0000, 0.0000, 0.0000],\n",
       "         [0.0000, 0.0000, 0.0000, 0.0000, 0.0000, 0.0108, 0.7049, 0.4461,\n",
       "          0.1069, 0.0000, 0.0000, 0.0000, 0.0000, 0.0000],\n",
       "         [0.0000, 0.0000, 0.0000, 0.0000, 0.0000, 0.0000, 0.0794, 0.7098,\n",
       "          0.8608, 0.1980, 0.0000, 0.0000, 0.0000, 0.0000],\n",
       "         [0.0000, 0.0000, 0.0000, 0.0000, 0.0000, 0.0000, 0.0000, 0.0157,\n",
       "          0.5824, 0.9235, 0.0627, 0.0000, 0.0000, 0.0000],\n",
       "         [0.0000, 0.0000, 0.0000, 0.0000, 0.0000, 0.0000, 0.1833, 0.6451,\n",
       "          0.9235, 0.8745, 0.0020, 0.0000, 0.0000, 0.0000],\n",
       "         [0.0000, 0.0000, 0.0000, 0.0000, 0.0873, 0.5922, 0.9608, 0.9382,\n",
       "          0.5265, 0.0765, 0.0000, 0.0000, 0.0000, 0.0000],\n",
       "         [0.0000, 0.0000, 0.2225, 0.6549, 0.9588, 0.9833, 0.5804, 0.0873,\n",
       "          0.0000, 0.0000, 0.0000, 0.0000, 0.0000, 0.0000],\n",
       "         [0.0000, 0.0000, 0.3814, 0.4961, 0.3402, 0.1451, 0.0000, 0.0000,\n",
       "          0.0000, 0.0000, 0.0000, 0.0000, 0.0000, 0.0000],\n",
       "         [0.0000, 0.0000, 0.0000, 0.0000, 0.0000, 0.0000, 0.0000, 0.0000,\n",
       "          0.0000, 0.0000, 0.0000, 0.0000, 0.0000, 0.0000]]])"
      ]
     },
     "execution_count": 5,
     "metadata": {},
     "output_type": "execute_result"
    }
   ],
   "source": [
    "train_data[0][0]"
   ]
  },
  {
   "cell_type": "code",
   "execution_count": 6,
   "id": "bc4b42d2",
   "metadata": {},
   "outputs": [
    {
     "data": {
      "text/plain": [
       "torch.Size([1, 14, 14])"
      ]
     },
     "execution_count": 6,
     "metadata": {},
     "output_type": "execute_result"
    }
   ],
   "source": [
    "# Prints the entire dataset\n",
    "train_data[0][0].shape"
   ]
  },
  {
   "cell_type": "code",
   "execution_count": 7,
   "id": "811d6264",
   "metadata": {},
   "outputs": [
    {
     "data": {
      "text/plain": [
       "tensor([[0.0000, 0.0000, 0.0000, 0.0000, 0.0000, 0.0000, 0.0000, 0.0000, 0.0000,\n",
       "         0.0000, 0.0000, 0.0000, 0.0000, 0.0000],\n",
       "        [0.0000, 0.0000, 0.0000, 0.0000, 0.0000, 0.0000, 0.0000, 0.0000, 0.0000,\n",
       "         0.0000, 0.0000, 0.0000, 0.0000, 0.0000],\n",
       "        [0.0000, 0.0000, 0.0000, 0.0000, 0.0000, 0.0000, 0.0206, 0.0353, 0.2569,\n",
       "         0.1971, 0.4127, 0.3667, 0.0000, 0.0000],\n",
       "        [0.0000, 0.0000, 0.0000, 0.0480, 0.5461, 0.7392, 0.9108, 0.9922, 0.9902,\n",
       "         0.5608, 0.6206, 0.2922, 0.0000, 0.0000],\n",
       "        [0.0000, 0.0000, 0.0000, 0.0176, 0.6941, 0.8490, 0.9451, 0.3833, 0.6716,\n",
       "         0.0000, 0.0000, 0.0000, 0.0000, 0.0000],\n",
       "        [0.0000, 0.0000, 0.0000, 0.0000, 0.0137, 0.2882, 0.7706, 0.0020, 0.0000,\n",
       "         0.0000, 0.0000, 0.0000, 0.0000, 0.0000],\n",
       "        [0.0000, 0.0000, 0.0000, 0.0000, 0.0000, 0.0108, 0.7049, 0.4461, 0.1069,\n",
       "         0.0000, 0.0000, 0.0000, 0.0000, 0.0000],\n",
       "        [0.0000, 0.0000, 0.0000, 0.0000, 0.0000, 0.0000, 0.0794, 0.7098, 0.8608,\n",
       "         0.1980, 0.0000, 0.0000, 0.0000, 0.0000],\n",
       "        [0.0000, 0.0000, 0.0000, 0.0000, 0.0000, 0.0000, 0.0000, 0.0157, 0.5824,\n",
       "         0.9235, 0.0627, 0.0000, 0.0000, 0.0000],\n",
       "        [0.0000, 0.0000, 0.0000, 0.0000, 0.0000, 0.0000, 0.1833, 0.6451, 0.9235,\n",
       "         0.8745, 0.0020, 0.0000, 0.0000, 0.0000],\n",
       "        [0.0000, 0.0000, 0.0000, 0.0000, 0.0873, 0.5922, 0.9608, 0.9382, 0.5265,\n",
       "         0.0765, 0.0000, 0.0000, 0.0000, 0.0000],\n",
       "        [0.0000, 0.0000, 0.2225, 0.6549, 0.9588, 0.9833, 0.5804, 0.0873, 0.0000,\n",
       "         0.0000, 0.0000, 0.0000, 0.0000, 0.0000],\n",
       "        [0.0000, 0.0000, 0.3814, 0.4961, 0.3402, 0.1451, 0.0000, 0.0000, 0.0000,\n",
       "         0.0000, 0.0000, 0.0000, 0.0000, 0.0000],\n",
       "        [0.0000, 0.0000, 0.0000, 0.0000, 0.0000, 0.0000, 0.0000, 0.0000, 0.0000,\n",
       "         0.0000, 0.0000, 0.0000, 0.0000, 0.0000]])"
      ]
     },
     "execution_count": 7,
     "metadata": {},
     "output_type": "execute_result"
    }
   ],
   "source": [
    "# Prints one image\n",
    "train_data[0][0][0]"
   ]
  },
  {
   "cell_type": "code",
   "execution_count": 8,
   "id": "025495f2",
   "metadata": {},
   "outputs": [
    {
     "data": {
      "text/plain": [
       "tensor([0., 0., 0., 0., 0., 0., 0., 0., 0., 0., 0., 0., 0., 0.])"
      ]
     },
     "execution_count": 8,
     "metadata": {},
     "output_type": "execute_result"
    }
   ],
   "source": [
    "# Prints one array of pixels (not the entire image)\n",
    "train_data[0][0][0][0]"
   ]
  },
  {
   "cell_type": "code",
   "execution_count": 9,
   "id": "e9bf47c1",
   "metadata": {},
   "outputs": [
    {
     "data": {
      "text/plain": [
       "<matplotlib.image.AxesImage at 0x7fe5473b3320>"
      ]
     },
     "execution_count": 9,
     "metadata": {},
     "output_type": "execute_result"
    },
    {
     "data": {
      "image/png": "[encoded data removed]",
      "text/plain": [
       "<Figure size 432x288 with 1 Axes>"
      ]
     },
     "metadata": {
      "needs_background": "light"
     },
     "output_type": "display_data"
    }
   ],
   "source": [
    "plt.imshow(train_data[1][0][0])"
   ]
  },
  {
   "cell_type": "code",
   "execution_count": 10,
   "id": "b2fb67e3",
   "metadata": {},
   "outputs": [
    {
     "data": {
      "text/plain": [
       "tensor([[[  0,   0,   0,  ...,   0,   0,   0],\n",
       "         [  0,   0,   0,  ...,   0,   0,   0],\n",
       "         [  0,   0,   0,  ...,  94,   0,   0],\n",
       "         ...,\n",
       "         [  0,   0,  57,  ...,   0,   0,   0],\n",
       "         [  0,   0,  97,  ...,   0,   0,   0],\n",
       "         [  0,   0,   0,  ...,   0,   0,   0]],\n",
       "\n",
       "        [[  0,   0,   0,  ...,   0,   0,   0],\n",
       "         [  0,   0,   0,  ...,   0,   0,   0],\n",
       "         [  0,   0,   0,  ...,   0,   0,   0],\n",
       "         ...,\n",
       "         [  0,   0,   0,  ...,   0,   0,   0],\n",
       "         [  0,   0,   0,  ...,   0,   0,   0],\n",
       "         [  0,   0,   0,  ...,   0,   0,   0]],\n",
       "\n",
       "        [[  0,   0,   0,  ...,   0,   0,   0],\n",
       "         [  0,   0,   0,  ...,   0,   0,   0],\n",
       "         [  0,   0,   0,  ...,  10,   0,   0],\n",
       "         ...,\n",
       "         [  0,   0,   0,  ...,   0,   0,   0],\n",
       "         [  0,   0,   0,  ...,   0,   0,   0],\n",
       "         [  0,   0,   0,  ...,   0,   0,   0]],\n",
       "\n",
       "        ...,\n",
       "\n",
       "        [[  0,   0,   0,  ...,   0,   0,   0],\n",
       "         [  0,   0,   0,  ...,   0,   0,   0],\n",
       "         [  0,   0,   0,  ..., 128,  30,   0],\n",
       "         ...,\n",
       "         [  0,   0,  78,  ...,   0,   0,   0],\n",
       "         [  0,   0,   0,  ...,   0,   0,   0],\n",
       "         [  0,   0,   0,  ...,   0,   0,   0]],\n",
       "\n",
       "        [[  0,   0,   0,  ...,   0,   0,   0],\n",
       "         [  0,   0,   0,  ...,   0,   0,   0],\n",
       "         [  0,   0,   0,  ...,   0,   0,   0],\n",
       "         ...,\n",
       "         [  0,   0,   0,  ...,   0,   0,   0],\n",
       "         [  0,   0,   0,  ...,   0,   0,   0],\n",
       "         [  0,   0,   0,  ...,   0,   0,   0]],\n",
       "\n",
       "        [[  0,   0,   0,  ...,   0,   0,   0],\n",
       "         [  0,   0,   0,  ...,   0,   0,   0],\n",
       "         [  0,   0,   0,  ...,   0,   0,   0],\n",
       "         ...,\n",
       "         [  0,   0,   0,  ...,   0,   0,   0],\n",
       "         [  0,   0,   0,  ...,   0,   0,   0],\n",
       "         [  0,   0,   0,  ...,   0,   0,   0]]], dtype=torch.uint8)"
      ]
     },
     "execution_count": 10,
     "metadata": {},
     "output_type": "execute_result"
    }
   ],
   "source": [
    "transforms.Resize(size=14)(train_data.data)"
   ]
  },
  {
   "cell_type": "code",
   "execution_count": 11,
   "id": "0c89ac88",
   "metadata": {},
   "outputs": [
    {
     "data": {
      "text/plain": [
       "torchvision.datasets.mnist.MNIST"
      ]
     },
     "execution_count": 11,
     "metadata": {},
     "output_type": "execute_result"
    }
   ],
   "source": [
    "type(train_data)"
   ]
  },
  {
   "cell_type": "code",
   "execution_count": 12,
   "id": "c91f859f",
   "metadata": {},
   "outputs": [
    {
     "name": "stderr",
     "output_type": "stream",
     "text": [
      "/Users/cristianespinosa/opt/anaconda3/envs/tensor/lib/python3.6/site-packages/torchvision/datasets/mnist.py:62: UserWarning: train_data has been renamed data\n",
      "  warnings.warn(\"train_data has been renamed data\")\n"
     ]
    },
    {
     "data": {
      "text/plain": [
       "<matplotlib.image.AxesImage at 0x7fe548131080>"
      ]
     },
     "execution_count": 12,
     "metadata": {},
     "output_type": "execute_result"
    },
    {
     "data": {
      "image/png": "[encoded data removed]",
      "text/plain": [
       "<Figure size 432x288 with 1 Axes>"
      ]
     },
     "metadata": {
      "needs_background": "light"
     },
     "output_type": "display_data"
    }
   ],
   "source": [
    "plt.imshow(train_data.train_data[0])"
   ]
  },
  {
   "cell_type": "code",
   "execution_count": 13,
   "id": "4ad3acad",
   "metadata": {},
   "outputs": [],
   "source": [
    "# Resize(size[, interpolation, max_size, …])"
   ]
  },
  {
   "cell_type": "code",
   "execution_count": 14,
   "id": "42b6b63f",
   "metadata": {},
   "outputs": [
    {
     "name": "stderr",
     "output_type": "stream",
     "text": [
      "/Users/cristianespinosa/opt/anaconda3/envs/tensor/lib/python3.6/site-packages/torchvision/datasets/mnist.py:62: UserWarning: train_data has been renamed data\n",
      "  warnings.warn(\"train_data has been renamed data\")\n"
     ]
    },
    {
     "data": {
      "text/plain": [
       "<matplotlib.image.AxesImage at 0x7fe532d05e10>"
      ]
     },
     "execution_count": 14,
     "metadata": {},
     "output_type": "execute_result"
    },
    {
     "data": {
      "image/png": "[encoded data removed]",
      "text/plain": [
       "<Figure size 432x288 with 1 Axes>"
      ]
     },
     "metadata": {
      "needs_background": "light"
     },
     "output_type": "display_data"
    }
   ],
   "source": [
    "resized = transforms.Resize(size=14)(train_data.train_data)\n",
    "plt.imshow(resized[0])"
   ]
  },
  {
   "cell_type": "code",
   "execution_count": 15,
   "id": "651db763",
   "metadata": {},
   "outputs": [
    {
     "data": {
      "text/plain": [
       "torch.Tensor"
      ]
     },
     "execution_count": 15,
     "metadata": {},
     "output_type": "execute_result"
    }
   ],
   "source": [
    "type(resized)"
   ]
  },
  {
   "cell_type": "code",
   "execution_count": 16,
   "id": "feb099b7",
   "metadata": {},
   "outputs": [
    {
     "name": "stderr",
     "output_type": "stream",
     "text": [
      "/Users/cristianespinosa/opt/anaconda3/envs/tensor/lib/python3.6/site-packages/torchvision/datasets/mnist.py:62: UserWarning: train_data has been renamed data\n",
      "  warnings.warn(\"train_data has been renamed data\")\n"
     ]
    }
   ],
   "source": [
    "resized_28 = transforms.Resize(size=28)(train_data.train_data)\n",
    "resized_14 = transforms.Resize(size=14)(train_data.train_data)\n",
    "resized_7 = transforms.Resize(size=7)(train_data.train_data)\n",
    "resized_4 = transforms.Resize(size=4)(train_data.train_data)"
   ]
  },
  {
   "cell_type": "code",
   "execution_count": 17,
   "id": "ff886808",
   "metadata": {},
   "outputs": [
    {
     "data": {
      "text/plain": [
       "<matplotlib.image.AxesImage at 0x7fe50f8b6e48>"
      ]
     },
     "execution_count": 17,
     "metadata": {},
     "output_type": "execute_result"
    },
    {
     "data": {
      "image/png": "[encoded data removed]",
      "text/plain": [
       "<Figure size 432x288 with 4 Axes>"
      ]
     },
     "metadata": {
      "needs_background": "light"
     },
     "output_type": "display_data"
    }
   ],
   "source": [
    "f, axarr = plt.subplots(1,4)\n",
    "axarr[0].imshow(resized_28[0])\n",
    "axarr[1].imshow(resized_14[0])\n",
    "axarr[2].imshow(resized_7[0])\n",
    "axarr[3].imshow(resized_4[0])"
   ]
  },
  {
   "cell_type": "markdown",
   "id": "f9963265",
   "metadata": {},
   "source": [
    "<h1>Using Pytorch's Data loaders to feed data into CNN</h1>"
   ]
  },
  {
   "cell_type": "code",
   "execution_count": 18,
   "id": "2388d129",
   "metadata": {},
   "outputs": [
    {
     "data": {
      "text/plain": [
       "{'train': <torch.utils.data.dataloader.DataLoader at 0x7fe522c1dda0>,\n",
       " 'test': <torch.utils.data.dataloader.DataLoader at 0x7fe545ecd080>}"
      ]
     },
     "execution_count": 18,
     "metadata": {},
     "output_type": "execute_result"
    }
   ],
   "source": [
    "loaders = {\n",
    "    'train' : torch.utils.data.DataLoader(train_data, \n",
    "                                          batch_size=100, \n",
    "                                          shuffle=True, \n",
    "                                          num_workers=1),\n",
    "    \n",
    "    'test'  : torch.utils.data.DataLoader(test_data, \n",
    "                                          batch_size=100, \n",
    "                                          shuffle=True, \n",
    "                                          num_workers=1),\n",
    "}\n",
    "loaders"
   ]
  },
  {
   "cell_type": "markdown",
   "id": "65072918",
   "metadata": {},
   "source": [
    "<h1>Defining the CNN</h1>"
   ]
  },
  {
   "cell_type": "code",
   "execution_count": 19,
   "id": "c01124f9",
   "metadata": {},
   "outputs": [],
   "source": [
    "class CNN(nn.Module):\n",
    "    def __init__(self):\n",
    "        super(CNN, self).__init__()\n",
    "        '''\n",
    "        Goes through two layers of 2D convolutions, each followed by a 2x2 max pooling\n",
    "        \n",
    "        Dimensions:\n",
    "        1.) Input Shape:          [batch_size, 1, 14, 14]\n",
    "        \n",
    "        2.) After conv:           [batch_size, 4, 12, 12]\n",
    "            After max pooling:    [batch_size, 4, 6, 6]\n",
    "        \n",
    "        3.) After conv:           [batch_size, 8, 4, 4]\n",
    "            After max pooling:    [batch_size, 8, 2, 2]\n",
    "            \n",
    "        4.) After flattening:     [batch_size, 8 * 2 * 2]\n",
    "        '''\n",
    "        self.conv1 = nn.Sequential(         \n",
    "            nn.Conv2d(\n",
    "                in_channels=1,              \n",
    "                out_channels=4,            \n",
    "                kernel_size=3,              \n",
    "                stride=1,                   \n",
    "                padding=0,                  \n",
    "            ),                              \n",
    "            nn.ReLU(),                      \n",
    "            nn.MaxPool2d(kernel_size=2),    \n",
    "        )\n",
    "        self.conv2 = nn.Sequential(         \n",
    "            nn.Conv2d(4, 8, 3, 1, 0),     \n",
    "            nn.ReLU(),                      \n",
    "            nn.MaxPool2d(2),                \n",
    "        )\n",
    "        # fully connected layer, output 10 classes\n",
    "        self.out = nn.Linear(8 * 2 * 2, 10)\n",
    "        \n",
    "    def forward(self, x):\n",
    "        x = self.conv1(x)\n",
    "        x = self.conv2(x)\n",
    "        # flatten the output of conv2 to (batch_size, 16 * 8 * 8)\n",
    "        x = x.view(x.size(0), -1)       \n",
    "        output = self.out(x)\n",
    "        return output, x    # return x for visualization\n",
    "    \n",
    "    \n",
    "    def compute_sizes(in_size, ker_size, padding, stride):\n",
    "        pass"
   ]
  },
  {
   "cell_type": "code",
   "execution_count": 20,
   "id": "fe59cb9a",
   "metadata": {},
   "outputs": [
    {
     "name": "stdout",
     "output_type": "stream",
     "text": [
      "CNN(\n",
      "  (conv1): Sequential(\n",
      "    (0): Conv2d(1, 4, kernel_size=(3, 3), stride=(1, 1))\n",
      "    (1): ReLU()\n",
      "    (2): MaxPool2d(kernel_size=2, stride=2, padding=0, dilation=1, ceil_mode=False)\n",
      "  )\n",
      "  (conv2): Sequential(\n",
      "    (0): Conv2d(4, 8, kernel_size=(3, 3), stride=(1, 1))\n",
      "    (1): ReLU()\n",
      "    (2): MaxPool2d(kernel_size=2, stride=2, padding=0, dilation=1, ceil_mode=False)\n",
      "  )\n",
      "  (out): Linear(in_features=32, out_features=10, bias=True)\n",
      ")\n"
     ]
    }
   ],
   "source": [
    "cnn = CNN()\n",
    "print(cnn)"
   ]
  },
  {
   "cell_type": "code",
   "execution_count": 21,
   "id": "62626944",
   "metadata": {},
   "outputs": [
    {
     "name": "stdout",
     "output_type": "stream",
     "text": [
      "CrossEntropyLoss()\n",
      "Adam (\n",
      "Parameter Group 0\n",
      "    amsgrad: False\n",
      "    betas: (0.9, 0.999)\n",
      "    eps: 1e-08\n",
      "    lr: 1e-05\n",
      "    weight_decay: 0\n",
      ")\n"
     ]
    }
   ],
   "source": [
    "loss_func = nn.CrossEntropyLoss(); print(loss_func)   \n",
    "optimizer = torch.optim.Adam(cnn.parameters(), lr= 1e-5); print(optimizer)"
   ]
  },
  {
   "cell_type": "markdown",
   "id": "abba8cd7",
   "metadata": {},
   "source": [
    "<h1>Training the CNN</h1>\n",
    "<div>Error source may be that the dataset resized_28 doesn't have 'labels', just 'images' ---> (for i, (images, labels))</div>"
   ]
  },
  {
   "cell_type": "code",
   "execution_count": 47,
   "id": "b2ce80d6",
   "metadata": {
    "scrolled": true
   },
   "outputs": [
    {
     "name": "stdout",
     "output_type": "stream",
     "text": [
      "Epoch [1/50], Step [100/600], Loss: 0.6881, Accuracy: 0.8100\n",
      "Epoch [1/50], Step [200/600], Loss: 0.6615, Accuracy: 0.8500\n",
      "Epoch [1/50], Step [300/600], Loss: 0.6282, Accuracy: 0.8300\n",
      "Epoch [1/50], Step [400/600], Loss: 0.6614, Accuracy: 0.8200\n",
      "Epoch [1/50], Step [500/600], Loss: 0.6791, Accuracy: 0.8100\n",
      "Epoch [1/50], Step [600/600], Loss: 0.5111, Accuracy: 0.8700\n",
      "Epoch [2/50], Step [100/600], Loss: 0.7204, Accuracy: 0.7900\n",
      "Epoch [2/50], Step [200/600], Loss: 0.5425, Accuracy: 0.8500\n",
      "Epoch [2/50], Step [300/600], Loss: 0.5633, Accuracy: 0.8500\n",
      "Epoch [2/50], Step [400/600], Loss: 0.6458, Accuracy: 0.8200\n",
      "Epoch [2/50], Step [500/600], Loss: 0.5753, Accuracy: 0.8600\n",
      "Epoch [2/50], Step [600/600], Loss: 0.5971, Accuracy: 0.8300\n",
      "Epoch [3/50], Step [100/600], Loss: 0.7129, Accuracy: 0.7700\n",
      "Epoch [3/50], Step [200/600], Loss: 0.7134, Accuracy: 0.8000\n",
      "Epoch [3/50], Step [300/600], Loss: 0.6156, Accuracy: 0.7800\n",
      "Epoch [3/50], Step [400/600], Loss: 0.6268, Accuracy: 0.8600\n",
      "Epoch [3/50], Step [500/600], Loss: 0.7595, Accuracy: 0.7500\n",
      "Epoch [3/50], Step [600/600], Loss: 0.5497, Accuracy: 0.8500\n",
      "Epoch [4/50], Step [100/600], Loss: 0.4992, Accuracy: 0.8700\n",
      "Epoch [4/50], Step [200/600], Loss: 0.7466, Accuracy: 0.8100\n",
      "Epoch [4/50], Step [300/600], Loss: 0.7842, Accuracy: 0.7800\n",
      "Epoch [4/50], Step [400/600], Loss: 0.6261, Accuracy: 0.8100\n",
      "Epoch [4/50], Step [500/600], Loss: 0.6151, Accuracy: 0.8200\n",
      "Epoch [4/50], Step [600/600], Loss: 0.6218, Accuracy: 0.8200\n",
      "Epoch [5/50], Step [100/600], Loss: 0.7116, Accuracy: 0.8100\n",
      "Epoch [5/50], Step [200/600], Loss: 0.6006, Accuracy: 0.8200\n",
      "Epoch [5/50], Step [300/600], Loss: 0.6614, Accuracy: 0.7800\n",
      "Epoch [5/50], Step [400/600], Loss: 0.4459, Accuracy: 0.9200\n",
      "Epoch [5/50], Step [500/600], Loss: 0.6186, Accuracy: 0.8000\n",
      "Epoch [5/50], Step [600/600], Loss: 0.5410, Accuracy: 0.8300\n",
      "Epoch [6/50], Step [100/600], Loss: 0.7872, Accuracy: 0.7700\n",
      "Epoch [6/50], Step [200/600], Loss: 0.5500, Accuracy: 0.8300\n",
      "Epoch [6/50], Step [300/600], Loss: 0.5661, Accuracy: 0.8500\n",
      "Epoch [6/50], Step [400/600], Loss: 0.5574, Accuracy: 0.8400\n",
      "Epoch [6/50], Step [500/600], Loss: 0.5894, Accuracy: 0.8100\n",
      "Epoch [6/50], Step [600/600], Loss: 0.5165, Accuracy: 0.8600\n",
      "Epoch [7/50], Step [100/600], Loss: 0.6468, Accuracy: 0.8100\n",
      "Epoch [7/50], Step [200/600], Loss: 0.6854, Accuracy: 0.8100\n",
      "Epoch [7/50], Step [300/600], Loss: 0.6216, Accuracy: 0.8100\n",
      "Epoch [7/50], Step [400/600], Loss: 0.6039, Accuracy: 0.8300\n",
      "Epoch [7/50], Step [500/600], Loss: 0.4929, Accuracy: 0.9000\n",
      "Epoch [7/50], Step [600/600], Loss: 0.5561, Accuracy: 0.8100\n",
      "Epoch [8/50], Step [100/600], Loss: 0.3946, Accuracy: 0.9000\n",
      "Epoch [8/50], Step [200/600], Loss: 0.6653, Accuracy: 0.8700\n",
      "Epoch [8/50], Step [300/600], Loss: 0.6969, Accuracy: 0.8300\n",
      "Epoch [8/50], Step [400/600], Loss: 0.5860, Accuracy: 0.8200\n",
      "Epoch [8/50], Step [500/600], Loss: 0.4909, Accuracy: 0.8200\n",
      "Epoch [8/50], Step [600/600], Loss: 0.5306, Accuracy: 0.8400\n",
      "Epoch [9/50], Step [100/600], Loss: 0.7428, Accuracy: 0.8100\n",
      "Epoch [9/50], Step [200/600], Loss: 0.5343, Accuracy: 0.8400\n",
      "Epoch [9/50], Step [300/600], Loss: 0.5296, Accuracy: 0.8500\n",
      "Epoch [9/50], Step [400/600], Loss: 0.3928, Accuracy: 0.9500\n",
      "Epoch [9/50], Step [500/600], Loss: 0.5164, Accuracy: 0.8600\n",
      "Epoch [9/50], Step [600/600], Loss: 0.6466, Accuracy: 0.8200\n",
      "Epoch [10/50], Step [100/600], Loss: 0.5905, Accuracy: 0.8600\n",
      "Epoch [10/50], Step [200/600], Loss: 0.5682, Accuracy: 0.8700\n",
      "Epoch [10/50], Step [300/600], Loss: 0.6354, Accuracy: 0.8200\n",
      "Epoch [10/50], Step [400/600], Loss: 0.6203, Accuracy: 0.8000\n",
      "Epoch [10/50], Step [500/600], Loss: 0.6106, Accuracy: 0.7900\n",
      "Epoch [10/50], Step [600/600], Loss: 0.5631, Accuracy: 0.8300\n",
      "Epoch [11/50], Step [100/600], Loss: 0.6101, Accuracy: 0.8100\n",
      "Epoch [11/50], Step [200/600], Loss: 0.6317, Accuracy: 0.8200\n",
      "Epoch [11/50], Step [300/600], Loss: 0.5642, Accuracy: 0.8500\n",
      "Epoch [11/50], Step [400/600], Loss: 0.4917, Accuracy: 0.8700\n",
      "Epoch [11/50], Step [500/600], Loss: 0.5581, Accuracy: 0.8400\n",
      "Epoch [11/50], Step [600/600], Loss: 0.7041, Accuracy: 0.8000\n",
      "Epoch [12/50], Step [100/600], Loss: 0.5538, Accuracy: 0.8600\n",
      "Epoch [12/50], Step [200/600], Loss: 0.5712, Accuracy: 0.8500\n",
      "Epoch [12/50], Step [300/600], Loss: 0.5149, Accuracy: 0.8700\n",
      "Epoch [12/50], Step [400/600], Loss: 0.5626, Accuracy: 0.8600\n",
      "Epoch [12/50], Step [500/600], Loss: 0.7183, Accuracy: 0.8000\n",
      "Epoch [12/50], Step [600/600], Loss: 0.6115, Accuracy: 0.8300\n",
      "Epoch [13/50], Step [100/600], Loss: 0.6859, Accuracy: 0.8400\n",
      "Epoch [13/50], Step [200/600], Loss: 0.6710, Accuracy: 0.7400\n",
      "Epoch [13/50], Step [300/600], Loss: 0.4301, Accuracy: 0.8800\n",
      "Epoch [13/50], Step [400/600], Loss: 0.5778, Accuracy: 0.8200\n",
      "Epoch [13/50], Step [500/600], Loss: 0.5764, Accuracy: 0.8100\n",
      "Epoch [13/50], Step [600/600], Loss: 0.4520, Accuracy: 0.8800\n",
      "Epoch [14/50], Step [100/600], Loss: 0.4772, Accuracy: 0.8700\n",
      "Epoch [14/50], Step [200/600], Loss: 0.5345, Accuracy: 0.8500\n",
      "Epoch [14/50], Step [300/600], Loss: 0.5755, Accuracy: 0.8200\n",
      "Epoch [14/50], Step [400/600], Loss: 0.6888, Accuracy: 0.7900\n",
      "Epoch [14/50], Step [500/600], Loss: 0.6216, Accuracy: 0.8400\n",
      "Epoch [14/50], Step [600/600], Loss: 0.4752, Accuracy: 0.8900\n",
      "Epoch [15/50], Step [100/600], Loss: 0.5798, Accuracy: 0.8300\n",
      "Epoch [15/50], Step [200/600], Loss: 0.4923, Accuracy: 0.8900\n",
      "Epoch [15/50], Step [300/600], Loss: 0.4768, Accuracy: 0.8500\n",
      "Epoch [15/50], Step [400/600], Loss: 0.5257, Accuracy: 0.9100\n",
      "Epoch [15/50], Step [500/600], Loss: 0.5162, Accuracy: 0.8200\n",
      "Epoch [15/50], Step [600/600], Loss: 0.4547, Accuracy: 0.8600\n",
      "Epoch [16/50], Step [100/600], Loss: 0.6325, Accuracy: 0.7800\n",
      "Epoch [16/50], Step [200/600], Loss: 0.5947, Accuracy: 0.8400\n",
      "Epoch [16/50], Step [300/600], Loss: 0.5222, Accuracy: 0.8400\n",
      "Epoch [16/50], Step [400/600], Loss: 0.5813, Accuracy: 0.8300\n",
      "Epoch [16/50], Step [500/600], Loss: 0.5266, Accuracy: 0.8200\n",
      "Epoch [16/50], Step [600/600], Loss: 0.4964, Accuracy: 0.8400\n",
      "Epoch [17/50], Step [100/600], Loss: 0.6527, Accuracy: 0.8300\n",
      "Epoch [17/50], Step [200/600], Loss: 0.5567, Accuracy: 0.8900\n",
      "Epoch [17/50], Step [300/600], Loss: 0.5871, Accuracy: 0.8600\n",
      "Epoch [17/50], Step [400/600], Loss: 0.5928, Accuracy: 0.8400\n",
      "Epoch [17/50], Step [500/600], Loss: 0.3813, Accuracy: 0.8900\n",
      "Epoch [17/50], Step [600/600], Loss: 0.6204, Accuracy: 0.8100\n",
      "Epoch [18/50], Step [100/600], Loss: 0.4629, Accuracy: 0.8500\n",
      "Epoch [18/50], Step [200/600], Loss: 0.8425, Accuracy: 0.8100\n",
      "Epoch [18/50], Step [300/600], Loss: 0.5530, Accuracy: 0.8100\n",
      "Epoch [18/50], Step [400/600], Loss: 0.4379, Accuracy: 0.8600\n",
      "Epoch [18/50], Step [500/600], Loss: 0.5937, Accuracy: 0.8200\n",
      "Epoch [18/50], Step [600/600], Loss: 0.5736, Accuracy: 0.8300\n",
      "Epoch [19/50], Step [100/600], Loss: 0.6538, Accuracy: 0.7800\n",
      "Epoch [19/50], Step [200/600], Loss: 0.5714, Accuracy: 0.8500\n",
      "Epoch [19/50], Step [300/600], Loss: 0.5386, Accuracy: 0.8600\n",
      "Epoch [19/50], Step [400/600], Loss: 0.5166, Accuracy: 0.8700\n",
      "Epoch [19/50], Step [500/600], Loss: 0.6156, Accuracy: 0.8600\n",
      "Epoch [19/50], Step [600/600], Loss: 0.5423, Accuracy: 0.8500\n",
      "Epoch [20/50], Step [100/600], Loss: 0.5203, Accuracy: 0.8500\n",
      "Epoch [20/50], Step [200/600], Loss: 0.5996, Accuracy: 0.8300\n",
      "Epoch [20/50], Step [300/600], Loss: 0.4641, Accuracy: 0.8600\n",
      "Epoch [20/50], Step [400/600], Loss: 0.7250, Accuracy: 0.7000\n",
      "Epoch [20/50], Step [500/600], Loss: 0.6079, Accuracy: 0.8400\n",
      "Epoch [20/50], Step [600/600], Loss: 0.7462, Accuracy: 0.7800\n",
      "Epoch [21/50], Step [100/600], Loss: 0.6139, Accuracy: 0.7800\n",
      "Epoch [21/50], Step [200/600], Loss: 0.4522, Accuracy: 0.8900\n",
      "Epoch [21/50], Step [300/600], Loss: 0.5313, Accuracy: 0.8200\n",
      "Epoch [21/50], Step [400/600], Loss: 0.3617, Accuracy: 0.9100\n",
      "Epoch [21/50], Step [500/600], Loss: 0.5100, Accuracy: 0.8500\n",
      "Epoch [21/50], Step [600/600], Loss: 0.4244, Accuracy: 0.8800\n",
      "Epoch [22/50], Step [100/600], Loss: 0.4658, Accuracy: 0.8800\n",
      "Epoch [22/50], Step [200/600], Loss: 0.4770, Accuracy: 0.8800\n",
      "Epoch [22/50], Step [300/600], Loss: 0.4959, Accuracy: 0.8800\n",
      "Epoch [22/50], Step [400/600], Loss: 0.3703, Accuracy: 0.9000\n",
      "Epoch [22/50], Step [500/600], Loss: 0.5597, Accuracy: 0.8600\n",
      "Epoch [22/50], Step [600/600], Loss: 0.3312, Accuracy: 0.9300\n",
      "Epoch [23/50], Step [100/600], Loss: 0.5027, Accuracy: 0.8600\n",
      "Epoch [23/50], Step [200/600], Loss: 0.4036, Accuracy: 0.9100\n"
     ]
    },
    {
     "name": "stdout",
     "output_type": "stream",
     "text": [
      "Epoch [23/50], Step [300/600], Loss: 0.4752, Accuracy: 0.8700\n",
      "Epoch [23/50], Step [400/600], Loss: 0.4955, Accuracy: 0.8600\n",
      "Epoch [23/50], Step [500/600], Loss: 0.5197, Accuracy: 0.8600\n",
      "Epoch [23/50], Step [600/600], Loss: 0.4371, Accuracy: 0.8800\n",
      "Epoch [24/50], Step [100/600], Loss: 0.4788, Accuracy: 0.8600\n",
      "Epoch [24/50], Step [200/600], Loss: 0.6126, Accuracy: 0.8400\n",
      "Epoch [24/50], Step [300/600], Loss: 0.4405, Accuracy: 0.9100\n",
      "Epoch [24/50], Step [400/600], Loss: 0.5452, Accuracy: 0.8700\n",
      "Epoch [24/50], Step [500/600], Loss: 0.5558, Accuracy: 0.8500\n",
      "Epoch [24/50], Step [600/600], Loss: 0.3858, Accuracy: 0.9200\n",
      "Epoch [25/50], Step [100/600], Loss: 0.3376, Accuracy: 0.9200\n",
      "Epoch [25/50], Step [200/600], Loss: 0.4196, Accuracy: 0.8700\n",
      "Epoch [25/50], Step [300/600], Loss: 0.4033, Accuracy: 0.9000\n",
      "Epoch [25/50], Step [400/600], Loss: 0.5606, Accuracy: 0.8500\n",
      "Epoch [25/50], Step [500/600], Loss: 0.5015, Accuracy: 0.8800\n",
      "Epoch [25/50], Step [600/600], Loss: 0.6461, Accuracy: 0.8300\n",
      "Epoch [26/50], Step [100/600], Loss: 0.5793, Accuracy: 0.8300\n",
      "Epoch [26/50], Step [200/600], Loss: 0.5342, Accuracy: 0.8300\n",
      "Epoch [26/50], Step [300/600], Loss: 0.4227, Accuracy: 0.9100\n",
      "Epoch [26/50], Step [400/600], Loss: 0.4294, Accuracy: 0.9200\n",
      "Epoch [26/50], Step [500/600], Loss: 0.6533, Accuracy: 0.7900\n",
      "Epoch [26/50], Step [600/600], Loss: 0.6290, Accuracy: 0.8500\n",
      "Epoch [27/50], Step [100/600], Loss: 0.3726, Accuracy: 0.8900\n",
      "Epoch [27/50], Step [200/600], Loss: 0.5083, Accuracy: 0.8600\n",
      "Epoch [27/50], Step [300/600], Loss: 0.5064, Accuracy: 0.8200\n",
      "Epoch [27/50], Step [400/600], Loss: 0.5790, Accuracy: 0.8300\n",
      "Epoch [27/50], Step [500/600], Loss: 0.5380, Accuracy: 0.8200\n",
      "Epoch [27/50], Step [600/600], Loss: 0.4995, Accuracy: 0.8500\n",
      "Epoch [28/50], Step [100/600], Loss: 0.5063, Accuracy: 0.8700\n",
      "Epoch [28/50], Step [200/600], Loss: 0.4166, Accuracy: 0.9300\n",
      "Epoch [28/50], Step [300/600], Loss: 0.5237, Accuracy: 0.8500\n",
      "Epoch [28/50], Step [400/600], Loss: 0.3972, Accuracy: 0.9000\n",
      "Epoch [28/50], Step [500/600], Loss: 0.4622, Accuracy: 0.8300\n",
      "Epoch [28/50], Step [600/600], Loss: 0.7537, Accuracy: 0.8100\n",
      "Epoch [29/50], Step [100/600], Loss: 0.5559, Accuracy: 0.8200\n",
      "Epoch [29/50], Step [200/600], Loss: 0.5224, Accuracy: 0.8800\n",
      "Epoch [29/50], Step [300/600], Loss: 0.5040, Accuracy: 0.8700\n",
      "Epoch [29/50], Step [400/600], Loss: 0.5201, Accuracy: 0.8200\n",
      "Epoch [29/50], Step [500/600], Loss: 0.5539, Accuracy: 0.8100\n",
      "Epoch [29/50], Step [600/600], Loss: 0.3281, Accuracy: 0.9400\n",
      "Epoch [30/50], Step [100/600], Loss: 0.4406, Accuracy: 0.8700\n",
      "Epoch [30/50], Step [200/600], Loss: 0.5681, Accuracy: 0.8200\n",
      "Epoch [30/50], Step [300/600], Loss: 0.5208, Accuracy: 0.8600\n",
      "Epoch [30/50], Step [400/600], Loss: 0.5721, Accuracy: 0.8500\n",
      "Epoch [30/50], Step [500/600], Loss: 0.4964, Accuracy: 0.9000\n",
      "Epoch [30/50], Step [600/600], Loss: 0.3887, Accuracy: 0.9300\n",
      "Epoch [31/50], Step [100/600], Loss: 0.4411, Accuracy: 0.8700\n",
      "Epoch [31/50], Step [200/600], Loss: 0.4205, Accuracy: 0.8800\n",
      "Epoch [31/50], Step [300/600], Loss: 0.4937, Accuracy: 0.8400\n",
      "Epoch [31/50], Step [400/600], Loss: 0.4016, Accuracy: 0.9000\n",
      "Epoch [31/50], Step [500/600], Loss: 0.3745, Accuracy: 0.9000\n",
      "Epoch [31/50], Step [600/600], Loss: 0.6173, Accuracy: 0.8400\n",
      "Epoch [32/50], Step [100/600], Loss: 0.4816, Accuracy: 0.8600\n",
      "Epoch [32/50], Step [200/600], Loss: 0.4220, Accuracy: 0.9000\n",
      "Epoch [32/50], Step [300/600], Loss: 0.5824, Accuracy: 0.8200\n",
      "Epoch [32/50], Step [400/600], Loss: 0.5677, Accuracy: 0.8600\n",
      "Epoch [32/50], Step [500/600], Loss: 0.5543, Accuracy: 0.8900\n",
      "Epoch [32/50], Step [600/600], Loss: 0.4216, Accuracy: 0.9200\n",
      "Epoch [33/50], Step [100/600], Loss: 0.4898, Accuracy: 0.8500\n",
      "Epoch [33/50], Step [200/600], Loss: 0.4624, Accuracy: 0.8600\n",
      "Epoch [33/50], Step [300/600], Loss: 0.5451, Accuracy: 0.8400\n",
      "Epoch [33/50], Step [400/600], Loss: 0.4493, Accuracy: 0.8700\n",
      "Epoch [33/50], Step [500/600], Loss: 0.4321, Accuracy: 0.8600\n",
      "Epoch [33/50], Step [600/600], Loss: 0.5801, Accuracy: 0.8200\n",
      "Epoch [34/50], Step [100/600], Loss: 0.5367, Accuracy: 0.8300\n",
      "Epoch [34/50], Step [200/600], Loss: 0.5162, Accuracy: 0.8800\n",
      "Epoch [34/50], Step [300/600], Loss: 0.3720, Accuracy: 0.9000\n",
      "Epoch [34/50], Step [400/600], Loss: 0.5455, Accuracy: 0.8400\n",
      "Epoch [34/50], Step [500/600], Loss: 0.4190, Accuracy: 0.9100\n",
      "Epoch [34/50], Step [600/600], Loss: 0.4857, Accuracy: 0.8700\n",
      "Epoch [35/50], Step [100/600], Loss: 0.4956, Accuracy: 0.8900\n",
      "Epoch [35/50], Step [200/600], Loss: 0.3897, Accuracy: 0.8700\n",
      "Epoch [35/50], Step [300/600], Loss: 0.3707, Accuracy: 0.8800\n",
      "Epoch [35/50], Step [400/600], Loss: 0.5315, Accuracy: 0.8500\n",
      "Epoch [35/50], Step [500/600], Loss: 0.5556, Accuracy: 0.8200\n",
      "Epoch [35/50], Step [600/600], Loss: 0.4318, Accuracy: 0.9100\n",
      "Epoch [36/50], Step [100/600], Loss: 0.4391, Accuracy: 0.8600\n",
      "Epoch [36/50], Step [200/600], Loss: 0.4854, Accuracy: 0.8400\n",
      "Epoch [36/50], Step [300/600], Loss: 0.4146, Accuracy: 0.8900\n",
      "Epoch [36/50], Step [400/600], Loss: 0.4668, Accuracy: 0.8700\n",
      "Epoch [36/50], Step [500/600], Loss: 0.5197, Accuracy: 0.8300\n",
      "Epoch [36/50], Step [600/600], Loss: 0.4814, Accuracy: 0.8700\n",
      "Epoch [37/50], Step [100/600], Loss: 0.3724, Accuracy: 0.9000\n",
      "Epoch [37/50], Step [200/600], Loss: 0.4022, Accuracy: 0.9000\n",
      "Epoch [37/50], Step [300/600], Loss: 0.4306, Accuracy: 0.8700\n",
      "Epoch [37/50], Step [400/600], Loss: 0.5864, Accuracy: 0.8200\n",
      "Epoch [37/50], Step [500/600], Loss: 0.5680, Accuracy: 0.8200\n",
      "Epoch [37/50], Step [600/600], Loss: 0.4319, Accuracy: 0.8800\n",
      "Epoch [38/50], Step [100/600], Loss: 0.5379, Accuracy: 0.8300\n",
      "Epoch [38/50], Step [200/600], Loss: 0.3756, Accuracy: 0.9000\n",
      "Epoch [38/50], Step [300/600], Loss: 0.4336, Accuracy: 0.8700\n",
      "Epoch [38/50], Step [400/600], Loss: 0.3002, Accuracy: 0.9100\n",
      "Epoch [38/50], Step [500/600], Loss: 0.4410, Accuracy: 0.8600\n",
      "Epoch [38/50], Step [600/600], Loss: 0.4804, Accuracy: 0.8700\n",
      "Epoch [39/50], Step [100/600], Loss: 0.5421, Accuracy: 0.8100\n",
      "Epoch [39/50], Step [200/600], Loss: 0.5401, Accuracy: 0.8300\n",
      "Epoch [39/50], Step [300/600], Loss: 0.4105, Accuracy: 0.8700\n",
      "Epoch [39/50], Step [400/600], Loss: 0.4298, Accuracy: 0.8600\n",
      "Epoch [39/50], Step [500/600], Loss: 0.4439, Accuracy: 0.8800\n",
      "Epoch [39/50], Step [600/600], Loss: 0.4490, Accuracy: 0.8600\n",
      "Epoch [40/50], Step [100/600], Loss: 0.4098, Accuracy: 0.9100\n",
      "Epoch [40/50], Step [200/600], Loss: 0.4505, Accuracy: 0.8500\n",
      "Epoch [40/50], Step [300/600], Loss: 0.4166, Accuracy: 0.8800\n",
      "Epoch [40/50], Step [400/600], Loss: 0.4708, Accuracy: 0.8200\n",
      "Epoch [40/50], Step [500/600], Loss: 0.4918, Accuracy: 0.8800\n",
      "Epoch [40/50], Step [600/600], Loss: 0.5793, Accuracy: 0.8700\n",
      "Epoch [41/50], Step [100/600], Loss: 0.4748, Accuracy: 0.8800\n",
      "Epoch [41/50], Step [200/600], Loss: 0.5975, Accuracy: 0.8500\n",
      "Epoch [41/50], Step [300/600], Loss: 0.5372, Accuracy: 0.8300\n",
      "Epoch [41/50], Step [400/600], Loss: 0.4223, Accuracy: 0.8900\n",
      "Epoch [41/50], Step [500/600], Loss: 0.4378, Accuracy: 0.8700\n",
      "Epoch [41/50], Step [600/600], Loss: 0.4111, Accuracy: 0.8600\n",
      "Epoch [42/50], Step [100/600], Loss: 0.4284, Accuracy: 0.8700\n",
      "Epoch [42/50], Step [200/600], Loss: 0.4497, Accuracy: 0.8400\n",
      "Epoch [42/50], Step [300/600], Loss: 0.7009, Accuracy: 0.7500\n",
      "Epoch [42/50], Step [400/600], Loss: 0.2955, Accuracy: 0.9300\n",
      "Epoch [42/50], Step [500/600], Loss: 0.4342, Accuracy: 0.8700\n",
      "Epoch [42/50], Step [600/600], Loss: 0.3239, Accuracy: 0.9200\n",
      "Epoch [43/50], Step [100/600], Loss: 0.4309, Accuracy: 0.9200\n",
      "Epoch [43/50], Step [200/600], Loss: 0.6121, Accuracy: 0.8300\n",
      "Epoch [43/50], Step [300/600], Loss: 0.5413, Accuracy: 0.8100\n",
      "Epoch [43/50], Step [400/600], Loss: 0.4275, Accuracy: 0.8700\n",
      "Epoch [43/50], Step [500/600], Loss: 0.4216, Accuracy: 0.8700\n",
      "Epoch [43/50], Step [600/600], Loss: 0.3972, Accuracy: 0.9000\n",
      "Epoch [44/50], Step [100/600], Loss: 0.4204, Accuracy: 0.8700\n",
      "Epoch [44/50], Step [200/600], Loss: 0.4799, Accuracy: 0.8900\n",
      "Epoch [44/50], Step [300/600], Loss: 0.5165, Accuracy: 0.8600\n",
      "Epoch [44/50], Step [400/600], Loss: 0.5334, Accuracy: 0.8500\n",
      "Epoch [44/50], Step [500/600], Loss: 0.2861, Accuracy: 0.9400\n",
      "Epoch [44/50], Step [600/600], Loss: 0.4800, Accuracy: 0.8800\n",
      "Epoch [45/50], Step [100/600], Loss: 0.6305, Accuracy: 0.8200\n",
      "Epoch [45/50], Step [200/600], Loss: 0.4216, Accuracy: 0.8700\n",
      "Epoch [45/50], Step [300/600], Loss: 0.5092, Accuracy: 0.8100\n"
     ]
    },
    {
     "name": "stdout",
     "output_type": "stream",
     "text": [
      "Epoch [45/50], Step [400/600], Loss: 0.3623, Accuracy: 0.8900\n",
      "Epoch [45/50], Step [500/600], Loss: 0.5576, Accuracy: 0.8200\n",
      "Epoch [45/50], Step [600/600], Loss: 0.3963, Accuracy: 0.8900\n",
      "Epoch [46/50], Step [100/600], Loss: 0.4019, Accuracy: 0.8900\n",
      "Epoch [46/50], Step [200/600], Loss: 0.5729, Accuracy: 0.8800\n",
      "Epoch [46/50], Step [300/600], Loss: 0.4549, Accuracy: 0.8600\n",
      "Epoch [46/50], Step [400/600], Loss: 0.6053, Accuracy: 0.8500\n",
      "Epoch [46/50], Step [500/600], Loss: 0.5404, Accuracy: 0.8000\n",
      "Epoch [46/50], Step [600/600], Loss: 0.4347, Accuracy: 0.9300\n",
      "Epoch [47/50], Step [100/600], Loss: 0.5313, Accuracy: 0.8500\n",
      "Epoch [47/50], Step [200/600], Loss: 0.4215, Accuracy: 0.8800\n",
      "Epoch [47/50], Step [300/600], Loss: 0.4367, Accuracy: 0.8600\n",
      "Epoch [47/50], Step [400/600], Loss: 0.4199, Accuracy: 0.8900\n",
      "Epoch [47/50], Step [500/600], Loss: 0.4900, Accuracy: 0.8600\n",
      "Epoch [47/50], Step [600/600], Loss: 0.4090, Accuracy: 0.9000\n",
      "Epoch [48/50], Step [100/600], Loss: 0.3732, Accuracy: 0.9100\n",
      "Epoch [48/50], Step [200/600], Loss: 0.5004, Accuracy: 0.8400\n",
      "Epoch [48/50], Step [300/600], Loss: 0.3880, Accuracy: 0.8800\n",
      "Epoch [48/50], Step [400/600], Loss: 0.4680, Accuracy: 0.8800\n",
      "Epoch [48/50], Step [500/600], Loss: 0.4834, Accuracy: 0.8300\n",
      "Epoch [48/50], Step [600/600], Loss: 0.5334, Accuracy: 0.8600\n",
      "Epoch [49/50], Step [100/600], Loss: 0.4186, Accuracy: 0.9000\n",
      "Epoch [49/50], Step [200/600], Loss: 0.5456, Accuracy: 0.8400\n",
      "Epoch [49/50], Step [300/600], Loss: 0.3885, Accuracy: 0.8900\n",
      "Epoch [49/50], Step [400/600], Loss: 0.3048, Accuracy: 0.9200\n",
      "Epoch [49/50], Step [500/600], Loss: 0.3488, Accuracy: 0.9100\n",
      "Epoch [49/50], Step [600/600], Loss: 0.3087, Accuracy: 0.9200\n",
      "Epoch [50/50], Step [100/600], Loss: 0.5087, Accuracy: 0.8400\n",
      "Epoch [50/50], Step [200/600], Loss: 0.4277, Accuracy: 0.8700\n",
      "Epoch [50/50], Step [300/600], Loss: 0.3445, Accuracy: 0.9000\n",
      "Epoch [50/50], Step [400/600], Loss: 0.3853, Accuracy: 0.9100\n",
      "Epoch [50/50], Step [500/600], Loss: 0.4145, Accuracy: 0.8900\n",
      "Epoch [50/50], Step [600/600], Loss: 0.4144, Accuracy: 0.8700\n"
     ]
    }
   ],
   "source": [
    "num_epochs = 50\n",
    "train_acc_data = []\n",
    "loss_data = []\n",
    "\n",
    "def train(num_epochs, cnn, loaders):\n",
    "    cnn.train()\n",
    "        \n",
    "    # Train the model\n",
    "    total_step = len(loaders['train'])\n",
    "        \n",
    "    for epoch in range(num_epochs):\n",
    "        for i, (images, labels) in enumerate(loaders['train']):\n",
    "            \n",
    "            # gives batch data, normalize x when iterate train_loader\n",
    "            b_x = Variable(images)   # batch x\n",
    "            b_y = Variable(labels)   # batch y\n",
    "            output = cnn(b_x)[0]               \n",
    "            loss = loss_func(output, b_y)\n",
    "            \n",
    "            # measure accuracy and record loss\n",
    "            train_output, last_layer = cnn(images)\n",
    "            pred_y = torch.max(train_output, 1)[1].data.squeeze()\n",
    "            accuracy = (pred_y == labels).sum().item() / float(labels.size(0))\n",
    "            \n",
    "            # clear gradients for this training step   \n",
    "            optimizer.zero_grad()           \n",
    "            \n",
    "            # backpropagation, compute gradients \n",
    "            loss.backward()    \n",
    "            # apply gradients             \n",
    "            optimizer.step()  \n",
    "#             output = cnn(images)\n",
    "#             correct += (output == labels).float().sum()\n",
    "#             accuracy = 100 * correct / len(trainset)\n",
    "            \n",
    "            if (i+1) % 100 == 0:\n",
    "                print ('Epoch [{}/{}], Step [{}/{}], Loss: {:.4f}, Accuracy: {:.4f}' \n",
    "                       .format(epoch + 1, num_epochs, i + 1, total_step, loss.item(), accuracy))\n",
    "                train_acc_data.append(accuracy)\n",
    "                loss_data.append(loss)\n",
    "            pass\n",
    "        \n",
    "        pass\n",
    "    \n",
    "    \n",
    "    pass\n",
    "    \n",
    "train(num_epochs, cnn, loaders)"
   ]
  },
  {
   "cell_type": "code",
   "execution_count": 48,
   "id": "ce692476",
   "metadata": {},
   "outputs": [
    {
     "name": "stdout",
     "output_type": "stream",
     "text": [
      "Accuracy: 0.8900\n",
      "Accuracy: 0.9200\n",
      "Accuracy: 0.9000\n",
      "Accuracy: 0.8800\n",
      "Accuracy: 0.8500\n",
      "Accuracy: 0.8600\n",
      "Accuracy: 0.8700\n",
      "Accuracy: 0.9300\n",
      "Accuracy: 0.8700\n",
      "Accuracy: 0.8400\n",
      "Accuracy: 0.8900\n",
      "Accuracy: 0.9500\n",
      "Accuracy: 0.8800\n",
      "Accuracy: 0.8800\n",
      "Accuracy: 0.8900\n",
      "Accuracy: 0.8600\n",
      "Accuracy: 0.8800\n",
      "Accuracy: 0.8900\n",
      "Accuracy: 0.9500\n",
      "Accuracy: 0.8300\n",
      "Accuracy: 0.8700\n",
      "Accuracy: 0.7900\n",
      "Accuracy: 0.9000\n",
      "Accuracy: 0.8800\n",
      "Accuracy: 0.9000\n",
      "Accuracy: 0.8800\n",
      "Accuracy: 0.9700\n",
      "Accuracy: 0.8700\n",
      "Accuracy: 0.8900\n",
      "Accuracy: 0.8800\n",
      "Accuracy: 0.9300\n",
      "Accuracy: 0.8700\n",
      "Accuracy: 0.8500\n",
      "Accuracy: 0.8300\n",
      "Accuracy: 0.8800\n",
      "Accuracy: 0.9200\n",
      "Accuracy: 0.8800\n",
      "Accuracy: 0.9000\n",
      "Accuracy: 0.8100\n",
      "Accuracy: 0.8900\n",
      "Accuracy: 0.8700\n",
      "Accuracy: 0.9300\n",
      "Accuracy: 0.8800\n",
      "Accuracy: 0.8700\n",
      "Accuracy: 0.9200\n",
      "Accuracy: 0.9100\n",
      "Accuracy: 0.8800\n",
      "Accuracy: 0.8500\n",
      "Accuracy: 0.8900\n",
      "Accuracy: 0.8900\n",
      "Accuracy: 0.9100\n",
      "Accuracy: 0.9000\n",
      "Accuracy: 0.8700\n",
      "Accuracy: 0.9300\n",
      "Accuracy: 0.9200\n",
      "Accuracy: 0.8400\n",
      "Accuracy: 0.8600\n",
      "Accuracy: 0.8700\n",
      "Accuracy: 0.9000\n",
      "Accuracy: 0.8600\n",
      "Accuracy: 0.9400\n",
      "Accuracy: 0.9000\n",
      "Accuracy: 0.9100\n",
      "Accuracy: 0.9200\n",
      "Accuracy: 0.9300\n",
      "Accuracy: 0.8900\n",
      "Accuracy: 0.9200\n",
      "Accuracy: 0.9100\n",
      "Accuracy: 0.9100\n",
      "Accuracy: 0.9000\n",
      "Accuracy: 0.8200\n",
      "Accuracy: 0.8900\n",
      "Accuracy: 0.9000\n",
      "Accuracy: 0.8500\n",
      "Accuracy: 0.9300\n",
      "Accuracy: 0.8400\n",
      "Accuracy: 0.8600\n",
      "Accuracy: 0.8900\n",
      "Accuracy: 0.9000\n",
      "Accuracy: 0.9300\n",
      "Accuracy: 0.8200\n",
      "Accuracy: 0.9000\n",
      "Accuracy: 0.8700\n",
      "Accuracy: 0.8600\n",
      "Accuracy: 0.8900\n",
      "Accuracy: 0.8800\n",
      "Accuracy: 0.9300\n",
      "Accuracy: 0.8700\n",
      "Accuracy: 0.8700\n",
      "Accuracy: 0.8500\n",
      "Accuracy: 0.8200\n",
      "Accuracy: 0.8300\n",
      "Accuracy: 0.8400\n",
      "Accuracy: 0.8400\n",
      "Accuracy: 0.9400\n",
      "Accuracy: 0.9300\n",
      "Accuracy: 0.9200\n",
      "Accuracy: 0.9400\n",
      "Accuracy: 0.8900\n",
      "Accuracy: 0.9300\n"
     ]
    }
   ],
   "source": [
    "num_epochs = 10\n",
    "test_acc_data = []\n",
    "\n",
    "def test():\n",
    "    cnn.eval()\n",
    "        \n",
    "    # Train the model\n",
    "    correct = 0\n",
    "    total = 0\n",
    "    for images, labels in loaders['test']:\n",
    "        test_output, last_layer = cnn(images)\n",
    "        pred_y = torch.max(test_output, 1)[1].data.squeeze()\n",
    "        accuracy = (pred_y == labels).sum().item() / float(labels.size(0))\n",
    "        test_acc_data.append(accuracy)\n",
    "        print(\"Accuracy: {:.4f}\".format(accuracy))\n",
    "        \n",
    "#     print('Test Accuracy: %.2f' % accuracy)\n",
    "    \n",
    "test()"
   ]
  },
  {
   "cell_type": "code",
   "execution_count": null,
   "id": "61821df1",
   "metadata": {},
   "outputs": [],
   "source": [
    "# for i in range(len(acc_data)):\n",
    "#     if acc_data[i] == 0.71:\n",
    "#         print(\"fount at \", i)\n",
    "\n",
    "# acc_data[600-1]"
   ]
  },
  {
   "cell_type": "code",
   "execution_count": 78,
   "id": "e4a23eec",
   "metadata": {},
   "outputs": [
    {
     "data": {
      "text/plain": [
       "Text(0.5, 1.0, 'Loss')"
      ]
     },
     "execution_count": 78,
     "metadata": {},
     "output_type": "execute_result"
    },
    {
     "data": {
      "image/png": "[encoded data removed]",
      "text/plain": [
       "<Figure size 1440x360 with 3 Axes>"
      ]
     },
     "metadata": {
      "needs_background": "light"
     },
     "output_type": "display_data"
    }
   ],
   "source": [
    "f, axarr = plt.subplots(1,3, figsize=(20, 5))\n",
    "axarr[0].plot(train_acc_data)\n",
    "axarr[0].set_title(\"Train Accuracy\")\n",
    "axarr[1].plot(test_acc_data)\n",
    "axarr[1].set_title(\"Test Accuracy\")\n",
    "axarr[2].plot(loss_data)\n",
    "axarr[2].set_title(\"Loss\")"
   ]
  },
  {
   "cell_type": "code",
   "execution_count": 25,
   "id": "b3728ba4",
   "metadata": {
    "scrolled": true
   },
   "outputs": [
    {
     "data": {
      "text/plain": [
       "600"
      ]
     },
     "execution_count": 25,
     "metadata": {},
     "output_type": "execute_result"
    }
   ],
   "source": [
    "cnn.train()\n",
    "len(loaders['train'])"
   ]
  },
  {
   "cell_type": "code",
   "execution_count": 26,
   "id": "9bd065c6",
   "metadata": {},
   "outputs": [
    {
     "data": {
      "text/plain": [
       "torchvision.datasets.mnist.MNIST"
      ]
     },
     "execution_count": 26,
     "metadata": {},
     "output_type": "execute_result"
    }
   ],
   "source": [
    "type(train_data)"
   ]
  },
  {
   "cell_type": "code",
   "execution_count": 27,
   "id": "e48401ca",
   "metadata": {},
   "outputs": [
    {
     "data": {
      "text/plain": [
       "torch.Tensor"
      ]
     },
     "execution_count": 27,
     "metadata": {},
     "output_type": "execute_result"
    }
   ],
   "source": [
    "type(resized_28)"
   ]
  },
  {
   "cell_type": "code",
   "execution_count": 28,
   "id": "807c165e",
   "metadata": {},
   "outputs": [],
   "source": [
    "# for i, image in enumerate(loaders['train']):\n",
    "#     print(i, image.shape)"
   ]
  },
  {
   "cell_type": "markdown",
   "id": "0292f240",
   "metadata": {},
   "source": [
    "<h1>Attempting to resize the dataset when importing with datasets.MNIST</h1>"
   ]
  },
  {
   "cell_type": "code",
   "execution_count": 29,
   "id": "aaf145b8",
   "metadata": {},
   "outputs": [],
   "source": [
    "# train_data = datasets.MNIST(\n",
    "#     root = 'data',\n",
    "#     train = True,                         \n",
    "#     transform = transforms.Compose([\n",
    "#                     transforms.ToTensor(),\n",
    "#                     transforms.Resize(size=14)(train_data.data),\n",
    "#                     transforms.Normalize(0, 1)\n",
    "#                 ]), \n",
    "#     download = True,            \n",
    "# )\n",
    "# test_data = datasets.MNIST(\n",
    "#     root = 'data', \n",
    "#     train = False, \n",
    "#     transform = transforms.Compose([\n",
    "#                     transforms.ToTensor(),\n",
    "#                     transforms.Resize(size=14)(test_data.data),\n",
    "#                     transforms.Normalize(0, 1)\n",
    "#                 ]) \n",
    "# )"
   ]
  },
  {
   "cell_type": "code",
   "execution_count": 30,
   "id": "d586d001",
   "metadata": {},
   "outputs": [
    {
     "data": {
      "text/plain": [
       "torch.Size([60000, 28, 28])"
      ]
     },
     "execution_count": 30,
     "metadata": {},
     "output_type": "execute_result"
    }
   ],
   "source": [
    "train_data.data.shape"
   ]
  },
  {
   "cell_type": "code",
   "execution_count": 63,
   "id": "798469f7",
   "metadata": {},
   "outputs": [
    {
     "data": {
      "text/plain": [
       "<matplotlib.image.AxesImage at 0x7fe5116c52b0>"
      ]
     },
     "execution_count": 63,
     "metadata": {},
     "output_type": "execute_result"
    },
    {
     "data": {
      "image/png": "[encoded data removed]",
      "text/plain": [
       "<Figure size 576x2160 with 1 Axes>"
      ]
     },
     "metadata": {
      "needs_background": "light"
     },
     "output_type": "display_data"
    }
   ],
   "source": [
    "fig = plt.figure()\n",
    "fig.set_figwidth(8)\n",
    "fig.set_figheight(30)\n",
    "plt.imshow(test_data[0][0][0])"
   ]
  },
  {
   "cell_type": "code",
   "execution_count": null,
   "id": "a8e05d07",
   "metadata": {},
   "outputs": [],
   "source": []
  }
 ],
 "metadata": {
  "kernelspec": {
   "display_name": "Python 3",
   "language": "python",
   "name": "python3"
  },
  "language_info": {
   "codemirror_mode": {
    "name": "ipython",
    "version": 3
   },
   "file_extension": ".py",
   "mimetype": "text/x-python",
   "name": "python",
   "nbconvert_exporter": "python",
   "pygments_lexer": "ipython3",
   "version": "3.6.13"
  }
 },
 "nbformat": 4,
 "nbformat_minor": 5
}
