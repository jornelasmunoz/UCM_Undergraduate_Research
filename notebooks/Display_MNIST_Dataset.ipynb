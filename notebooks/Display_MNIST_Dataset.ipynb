{
 "cells": [
  {
   "cell_type": "code",
   "execution_count": 1,
   "metadata": {},
   "outputs": [],
   "source": [
    "import pickle\n",
    "import matplotlib.pyplot as plt"
   ]
  },
  {
   "cell_type": "code",
   "execution_count": 2,
   "metadata": {},
   "outputs": [],
   "source": [
    "train_paths_X = [\"/Users/cristianespinosa/Documents/UCM_Undergraduate_Research/data/4x4/X_train_4.pickle\", \"/Users/cristianespinosa/Documents/UCM_Undergraduate_Research/data/7x7/X_train_7.pickle\", \"/Users/cristianespinosa/Documents/UCM_Undergraduate_Research/data/14x14/X_train_14.pickle\", \"/Users/cristianespinosa/Documents/UCM_Undergraduate_Research/data/28x28/X_train_28.pickle\"]\n",
    "test_paths_X = [\"/Users/cristianespinosa/Documents/UCM_Undergraduate_Research/data/4x4/X_test_4.pickle\", \"/Users/cristianespinosa/Documents/UCM_Undergraduate_Research/data/7x7/X_test_7.pickle\", \"/Users/cristianespinosa/Documents/UCM_Undergraduate_Research/data/14x14/X_test_14.pickle\", \"/Users/cristianespinosa/Documents/UCM_Undergraduate_Research/data/28x28/X_test_28.pickle\"]\n",
    "\n",
    "train_paths_y = [\"/Users/cristianespinosa/Documents/UCM_Undergraduate_Research/data/4x4/y_train_4.pickle\", \"/Users/cristianespinosa/Documents/UCM_Undergraduate_Research/data/7x7/y_train_7.pickle\", \"/Users/cristianespinosa/Documents/UCM_Undergraduate_Research/data/14x14/y_train_14.pickle\", \"/Users/cristianespinosa/Documents/UCM_Undergraduate_Research/data/28x28/y_train_28.pickle\"]\n",
    "test_paths_y =[\"/Users/cristianespinosa/Documents/UCM_Undergraduate_Research/data/4x4/y_test_4.pickle\", \"/Users/cristianespinosa/Documents/UCM_Undergraduate_Research/data/7x7/y_test_7.pickle\", \"/Users/cristianespinosa/Documents/UCM_Undergraduate_Research/data/14x14/y_test_14.pickle\", \"/Users/cristianespinosa/Documents/UCM_Undergraduate_Research/data/28x28/y_test_28.pickle\"]"
   ]
  },
  {
   "cell_type": "code",
   "execution_count": 8,
   "metadata": {},
   "outputs": [],
   "source": [
    "# INDEX VALUES:\n",
    "# 0 = 4x4, 1 = 7x7, 2 = 14x14, 3 = 28x28\n",
    "index = 3\n",
    "\n",
    "X_train = pickle.load(open(train_paths_X[index], \"rb\"))\n",
    "X_test = pickle.load(open(test_paths_X[index], \"rb\"))\n",
    "\n",
    "y_train = pickle.load(open(train_paths_y[index], \"rb\"))\n",
    "y_test = pickle.load(open(test_paths_y[index], \"rb\"))\n",
    "\n"
   ]
  },
  {
   "cell_type": "code",
   "execution_count": 9,
   "metadata": {},
   "outputs": [
    {
     "data": {
      "image/png": "[encoded data removed]",
      "text/plain": [
       "<Figure size 432x288 with 1 Axes>"
      ]
     },
     "metadata": {
      "needs_background": "light"
     },
     "output_type": "display_data"
    },
    {
     "name": "stdout",
     "output_type": "stream",
     "text": [
      "The image displayed is a:  9\n",
      "\n",
      "Current testing set size:  (10000, 28, 28, 1)\n"
     ]
    }
   ],
   "source": [
    "train_img = 2     #train_img = [0,60000)\n",
    "test_img = 2     #test_img = [0,10000)\n",
    "\n",
    "plt.imshow(X_test[test_img], cmap='gray')\n",
    "plt.show()\n",
    "print(\"The image displayed is a: \", y_test[test_img])\n",
    "print(\"\\nCurrent testing set size: \", X_test.shape)"
   ]
  },
  {
   "cell_type": "code",
   "execution_count": 10,
   "metadata": {},
   "outputs": [
    {
     "data": {
      "image/png": "[encoded data removed]",
      "text/plain": [
       "<Figure size 432x288 with 1 Axes>"
      ]
     },
     "metadata": {
      "needs_background": "light"
     },
     "output_type": "display_data"
    },
    {
     "name": "stdout",
     "output_type": "stream",
     "text": [
      "The image displayed is a:  7\n",
      "\n",
      "Current training set size:  (60000, 28, 28, 1)\n"
     ]
    }
   ],
   "source": [
    "plt.imshow(X_train[train_img], cmap='gray')\n",
    "plt.show()\n",
    "print(\"The image displayed is a: \", y_train[train_img])\n",
    "print(\"\\nCurrent training set size: \", X_train.shape)"
   ]
  },
  {
   "cell_type": "code",
   "execution_count": 6,
   "metadata": {},
   "outputs": [
    {
     "data": {
      "text/plain": [
       "196"
      ]
     },
     "execution_count": 6,
     "metadata": {},
     "output_type": "execute_result"
    }
   ],
   "source": [
    "X_test[1].size"
   ]
  },
  {
   "cell_type": "code",
   "execution_count": 7,
   "metadata": {},
   "outputs": [
    {
     "data": {
      "text/plain": [
       "array([[[  0],\n",
       "        [  0],\n",
       "        [  0],\n",
       "        [  0],\n",
       "        [  0],\n",
       "        [  0],\n",
       "        [  0],\n",
       "        [  0],\n",
       "        [  0],\n",
       "        [  0],\n",
       "        [  0],\n",
       "        [  0],\n",
       "        [  0],\n",
       "        [  0]],\n",
       "\n",
       "       [[  0],\n",
       "        [  0],\n",
       "        [  0],\n",
       "        [  0],\n",
       "        [  0],\n",
       "        [  0],\n",
       "        [  0],\n",
       "        [  0],\n",
       "        [  0],\n",
       "        [  0],\n",
       "        [  0],\n",
       "        [  0],\n",
       "        [  0],\n",
       "        [  0]],\n",
       "\n",
       "       [[  0],\n",
       "        [  0],\n",
       "        [  0],\n",
       "        [  0],\n",
       "        [  0],\n",
       "        [  0],\n",
       "        [  0],\n",
       "        [  0],\n",
       "        [  0],\n",
       "        [  0],\n",
       "        [  0],\n",
       "        [  0],\n",
       "        [  0],\n",
       "        [  0]],\n",
       "\n",
       "       [[  0],\n",
       "        [  0],\n",
       "        [  0],\n",
       "        [  0],\n",
       "        [  0],\n",
       "        [  0],\n",
       "        [172],\n",
       "        [141],\n",
       "        [ 59],\n",
       "        [134],\n",
       "        [224],\n",
       "        [252],\n",
       "        [ 30],\n",
       "        [  0]],\n",
       "\n",
       "       [[  0],\n",
       "        [  0],\n",
       "        [  0],\n",
       "        [  0],\n",
       "        [  0],\n",
       "        [ 61],\n",
       "        [247],\n",
       "        [253],\n",
       "        [253],\n",
       "        [253],\n",
       "        [253],\n",
       "        [239],\n",
       "        [ 66],\n",
       "        [  0]],\n",
       "\n",
       "       [[  0],\n",
       "        [  0],\n",
       "        [  0],\n",
       "        [  0],\n",
       "        [ 22],\n",
       "        [188],\n",
       "        [253],\n",
       "        [236],\n",
       "        [187],\n",
       "        [115],\n",
       "        [107],\n",
       "        [ 57],\n",
       "        [  0],\n",
       "        [  0]],\n",
       "\n",
       "       [[  0],\n",
       "        [  0],\n",
       "        [  0],\n",
       "        [  0],\n",
       "        [170],\n",
       "        [253],\n",
       "        [253],\n",
       "        [253],\n",
       "        [217],\n",
       "        [ 17],\n",
       "        [  0],\n",
       "        [  0],\n",
       "        [  0],\n",
       "        [  0]],\n",
       "\n",
       "       [[  0],\n",
       "        [  0],\n",
       "        [  0],\n",
       "        [  0],\n",
       "        [171],\n",
       "        [193],\n",
       "        [ 48],\n",
       "        [ 83],\n",
       "        [231],\n",
       "        [124],\n",
       "        [  0],\n",
       "        [  0],\n",
       "        [  0],\n",
       "        [  0]],\n",
       "\n",
       "       [[  0],\n",
       "        [  0],\n",
       "        [  0],\n",
       "        [  0],\n",
       "        [ 15],\n",
       "        [ 10],\n",
       "        [  0],\n",
       "        [  0],\n",
       "        [128],\n",
       "        [220],\n",
       "        [  0],\n",
       "        [  0],\n",
       "        [  0],\n",
       "        [  0]],\n",
       "\n",
       "       [[  0],\n",
       "        [  0],\n",
       "        [  5],\n",
       "        [ 11],\n",
       "        [  0],\n",
       "        [  0],\n",
       "        [  0],\n",
       "        [  0],\n",
       "        [208],\n",
       "        [182],\n",
       "        [  0],\n",
       "        [  0],\n",
       "        [  0],\n",
       "        [  0]],\n",
       "\n",
       "       [[  0],\n",
       "        [  0],\n",
       "        [ 99],\n",
       "        [218],\n",
       "        [  6],\n",
       "        [  0],\n",
       "        [  2],\n",
       "        [103],\n",
       "        [242],\n",
       "        [113],\n",
       "        [  0],\n",
       "        [  0],\n",
       "        [  0],\n",
       "        [  0]],\n",
       "\n",
       "       [[  0],\n",
       "        [  0],\n",
       "        [ 75],\n",
       "        [234],\n",
       "        [203],\n",
       "        [141],\n",
       "        [170],\n",
       "        [251],\n",
       "        [128],\n",
       "        [  0],\n",
       "        [  0],\n",
       "        [  0],\n",
       "        [  0],\n",
       "        [  0]],\n",
       "\n",
       "       [[  0],\n",
       "        [  0],\n",
       "        [  0],\n",
       "        [ 43],\n",
       "        [167],\n",
       "        [188],\n",
       "        [179],\n",
       "        [ 61],\n",
       "        [  0],\n",
       "        [  0],\n",
       "        [  0],\n",
       "        [  0],\n",
       "        [  0],\n",
       "        [  0]],\n",
       "\n",
       "       [[  0],\n",
       "        [  0],\n",
       "        [  0],\n",
       "        [  0],\n",
       "        [  0],\n",
       "        [  0],\n",
       "        [  0],\n",
       "        [  0],\n",
       "        [  0],\n",
       "        [  0],\n",
       "        [  0],\n",
       "        [  0],\n",
       "        [  0],\n",
       "        [  0]]], dtype=uint8)"
      ]
     },
     "execution_count": 7,
     "metadata": {},
     "output_type": "execute_result"
    }
   ],
   "source": [
    "X_test[1]"
   ]
  },
  {
   "cell_type": "code",
   "execution_count": null,
   "metadata": {},
   "outputs": [],
   "source": []
  }
 ],
 "metadata": {
  "kernelspec": {
   "display_name": "Python 3",
   "language": "python",
   "name": "python3"
  },
  "language_info": {
   "codemirror_mode": {
    "name": "ipython",
    "version": 3
   },
   "file_extension": ".py",
   "mimetype": "text/x-python",
   "name": "python",
   "nbconvert_exporter": "python",
   "pygments_lexer": "ipython3",
   "version": "3.8.5"
  }
 },
 "nbformat": 4,
 "nbformat_minor": 5
}
