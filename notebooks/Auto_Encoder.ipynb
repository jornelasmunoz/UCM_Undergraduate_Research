{
 "cells": [
  {
   "cell_type": "code",
   "execution_count": 1,
   "id": "2633b6b0",
   "metadata": {},
   "outputs": [],
   "source": [
    "import torch.nn as nn\n",
    "import torchvision\n",
    "import torch\n",
    "import torch.optim as optim\n",
    "import matplotlib.pyplot as plt"
   ]
  },
  {
   "cell_type": "markdown",
   "id": "bbc31a4b",
   "metadata": {},
   "source": [
    "You may want to modify the class's out features, so that they fit the image shape accordingly"
   ]
  },
  {
   "cell_type": "code",
   "execution_count": 2,
   "id": "a84dbcf3",
   "metadata": {},
   "outputs": [],
   "source": [
    "img_shape = 28\n",
    "compress_size = 16\n",
    "class AE(nn.Module):\n",
    "    def __init__(self, **kwargs):\n",
    "        super().__init__()\n",
    "        self.encoder_hidden_layer = nn.Linear(\n",
    "            in_features=kwargs[\"input_shape\"], out_features=compress_size\n",
    "        )\n",
    "        self.encoder_output_layer = nn.Linear(\n",
    "            in_features=compress_size, out_features=compress_size\n",
    "        )\n",
    "        self.decoder_hidden_layer = nn.Linear(\n",
    "            in_features=compress_size, out_features=compress_size\n",
    "        )\n",
    "        self.decoder_output_layer = nn.Linear(\n",
    "            in_features=compress_size, out_features=kwargs[\"input_shape\"]\n",
    "        )\n",
    "\n",
    "    def forward(self, features):\n",
    "        activation = self.encoder_hidden_layer(features)\n",
    "        activation = torch.relu(activation)\n",
    "        code = self.encoder_output_layer(activation)\n",
    "        code = torch.sigmoid(code)\n",
    "        activation = self.decoder_hidden_layer(code)\n",
    "        activation = torch.relu(activation)\n",
    "        activation = self.decoder_output_layer(activation)\n",
    "        reconstructed = torch.sigmoid(activation)\n",
    "        return reconstructed"
   ]
  },
  {
   "cell_type": "code",
   "execution_count": 3,
   "id": "380b31f4",
   "metadata": {},
   "outputs": [],
   "source": [
    "#  use gpu if available\n",
    "device = torch.device(\"cuda\" if torch.cuda.is_available() else \"cpu\")\n",
    "\n",
    "# create a model from `AE` autoencoder class\n",
    "# load it to the specified device, either gpu or cpu\n",
    "model = AE(input_shape=img_shape*img_shape).to(device)\n",
    "\n",
    "# create an optimizer object\n",
    "# Adam optimizer with learning rate 1e-3\n",
    "optimizer = optim.Adam(model.parameters(), lr=1e-3)\n",
    "\n",
    "# mean-squared error loss\n",
    "criterion = nn.MSELoss()"
   ]
  },
  {
   "cell_type": "code",
   "execution_count": 4,
   "id": "8d6b7f76",
   "metadata": {},
   "outputs": [
    {
     "name": "stderr",
     "output_type": "stream",
     "text": [
      "/Users/cristianespinosa/opt/anaconda3/envs/tensor/lib/python3.6/site-packages/torchvision/datasets/mnist.py:498: UserWarning: The given NumPy array is not writeable, and PyTorch does not support non-writeable tensors. This means you can write to the underlying (supposedly non-writeable) NumPy array using the tensor. You may want to copy the array to protect its data or make it writeable before converting it to a tensor. This type of warning will be suppressed for the rest of this program. (Triggered internally at  /Users/distiller/project/conda/conda-bld/pytorch_1631631159818/work/torch/csrc/utils/tensor_numpy.cpp:180.)\n",
      "  return torch.from_numpy(parsed.astype(m[2], copy=False)).view(*s)\n"
     ]
    }
   ],
   "source": [
    "transform = torchvision.transforms.Compose([torchvision.transforms.ToTensor()])\n",
    "root_path = '../data/28x28'\n",
    "\n",
    "train_dataset = torchvision.datasets.MNIST(\n",
    "    root= root_path, train=True, transform=transform, download=False\n",
    ")\n",
    "\n",
    "test_dataset = torchvision.datasets.MNIST(\n",
    "    root= root_path, train=False, transform=transform, download=False\n",
    ")\n",
    "\n",
    "train_loader = torch.utils.data.DataLoader(\n",
    "    train_dataset, batch_size=128, shuffle=True, num_workers=4, pin_memory=True\n",
    ")\n",
    "\n",
    "test_loader = torch.utils.data.DataLoader(\n",
    "    test_dataset, batch_size=32, shuffle=False, num_workers=4\n",
    ")"
   ]
  },
  {
   "cell_type": "code",
   "execution_count": 5,
   "id": "3918b5c0",
   "metadata": {},
   "outputs": [
    {
     "name": "stdout",
     "output_type": "stream",
     "text": [
      "epoch : 1/20, loss = 0.086137\n",
      "epoch : 2/20, loss = 0.066205\n",
      "epoch : 3/20, loss = 0.063122\n",
      "epoch : 4/20, loss = 0.061653\n",
      "epoch : 5/20, loss = 0.061124\n",
      "epoch : 6/20, loss = 0.060882\n",
      "epoch : 7/20, loss = 0.060733\n",
      "epoch : 8/20, loss = 0.060634\n",
      "epoch : 9/20, loss = 0.060554\n",
      "epoch : 10/20, loss = 0.060499\n",
      "epoch : 11/20, loss = 0.060451\n",
      "epoch : 12/20, loss = 0.060416\n",
      "epoch : 13/20, loss = 0.060388\n",
      "epoch : 14/20, loss = 0.060363\n",
      "epoch : 15/20, loss = 0.060343\n",
      "epoch : 16/20, loss = 0.060319\n",
      "epoch : 17/20, loss = 0.060305\n",
      "epoch : 18/20, loss = 0.060290\n",
      "epoch : 19/20, loss = 0.060276\n",
      "epoch : 20/20, loss = 0.060266\n"
     ]
    }
   ],
   "source": [
    "epochs = 20\n",
    "for epoch in range(epochs):\n",
    "    loss = 0\n",
    "    for batch_features, _ in train_loader:\n",
    "        # reshape mini-batch data to [N, 784] matrix\n",
    "        # load it to the active device\n",
    "        batch_features = batch_features.view(-1, img_shape*img_shape).to(device)\n",
    "        \n",
    "        # reset the gradients back to zero\n",
    "        # PyTorch accumulates gradients on subsequent backward passes\n",
    "        optimizer.zero_grad()\n",
    "        \n",
    "        # compute reconstructions\n",
    "        outputs = model(batch_features)\n",
    "        \n",
    "        # compute training reconstruction loss\n",
    "        train_loss = criterion(outputs, batch_features)\n",
    "        \n",
    "        # compute accumulated gradients\n",
    "        train_loss.backward()\n",
    "        \n",
    "        # perform parameter update based on current gradients\n",
    "        optimizer.step()\n",
    "        \n",
    "        # add the mini-batch training loss to epoch loss\n",
    "        loss += train_loss.item()\n",
    "    \n",
    "    # compute the epoch training loss\n",
    "    loss = loss / len(train_loader)\n",
    "    \n",
    "    # display the epoch training loss\n",
    "    print(\"epoch : {}/{}, loss = {:.6f}\".format(epoch + 1, epochs, loss))"
   ]
  },
  {
   "cell_type": "code",
   "execution_count": 6,
   "id": "3c508a39",
   "metadata": {},
   "outputs": [],
   "source": [
    "test_examples = None\n",
    "test_examples = []\n",
    "reconstruction = []\n",
    "i = 0\n",
    "with torch.no_grad():\n",
    "    for batch_features in test_loader:\n",
    "        batch_features = batch_features[0]\n",
    "        test_examples.append(batch_features.view(-1, img_shape*img_shape))\n",
    "        reconstruction.append( model(test_examples[i]) )\n",
    "        i += 1"
   ]
  },
  {
   "cell_type": "markdown",
   "id": "2b4dc658",
   "metadata": {},
   "source": [
    "Essentially, you have 32 images of size 28x28 (because 28x28 flattened is 784)"
   ]
  },
  {
   "cell_type": "code",
   "execution_count": 8,
   "id": "81cedc52",
   "metadata": {},
   "outputs": [
    {
     "data": {
      "image/png": "[encoded data removed]",
      "text/plain": [
       "<Figure size 1440x288 with 10 Axes>"
      ]
     },
     "metadata": {
      "needs_background": "light"
     },
     "output_type": "display_data"
    }
   ],
   "source": [
    "with torch.no_grad():\n",
    "    number = 10\n",
    "    i = 11\n",
    "    fig = plt.figure(figsize=(20, 4))\n",
    "#     plt.suptitle(\"Original\", fontsize=16)\n",
    "    \n",
    "#     for index in range(number):\n",
    "# #         display original\n",
    "#         ax = plt.subplot(2, number, index + 1)\n",
    "# #         ax.set_title(\"Original\")\n",
    "#         plt.imshow(test_examples[i][index].numpy().reshape(img_shape,img_shape))\n",
    "#         plt.gray()\n",
    "#         ax.get_xaxis().set_visible(False)\n",
    "#         ax.get_yaxis().set_visible(False)\n",
    "#     fig.title.set_text('First Plot')\n",
    "    \n",
    "#     plt.suptitle(\"Decoded\", fontsize=16)\n",
    "    for index in range(number):\n",
    "        # display reconstruction\n",
    "        ax = plt.subplot(2, number, index + 1 + number)\n",
    "#         ax.set_title(\"Decoded\")\n",
    "        plt.imshow(reconstruction[i][index].numpy().reshape(img_shape,img_shape))\n",
    "        plt.gray()\n",
    "        ax.get_xaxis().set_visible(False)\n",
    "        ax.get_yaxis().set_visible(False)\n",
    "    plt.show()"
   ]
  },
  {
   "cell_type": "code",
   "execution_count": null,
   "id": "26ada2cc",
   "metadata": {},
   "outputs": [],
   "source": []
  }
 ],
 "metadata": {
  "kernelspec": {
   "display_name": "Python 3",
   "language": "python",
   "name": "python3"
  },
  "language_info": {
   "codemirror_mode": {
    "name": "ipython",
    "version": 3
   },
   "file_extension": ".py",
   "mimetype": "text/x-python",
   "name": "python",
   "nbconvert_exporter": "python",
   "pygments_lexer": "ipython3",
   "version": "3.6.13"
  }
 },
 "nbformat": 4,
 "nbformat_minor": 5
}
