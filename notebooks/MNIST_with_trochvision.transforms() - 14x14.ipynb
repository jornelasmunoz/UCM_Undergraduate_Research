{
 "cells": [
  {
   "cell_type": "code",
   "execution_count": 1,
   "id": "9b0a0b54",
   "metadata": {},
   "outputs": [],
   "source": [
    "import torch\n",
    "import torch.nn as nn\n",
    "from torch.autograd import Variable\n",
    "from torchvision import datasets\n",
    "import torchvision.transforms as transforms\n",
    "import numpy as np\n",
    "import matplotlib.pyplot as plt\n",
    "from matplotlib.pyplot import figure"
   ]
  },
  {
   "cell_type": "code",
   "execution_count": 2,
   "id": "f7ae6e32",
   "metadata": {},
   "outputs": [
    {
     "name": "stderr",
     "output_type": "stream",
     "text": [
      "/Users/cristianespinosa/opt/anaconda3/envs/tensor/lib/python3.6/site-packages/torchvision/datasets/mnist.py:498: UserWarning: The given NumPy array is not writeable, and PyTorch does not support non-writeable tensors. This means you can write to the underlying (supposedly non-writeable) NumPy array using the tensor. You may want to copy the array to protect its data or make it writeable before converting it to a tensor. This type of warning will be suppressed for the rest of this program. (Triggered internally at  /Users/distiller/project/conda/conda-bld/pytorch_1631631159818/work/torch/csrc/utils/tensor_numpy.cpp:180.)\n",
      "  return torch.from_numpy(parsed.astype(m[2], copy=False)).view(*s)\n"
     ]
    }
   ],
   "source": [
    "# There was something Jocelyn did to modify the image sizes without modifying the dtype\n",
    "size = 14\n",
    "train_data = datasets.MNIST(\n",
    "    root = '../data/14x14',\n",
    "    train = True,                         \n",
    "    transform = transforms.Compose([\n",
    "                    transforms.ToTensor(),\n",
    "                    transforms.Resize(size),\n",
    "                    transforms.Normalize(0, 1)\n",
    "                ]), \n",
    "    download = True,            \n",
    ")\n",
    "test_data = datasets.MNIST(\n",
    "    root = '../data/14x14', \n",
    "    train = False, \n",
    "    transform = transforms.Compose([\n",
    "                    transforms.ToTensor(),\n",
    "                    transforms.Resize(size),\n",
    "                    transforms.Normalize(0, 1)\n",
    "                ]),\n",
    "    download = False,\n",
    ")"
   ]
  },
  {
   "cell_type": "markdown",
   "id": "74bd506a",
   "metadata": {},
   "source": [
    "<h3>MNIST Dataset is organized by:</h3>\n",
    "<div>Set of images (with channels) and labels --> train_data</div>\n",
    "<div>image (with channels) AND label --> train_data[i (0,59999)]</div>\n",
    "<div>image (with channels) --> train_data[i][i (0,1)]</div>\n",
    "<div>image by itself (2D image) --> train_data[i][i][i (0)]</div>"
   ]
  },
  {
   "cell_type": "code",
   "execution_count": 3,
   "id": "5592a361",
   "metadata": {
    "scrolled": false
   },
   "outputs": [
    {
     "name": "stdout",
     "output_type": "stream",
     "text": [
      "2 \n",
      "\n",
      "\n",
      "(tensor([[[0.0000, 0.0000, 0.0000, 0.0000, 0.0000, 0.0000, 0.0000, 0.0000,\n",
      "          0.0000, 0.0000, 0.0000, 0.0000, 0.0000, 0.0000],\n",
      "         [0.0000, 0.0000, 0.0000, 0.0000, 0.0000, 0.0000, 0.0000, 0.0000,\n",
      "          0.0000, 0.0000, 0.0000, 0.0000, 0.0000, 0.0000],\n",
      "         [0.0000, 0.0000, 0.0000, 0.0000, 0.0000, 0.0000, 0.0206, 0.0353,\n",
      "          0.2569, 0.1971, 0.4127, 0.3667, 0.0000, 0.0000],\n",
      "         [0.0000, 0.0000, 0.0000, 0.0480, 0.5461, 0.7392, 0.9108, 0.9922,\n",
      "          0.9902, 0.5608, 0.6206, 0.2922, 0.0000, 0.0000],\n",
      "         [0.0000, 0.0000, 0.0000, 0.0176, 0.6941, 0.8490, 0.9451, 0.3833,\n",
      "          0.6716, 0.0000, 0.0000, 0.0000, 0.0000, 0.0000],\n",
      "         [0.0000, 0.0000, 0.0000, 0.0000, 0.0137, 0.2882, 0.7706, 0.0020,\n",
      "          0.0000, 0.0000, 0.0000, 0.0000, 0.0000, 0.0000],\n",
      "         [0.0000, 0.0000, 0.0000, 0.0000, 0.0000, 0.0108, 0.7049, 0.4461,\n",
      "          0.1069, 0.0000, 0.0000, 0.0000, 0.0000, 0.0000],\n",
      "         [0.0000, 0.0000, 0.0000, 0.0000, 0.0000, 0.0000, 0.0794, 0.7098,\n",
      "          0.8608, 0.1980, 0.0000, 0.0000, 0.0000, 0.0000],\n",
      "         [0.0000, 0.0000, 0.0000, 0.0000, 0.0000, 0.0000, 0.0000, 0.0157,\n",
      "          0.5824, 0.9235, 0.0627, 0.0000, 0.0000, 0.0000],\n",
      "         [0.0000, 0.0000, 0.0000, 0.0000, 0.0000, 0.0000, 0.1833, 0.6451,\n",
      "          0.9235, 0.8745, 0.0020, 0.0000, 0.0000, 0.0000],\n",
      "         [0.0000, 0.0000, 0.0000, 0.0000, 0.0873, 0.5922, 0.9608, 0.9382,\n",
      "          0.5265, 0.0765, 0.0000, 0.0000, 0.0000, 0.0000],\n",
      "         [0.0000, 0.0000, 0.2225, 0.6549, 0.9588, 0.9833, 0.5804, 0.0873,\n",
      "          0.0000, 0.0000, 0.0000, 0.0000, 0.0000, 0.0000],\n",
      "         [0.0000, 0.0000, 0.3814, 0.4961, 0.3402, 0.1451, 0.0000, 0.0000,\n",
      "          0.0000, 0.0000, 0.0000, 0.0000, 0.0000, 0.0000],\n",
      "         [0.0000, 0.0000, 0.0000, 0.0000, 0.0000, 0.0000, 0.0000, 0.0000,\n",
      "          0.0000, 0.0000, 0.0000, 0.0000, 0.0000, 0.0000]]]), 5)\n"
     ]
    }
   ],
   "source": [
    "# Images and labels are stored as a tuple (image, label)\n",
    "\n",
    "print(len(train_data[0]), '\\n\\n')\n",
    "print(train_data[0])"
   ]
  },
  {
   "cell_type": "code",
   "execution_count": 4,
   "id": "0c2b86e1",
   "metadata": {},
   "outputs": [
    {
     "data": {
      "text/plain": [
       "(tensor([[[0.0000, 0.0000, 0.0000, 0.0000, 0.0000, 0.0000, 0.0000, 0.0000,\n",
       "           0.0000, 0.0000, 0.0000, 0.0000, 0.0000, 0.0000],\n",
       "          [0.0000, 0.0000, 0.0000, 0.0000, 0.0000, 0.0000, 0.0000, 0.0000,\n",
       "           0.0000, 0.0000, 0.0000, 0.0000, 0.0000, 0.0000],\n",
       "          [0.0000, 0.0000, 0.0000, 0.0000, 0.0000, 0.0000, 0.0206, 0.0353,\n",
       "           0.2569, 0.1971, 0.4127, 0.3667, 0.0000, 0.0000],\n",
       "          [0.0000, 0.0000, 0.0000, 0.0480, 0.5461, 0.7392, 0.9108, 0.9922,\n",
       "           0.9902, 0.5608, 0.6206, 0.2922, 0.0000, 0.0000],\n",
       "          [0.0000, 0.0000, 0.0000, 0.0176, 0.6941, 0.8490, 0.9451, 0.3833,\n",
       "           0.6716, 0.0000, 0.0000, 0.0000, 0.0000, 0.0000],\n",
       "          [0.0000, 0.0000, 0.0000, 0.0000, 0.0137, 0.2882, 0.7706, 0.0020,\n",
       "           0.0000, 0.0000, 0.0000, 0.0000, 0.0000, 0.0000],\n",
       "          [0.0000, 0.0000, 0.0000, 0.0000, 0.0000, 0.0108, 0.7049, 0.4461,\n",
       "           0.1069, 0.0000, 0.0000, 0.0000, 0.0000, 0.0000],\n",
       "          [0.0000, 0.0000, 0.0000, 0.0000, 0.0000, 0.0000, 0.0794, 0.7098,\n",
       "           0.8608, 0.1980, 0.0000, 0.0000, 0.0000, 0.0000],\n",
       "          [0.0000, 0.0000, 0.0000, 0.0000, 0.0000, 0.0000, 0.0000, 0.0157,\n",
       "           0.5824, 0.9235, 0.0627, 0.0000, 0.0000, 0.0000],\n",
       "          [0.0000, 0.0000, 0.0000, 0.0000, 0.0000, 0.0000, 0.1833, 0.6451,\n",
       "           0.9235, 0.8745, 0.0020, 0.0000, 0.0000, 0.0000],\n",
       "          [0.0000, 0.0000, 0.0000, 0.0000, 0.0873, 0.5922, 0.9608, 0.9382,\n",
       "           0.5265, 0.0765, 0.0000, 0.0000, 0.0000, 0.0000],\n",
       "          [0.0000, 0.0000, 0.2225, 0.6549, 0.9588, 0.9833, 0.5804, 0.0873,\n",
       "           0.0000, 0.0000, 0.0000, 0.0000, 0.0000, 0.0000],\n",
       "          [0.0000, 0.0000, 0.3814, 0.4961, 0.3402, 0.1451, 0.0000, 0.0000,\n",
       "           0.0000, 0.0000, 0.0000, 0.0000, 0.0000, 0.0000],\n",
       "          [0.0000, 0.0000, 0.0000, 0.0000, 0.0000, 0.0000, 0.0000, 0.0000,\n",
       "           0.0000, 0.0000, 0.0000, 0.0000, 0.0000, 0.0000]]]), 5)"
      ]
     },
     "execution_count": 4,
     "metadata": {},
     "output_type": "execute_result"
    }
   ],
   "source": [
    "train_data[0]"
   ]
  },
  {
   "cell_type": "code",
   "execution_count": 5,
   "id": "b044cd6e",
   "metadata": {},
   "outputs": [
    {
     "data": {
      "text/plain": [
       "tensor([[[0.0000, 0.0000, 0.0000, 0.0000, 0.0000, 0.0000, 0.0000, 0.0000,\n",
       "          0.0000, 0.0000, 0.0000, 0.0000, 0.0000, 0.0000],\n",
       "         [0.0000, 0.0000, 0.0000, 0.0000, 0.0000, 0.0000, 0.0000, 0.0000,\n",
       "          0.0000, 0.0000, 0.0000, 0.0000, 0.0000, 0.0000],\n",
       "         [0.0000, 0.0000, 0.0000, 0.0000, 0.0000, 0.0000, 0.0206, 0.0353,\n",
       "          0.2569, 0.1971, 0.4127, 0.3667, 0.0000, 0.0000],\n",
       "         [0.0000, 0.0000, 0.0000, 0.0480, 0.5461, 0.7392, 0.9108, 0.9922,\n",
       "          0.9902, 0.5608, 0.6206, 0.2922, 0.0000, 0.0000],\n",
       "         [0.0000, 0.0000, 0.0000, 0.0176, 0.6941, 0.8490, 0.9451, 0.3833,\n",
       "          0.6716, 0.0000, 0.0000, 0.0000, 0.0000, 0.0000],\n",
       "         [0.0000, 0.0000, 0.0000, 0.0000, 0.0137, 0.2882, 0.7706, 0.0020,\n",
       "          0.0000, 0.0000, 0.0000, 0.0000, 0.0000, 0.0000],\n",
       "         [0.0000, 0.0000, 0.0000, 0.0000, 0.0000, 0.0108, 0.7049, 0.4461,\n",
       "          0.1069, 0.0000, 0.0000, 0.0000, 0.0000, 0.0000],\n",
       "         [0.0000, 0.0000, 0.0000, 0.0000, 0.0000, 0.0000, 0.0794, 0.7098,\n",
       "          0.8608, 0.1980, 0.0000, 0.0000, 0.0000, 0.0000],\n",
       "         [0.0000, 0.0000, 0.0000, 0.0000, 0.0000, 0.0000, 0.0000, 0.0157,\n",
       "          0.5824, 0.9235, 0.0627, 0.0000, 0.0000, 0.0000],\n",
       "         [0.0000, 0.0000, 0.0000, 0.0000, 0.0000, 0.0000, 0.1833, 0.6451,\n",
       "          0.9235, 0.8745, 0.0020, 0.0000, 0.0000, 0.0000],\n",
       "         [0.0000, 0.0000, 0.0000, 0.0000, 0.0873, 0.5922, 0.9608, 0.9382,\n",
       "          0.5265, 0.0765, 0.0000, 0.0000, 0.0000, 0.0000],\n",
       "         [0.0000, 0.0000, 0.2225, 0.6549, 0.9588, 0.9833, 0.5804, 0.0873,\n",
       "          0.0000, 0.0000, 0.0000, 0.0000, 0.0000, 0.0000],\n",
       "         [0.0000, 0.0000, 0.3814, 0.4961, 0.3402, 0.1451, 0.0000, 0.0000,\n",
       "          0.0000, 0.0000, 0.0000, 0.0000, 0.0000, 0.0000],\n",
       "         [0.0000, 0.0000, 0.0000, 0.0000, 0.0000, 0.0000, 0.0000, 0.0000,\n",
       "          0.0000, 0.0000, 0.0000, 0.0000, 0.0000, 0.0000]]])"
      ]
     },
     "execution_count": 5,
     "metadata": {},
     "output_type": "execute_result"
    }
   ],
   "source": [
    "train_data[0][0]"
   ]
  },
  {
   "cell_type": "code",
   "execution_count": 6,
   "id": "bc4b42d2",
   "metadata": {},
   "outputs": [
    {
     "data": {
      "text/plain": [
       "torch.Size([1, 14, 14])"
      ]
     },
     "execution_count": 6,
     "metadata": {},
     "output_type": "execute_result"
    }
   ],
   "source": [
    "# Prints the entire dataset\n",
    "train_data[0][0].shape"
   ]
  },
  {
   "cell_type": "code",
   "execution_count": 7,
   "id": "811d6264",
   "metadata": {},
   "outputs": [
    {
     "data": {
      "text/plain": [
       "tensor([[0.0000, 0.0000, 0.0000, 0.0000, 0.0000, 0.0000, 0.0000, 0.0000, 0.0000,\n",
       "         0.0000, 0.0000, 0.0000, 0.0000, 0.0000],\n",
       "        [0.0000, 0.0000, 0.0000, 0.0000, 0.0000, 0.0000, 0.0000, 0.0000, 0.0000,\n",
       "         0.0000, 0.0000, 0.0000, 0.0000, 0.0000],\n",
       "        [0.0000, 0.0000, 0.0000, 0.0000, 0.0000, 0.0000, 0.0206, 0.0353, 0.2569,\n",
       "         0.1971, 0.4127, 0.3667, 0.0000, 0.0000],\n",
       "        [0.0000, 0.0000, 0.0000, 0.0480, 0.5461, 0.7392, 0.9108, 0.9922, 0.9902,\n",
       "         0.5608, 0.6206, 0.2922, 0.0000, 0.0000],\n",
       "        [0.0000, 0.0000, 0.0000, 0.0176, 0.6941, 0.8490, 0.9451, 0.3833, 0.6716,\n",
       "         0.0000, 0.0000, 0.0000, 0.0000, 0.0000],\n",
       "        [0.0000, 0.0000, 0.0000, 0.0000, 0.0137, 0.2882, 0.7706, 0.0020, 0.0000,\n",
       "         0.0000, 0.0000, 0.0000, 0.0000, 0.0000],\n",
       "        [0.0000, 0.0000, 0.0000, 0.0000, 0.0000, 0.0108, 0.7049, 0.4461, 0.1069,\n",
       "         0.0000, 0.0000, 0.0000, 0.0000, 0.0000],\n",
       "        [0.0000, 0.0000, 0.0000, 0.0000, 0.0000, 0.0000, 0.0794, 0.7098, 0.8608,\n",
       "         0.1980, 0.0000, 0.0000, 0.0000, 0.0000],\n",
       "        [0.0000, 0.0000, 0.0000, 0.0000, 0.0000, 0.0000, 0.0000, 0.0157, 0.5824,\n",
       "         0.9235, 0.0627, 0.0000, 0.0000, 0.0000],\n",
       "        [0.0000, 0.0000, 0.0000, 0.0000, 0.0000, 0.0000, 0.1833, 0.6451, 0.9235,\n",
       "         0.8745, 0.0020, 0.0000, 0.0000, 0.0000],\n",
       "        [0.0000, 0.0000, 0.0000, 0.0000, 0.0873, 0.5922, 0.9608, 0.9382, 0.5265,\n",
       "         0.0765, 0.0000, 0.0000, 0.0000, 0.0000],\n",
       "        [0.0000, 0.0000, 0.2225, 0.6549, 0.9588, 0.9833, 0.5804, 0.0873, 0.0000,\n",
       "         0.0000, 0.0000, 0.0000, 0.0000, 0.0000],\n",
       "        [0.0000, 0.0000, 0.3814, 0.4961, 0.3402, 0.1451, 0.0000, 0.0000, 0.0000,\n",
       "         0.0000, 0.0000, 0.0000, 0.0000, 0.0000],\n",
       "        [0.0000, 0.0000, 0.0000, 0.0000, 0.0000, 0.0000, 0.0000, 0.0000, 0.0000,\n",
       "         0.0000, 0.0000, 0.0000, 0.0000, 0.0000]])"
      ]
     },
     "execution_count": 7,
     "metadata": {},
     "output_type": "execute_result"
    }
   ],
   "source": [
    "# Prints one image\n",
    "train_data[0][0][0]"
   ]
  },
  {
   "cell_type": "code",
   "execution_count": 8,
   "id": "025495f2",
   "metadata": {},
   "outputs": [
    {
     "data": {
      "text/plain": [
       "tensor([0., 0., 0., 0., 0., 0., 0., 0., 0., 0., 0., 0., 0., 0.])"
      ]
     },
     "execution_count": 8,
     "metadata": {},
     "output_type": "execute_result"
    }
   ],
   "source": [
    "# Prints one array of pixels (not the entire image)\n",
    "train_data[0][0][0][0]"
   ]
  },
  {
   "cell_type": "code",
   "execution_count": 9,
   "id": "e9bf47c1",
   "metadata": {},
   "outputs": [
    {
     "data": {
      "text/plain": [
       "<matplotlib.image.AxesImage at 0x7fcc1719d080>"
      ]
     },
     "execution_count": 9,
     "metadata": {},
     "output_type": "execute_result"
    },
    {
     "data": {
      "image/png": "[encoded data removed]",
      "text/plain": [
       "<Figure size 432x288 with 1 Axes>"
      ]
     },
     "metadata": {
      "needs_background": "light"
     },
     "output_type": "display_data"
    }
   ],
   "source": [
    "plt.imshow(train_data[1][0][0])"
   ]
  },
  {
   "cell_type": "code",
   "execution_count": 10,
   "id": "b2fb67e3",
   "metadata": {},
   "outputs": [
    {
     "data": {
      "text/plain": [
       "tensor([[[  0,   0,   0,  ...,   0,   0,   0],\n",
       "         [  0,   0,   0,  ...,   0,   0,   0],\n",
       "         [  0,   0,   0,  ...,  94,   0,   0],\n",
       "         ...,\n",
       "         [  0,   0,  57,  ...,   0,   0,   0],\n",
       "         [  0,   0,  97,  ...,   0,   0,   0],\n",
       "         [  0,   0,   0,  ...,   0,   0,   0]],\n",
       "\n",
       "        [[  0,   0,   0,  ...,   0,   0,   0],\n",
       "         [  0,   0,   0,  ...,   0,   0,   0],\n",
       "         [  0,   0,   0,  ...,   0,   0,   0],\n",
       "         ...,\n",
       "         [  0,   0,   0,  ...,   0,   0,   0],\n",
       "         [  0,   0,   0,  ...,   0,   0,   0],\n",
       "         [  0,   0,   0,  ...,   0,   0,   0]],\n",
       "\n",
       "        [[  0,   0,   0,  ...,   0,   0,   0],\n",
       "         [  0,   0,   0,  ...,   0,   0,   0],\n",
       "         [  0,   0,   0,  ...,  10,   0,   0],\n",
       "         ...,\n",
       "         [  0,   0,   0,  ...,   0,   0,   0],\n",
       "         [  0,   0,   0,  ...,   0,   0,   0],\n",
       "         [  0,   0,   0,  ...,   0,   0,   0]],\n",
       "\n",
       "        ...,\n",
       "\n",
       "        [[  0,   0,   0,  ...,   0,   0,   0],\n",
       "         [  0,   0,   0,  ...,   0,   0,   0],\n",
       "         [  0,   0,   0,  ..., 128,  30,   0],\n",
       "         ...,\n",
       "         [  0,   0,  78,  ...,   0,   0,   0],\n",
       "         [  0,   0,   0,  ...,   0,   0,   0],\n",
       "         [  0,   0,   0,  ...,   0,   0,   0]],\n",
       "\n",
       "        [[  0,   0,   0,  ...,   0,   0,   0],\n",
       "         [  0,   0,   0,  ...,   0,   0,   0],\n",
       "         [  0,   0,   0,  ...,   0,   0,   0],\n",
       "         ...,\n",
       "         [  0,   0,   0,  ...,   0,   0,   0],\n",
       "         [  0,   0,   0,  ...,   0,   0,   0],\n",
       "         [  0,   0,   0,  ...,   0,   0,   0]],\n",
       "\n",
       "        [[  0,   0,   0,  ...,   0,   0,   0],\n",
       "         [  0,   0,   0,  ...,   0,   0,   0],\n",
       "         [  0,   0,   0,  ...,   0,   0,   0],\n",
       "         ...,\n",
       "         [  0,   0,   0,  ...,   0,   0,   0],\n",
       "         [  0,   0,   0,  ...,   0,   0,   0],\n",
       "         [  0,   0,   0,  ...,   0,   0,   0]]], dtype=torch.uint8)"
      ]
     },
     "execution_count": 10,
     "metadata": {},
     "output_type": "execute_result"
    }
   ],
   "source": [
    "transforms.Resize(size=14)(train_data.data)"
   ]
  },
  {
   "cell_type": "code",
   "execution_count": 11,
   "id": "0c89ac88",
   "metadata": {},
   "outputs": [
    {
     "data": {
      "text/plain": [
       "torchvision.datasets.mnist.MNIST"
      ]
     },
     "execution_count": 11,
     "metadata": {},
     "output_type": "execute_result"
    }
   ],
   "source": [
    "type(train_data)"
   ]
  },
  {
   "cell_type": "code",
   "execution_count": 12,
   "id": "c91f859f",
   "metadata": {},
   "outputs": [
    {
     "name": "stderr",
     "output_type": "stream",
     "text": [
      "/Users/cristianespinosa/opt/anaconda3/envs/tensor/lib/python3.6/site-packages/torchvision/datasets/mnist.py:62: UserWarning: train_data has been renamed data\n",
      "  warnings.warn(\"train_data has been renamed data\")\n"
     ]
    },
    {
     "data": {
      "text/plain": [
       "<matplotlib.image.AxesImage at 0x7fcc1740d9e8>"
      ]
     },
     "execution_count": 12,
     "metadata": {},
     "output_type": "execute_result"
    },
    {
     "data": {
      "image/png": "[encoded data removed]",
      "text/plain": [
       "<Figure size 432x288 with 1 Axes>"
      ]
     },
     "metadata": {
      "needs_background": "light"
     },
     "output_type": "display_data"
    }
   ],
   "source": [
    "plt.imshow(train_data.train_data[0])"
   ]
  },
  {
   "cell_type": "code",
   "execution_count": 13,
   "id": "4ad3acad",
   "metadata": {},
   "outputs": [],
   "source": [
    "# Resize(size[, interpolation, max_size, …])"
   ]
  },
  {
   "cell_type": "code",
   "execution_count": 14,
   "id": "42b6b63f",
   "metadata": {},
   "outputs": [
    {
     "name": "stderr",
     "output_type": "stream",
     "text": [
      "/Users/cristianespinosa/opt/anaconda3/envs/tensor/lib/python3.6/site-packages/torchvision/datasets/mnist.py:62: UserWarning: train_data has been renamed data\n",
      "  warnings.warn(\"train_data has been renamed data\")\n"
     ]
    },
    {
     "data": {
      "text/plain": [
       "<matplotlib.image.AxesImage at 0x7fcbff4c1a20>"
      ]
     },
     "execution_count": 14,
     "metadata": {},
     "output_type": "execute_result"
    },
    {
     "data": {
      "image/png": "[encoded data removed]",
      "text/plain": [
       "<Figure size 432x288 with 1 Axes>"
      ]
     },
     "metadata": {
      "needs_background": "light"
     },
     "output_type": "display_data"
    }
   ],
   "source": [
    "resized = transforms.Resize(size=14)(train_data.train_data)\n",
    "plt.imshow(resized[0])"
   ]
  },
  {
   "cell_type": "code",
   "execution_count": 15,
   "id": "651db763",
   "metadata": {},
   "outputs": [
    {
     "data": {
      "text/plain": [
       "torch.Tensor"
      ]
     },
     "execution_count": 15,
     "metadata": {},
     "output_type": "execute_result"
    }
   ],
   "source": [
    "type(resized)"
   ]
  },
  {
   "cell_type": "code",
   "execution_count": 16,
   "id": "feb099b7",
   "metadata": {},
   "outputs": [
    {
     "name": "stderr",
     "output_type": "stream",
     "text": [
      "/Users/cristianespinosa/opt/anaconda3/envs/tensor/lib/python3.6/site-packages/torchvision/datasets/mnist.py:62: UserWarning: train_data has been renamed data\n",
      "  warnings.warn(\"train_data has been renamed data\")\n"
     ]
    }
   ],
   "source": [
    "resized_28 = transforms.Resize(size=28)(train_data.train_data)\n",
    "resized_14 = transforms.Resize(size=14)(train_data.train_data)\n",
    "resized_7 = transforms.Resize(size=7)(train_data.train_data)\n",
    "resized_4 = transforms.Resize(size=4)(train_data.train_data)"
   ]
  },
  {
   "cell_type": "code",
   "execution_count": 17,
   "id": "ff886808",
   "metadata": {},
   "outputs": [
    {
     "data": {
      "text/plain": [
       "<matplotlib.image.AxesImage at 0x7fcbdc0cca58>"
      ]
     },
     "execution_count": 17,
     "metadata": {},
     "output_type": "execute_result"
    },
    {
     "data": {
      "image/png": "[encoded data removed]",
      "text/plain": [
       "<Figure size 432x288 with 4 Axes>"
      ]
     },
     "metadata": {
      "needs_background": "light"
     },
     "output_type": "display_data"
    }
   ],
   "source": [
    "f, axarr = plt.subplots(1,4)\n",
    "axarr[0].imshow(resized_28[0])\n",
    "axarr[1].imshow(resized_14[0])\n",
    "axarr[2].imshow(resized_7[0])\n",
    "axarr[3].imshow(resized_4[0])"
   ]
  },
  {
   "cell_type": "markdown",
   "id": "f9963265",
   "metadata": {},
   "source": [
    "<h1>Using Pytorch's Data loaders to feed data into CNN</h1>"
   ]
  },
  {
   "cell_type": "code",
   "execution_count": 18,
   "id": "2388d129",
   "metadata": {},
   "outputs": [
    {
     "data": {
      "text/plain": [
       "{'train': <torch.utils.data.dataloader.DataLoader at 0x7fcbef431898>,\n",
       " 'test': <torch.utils.data.dataloader.DataLoader at 0x7fcc126ba748>}"
      ]
     },
     "execution_count": 18,
     "metadata": {},
     "output_type": "execute_result"
    }
   ],
   "source": [
    "loaders = {\n",
    "    'train' : torch.utils.data.DataLoader(train_data, \n",
    "                                          batch_size=100, \n",
    "                                          shuffle=True, \n",
    "                                          num_workers=1),\n",
    "    \n",
    "    'test'  : torch.utils.data.DataLoader(test_data, \n",
    "                                          batch_size=100, \n",
    "                                          shuffle=True, \n",
    "                                          num_workers=1),\n",
    "}\n",
    "loaders"
   ]
  },
  {
   "cell_type": "markdown",
   "id": "65072918",
   "metadata": {},
   "source": [
    "<h1>Defining the CNN</h1>"
   ]
  },
  {
   "cell_type": "code",
   "execution_count": 19,
   "id": "c01124f9",
   "metadata": {},
   "outputs": [],
   "source": [
    "class CNN(nn.Module):\n",
    "    def __init__(self):\n",
    "        super(CNN, self).__init__()\n",
    "        '''\n",
    "        Goes through two layers of 2D convolutions, each followed by a 2x2 max pooling\n",
    "        \n",
    "        Dimensions:\n",
    "        1.) Input Shape:          [batch_size, 1, 14, 14]\n",
    "        \n",
    "        2.) After conv:           [batch_size, 4, 12, 12]\n",
    "            After max pooling:    [batch_size, 4, 6, 6]\n",
    "        \n",
    "        3.) After conv:           [batch_size, 8, 4, 4]\n",
    "            After max pooling:    [batch_size, 8, 2, 2]\n",
    "            \n",
    "        4.) After flattening:     [batch_size, 8 * 2 * 2]\n",
    "        '''\n",
    "        self.conv1 = nn.Sequential(         \n",
    "            nn.Conv2d(\n",
    "                in_channels=1,              \n",
    "                out_channels=4,            \n",
    "                kernel_size=3,              \n",
    "                stride=1,                   \n",
    "                padding=0,                  \n",
    "            ),                              \n",
    "            nn.ReLU(),                      \n",
    "            nn.MaxPool2d(kernel_size=2),    \n",
    "        )\n",
    "        self.conv2 = nn.Sequential(         \n",
    "            nn.Conv2d(4, 8, 3, 1, 0),     \n",
    "            nn.ReLU(),                      \n",
    "            nn.MaxPool2d(2),                \n",
    "        )\n",
    "        # fully connected layer, output 10 classes\n",
    "        self.out = nn.Linear(8 * 2 * 2, 10)\n",
    "        \n",
    "    def forward(self, x):\n",
    "        x = self.conv1(x)\n",
    "        x = self.conv2(x)\n",
    "        # flatten the output of conv2 to (batch_size, 16 * 8 * 8)\n",
    "        x = x.view(x.size(0), -1)       \n",
    "        output = self.out(x)\n",
    "        return output, x    # return x for visualization\n",
    "    \n",
    "    \n",
    "    def compute_sizes(in_size, ker_size, padding, stride):\n",
    "        pass"
   ]
  },
  {
   "cell_type": "code",
   "execution_count": 20,
   "id": "fe59cb9a",
   "metadata": {},
   "outputs": [
    {
     "name": "stdout",
     "output_type": "stream",
     "text": [
      "CNN(\n",
      "  (conv1): Sequential(\n",
      "    (0): Conv2d(1, 4, kernel_size=(3, 3), stride=(1, 1))\n",
      "    (1): ReLU()\n",
      "    (2): MaxPool2d(kernel_size=2, stride=2, padding=0, dilation=1, ceil_mode=False)\n",
      "  )\n",
      "  (conv2): Sequential(\n",
      "    (0): Conv2d(4, 8, kernel_size=(3, 3), stride=(1, 1))\n",
      "    (1): ReLU()\n",
      "    (2): MaxPool2d(kernel_size=2, stride=2, padding=0, dilation=1, ceil_mode=False)\n",
      "  )\n",
      "  (out): Linear(in_features=32, out_features=10, bias=True)\n",
      ")\n"
     ]
    }
   ],
   "source": [
    "cnn = CNN()\n",
    "print(cnn)"
   ]
  },
  {
   "cell_type": "code",
   "execution_count": 21,
   "id": "62626944",
   "metadata": {},
   "outputs": [
    {
     "name": "stdout",
     "output_type": "stream",
     "text": [
      "CrossEntropyLoss()\n",
      "Adam (\n",
      "Parameter Group 0\n",
      "    amsgrad: False\n",
      "    betas: (0.9, 0.999)\n",
      "    eps: 1e-08\n",
      "    lr: 1e-05\n",
      "    weight_decay: 0\n",
      ")\n"
     ]
    }
   ],
   "source": [
    "loss_func = nn.CrossEntropyLoss(); print(loss_func)   \n",
    "optimizer = torch.optim.Adam(cnn.parameters(), lr= 1e-5); print(optimizer)"
   ]
  },
  {
   "cell_type": "markdown",
   "id": "abba8cd7",
   "metadata": {},
   "source": [
    "<h1>Training the CNN</h1>\n",
    "<div>Error source may be that the dataset resized_28 doesn't have 'labels', just 'images' ---> (for i, (images, labels))</div>"
   ]
  },
  {
   "cell_type": "code",
   "execution_count": 22,
   "id": "b2ce80d6",
   "metadata": {
    "scrolled": true
   },
   "outputs": [
    {
     "name": "stdout",
     "output_type": "stream",
     "text": [
      "Epoch [1/100], Step [100/600], Loss: 2.3170, Accuracy: 0.1100\n",
      "Epoch [1/100], Step [200/600], Loss: 2.3181, Accuracy: 0.1000\n",
      "Epoch [1/100], Step [300/600], Loss: 2.3140, Accuracy: 0.1400\n",
      "Epoch [1/100], Step [400/600], Loss: 2.3126, Accuracy: 0.1100\n",
      "Epoch [1/100], Step [500/600], Loss: 2.3128, Accuracy: 0.1000\n",
      "Epoch [1/100], Step [600/600], Loss: 2.3125, Accuracy: 0.1200\n",
      "Epoch [2/100], Step [100/600], Loss: 2.3195, Accuracy: 0.0900\n",
      "Epoch [2/100], Step [200/600], Loss: 2.3060, Accuracy: 0.1200\n",
      "Epoch [2/100], Step [300/600], Loss: 2.3045, Accuracy: 0.1200\n",
      "Epoch [2/100], Step [400/600], Loss: 2.3094, Accuracy: 0.0600\n",
      "Epoch [2/100], Step [500/600], Loss: 2.3115, Accuracy: 0.0800\n",
      "Epoch [2/100], Step [600/600], Loss: 2.3132, Accuracy: 0.1300\n",
      "Epoch [3/100], Step [100/600], Loss: 2.3019, Accuracy: 0.1400\n",
      "Epoch [3/100], Step [200/600], Loss: 2.3157, Accuracy: 0.0800\n",
      "Epoch [3/100], Step [300/600], Loss: 2.3001, Accuracy: 0.1000\n",
      "Epoch [3/100], Step [400/600], Loss: 2.2844, Accuracy: 0.1600\n",
      "Epoch [3/100], Step [500/600], Loss: 2.3194, Accuracy: 0.1100\n",
      "Epoch [3/100], Step [600/600], Loss: 2.2939, Accuracy: 0.1300\n",
      "Epoch [4/100], Step [100/600], Loss: 2.2974, Accuracy: 0.0900\n",
      "Epoch [4/100], Step [200/600], Loss: 2.2842, Accuracy: 0.1500\n",
      "Epoch [4/100], Step [300/600], Loss: 2.2964, Accuracy: 0.1400\n",
      "Epoch [4/100], Step [400/600], Loss: 2.2967, Accuracy: 0.1200\n",
      "Epoch [4/100], Step [500/600], Loss: 2.3067, Accuracy: 0.0700\n",
      "Epoch [4/100], Step [600/600], Loss: 2.2978, Accuracy: 0.1500\n",
      "Epoch [5/100], Step [100/600], Loss: 2.3029, Accuracy: 0.1000\n",
      "Epoch [5/100], Step [200/600], Loss: 2.2968, Accuracy: 0.1000\n",
      "Epoch [5/100], Step [300/600], Loss: 2.2943, Accuracy: 0.1600\n",
      "Epoch [5/100], Step [400/600], Loss: 2.3016, Accuracy: 0.1500\n",
      "Epoch [5/100], Step [500/600], Loss: 2.2911, Accuracy: 0.1600\n",
      "Epoch [5/100], Step [600/600], Loss: 2.2851, Accuracy: 0.1900\n",
      "Epoch [6/100], Step [100/600], Loss: 2.2832, Accuracy: 0.1800\n",
      "Epoch [6/100], Step [200/600], Loss: 2.2941, Accuracy: 0.1300\n",
      "Epoch [6/100], Step [300/600], Loss: 2.2860, Accuracy: 0.2100\n",
      "Epoch [6/100], Step [400/600], Loss: 2.2754, Accuracy: 0.2600\n",
      "Epoch [6/100], Step [500/600], Loss: 2.2853, Accuracy: 0.1900\n",
      "Epoch [6/100], Step [600/600], Loss: 2.2937, Accuracy: 0.1400\n",
      "Epoch [7/100], Step [100/600], Loss: 2.2771, Accuracy: 0.1800\n",
      "Epoch [7/100], Step [200/600], Loss: 2.2784, Accuracy: 0.1900\n",
      "Epoch [7/100], Step [300/600], Loss: 2.2770, Accuracy: 0.2000\n",
      "Epoch [7/100], Step [400/600], Loss: 2.2815, Accuracy: 0.1900\n",
      "Epoch [7/100], Step [500/600], Loss: 2.2729, Accuracy: 0.2300\n",
      "Epoch [7/100], Step [600/600], Loss: 2.2769, Accuracy: 0.2000\n",
      "Epoch [8/100], Step [100/600], Loss: 2.2668, Accuracy: 0.2500\n",
      "Epoch [8/100], Step [200/600], Loss: 2.2825, Accuracy: 0.1600\n",
      "Epoch [8/100], Step [300/600], Loss: 2.2647, Accuracy: 0.3100\n",
      "Epoch [8/100], Step [400/600], Loss: 2.2742, Accuracy: 0.1600\n",
      "Epoch [8/100], Step [500/600], Loss: 2.2641, Accuracy: 0.2100\n",
      "Epoch [8/100], Step [600/600], Loss: 2.2579, Accuracy: 0.2500\n",
      "Epoch [9/100], Step [100/600], Loss: 2.2487, Accuracy: 0.3000\n",
      "Epoch [9/100], Step [200/600], Loss: 2.2653, Accuracy: 0.2200\n",
      "Epoch [9/100], Step [300/600], Loss: 2.2588, Accuracy: 0.2200\n",
      "Epoch [9/100], Step [400/600], Loss: 2.2629, Accuracy: 0.2200\n",
      "Epoch [9/100], Step [500/600], Loss: 2.2565, Accuracy: 0.2100\n",
      "Epoch [9/100], Step [600/600], Loss: 2.2396, Accuracy: 0.3200\n",
      "Epoch [10/100], Step [100/600], Loss: 2.2632, Accuracy: 0.1700\n",
      "Epoch [10/100], Step [200/600], Loss: 2.2449, Accuracy: 0.3600\n",
      "Epoch [10/100], Step [300/600], Loss: 2.2361, Accuracy: 0.2700\n",
      "Epoch [10/100], Step [400/600], Loss: 2.2386, Accuracy: 0.2800\n",
      "Epoch [10/100], Step [500/600], Loss: 2.2513, Accuracy: 0.1800\n",
      "Epoch [10/100], Step [600/600], Loss: 2.2450, Accuracy: 0.2400\n",
      "Epoch [11/100], Step [100/600], Loss: 2.2245, Accuracy: 0.3100\n",
      "Epoch [11/100], Step [200/600], Loss: 2.2553, Accuracy: 0.2100\n",
      "Epoch [11/100], Step [300/600], Loss: 2.2327, Accuracy: 0.3400\n",
      "Epoch [11/100], Step [400/600], Loss: 2.2213, Accuracy: 0.3700\n",
      "Epoch [11/100], Step [500/600], Loss: 2.2305, Accuracy: 0.3000\n",
      "Epoch [11/100], Step [600/600], Loss: 2.2155, Accuracy: 0.3200\n",
      "Epoch [12/100], Step [100/600], Loss: 2.2195, Accuracy: 0.3400\n",
      "Epoch [12/100], Step [200/600], Loss: 2.1985, Accuracy: 0.3600\n",
      "Epoch [12/100], Step [300/600], Loss: 2.2136, Accuracy: 0.2800\n",
      "Epoch [12/100], Step [400/600], Loss: 2.2328, Accuracy: 0.3200\n",
      "Epoch [12/100], Step [500/600], Loss: 2.2032, Accuracy: 0.3600\n",
      "Epoch [12/100], Step [600/600], Loss: 2.2057, Accuracy: 0.3400\n",
      "Epoch [13/100], Step [100/600], Loss: 2.1968, Accuracy: 0.3400\n",
      "Epoch [13/100], Step [200/600], Loss: 2.2244, Accuracy: 0.3000\n",
      "Epoch [13/100], Step [300/600], Loss: 2.2043, Accuracy: 0.3400\n",
      "Epoch [13/100], Step [400/600], Loss: 2.2066, Accuracy: 0.3500\n",
      "Epoch [13/100], Step [500/600], Loss: 2.1785, Accuracy: 0.4000\n",
      "Epoch [13/100], Step [600/600], Loss: 2.1843, Accuracy: 0.3800\n",
      "Epoch [14/100], Step [100/600], Loss: 2.1766, Accuracy: 0.3900\n",
      "Epoch [14/100], Step [200/600], Loss: 2.1915, Accuracy: 0.3100\n",
      "Epoch [14/100], Step [300/600], Loss: 2.1756, Accuracy: 0.4300\n",
      "Epoch [14/100], Step [400/600], Loss: 2.1803, Accuracy: 0.3900\n",
      "Epoch [14/100], Step [500/600], Loss: 2.1580, Accuracy: 0.4400\n",
      "Epoch [14/100], Step [600/600], Loss: 2.1501, Accuracy: 0.4100\n",
      "Epoch [15/100], Step [100/600], Loss: 2.1833, Accuracy: 0.3400\n",
      "Epoch [15/100], Step [200/600], Loss: 2.1538, Accuracy: 0.3800\n",
      "Epoch [15/100], Step [300/600], Loss: 2.1537, Accuracy: 0.3800\n",
      "Epoch [15/100], Step [400/600], Loss: 2.1508, Accuracy: 0.4100\n",
      "Epoch [15/100], Step [500/600], Loss: 2.1438, Accuracy: 0.4600\n",
      "Epoch [15/100], Step [600/600], Loss: 2.1567, Accuracy: 0.4200\n",
      "Epoch [16/100], Step [100/600], Loss: 2.1107, Accuracy: 0.4600\n",
      "Epoch [16/100], Step [200/600], Loss: 2.1560, Accuracy: 0.3700\n",
      "Epoch [16/100], Step [300/600], Loss: 2.1454, Accuracy: 0.3500\n",
      "Epoch [16/100], Step [400/600], Loss: 2.1527, Accuracy: 0.3800\n",
      "Epoch [16/100], Step [500/600], Loss: 2.1219, Accuracy: 0.3400\n",
      "Epoch [16/100], Step [600/600], Loss: 2.1550, Accuracy: 0.3000\n",
      "Epoch [17/100], Step [100/600], Loss: 2.1116, Accuracy: 0.4500\n",
      "Epoch [17/100], Step [200/600], Loss: 2.1075, Accuracy: 0.4500\n",
      "Epoch [17/100], Step [300/600], Loss: 2.1233, Accuracy: 0.4200\n",
      "Epoch [17/100], Step [400/600], Loss: 2.1061, Accuracy: 0.4100\n",
      "Epoch [17/100], Step [500/600], Loss: 2.1159, Accuracy: 0.3900\n",
      "Epoch [17/100], Step [600/600], Loss: 2.1138, Accuracy: 0.4300\n",
      "Epoch [18/100], Step [100/600], Loss: 2.0709, Accuracy: 0.5100\n",
      "Epoch [18/100], Step [200/600], Loss: 2.0629, Accuracy: 0.4500\n",
      "Epoch [18/100], Step [300/600], Loss: 2.0957, Accuracy: 0.4700\n",
      "Epoch [18/100], Step [400/600], Loss: 2.0993, Accuracy: 0.4000\n",
      "Epoch [18/100], Step [500/600], Loss: 2.0648, Accuracy: 0.4700\n",
      "Epoch [18/100], Step [600/600], Loss: 2.0616, Accuracy: 0.5100\n",
      "Epoch [19/100], Step [100/600], Loss: 2.0643, Accuracy: 0.5100\n",
      "Epoch [19/100], Step [200/600], Loss: 2.0619, Accuracy: 0.4700\n",
      "Epoch [19/100], Step [300/600], Loss: 2.0533, Accuracy: 0.5100\n",
      "Epoch [19/100], Step [400/600], Loss: 2.0702, Accuracy: 0.4000\n",
      "Epoch [19/100], Step [500/600], Loss: 2.0821, Accuracy: 0.4400\n",
      "Epoch [19/100], Step [600/600], Loss: 2.0289, Accuracy: 0.5300\n",
      "Epoch [20/100], Step [100/600], Loss: 2.0482, Accuracy: 0.4800\n",
      "Epoch [20/100], Step [200/600], Loss: 2.0270, Accuracy: 0.5500\n",
      "Epoch [20/100], Step [300/600], Loss: 2.0002, Accuracy: 0.6200\n",
      "Epoch [20/100], Step [400/600], Loss: 2.0239, Accuracy: 0.5300\n",
      "Epoch [20/100], Step [500/600], Loss: 2.0352, Accuracy: 0.5500\n",
      "Epoch [20/100], Step [600/600], Loss: 2.0085, Accuracy: 0.4900\n",
      "Epoch [21/100], Step [100/600], Loss: 1.9900, Accuracy: 0.5700\n",
      "Epoch [21/100], Step [200/600], Loss: 1.9970, Accuracy: 0.5300\n",
      "Epoch [21/100], Step [300/600], Loss: 1.9422, Accuracy: 0.6100\n",
      "Epoch [21/100], Step [400/600], Loss: 2.0331, Accuracy: 0.4100\n",
      "Epoch [21/100], Step [500/600], Loss: 1.9442, Accuracy: 0.5500\n",
      "Epoch [21/100], Step [600/600], Loss: 1.9679, Accuracy: 0.5300\n",
      "Epoch [22/100], Step [100/600], Loss: 1.9635, Accuracy: 0.5000\n",
      "Epoch [22/100], Step [200/600], Loss: 1.9474, Accuracy: 0.5500\n",
      "Epoch [22/100], Step [300/600], Loss: 2.0040, Accuracy: 0.5500\n",
      "Epoch [22/100], Step [400/600], Loss: 1.9609, Accuracy: 0.5400\n",
      "Epoch [22/100], Step [500/600], Loss: 1.9425, Accuracy: 0.6100\n"
     ]
    },
    {
     "name": "stdout",
     "output_type": "stream",
     "text": [
      "Epoch [22/100], Step [600/600], Loss: 1.9327, Accuracy: 0.6200\n",
      "Epoch [23/100], Step [100/600], Loss: 1.9081, Accuracy: 0.5500\n",
      "Epoch [23/100], Step [200/600], Loss: 1.9135, Accuracy: 0.6100\n",
      "Epoch [23/100], Step [300/600], Loss: 1.8768, Accuracy: 0.6500\n",
      "Epoch [23/100], Step [400/600], Loss: 1.8552, Accuracy: 0.6600\n",
      "Epoch [23/100], Step [500/600], Loss: 1.9582, Accuracy: 0.5600\n",
      "Epoch [23/100], Step [600/600], Loss: 1.9202, Accuracy: 0.5800\n",
      "Epoch [24/100], Step [100/600], Loss: 1.9128, Accuracy: 0.6300\n",
      "Epoch [24/100], Step [200/600], Loss: 1.9166, Accuracy: 0.6400\n",
      "Epoch [24/100], Step [300/600], Loss: 1.8586, Accuracy: 0.6800\n",
      "Epoch [24/100], Step [400/600], Loss: 1.8694, Accuracy: 0.6000\n",
      "Epoch [24/100], Step [500/600], Loss: 1.8473, Accuracy: 0.6600\n",
      "Epoch [24/100], Step [600/600], Loss: 1.8255, Accuracy: 0.6500\n",
      "Epoch [25/100], Step [100/600], Loss: 1.8788, Accuracy: 0.5800\n",
      "Epoch [25/100], Step [200/600], Loss: 1.8498, Accuracy: 0.6300\n",
      "Epoch [25/100], Step [300/600], Loss: 1.7785, Accuracy: 0.6500\n",
      "Epoch [25/100], Step [400/600], Loss: 1.7682, Accuracy: 0.7200\n",
      "Epoch [25/100], Step [500/600], Loss: 1.8528, Accuracy: 0.5400\n",
      "Epoch [25/100], Step [600/600], Loss: 1.7880, Accuracy: 0.7100\n",
      "Epoch [26/100], Step [100/600], Loss: 1.8055, Accuracy: 0.6200\n",
      "Epoch [26/100], Step [200/600], Loss: 1.7587, Accuracy: 0.6800\n",
      "Epoch [26/100], Step [300/600], Loss: 1.7374, Accuracy: 0.6300\n",
      "Epoch [26/100], Step [400/600], Loss: 1.7659, Accuracy: 0.6600\n",
      "Epoch [26/100], Step [500/600], Loss: 1.8055, Accuracy: 0.6600\n",
      "Epoch [26/100], Step [600/600], Loss: 1.8169, Accuracy: 0.6400\n",
      "Epoch [27/100], Step [100/600], Loss: 1.7925, Accuracy: 0.6200\n",
      "Epoch [27/100], Step [200/600], Loss: 1.6750, Accuracy: 0.7100\n",
      "Epoch [27/100], Step [300/600], Loss: 1.7991, Accuracy: 0.6000\n",
      "Epoch [27/100], Step [400/600], Loss: 1.6948, Accuracy: 0.6800\n",
      "Epoch [27/100], Step [500/600], Loss: 1.7815, Accuracy: 0.6100\n",
      "Epoch [27/100], Step [600/600], Loss: 1.7061, Accuracy: 0.7000\n",
      "Epoch [28/100], Step [100/600], Loss: 1.7617, Accuracy: 0.6800\n",
      "Epoch [28/100], Step [200/600], Loss: 1.6400, Accuracy: 0.7300\n",
      "Epoch [28/100], Step [300/600], Loss: 1.7227, Accuracy: 0.6600\n",
      "Epoch [28/100], Step [400/600], Loss: 1.6978, Accuracy: 0.6600\n",
      "Epoch [28/100], Step [500/600], Loss: 1.5989, Accuracy: 0.6900\n",
      "Epoch [28/100], Step [600/600], Loss: 1.5746, Accuracy: 0.7700\n",
      "Epoch [29/100], Step [100/600], Loss: 1.6666, Accuracy: 0.6600\n",
      "Epoch [29/100], Step [200/600], Loss: 1.6502, Accuracy: 0.6000\n",
      "Epoch [29/100], Step [300/600], Loss: 1.6716, Accuracy: 0.6100\n",
      "Epoch [29/100], Step [400/600], Loss: 1.6680, Accuracy: 0.6500\n",
      "Epoch [29/100], Step [500/600], Loss: 1.6220, Accuracy: 0.6800\n",
      "Epoch [29/100], Step [600/600], Loss: 1.6147, Accuracy: 0.7600\n",
      "Epoch [30/100], Step [100/600], Loss: 1.6293, Accuracy: 0.7600\n",
      "Epoch [30/100], Step [200/600], Loss: 1.6102, Accuracy: 0.6600\n",
      "Epoch [30/100], Step [300/600], Loss: 1.5845, Accuracy: 0.7300\n",
      "Epoch [30/100], Step [400/600], Loss: 1.6066, Accuracy: 0.7300\n",
      "Epoch [30/100], Step [500/600], Loss: 1.5866, Accuracy: 0.7300\n",
      "Epoch [30/100], Step [600/600], Loss: 1.6286, Accuracy: 0.6800\n",
      "Epoch [31/100], Step [100/600], Loss: 1.5858, Accuracy: 0.6800\n",
      "Epoch [31/100], Step [200/600], Loss: 1.5801, Accuracy: 0.6600\n",
      "Epoch [31/100], Step [300/600], Loss: 1.4848, Accuracy: 0.7000\n",
      "Epoch [31/100], Step [400/600], Loss: 1.5068, Accuracy: 0.7100\n",
      "Epoch [31/100], Step [500/600], Loss: 1.6006, Accuracy: 0.6300\n",
      "Epoch [31/100], Step [600/600], Loss: 1.6115, Accuracy: 0.6200\n",
      "Epoch [32/100], Step [100/600], Loss: 1.6217, Accuracy: 0.6000\n",
      "Epoch [32/100], Step [200/600], Loss: 1.5742, Accuracy: 0.6900\n",
      "Epoch [32/100], Step [300/600], Loss: 1.5181, Accuracy: 0.7600\n",
      "Epoch [32/100], Step [400/600], Loss: 1.4376, Accuracy: 0.7100\n",
      "Epoch [32/100], Step [500/600], Loss: 1.5800, Accuracy: 0.6400\n",
      "Epoch [32/100], Step [600/600], Loss: 1.5202, Accuracy: 0.7000\n",
      "Epoch [33/100], Step [100/600], Loss: 1.4766, Accuracy: 0.7100\n",
      "Epoch [33/100], Step [200/600], Loss: 1.3976, Accuracy: 0.7700\n",
      "Epoch [33/100], Step [300/600], Loss: 1.4698, Accuracy: 0.6700\n",
      "Epoch [33/100], Step [400/600], Loss: 1.4718, Accuracy: 0.6000\n",
      "Epoch [33/100], Step [500/600], Loss: 1.4011, Accuracy: 0.7300\n",
      "Epoch [33/100], Step [600/600], Loss: 1.4710, Accuracy: 0.6700\n",
      "Epoch [34/100], Step [100/600], Loss: 1.4391, Accuracy: 0.6800\n",
      "Epoch [34/100], Step [200/600], Loss: 1.4292, Accuracy: 0.7500\n",
      "Epoch [34/100], Step [300/600], Loss: 1.3325, Accuracy: 0.7400\n",
      "Epoch [34/100], Step [400/600], Loss: 1.4656, Accuracy: 0.7100\n",
      "Epoch [34/100], Step [500/600], Loss: 1.4331, Accuracy: 0.7400\n",
      "Epoch [34/100], Step [600/600], Loss: 1.3440, Accuracy: 0.7400\n",
      "Epoch [35/100], Step [100/600], Loss: 1.3815, Accuracy: 0.6400\n",
      "Epoch [35/100], Step [200/600], Loss: 1.4655, Accuracy: 0.6800\n",
      "Epoch [35/100], Step [300/600], Loss: 1.4697, Accuracy: 0.6500\n",
      "Epoch [35/100], Step [400/600], Loss: 1.4344, Accuracy: 0.7500\n",
      "Epoch [35/100], Step [500/600], Loss: 1.4520, Accuracy: 0.6700\n",
      "Epoch [35/100], Step [600/600], Loss: 1.3060, Accuracy: 0.7600\n",
      "Epoch [36/100], Step [100/600], Loss: 1.4073, Accuracy: 0.7100\n",
      "Epoch [36/100], Step [200/600], Loss: 1.3656, Accuracy: 0.7600\n",
      "Epoch [36/100], Step [300/600], Loss: 1.2601, Accuracy: 0.8100\n",
      "Epoch [36/100], Step [400/600], Loss: 1.2983, Accuracy: 0.7400\n",
      "Epoch [36/100], Step [500/600], Loss: 1.3689, Accuracy: 0.7300\n",
      "Epoch [36/100], Step [600/600], Loss: 1.1304, Accuracy: 0.8800\n",
      "Epoch [37/100], Step [100/600], Loss: 1.4363, Accuracy: 0.6700\n",
      "Epoch [37/100], Step [200/600], Loss: 1.3841, Accuracy: 0.6800\n",
      "Epoch [37/100], Step [300/600], Loss: 1.3244, Accuracy: 0.7100\n",
      "Epoch [37/100], Step [400/600], Loss: 1.3906, Accuracy: 0.7000\n",
      "Epoch [37/100], Step [500/600], Loss: 1.3688, Accuracy: 0.7200\n",
      "Epoch [37/100], Step [600/600], Loss: 1.3257, Accuracy: 0.7100\n",
      "Epoch [38/100], Step [100/600], Loss: 1.2023, Accuracy: 0.7900\n",
      "Epoch [38/100], Step [200/600], Loss: 1.2752, Accuracy: 0.7200\n",
      "Epoch [38/100], Step [300/600], Loss: 1.3879, Accuracy: 0.6700\n",
      "Epoch [38/100], Step [400/600], Loss: 1.2934, Accuracy: 0.7900\n",
      "Epoch [38/100], Step [500/600], Loss: 1.3038, Accuracy: 0.7100\n",
      "Epoch [38/100], Step [600/600], Loss: 1.3121, Accuracy: 0.6300\n",
      "Epoch [39/100], Step [100/600], Loss: 1.3454, Accuracy: 0.6900\n",
      "Epoch [39/100], Step [200/600], Loss: 1.3040, Accuracy: 0.7000\n",
      "Epoch [39/100], Step [300/600], Loss: 1.2046, Accuracy: 0.7200\n",
      "Epoch [39/100], Step [400/600], Loss: 1.2462, Accuracy: 0.7600\n",
      "Epoch [39/100], Step [500/600], Loss: 1.2062, Accuracy: 0.7400\n",
      "Epoch [39/100], Step [600/600], Loss: 1.2802, Accuracy: 0.7100\n",
      "Epoch [40/100], Step [100/600], Loss: 1.1611, Accuracy: 0.7400\n",
      "Epoch [40/100], Step [200/600], Loss: 1.3019, Accuracy: 0.6500\n",
      "Epoch [40/100], Step [300/600], Loss: 1.1841, Accuracy: 0.7300\n",
      "Epoch [40/100], Step [400/600], Loss: 1.1890, Accuracy: 0.7300\n",
      "Epoch [40/100], Step [500/600], Loss: 1.2560, Accuracy: 0.6700\n",
      "Epoch [40/100], Step [600/600], Loss: 1.2678, Accuracy: 0.7300\n",
      "Epoch [41/100], Step [100/600], Loss: 1.0069, Accuracy: 0.8000\n",
      "Epoch [41/100], Step [200/600], Loss: 1.1510, Accuracy: 0.8000\n",
      "Epoch [41/100], Step [300/600], Loss: 1.0757, Accuracy: 0.7600\n",
      "Epoch [41/100], Step [400/600], Loss: 1.1468, Accuracy: 0.7200\n",
      "Epoch [41/100], Step [500/600], Loss: 1.1514, Accuracy: 0.7700\n",
      "Epoch [41/100], Step [600/600], Loss: 1.2571, Accuracy: 0.7600\n",
      "Epoch [42/100], Step [100/600], Loss: 1.1881, Accuracy: 0.6900\n",
      "Epoch [42/100], Step [200/600], Loss: 1.0755, Accuracy: 0.7400\n",
      "Epoch [42/100], Step [300/600], Loss: 1.0981, Accuracy: 0.7700\n",
      "Epoch [42/100], Step [400/600], Loss: 1.1926, Accuracy: 0.7200\n",
      "Epoch [42/100], Step [500/600], Loss: 1.1830, Accuracy: 0.7100\n",
      "Epoch [42/100], Step [600/600], Loss: 1.1166, Accuracy: 0.7500\n",
      "Epoch [43/100], Step [100/600], Loss: 1.0808, Accuracy: 0.7600\n",
      "Epoch [43/100], Step [200/600], Loss: 1.1276, Accuracy: 0.6900\n",
      "Epoch [43/100], Step [300/600], Loss: 1.1301, Accuracy: 0.7100\n",
      "Epoch [43/100], Step [400/600], Loss: 1.0385, Accuracy: 0.8200\n",
      "Epoch [43/100], Step [500/600], Loss: 1.1115, Accuracy: 0.7100\n",
      "Epoch [43/100], Step [600/600], Loss: 0.9963, Accuracy: 0.7600\n",
      "Epoch [44/100], Step [100/600], Loss: 1.1528, Accuracy: 0.6500\n",
      "Epoch [44/100], Step [200/600], Loss: 1.0651, Accuracy: 0.7800\n",
      "Epoch [44/100], Step [300/600], Loss: 1.0572, Accuracy: 0.7500\n",
      "Epoch [44/100], Step [400/600], Loss: 1.0548, Accuracy: 0.7600\n"
     ]
    },
    {
     "name": "stdout",
     "output_type": "stream",
     "text": [
      "Epoch [44/100], Step [500/600], Loss: 0.9812, Accuracy: 0.7800\n",
      "Epoch [44/100], Step [600/600], Loss: 1.0565, Accuracy: 0.7700\n",
      "Epoch [45/100], Step [100/600], Loss: 1.0574, Accuracy: 0.6800\n",
      "Epoch [45/100], Step [200/600], Loss: 1.0956, Accuracy: 0.7200\n",
      "Epoch [45/100], Step [300/600], Loss: 1.1050, Accuracy: 0.7000\n",
      "Epoch [45/100], Step [400/600], Loss: 1.0815, Accuracy: 0.7300\n",
      "Epoch [45/100], Step [500/600], Loss: 0.9937, Accuracy: 0.8100\n",
      "Epoch [45/100], Step [600/600], Loss: 1.0690, Accuracy: 0.8000\n",
      "Epoch [46/100], Step [100/600], Loss: 1.0846, Accuracy: 0.7300\n",
      "Epoch [46/100], Step [200/600], Loss: 1.0795, Accuracy: 0.6700\n",
      "Epoch [46/100], Step [300/600], Loss: 1.0926, Accuracy: 0.7000\n",
      "Epoch [46/100], Step [400/600], Loss: 0.9207, Accuracy: 0.8100\n",
      "Epoch [46/100], Step [500/600], Loss: 1.0160, Accuracy: 0.7800\n",
      "Epoch [46/100], Step [600/600], Loss: 1.0636, Accuracy: 0.7300\n",
      "Epoch [47/100], Step [100/600], Loss: 1.0541, Accuracy: 0.7300\n",
      "Epoch [47/100], Step [200/600], Loss: 0.9639, Accuracy: 0.7700\n",
      "Epoch [47/100], Step [300/600], Loss: 1.0089, Accuracy: 0.7100\n",
      "Epoch [47/100], Step [400/600], Loss: 1.1064, Accuracy: 0.6700\n",
      "Epoch [47/100], Step [500/600], Loss: 0.9953, Accuracy: 0.7600\n",
      "Epoch [47/100], Step [600/600], Loss: 1.0724, Accuracy: 0.7100\n",
      "Epoch [48/100], Step [100/600], Loss: 1.0124, Accuracy: 0.7200\n",
      "Epoch [48/100], Step [200/600], Loss: 0.9715, Accuracy: 0.7000\n",
      "Epoch [48/100], Step [300/600], Loss: 1.1024, Accuracy: 0.6700\n",
      "Epoch [48/100], Step [400/600], Loss: 0.9377, Accuracy: 0.7900\n",
      "Epoch [48/100], Step [500/600], Loss: 0.9941, Accuracy: 0.7200\n",
      "Epoch [48/100], Step [600/600], Loss: 0.9720, Accuracy: 0.7500\n",
      "Epoch [49/100], Step [100/600], Loss: 0.9761, Accuracy: 0.7500\n",
      "Epoch [49/100], Step [200/600], Loss: 0.9750, Accuracy: 0.7300\n",
      "Epoch [49/100], Step [300/600], Loss: 0.9792, Accuracy: 0.7500\n",
      "Epoch [49/100], Step [400/600], Loss: 0.8696, Accuracy: 0.7900\n",
      "Epoch [49/100], Step [500/600], Loss: 0.8890, Accuracy: 0.8100\n",
      "Epoch [49/100], Step [600/600], Loss: 0.9278, Accuracy: 0.7800\n",
      "Epoch [50/100], Step [100/600], Loss: 0.8806, Accuracy: 0.7700\n",
      "Epoch [50/100], Step [200/600], Loss: 0.8780, Accuracy: 0.7800\n",
      "Epoch [50/100], Step [300/600], Loss: 0.9017, Accuracy: 0.7700\n",
      "Epoch [50/100], Step [400/600], Loss: 0.9670, Accuracy: 0.7100\n",
      "Epoch [50/100], Step [500/600], Loss: 1.0124, Accuracy: 0.7100\n",
      "Epoch [50/100], Step [600/600], Loss: 0.9365, Accuracy: 0.7400\n",
      "Epoch [51/100], Step [100/600], Loss: 0.9957, Accuracy: 0.7500\n",
      "Epoch [51/100], Step [200/600], Loss: 0.9108, Accuracy: 0.7400\n",
      "Epoch [51/100], Step [300/600], Loss: 0.9665, Accuracy: 0.7700\n",
      "Epoch [51/100], Step [400/600], Loss: 0.8752, Accuracy: 0.7700\n",
      "Epoch [51/100], Step [500/600], Loss: 0.9492, Accuracy: 0.7200\n",
      "Epoch [51/100], Step [600/600], Loss: 0.8956, Accuracy: 0.7500\n",
      "Epoch [52/100], Step [100/600], Loss: 0.9655, Accuracy: 0.7000\n",
      "Epoch [52/100], Step [200/600], Loss: 0.8792, Accuracy: 0.8200\n",
      "Epoch [52/100], Step [300/600], Loss: 0.8683, Accuracy: 0.8100\n",
      "Epoch [52/100], Step [400/600], Loss: 0.9884, Accuracy: 0.7600\n",
      "Epoch [52/100], Step [500/600], Loss: 0.9123, Accuracy: 0.7400\n",
      "Epoch [52/100], Step [600/600], Loss: 0.8328, Accuracy: 0.7500\n",
      "Epoch [53/100], Step [100/600], Loss: 0.8510, Accuracy: 0.8100\n",
      "Epoch [53/100], Step [200/600], Loss: 0.8235, Accuracy: 0.7800\n",
      "Epoch [53/100], Step [300/600], Loss: 0.6999, Accuracy: 0.8900\n",
      "Epoch [53/100], Step [400/600], Loss: 0.8360, Accuracy: 0.7800\n",
      "Epoch [53/100], Step [500/600], Loss: 0.8527, Accuracy: 0.7900\n",
      "Epoch [53/100], Step [600/600], Loss: 0.8879, Accuracy: 0.7500\n",
      "Epoch [54/100], Step [100/600], Loss: 0.8153, Accuracy: 0.8000\n",
      "Epoch [54/100], Step [200/600], Loss: 0.8516, Accuracy: 0.7900\n",
      "Epoch [54/100], Step [300/600], Loss: 0.9775, Accuracy: 0.7300\n",
      "Epoch [54/100], Step [400/600], Loss: 0.8549, Accuracy: 0.7500\n",
      "Epoch [54/100], Step [500/600], Loss: 0.9072, Accuracy: 0.7400\n",
      "Epoch [54/100], Step [600/600], Loss: 0.9045, Accuracy: 0.7000\n",
      "Epoch [55/100], Step [100/600], Loss: 0.7511, Accuracy: 0.7900\n",
      "Epoch [55/100], Step [200/600], Loss: 0.8082, Accuracy: 0.7800\n",
      "Epoch [55/100], Step [300/600], Loss: 0.8596, Accuracy: 0.7500\n",
      "Epoch [55/100], Step [400/600], Loss: 1.0250, Accuracy: 0.6600\n",
      "Epoch [55/100], Step [500/600], Loss: 0.9390, Accuracy: 0.7400\n",
      "Epoch [55/100], Step [600/600], Loss: 0.8771, Accuracy: 0.7500\n",
      "Epoch [56/100], Step [100/600], Loss: 0.8919, Accuracy: 0.7100\n",
      "Epoch [56/100], Step [200/600], Loss: 0.9698, Accuracy: 0.7200\n",
      "Epoch [56/100], Step [300/600], Loss: 0.9370, Accuracy: 0.7500\n",
      "Epoch [56/100], Step [400/600], Loss: 0.8780, Accuracy: 0.7500\n",
      "Epoch [56/100], Step [500/600], Loss: 0.9455, Accuracy: 0.7100\n",
      "Epoch [56/100], Step [600/600], Loss: 0.9015, Accuracy: 0.7800\n",
      "Epoch [57/100], Step [100/600], Loss: 0.8751, Accuracy: 0.7700\n",
      "Epoch [57/100], Step [200/600], Loss: 0.9208, Accuracy: 0.7300\n",
      "Epoch [57/100], Step [300/600], Loss: 0.9118, Accuracy: 0.7600\n",
      "Epoch [57/100], Step [400/600], Loss: 0.9664, Accuracy: 0.7600\n",
      "Epoch [57/100], Step [500/600], Loss: 0.9027, Accuracy: 0.7100\n",
      "Epoch [57/100], Step [600/600], Loss: 0.7527, Accuracy: 0.7500\n",
      "Epoch [58/100], Step [100/600], Loss: 0.8681, Accuracy: 0.7600\n",
      "Epoch [58/100], Step [200/600], Loss: 0.7210, Accuracy: 0.8400\n",
      "Epoch [58/100], Step [300/600], Loss: 0.7708, Accuracy: 0.8200\n",
      "Epoch [58/100], Step [400/600], Loss: 0.9629, Accuracy: 0.7100\n",
      "Epoch [58/100], Step [500/600], Loss: 0.8262, Accuracy: 0.8000\n",
      "Epoch [58/100], Step [600/600], Loss: 0.7286, Accuracy: 0.7700\n",
      "Epoch [59/100], Step [100/600], Loss: 0.9044, Accuracy: 0.6800\n",
      "Epoch [59/100], Step [200/600], Loss: 0.8367, Accuracy: 0.7700\n",
      "Epoch [59/100], Step [300/600], Loss: 0.7249, Accuracy: 0.7800\n",
      "Epoch [59/100], Step [400/600], Loss: 0.8167, Accuracy: 0.7600\n",
      "Epoch [59/100], Step [500/600], Loss: 0.8029, Accuracy: 0.7600\n",
      "Epoch [59/100], Step [600/600], Loss: 0.8081, Accuracy: 0.7900\n",
      "Epoch [60/100], Step [100/600], Loss: 0.8781, Accuracy: 0.7000\n",
      "Epoch [60/100], Step [200/600], Loss: 0.6794, Accuracy: 0.8700\n",
      "Epoch [60/100], Step [300/600], Loss: 0.6588, Accuracy: 0.8500\n",
      "Epoch [60/100], Step [400/600], Loss: 0.8133, Accuracy: 0.7700\n",
      "Epoch [60/100], Step [500/600], Loss: 0.8469, Accuracy: 0.7800\n",
      "Epoch [60/100], Step [600/600], Loss: 0.6772, Accuracy: 0.8300\n",
      "Epoch [61/100], Step [100/600], Loss: 0.7366, Accuracy: 0.7800\n",
      "Epoch [61/100], Step [200/600], Loss: 0.7811, Accuracy: 0.7600\n",
      "Epoch [61/100], Step [300/600], Loss: 0.7143, Accuracy: 0.8100\n",
      "Epoch [61/100], Step [400/600], Loss: 0.7083, Accuracy: 0.8300\n",
      "Epoch [61/100], Step [500/600], Loss: 0.6874, Accuracy: 0.8400\n",
      "Epoch [61/100], Step [600/600], Loss: 0.7354, Accuracy: 0.7600\n",
      "Epoch [62/100], Step [100/600], Loss: 0.7520, Accuracy: 0.8400\n",
      "Epoch [62/100], Step [200/600], Loss: 0.7712, Accuracy: 0.7700\n",
      "Epoch [62/100], Step [300/600], Loss: 0.6643, Accuracy: 0.8200\n",
      "Epoch [62/100], Step [400/600], Loss: 0.7189, Accuracy: 0.8000\n",
      "Epoch [62/100], Step [500/600], Loss: 0.7587, Accuracy: 0.8000\n",
      "Epoch [62/100], Step [600/600], Loss: 0.7239, Accuracy: 0.7800\n",
      "Epoch [63/100], Step [100/600], Loss: 0.8130, Accuracy: 0.7300\n",
      "Epoch [63/100], Step [200/600], Loss: 0.8340, Accuracy: 0.7500\n",
      "Epoch [63/100], Step [300/600], Loss: 0.8442, Accuracy: 0.8200\n",
      "Epoch [63/100], Step [400/600], Loss: 0.9162, Accuracy: 0.7400\n",
      "Epoch [63/100], Step [500/600], Loss: 0.7279, Accuracy: 0.8200\n",
      "Epoch [63/100], Step [600/600], Loss: 0.7122, Accuracy: 0.8100\n",
      "Epoch [64/100], Step [100/600], Loss: 0.7831, Accuracy: 0.8100\n",
      "Epoch [64/100], Step [200/600], Loss: 0.7576, Accuracy: 0.7200\n",
      "Epoch [64/100], Step [300/600], Loss: 0.6896, Accuracy: 0.7600\n",
      "Epoch [64/100], Step [400/600], Loss: 0.7389, Accuracy: 0.8200\n",
      "Epoch [64/100], Step [500/600], Loss: 0.7577, Accuracy: 0.7800\n",
      "Epoch [64/100], Step [600/600], Loss: 0.8239, Accuracy: 0.7200\n",
      "Epoch [65/100], Step [100/600], Loss: 0.7769, Accuracy: 0.7700\n",
      "Epoch [65/100], Step [200/600], Loss: 0.6805, Accuracy: 0.8100\n",
      "Epoch [65/100], Step [300/600], Loss: 0.7607, Accuracy: 0.7200\n",
      "Epoch [65/100], Step [400/600], Loss: 0.7304, Accuracy: 0.7900\n",
      "Epoch [65/100], Step [500/600], Loss: 0.6411, Accuracy: 0.8500\n",
      "Epoch [65/100], Step [600/600], Loss: 0.6403, Accuracy: 0.8400\n",
      "Epoch [66/100], Step [100/600], Loss: 0.7266, Accuracy: 0.7700\n",
      "Epoch [66/100], Step [200/600], Loss: 0.6957, Accuracy: 0.8200\n",
      "Epoch [66/100], Step [300/600], Loss: 0.7364, Accuracy: 0.7800\n"
     ]
    },
    {
     "name": "stdout",
     "output_type": "stream",
     "text": [
      "Epoch [66/100], Step [400/600], Loss: 0.5666, Accuracy: 0.8700\n",
      "Epoch [66/100], Step [500/600], Loss: 0.6830, Accuracy: 0.7800\n",
      "Epoch [66/100], Step [600/600], Loss: 0.6406, Accuracy: 0.7900\n",
      "Epoch [67/100], Step [100/600], Loss: 0.6945, Accuracy: 0.8300\n",
      "Epoch [67/100], Step [200/600], Loss: 0.7287, Accuracy: 0.7800\n",
      "Epoch [67/100], Step [300/600], Loss: 0.7330, Accuracy: 0.7700\n",
      "Epoch [67/100], Step [400/600], Loss: 0.6421, Accuracy: 0.8200\n",
      "Epoch [67/100], Step [500/600], Loss: 0.7608, Accuracy: 0.7500\n",
      "Epoch [67/100], Step [600/600], Loss: 0.7669, Accuracy: 0.7600\n",
      "Epoch [68/100], Step [100/600], Loss: 0.7530, Accuracy: 0.8100\n",
      "Epoch [68/100], Step [200/600], Loss: 0.6521, Accuracy: 0.8200\n",
      "Epoch [68/100], Step [300/600], Loss: 0.7136, Accuracy: 0.7600\n",
      "Epoch [68/100], Step [400/600], Loss: 0.6568, Accuracy: 0.7900\n",
      "Epoch [68/100], Step [500/600], Loss: 0.6750, Accuracy: 0.8000\n",
      "Epoch [68/100], Step [600/600], Loss: 0.6811, Accuracy: 0.7900\n",
      "Epoch [69/100], Step [100/600], Loss: 0.6901, Accuracy: 0.8200\n",
      "Epoch [69/100], Step [200/600], Loss: 0.6067, Accuracy: 0.8800\n",
      "Epoch [69/100], Step [300/600], Loss: 0.7688, Accuracy: 0.7600\n",
      "Epoch [69/100], Step [400/600], Loss: 0.6216, Accuracy: 0.8400\n",
      "Epoch [69/100], Step [500/600], Loss: 0.8450, Accuracy: 0.8000\n",
      "Epoch [69/100], Step [600/600], Loss: 0.5691, Accuracy: 0.8300\n",
      "Epoch [70/100], Step [100/600], Loss: 0.5328, Accuracy: 0.8600\n",
      "Epoch [70/100], Step [200/600], Loss: 0.7013, Accuracy: 0.8000\n",
      "Epoch [70/100], Step [300/600], Loss: 0.6019, Accuracy: 0.8300\n",
      "Epoch [70/100], Step [400/600], Loss: 0.7184, Accuracy: 0.7900\n",
      "Epoch [70/100], Step [500/600], Loss: 0.9035, Accuracy: 0.7400\n",
      "Epoch [70/100], Step [600/600], Loss: 0.8808, Accuracy: 0.7200\n",
      "Epoch [71/100], Step [100/600], Loss: 0.6604, Accuracy: 0.8100\n",
      "Epoch [71/100], Step [200/600], Loss: 0.5662, Accuracy: 0.8400\n",
      "Epoch [71/100], Step [300/600], Loss: 0.6839, Accuracy: 0.8100\n",
      "Epoch [71/100], Step [400/600], Loss: 0.5739, Accuracy: 0.8600\n",
      "Epoch [71/100], Step [500/600], Loss: 0.8541, Accuracy: 0.7700\n",
      "Epoch [71/100], Step [600/600], Loss: 0.7217, Accuracy: 0.7700\n",
      "Epoch [72/100], Step [100/600], Loss: 0.6043, Accuracy: 0.8200\n",
      "Epoch [72/100], Step [200/600], Loss: 0.6442, Accuracy: 0.8200\n",
      "Epoch [72/100], Step [300/600], Loss: 0.7200, Accuracy: 0.7400\n",
      "Epoch [72/100], Step [400/600], Loss: 0.7655, Accuracy: 0.7500\n",
      "Epoch [72/100], Step [500/600], Loss: 0.5289, Accuracy: 0.8900\n",
      "Epoch [72/100], Step [600/600], Loss: 0.6421, Accuracy: 0.8500\n",
      "Epoch [73/100], Step [100/600], Loss: 0.6847, Accuracy: 0.7800\n",
      "Epoch [73/100], Step [200/600], Loss: 0.6637, Accuracy: 0.8200\n",
      "Epoch [73/100], Step [300/600], Loss: 0.7166, Accuracy: 0.7500\n",
      "Epoch [73/100], Step [400/600], Loss: 0.6448, Accuracy: 0.8200\n",
      "Epoch [73/100], Step [500/600], Loss: 0.5779, Accuracy: 0.8500\n",
      "Epoch [73/100], Step [600/600], Loss: 0.7577, Accuracy: 0.8000\n",
      "Epoch [74/100], Step [100/600], Loss: 0.4893, Accuracy: 0.8600\n",
      "Epoch [74/100], Step [200/600], Loss: 0.7055, Accuracy: 0.8000\n",
      "Epoch [74/100], Step [300/600], Loss: 0.7788, Accuracy: 0.7900\n",
      "Epoch [74/100], Step [400/600], Loss: 0.6669, Accuracy: 0.7600\n",
      "Epoch [74/100], Step [500/600], Loss: 0.6040, Accuracy: 0.8500\n",
      "Epoch [74/100], Step [600/600], Loss: 0.5957, Accuracy: 0.8400\n",
      "Epoch [75/100], Step [100/600], Loss: 0.6643, Accuracy: 0.8200\n",
      "Epoch [75/100], Step [200/600], Loss: 0.6884, Accuracy: 0.7900\n",
      "Epoch [75/100], Step [300/600], Loss: 0.5722, Accuracy: 0.8500\n",
      "Epoch [75/100], Step [400/600], Loss: 0.8068, Accuracy: 0.7400\n",
      "Epoch [75/100], Step [500/600], Loss: 0.6442, Accuracy: 0.8200\n",
      "Epoch [75/100], Step [600/600], Loss: 0.6319, Accuracy: 0.8400\n",
      "Epoch [76/100], Step [100/600], Loss: 0.4434, Accuracy: 0.8900\n",
      "Epoch [76/100], Step [200/600], Loss: 0.5520, Accuracy: 0.8300\n",
      "Epoch [76/100], Step [300/600], Loss: 0.5024, Accuracy: 0.8700\n",
      "Epoch [76/100], Step [400/600], Loss: 0.4785, Accuracy: 0.8700\n",
      "Epoch [76/100], Step [500/600], Loss: 0.5578, Accuracy: 0.8600\n",
      "Epoch [76/100], Step [600/600], Loss: 0.5938, Accuracy: 0.8500\n",
      "Epoch [77/100], Step [100/600], Loss: 0.4968, Accuracy: 0.8600\n",
      "Epoch [77/100], Step [200/600], Loss: 0.5669, Accuracy: 0.8500\n",
      "Epoch [77/100], Step [300/600], Loss: 0.5667, Accuracy: 0.8000\n",
      "Epoch [77/100], Step [400/600], Loss: 0.6821, Accuracy: 0.8100\n",
      "Epoch [77/100], Step [500/600], Loss: 0.5973, Accuracy: 0.8300\n",
      "Epoch [77/100], Step [600/600], Loss: 0.4917, Accuracy: 0.8400\n",
      "Epoch [78/100], Step [100/600], Loss: 0.5490, Accuracy: 0.8200\n",
      "Epoch [78/100], Step [200/600], Loss: 0.5768, Accuracy: 0.8300\n",
      "Epoch [78/100], Step [300/600], Loss: 0.4903, Accuracy: 0.8500\n",
      "Epoch [78/100], Step [400/600], Loss: 0.8191, Accuracy: 0.7500\n",
      "Epoch [78/100], Step [500/600], Loss: 0.6203, Accuracy: 0.8300\n",
      "Epoch [78/100], Step [600/600], Loss: 0.5705, Accuracy: 0.8000\n",
      "Epoch [79/100], Step [100/600], Loss: 0.6694, Accuracy: 0.7600\n",
      "Epoch [79/100], Step [200/600], Loss: 0.6447, Accuracy: 0.7800\n",
      "Epoch [79/100], Step [300/600], Loss: 0.4169, Accuracy: 0.9300\n",
      "Epoch [79/100], Step [400/600], Loss: 0.7643, Accuracy: 0.8300\n",
      "Epoch [79/100], Step [500/600], Loss: 0.6362, Accuracy: 0.7700\n",
      "Epoch [79/100], Step [600/600], Loss: 0.7545, Accuracy: 0.7800\n",
      "Epoch [80/100], Step [100/600], Loss: 0.6412, Accuracy: 0.8000\n",
      "Epoch [80/100], Step [200/600], Loss: 0.4416, Accuracy: 0.8500\n",
      "Epoch [80/100], Step [300/600], Loss: 0.4804, Accuracy: 0.8500\n",
      "Epoch [80/100], Step [400/600], Loss: 0.4708, Accuracy: 0.9000\n",
      "Epoch [80/100], Step [500/600], Loss: 0.5968, Accuracy: 0.8600\n",
      "Epoch [80/100], Step [600/600], Loss: 0.7379, Accuracy: 0.8100\n",
      "Epoch [81/100], Step [100/600], Loss: 0.5412, Accuracy: 0.8300\n",
      "Epoch [81/100], Step [200/600], Loss: 0.6406, Accuracy: 0.7700\n",
      "Epoch [81/100], Step [300/600], Loss: 0.7327, Accuracy: 0.7800\n",
      "Epoch [81/100], Step [400/600], Loss: 0.5814, Accuracy: 0.8100\n",
      "Epoch [81/100], Step [500/600], Loss: 0.6403, Accuracy: 0.7700\n",
      "Epoch [81/100], Step [600/600], Loss: 0.6017, Accuracy: 0.8400\n",
      "Epoch [82/100], Step [100/600], Loss: 0.4822, Accuracy: 0.8500\n",
      "Epoch [82/100], Step [200/600], Loss: 0.6151, Accuracy: 0.7800\n",
      "Epoch [82/100], Step [300/600], Loss: 0.6422, Accuracy: 0.8100\n",
      "Epoch [82/100], Step [400/600], Loss: 0.4320, Accuracy: 0.8600\n",
      "Epoch [82/100], Step [500/600], Loss: 0.6045, Accuracy: 0.8100\n",
      "Epoch [82/100], Step [600/600], Loss: 0.5474, Accuracy: 0.8200\n",
      "Epoch [83/100], Step [100/600], Loss: 0.6221, Accuracy: 0.8300\n",
      "Epoch [83/100], Step [200/600], Loss: 0.5815, Accuracy: 0.8300\n",
      "Epoch [83/100], Step [300/600], Loss: 0.7310, Accuracy: 0.7300\n",
      "Epoch [83/100], Step [400/600], Loss: 0.6351, Accuracy: 0.8200\n",
      "Epoch [83/100], Step [500/600], Loss: 0.5855, Accuracy: 0.8100\n",
      "Epoch [83/100], Step [600/600], Loss: 0.5467, Accuracy: 0.8600\n",
      "Epoch [84/100], Step [100/600], Loss: 0.7449, Accuracy: 0.8100\n",
      "Epoch [84/100], Step [200/600], Loss: 0.6079, Accuracy: 0.8700\n",
      "Epoch [84/100], Step [300/600], Loss: 0.5924, Accuracy: 0.8600\n",
      "Epoch [84/100], Step [400/600], Loss: 0.4456, Accuracy: 0.8600\n",
      "Epoch [84/100], Step [500/600], Loss: 0.5444, Accuracy: 0.8100\n",
      "Epoch [84/100], Step [600/600], Loss: 0.6665, Accuracy: 0.7800\n",
      "Epoch [85/100], Step [100/600], Loss: 0.5279, Accuracy: 0.8100\n",
      "Epoch [85/100], Step [200/600], Loss: 0.6058, Accuracy: 0.8000\n",
      "Epoch [85/100], Step [300/600], Loss: 0.5464, Accuracy: 0.8000\n",
      "Epoch [85/100], Step [400/600], Loss: 0.7084, Accuracy: 0.7700\n",
      "Epoch [85/100], Step [500/600], Loss: 0.7080, Accuracy: 0.7900\n",
      "Epoch [85/100], Step [600/600], Loss: 0.6384, Accuracy: 0.8100\n",
      "Epoch [86/100], Step [100/600], Loss: 0.4835, Accuracy: 0.8900\n",
      "Epoch [86/100], Step [200/600], Loss: 0.5835, Accuracy: 0.8400\n",
      "Epoch [86/100], Step [300/600], Loss: 0.4952, Accuracy: 0.8500\n",
      "Epoch [86/100], Step [400/600], Loss: 0.6322, Accuracy: 0.8100\n",
      "Epoch [86/100], Step [500/600], Loss: 0.5468, Accuracy: 0.8400\n",
      "Epoch [86/100], Step [600/600], Loss: 0.6921, Accuracy: 0.8100\n",
      "Epoch [87/100], Step [100/600], Loss: 0.5039, Accuracy: 0.8500\n",
      "Epoch [87/100], Step [200/600], Loss: 0.6441, Accuracy: 0.8100\n",
      "Epoch [87/100], Step [300/600], Loss: 0.4528, Accuracy: 0.8800\n",
      "Epoch [87/100], Step [400/600], Loss: 0.5645, Accuracy: 0.8200\n",
      "Epoch [87/100], Step [500/600], Loss: 0.5997, Accuracy: 0.8600\n",
      "Epoch [87/100], Step [600/600], Loss: 0.6396, Accuracy: 0.8400\n",
      "Epoch [88/100], Step [100/600], Loss: 0.6257, Accuracy: 0.8100\n",
      "Epoch [88/100], Step [200/600], Loss: 0.6509, Accuracy: 0.7900\n"
     ]
    },
    {
     "name": "stdout",
     "output_type": "stream",
     "text": [
      "Epoch [88/100], Step [300/600], Loss: 0.5498, Accuracy: 0.8100\n",
      "Epoch [88/100], Step [400/600], Loss: 0.5326, Accuracy: 0.8400\n",
      "Epoch [88/100], Step [500/600], Loss: 0.4832, Accuracy: 0.8600\n",
      "Epoch [88/100], Step [600/600], Loss: 0.4819, Accuracy: 0.8900\n",
      "Epoch [89/100], Step [100/600], Loss: 0.5677, Accuracy: 0.8200\n",
      "Epoch [89/100], Step [200/600], Loss: 0.5330, Accuracy: 0.8800\n",
      "Epoch [89/100], Step [300/600], Loss: 0.7069, Accuracy: 0.7700\n",
      "Epoch [89/100], Step [400/600], Loss: 0.5605, Accuracy: 0.8200\n",
      "Epoch [89/100], Step [500/600], Loss: 0.4778, Accuracy: 0.8500\n",
      "Epoch [89/100], Step [600/600], Loss: 0.5771, Accuracy: 0.8400\n",
      "Epoch [90/100], Step [100/600], Loss: 0.5422, Accuracy: 0.8300\n",
      "Epoch [90/100], Step [200/600], Loss: 0.4801, Accuracy: 0.8800\n",
      "Epoch [90/100], Step [300/600], Loss: 0.4764, Accuracy: 0.8300\n",
      "Epoch [90/100], Step [400/600], Loss: 0.7411, Accuracy: 0.7900\n",
      "Epoch [90/100], Step [500/600], Loss: 0.5638, Accuracy: 0.8100\n",
      "Epoch [90/100], Step [600/600], Loss: 0.5096, Accuracy: 0.8800\n",
      "Epoch [91/100], Step [100/600], Loss: 0.5642, Accuracy: 0.8300\n",
      "Epoch [91/100], Step [200/600], Loss: 0.5063, Accuracy: 0.8600\n",
      "Epoch [91/100], Step [300/600], Loss: 0.6305, Accuracy: 0.8600\n",
      "Epoch [91/100], Step [400/600], Loss: 0.4103, Accuracy: 0.9000\n",
      "Epoch [91/100], Step [500/600], Loss: 0.5911, Accuracy: 0.8300\n",
      "Epoch [91/100], Step [600/600], Loss: 0.4883, Accuracy: 0.8700\n",
      "Epoch [92/100], Step [100/600], Loss: 0.5029, Accuracy: 0.8900\n",
      "Epoch [92/100], Step [200/600], Loss: 0.3708, Accuracy: 0.9100\n",
      "Epoch [92/100], Step [300/600], Loss: 0.6436, Accuracy: 0.8300\n",
      "Epoch [92/100], Step [400/600], Loss: 0.4996, Accuracy: 0.8600\n",
      "Epoch [92/100], Step [500/600], Loss: 0.5641, Accuracy: 0.8400\n",
      "Epoch [92/100], Step [600/600], Loss: 0.5814, Accuracy: 0.7800\n",
      "Epoch [93/100], Step [100/600], Loss: 0.4418, Accuracy: 0.8800\n",
      "Epoch [93/100], Step [200/600], Loss: 0.6026, Accuracy: 0.8300\n",
      "Epoch [93/100], Step [300/600], Loss: 0.6162, Accuracy: 0.8300\n",
      "Epoch [93/100], Step [400/600], Loss: 0.5689, Accuracy: 0.8100\n",
      "Epoch [93/100], Step [500/600], Loss: 0.4459, Accuracy: 0.8700\n",
      "Epoch [93/100], Step [600/600], Loss: 0.4544, Accuracy: 0.8800\n",
      "Epoch [94/100], Step [100/600], Loss: 0.5189, Accuracy: 0.8800\n",
      "Epoch [94/100], Step [200/600], Loss: 0.5930, Accuracy: 0.8200\n",
      "Epoch [94/100], Step [300/600], Loss: 0.5298, Accuracy: 0.8600\n",
      "Epoch [94/100], Step [400/600], Loss: 0.5239, Accuracy: 0.8500\n",
      "Epoch [94/100], Step [500/600], Loss: 0.5669, Accuracy: 0.8400\n",
      "Epoch [94/100], Step [600/600], Loss: 0.6051, Accuracy: 0.8400\n",
      "Epoch [95/100], Step [100/600], Loss: 0.7043, Accuracy: 0.7600\n",
      "Epoch [95/100], Step [200/600], Loss: 0.4541, Accuracy: 0.8400\n",
      "Epoch [95/100], Step [300/600], Loss: 0.4885, Accuracy: 0.8700\n",
      "Epoch [95/100], Step [400/600], Loss: 0.4493, Accuracy: 0.8600\n",
      "Epoch [95/100], Step [500/600], Loss: 0.5727, Accuracy: 0.8400\n",
      "Epoch [95/100], Step [600/600], Loss: 0.5551, Accuracy: 0.8500\n",
      "Epoch [96/100], Step [100/600], Loss: 0.7414, Accuracy: 0.8700\n",
      "Epoch [96/100], Step [200/600], Loss: 0.4247, Accuracy: 0.9000\n",
      "Epoch [96/100], Step [300/600], Loss: 0.4958, Accuracy: 0.8700\n",
      "Epoch [96/100], Step [400/600], Loss: 0.5374, Accuracy: 0.8100\n",
      "Epoch [96/100], Step [500/600], Loss: 0.6070, Accuracy: 0.8500\n",
      "Epoch [96/100], Step [600/600], Loss: 0.4294, Accuracy: 0.8900\n",
      "Epoch [97/100], Step [100/600], Loss: 0.4143, Accuracy: 0.8900\n",
      "Epoch [97/100], Step [200/600], Loss: 0.5919, Accuracy: 0.8100\n",
      "Epoch [97/100], Step [300/600], Loss: 0.5031, Accuracy: 0.8600\n",
      "Epoch [97/100], Step [400/600], Loss: 0.5405, Accuracy: 0.8500\n",
      "Epoch [97/100], Step [500/600], Loss: 0.4718, Accuracy: 0.8400\n",
      "Epoch [97/100], Step [600/600], Loss: 0.3824, Accuracy: 0.9100\n",
      "Epoch [98/100], Step [100/600], Loss: 0.5746, Accuracy: 0.8200\n",
      "Epoch [98/100], Step [200/600], Loss: 0.5082, Accuracy: 0.8200\n",
      "Epoch [98/100], Step [300/600], Loss: 0.5027, Accuracy: 0.8200\n",
      "Epoch [98/100], Step [400/600], Loss: 0.4527, Accuracy: 0.8300\n",
      "Epoch [98/100], Step [500/600], Loss: 0.6303, Accuracy: 0.8500\n",
      "Epoch [98/100], Step [600/600], Loss: 0.5047, Accuracy: 0.8800\n",
      "Epoch [99/100], Step [100/600], Loss: 0.5819, Accuracy: 0.8100\n",
      "Epoch [99/100], Step [200/600], Loss: 0.5590, Accuracy: 0.8700\n",
      "Epoch [99/100], Step [300/600], Loss: 0.4449, Accuracy: 0.8700\n",
      "Epoch [99/100], Step [400/600], Loss: 0.6622, Accuracy: 0.8300\n",
      "Epoch [99/100], Step [500/600], Loss: 0.5447, Accuracy: 0.8700\n",
      "Epoch [99/100], Step [600/600], Loss: 0.5354, Accuracy: 0.8800\n",
      "Epoch [100/100], Step [100/600], Loss: 0.4808, Accuracy: 0.8500\n",
      "Epoch [100/100], Step [200/600], Loss: 0.4635, Accuracy: 0.8600\n",
      "Epoch [100/100], Step [300/600], Loss: 0.5967, Accuracy: 0.8000\n",
      "Epoch [100/100], Step [400/600], Loss: 0.6809, Accuracy: 0.8500\n",
      "Epoch [100/100], Step [500/600], Loss: 0.4020, Accuracy: 0.9000\n",
      "Epoch [100/100], Step [600/600], Loss: 0.4582, Accuracy: 0.8800\n"
     ]
    }
   ],
   "source": [
    "num_epochs = 100\n",
    "train_acc_data = []\n",
    "loss_data = []\n",
    "\n",
    "def train(num_epochs, cnn, loaders):\n",
    "    cnn.train()\n",
    "        \n",
    "    # Train the model\n",
    "    total_step = len(loaders['train'])\n",
    "        \n",
    "    for epoch in range(num_epochs):\n",
    "        for i, (images, labels) in enumerate(loaders['train']):\n",
    "            \n",
    "            # gives batch data, normalize x when iterate train_loader\n",
    "            b_x = Variable(images)   # batch x\n",
    "            b_y = Variable(labels)   # batch y\n",
    "            output = cnn(b_x)[0]               \n",
    "            loss = loss_func(output, b_y)\n",
    "            \n",
    "            # measure accuracy and record loss\n",
    "            train_output, last_layer = cnn(images)\n",
    "            pred_y = torch.max(train_output, 1)[1].data.squeeze()\n",
    "            accuracy = (pred_y == labels).sum().item() / float(labels.size(0))\n",
    "            \n",
    "            # clear gradients for this training step   \n",
    "            optimizer.zero_grad()           \n",
    "            \n",
    "            # backpropagation, compute gradients \n",
    "            loss.backward()    \n",
    "            # apply gradients             \n",
    "            optimizer.step()  \n",
    "#             output = cnn(images)\n",
    "#             correct += (output == labels).float().sum()\n",
    "#             accuracy = 100 * correct / len(trainset)\n",
    "            \n",
    "            if (i+1) % 100 == 0:\n",
    "                print ('Epoch [{}/{}], Step [{}/{}], Loss: {:.4f}, Accuracy: {:.4f}' \n",
    "                       .format(epoch + 1, num_epochs, i + 1, total_step, loss.item(), accuracy))\n",
    "            \n",
    "            if (i+1) % 600 == 0:\n",
    "                train_acc_data.append(accuracy)\n",
    "                loss_data.append(loss)\n",
    "            pass\n",
    "        \n",
    "        pass\n",
    "    \n",
    "    \n",
    "    pass\n",
    "    \n",
    "train(num_epochs, cnn, loaders)"
   ]
  },
  {
   "cell_type": "code",
   "execution_count": 23,
   "id": "88afe818",
   "metadata": {
    "scrolled": true
   },
   "outputs": [
    {
     "name": "stdout",
     "output_type": "stream",
     "text": [
      "Accuracy: 0.8400\n",
      "Accuracy: 0.8400\n",
      "Accuracy: 0.8000\n",
      "Accuracy: 0.8600\n",
      "Accuracy: 0.8300\n",
      "Accuracy: 0.8500\n",
      "Accuracy: 0.9200\n",
      "Accuracy: 0.8500\n",
      "Accuracy: 0.8500\n",
      "Accuracy: 0.8900\n",
      "Accuracy: 0.7900\n",
      "Accuracy: 0.8700\n",
      "Accuracy: 0.8800\n",
      "Accuracy: 0.8400\n",
      "Accuracy: 0.9200\n",
      "Accuracy: 0.8100\n",
      "Accuracy: 0.8700\n",
      "Accuracy: 0.8300\n",
      "Accuracy: 0.8300\n",
      "Accuracy: 0.8100\n",
      "Accuracy: 0.8500\n",
      "Accuracy: 0.8800\n",
      "Accuracy: 0.8500\n",
      "Accuracy: 0.8400\n",
      "Accuracy: 0.8800\n",
      "Accuracy: 0.9100\n",
      "Accuracy: 0.8800\n",
      "Accuracy: 0.8600\n",
      "Accuracy: 0.8300\n",
      "Accuracy: 0.8800\n",
      "Accuracy: 0.8600\n",
      "Accuracy: 0.8800\n",
      "Accuracy: 0.8900\n",
      "Accuracy: 0.8800\n",
      "Accuracy: 0.8500\n",
      "Accuracy: 0.8500\n",
      "Accuracy: 0.8600\n",
      "Accuracy: 0.9100\n",
      "Accuracy: 0.8600\n",
      "Accuracy: 0.9100\n",
      "Accuracy: 0.8600\n",
      "Accuracy: 0.8800\n",
      "Accuracy: 0.8700\n",
      "Accuracy: 0.8900\n",
      "Accuracy: 0.8000\n",
      "Accuracy: 0.8500\n",
      "Accuracy: 0.8300\n",
      "Accuracy: 0.9000\n",
      "Accuracy: 0.8700\n",
      "Accuracy: 0.8300\n",
      "Accuracy: 0.8200\n",
      "Accuracy: 0.8700\n",
      "Accuracy: 0.8500\n",
      "Accuracy: 0.8200\n",
      "Accuracy: 0.8500\n",
      "Accuracy: 0.8300\n",
      "Accuracy: 0.8200\n",
      "Accuracy: 0.7700\n",
      "Accuracy: 0.8700\n",
      "Accuracy: 0.8800\n",
      "Accuracy: 0.8700\n",
      "Accuracy: 0.9000\n",
      "Accuracy: 0.8600\n",
      "Accuracy: 0.9200\n",
      "Accuracy: 0.8600\n",
      "Accuracy: 0.8900\n",
      "Accuracy: 0.7500\n",
      "Accuracy: 0.8600\n",
      "Accuracy: 0.8400\n",
      "Accuracy: 0.8600\n",
      "Accuracy: 0.8700\n",
      "Accuracy: 0.8500\n",
      "Accuracy: 0.8400\n",
      "Accuracy: 0.8500\n",
      "Accuracy: 0.9200\n",
      "Accuracy: 0.9000\n",
      "Accuracy: 0.8600\n",
      "Accuracy: 0.8200\n",
      "Accuracy: 0.8700\n",
      "Accuracy: 0.8800\n",
      "Accuracy: 0.8800\n",
      "Accuracy: 0.8500\n",
      "Accuracy: 0.9000\n",
      "Accuracy: 0.8300\n",
      "Accuracy: 0.8600\n",
      "Accuracy: 0.9200\n",
      "Accuracy: 0.8400\n",
      "Accuracy: 0.8700\n",
      "Accuracy: 0.8500\n",
      "Accuracy: 0.8800\n",
      "Accuracy: 0.8600\n",
      "Accuracy: 0.8500\n",
      "Accuracy: 0.8000\n",
      "Accuracy: 0.8500\n",
      "Accuracy: 0.8100\n",
      "Accuracy: 0.8500\n",
      "Accuracy: 0.8300\n",
      "Accuracy: 0.8300\n",
      "Accuracy: 0.8500\n",
      "Accuracy: 0.8300\n"
     ]
    }
   ],
   "source": [
    "num_epochs = 10\n",
    "test_acc_data = []\n",
    "\n",
    "def test():\n",
    "    cnn.eval()\n",
    "        \n",
    "    # Train the model\n",
    "    correct = 0\n",
    "    total = 0\n",
    "    for images, labels in loaders['test']:\n",
    "        test_output, last_layer = cnn(images)\n",
    "        pred_y = torch.max(test_output, 1)[1].data.squeeze()\n",
    "        accuracy = (pred_y == labels).sum().item() / float(labels.size(0))\n",
    "        test_acc_data.append(accuracy)\n",
    "        print(\"Accuracy: {:.4f}\".format(accuracy))\n",
    "        \n",
    "#     print('Test Accuracy: %.2f' % accuracy)\n",
    "    \n",
    "test()"
   ]
  },
  {
   "cell_type": "code",
   "execution_count": 24,
   "id": "e25b4cf6",
   "metadata": {},
   "outputs": [],
   "source": [
    "# for i in range(len(acc_data)):\n",
    "#     if acc_data[i] == 0.71:\n",
    "#         print(\"fount at \", i)\n",
    "\n",
    "# acc_data[600-1]"
   ]
  },
  {
   "cell_type": "code",
   "execution_count": 25,
   "id": "e4a23eec",
   "metadata": {},
   "outputs": [
    {
     "data": {
      "text/plain": [
       "[<matplotlib.lines.Line2D at 0x7fcbdbd6b668>]"
      ]
     },
     "execution_count": 25,
     "metadata": {},
     "output_type": "execute_result"
    },
    {
     "data": {
      "image/png": "[encoded data removed]",
      "text/plain": [
       "<Figure size 1440x360 with 3 Axes>"
      ]
     },
     "metadata": {
      "needs_background": "light"
     },
     "output_type": "display_data"
    }
   ],
   "source": [
    "f, axarr = plt.subplots(1,3, figsize=(20, 5))\n",
    "axarr[0].set_title(\"Train Accuracy\")\n",
    "axarr[0].set_xlabel(\"Epochs\")\n",
    "axarr[0].set_ylabel(\"Accuracy\")\n",
    "axarr[0].plot(train_acc_data)\n",
    "\n",
    "axarr[1].set_title(\"Test Accuracy\")\n",
    "axarr[1].set_xlabel(\"Epochs\")\n",
    "axarr[1].set_ylabel(\"Accuracy\")\n",
    "axarr[1].plot(test_acc_data)\n",
    "\n",
    "\n",
    "axarr[2].set_title(\"Loss\")\n",
    "axarr[2].set_xlabel(\"Epochs\")\n",
    "axarr[2].set_ylabel(\"Loss Value\")\n",
    "axarr[2].plot(loss_data)"
   ]
  },
  {
   "cell_type": "code",
   "execution_count": 26,
   "id": "b3728ba4",
   "metadata": {
    "scrolled": true
   },
   "outputs": [
    {
     "data": {
      "text/plain": [
       "600"
      ]
     },
     "execution_count": 26,
     "metadata": {},
     "output_type": "execute_result"
    }
   ],
   "source": [
    "cnn.train()\n",
    "len(loaders['train'])"
   ]
  },
  {
   "cell_type": "code",
   "execution_count": 27,
   "id": "9bd065c6",
   "metadata": {},
   "outputs": [
    {
     "data": {
      "text/plain": [
       "torchvision.datasets.mnist.MNIST"
      ]
     },
     "execution_count": 27,
     "metadata": {},
     "output_type": "execute_result"
    }
   ],
   "source": [
    "type(train_data)"
   ]
  },
  {
   "cell_type": "code",
   "execution_count": 28,
   "id": "e48401ca",
   "metadata": {},
   "outputs": [
    {
     "data": {
      "text/plain": [
       "torch.Tensor"
      ]
     },
     "execution_count": 28,
     "metadata": {},
     "output_type": "execute_result"
    }
   ],
   "source": [
    "type(resized_28)"
   ]
  },
  {
   "cell_type": "code",
   "execution_count": 29,
   "id": "807c165e",
   "metadata": {},
   "outputs": [],
   "source": [
    "# for i, image in enumerate(loaders['train']):\n",
    "#     print(i, image.shape)"
   ]
  },
  {
   "cell_type": "markdown",
   "id": "0292f240",
   "metadata": {},
   "source": [
    "<h1>Attempting to resize the dataset when importing with datasets.MNIST</h1>"
   ]
  },
  {
   "cell_type": "code",
   "execution_count": 30,
   "id": "aaf145b8",
   "metadata": {},
   "outputs": [],
   "source": [
    "# train_data = datasets.MNIST(\n",
    "#     root = 'data',\n",
    "#     train = True,                         \n",
    "#     transform = transforms.Compose([\n",
    "#                     transforms.ToTensor(),\n",
    "#                     transforms.Resize(size=14)(train_data.data),\n",
    "#                     transforms.Normalize(0, 1)\n",
    "#                 ]), \n",
    "#     download = True,            \n",
    "# )\n",
    "# test_data = datasets.MNIST(\n",
    "#     root = 'data', \n",
    "#     train = False, \n",
    "#     transform = transforms.Compose([\n",
    "#                     transforms.ToTensor(),\n",
    "#                     transforms.Resize(size=14)(test_data.data),\n",
    "#                     transforms.Normalize(0, 1)\n",
    "#                 ]) \n",
    "# )"
   ]
  },
  {
   "cell_type": "code",
   "execution_count": 31,
   "id": "d586d001",
   "metadata": {},
   "outputs": [
    {
     "data": {
      "text/plain": [
       "torch.Size([60000, 28, 28])"
      ]
     },
     "execution_count": 31,
     "metadata": {},
     "output_type": "execute_result"
    }
   ],
   "source": [
    "train_data.data.shape"
   ]
  },
  {
   "cell_type": "code",
   "execution_count": 32,
   "id": "798469f7",
   "metadata": {},
   "outputs": [
    {
     "data": {
      "text/plain": [
       "<matplotlib.image.AxesImage at 0x7fcbdbe4c550>"
      ]
     },
     "execution_count": 32,
     "metadata": {},
     "output_type": "execute_result"
    },
    {
     "data": {
      "image/png": "[encoded data removed]",
      "text/plain": [
       "<Figure size 576x2160 with 1 Axes>"
      ]
     },
     "metadata": {
      "needs_background": "light"
     },
     "output_type": "display_data"
    }
   ],
   "source": [
    "fig = plt.figure()\n",
    "fig.set_figwidth(8)\n",
    "fig.set_figheight(30)\n",
    "plt.imshow(test_data[0][0][0])"
   ]
  },
  {
   "cell_type": "code",
   "execution_count": null,
   "id": "bdb4c096",
   "metadata": {},
   "outputs": [],
   "source": []
  }
 ],
 "metadata": {
  "kernelspec": {
   "display_name": "Python 3",
   "language": "python",
   "name": "python3"
  },
  "language_info": {
   "codemirror_mode": {
    "name": "ipython",
    "version": 3
   },
   "file_extension": ".py",
   "mimetype": "text/x-python",
   "name": "python",
   "nbconvert_exporter": "python",
   "pygments_lexer": "ipython3",
   "version": "3.6.13"
  }
 },
 "nbformat": 4,
 "nbformat_minor": 5
}
