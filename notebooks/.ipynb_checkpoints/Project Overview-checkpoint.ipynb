{
 "cells": [
  {
   "cell_type": "markdown",
   "id": "7bf75e5d",
   "metadata": {},
   "source": [
    "# Classification of MNIST dataset from low-quality, nosiy data"
   ]
  },
  {
   "cell_type": "markdown",
   "id": "6a61e74a",
   "metadata": {},
   "source": [
    "### Goal: To accurately classify the MNIST dataset\n",
    "We want to investigate what is the least amount of work we need to do to be able to correctly classify each digit. \n",
    "\n",
    "For this goal, we have 4 datasets low-quality datasets. \n",
    "1. MNIST28 (28x28 original dataset)\n",
    "2. MNIST14 (14x14 images)\n",
    "3. MNIST7 (7x7 images)\n",
    "4. MNIST4 (4x4 images)\n",
    "\n",
    "These original low-quality datasets were created in the `resize_MNIST_Datasets` notebook, which has a function called `create_datasets` that uses OpenCV2 to resize the images to the desired pixel sizes (i.e. quality). "
   ]
  },
  {
   "cell_type": "code",
   "execution_count": null,
   "id": "82a9ca73",
   "metadata": {},
   "outputs": [],
   "source": []
  }
 ],
 "metadata": {
  "kernelspec": {
   "display_name": "Python 3",
   "language": "python",
   "name": "python3"
  },
  "language_info": {
   "codemirror_mode": {
    "name": "ipython",
    "version": 3
   },
   "file_extension": ".py",
   "mimetype": "text/x-python",
   "name": "python",
   "nbconvert_exporter": "python",
   "pygments_lexer": "ipython3",
   "version": "3.6.13"
  }
 },
 "nbformat": 4,
 "nbformat_minor": 5
}
