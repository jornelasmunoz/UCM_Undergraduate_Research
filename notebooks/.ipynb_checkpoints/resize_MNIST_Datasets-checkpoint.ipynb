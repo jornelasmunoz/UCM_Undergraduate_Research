{
 "cells": [
  {
   "cell_type": "code",
   "execution_count": 1,
   "id": "939cf5f6",
   "metadata": {},
   "outputs": [],
   "source": [
    "# GOAL: MNIST Datasets (28x28), (14x14), (7x7), (4x4)\n",
    "import tensorflow as tf\n",
    "# import pytorch\n",
    "import numpy as np\n",
    "import pandas as pd\n",
    "import matplotlib.pyplot as plt\n",
    "from keras.datasets import mnist\n",
    "import cv2\n",
    "import pickle\n",
    "import random"
   ]
  },
  {
   "cell_type": "code",
   "execution_count": 2,
   "id": "f655f699",
   "metadata": {
    "scrolled": true
   },
   "outputs": [
    {
     "data": {
      "image/png": "[encoded data removed]",
      "text/plain": [
       "<Figure size 432x288 with 1 Axes>"
      ]
     },
     "metadata": {
      "needs_background": "light"
     },
     "output_type": "display_data"
    },
    {
     "data": {
      "image/png": "[encoded data removed]",
      "text/plain": [
       "<Figure size 432x288 with 1 Axes>"
      ]
     },
     "metadata": {
      "needs_background": "light"
     },
     "output_type": "display_data"
    },
    {
     "data": {
      "image/png": "[encoded data removed]",
      "text/plain": [
       "<Figure size 432x288 with 1 Axes>"
      ]
     },
     "metadata": {
      "needs_background": "light"
     },
     "output_type": "display_data"
    },
    {
     "data": {
      "image/png": "[encoded data removed]",
      "text/plain": [
       "<Figure size 432x288 with 1 Axes>"
      ]
     },
     "metadata": {
      "needs_background": "light"
     },
     "output_type": "display_data"
    },
    {
     "data": {
      "image/png": "[encoded data removed]",
      "text/plain": [
       "<Figure size 432x288 with 1 Axes>"
      ]
     },
     "metadata": {
      "needs_background": "light"
     },
     "output_type": "display_data"
    }
   ],
   "source": [
    "(train_X, train_y), (test_X, test_y) = mnist.load_data()\n",
    "\n",
    "for i in range(5):  \n",
    "    plt.subplot(330 + 1 + i)\n",
    "    plt.imshow(train_X[59999], cmap='gray')\n",
    "    plt.show()"
   ]
  },
  {
   "cell_type": "code",
   "execution_count": 3,
   "id": "29a06b61",
   "metadata": {},
   "outputs": [
    {
     "data": {
      "text/plain": [
       "10000"
      ]
     },
     "execution_count": 3,
     "metadata": {},
     "output_type": "execute_result"
    }
   ],
   "source": [
    "len(test_X)"
   ]
  },
  {
   "cell_type": "code",
   "execution_count": 4,
   "id": "92a7c252",
   "metadata": {},
   "outputs": [],
   "source": [
    "def save_data(X_train, y_train, X_test, y_test, file_names):     #Saves the data as .pickle files\n",
    "    \n",
    "    pickle_out = open(file_names[0], \"wb\")\n",
    "    pickle.dump(X_train, pickle_out)\n",
    "    pickle_out.close()\n",
    "\n",
    "    pickle_out = open(file_names[1], \"wb\")\n",
    "    pickle.dump(y_train, pickle_out)\n",
    "    pickle_out.close()\n",
    "    \n",
    "    pickle_out = open(file_names[2], \"wb\")\n",
    "    pickle.dump(X_test, pickle_out)\n",
    "    pickle_out.close()\n",
    "    \n",
    "    pickle_out = open(file_names[3], \"wb\")\n",
    "    pickle.dump(y_test, pickle_out)\n",
    "    pickle_out.close()\n",
    "\n",
    "\n",
    "def create_datasets(IMG_SIZE):     #Lowers the quality of the MNIST dataset, stores them into train and test_data, and shuffles it\n",
    "    # Lowering quality\n",
    "    train_data = []\n",
    "    test_data = []\n",
    "    for i in range(len(train_X)):\n",
    "        resized_train = cv2.resize(train_X[i], (IMG_SIZE, IMG_SIZE))\n",
    "        train_data.append([resized_train, train_y[i]])\n",
    "    if i < len(test_X):\n",
    "        resized_test = cv2.resize(test_X[i], (IMG_SIZE, IMG_SIZE))\n",
    "        test_data.append([resized_test, test_y[i]])\n",
    "        \n",
    "    # Shuffling the training data\n",
    "    random.shuffle(train_data)\n",
    "    random.shuffle(test_data)\n",
    "    \n",
    "    # Storing the shuffled data (train)\n",
    "    X_train = []\n",
    "    y_train = []\n",
    "\n",
    "    for features, label in train_data:\n",
    "        X_train.append(features)\n",
    "        y_train.append(label)\n",
    "\n",
    "    X_train = np.array(X_train).reshape(-1, IMG_SIZE, IMG_SIZE, 1)\n",
    "    \n",
    "    # Storing the shuffled data (test)\n",
    "    X_test = []\n",
    "    y_test = []\n",
    "\n",
    "    for features, label in test_data:\n",
    "        X_test.append(features)\n",
    "        y_test.append(label)\n",
    "\n",
    "    X_test = np.array(X_test).reshape(-1, IMG_SIZE, IMG_SIZE, 1)\n",
    "    \n",
    "    # Naming the files with their respective dimensions\n",
    "    file_names = [\"X_train_\", \"y_train_\", \"X_test_\", \"y_test_\"]\n",
    "    \n",
    "    for i in range(len(file_names)):\n",
    "        file_names[i] += str(IMG_SIZE)\n",
    "        file_names[i] += \".pickle\"\n",
    "    \n",
    "    # Saving our data\n",
    "    save_data(X_train, y_train, X_test, y_test, file_names)\n",
    "    \n",
    "    \n",
    "#     plt.imshow(resized_train, cmap='gray')\n",
    "#     plt.show()\n",
    "\n",
    "# lower_quality(4)\n",
    "# FIX ME: Figure out how to save your training and testing data!!"
   ]
  },
  {
   "cell_type": "code",
   "execution_count": 5,
   "id": "aabe1ab1",
   "metadata": {},
   "outputs": [],
   "source": [
    "image_sizes = [28, 14, 7, 4]\n",
    "\n",
    "for i in range(len(image_sizes)):\n",
    "    create_datasets(image_sizes[i])\n",
    "\n"
   ]
  }
 ],
 "metadata": {
  "kernelspec": {
   "display_name": "Python 3",
   "language": "python",
   "name": "python3"
  },
  "language_info": {
   "codemirror_mode": {
    "name": "ipython",
    "version": 3
   },
   "file_extension": ".py",
   "mimetype": "text/x-python",
   "name": "python",
   "nbconvert_exporter": "python",
   "pygments_lexer": "ipython3",
   "version": "3.6.13"
  }
 },
 "nbformat": 4,
 "nbformat_minor": 5
}
