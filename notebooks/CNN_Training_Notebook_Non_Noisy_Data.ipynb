{
 "cells": [
  {
   "cell_type": "code",
   "execution_count": 1,
   "id": "dfc2e297",
   "metadata": {},
   "outputs": [],
   "source": [
    "%load_ext autoreload\n",
    "%autoreload 2"
   ]
  },
  {
   "cell_type": "code",
   "execution_count": 2,
   "id": "283469de",
   "metadata": {},
   "outputs": [],
   "source": [
    "import os, sys\n",
    "\n",
    "from CNN import CNN, train, test, plot_confusion_matrix\n",
    "import torch\n",
    "import timeit\n",
    "import numpy as np\n",
    "import matplotlib.pyplot as plt"
   ]
  },
  {
   "cell_type": "code",
   "execution_count": 3,
   "id": "bf038642",
   "metadata": {},
   "outputs": [
    {
     "name": "stderr",
     "output_type": "stream",
     "text": [
      "/Users/cristianespinosa/opt/anaconda3/envs/tensor/lib/python3.6/site-packages/torchvision/datasets/mnist.py:498: UserWarning: The given NumPy array is not writeable, and PyTorch does not support non-writeable tensors. This means you can write to the underlying (supposedly non-writeable) NumPy array using the tensor. You may want to copy the array to protect its data or make it writeable before converting it to a tensor. This type of warning will be suppressed for the rest of this program. (Triggered internally at  /Users/distiller/project/conda/conda-bld/pytorch_1631631159818/work/torch/csrc/utils/tensor_numpy.cpp:180.)\n",
      "  return torch.from_numpy(parsed.astype(m[2], copy=False)).view(*s)\n"
     ]
    }
   ],
   "source": [
    "sizes = [28, 14, 7, 4]\n",
    "train_data = [None, None, None, None]\n",
    "loss_data = [None, None, None, None]\n",
    "test_data = [None, None, None, None]\n",
    "cmt = [None, None, None, None]\n",
    "cnn = [None, None, None, None]\n",
    "\n",
    "for i in range(len(cnn)):\n",
    "    if i < 2:\n",
    "        cnn[i] = CNN(img_shape = sizes[i], noise = True)\n",
    "    else:\n",
    "        cnn[i] = CNN(img_shape = sizes[i])\n",
    "    "
   ]
  },
  {
   "cell_type": "code",
   "execution_count": null,
   "id": "44096c69",
   "metadata": {},
   "outputs": [],
   "source": [
    "for i in range(len(cnn)):\n",
    "    start = timeit.default_timer()\n",
    "    train_data[i], loss_data[i] = train(cnn[i], cnn[i].loaders, 75 + (30*i))\n",
    "    end = timeit.default_timer()\n",
    "    time = np.round((end - start) / 60, 2)\n",
    "    print('Training completion time: ', time, 'minutes\\n')\n",
    "    \n",
    "    \n",
    "    start = timeit.default_timer()\n",
    "    cmt[i], test_data[i] = test(cnn[i], cnn[i].loaders)\n",
    "    end = timeit.default_timer()\n",
    "    time = np.round((end - start) / 60, 2)\n",
    "    print('Testing completion time: ', time, 'minutes\\n')\n",
    "    \n",
    "    print('Saving the models...')\n",
    "    \n",
    "    model_path = '../models/April_5th_2022/noisy_data_training/' + str(sizes[i]) + 'x' + str(sizes[i])'/cnn_model' + str(sizes[i]) + 'x' + str(sizes[i])\n",
    "    weights_path = '../models/April_5th_2022/noisy_data_training/cnn_weights' + str(sizes[i]) + 'x' + str(sizes[i])\n",
    "    torch.save(cnn[i], model_path)\n",
    "    torch.save(cnn[i].state_dict(), weights_path)\n",
    "    print(\"Done Saving\\n\")\n"
   ]
  },
  {
   "cell_type": "code",
   "execution_count": 114,
   "id": "68220931",
   "metadata": {},
   "outputs": [],
   "source": [
    "dummy = torch.load('/Users/cristianespinosa/Documents/UCM_Undergraduate_Research/models/March_28th_2022/cnn_model7x7')#CNN(noise = False)"
   ]
  },
  {
   "cell_type": "code",
   "execution_count": 115,
   "id": "7850d524",
   "metadata": {},
   "outputs": [
    {
     "data": {
      "image/png": "[encoded data removed]",
      "text/plain": [
       "<Figure size 1080x288 with 6 Axes>"
      ]
     },
     "metadata": {
      "needs_background": "light"
     },
     "output_type": "display_data"
    }
   ],
   "source": [
    "fig, axs = plt.subplots(1,6, figsize=(15,4))\n",
    "axs = axs.ravel()\n",
    "for i in range(6):\n",
    "    resized = np.resize(dummy.train_data[i][0][0], (1,1,7,7))\n",
    "    test_output, last_layer = dummy(torch.tensor(resized))\n",
    "    pred_y = torch.max(test_output, 1)[1].numpy()[0]\n",
    "    \n",
    "    axs[i].imshow(dummy.train_data[i][0][0])\n",
    "    axs[i].set_title('Truth: %i \\nPrediction: %s '%(dummy.train_data[i][1],pred_y ))\n",
    "fig.suptitle('28x28 No noise', fontsize=16)\n",
    "#plt.subplots_adjust(top=0.1)\n",
    "plt.show()\n",
    "# dummy = CNN(noise = True)\n",
    "# plt.imshow(dummy.train_data[0][0][0]); plt.show()\n",
    "# plt.hist(dummy.train_data[0][0][0]);plt.show()"
   ]
  },
  {
   "cell_type": "code",
   "execution_count": null,
   "id": "e1b56844",
   "metadata": {},
   "outputs": [],
   "source": [
    "plt.figure(figsize=(12,7))\n",
    "plot_confusion_matrix(cmt[0], dummy.test_data.classes)\n",
    "plt.savefig('../models/April_5th_2022/confusion_matrix_28x28_with_noise.png')"
   ]
  },
  {
   "cell_type": "code",
   "execution_count": null,
   "id": "387a2f65",
   "metadata": {},
   "outputs": [],
   "source": [
    "plt.figure(figsize=(12,7))\n",
    "plot_confusion_matrix(cmt[1], dummy.test_data.classes)\n",
    "plt.savefig('../models/April_5th_2022/confusion_matrix_14x14_with_noise.png')"
   ]
  },
  {
   "cell_type": "code",
   "execution_count": null,
   "id": "ae9336ed",
   "metadata": {},
   "outputs": [],
   "source": [
    "plt.figure(figsize=(12,7))\n",
    "plot_confusion_matrix(cmt[2], dummy.test_data.classes)\n",
    "plt.savefig('../models/April_5th_2022/confusion_matrix_7x7_without_noise.png')"
   ]
  },
  {
   "cell_type": "code",
   "execution_count": null,
   "id": "44ad1f13",
   "metadata": {},
   "outputs": [],
   "source": [
    "plt.figure(figsize=(12,7))\n",
    "plot_confusion_matrix(cmt[3], dummy.test_data.classes)\n",
    "plt.savefig('../models/April_5th_2022/confusion_matrix_4x4_without_noise.png')"
   ]
  },
  {
   "cell_type": "code",
   "execution_count": null,
   "id": "3014259a",
   "metadata": {},
   "outputs": [],
   "source": [
    "# for i in range(len(cnn)):\n",
    "#     model_path = '../models/March_28th_2022/cnn_model' + str(sizes[i]) + 'x' + str(sizes[i])\n",
    "#     cnn[i] = torch.load(model_path)\n",
    "#     loss_data = np.load('../models/March_28th_2022/cnn_loss_data.npy', allow_pickle=True)\n",
    "#     test_data = np.load('../models/March_28th_2022/cnn_test_acc_data.npy')\n",
    "#     train_data = np.load('../models/March_28th_2022/cnn_train_acc_data.npy', allow_pickle=True)"
   ]
  },
  {
   "cell_type": "code",
   "execution_count": null,
   "id": "d3f80a8b",
   "metadata": {},
   "outputs": [],
   "source": [
    "# dummy = CNN(noise=True)\n",
    "# train(dummy, loaders = dummy.loaders, num_epochs=2)"
   ]
  },
  {
   "cell_type": "code",
   "execution_count": null,
   "id": "8513b441",
   "metadata": {},
   "outputs": [],
   "source": [
    "# cmt = test(dummy, dummy.loaders)"
   ]
  },
  {
   "cell_type": "code",
   "execution_count": null,
   "id": "f4b9b123",
   "metadata": {},
   "outputs": [],
   "source": [
    "# plt.figure(figsize=(10,10))\n",
    "# plot_confusion_matrix(cmt, dummy.test_data.classes)"
   ]
  },
  {
   "cell_type": "code",
   "execution_count": null,
   "id": "f5fd7afc",
   "metadata": {},
   "outputs": [],
   "source": [
    "# plt.imshow(dummy.train_data[2][0][0])\n",
    "# print(dummy.train_data[2][1])"
   ]
  },
  {
   "cell_type": "code",
   "execution_count": null,
   "id": "765a7ca4",
   "metadata": {},
   "outputs": [],
   "source": [
    "# plt.imshow(cnn[0].train_data[2][0][0])"
   ]
  },
  {
   "cell_type": "code",
   "execution_count": null,
   "id": "a77397c2",
   "metadata": {},
   "outputs": [],
   "source": [
    "# plt.figure(figsize = (12,7))\n",
    "# sn.heatmap(test_data[0], annot=True, cmap='Blues')\n",
    "# plt.savefig('../models/confusion_matrix_28x28.png')"
   ]
  },
  {
   "cell_type": "code",
   "execution_count": null,
   "id": "994a7ea9",
   "metadata": {},
   "outputs": [],
   "source": [
    "plt.figure(figsize = (12,7))\n",
    "sn.heatmap(test_data[1], annot=True, cmap='Blues')\n",
    "# plt.savefig('../models/confusion_matrix_14x14.png')"
   ]
  },
  {
   "cell_type": "code",
   "execution_count": null,
   "id": "e667434e",
   "metadata": {},
   "outputs": [],
   "source": [
    "# plt.figure(figsize = (12,7))\n",
    "# sn.heatmap(test_data[2], annot=True, cmap='Blues')\n",
    "# plt.savefig('../models/confusion_matrix_7x7.png')"
   ]
  },
  {
   "cell_type": "code",
   "execution_count": null,
   "id": "bd6c71d2",
   "metadata": {},
   "outputs": [],
   "source": [
    "# plt.figure(figsize = (12,7))\n",
    "# sn.heatmap(test_data[3], annot=True, cmap='Blues')\n",
    "# plt.savefig('../models/confusion_matrix_4x4.png')"
   ]
  },
  {
   "cell_type": "code",
   "execution_count": null,
   "id": "0e1b44ea",
   "metadata": {},
   "outputs": [],
   "source": [
    "# train_data = np.array(train_data)\n",
    "# np.save('../models/cnn_train_acc_data', train_data)\n",
    "\n",
    "# test_data = np.array(test_data)\n",
    "# np.save('../models/cnn_test_acc_data', test_data)\n",
    "\n",
    "# loss_data = np.array(loss_data)\n",
    "# np.save('../models/cnn_loss_data', loss_data)"
   ]
  },
  {
   "cell_type": "code",
   "execution_count": null,
   "id": "610f3ce1",
   "metadata": {},
   "outputs": [],
   "source": [
    "# rows = 4\n",
    "# cols = 2\n",
    "# f, axarr = plt.subplots(rows, cols, figsize=(20, 25))\n",
    "# for i in range(rows):\n",
    "#     for j in range(cols):\n",
    "#         if j == 0:\n",
    "#             title = \"Train Accuracy (\" + str(sizes[i]) + \"x\" + str(sizes[i]) + \")\"\n",
    "#             axarr[i][j].set_title(title)\n",
    "#             axarr[i][j].set_xlabel(\"Epochs\")\n",
    "#             axarr[i][j].set_ylabel(\"Accuracy\")\n",
    "#             axarr[i][j].plot(train_data[i])\n",
    "#         else:\n",
    "#             title = \"Loss Data (\" + str(sizes[i]) + \"x\" + str(sizes[i]) + \")\"\n",
    "#             axarr[i][j].set_title(title)\n",
    "#             axarr[i][j].set_xlabel(\"Epochs\")\n",
    "#             axarr[i][j].set_ylabel(\"Loss\")\n",
    "#             axarr[i][j].plot(loss_data[i])\n"
   ]
  },
  {
   "cell_type": "code",
   "execution_count": 6,
   "id": "af7a8bbb",
   "metadata": {},
   "outputs": [],
   "source": [
    "# test_data = np.load('../models/March_28th_2022/cnn_test_acc_data.npy')\n",
    "# train_data = np.load('../models/March_28th_2022/cnn_train_acc_data.npy', allow_pickle=True)"
   ]
  },
  {
   "cell_type": "code",
   "execution_count": 22,
   "id": "c8e7f951",
   "metadata": {},
   "outputs": [
    {
     "data": {
      "text/plain": [
       "[<matplotlib.lines.Line2D at 0x7fbbf6e9a630>,\n",
       " <matplotlib.lines.Line2D at 0x7fbbf6e9a6d8>,\n",
       " <matplotlib.lines.Line2D at 0x7fbbf6e9a780>,\n",
       " <matplotlib.lines.Line2D at 0x7fbbf6e9a828>,\n",
       " <matplotlib.lines.Line2D at 0x7fbbf6e9a8d0>,\n",
       " <matplotlib.lines.Line2D at 0x7fbbf6e9a978>,\n",
       " <matplotlib.lines.Line2D at 0x7fbbf6e9aa20>,\n",
       " <matplotlib.lines.Line2D at 0x7fbbf6e9aac8>,\n",
       " <matplotlib.lines.Line2D at 0x7fbbf6e9ab70>,\n",
       " <matplotlib.lines.Line2D at 0x7fbbf6e9ac18>]"
      ]
     },
     "execution_count": 22,
     "metadata": {},
     "output_type": "execute_result"
    },
    {
     "data": {
      "image/png": "[encoded data removed]",
      "text/plain": [
       "<Figure size 432x288 with 1 Axes>"
      ]
     },
     "metadata": {
      "needs_background": "light"
     },
     "output_type": "display_data"
    }
   ],
   "source": []
  },
  {
   "cell_type": "code",
   "execution_count": 24,
   "id": "f5810a93",
   "metadata": {},
   "outputs": [
    {
     "data": {
      "text/plain": [
       "[0.15,\n",
       " 0.1,\n",
       " 0.18,\n",
       " 0.09,\n",
       " 0.13,\n",
       " 0.14,\n",
       " 0.14,\n",
       " 0.13,\n",
       " 0.13,\n",
       " 0.13,\n",
       " 0.15,\n",
       " 0.09,\n",
       " 0.09,\n",
       " 0.13,\n",
       " 0.17,\n",
       " 0.18,\n",
       " 0.15,\n",
       " 0.13,\n",
       " 0.14,\n",
       " 0.15,\n",
       " 0.17,\n",
       " 0.12,\n",
       " 0.15,\n",
       " 0.16,\n",
       " 0.11,\n",
       " 0.13,\n",
       " 0.16,\n",
       " 0.11,\n",
       " 0.14,\n",
       " 0.14,\n",
       " 0.17,\n",
       " 0.16,\n",
       " 0.15,\n",
       " 0.19,\n",
       " 0.11,\n",
       " 0.17,\n",
       " 0.2,\n",
       " 0.12,\n",
       " 0.15,\n",
       " 0.2,\n",
       " 0.18,\n",
       " 0.16,\n",
       " 0.06,\n",
       " 0.19,\n",
       " 0.08,\n",
       " 0.13,\n",
       " 0.14,\n",
       " 0.12,\n",
       " 0.18,\n",
       " 0.24,\n",
       " 0.21,\n",
       " 0.13,\n",
       " 0.16,\n",
       " 0.19,\n",
       " 0.18,\n",
       " 0.15,\n",
       " 0.12,\n",
       " 0.17,\n",
       " 0.14,\n",
       " 0.12,\n",
       " 0.11,\n",
       " 0.15,\n",
       " 0.17,\n",
       " 0.14,\n",
       " 0.18,\n",
       " 0.18,\n",
       " 0.16,\n",
       " 0.13,\n",
       " 0.17,\n",
       " 0.1,\n",
       " 0.22,\n",
       " 0.19,\n",
       " 0.16,\n",
       " 0.29,\n",
       " 0.23,\n",
       " 0.21,\n",
       " 0.24,\n",
       " 0.14,\n",
       " 0.14,\n",
       " 0.19,\n",
       " 0.18,\n",
       " 0.12,\n",
       " 0.14,\n",
       " 0.18,\n",
       " 0.17,\n",
       " 0.14,\n",
       " 0.18,\n",
       " 0.15,\n",
       " 0.15,\n",
       " 0.17,\n",
       " 0.18,\n",
       " 0.15,\n",
       " 0.16,\n",
       " 0.16,\n",
       " 0.19,\n",
       " 0.21,\n",
       " 0.11,\n",
       " 0.13,\n",
       " 0.11,\n",
       " 0.2,\n",
       " 0.2,\n",
       " 0.19,\n",
       " 0.2,\n",
       " 0.19,\n",
       " 0.17,\n",
       " 0.14,\n",
       " 0.11,\n",
       " 0.2,\n",
       " 0.15,\n",
       " 0.18,\n",
       " 0.23,\n",
       " 0.11,\n",
       " 0.12,\n",
       " 0.17,\n",
       " 0.19,\n",
       " 0.17,\n",
       " 0.23,\n",
       " 0.14,\n",
       " 0.18,\n",
       " 0.23,\n",
       " 0.15,\n",
       " 0.15,\n",
       " 0.22,\n",
       " 0.15,\n",
       " 0.14,\n",
       " 0.14,\n",
       " 0.25,\n",
       " 0.16,\n",
       " 0.23,\n",
       " 0.15,\n",
       " 0.22,\n",
       " 0.18,\n",
       " 0.18,\n",
       " 0.17,\n",
       " 0.13,\n",
       " 0.12,\n",
       " 0.16,\n",
       " 0.22,\n",
       " 0.16,\n",
       " 0.14,\n",
       " 0.12,\n",
       " 0.2,\n",
       " 0.2,\n",
       " 0.19,\n",
       " 0.14,\n",
       " 0.18,\n",
       " 0.19,\n",
       " 0.17,\n",
       " 0.15,\n",
       " 0.15,\n",
       " 0.14,\n",
       " 0.21,\n",
       " 0.2,\n",
       " 0.15,\n",
       " 0.13,\n",
       " 0.19,\n",
       " 0.24,\n",
       " 0.2,\n",
       " 0.17,\n",
       " 0.16,\n",
       " 0.18,\n",
       " 0.15,\n",
       " 0.17,\n",
       " 0.19,\n",
       " 0.17]"
      ]
     },
     "execution_count": 24,
     "metadata": {},
     "output_type": "execute_result"
    }
   ],
   "source": [
    "train_data[3]"
   ]
  },
  {
   "cell_type": "code",
   "execution_count": null,
   "id": "fbbfe520",
   "metadata": {},
   "outputs": [],
   "source": []
  }
 ],
 "metadata": {
  "kernelspec": {
   "display_name": "Python 3",
   "language": "python",
   "name": "python3"
  },
  "language_info": {
   "codemirror_mode": {
    "name": "ipython",
    "version": 3
   },
   "file_extension": ".py",
   "mimetype": "text/x-python",
   "name": "python",
   "nbconvert_exporter": "python",
   "pygments_lexer": "ipython3",
   "version": "3.6.13"
  }
 },
 "nbformat": 4,
 "nbformat_minor": 5
}
