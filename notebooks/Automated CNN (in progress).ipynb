{
 "cells": [
  {
   "cell_type": "code",
   "execution_count": 3,
   "id": "9b0a0b54",
   "metadata": {},
   "outputs": [],
   "source": [
    "import torch\n",
    "import torch.nn as nn\n",
    "from torch.autograd import Variable\n",
    "from torchvision import datasets\n",
    "import torchvision.transforms as transforms\n",
    "import numpy as np\n",
    "import matplotlib.pyplot as plt\n",
    "from matplotlib.pyplot import figure"
   ]
  },
  {
   "cell_type": "code",
   "execution_count": 14,
   "id": "f7ae6e32",
   "metadata": {},
   "outputs": [],
   "source": [
    "# There was something Jocelyn did to modify the image sizes without modifying the dtype\n",
    "size = 14\n",
    "root_dir = \"../data/\" + str(size) + \"x\" + str(size)\n",
    "\n",
    "train_data = datasets.MNIST(\n",
    "    root = root_dir,\n",
    "    train = True,                         \n",
    "    transform = transforms.Compose([\n",
    "                    transforms.ToTensor(),\n",
    "                    transforms.Resize(size),\n",
    "                    transforms.Normalize(0, 1)\n",
    "                ]), \n",
    "    download = False,            \n",
    ")\n",
    "test_data = datasets.MNIST(\n",
    "    root = root_dir, \n",
    "    train = False, \n",
    "    transform = transforms.Compose([\n",
    "                    transforms.ToTensor(),\n",
    "                    transforms.Resize(size),\n",
    "                    transforms.Normalize(0, 1)\n",
    "                ]),\n",
    "    download = False,\n",
    ")"
   ]
  },
  {
   "cell_type": "code",
   "execution_count": 16,
   "id": "aaff2437",
   "metadata": {},
   "outputs": [
    {
     "data": {
      "text/plain": [
       "torch.Size([1, 28, 28])"
      ]
     },
     "execution_count": 16,
     "metadata": {},
     "output_type": "execute_result"
    }
   ],
   "source": [
    "train_data[0][0].shape"
   ]
  },
  {
   "cell_type": "markdown",
   "id": "f9963265",
   "metadata": {},
   "source": [
    "<h1>Using Pytorch's Data loaders to feed data into CNN</h1>"
   ]
  },
  {
   "cell_type": "code",
   "execution_count": 17,
   "id": "2388d129",
   "metadata": {},
   "outputs": [
    {
     "data": {
      "text/plain": [
       "{'train': <torch.utils.data.dataloader.DataLoader at 0x7ffc72bbb2b0>,\n",
       " 'test': <torch.utils.data.dataloader.DataLoader at 0x7ffc75fbb7f0>}"
      ]
     },
     "execution_count": 17,
     "metadata": {},
     "output_type": "execute_result"
    }
   ],
   "source": [
    "# No change required\n",
    "loaders = {\n",
    "    'train' : torch.utils.data.DataLoader(train_data, \n",
    "                                          batch_size=100, \n",
    "                                          shuffle=True, \n",
    "                                          num_workers=1),\n",
    "    \n",
    "    'test'  : torch.utils.data.DataLoader(test_data, \n",
    "                                          batch_size=100, \n",
    "                                          shuffle=True, \n",
    "                                          num_workers=1),\n",
    "}\n",
    "loaders"
   ]
  },
  {
   "cell_type": "markdown",
   "id": "65072918",
   "metadata": {},
   "source": [
    "<h1>Defining the CNN</h1>"
   ]
  },
  {
   "cell_type": "code",
   "execution_count": 19,
   "id": "c01124f9",
   "metadata": {},
   "outputs": [],
   "source": [
    "# Requires working on \n",
    "class CNN(nn.Module):\n",
    "    def __init__(self, size):\n",
    "        super(CNN, self).__init__()\n",
    "        '''\n",
    "        Goes through two layers of 2D convolutions, each followed by a 2x2 max pooling\n",
    "        \n",
    "        Dimensions:\n",
    "        1.) Input Shape:          [batch_size, 1, 14, 14]\n",
    "        \n",
    "        2.) After conv:           [batch_size, 4, 12, 12]\n",
    "            After max pooling:    [batch_size, 4, 6, 6]\n",
    "        \n",
    "        3.) After conv:           [batch_size, 8, 4, 4]\n",
    "            After max pooling:    [batch_size, 8, 2, 2]\n",
    "            \n",
    "        4.) After flattening:     [batch_size, 8 * 2 * 2]\n",
    "        '''\n",
    "        if size == 28:\n",
    "            self.conv1 = nn.Sequential(         \n",
    "            nn.Conv2d(\n",
    "                in_channels=1,              \n",
    "                out_channels=16,            \n",
    "                kernel_size=5,              \n",
    "                stride=1,                   \n",
    "                padding=0,                  \n",
    "            ),                              \n",
    "            nn.ReLU(),                      \n",
    "            nn.MaxPool2d(kernel_size=2),    \n",
    "            )\n",
    "            self.conv2 = nn.Sequential(         \n",
    "                nn.Conv2d(16, 32, 5, 1, 0),     \n",
    "                nn.ReLU(),                      \n",
    "                nn.MaxPool2d(2),                \n",
    "            )\n",
    "            # fully connected layer, output 10 classes\n",
    "            self.out = nn.Linear(32 * 4 * 4, 10)\n",
    "            pass\n",
    "        \n",
    "        elif size == 14:\n",
    "            self.conv1 = nn.Sequential(         \n",
    "                nn.Conv2d(\n",
    "                    in_channels=1,              \n",
    "                    out_channels=4,            \n",
    "                    kernel_size=3,              \n",
    "                    stride=1,                   \n",
    "                    padding=0,                  \n",
    "                ),                              \n",
    "                nn.ReLU(),                      \n",
    "                nn.MaxPool2d(kernel_size=2),    \n",
    "            )\n",
    "            self.conv2 = nn.Sequential(         \n",
    "                nn.Conv2d(4, 8, 3, 1, 0),     \n",
    "                nn.ReLU(),                      \n",
    "                nn.MaxPool2d(2),                \n",
    "            )\n",
    "            # fully connected layer, output 10 classes\n",
    "            # compute Linear Layer input size\n",
    "            self.out = nn.Linear(8 * 2 * 2, 10)\n",
    "            pass\n",
    "        \n",
    "        elif size == 7:\n",
    "            self.conv1 = nn.Sequential(         \n",
    "            nn.Conv2d(\n",
    "                in_channels=1,              \n",
    "                out_channels=4,            \n",
    "                kernel_size=2,              \n",
    "                stride=1,                   \n",
    "                padding=0,                  \n",
    "            ),                              \n",
    "            nn.ReLU(),                      \n",
    "            nn.MaxPool2d(kernel_size=2),    \n",
    "            )\n",
    "            self.conv2 = nn.Sequential(         \n",
    "                nn.Conv2d(4, 8, 2, 1, 0),     \n",
    "                nn.ReLU(),                      \n",
    "                nn.MaxPool2d(2),                \n",
    "            )\n",
    "            # fully connected layer, output 10 classes\n",
    "            self.out = nn.Linear(8 * 1 * 1, 10)\n",
    "            pass\n",
    "        \n",
    "        elif size == 4:\n",
    "            self.conv1 = nn.Sequential(         \n",
    "            nn.Conv2d(\n",
    "                in_channels=1,              \n",
    "                out_channels=4,            \n",
    "                kernel_size=3,              \n",
    "                stride=1,                   \n",
    "                padding=1,                  \n",
    "            ),                              \n",
    "            nn.ReLU(),                      \n",
    "            nn.MaxPool2d(kernel_size=2),    \n",
    "            )\n",
    "            self.conv2 = nn.Sequential(         \n",
    "                nn.Conv2d(4, 8, 3, 1, 1),     \n",
    "                nn.ReLU(),                      \n",
    "                nn.MaxPool2d(2),                \n",
    "            )\n",
    "            # fully connected layer, output 10 classes\n",
    "            self.out = nn.Linear(8 * 1 * 1, 10)\n",
    "            pass\n",
    "        \n",
    "    def forward(self, x):\n",
    "        x = self.conv1(x)\n",
    "        x = self.conv2(x)\n",
    "        # flatten the output of conv2 to (batch_size, 16 * 8 * 8)\n",
    "        x = x.view(x.size(0), -1)       \n",
    "        output = self.out(x)\n",
    "        return output, x    # return x for visualization\n",
    "    \n",
    "    \n",
    "    def flatten_input(in_size, ker_size, padding, stride):\n",
    "        pass"
   ]
  },
  {
   "cell_type": "code",
   "execution_count": 21,
   "id": "fe59cb9a",
   "metadata": {},
   "outputs": [
    {
     "name": "stdout",
     "output_type": "stream",
     "text": [
      "CNN(\n",
      "  (conv1): Sequential(\n",
      "    (0): Conv2d(1, 4, kernel_size=(3, 3), stride=(1, 1))\n",
      "    (1): ReLU()\n",
      "    (2): MaxPool2d(kernel_size=2, stride=2, padding=0, dilation=1, ceil_mode=False)\n",
      "  )\n",
      "  (conv2): Sequential(\n",
      "    (0): Conv2d(4, 8, kernel_size=(3, 3), stride=(1, 1))\n",
      "    (1): ReLU()\n",
      "    (2): MaxPool2d(kernel_size=2, stride=2, padding=0, dilation=1, ceil_mode=False)\n",
      "  )\n",
      "  (out): Linear(in_features=32, out_features=10, bias=True)\n",
      ")\n"
     ]
    }
   ],
   "source": [
    "cnn = CNN(14)\n",
    "print(cnn)"
   ]
  },
  {
   "cell_type": "code",
   "execution_count": null,
   "id": "62626944",
   "metadata": {},
   "outputs": [],
   "source": [
    "loss_func = nn.CrossEntropyLoss(); print(loss_func)   \n",
    "optimizer = torch.optim.Adam(cnn.parameters(), lr= 1e-5); print(optimizer)"
   ]
  },
  {
   "cell_type": "markdown",
   "id": "abba8cd7",
   "metadata": {},
   "source": [
    "<h1>Training the CNN</h1>\n",
    "<div>Error source may be that the dataset resized_28 doesn't have 'labels', just 'images' ---> (for i, (images, labels))</div>"
   ]
  },
  {
   "cell_type": "code",
   "execution_count": null,
   "id": "b2ce80d6",
   "metadata": {
    "scrolled": true
   },
   "outputs": [],
   "source": [
    "num_epochs = 50\n",
    "train_acc_data = []\n",
    "loss_data = []\n",
    "\n",
    "def train(num_epochs, cnn, loaders):\n",
    "    cnn.train()\n",
    "        \n",
    "    # Train the model\n",
    "    total_step = len(loaders['train'])\n",
    "        \n",
    "    for epoch in range(num_epochs):\n",
    "        for i, (images, labels) in enumerate(loaders['train']):\n",
    "            \n",
    "            # gives batch data, normalize x when iterate train_loader\n",
    "            b_x = Variable(images)   # batch x\n",
    "            b_y = Variable(labels)   # batch y\n",
    "            output = cnn(b_x)[0]               \n",
    "            loss = loss_func(output, b_y)\n",
    "            \n",
    "            # measure accuracy and record loss\n",
    "            train_output, last_layer = cnn(images)\n",
    "            pred_y = torch.max(train_output, 1)[1].data.squeeze()\n",
    "            accuracy = (pred_y == labels).sum().item() / float(labels.size(0))\n",
    "            \n",
    "            # clear gradients for this training step   \n",
    "            optimizer.zero_grad()           \n",
    "            \n",
    "            # backpropagation, compute gradients \n",
    "            loss.backward()    \n",
    "            # apply gradients             \n",
    "            optimizer.step()  \n",
    "#             output = cnn(images)\n",
    "#             correct += (output == labels).float().sum()\n",
    "#             accuracy = 100 * correct / len(trainset)\n",
    "            \n",
    "            if (i+1) % 100 == 0:\n",
    "                print ('Epoch [{}/{}], Step [{}/{}], Loss: {:.4f}, Accuracy: {:.4f}' \n",
    "                       .format(epoch + 1, num_epochs, i + 1, total_step, loss.item(), accuracy))\n",
    "                train_acc_data.append(accuracy)\n",
    "                loss_data.append(loss)\n",
    "            pass\n",
    "        \n",
    "        pass\n",
    "    \n",
    "    \n",
    "    pass\n",
    "    \n",
    "train(num_epochs, cnn, loaders)"
   ]
  },
  {
   "cell_type": "code",
   "execution_count": null,
   "id": "ce692476",
   "metadata": {},
   "outputs": [],
   "source": [
    "num_epochs = 10\n",
    "test_acc_data = []\n",
    "\n",
    "def test():\n",
    "    cnn.eval()\n",
    "        \n",
    "    # Train the model\n",
    "    correct = 0\n",
    "    total = 0\n",
    "    for images, labels in loaders['test']:\n",
    "        test_output, last_layer = cnn(images)\n",
    "        pred_y = torch.max(test_output, 1)[1].data.squeeze()\n",
    "        accuracy = (pred_y == labels).sum().item() / float(labels.size(0))\n",
    "        test_acc_data.append(accuracy)\n",
    "        print(\"Accuracy: {:.4f}\".format(accuracy))\n",
    "        \n",
    "#     print('Test Accuracy: %.2f' % accuracy)\n",
    "    \n",
    "test()"
   ]
  },
  {
   "cell_type": "code",
   "execution_count": null,
   "id": "61821df1",
   "metadata": {},
   "outputs": [],
   "source": [
    "# for i in range(len(acc_data)):\n",
    "#     if acc_data[i] == 0.71:\n",
    "#         print(\"fount at \", i)\n",
    "\n",
    "# acc_data[600-1]"
   ]
  },
  {
   "cell_type": "code",
   "execution_count": null,
   "id": "e4a23eec",
   "metadata": {},
   "outputs": [],
   "source": [
    "f, axarr = plt.subplots(1,3, figsize=(20, 5))\n",
    "axarr[0].plot(train_acc_data)\n",
    "axarr[0].set_title(\"Train Accuracy\")\n",
    "axarr[1].plot(test_acc_data)\n",
    "axarr[1].set_title(\"Test Accuracy\")\n",
    "axarr[2].plot(loss_data)\n",
    "axarr[2].set_title(\"Loss\")"
   ]
  },
  {
   "cell_type": "code",
   "execution_count": null,
   "id": "b3728ba4",
   "metadata": {
    "scrolled": true
   },
   "outputs": [],
   "source": [
    "cnn.train()\n",
    "len(loaders['train'])"
   ]
  },
  {
   "cell_type": "code",
   "execution_count": null,
   "id": "9bd065c6",
   "metadata": {},
   "outputs": [],
   "source": [
    "type(train_data)"
   ]
  },
  {
   "cell_type": "code",
   "execution_count": null,
   "id": "e48401ca",
   "metadata": {},
   "outputs": [],
   "source": [
    "type(resized_28)"
   ]
  },
  {
   "cell_type": "code",
   "execution_count": null,
   "id": "807c165e",
   "metadata": {},
   "outputs": [],
   "source": [
    "# for i, image in enumerate(loaders['train']):\n",
    "#     print(i, image.shape)"
   ]
  },
  {
   "cell_type": "code",
   "execution_count": null,
   "id": "798469f7",
   "metadata": {},
   "outputs": [],
   "source": [
    "fig = plt.figure()\n",
    "fig.set_figwidth(8)\n",
    "fig.set_figheight(30)\n",
    "plt.imshow(test_data[0][0][0])"
   ]
  },
  {
   "cell_type": "code",
   "execution_count": null,
   "id": "a8e05d07",
   "metadata": {},
   "outputs": [],
   "source": []
  }
 ],
 "metadata": {
  "kernelspec": {
   "display_name": "Python 3",
   "language": "python",
   "name": "python3"
  },
  "language_info": {
   "codemirror_mode": {
    "name": "ipython",
    "version": 3
   },
   "file_extension": ".py",
   "mimetype": "text/x-python",
   "name": "python",
   "nbconvert_exporter": "python",
   "pygments_lexer": "ipython3",
   "version": "3.6.13"
  }
 },
 "nbformat": 4,
 "nbformat_minor": 5
}
