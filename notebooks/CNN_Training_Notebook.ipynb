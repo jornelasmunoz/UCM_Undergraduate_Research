{
 "cells": [
  {
   "cell_type": "code",
   "execution_count": 1,
   "id": "283469de",
   "metadata": {},
   "outputs": [],
   "source": [
    "from CNN import CNN, train, test, plot_confusion_matrix\n",
    "import torch\n",
    "import timeit\n",
    "import numpy as np\n",
    "import matplotlib.pyplot as plt"
   ]
  },
  {
   "cell_type": "code",
   "execution_count": 4,
   "id": "bf038642",
   "metadata": {},
   "outputs": [],
   "source": [
    "sizes = [28, 14, 7, 4]\n",
    "train_data = [None, None, None, None]\n",
    "loss_data = [None, None, None, None]\n",
    "test_data = [None, None, None, None]\n",
    "cnn = [None, None, None, None]\n",
    "\n",
    "for i in range(len(cnn)):\n",
    "    if i < 2:\n",
    "        cnn[i] = CNN(img_shape = sizes[i], noise = True)\n",
    "    else:\n",
    "        cnn[i] = CNN(img_shape = sizes[i])\n",
    "    "
   ]
  },
  {
   "cell_type": "code",
   "execution_count": 3,
   "id": "44096c69",
   "metadata": {},
   "outputs": [
    {
     "name": "stdout",
     "output_type": "stream",
     "text": [
      "Training...\n",
      "Done training\n",
      "Training completion time:  29.87 minutes\n",
      "\n",
      "Testing...\n"
     ]
    },
    {
     "ename": "NameError",
     "evalue": "name 'test_data' is not defined",
     "output_type": "error",
     "traceback": [
      "\u001b[0;31m---------------------------------------------------------------------------\u001b[0m",
      "\u001b[0;31mNameError\u001b[0m                                 Traceback (most recent call last)",
      "\u001b[0;32m<ipython-input-3-07a10d947a9e>\u001b[0m in \u001b[0;36m<module>\u001b[0;34m()\u001b[0m\n\u001b[1;32m      8\u001b[0m \u001b[0;34m\u001b[0m\u001b[0m\n\u001b[1;32m      9\u001b[0m     \u001b[0mstart\u001b[0m \u001b[0;34m=\u001b[0m \u001b[0mtimeit\u001b[0m\u001b[0;34m.\u001b[0m\u001b[0mdefault_timer\u001b[0m\u001b[0;34m(\u001b[0m\u001b[0;34m)\u001b[0m\u001b[0;34m\u001b[0m\u001b[0;34m\u001b[0m\u001b[0m\n\u001b[0;32m---> 10\u001b[0;31m     \u001b[0mtest_data\u001b[0m\u001b[0;34m[\u001b[0m\u001b[0mi\u001b[0m\u001b[0;34m]\u001b[0m \u001b[0;34m=\u001b[0m \u001b[0mtest\u001b[0m\u001b[0;34m(\u001b[0m\u001b[0mcnn\u001b[0m\u001b[0;34m[\u001b[0m\u001b[0mi\u001b[0m\u001b[0;34m]\u001b[0m\u001b[0;34m,\u001b[0m \u001b[0mcnn\u001b[0m\u001b[0;34m[\u001b[0m\u001b[0mi\u001b[0m\u001b[0;34m]\u001b[0m\u001b[0;34m.\u001b[0m\u001b[0mloaders\u001b[0m\u001b[0;34m)\u001b[0m\u001b[0;34m\u001b[0m\u001b[0;34m\u001b[0m\u001b[0m\n\u001b[0m\u001b[1;32m     11\u001b[0m     \u001b[0mend\u001b[0m \u001b[0;34m=\u001b[0m \u001b[0mtimeit\u001b[0m\u001b[0;34m.\u001b[0m\u001b[0mdefault_timer\u001b[0m\u001b[0;34m(\u001b[0m\u001b[0;34m)\u001b[0m\u001b[0;34m\u001b[0m\u001b[0;34m\u001b[0m\u001b[0m\n\u001b[1;32m     12\u001b[0m     \u001b[0mtime\u001b[0m \u001b[0;34m=\u001b[0m \u001b[0mnp\u001b[0m\u001b[0;34m.\u001b[0m\u001b[0mround\u001b[0m\u001b[0;34m(\u001b[0m\u001b[0;34m(\u001b[0m\u001b[0mend\u001b[0m \u001b[0;34m-\u001b[0m \u001b[0mstart\u001b[0m\u001b[0;34m)\u001b[0m \u001b[0;34m/\u001b[0m \u001b[0;36m60\u001b[0m\u001b[0;34m,\u001b[0m \u001b[0;36m2\u001b[0m\u001b[0;34m)\u001b[0m\u001b[0;34m\u001b[0m\u001b[0;34m\u001b[0m\u001b[0m\n",
      "\u001b[0;31mNameError\u001b[0m: name 'test_data' is not defined"
     ]
    }
   ],
   "source": [
    "for i in range(len(cnn)):\n",
    "    start = timeit.default_timer()\n",
    "    train_data[i], loss_data[i] = train(cnn[i], cnn[i].loaders, 75 + (30*i))\n",
    "    end = timeit.default_timer()\n",
    "    time = np.round((end - start) / 60, 2)\n",
    "    print('Training completion time: ', time, 'minutes\\n')\n",
    "    \n",
    "    \n",
    "    start = timeit.default_timer()\n",
    "    test_data[i] = test(cnn[i], cnn[i].loaders)\n",
    "    end = timeit.default_timer()\n",
    "    time = np.round((end - start) / 60, 2)\n",
    "    print('Testing completion time: ', time, 'minutes\\n')\n",
    "    \n",
    "    print('Saving the models...')\n",
    "    \n",
    "    model_path = '../models/April_5th_2022/cnn_model' + str(sizes[i]) + 'x' + str(sizes[i])\n",
    "    weights_path = '../models/April_5th_2022/cnn_weights' + str(sizes[i]) + 'x' + str(sizes[i])\n",
    "    torch.save(cnn[i], model_path)\n",
    "    torch.save(cnn[i].state_dict(), weights_path)\n",
    "    print(\"Done Saving\\n\")\n"
   ]
  },
  {
   "cell_type": "code",
   "execution_count": null,
   "id": "e1b56844",
   "metadata": {},
   "outputs": [],
   "source": [
    "plt.figure(figsize=(12,7))\n",
    "plot_confusion_matrix(test_data[0], dummy.test_data.classes)\n",
    "plt.savefig('../models/April_5th_2022/confusion_matrix_28x28_with_noise.png')"
   ]
  },
  {
   "cell_type": "code",
   "execution_count": null,
   "id": "387a2f65",
   "metadata": {},
   "outputs": [],
   "source": [
    "plt.figure(figsize=(12,7))\n",
    "plot_confusion_matrix(test_data[1], dummy.test_data.classes)\n",
    "plt.savefig('../models/April_5th_2022/confusion_matrix_14x14_with_noise.png')"
   ]
  },
  {
   "cell_type": "code",
   "execution_count": null,
   "id": "ae9336ed",
   "metadata": {},
   "outputs": [],
   "source": [
    "plt.figure(figsize=(12,7))\n",
    "plot_confusion_matrix(test_data[2], dummy.test_data.classes)\n",
    "plt.savefig('../models/April_5th_2022/confusion_matrix_7x7_without_noise.png')"
   ]
  },
  {
   "cell_type": "code",
   "execution_count": null,
   "id": "44ad1f13",
   "metadata": {},
   "outputs": [],
   "source": [
    "plt.figure(figsize=(12,7))\n",
    "plot_confusion_matrix(test_data[3], dummy.test_data.classes)\n",
    "plt.savefig('../models/April_5th_2022/confusion_matrix_4x4_without_noise.png')"
   ]
  },
  {
   "cell_type": "code",
   "execution_count": null,
   "id": "3014259a",
   "metadata": {},
   "outputs": [],
   "source": [
    "# for i in range(len(cnn)):\n",
    "#     model_path = '../models/March_28th_2022/cnn_model' + str(sizes[i]) + 'x' + str(sizes[i])\n",
    "#     cnn[i] = torch.load(model_path)\n",
    "#     loss_data = np.load('../models/March_28th_2022/cnn_loss_data.npy', allow_pickle=True)\n",
    "#     test_data = np.load('../models/March_28th_2022/cnn_test_acc_data.npy')\n",
    "#     train_data = np.load('../models/March_28th_2022/cnn_train_acc_data.npy', allow_pickle=True)"
   ]
  },
  {
   "cell_type": "code",
   "execution_count": null,
   "id": "d3f80a8b",
   "metadata": {},
   "outputs": [],
   "source": [
    "# dummy = CNN(noise=True)\n",
    "# train(dummy, loaders = dummy.loaders, num_epochs=2)"
   ]
  },
  {
   "cell_type": "code",
   "execution_count": null,
   "id": "8513b441",
   "metadata": {},
   "outputs": [],
   "source": [
    "# cmt = test(dummy, dummy.loaders)"
   ]
  },
  {
   "cell_type": "code",
   "execution_count": null,
   "id": "f4b9b123",
   "metadata": {},
   "outputs": [],
   "source": [
    "# plt.figure(figsize=(10,10))\n",
    "# plot_confusion_matrix(cmt, dummy.test_data.classes)"
   ]
  },
  {
   "cell_type": "code",
   "execution_count": null,
   "id": "f5fd7afc",
   "metadata": {},
   "outputs": [],
   "source": [
    "# plt.imshow(dummy.train_data[2][0][0])\n",
    "# print(dummy.train_data[2][1])"
   ]
  },
  {
   "cell_type": "code",
   "execution_count": null,
   "id": "765a7ca4",
   "metadata": {},
   "outputs": [],
   "source": [
    "# plt.imshow(cnn[0].train_data[2][0][0])"
   ]
  },
  {
   "cell_type": "code",
   "execution_count": null,
   "id": "a77397c2",
   "metadata": {},
   "outputs": [],
   "source": [
    "plt.figure(figsize = (12,7))\n",
    "sn.heatmap(test_data[0], annot=True, cmap='Blues')\n",
    "plt.savefig('../models/confusion_matrix_28x28.png')"
   ]
  },
  {
   "cell_type": "code",
   "execution_count": null,
   "id": "994a7ea9",
   "metadata": {},
   "outputs": [],
   "source": [
    "plt.figure(figsize = (12,7))\n",
    "sn.heatmap(test_data[1], annot=True, cmap='Blues')\n",
    "# plt.savefig('../models/confusion_matrix_14x14.png')"
   ]
  },
  {
   "cell_type": "code",
   "execution_count": null,
   "id": "e667434e",
   "metadata": {},
   "outputs": [],
   "source": [
    "plt.figure(figsize = (12,7))\n",
    "sn.heatmap(test_data[2], annot=True, cmap='Blues')\n",
    "# plt.savefig('../models/confusion_matrix_7x7.png')"
   ]
  },
  {
   "cell_type": "code",
   "execution_count": null,
   "id": "bd6c71d2",
   "metadata": {},
   "outputs": [],
   "source": [
    "plt.figure(figsize = (12,7))\n",
    "sn.heatmap(test_data[3], annot=True, cmap='Blues')\n",
    "# plt.savefig('../models/confusion_matrix_4x4.png')"
   ]
  },
  {
   "cell_type": "code",
   "execution_count": null,
   "id": "0e1b44ea",
   "metadata": {},
   "outputs": [],
   "source": [
    "# train_data = np.array(train_data)\n",
    "# np.save('../models/cnn_train_acc_data', train_data)\n",
    "\n",
    "# test_data = np.array(test_data)\n",
    "# np.save('../models/cnn_test_acc_data', test_data)\n",
    "\n",
    "# loss_data = np.array(loss_data)\n",
    "# np.save('../models/cnn_loss_data', loss_data)"
   ]
  },
  {
   "cell_type": "code",
   "execution_count": null,
   "id": "610f3ce1",
   "metadata": {},
   "outputs": [],
   "source": [
    "rows = 4\n",
    "cols = 2\n",
    "f, axarr = plt.subplots(rows, cols, figsize=(20, 25))\n",
    "for i in range(rows):\n",
    "    for j in range(cols):\n",
    "        if j == 0:\n",
    "            title = \"Train Accuracy (\" + str(sizes[i]) + \"x\" + str(sizes[i]) + \")\"\n",
    "            axarr[i][j].set_title(title)\n",
    "            axarr[i][j].set_xlabel(\"Epochs\")\n",
    "            axarr[i][j].set_ylabel(\"Accuracy\")\n",
    "            axarr[i][j].plot(train_data[i])\n",
    "        else:\n",
    "            title = \"Loss Data (\" + str(sizes[i]) + \"x\" + str(sizes[i]) + \")\"\n",
    "            axarr[i][j].set_title(title)\n",
    "            axarr[i][j].set_xlabel(\"Epochs\")\n",
    "            axarr[i][j].set_ylabel(\"Loss\")\n",
    "            axarr[i][j].plot(loss_data[i])\n"
   ]
  },
  {
   "cell_type": "code",
   "execution_count": null,
   "id": "af7a8bbb",
   "metadata": {},
   "outputs": [],
   "source": []
  }
 ],
 "metadata": {
  "kernelspec": {
   "display_name": "Python 3",
   "language": "python",
   "name": "python3"
  },
  "language_info": {
   "codemirror_mode": {
    "name": "ipython",
    "version": 3
   },
   "file_extension": ".py",
   "mimetype": "text/x-python",
   "name": "python",
   "nbconvert_exporter": "python",
   "pygments_lexer": "ipython3",
   "version": "3.6.13"
  }
 },
 "nbformat": 4,
 "nbformat_minor": 5
}
