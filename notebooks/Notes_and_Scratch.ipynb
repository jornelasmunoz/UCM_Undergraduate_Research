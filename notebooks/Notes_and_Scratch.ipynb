{
 "cells": [
  {
   "cell_type": "code",
   "execution_count": 1,
   "metadata": {},
   "outputs": [],
   "source": [
    "import torch"
   ]
  },
  {
   "cell_type": "markdown",
   "metadata": {},
   "source": [
    "torch.zeros[size_x, size_y] allows you to create a tensor of size size_x by size_y"
   ]
  },
  {
   "cell_type": "code",
   "execution_count": 2,
   "metadata": {},
   "outputs": [
    {
     "data": {
      "text/plain": [
       "tensor([[0., 0., 0., 0., 0.],\n",
       "        [0., 0., 0., 0., 0.]])"
      ]
     },
     "execution_count": 2,
     "metadata": {},
     "output_type": "execute_result"
    }
   ],
   "source": [
    "x = torch.zeros([2,5])\n",
    "x"
   ]
  },
  {
   "cell_type": "code",
   "execution_count": 3,
   "metadata": {},
   "outputs": [
    {
     "data": {
      "text/plain": [
       "torch.Size([2, 5])"
      ]
     },
     "execution_count": 3,
     "metadata": {},
     "output_type": "execute_result"
    }
   ],
   "source": [
    "x.shape"
   ]
  },
  {
   "cell_type": "code",
   "execution_count": 4,
   "metadata": {},
   "outputs": [
    {
     "data": {
      "text/plain": [
       "tensor([[0., 0., 0., 0., 0., 0., 0., 0., 0., 0.]])"
      ]
     },
     "execution_count": 4,
     "metadata": {},
     "output_type": "execute_result"
    }
   ],
   "source": [
    "x.view([1,10])"
   ]
  },
  {
   "cell_type": "code",
   "execution_count": 5,
   "metadata": {},
   "outputs": [
    {
     "data": {
      "text/plain": [
       "tensor([[0., 0., 0., 0., 0.],\n",
       "        [0., 0., 0., 0., 0.]])"
      ]
     },
     "execution_count": 5,
     "metadata": {},
     "output_type": "execute_result"
    }
   ],
   "source": [
    "x"
   ]
  },
  {
   "cell_type": "markdown",
   "metadata": {},
   "source": [
    "You can use .view([size_x, size_y]) to reshape your tensor or flatten your data"
   ]
  },
  {
   "cell_type": "code",
   "execution_count": 6,
   "metadata": {},
   "outputs": [
    {
     "data": {
      "text/plain": [
       "tensor([[0., 0., 0., 0., 0., 0., 0., 0., 0., 0.]])"
      ]
     },
     "execution_count": 6,
     "metadata": {},
     "output_type": "execute_result"
    }
   ],
   "source": [
    "x = x.view([1,10])\n",
    "x"
   ]
  },
  {
   "cell_type": "code",
   "execution_count": 7,
   "metadata": {},
   "outputs": [],
   "source": [
    "import torchvision\n",
    "from torchvision import transforms, datasets"
   ]
  },
  {
   "cell_type": "code",
   "execution_count": 8,
   "metadata": {},
   "outputs": [],
   "source": [
    "# train = datasets.MNIST(\"\", train = True, download = True,\n",
    "#                       transform = transforms.Compose([transforms.ToTensor()]))\n",
    "\n",
    "# test = datasets.MNIST(\"\", train = False, download = True,\n",
    "#                       transform = transforms.Compose([transforms.ToTensor()]))"
   ]
  },
  {
   "cell_type": "code",
   "execution_count": 9,
   "metadata": {},
   "outputs": [],
   "source": [
    "# Define the softmax function\n",
    "# def softmax_function(x):\n",
    "#     numerator = np.exp(x)\n",
    "#     denominator = numerator.sum()\n",
    "#     return numerator / denominator\n",
    "\n",
    "class CNN(nn.Module):\n",
    "    def __init__(self):\n",
    "        super.__init__()\n",
    "        self.layer_list = torch.nn.ModuleList([\n",
    "            # 8 channels in, 12 channels out, 3x3 kernel\n",
    "            # 8x26x26 -> 12x24x24\n",
    "            # (26 - 3 + 0 + 0)/1 + 1 ref formula for input dim\n",
    "            torch.nn.Conv2d(1,32,5),\n",
    "            # linear activation function\n",
    "            torch.nn.ReLU(inplace=True),\n",
    "            # max-pooling operator\n",
    "            # 12x24x24 -> 32x12x12\n",
    "            # 24/2\n",
    "            torch.nn.MaxPool2d(2, 2),\n",
    "            # 12 channels in, 32 channels out, 5x5 kernel\n",
    "            # 32x12x12 -> 32x8x8\n",
    "            # (12 - 5 + 0 + 0)/1 + 1 ref formula for input dim\n",
    "            torch.nn.Conv2d(32,64,5),\n",
    "            # linear activation function\n",
    "            torch.nn.ReLU(inplace=True),\n",
    "            # 32x8x8 -> 32x4x4 = 512\n",
    "            # 8/2\n",
    "            torch.nn.MaxPool2d(2, 2),\n",
    "        ])\n",
    "        \n",
    "        # Classifier: FIX ME -> Modify hyperparameters accordingly!!!!\n",
    "        self.classifier = torch.nn.Sequential(\n",
    "            # Fully-Connected, 512 elements in, 2 elements out\n",
    "            torch.nn.Linear(512, 256),\n",
    "            torch.nn.ReLU(inplace=True),\n",
    "            torch.nn.Linear(256, 160),\n",
    "            torch.nn.ReLU(inplace=True),\n",
    "            torch.nn.Linear(160, 67),\n",
    "            torch.nn.ReLU(inplace=True),\n",
    "            torch.nn.Linear(67, 2),\n",
    "            torch.nn.Sigmoid(),\n",
    "        )\n",
    "    pass\n",
    "\n",
    "# def relu(x):\n",
    "#     pass\n"
   ]
  },
  {
   "cell_type": "code",
   "execution_count": null,
   "metadata": {},
   "outputs": [],
   "source": []
  }
 ],
 "metadata": {
  "kernelspec": {
   "display_name": "Python 3",
   "language": "python",
   "name": "python3"
  },
  "language_info": {
   "codemirror_mode": {
    "name": "ipython",
    "version": 3
   },
   "file_extension": ".py",
   "mimetype": "text/x-python",
   "name": "python",
   "nbconvert_exporter": "python",
   "pygments_lexer": "ipython3",
   "version": "3.7.4"
  }
 },
 "nbformat": 4,
 "nbformat_minor": 5
}
