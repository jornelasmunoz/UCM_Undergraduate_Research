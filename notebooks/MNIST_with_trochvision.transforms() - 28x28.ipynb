{
 "cells": [
  {
   "cell_type": "code",
   "execution_count": 1,
   "id": "1f085f48",
   "metadata": {},
   "outputs": [],
   "source": [
    "import torch\n",
    "import torch.nn as nn\n",
    "from torch.autograd import Variable\n",
    "from torchvision import datasets\n",
    "import torchvision.transforms as transforms\n",
    "import numpy as np\n",
    "import matplotlib.pyplot as plt\n",
    "from sklearn.metrics import confusion_matrix\n",
    "import seaborn as sn\n",
    "import pandas as pd"
   ]
  },
  {
   "cell_type": "code",
   "execution_count": 2,
   "id": "7bfba4fd",
   "metadata": {
    "scrolled": true
   },
   "outputs": [
    {
     "name": "stderr",
     "output_type": "stream",
     "text": [
      "/Users/cristianespinosa/opt/anaconda3/envs/tensor/lib/python3.6/site-packages/torchvision/datasets/mnist.py:498: UserWarning: The given NumPy array is not writeable, and PyTorch does not support non-writeable tensors. This means you can write to the underlying (supposedly non-writeable) NumPy array using the tensor. You may want to copy the array to protect its data or make it writeable before converting it to a tensor. This type of warning will be suppressed for the rest of this program. (Triggered internally at  /Users/distiller/project/conda/conda-bld/pytorch_1631631159818/work/torch/csrc/utils/tensor_numpy.cpp:180.)\n",
      "  return torch.from_numpy(parsed.astype(m[2], copy=False)).view(*s)\n"
     ]
    }
   ],
   "source": [
    "# You can work with the dataset being dowloaded only ONCE!! It seems like transforms.Resize won't overwrite\n",
    "# the original dataset!!\n",
    "size = 28\n",
    "train_data = datasets.MNIST(\n",
    "    root = '../data/28x28',\n",
    "    train = True,                         \n",
    "    transform = transforms.Compose([\n",
    "                    transforms.ToTensor(),\n",
    "                    transforms.Resize(size),\n",
    "                    transforms.Normalize(0, 1)\n",
    "                ]), \n",
    "    download = False,            \n",
    ")\n",
    "test_data = datasets.MNIST(\n",
    "    root = '../data/28x28', \n",
    "    train = False, \n",
    "    transform = transforms.Compose([\n",
    "                    transforms.ToTensor(),\n",
    "                    transforms.Resize(size),\n",
    "                    transforms.Normalize(0, 1)\n",
    "                ]) \n",
    ")"
   ]
  },
  {
   "cell_type": "code",
   "execution_count": 3,
   "id": "956d136f",
   "metadata": {},
   "outputs": [],
   "source": [
    "# train_data[0][0].shape"
   ]
  },
  {
   "cell_type": "markdown",
   "id": "d107793f",
   "metadata": {},
   "source": [
    "<h3>MNIST Dataset is organized by:</h3>\n",
    "<div>Set of images (with channels) and labels --> train_data</div>\n",
    "<div>image (with channels) AND label --> train_data[i (0,59999)]</div>\n",
    "<div>image (with channels) --> train_data[i][i (0,1)]</div>\n",
    "<div>image by itself (2D image) --> train_data[i][i][i (0)]</div>"
   ]
  },
  {
   "cell_type": "code",
   "execution_count": 4,
   "id": "e914ac07",
   "metadata": {
    "scrolled": true
   },
   "outputs": [],
   "source": [
    "# Images and labels are stored as a tuple (image, label)\n",
    "\n",
    "# print(len(train_data[0]), '\\n\\n')\n",
    "# print(train_data[0])"
   ]
  },
  {
   "cell_type": "code",
   "execution_count": 5,
   "id": "819d228c",
   "metadata": {},
   "outputs": [],
   "source": [
    "# train_data[0]"
   ]
  },
  {
   "cell_type": "code",
   "execution_count": 6,
   "id": "c926952a",
   "metadata": {},
   "outputs": [],
   "source": [
    "# train_data[0][0]"
   ]
  },
  {
   "cell_type": "code",
   "execution_count": 7,
   "id": "0f496935",
   "metadata": {},
   "outputs": [],
   "source": [
    "# Prints the entire dataset\n",
    "# train_data[0][0].shape"
   ]
  },
  {
   "cell_type": "code",
   "execution_count": 8,
   "id": "89bc1c47",
   "metadata": {},
   "outputs": [],
   "source": [
    "# Prints one image\n",
    "# train_data[0][0][0]"
   ]
  },
  {
   "cell_type": "code",
   "execution_count": 9,
   "id": "ee4fc375",
   "metadata": {},
   "outputs": [],
   "source": [
    "# Prints one array of pixels (not the entire image)\n",
    "# train_data[0][0][0][0]"
   ]
  },
  {
   "cell_type": "code",
   "execution_count": 10,
   "id": "9da67a1c",
   "metadata": {},
   "outputs": [],
   "source": [
    "# plt.imshow(train_data[1][0][0])"
   ]
  },
  {
   "cell_type": "code",
   "execution_count": 11,
   "id": "75e093de",
   "metadata": {
    "scrolled": true
   },
   "outputs": [],
   "source": [
    "# transforms.Resize(size=14)(train_data.data)"
   ]
  },
  {
   "cell_type": "code",
   "execution_count": 12,
   "id": "f5f8affb",
   "metadata": {},
   "outputs": [],
   "source": [
    "# type(train_data)"
   ]
  },
  {
   "cell_type": "code",
   "execution_count": 13,
   "id": "a595fe01",
   "metadata": {},
   "outputs": [],
   "source": [
    "# plt.imshow(train_data.train_data[0])"
   ]
  },
  {
   "cell_type": "code",
   "execution_count": 14,
   "id": "25f1f04a",
   "metadata": {},
   "outputs": [],
   "source": [
    "# Resize(size[, interpolation, max_size, …])"
   ]
  },
  {
   "cell_type": "code",
   "execution_count": 15,
   "id": "47fcdb2e",
   "metadata": {},
   "outputs": [],
   "source": [
    "# resized = transforms.Resize(size=14)(train_data.train_data)\n",
    "# plt.imshow(resized[0])"
   ]
  },
  {
   "cell_type": "code",
   "execution_count": 16,
   "id": "c2c1cf55",
   "metadata": {},
   "outputs": [],
   "source": [
    "# type(resized)"
   ]
  },
  {
   "cell_type": "code",
   "execution_count": 17,
   "id": "b3f0fa02",
   "metadata": {},
   "outputs": [
    {
     "name": "stderr",
     "output_type": "stream",
     "text": [
      "/Users/cristianespinosa/opt/anaconda3/envs/tensor/lib/python3.6/site-packages/torchvision/datasets/mnist.py:62: UserWarning: train_data has been renamed data\n",
      "  warnings.warn(\"train_data has been renamed data\")\n"
     ]
    }
   ],
   "source": [
    "resized_28 = transforms.Resize(size=28)(train_data.train_data)\n",
    "resized_14 = transforms.Resize(size=14)(train_data.train_data)\n",
    "resized_7 = transforms.Resize(size=7)(train_data.train_data)\n",
    "resized_4 = transforms.Resize(size=4)(train_data.train_data)"
   ]
  },
  {
   "cell_type": "code",
   "execution_count": 18,
   "id": "8c4214a3",
   "metadata": {
    "scrolled": true
   },
   "outputs": [
    {
     "data": {
      "text/plain": [
       "<matplotlib.image.AxesImage at 0x7faf770980b8>"
      ]
     },
     "execution_count": 18,
     "metadata": {},
     "output_type": "execute_result"
    },
    {
     "data": {
      "image/png": "[encoded data removed]",
      "text/plain": [
       "<Figure size 1440x360 with 4 Axes>"
      ]
     },
     "metadata": {
      "needs_background": "light"
     },
     "output_type": "display_data"
    }
   ],
   "source": [
    "index = 1\n",
    "f, axarr = plt.subplots(1,4, figsize=(20,5))\n",
    "axarr[0].imshow(resized_28[index])\n",
    "axarr[1].imshow(resized_14[index])\n",
    "axarr[2].imshow(resized_7[index])\n",
    "axarr[3].imshow(resized_4[index])"
   ]
  },
  {
   "cell_type": "markdown",
   "id": "37a333ff",
   "metadata": {},
   "source": [
    "<h1>Using Pytorch's Data loaders to feed data into CNN</h1>"
   ]
  },
  {
   "cell_type": "code",
   "execution_count": 17,
   "id": "0a8da9e8",
   "metadata": {},
   "outputs": [
    {
     "data": {
      "text/plain": [
       "{'train': <torch.utils.data.dataloader.DataLoader at 0x7f829981dc88>,\n",
       " 'test': <torch.utils.data.dataloader.DataLoader at 0x7f82956b1400>}"
      ]
     },
     "execution_count": 17,
     "metadata": {},
     "output_type": "execute_result"
    }
   ],
   "source": [
    "loaders = {\n",
    "    'train' : torch.utils.data.DataLoader(train_data, \n",
    "                                          batch_size=100, \n",
    "                                          shuffle=True, \n",
    "                                          num_workers=1),\n",
    "    \n",
    "    'test'  : torch.utils.data.DataLoader(test_data, \n",
    "                                          batch_size=100, \n",
    "                                          shuffle=True, \n",
    "                                          num_workers=1),\n",
    "}\n",
    "loaders"
   ]
  },
  {
   "cell_type": "markdown",
   "id": "beebdd03",
   "metadata": {},
   "source": [
    "<h1>Defining the CNN</h1>"
   ]
  },
  {
   "cell_type": "code",
   "execution_count": 18,
   "id": "37e693e6",
   "metadata": {},
   "outputs": [],
   "source": [
    "class CNN(nn.Module):\n",
    "    def __init__(self, img_shape = 28, conv_layers = 2, num_classes = 10):\n",
    "        super(CNN, self).__init__()\n",
    "        \n",
    "#         self.conv_count = 0   #keeps track of the number of times a conv layer is added\n",
    "        self.img_shape = img_shape   \n",
    "        self.num_classes = num_classes\n",
    "        self.conv_layers = conv_layers\n",
    "        self.root_path = '../data/28x28'\n",
    "        self.ker_size = 0\n",
    "        self.padding = 0\n",
    "        self.out_channels = 0\n",
    "        self.linear_shape = [1, img_shape, img_shape]\n",
    "        self.conv = []\n",
    "        \n",
    "        \n",
    "        def conv_out_size(linear_shape, img_shape, conv):\n",
    "            linear_shape[0] = conv[0].out_channels\n",
    "            linear_shape[1] = int(( (img_shape - conv[0].kernel_size[0] + 2*conv[0].padding[0]) / conv[0].stride[0]) + 1)\n",
    "            img_shape = linear_shape[1]\n",
    "            linear_shape[2] = linear_shape[1]\n",
    "\n",
    "            return linear_shape, img_shape\n",
    "\n",
    "\n",
    "        def pooling_out_size(linear_shape, img_shape, conv):\n",
    "            linear_shape[1] = int(( (img_shape - conv[2].kernel_size) / conv[2].stride) + 1)\n",
    "            img_shape = linear_shape[1]\n",
    "            linear_shape[2] = linear_shape[1]\n",
    "\n",
    "            return linear_shape, img_shape\n",
    "\n",
    "        def flatten(linear_shape):\n",
    "            return linear_shape[0] * linear_shape[1] * linear_shape[2]\n",
    "        \n",
    "        \n",
    "        def load_data(img_shape, root_path):\n",
    "            train_data = datasets.MNIST(\n",
    "                root = root_path,\n",
    "                train = True,                         \n",
    "                transform = transforms.Compose([\n",
    "                                transforms.ToTensor(),\n",
    "                                transforms.Resize(img_shape),\n",
    "                                transforms.Normalize(0, 1)\n",
    "                            ]), \n",
    "                download = False,            \n",
    "            )\n",
    "            test_data = datasets.MNIST(\n",
    "                root = '../data/28x28', \n",
    "                train = False, \n",
    "                transform = transforms.Compose([\n",
    "                                transforms.ToTensor(),\n",
    "                                transforms.Resize(img_shape),\n",
    "                                transforms.Normalize(0, 1)\n",
    "                            ]) \n",
    "            )\n",
    "            \n",
    "            return train_data, test_data\n",
    "        \n",
    "        \n",
    "        # Loading training and testing data\n",
    "#         self.train_data, self.test_data = load_data(self.img_shape, self.root_path)\n",
    "        \n",
    "#         self.loaders = {\n",
    "#             'train' : torch.utils.data.DataLoader(self.train_data, \n",
    "#                                                   batch_size=100, \n",
    "#                                                   shuffle=True, \n",
    "#                                                   num_workers=1),\n",
    "\n",
    "#             'test'  : torch.utils.data.DataLoader(self.test_data, \n",
    "#                                                   batch_size=100, \n",
    "#                                                   shuffle=True, \n",
    "#                                                   num_workers=1),\n",
    "#         }\n",
    "        \n",
    "        if self.img_shape == 28:\n",
    "            self.out_channels = 16\n",
    "            self.ker_size = 5\n",
    "        \n",
    "        elif self.img_shape == 14:\n",
    "            self.out_channels = 8\n",
    "            self.ker_size = 3\n",
    "            \n",
    "        elif self.img_shape == 7:\n",
    "            self.out_channels = 4\n",
    "            self.ker_size = 2\n",
    "            \n",
    "        elif self.img_shape == 4:\n",
    "            self.out_channels = 4\n",
    "            self.ker_size = 3\n",
    "            self.padding = 1\n",
    "        \n",
    "        for i in range(conv_layers):\n",
    "#             ker_size = 5\n",
    "#             padding = 0\n",
    "            if not self.conv:\n",
    "                layer = nn.Sequential(         \n",
    "                    nn.Conv2d(\n",
    "                        in_channels=1,              \n",
    "                        out_channels=self.out_channels,            \n",
    "                        kernel_size=self.ker_size,              \n",
    "                        stride=1,                   \n",
    "                        padding=self.padding,                  \n",
    "                    ),                              \n",
    "                    nn.ReLU(),                      \n",
    "                    nn.MaxPool2d(kernel_size=2),    \n",
    "                )\n",
    "                \n",
    "            else:\n",
    "                layer = nn.Sequential(         \n",
    "                    nn.Conv2d(\n",
    "                        in_channels = self.conv[i-1][0].out_channels,              \n",
    "                        out_channels = self.conv[i-1][0].out_channels * 2,            \n",
    "                        kernel_size = self.ker_size,              \n",
    "                        stride = 1,                   \n",
    "                        padding=self.padding,                  \n",
    "                    ),                              \n",
    "                    nn.ReLU(),                      \n",
    "                    nn.MaxPool2d(kernel_size=2),    \n",
    "                )\n",
    "            \n",
    "            self.conv.append(layer)\n",
    "#             self.conv_count += 1\n",
    "            \n",
    "            self.linear_shape, self.img_shape = conv_out_size(self.linear_shape, self.img_shape, self.conv[i])\n",
    "            self.linear_shape, self.img_shape = pooling_out_size(self.linear_shape, self.img_shape, self.conv[i])\n",
    "            \n",
    "#             if self.img_shape <= 0 and self.ker_size >= 2:\n",
    "#                 self.ker_size -= 1\n",
    "#                 i = -1\n",
    "#                 self.img_shape = img_shape\n",
    "#                 print(\"executed!!\")\n",
    "            \n",
    "#             print(\"ker_size = \", self.ker_size)\n",
    "            \n",
    "#             elif img_shape == 0 and padding == 0:\n",
    "#                 padding += 1\n",
    "#                 i = -1\n",
    "#                 self.img_shape = img_shape\n",
    "#                 print(img_shape)\n",
    "            \n",
    "            continue\n",
    "        \n",
    "        # input to Linear layer MUST be an integer!!\n",
    "        self.out_shape = int(flatten(self.linear_shape))\n",
    "        self.out = nn.Linear(self.out_shape, self.num_classes)\n",
    "        \n",
    "        \n",
    "        \n",
    "        \n",
    "        \n",
    "    def forward(self, x):\n",
    "        for i in range(len(self.conv)):\n",
    "            x = self.conv[i](x)\n",
    "            \n",
    "        # flatten the output of conv2 to (batch_size, 32 * 4 * 4)\n",
    "        x = x.view(x.size(0), -1)       \n",
    "        output = self.out(x)\n",
    "        return output, x    # return x for visualization\n",
    "    \n",
    "    "
   ]
  },
  {
   "cell_type": "code",
   "execution_count": 19,
   "id": "ddf79236",
   "metadata": {},
   "outputs": [
    {
     "data": {
      "text/plain": [
       "CNN(\n",
       "  (out): Linear(in_features=512, out_features=10, bias=True)\n",
       ")"
      ]
     },
     "execution_count": 19,
     "metadata": {},
     "output_type": "execute_result"
    }
   ],
   "source": [
    "cnn = CNN(28)\n",
    "cnn"
   ]
  },
  {
   "cell_type": "code",
   "execution_count": 20,
   "id": "7ae55f1d",
   "metadata": {},
   "outputs": [
    {
     "data": {
      "text/plain": [
       "512"
      ]
     },
     "execution_count": 20,
     "metadata": {},
     "output_type": "execute_result"
    }
   ],
   "source": [
    "cnn.out_shape"
   ]
  },
  {
   "cell_type": "code",
   "execution_count": 21,
   "id": "41ce64eb",
   "metadata": {},
   "outputs": [
    {
     "data": {
      "text/plain": [
       "512"
      ]
     },
     "execution_count": 21,
     "metadata": {},
     "output_type": "execute_result"
    }
   ],
   "source": [
    "32*4*4"
   ]
  },
  {
   "cell_type": "code",
   "execution_count": 24,
   "id": "0c8740b8",
   "metadata": {},
   "outputs": [],
   "source": [
    "# layer = nn.Sequential(         \n",
    "#                     nn.Conv2d(\n",
    "#                         in_channels=1,              \n",
    "#                         out_channels=16,            \n",
    "#                         kernel_size=5,              \n",
    "#                         stride=1,                   \n",
    "#                         padding=0,                  \n",
    "#                     ),                              \n",
    "#                     nn.ReLU(),                      \n",
    "#                     nn.MaxPool2d(kernel_size=2),    \n",
    "#         )"
   ]
  },
  {
   "cell_type": "code",
   "execution_count": 25,
   "id": "febead30",
   "metadata": {},
   "outputs": [],
   "source": [
    "# def sum(x, y):\n",
    "#     return x+y, x-y\n",
    "\n",
    "# a, b = sum(2, 5)\n",
    "# print(\"a = \", a)\n",
    "# print(\"b = \", b)"
   ]
  },
  {
   "cell_type": "code",
   "execution_count": 26,
   "id": "4686404b",
   "metadata": {},
   "outputs": [],
   "source": [
    "# layer"
   ]
  },
  {
   "cell_type": "code",
   "execution_count": 27,
   "id": "bbb1b752",
   "metadata": {},
   "outputs": [],
   "source": [
    "# layer[2].stride"
   ]
  },
  {
   "cell_type": "code",
   "execution_count": 28,
   "id": "11449990",
   "metadata": {},
   "outputs": [],
   "source": [
    "# '''\n",
    "#         Goes through two layers of 2D convolutions, each followed by a 2x2 max pooling\n",
    "        \n",
    "#         Dimensions:\n",
    "#         1.) Input Shape:          [batch_size, 1, 28, 28]\n",
    "        \n",
    "#         2.) After conv:           [batch_size, 16, 24, 24]\n",
    "#             After max pooling:    [batch_size, 32, 12, 12]\n",
    "        \n",
    "#         3.) After conv:           [batch_size, 16, 12, 12]\n",
    "#             After max pooling:    [batch_size, 32, 4, 4]\n",
    "            \n",
    "#         4.) After flattening:     [batch_size, 32 * 4 * 4]\n",
    "#         '''\n",
    "\n",
    "# img_shape = 28\n",
    "# in_channels = [1, 16]\n",
    "# out_channels = [16, 32]\n",
    "# conv_ker_size = 5\n",
    "# pool_ker_size = 2\n",
    "# linear = [1, img_shape, img_shape]\n",
    "\n",
    "# def conv_out_size(linear, img_shape, conv_ker_size):\n",
    "#     linear[0] = out_channels[]\n",
    "#     linear[1] = ( (img_shape - conv_ker_size + 2*padding) / stride) + 1\n",
    "#     linear[2] = linear[1]\n",
    "    \n",
    "#     return \n",
    "\n",
    "# def pooling_out_size(in_shape):\n",
    "#     return ( (in_shape[1] - pool_ker_size) / stride) + 1"
   ]
  },
  {
   "cell_type": "code",
   "execution_count": 29,
   "id": "6f874907",
   "metadata": {},
   "outputs": [],
   "source": [
    "# cnn = CNN(28)\n",
    "# print(cnn)"
   ]
  },
  {
   "cell_type": "code",
   "execution_count": 22,
   "id": "1cf0909b",
   "metadata": {},
   "outputs": [
    {
     "name": "stdout",
     "output_type": "stream",
     "text": [
      "CrossEntropyLoss()\n",
      "Adam (\n",
      "Parameter Group 0\n",
      "    amsgrad: False\n",
      "    betas: (0.9, 0.999)\n",
      "    eps: 1e-08\n",
      "    lr: 1e-05\n",
      "    weight_decay: 0\n",
      ")\n"
     ]
    }
   ],
   "source": [
    "loss_func = nn.CrossEntropyLoss(); print(loss_func)   \n",
    "optimizer = torch.optim.Adam(cnn.parameters(), lr= 1e-5); print(optimizer)"
   ]
  },
  {
   "cell_type": "markdown",
   "id": "82b277f0",
   "metadata": {},
   "source": [
    "<h1>Training the CNN</h1>\n",
    "<div>Error source may be that the dataset resized_28 doesn't have 'labels', just 'images' ---> (for i, (images, labels))</div>"
   ]
  },
  {
   "cell_type": "code",
   "execution_count": 23,
   "id": "6a5455d9",
   "metadata": {},
   "outputs": [],
   "source": [
    "def train(num_epochs, cnn, loaders):\n",
    "    \n",
    "    cnn.train()\n",
    "    \n",
    "    train_acc_data = []\n",
    "    loss_data = []\n",
    "    # Train the model\n",
    "    total_step = len(loaders['train'])    \n",
    "    \n",
    "    for epoch in range(num_epochs):\n",
    "        for i, (images, labels) in enumerate(loaders['train']):\n",
    "            \n",
    "            # gives batch data, normalize x when iterate train_loader\n",
    "            b_x = Variable(images)   # batch x\n",
    "            b_y = Variable(labels)   # batch y\n",
    "            output = cnn(b_x)[0]               \n",
    "            loss = loss_func(output, b_y)\n",
    "            \n",
    "            # measure accuracy and record loss\n",
    "            train_output, last_layer = cnn(images)\n",
    "            pred_y = torch.max(train_output, 1)[1].data.squeeze()\n",
    "            accuracy = (pred_y == labels).sum().item() / float(labels.size(0))\n",
    "            \n",
    "            # clear gradients for this training step   \n",
    "            optimizer.zero_grad()           \n",
    "            \n",
    "            # backpropagation, compute gradients \n",
    "            loss.backward()    \n",
    "            # apply gradients             \n",
    "            optimizer.step()                \n",
    "            \n",
    "            if (i+1) % 100 == 0:\n",
    "                print ('Epoch [{}/{}], Step [{}/{}], Loss: {:.4f}, Accuracy: {:.4f}' \n",
    "                       .format(epoch + 1, num_epochs, i + 1, total_step, loss.item(), accuracy))\n",
    "                \n",
    "            if (i+1) % 600 == 0:\n",
    "                train_acc_data.append(accuracy)\n",
    "                loss_data.append(loss)\n",
    "            pass\n",
    "        \n",
    "        pass\n",
    "    \n",
    "    \n",
    "    pass\n",
    "\n"
   ]
  },
  {
   "cell_type": "code",
   "execution_count": 24,
   "id": "c39c7226",
   "metadata": {},
   "outputs": [
    {
     "name": "stdout",
     "output_type": "stream",
     "text": [
      "Epoch [1/2], Step [100/600], Loss: 2.3024, Accuracy: 0.1500\n",
      "Epoch [1/2], Step [200/600], Loss: 2.2906, Accuracy: 0.1200\n",
      "Epoch [1/2], Step [300/600], Loss: 2.2817, Accuracy: 0.1600\n",
      "Epoch [1/2], Step [400/600], Loss: 2.2805, Accuracy: 0.1700\n",
      "Epoch [1/2], Step [500/600], Loss: 2.2704, Accuracy: 0.2100\n",
      "Epoch [1/2], Step [600/600], Loss: 2.2621, Accuracy: 0.2900\n",
      "Epoch [2/2], Step [100/600], Loss: 2.2625, Accuracy: 0.2800\n",
      "Epoch [2/2], Step [200/600], Loss: 2.2444, Accuracy: 0.4100\n",
      "Epoch [2/2], Step [300/600], Loss: 2.2528, Accuracy: 0.4100\n",
      "Epoch [2/2], Step [400/600], Loss: 2.2471, Accuracy: 0.4200\n",
      "Epoch [2/2], Step [500/600], Loss: 2.2417, Accuracy: 0.4100\n",
      "Epoch [2/2], Step [600/600], Loss: 2.2353, Accuracy: 0.5500\n",
      "CPU times: user 57.8 s, sys: 5.84 s, total: 1min 3s\n",
      "Wall time: 57.4 s\n"
     ]
    }
   ],
   "source": [
    "%%time\n",
    "num_epochs = 2\n",
    "train(num_epochs, cnn, loaders)"
   ]
  },
  {
   "cell_type": "markdown",
   "id": "72280ad7",
   "metadata": {},
   "source": [
    "<h2>Are the two following cells reaching the same result over different procedures?</h2>"
   ]
  },
  {
   "cell_type": "code",
   "execution_count": 25,
   "id": "976e85ec",
   "metadata": {
    "scrolled": true
   },
   "outputs": [],
   "source": [
    "test_acc_data = []\n",
    "\n",
    "def test(cnn, loaders):\n",
    "    \n",
    "    print(\"Testing...\")\n",
    "    cnn.eval()\n",
    "#     test_acc_data = []\n",
    "    pred_data = torch.tensor([])\n",
    "    truth_data = torch.tensor([])\n",
    "        \n",
    "    # Test the model\n",
    "    correct = 0\n",
    "    total = 0\n",
    "    for images, labels in loaders['test']:\n",
    "        test_output, last_layer = cnn(images)\n",
    "        pred_y = torch.max(test_output, 1)[1].data.squeeze()\n",
    "        \n",
    "        pred_data = torch.cat((pred_data, pred_y))\n",
    "        truth_data = torch.cat((truth_data, labels))\n",
    "        \n",
    "        accuracy = (pred_y == labels).sum().item() / float(labels.size(0))\n",
    "        test_acc_data.append(accuracy)\n",
    "\n",
    "    # Arranging data in a stack (labels/truth vs predictions made by the model)\n",
    "    stacked = torch.stack(\n",
    "        (\n",
    "            truth_data\n",
    "            ,pred_data\n",
    "        )\n",
    "        ,dim=1\n",
    "    ) \n",
    "    \n",
    "    \n",
    "    #Creating the confusion matrix\n",
    "    cmt = torch.zeros(10,10, dtype=torch.int64)\n",
    "    \n",
    "    for p in stacked:\n",
    "        tl, pl = p.tolist()\n",
    "        tl = int(tl)\n",
    "        pl = int(pl)\n",
    "        cmt[tl, pl] = cmt[tl, pl] + 1\n",
    "        \n",
    "    \n",
    "    return cmt, test_acc_data\n",
    "        \n",
    "#     print('Test Accuracy: %.2f' % accuracy)"
   ]
  },
  {
   "cell_type": "code",
   "execution_count": 27,
   "id": "10036d7f",
   "metadata": {
    "scrolled": true
   },
   "outputs": [
    {
     "name": "stdout",
     "output_type": "stream",
     "text": [
      "Testing...\n",
      "CPU times: user 1.65 s, sys: 126 ms, total: 1.78 s\n",
      "Wall time: 2.67 s\n"
     ]
    }
   ],
   "source": [
    "%%time\n",
    "cmt, test_data_out = test(cnn, loaders)\n",
    "\n",
    "# all_preds = get_all_preds(cnn, loaders['test'])"
   ]
  },
  {
   "cell_type": "code",
   "execution_count": 30,
   "id": "2045dc49",
   "metadata": {},
   "outputs": [
    {
     "data": {
      "text/plain": [
       "100"
      ]
     },
     "execution_count": 30,
     "metadata": {},
     "output_type": "execute_result"
    }
   ],
   "source": [
    "len(test_data_out)"
   ]
  },
  {
   "cell_type": "code",
   "execution_count": 35,
   "id": "61c6d2d9",
   "metadata": {},
   "outputs": [
    {
     "data": {
      "text/plain": [
       "tensor([8., 2., 2.,  ..., 3., 6., 7.])"
      ]
     },
     "execution_count": 35,
     "metadata": {},
     "output_type": "execute_result"
    }
   ],
   "source": [
    "pred_data"
   ]
  },
  {
   "cell_type": "code",
   "execution_count": 36,
   "id": "5b8129ac",
   "metadata": {},
   "outputs": [
    {
     "data": {
      "text/plain": [
       "tensor([8., 1., 1.,  ..., 3., 6., 7.])"
      ]
     },
     "execution_count": 36,
     "metadata": {},
     "output_type": "execute_result"
    }
   ],
   "source": [
    "truth_data"
   ]
  },
  {
   "cell_type": "code",
   "execution_count": 37,
   "id": "85cce20a",
   "metadata": {},
   "outputs": [
    {
     "data": {
      "text/plain": [
       "tensor([[8., 8.],\n",
       "        [1., 2.],\n",
       "        [1., 2.],\n",
       "        ...,\n",
       "        [3., 3.],\n",
       "        [6., 6.],\n",
       "        [7., 7.]])"
      ]
     },
     "execution_count": 37,
     "metadata": {},
     "output_type": "execute_result"
    }
   ],
   "source": [
    "stacked = torch.stack(\n",
    "    (\n",
    "        truth_data\n",
    "        ,pred_data\n",
    "    )\n",
    "    ,dim=1\n",
    ")\n",
    "stacked"
   ]
  },
  {
   "cell_type": "code",
   "execution_count": 38,
   "id": "f55941ad",
   "metadata": {},
   "outputs": [
    {
     "data": {
      "text/plain": [
       "tensor([[0, 0, 0, 0, 0, 0, 0, 0, 0, 0],\n",
       "        [0, 0, 0, 0, 0, 0, 0, 0, 0, 0],\n",
       "        [0, 0, 0, 0, 0, 0, 0, 0, 0, 0],\n",
       "        [0, 0, 0, 0, 0, 0, 0, 0, 0, 0],\n",
       "        [0, 0, 0, 0, 0, 0, 0, 0, 0, 0],\n",
       "        [0, 0, 0, 0, 0, 0, 0, 0, 0, 0],\n",
       "        [0, 0, 0, 0, 0, 0, 0, 0, 0, 0],\n",
       "        [0, 0, 0, 0, 0, 0, 0, 0, 0, 0],\n",
       "        [0, 0, 0, 0, 0, 0, 0, 0, 0, 0],\n",
       "        [0, 0, 0, 0, 0, 0, 0, 0, 0, 0]])"
      ]
     },
     "execution_count": 38,
     "metadata": {},
     "output_type": "execute_result"
    }
   ],
   "source": [
    "cmt = torch.zeros(10,10, dtype=torch.int64)\n",
    "cmt"
   ]
  },
  {
   "cell_type": "code",
   "execution_count": 39,
   "id": "b1bb9a24",
   "metadata": {},
   "outputs": [],
   "source": [
    "for p in stacked:\n",
    "    tl, pl = p.tolist()\n",
    "    tl = int(tl)\n",
    "    pl = int(pl)\n",
    "    cmt[tl, pl] = cmt[tl, pl] + 1"
   ]
  },
  {
   "cell_type": "code",
   "execution_count": 40,
   "id": "91c7bfe9",
   "metadata": {
    "scrolled": true
   },
   "outputs": [
    {
     "data": {
      "text/plain": [
       "tensor([[866,   0,   8,  12,   1,   0,  88,   0,   3,   2],\n",
       "        [  0,   0, 507,   9,   0,   9,  29,   0, 580,   1],\n",
       "        [ 20,   0, 309, 128,  13,   0, 334,   6, 217,   5],\n",
       "        [ 46,   0, 100, 678,   4,   2,  92,   6,  61,  21],\n",
       "        [  1,   0,  29,  66, 554,   0, 172,   0,  64,  96],\n",
       "        [155,   0,  60, 155,   4,  86, 250,   5, 105,  72],\n",
       "        [  7,   0,   4,  18,  23,   0, 887,   0,  19,   0],\n",
       "        [ 51,   0,  29,  16,  62,   0,  25, 617, 211,  17],\n",
       "        [ 36,   0, 105,  50,   8,   2,  43,   3, 708,  19],\n",
       "        [  7,   0,  17,  61, 230,   2,  96,  21, 196, 379]])"
      ]
     },
     "execution_count": 40,
     "metadata": {},
     "output_type": "execute_result"
    }
   ],
   "source": [
    "cmt"
   ]
  },
  {
   "cell_type": "code",
   "execution_count": 41,
   "id": "e0b0b555",
   "metadata": {},
   "outputs": [],
   "source": [
    "import itertools\n",
    "import numpy as np\n",
    "import matplotlib.pyplot as plt\n",
    "\n",
    "def plot_confusion_matrix(cm, classes, normalize=False, title='Confusion matrix', cmap=plt.cm.Blues):\n",
    "    if normalize:\n",
    "        cm = cm.astype('float') / cm.sum(axis=1)[:, np.newaxis]\n",
    "        print(\"Normalized confusion matrix\")\n",
    "    else:\n",
    "        print('Confusion matrix, without normalization')\n",
    "\n",
    "    print(cm)\n",
    "    plt.imshow(cm, interpolation='nearest', cmap=cmap)\n",
    "    plt.title(title)\n",
    "    plt.colorbar()\n",
    "    tick_marks = np.arange(len(classes))\n",
    "    plt.xticks(tick_marks, classes, rotation=45)\n",
    "    plt.yticks(tick_marks, classes)\n",
    "\n",
    "    fmt = '.2f' if normalize else 'd'\n",
    "    thresh = cm.max() / 2.\n",
    "    for i, j in itertools.product(range(cm.shape[0]), range(cm.shape[1])):\n",
    "        plt.text(j, i, format(cm[i, j], fmt), horizontalalignment=\"center\", color=\"white\" if cm[i, j] > thresh else \"black\")\n",
    "\n",
    "    plt.tight_layout()\n",
    "    plt.ylabel('True label')\n",
    "    plt.xlabel('Predicted label')"
   ]
  },
  {
   "cell_type": "code",
   "execution_count": 42,
   "id": "498bb352",
   "metadata": {},
   "outputs": [
    {
     "name": "stdout",
     "output_type": "stream",
     "text": [
      "Confusion matrix, without normalization\n",
      "tensor([[866,   0,   8,  12,   1,   0,  88,   0,   3,   2],\n",
      "        [  0,   0, 507,   9,   0,   9,  29,   0, 580,   1],\n",
      "        [ 20,   0, 309, 128,  13,   0, 334,   6, 217,   5],\n",
      "        [ 46,   0, 100, 678,   4,   2,  92,   6,  61,  21],\n",
      "        [  1,   0,  29,  66, 554,   0, 172,   0,  64,  96],\n",
      "        [155,   0,  60, 155,   4,  86, 250,   5, 105,  72],\n",
      "        [  7,   0,   4,  18,  23,   0, 887,   0,  19,   0],\n",
      "        [ 51,   0,  29,  16,  62,   0,  25, 617, 211,  17],\n",
      "        [ 36,   0, 105,  50,   8,   2,  43,   3, 708,  19],\n",
      "        [  7,   0,  17,  61, 230,   2,  96,  21, 196, 379]])\n"
     ]
    },
    {
     "data": {
      "image/png": "[encoded data removed]",
      "text/plain": [
       "<Figure size 720x720 with 2 Axes>"
      ]
     },
     "metadata": {
      "needs_background": "light"
     },
     "output_type": "display_data"
    }
   ],
   "source": [
    "plt.figure(figsize=(10,10))\n",
    "plot_confusion_matrix(cmt, test_data.classes)"
   ]
  },
  {
   "cell_type": "code",
   "execution_count": null,
   "id": "08f318b5",
   "metadata": {},
   "outputs": [],
   "source": []
  },
  {
   "cell_type": "code",
   "execution_count": 43,
   "id": "37d479e5",
   "metadata": {},
   "outputs": [
    {
     "data": {
      "text/plain": [
       "<AxesSubplot:>"
      ]
     },
     "execution_count": 43,
     "metadata": {},
     "output_type": "execute_result"
    },
    {
     "data": {
      "image/png": "[encoded data removed]",
      "text/plain": [
       "<Figure size 864x504 with 2 Axes>"
      ]
     },
     "metadata": {
      "needs_background": "light"
     },
     "output_type": "display_data"
    }
   ],
   "source": [
    "y_pred = []\n",
    "y_true = []\n",
    "\n",
    "for inputs, labels in loaders['test']:\n",
    "        output = cnn(inputs) # Feed Network\n",
    "#         print(\"output_BEFORE: \", output)\n",
    "\n",
    "        output = (torch.max(torch.exp(output[0]), 1)[1]).data.cpu().numpy()\n",
    "#         print(\"output_AFTER = \", output)\n",
    "#         print(\"len(output) = \", len(output), \"\\n\")\n",
    "        y_pred.extend(output) # Save Prediction\n",
    "        \n",
    "        labels = labels.data.cpu().numpy()\n",
    "        y_true.extend(labels) # Save Truth\n",
    "\n",
    "# constant for classes\n",
    "classes = (\"0\", \"1\", \"2\", \"3\", \"4\", \"5\", \"6\", \"7\", \"8\", \"9\")\n",
    "\n",
    "# Build confusion matrix\n",
    "cf_matrix = confusion_matrix(y_true, y_pred)\n",
    "df_cm = pd.DataFrame(cf_matrix/np.sum(cf_matrix) *10, index = [i for i in classes],\n",
    "                     columns = [i for i in classes])\n",
    "plt.figure(figsize = (12,7))\n",
    "sn.heatmap(df_cm, annot=True)\n",
    "# plt.savefig('output.png')"
   ]
  },
  {
   "cell_type": "markdown",
   "id": "92f3d400",
   "metadata": {},
   "source": [
    "<h2>Plotting Metrics</h2>"
   ]
  },
  {
   "cell_type": "code",
   "execution_count": 44,
   "id": "36fd188f",
   "metadata": {
    "scrolled": true
   },
   "outputs": [
    {
     "ename": "NameError",
     "evalue": "name 'train_acc_data' is not defined",
     "output_type": "error",
     "traceback": [
      "\u001b[0;31m---------------------------------------------------------------------------\u001b[0m",
      "\u001b[0;31mNameError\u001b[0m                                 Traceback (most recent call last)",
      "\u001b[0;32m<ipython-input-44-e04df85e7d4a>\u001b[0m in \u001b[0;36m<module>\u001b[0;34m()\u001b[0m\n\u001b[1;32m      3\u001b[0m \u001b[0maxarr\u001b[0m\u001b[0;34m[\u001b[0m\u001b[0;36m0\u001b[0m\u001b[0;34m]\u001b[0m\u001b[0;34m.\u001b[0m\u001b[0mset_xlabel\u001b[0m\u001b[0;34m(\u001b[0m\u001b[0;34m\"Epochs\"\u001b[0m\u001b[0;34m)\u001b[0m\u001b[0;34m\u001b[0m\u001b[0;34m\u001b[0m\u001b[0m\n\u001b[1;32m      4\u001b[0m \u001b[0maxarr\u001b[0m\u001b[0;34m[\u001b[0m\u001b[0;36m0\u001b[0m\u001b[0;34m]\u001b[0m\u001b[0;34m.\u001b[0m\u001b[0mset_ylabel\u001b[0m\u001b[0;34m(\u001b[0m\u001b[0;34m\"Accuracy\"\u001b[0m\u001b[0;34m)\u001b[0m\u001b[0;34m\u001b[0m\u001b[0;34m\u001b[0m\u001b[0m\n\u001b[0;32m----> 5\u001b[0;31m \u001b[0maxarr\u001b[0m\u001b[0;34m[\u001b[0m\u001b[0;36m0\u001b[0m\u001b[0;34m]\u001b[0m\u001b[0;34m.\u001b[0m\u001b[0mplot\u001b[0m\u001b[0;34m(\u001b[0m\u001b[0mtrain_acc_data\u001b[0m\u001b[0;34m)\u001b[0m\u001b[0;34m\u001b[0m\u001b[0;34m\u001b[0m\u001b[0m\n\u001b[0m\u001b[1;32m      6\u001b[0m \u001b[0;34m\u001b[0m\u001b[0m\n\u001b[1;32m      7\u001b[0m \u001b[0maxarr\u001b[0m\u001b[0;34m[\u001b[0m\u001b[0;36m1\u001b[0m\u001b[0;34m]\u001b[0m\u001b[0;34m.\u001b[0m\u001b[0mset_title\u001b[0m\u001b[0;34m(\u001b[0m\u001b[0;34m\"Test Accuracy\"\u001b[0m\u001b[0;34m)\u001b[0m\u001b[0;34m\u001b[0m\u001b[0;34m\u001b[0m\u001b[0m\n",
      "\u001b[0;31mNameError\u001b[0m: name 'train_acc_data' is not defined"
     ]
    },
    {
     "data": {
      "image/png": "[encoded data removed]",
      "text/plain": [
       "<Figure size 1440x360 with 3 Axes>"
      ]
     },
     "metadata": {
      "needs_background": "light"
     },
     "output_type": "display_data"
    }
   ],
   "source": [
    "f, axarr = plt.subplots(1,3, figsize=(20, 5))\n",
    "axarr[0].set_title(\"Train Accuracy\")\n",
    "axarr[0].set_xlabel(\"Epochs\")\n",
    "axarr[0].set_ylabel(\"Accuracy\")\n",
    "axarr[0].plot(train_acc_data)\n",
    "\n",
    "axarr[1].set_title(\"Test Accuracy\")\n",
    "axarr[1].set_xlabel(\"Epochs\")\n",
    "axarr[1].set_ylabel(\"Accuracy\")\n",
    "axarr[1].plot(test_acc_data)\n",
    "\n",
    "\n",
    "axarr[2].set_title(\"Loss\")\n",
    "axarr[2].set_xlabel(\"Epochs\")\n",
    "axarr[2].set_ylabel(\"Loss Value\")\n",
    "axarr[2].plot(loss_data)"
   ]
  },
  {
   "cell_type": "markdown",
   "id": "0dba9529",
   "metadata": {},
   "source": [
    "\n",
    "What's the difference between `torch.save(the_model.state_dict(), PATH)` and `torch.save(model, PATH)`?"
   ]
  },
  {
   "cell_type": "code",
   "execution_count": null,
   "id": "643e5af4",
   "metadata": {},
   "outputs": [],
   "source": [
    "f = \"data\"\n",
    "torch.save(cnn, f)"
   ]
  },
  {
   "cell_type": "code",
   "execution_count": null,
   "id": "7fe61cd9",
   "metadata": {},
   "outputs": [],
   "source": [
    "model = torch.load(f)\n",
    "model.eval()\n",
    "model"
   ]
  },
  {
   "cell_type": "code",
   "execution_count": null,
   "id": "b483d862",
   "metadata": {},
   "outputs": [],
   "source": [
    "f = \"data2\"\n",
    "torch.save(cnn.state_dict(), f)\n",
    "model = torch.load(f)\n",
    "model"
   ]
  },
  {
   "cell_type": "code",
   "execution_count": null,
   "id": "5ed9fedc",
   "metadata": {
    "scrolled": true
   },
   "outputs": [],
   "source": [
    "cnn.train()\n",
    "len(loaders['train'])"
   ]
  },
  {
   "cell_type": "code",
   "execution_count": null,
   "id": "409e88a1",
   "metadata": {},
   "outputs": [],
   "source": [
    "type(train_data)"
   ]
  },
  {
   "cell_type": "code",
   "execution_count": null,
   "id": "7d026ace",
   "metadata": {},
   "outputs": [],
   "source": [
    "type(resized_28)"
   ]
  },
  {
   "cell_type": "markdown",
   "id": "702fca84",
   "metadata": {},
   "source": [
    "<h1>Attempting to resize the dataset when importing with datasets.MNIST</h1>"
   ]
  },
  {
   "cell_type": "code",
   "execution_count": null,
   "id": "62805d67",
   "metadata": {},
   "outputs": [],
   "source": [
    "# train_data = datasets.MNIST(\n",
    "#     root = 'data',\n",
    "#     train = True,                         \n",
    "#     transform = transforms.Compose([\n",
    "#                     transforms.ToTensor(),\n",
    "#                     transforms.Resize(size=14)(train_data.data),\n",
    "#                     transforms.Normalize(0, 1)\n",
    "#                 ]), \n",
    "#     download = True,            \n",
    "# )\n",
    "# test_data = datasets.MNIST(\n",
    "#     root = 'data', \n",
    "#     train = False, \n",
    "#     transform = transforms.Compose([\n",
    "#                     transforms.ToTensor(),\n",
    "#                     transforms.Resize(size=14)(test_data.data),\n",
    "#                     transforms.Normalize(0, 1)\n",
    "#                 ]) \n",
    "# )"
   ]
  },
  {
   "cell_type": "code",
   "execution_count": null,
   "id": "24f2244c",
   "metadata": {},
   "outputs": [],
   "source": [
    "train_data.data.shape"
   ]
  },
  {
   "cell_type": "code",
   "execution_count": null,
   "id": "10b187e2",
   "metadata": {},
   "outputs": [],
   "source": []
  },
  {
   "cell_type": "code",
   "execution_count": null,
   "id": "d508d77f",
   "metadata": {},
   "outputs": [],
   "source": []
  }
 ],
 "metadata": {
  "kernelspec": {
   "display_name": "Python 3 (ipykernel)",
   "language": "python",
   "name": "python3"
  },
  "language_info": {
   "codemirror_mode": {
    "name": "ipython",
    "version": 3
   },
   "file_extension": ".py",
   "mimetype": "text/x-python",
   "name": "python",
   "nbconvert_exporter": "python",
   "pygments_lexer": "ipython3",
   "version": "3.8.5"
  }
 },
 "nbformat": 4,
 "nbformat_minor": 5
}
