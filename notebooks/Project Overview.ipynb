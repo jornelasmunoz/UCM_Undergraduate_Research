{
 "cells": [
  {
   "cell_type": "markdown",
   "id": "cc52b505",
   "metadata": {},
   "source": [
    "# Classification of MNIST dataset from low-quality, nosiy data"
   ]
  },
  {
   "cell_type": "markdown",
   "id": "571bd024",
   "metadata": {},
   "source": [
    "### Goal: To accurately classify the MNIST dataset\n",
    "We want to investigate what is the least amount of work we need to do to be able to correctly classify each digit. \n",
    "\n",
    "For this goal, we have 4 datasets low-quality datasets. \n",
    "1. MNIST28 (28x28 original dataset)\n",
    "2. MNIST14 (14x14 images)\n",
    "3. MNIST7 (7x7 images)\n",
    "4. MNIST4 (4x4 images)\n",
    "\n",
    "These original low-quality datasets were created in the `resize_MNIST_Datasets` notebook, which has a function called `create_datasets` that uses OpenCV2 to resize the images to the desired pixel sizes (i.e. quality). "
   ]
  },
  {
   "cell_type": "markdown",
   "id": "c1f85ea9-0b77-47d4-80f3-69a336561dc8",
   "metadata": {},
   "source": [
    "# Timeline for Spring 2022"
   ]
  },
  {
   "cell_type": "markdown",
   "id": "3d5d8118-7d97-4df1-9a0f-6d87b72b3ce0",
   "metadata": {},
   "source": [
    "#### Expectations for Jocelyn\n",
    "- Send weekly articles regarding computer vision/ML/DL"
   ]
  },
  {
   "cell_type": "markdown",
   "id": "96aa6487-868f-4082-88d8-460713f2c745",
   "metadata": {},
   "source": [
    "## Step 1: Data Generation -- resizing, no noise\n",
    "**January 25 - February 1**\n",
    "1. Investigate how the data is being resized from `28x28` to `14x14`, etc. \n",
    "    - Is the resizing being done by something like a maxpool or an average pool?\n",
    "    - what exactly is the `cv2.resize()` doing?\n",
    "2. Visualize the same digit in all sizes \n",
    "    - this may require not shuffling the data from the start\n",
    "3. How is the data being stored (i.e. how is storing structure)? \n",
    "    - what type is it? list? tuples? dictionaries\n",
    "4. Compare/Learn how Pytorch MNIST dataset works\n",
    "    - how can we resize it using transforms?\n",
    "\n",
    "## Step 2: CNN Model Design and Testing\n",
    "**February 1 - Feb. 15**\n",
    "1. Compute in and out dimensions for each of the convolutions, for each image size.\n",
    "    - make sure that the input/output dimensions align with what PyTorch expects\n",
    "2. Test/debug the `train` function\n",
    "\n",
    "## Step 3: Analysis of preliminary results\n",
    "**Feb. 15 - March 1**\n",
    "\n",
    "## Step 4: Hyperparameter tuning\n",
    "**March 1 - March 22**\n",
    "\n",
    "## Step 5: Add noise (if time permits, this will be broken down into smaller steps)\n",
    "**March 29 - April 19**\n",
    "\n",
    "## Step 6: Write up results and run more experiments\n",
    "**April 19 - May 6**"
   ]
  },
  {
   "cell_type": "code",
   "execution_count": null,
   "id": "8684c3bf-1744-4fe1-8745-8ee41d145f35",
   "metadata": {},
   "outputs": [],
   "source": []
  }
 ],
 "metadata": {
  "kernelspec": {
   "display_name": "Python 3 (ipykernel)",
   "language": "python",
   "name": "python3"
  },
  "language_info": {
   "codemirror_mode": {
    "name": "ipython",
    "version": 3
   },
   "file_extension": ".py",
   "mimetype": "text/x-python",
   "name": "python",
   "nbconvert_exporter": "python",
   "pygments_lexer": "ipython3",
   "version": "3.8.13"
  }
 },
 "nbformat": 4,
 "nbformat_minor": 5
}
