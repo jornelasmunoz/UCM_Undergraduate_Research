{
 "cells": [
  {
   "cell_type": "code",
   "execution_count": 1,
   "metadata": {},
   "outputs": [],
   "source": [
    "import os\n",
    "import sys\n",
    "sys.path.insert(0, '/Desktop/UCM_Undergraduate_Research/lib')\n",
    "data_folder = '/Users/jocelynornelasmunoz/Desktop/UCM_Undergraduate_Research/data/'\n",
    "import matplotlib.pyplot as plt\n",
    "import numpy as np\n",
    "import pandas as pd\n",
    "import pickle\n",
    "\n",
    "import torch\n",
    "import torchvision"
   ]
  },
  {
   "cell_type": "markdown",
   "metadata": {},
   "source": [
    "# Read data sets from pickle files\n",
    "\n",
    "Each dataset has shape `[60000, image_size, image_size, 1]`, where `image_size` is the size of the image (28,14,7,4)"
   ]
  },
  {
   "cell_type": "raw",
   "metadata": {},
   "source": [
    "dataDict = {}\n",
    "for size in image_sizes:\n",
    "    dataDict[\"data{}\".format(size)] = pd.read_pickle('/Users/jocelynornelasmunoz/Desktop/UCM_Undergraduate_Research/data/%ix%i/X_train_%i.pickle'%(size,size,size))"
   ]
  },
  {
   "cell_type": "code",
   "execution_count": 2,
   "metadata": {},
   "outputs": [],
   "source": [
    "image_sizes = [28, 14, 7, 4]\n",
    "data28 = pd.read_pickle(data_folder + '28x28/X_train_28.pickle')\n",
    "data14 = pd.read_pickle(data_folder + '14x14/X_train_14.pickle')\n",
    "data7  = pd.read_pickle(data_folder + '7x7/X_train_7.pickle')\n",
    "data4  = pd.read_pickle(data_folder + '4x4/X_train_4.pickle')"
   ]
  },
  {
   "cell_type": "code",
   "execution_count": 3,
   "metadata": {
    "scrolled": true
   },
   "outputs": [
    {
     "data": {
      "image/png": "[encoded data removed]",
      "text/plain": [
       "<Figure size 432x288 with 1 Axes>"
      ]
     },
     "metadata": {
      "needs_background": "light"
     },
     "output_type": "display_data"
    },
    {
     "data": {
      "image/png": "[encoded data removed]",
      "text/plain": [
       "<Figure size 432x288 with 1 Axes>"
      ]
     },
     "metadata": {
      "needs_background": "light"
     },
     "output_type": "display_data"
    },
    {
     "data": {
      "image/png": "[encoded data removed]",
      "text/plain": [
       "<Figure size 432x288 with 1 Axes>"
      ]
     },
     "metadata": {
      "needs_background": "light"
     },
     "output_type": "display_data"
    },
    {
     "data": {
      "image/png": "[encoded data removed]",
      "text/plain": [
       "<Figure size 432x288 with 1 Axes>"
      ]
     },
     "metadata": {
      "needs_background": "light"
     },
     "output_type": "display_data"
    }
   ],
   "source": [
    "data_names= ['data28', 'data14', 'data7', 'data4']\n",
    "\n",
    "plt.imshow(data28[0,:,:,0]);plt.show()\n",
    "plt.imshow(data14[0,:,:,0]);plt.show()\n",
    "plt.imshow(data7[0,:,:,0]);plt.show()\n",
    "plt.imshow(data4[0,:,:,0]);plt.show()"
   ]
  },
  {
   "cell_type": "code",
   "execution_count": 4,
   "metadata": {},
   "outputs": [],
   "source": [
    "transform = torchvision.transforms.Compose([\n",
    "        torchvision.transforms.Resize(14,14),\n",
    "        torchvision.transforms.Normalize(0, 1)]) "
   ]
  },
  {
   "cell_type": "code",
   "execution_count": 5,
   "metadata": {},
   "outputs": [],
   "source": [
    "# Create simple model with 2 fully-connected / linear layers\n",
    "model = torch.nn.Sequential(\n",
    "    # First layer takes input that is size of the unraveled image\n",
    "    # - The layer has 100 neurons, and each neuron has 28x28x1 weights + 1 bias\n",
    "    # - Output is 100 \"features\"\n",
    "    torch.nn.Linear(28*28*1, 100),\n",
    "    # We use a ReLU activation as our non-linearity\n",
    "    torch.nn.ReLU(inplace=True),\n",
    "    # Final linear layer takes 100 features and outputs 10 \"scores\" (1 for each class)\n",
    "    # - We will need to convert these scores to probabilities separately by applying the softmax function\n",
    "    torch.nn.Linear(100, 10)\n",
    ")"
   ]
  },
  {
   "cell_type": "code",
   "execution_count": 7,
   "metadata": {},
   "outputs": [],
   "source": [
    "train_data = torchvision.datasets.MNIST(\n",
    "    root = '../jornelasmunoz/data/',\n",
    "    train = True,                         \n",
    "    transform = transform, \n",
    "    download = False,            \n",
    ")\n",
    "test_data = torchvision.datasets.MNIST(\n",
    "    root = '../jornelasmunoz/data/', \n",
    "    train = False, \n",
    "    transform = transform\n",
    ")"
   ]
  },
  {
   "cell_type": "code",
   "execution_count": 8,
   "metadata": {},
   "outputs": [
    {
     "data": {
      "text/plain": [
       "torch.Size([60000, 28, 28])"
      ]
     },
     "execution_count": 8,
     "metadata": {},
     "output_type": "execute_result"
    }
   ],
   "source": [
    "train_data.data.size()"
   ]
  },
  {
   "cell_type": "code",
   "execution_count": 9,
   "metadata": {},
   "outputs": [
    {
     "data": {
      "text/plain": [
       "torch.Size([60000])"
      ]
     },
     "execution_count": 9,
     "metadata": {},
     "output_type": "execute_result"
    }
   ],
   "source": [
    "train_data.targets.size()"
   ]
  },
  {
   "cell_type": "raw",
   "metadata": {},
   "source": [
    "figure = plt.figure(figsize=(10, 8))\n",
    "cols, rows = 5, 5\n",
    "for i in range(1, cols * rows + 1):\n",
    "    sample_idx = torch.randint(len(train_data), size=(1,)).item()\n",
    "    img, label = train_data[sample_idx]\n",
    "    figure.add_subplot(rows, cols, i)\n",
    "    plt.title(label)\n",
    "    plt.axis(\"off\")\n",
    "    plt.imshow(img.squeeze(), cmap=\"gray\")\n",
    "plt.show()"
   ]
  },
  {
   "cell_type": "code",
   "execution_count": null,
   "metadata": {},
   "outputs": [],
   "source": []
  }
 ],
 "metadata": {
  "kernelspec": {
   "display_name": "Python 3",
   "language": "python",
   "name": "python3"
  },
  "language_info": {
   "codemirror_mode": {
    "name": "ipython",
    "version": 3
   },
   "file_extension": ".py",
   "mimetype": "text/x-python",
   "name": "python",
   "nbconvert_exporter": "python",
   "pygments_lexer": "ipython3",
   "version": "3.8.1"
  }
 },
 "nbformat": 4,
 "nbformat_minor": 4
}
