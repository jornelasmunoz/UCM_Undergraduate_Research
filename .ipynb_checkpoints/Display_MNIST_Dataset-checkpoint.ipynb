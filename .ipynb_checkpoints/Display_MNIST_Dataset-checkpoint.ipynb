{
 "cells": [
  {
   "cell_type": "code",
   "execution_count": 1,
   "id": "a5b78ede",
   "metadata": {},
   "outputs": [],
   "source": [
    "import pickle\n",
    "import matplotlib.pyplot as plt"
   ]
  },
  {
   "cell_type": "code",
   "execution_count": 2,
   "id": "3f6af483",
   "metadata": {},
   "outputs": [],
   "source": [
    "train_paths_X = [\"./MNIST_Datasets/4x4/X_train_4.pickle\", \"./MNIST_Datasets/7x7/X_train_7.pickle\", \"./MNIST_Datasets/14x14/X_train_14.pickle\", \"./MNIST_Datasets/28x28/X_train_28.pickle\"]\n",
    "test_paths_X = [\"./MNIST_Datasets/4x4/X_test_4.pickle\", \"./MNIST_Datasets/7x7/X_test_7.pickle\", \"./MNIST_Datasets/14x14/X_test_14.pickle\", \"./MNIST_Datasets/28x28/X_test_28.pickle\"]\n",
    "\n",
    "train_paths_y = [\"./MNIST_Datasets/4x4/y_train_4.pickle\", \"./MNIST_Datasets/7x7/y_train_7.pickle\", \"./MNIST_Datasets/14x14/y_train_14.pickle\", \"./MNIST_Datasets/28x28/y_train_28.pickle\"]\n",
    "test_paths_y =[\"./MNIST_Datasets/4x4/y_test_4.pickle\", \"./MNIST_Datasets/7x7/y_test_7.pickle\", \"./MNIST_Datasets/14x14/y_test_14.pickle\", \"./MNIST_Datasets/28x28/y_test_28.pickle\"]"
   ]
  },
  {
   "cell_type": "code",
   "execution_count": 5,
   "id": "98096c94",
   "metadata": {},
   "outputs": [
    {
     "ename": "IndexError",
     "evalue": "index 2 is out of bounds for axis 0 with size 0",
     "output_type": "error",
     "traceback": [
      "\u001b[0;31m---------------------------------------------------------------------------\u001b[0m",
      "\u001b[0;31mIndexError\u001b[0m                                Traceback (most recent call last)",
      "\u001b[0;32m<ipython-input-5-af4b4b6d4c05>\u001b[0m in \u001b[0;36m<module>\u001b[0;34m()\u001b[0m\n\u001b[1;32m     12\u001b[0m \u001b[0mtest_img\u001b[0m \u001b[0;34m=\u001b[0m \u001b[0;36m2\u001b[0m     \u001b[0;31m#test_img = [0,10000)\u001b[0m\u001b[0;34m\u001b[0m\u001b[0;34m\u001b[0m\u001b[0m\n\u001b[1;32m     13\u001b[0m \u001b[0;34m\u001b[0m\u001b[0m\n\u001b[0;32m---> 14\u001b[0;31m \u001b[0mplt\u001b[0m\u001b[0;34m.\u001b[0m\u001b[0mimshow\u001b[0m\u001b[0;34m(\u001b[0m\u001b[0mX_test\u001b[0m\u001b[0;34m[\u001b[0m\u001b[0mtest_img\u001b[0m\u001b[0;34m]\u001b[0m\u001b[0;34m,\u001b[0m \u001b[0mcmap\u001b[0m\u001b[0;34m=\u001b[0m\u001b[0;34m'gray'\u001b[0m\u001b[0;34m)\u001b[0m\u001b[0;34m\u001b[0m\u001b[0;34m\u001b[0m\u001b[0m\n\u001b[0m\u001b[1;32m     15\u001b[0m \u001b[0mplt\u001b[0m\u001b[0;34m.\u001b[0m\u001b[0mshow\u001b[0m\u001b[0;34m(\u001b[0m\u001b[0;34m)\u001b[0m\u001b[0;34m\u001b[0m\u001b[0;34m\u001b[0m\u001b[0m\n",
      "\u001b[0;31mIndexError\u001b[0m: index 2 is out of bounds for axis 0 with size 0"
     ]
    }
   ],
   "source": [
    "# INDEX VALUES:\n",
    "# 0 = 4x4, 1 = 7x7, 2 = 14x14, 3 = 28x28\n",
    "index = 2\n",
    "\n",
    "X_train = pickle.load(open(train_paths_X[index], \"rb\"))\n",
    "X_test = pickle.load(open(test_paths_X[index], \"rb\"))\n",
    "\n",
    "y_train = pickle.load(open(train_paths_y[index], \"rb\"))\n",
    "y_test = pickle.load(open(test_paths_y[index], \"rb\"))\n",
    "\n",
    "train_img = 2     #train_img = [0,60000)\n",
    "test_img = 2     #test_img = [0,10000)\n",
    "\n",
    "plt.imshow(X_test[test_img], cmap='gray')\n",
    "plt.show()"
   ]
  },
  {
   "cell_type": "code",
   "execution_count": 4,
   "id": "ab194309",
   "metadata": {},
   "outputs": [
    {
     "name": "stdout",
     "output_type": "stream",
     "text": [
      "The image displayed is a:  9\n",
      "\n",
      "Current training set size:  60000\n"
     ]
    }
   ],
   "source": [
    "print(\"The image displayed is a: \", y_train[train_img])\n",
    "print(\"\\nCurrent training set size: \", len(X_train))"
   ]
  },
  {
   "cell_type": "code",
   "execution_count": null,
   "id": "eb8cf061",
   "metadata": {},
   "outputs": [],
   "source": []
  }
 ],
 "metadata": {
  "kernelspec": {
   "display_name": "Python 3",
   "language": "python",
   "name": "python3"
  },
  "language_info": {
   "codemirror_mode": {
    "name": "ipython",
    "version": 3
   },
   "file_extension": ".py",
   "mimetype": "text/x-python",
   "name": "python",
   "nbconvert_exporter": "python",
   "pygments_lexer": "ipython3",
   "version": "3.6.13"
  }
 },
 "nbformat": 4,
 "nbformat_minor": 5
}
