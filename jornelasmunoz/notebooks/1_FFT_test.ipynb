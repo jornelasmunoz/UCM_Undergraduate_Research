{
 "cells": [
  {
   "cell_type": "code",
   "execution_count": 1,
   "id": "3fa88aaf-a0c2-4b5e-8768-cb27a632f425",
   "metadata": {},
   "outputs": [],
   "source": [
    "%load_ext autoreload\n",
    "%autoreload 2"
   ]
  },
  {
   "cell_type": "markdown",
   "id": "d075e42b-85ce-4fd0-8f76-f959979e2768",
   "metadata": {},
   "source": [
    "# 1D FFTs --> 2D FFT"
   ]
  },
  {
   "cell_type": "code",
   "execution_count": 4,
   "id": "c73c18a0-7cab-4e6d-8a05-e9703f0d1051",
   "metadata": {},
   "outputs": [
    {
     "name": "stdout",
     "output_type": "stream",
     "text": [
      "Using path =  /Users/jornelasmunoz/Desktop/UC Merced/Research/coded-aperture/jornelasmunoz/\n"
     ]
    }
   ],
   "source": [
    "import os, sys\n",
    "import numpy as np\n",
    "import matplotlib.pyplot as plt\n",
    "\n",
    "from scipy.signal import correlate2d\n",
    "from scipy.signal import convolve2d\n",
    "from scipy.fft import fft2, ifft2, fft, ifft\n",
    "\n",
    "# from torchvision import datasets\n",
    "# import torchvision.transforms as transforms\n",
    "\n",
    "\n",
    "desktop_path = '/Users/jornelasmunoz/Desktop/UC Merced/Research/coded-aperture/jornelasmunoz/'\n",
    "laptop_path = '/Users/jocelynornelas/iCloud Drive (Archive)/Desktop/UC Merced/Research/coded-aperture/jornelasmunoz/'\n",
    "if desktop_path in sys.path[0]: sys.path.insert(0, desktop_path + 'lib/'); path = desktop_path\n",
    "elif laptop_path in sys.path[0]: sys.path.insert(0, laptop_path + 'lib/'); path = laptop_path\n",
    "print('Using path = ', path)\n",
    "#sys.path.insert(0, '/Users/jocelynornelas/iCloud Drive (Archive)/Desktop/UC Merced/Research/coded-aperture/jornelasmunoz/lib/')\n",
    "import MURA as mura"
   ]
  },
  {
   "cell_type": "markdown",
   "id": "00d1af83-ed5c-473b-b071-97fd30c2a4a5",
   "metadata": {
    "jp-MarkdownHeadingCollapsed": true
   },
   "source": [
    "# 1D FFT for 2D FFT"
   ]
  },
  {
   "cell_type": "code",
   "execution_count": 5,
   "id": "dff4f602-87a7-476e-bf8e-8a6862e00dc7",
   "metadata": {},
   "outputs": [],
   "source": [
    "p = 5 # size of array\n",
    "# First, create A and G\n",
    "A = mura.create_binary_aperture_arr(p)\n",
    "G = mura.create_decoding_arr(A)"
   ]
  },
  {
   "cell_type": "code",
   "execution_count": 6,
   "id": "1a42838b-041d-437f-bfd9-aaee7a24ba78",
   "metadata": {},
   "outputs": [
    {
     "data": {
      "text/plain": [
       "array([ 3.        -0.j,  1.61803399+0.j, -0.61803399+0.j, -0.61803399-0.j,\n",
       "        1.61803399-0.j])"
      ]
     },
     "execution_count": 6,
     "metadata": {},
     "output_type": "execute_result"
    }
   ],
   "source": [
    "# do fft on row of A\n",
    "fft(A[0])\n",
    "fft(A[1])\n",
    "fft(A[4])"
   ]
  },
  {
   "cell_type": "code",
   "execution_count": 7,
   "id": "1044db66-9f77-45ef-88fc-1c13b0140f5e",
   "metadata": {},
   "outputs": [
    {
     "data": {
      "text/plain": [
       "array([[12.-0.j,  2.+0.j,  2.+0.j,  2.+0.j,  2.+0.j],\n",
       "       [-3.+0.j,  2.+0.j, -3.+0.j, -3.+0.j,  2.+0.j],\n",
       "       [-3.+0.j, -3.+0.j,  2.+0.j,  2.+0.j, -3.+0.j],\n",
       "       [-3.-0.j, -3.+0.j,  2.+0.j,  2.+0.j, -3.+0.j],\n",
       "       [-3.-0.j,  2.+0.j, -3.+0.j, -3.+0.j,  2.+0.j]])"
      ]
     },
     "execution_count": 7,
     "metadata": {},
     "output_type": "execute_result"
    }
   ],
   "source": [
    "fft(fft(A, axis=0),axis=1)"
   ]
  },
  {
   "cell_type": "code",
   "execution_count": 8,
   "id": "28f5013f-d577-4241-954a-82290031793a",
   "metadata": {},
   "outputs": [
    {
     "data": {
      "text/plain": [
       "array([[ 0.04-0.j,  0.24+0.j,  0.24+0.j,  0.24+0.j,  0.24+0.j],\n",
       "       [-0.16-0.j,  0.24+0.j, -0.16+0.j, -0.16+0.j,  0.24+0.j],\n",
       "       [-0.16-0.j, -0.16+0.j,  0.24+0.j,  0.24+0.j, -0.16+0.j],\n",
       "       [-0.16+0.j, -0.16+0.j,  0.24+0.j,  0.24+0.j, -0.16+0.j],\n",
       "       [-0.16+0.j,  0.24+0.j, -0.16+0.j, -0.16+0.j,  0.24+0.j]])"
      ]
     },
     "execution_count": 8,
     "metadata": {},
     "output_type": "execute_result"
    }
   ],
   "source": [
    "ifft(ifft(G, axis=0),axis=1)"
   ]
  },
  {
   "cell_type": "code",
   "execution_count": 9,
   "id": "efafa4cd-4f7a-4447-9945-a546cfdcfe17",
   "metadata": {},
   "outputs": [
    {
     "data": {
      "text/plain": [
       "array([[ 0.04-0.j,  0.24-0.j,  0.24-0.j,  0.24+0.j,  0.24+0.j],\n",
       "       [-0.16+0.j,  0.24+0.j, -0.16+0.j, -0.16-0.j,  0.24-0.j],\n",
       "       [-0.16+0.j, -0.16+0.j,  0.24+0.j,  0.24-0.j, -0.16-0.j],\n",
       "       [-0.16-0.j, -0.16+0.j,  0.24+0.j,  0.24-0.j, -0.16-0.j],\n",
       "       [-0.16-0.j,  0.24+0.j, -0.16+0.j, -0.16-0.j,  0.24-0.j]])"
      ]
     },
     "execution_count": 9,
     "metadata": {},
     "output_type": "execute_result"
    }
   ],
   "source": [
    "ifft2(G)"
   ]
  },
  {
   "cell_type": "code",
   "execution_count": 10,
   "id": "e66223f7-bfa2-4463-9b1b-bb603530fd46",
   "metadata": {},
   "outputs": [
    {
     "data": {
      "text/plain": [
       "array([[ 1.20000000e+01, -4.44089210e-16, -4.44089210e-16,\n",
       "        -4.44089210e-16, -4.44089210e-16],\n",
       "       [-5.68434189e-16,  4.59872919e-16, -1.75655824e-16,\n",
       "        -1.75655824e-16,  4.59872919e-16],\n",
       "       [-4.26325641e-16, -2.90624054e-16,  5.03786875e-16,\n",
       "         5.03786875e-16, -2.90624054e-16],\n",
       "       [-4.26325641e-16, -2.90624054e-16,  5.03786875e-16,\n",
       "         5.03786875e-16, -2.90624054e-16],\n",
       "       [-5.68434189e-16,  4.59872919e-16, -1.75655824e-16,\n",
       "        -1.75655824e-16,  4.59872919e-16]])"
      ]
     },
     "execution_count": 10,
     "metadata": {},
     "output_type": "execute_result"
    }
   ],
   "source": [
    "# Do convolution via FFT   \n",
    "fft_A = fft2(A)\n",
    "fft_G = fft2(G)\n",
    "conv_AG = np.real(ifft2(np.multiply(fft_A,fft_G)))\n",
    "#conv_AB = np.roll(conv_AB, [int((p-1)/2),int((p-1)/2)], axis=(0,1))\n",
    "conv_AG"
   ]
  },
  {
   "cell_type": "code",
   "execution_count": 11,
   "id": "c2d45207-184e-4a6b-ba90-00bb0dcd7210",
   "metadata": {},
   "outputs": [
    {
     "data": {
      "text/plain": [
       "<matplotlib.image.AxesImage at 0x16726f2d0>"
      ]
     },
     "execution_count": 11,
     "metadata": {},
     "output_type": "execute_result"
    },
    {
     "data": {
      "image/png": "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",
      "text/plain": [
       "<Figure size 640x480 with 1 Axes>"
      ]
     },
     "metadata": {},
     "output_type": "display_data"
    }
   ],
   "source": [
    "plt.imshow(conv_AG)"
   ]
  },
  {
   "cell_type": "code",
   "execution_count": null,
   "id": "e95934db-2801-44af-9d1d-431a536a341b",
   "metadata": {},
   "outputs": [],
   "source": [
    "# Pinhole"
   ]
  }
 ],
 "metadata": {
  "kernelspec": {
   "display_name": "Python 3 (ipykernel)",
   "language": "python",
   "name": "python3"
  },
  "language_info": {
   "codemirror_mode": {
    "name": "ipython",
    "version": 3
   },
   "file_extension": ".py",
   "mimetype": "text/x-python",
   "name": "python",
   "nbconvert_exporter": "python",
   "pygments_lexer": "ipython3",
<<<<<<< HEAD
   "version": "3.8.5"
=======
   "version": "3.11.7"
>>>>>>> 4532af6decf0a156a18f0e9b346b9d4add9f08bb
  }
 },
 "nbformat": 4,
 "nbformat_minor": 5
}
