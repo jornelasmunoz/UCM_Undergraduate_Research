{
 "cells": [
  {
   "cell_type": "markdown",
   "id": "0b4bceb5-3d29-4309-ba9e-f055cce358e4",
   "metadata": {},
   "source": [
    "# Generate MURA -- Modified Uniformly Redundant Arrays\n",
    "\n",
    "The purpose of this notebook is to generate MURAs as defined by Gottesman and Fenimore (1989) in “New family of binary arrays for coded aperture imaging”. These MURAs will be used in the pre-processing step of the MNIST data to make encode the training data and make he images irrecognizable. "
   ]
  },
  {
   "cell_type": "code",
   "execution_count": 1,
   "id": "e2390339-62ed-41b2-93fc-a50cf766403a",
   "metadata": {},
   "outputs": [],
   "source": [
    "%load_ext autoreload\n",
    "%autoreload 2"
   ]
  },
  {
   "cell_type": "code",
   "execution_count": 2,
   "id": "35292a2a-93d9-445e-a1f8-abb13d90946c",
   "metadata": {},
   "outputs": [],
   "source": [
    "import numpy as np\n",
    "import matplotlib.pyplot as plt"
   ]
  },
  {
   "cell_type": "code",
   "execution_count": 7,
   "id": "2f8a17a8-157e-4eb1-a063-70f726af2072",
   "metadata": {},
   "outputs": [
    {
     "data": {
      "image/png": "[encoded data removed]",
      "text/plain": [
       "<Figure size 432x288 with 1 Axes>"
      ]
     },
     "metadata": {
      "needs_background": "light"
     },
     "output_type": "display_data"
    }
   ],
   "source": [
    "# A is the 5x5 MURA aperture\n",
    "A = [[0,0,0,0,0], [1,1,0,0,1], [1,0,1,1,0], [1,0,1,1,0],[1,1,0,0,1]]\n",
    "plt.imshow(A, cmap='gray')\n",
    "plt.show()"
   ]
  },
  {
   "cell_type": "code",
   "execution_count": 8,
   "id": "bdb8658c-0832-4fb6-8c1b-dd7dde850b30",
   "metadata": {},
   "outputs": [
    {
     "data": {
      "text/plain": [
       "<matplotlib.image.AxesImage at 0x7fb3bca30a30>"
      ]
     },
     "execution_count": 8,
     "metadata": {},
     "output_type": "execute_result"
    },
    {
     "data": {
      "image/png": "[encoded data removed]",
      "text/plain": [
       "<Figure size 432x288 with 4 Axes>"
      ]
     },
     "metadata": {
      "needs_background": "light"
     },
     "output_type": "display_data"
    }
   ],
   "source": [
    "# A[::-1] is all items in the array, reversed\n",
    "fig, axs = plt.subplots(2,2)\n",
    "axs = axs.ravel()\n",
    "axs[0].imshow(np.fliplr(A[::-1]), cmap='gray')\n",
    "axs[1].imshow(A[::-1], cmap='gray')\n",
    "axs[2].imshow(np.fliplr(A), cmap='gray')\n",
    "axs[3].imshow(A, cmap='gray')"
   ]
  },
  {
   "cell_type": "code",
   "execution_count": 9,
   "id": "a631b76d-9847-4735-bd6e-e56b8a4f0758",
   "metadata": {},
   "outputs": [
    {
     "data": {
      "text/plain": [
       "array([[[0, 0, 0, 0, 0],\n",
       "        [1, 1, 0, 0, 1]],\n",
       "\n",
       "       [[1, 1, 0, 0, 1],\n",
       "        [1, 0, 1, 1, 0]],\n",
       "\n",
       "       [[1, 0, 1, 1, 0],\n",
       "        [1, 0, 1, 1, 0]],\n",
       "\n",
       "       [[1, 0, 1, 1, 0],\n",
       "        [1, 1, 0, 0, 1]],\n",
       "\n",
       "       [[1, 1, 0, 0, 1],\n",
       "        [0, 0, 0, 0, 0]]])"
      ]
     },
     "execution_count": 9,
     "metadata": {},
     "output_type": "execute_result"
    }
   ],
   "source": [
    "np.stack((A,A[::-1]), axis=1)"
   ]
  },
  {
   "cell_type": "markdown",
   "id": "d6459d78-a5ac-4b9f-a22c-16fffde3643c",
   "metadata": {},
   "source": [
    "# Define encoding function"
   ]
  },
  {
   "cell_type": "code",
   "execution_count": 16,
   "id": "73551f2d-fa5d-4aba-9e95-1450aab1ded9",
   "metadata": {},
   "outputs": [],
   "source": [
    "def create_binary_aperture_arr(p):\n",
    "    '''\n",
    "    Inputs\n",
    "        p: int. prime integer\n",
    "        \n",
    "    Output\n",
    "        A: np.array. Binary aperture array \n",
    "    '''\n",
    "    A = np.zeros((p,p)) # binary aperture array\n",
    "    # Aperture function p. 4350 in Gottesman and Fenimore (1989)\n",
    "    for i in range(0,p):\n",
    "        for j in range(0,p):\n",
    "            C_i = legendre_symbol(i,p)\n",
    "            C_j = legendre_symbol(j,p)\n",
    "\n",
    "            if i == 0:\n",
    "                A[i,j] = 0\n",
    "            elif (j == 0 and i != 0):\n",
    "                A[i,j] = 1\n",
    "            elif (C_i * C_j) == 1:\n",
    "                A[i,j] = 1\n",
    "            else:\n",
    "                A[i,j] = 0\n",
    "    return A\n",
    "                \n",
    "# copied from https://eli.thegreenplace.net/2009/03/07/computing-modular-square-roots-in-python on 10/05/22\n",
    "def legendre_symbol(a, p):\n",
    "    \"\"\" Compute the Legendre symbol a|p using\n",
    "        Euler's criterion. p is a prime, a is\n",
    "        relatively prime to p (if p divides\n",
    "        a, then a|p = 0)\n",
    "\n",
    "        Returns 1 if a has a square root modulo\n",
    "        p, -1 otherwise.\n",
    "    \"\"\"\n",
    "    ls = pow(a, (p - 1) // 2, p)\n",
    "    return -1 if ls == p - 1 else ls"
   ]
  },
  {
   "cell_type": "code",
   "execution_count": 17,
   "id": "bdb379b1-c3ed-44e6-a482-a50ec8337ced",
   "metadata": {},
   "outputs": [
    {
     "data": {
      "text/plain": [
       "<matplotlib.image.AxesImage at 0x7fd158eed4c0>"
      ]
     },
     "execution_count": 17,
     "metadata": {},
     "output_type": "execute_result"
    },
    {
     "data": {
      "image/png": "[encoded data removed]",
      "text/plain": [
       "<Figure size 432x288 with 1 Axes>"
      ]
     },
     "metadata": {
      "needs_background": "light"
     },
     "output_type": "display_data"
    }
   ],
   "source": [
    "p = 5 # size of array\n",
    "A = create_binary_aperture_arr(p)\n",
    "plt.imshow(A, cmap='gray')"
   ]
  },
  {
   "cell_type": "markdown",
   "id": "865f657f-ffc2-4854-8a81-4e6728e7e820",
   "metadata": {},
   "source": [
    "# Define decoding function"
   ]
  },
  {
   "cell_type": "code",
   "execution_count": 45,
   "id": "d67803bb-07a2-44fa-89bd-a336c11b2513",
   "metadata": {},
   "outputs": [],
   "source": [
    "def create_decoding_arr(A):\n",
    "    '''\n",
    "    Inputs\n",
    "        A: np.array. Binary aperture array\n",
    "        \n",
    "    Output\n",
    "        G: np.array of same size as A. Decoding function \n",
    "    '''\n",
    "    \n",
    "    G = np.zeros_like(A) # initialize decoding function\n",
    "    p = G.shape[0]\n",
    "    \n",
    "    # Decoding function p. 4350 in Gottesman and Fenimore (1989)\n",
    "    for i in range(0,p):\n",
    "        for j in range(0,p):\n",
    "\n",
    "            if (i + j) == 0:\n",
    "                G[i,j] = 1\n",
    "            elif (A[i,j] == 1 and (i + j) != 0):\n",
    "                G[i,j] = 1\n",
    "            elif (A[i,j] == 1 and (i + j) != 0):\n",
    "                G[i,j] = -1\n",
    "                \n",
    "    return G"
   ]
  },
  {
   "cell_type": "code",
   "execution_count": 46,
   "id": "b26d5564-1b5c-4c6a-94b2-6455523b9d46",
   "metadata": {},
   "outputs": [
    {
     "data": {
      "text/plain": [
       "<matplotlib.image.AxesImage at 0x7fd159ed39a0>"
      ]
     },
     "execution_count": 46,
     "metadata": {},
     "output_type": "execute_result"
    },
    {
     "data": {
      "image/png": "[encoded data removed]",
      "text/plain": [
       "<Figure size 432x288 with 1 Axes>"
      ]
     },
     "metadata": {
      "needs_background": "light"
     },
     "output_type": "display_data"
    }
   ],
   "source": [
    "G = create_decoding_arr(A)\n",
    "plt.imshow(G, cmap='gray')"
   ]
  },
  {
   "cell_type": "markdown",
   "id": "13d4803e-a447-464f-bd94-8ca498fd8edc",
   "metadata": {},
   "source": [
    "# Try to create mosaic"
   ]
  },
  {
   "cell_type": "code",
   "execution_count": 52,
   "id": "f6b36976-06a2-477e-915a-686ca44edeb2",
   "metadata": {},
   "outputs": [
    {
     "data": {
      "text/plain": [
       "<matplotlib.image.AxesImage at 0x7fd159ab2d00>"
      ]
     },
     "execution_count": 52,
     "metadata": {},
     "output_type": "execute_result"
    },
    {
     "data": {
      "image/png": "[encoded data removed]",
      "text/plain": [
       "<Figure size 432x288 with 1 Axes>"
      ]
     },
     "metadata": {
      "needs_background": "light"
     },
     "output_type": "display_data"
    }
   ],
   "source": [
    "p = 5 # size of array\n",
    "A = create_binary_aperture_arr(p)\n",
    "G = create_decoding_arr(A)\n",
    "h_stack = np.concatenate((A,A), axis=1)\n",
    "v_stack = np.concatenate((h_stack, h_stack), axis=0)\n",
    "plt.imshow(v_stack[1:,1:], cmap='gray')"
   ]
  },
  {
   "cell_type": "code",
   "execution_count": 53,
   "id": "f7eb963d-aa88-44d7-b3be-fdbbe8be7db6",
   "metadata": {},
   "outputs": [
    {
     "data": {
      "text/plain": [
       "<matplotlib.image.AxesImage at 0x7fd15a25e910>"
      ]
     },
     "execution_count": 53,
     "metadata": {},
     "output_type": "execute_result"
    },
    {
     "data": {
      "image/png": "[encoded data removed]",
      "text/plain": [
       "<Figure size 432x288 with 1 Axes>"
      ]
     },
     "metadata": {
      "needs_background": "light"
     },
     "output_type": "display_data"
    }
   ],
   "source": [
    "full_decode = create_decoding_arr(v_stack)\n",
    "plt.imshow(full_decode, cmap='gray')"
   ]
  },
  {
   "cell_type": "code",
   "execution_count": null,
   "id": "d0647dc5-b68c-4c0e-bfbd-88a06306d37d",
   "metadata": {},
   "outputs": [],
   "source": []
  },
  {
   "cell_type": "markdown",
   "id": "2ada7186-2eb2-44ec-8c64-af41df7bc0e6",
   "metadata": {
    "jp-MarkdownHeadingCollapsed": true,
    "tags": []
   },
   "source": [
    "# Not needed "
   ]
  },
  {
   "cell_type": "code",
   "execution_count": 45,
   "id": "dcffc705-77f3-460f-928e-ffa57b6cae73",
   "metadata": {},
   "outputs": [],
   "source": [
    "# added 10/05/22\n",
    "# replaced this with a more straigh-forward function with Legendre symbol\n",
    "def get_quadratic_residues(p):\n",
    "\n",
    "    # initialize list to store quadratic residues\n",
    "    quadratic_residues = []\n",
    "\n",
    "    # get quadratic residues mod p\n",
    "    # doing this the naive way, with no real tests\n",
    "    for i in range(1,p):\n",
    "        quadratic_residues.append(i**2 %p)\n",
    "        quadratic_residues = list(set(quadratic_residues))\n",
    "    \n",
    "    return quadratic_residues"
   ]
  }
 ],
 "metadata": {
  "kernelspec": {
   "display_name": "Python 3 (ipykernel)",
   "language": "python",
   "name": "python3"
  },
  "language_info": {
   "codemirror_mode": {
    "name": "ipython",
    "version": 3
   },
   "file_extension": ".py",
   "mimetype": "text/x-python",
   "name": "python",
   "nbconvert_exporter": "python",
   "pygments_lexer": "ipython3",
   "version": "3.9.7"
  }
 },
 "nbformat": 4,
 "nbformat_minor": 5
}
