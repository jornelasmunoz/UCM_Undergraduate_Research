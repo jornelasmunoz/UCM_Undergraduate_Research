{
 "cells": [
  {
   "cell_type": "code",
   "execution_count": 1,
   "id": "d1ee478c-9434-475c-96c0-1163e8e2294e",
   "metadata": {},
   "outputs": [],
   "source": [
    "%load_ext autoreload\n",
    "%autoreload 2"
   ]
  },
  {
   "cell_type": "markdown",
   "id": "f31e617f-c412-455a-bd46-e487a810c519",
   "metadata": {},
   "source": [
    "# Classification Task"
   ]
  },
  {
   "cell_type": "code",
   "execution_count": 2,
   "id": "4951ea99-3476-46cf-99a6-3f361b5d760d",
   "metadata": {
    "tags": []
   },
   "outputs": [
    {
     "name": "stdout",
     "output_type": "stream",
     "text": [
      "Using path =  /Users/jocelynornelasmunoz/Desktop/Research/coded-aperture/jornelasmunoz/\n"
     ]
    }
   ],
   "source": [
    "import os, sys\n",
    "import numpy as np\n",
    "import matplotlib.pyplot as plt\n",
    "#from scipy.fft import fft2, ifft2, fft, ifft\n",
    "\n",
    "from torchvision import datasets\n",
    "import torchvision.transforms as transforms\n",
    "import torch\n",
    "import torch.nn as nn\n",
    "import torch.nn.functional as F\n",
    "import wandb\n",
    "\n",
    "desktop_path = '/Users/jocelynornelasmunoz/Desktop/Research/coded-aperture/jornelasmunoz/'\n",
    "laptop_path = '/Users/jocelynornelas/iCloud Drive (Archive)/Desktop/UC Merced/Research/coded-aperture/jornelasmunoz/'\n",
    "if desktop_path in sys.path[0]: sys.path.insert(0, desktop_path + 'lib/'); path = desktop_path\n",
    "elif laptop_path in sys.path[0]: sys.path.insert(0, laptop_path + 'lib/'); path = laptop_path\n",
    "print('Using path = ', path)\n",
    "#sys.path.insert(0, '/Users/jocelynornelas/iCloud Drive (Archive)/Desktop/UC Merced/Research/coded-aperture/jornelasmunoz/lib/')\n",
    "import MURA as mura"
   ]
  },
  {
   "cell_type": "code",
   "execution_count": 3,
   "id": "e05c49da-b92e-42b7-87ae-c6d1d190878a",
   "metadata": {},
   "outputs": [
    {
     "name": "stdout",
     "output_type": "stream",
     "text": [
      "Using cpu device\n"
     ]
    }
   ],
   "source": [
    "device = \"cuda\" if torch.cuda.is_available() else \"cpu\"\n",
    "print(f\"Using {device} device\")"
   ]
  },
  {
   "cell_type": "code",
   "execution_count": 4,
   "id": "13b95311-0f5e-4514-820b-7af1581849a0",
   "metadata": {
    "tags": []
   },
   "outputs": [
    {
     "name": "stderr",
     "output_type": "stream",
     "text": [
      "\u001b[34m\u001b[1mwandb\u001b[0m: Currently logged in as: \u001b[33mjocelynornelasmunoz\u001b[0m. Use \u001b[1m`wandb login --relogin`\u001b[0m to force relogin\n"
     ]
    },
    {
     "data": {
      "text/html": [
       "Tracking run with wandb version 0.13.5"
      ],
      "text/plain": [
       "<IPython.core.display.HTML object>"
      ]
     },
     "metadata": {},
     "output_type": "display_data"
    },
    {
     "data": {
      "text/html": [
       "Run data is saved locally in <code>/Users/jocelynornelasmunoz/Desktop/Research/coded-aperture/jornelasmunoz/notebooks/wandb/run-20221130_134647-2qgh0hhd</code>"
      ],
      "text/plain": [
       "<IPython.core.display.HTML object>"
      ]
     },
     "metadata": {},
     "output_type": "display_data"
    },
    {
     "data": {
      "text/html": [
       "Syncing run <strong><a href=\"https://wandb.ai/jocelynornelasmunoz/coded-aperture-MNIST/runs/2qgh0hhd\" target=\"_blank\">lively-smoke-17</a></strong> to <a href=\"https://wandb.ai/jocelynornelasmunoz/coded-aperture-MNIST\" target=\"_blank\">Weights & Biases</a> (<a href=\"https://wandb.me/run\" target=\"_blank\">docs</a>)<br/>"
      ],
      "text/plain": [
       "<IPython.core.display.HTML object>"
      ]
     },
     "metadata": {},
     "output_type": "display_data"
    },
    {
     "data": {
      "text/html": [
       "<button onClick=\"this.nextSibling.style.display='block';this.style.display='none';\">Display W&B run</button><iframe src=\"https://wandb.ai/jocelynornelasmunoz/coded-aperture-MNIST/runs/2qgh0hhd?jupyter=true\" style=\"border:none;width:100%;height:420px;display:none;\"></iframe>"
      ],
      "text/plain": [
       "<wandb.sdk.wandb_run.Run at 0x7fba2dca39a0>"
      ]
     },
     "execution_count": 4,
     "metadata": {},
     "output_type": "execute_result"
    }
   ],
   "source": [
    "wandb.init(project=\"coded-aperture-MNIST\", group=\"2_convolutions\")"
   ]
  },
  {
   "cell_type": "code",
   "execution_count": 5,
   "id": "bc41b3a4-5613-4d05-ad68-d25b228d8327",
   "metadata": {},
   "outputs": [],
   "source": [
    "# capture a dictionary of hyperparameters with config\n",
    "params = {\n",
    " # \"dataset\": \"MNIST\",\n",
    " # \"machine\": \"desktop\",\n",
    " # \"model\": \"CNN -- 2 conv\",\n",
    "  \"learning_rate\": 1e-3,\n",
    "  \"batch_size\": 50,\n",
    "  \"epochs\": 50,\n",
    "}\n",
    "wandb.config = params"
   ]
  },
  {
   "cell_type": "markdown",
   "id": "734f0ec2-62e8-43cd-95b9-631d9bbaf1cd",
   "metadata": {},
   "source": [
    "# Load MNIST Data"
   ]
  },
  {
   "cell_type": "raw",
   "id": "6856974f-b8d4-425a-ad45-870fadeb6294",
   "metadata": {
    "jupyter": {
     "source_hidden": true
    },
    "tags": []
   },
   "source": [
    "class FFT_convolve(object):\n",
    "   \n",
    "   #     Parameters\n",
    "   #    ----------\n",
    "   #   img: 2D numpy array\n",
    "   #         The original image with format of [c, h, w]\n",
    "   #     \n",
    "   # \n",
    "     \n",
    "    def __init__(self, A):\n",
    "        self.encoder = A\n",
    "        self.p = A.shape[0]\n",
    "        \n",
    "    def __call__(self, img):\n",
    "        # Do convolution via FFT   \n",
    "        fft_A = torch.fft.fft2(self.A)\n",
    "        fft_img = torch.fft.fft2(img)\n",
    "        conv_Aimg = torch.real(torch.fft.ifft2(torch.mul(fft_A,fft_img)))\n",
    "        conv_Aimg = torch.roll(conv_Aimg, [int((self.p-1)/2),int((self.p-1)/2)], axis=(0,1))\n",
    "        #img = FFT_convolve(np.squeeze(img.numpy()), self.A, self.p)\n",
    "        #img = torch.unsqueeze(torch.tensor(img), 0)\n",
    "\n",
    "        return conv_Aimg#Image.fromarray(img)\n",
    "\n",
    "    def __repr__(self):\n",
    "        return self.__class__.__name__+'()'"
   ]
  },
  {
   "cell_type": "code",
   "execution_count": 6,
   "id": "36aab613-cfd7-429d-a197-6dfb9246c43d",
   "metadata": {},
   "outputs": [],
   "source": [
    "# Compute MURA encoder and decoder\n",
    "p = 23 # size of array\n",
    "A = mura.create_binary_aperture_arr(p)\n",
    "G = mura.create_decoding_arr(A)\n",
    "\n",
    "# fig, axs = plt.subplots(1,2)\n",
    "# axs = axs.ravel()\n",
    "# axs[0].imshow(A, cmap='gray')\n",
    "# axs[1].imshow(G, cmap='gray')\n",
    "# axs[0].set_title(\"Encoder\")\n",
    "# axs[1].set_title(\"Decoder\")\n",
    "# plt.show()\n",
    "\n",
    "# Load training and testing data from PyTorch\n",
    "size = A.shape[0]\n",
    "train_data = datasets.MNIST(\n",
    "    root = '../data/',\n",
    "    train = True,                         \n",
    "    transform = transforms.Compose([\n",
    "                    transforms.ToTensor(),\n",
    "                    transforms.Resize(size),\n",
    "                    #transforms.Normalize(mean=0., std=(1/255.)),\n",
    "                    # Apply MURA encoder\n",
    "                    transforms.Lambda(lambda x: torch.unsqueeze(torch.tensor(mura.FFT_convolve(np.squeeze(x.numpy()), A,p), dtype= torch.float), 0)),\n",
    "                    #transforms.Lambda(mura.get_D),\n",
    "                    transforms.Normalize(0, 1)\n",
    "                ]), \n",
    "    download = False,            \n",
    ")\n",
    "test_data = datasets.MNIST(\n",
    "    root = '../data/', \n",
    "    train = False, \n",
    "    transform = transforms.Compose([\n",
    "                    transforms.ToTensor(),\n",
    "                    transforms.Resize(size),\n",
    "                    #transforms.Normalize(mean=0., std=(1/255.)),\n",
    "                    # Apply MURA encoder\n",
    "                    #transforms.Lambda(mura.get_D),\n",
    "                    transforms.Lambda(lambda x: torch.unsqueeze(torch.tensor(mura.FFT_convolve(np.squeeze(x.numpy()), A,p), dtype= torch.float), 0)),\n",
    "                    transforms.Normalize(0, 1)\n",
    "                ]) \n",
    ")"
   ]
  },
  {
   "cell_type": "code",
   "execution_count": 7,
   "id": "d977b2cf-4caf-4d87-bb28-eededd7460d6",
   "metadata": {},
   "outputs": [],
   "source": [
    "loaders = {\n",
    "    'train' : torch.utils.data.DataLoader(train_data, \n",
    "                                          batch_size=params['batch_size'], \n",
    "                                          shuffle=True, \n",
    "                                          num_workers=0),\n",
    "    \n",
    "    'test'  : torch.utils.data.DataLoader(test_data, \n",
    "                                          batch_size=params['batch_size'], \n",
    "                                          shuffle=False, \n",
    "                                          num_workers=0),\n",
    "}"
   ]
  },
  {
   "cell_type": "code",
   "execution_count": 8,
   "id": "783955cb-a6be-4b2f-9642-bf324ea36963",
   "metadata": {},
   "outputs": [],
   "source": [
    "class Net(nn.Module):\n",
    "    def __init__(self):\n",
    "        super(Net, self).__init__()\n",
    "        self.kernel = 3\n",
    "        # 1 input image channel, 8 output channels, 2x2 square convolution kernel\n",
    "        self.conv1 = nn.Conv2d(1, 8, self.kernel)\n",
    "        self.pool = nn.MaxPool2d(2, 2)\n",
    "        self.conv2 = nn.Conv2d(8, 16, self.kernel)\n",
    "        self.pool = nn.MaxPool2d(2, 2)\n",
    "        self.fc1 = nn.Linear(16 * 4 * 4, 512)\n",
    "        self.fc2 = nn.Linear(512, 256)\n",
    "        self.fc3 = nn.Linear(256, 128)\n",
    "        self.fc4 = nn.Linear(128, 64)\n",
    "        self.fc5 = nn.Linear(64, 10)\n",
    "\n",
    "    def forward(self, x):\n",
    "        x = self.pool(F.relu(self.conv1(x)))\n",
    "        x = self.pool(F.relu(self.conv2(x)))\n",
    "        #x = (F.relu(self.conv3(x)))\n",
    "        x = x.view(-1, 16 * 4* 4)\n",
    "        x = F.relu(self.fc1(x))\n",
    "        x = F.relu(self.fc2(x))\n",
    "        x = F.relu(self.fc3(x))\n",
    "        x = F.relu(self.fc4(x))\n",
    "        x = self.fc5(x)\n",
    "        return x\n"
   ]
  },
  {
   "cell_type": "code",
   "execution_count": 9,
   "id": "bf8e079c-e993-4949-a84b-2f533cafe5bf",
   "metadata": {},
   "outputs": [],
   "source": [
    "net = Net()\n",
    "criterion = nn.CrossEntropyLoss()\n",
    "optimizer = torch.optim.Adam(net.parameters(), lr = 1e-3) \n",
    "#wandb.watch(net)"
   ]
  },
  {
   "cell_type": "code",
   "execution_count": null,
   "id": "ab4da39d-aa54-443e-9448-1b3a75c51e57",
   "metadata": {
    "collapsed": true,
    "jupyter": {
     "outputs_hidden": true
    },
    "tags": []
   },
   "outputs": [
    {
     "name": "stdout",
     "output_type": "stream",
     "text": [
      "[1,   100] loss: 0.112\n",
      "[1,   200] loss: 0.078\n",
      "[1,   300] loss: 0.054\n",
      "[1,   400] loss: 0.049\n",
      "[1,   500] loss: 0.042\n",
      "[1,   600] loss: 0.036\n",
      "[1,   700] loss: 0.034\n",
      "[1,   800] loss: 0.031\n",
      "[1,   900] loss: 0.028\n",
      "[1,  1000] loss: 0.029\n",
      "[1,  1100] loss: 0.027\n",
      "[1,  1200] loss: 0.023\n",
      "[2,   100] loss: 0.023\n",
      "[2,   200] loss: 0.021\n",
      "[2,   300] loss: 0.020\n",
      "[2,   400] loss: 0.019\n",
      "[2,   500] loss: 0.017\n",
      "[2,   600] loss: 0.017\n",
      "[2,   700] loss: 0.017\n",
      "[2,   800] loss: 0.017\n",
      "[2,   900] loss: 0.017\n",
      "[2,  1000] loss: 0.016\n",
      "[2,  1100] loss: 0.014\n",
      "[2,  1200] loss: 0.015\n",
      "[3,   100] loss: 0.015\n",
      "[3,   200] loss: 0.014\n",
      "[3,   300] loss: 0.015\n",
      "[3,   400] loss: 0.014\n",
      "[3,   500] loss: 0.016\n",
      "[3,   600] loss: 0.013\n",
      "[3,   700] loss: 0.013\n",
      "[3,   800] loss: 0.013\n",
      "[3,   900] loss: 0.013\n",
      "[3,  1000] loss: 0.013\n",
      "[3,  1100] loss: 0.013\n",
      "[3,  1200] loss: 0.014\n",
      "Finished Training\n"
     ]
    },
    {
     "data": {
      "text/html": [
       "Waiting for W&B process to finish... <strong style=\"color:green\">(success).</strong>"
      ],
      "text/plain": [
       "<IPython.core.display.HTML object>"
      ]
     },
     "metadata": {},
     "output_type": "display_data"
    }
   ],
   "source": [
    "for epoch in range(3):  # loop over the dataset multiple times\n",
    "\n",
    "    running_loss = 0.0\n",
    "    for i, data in enumerate(loaders['train']):\n",
    "        # get the inputs; data is a list of [inputs, labels]\n",
    "        inputs, labels = data\n",
    "\n",
    "        # zero the parameter gradients\n",
    "        optimizer.zero_grad()\n",
    "        \n",
    "        # forward + backward + optimize\n",
    "        outputs = net(inputs)\n",
    "        loss = criterion(outputs, labels)\n",
    "        loss.backward()\n",
    "        optimizer.step()\n",
    "\n",
    "        # print statistics\n",
    "        running_loss += loss.item()\n",
    "        if i % 100 == 99:    # print every 2000 mini-batches\n",
    "            print(f'[{epoch + 1}, {i + 1:5d}] loss: {running_loss / 2000:.3f}')\n",
    "            running_loss = 0.0\n",
    "        wandb.log({\"epoch\": epoch, \"loss\": running_loss})\n",
    "print('Finished Training')\n",
    "# Save model\n",
    "PATH = '../models/mnist_net.pth'\n",
    "torch.save(net.state_dict(), PATH)\n",
    "wandb.finish()"
   ]
  },
  {
   "cell_type": "code",
   "execution_count": null,
   "id": "10a4eacb-e03f-423c-b518-40d97f8879ec",
   "metadata": {},
   "outputs": [],
   "source": []
  },
  {
   "cell_type": "code",
   "execution_count": 10,
   "id": "94ee76bb-0371-42c2-9088-d1dd8a8b44fe",
   "metadata": {},
   "outputs": [],
   "source": [
    "# Save model\n",
    "PATH = '../models/mnist_net.pth'\n",
    "torch.save(net.state_dict(), PATH)"
   ]
  },
  {
   "cell_type": "code",
   "execution_count": 11,
   "id": "87df8d42-1109-43a7-a5be-d76f08275544",
   "metadata": {},
   "outputs": [
    {
     "data": {
      "text/plain": [
       "<All keys matched successfully>"
      ]
     },
     "execution_count": 11,
     "metadata": {},
     "output_type": "execute_result"
    }
   ],
   "source": [
    "# Load model\n",
    "net.load_state_dict(torch.load(PATH))"
   ]
  },
  {
   "cell_type": "code",
   "execution_count": 44,
   "id": "02f557d0-b2ec-4aa8-801b-a874b9efa1b7",
   "metadata": {},
   "outputs": [],
   "source": [
    "dataiter = iter(loaders['test'])\n",
    "images, labels = dataiter.next()"
   ]
  },
  {
   "cell_type": "code",
   "execution_count": 45,
   "id": "ea4c510e-2abe-454d-870e-da4052c54ca2",
   "metadata": {},
   "outputs": [],
   "source": [
    "outputs = net(images)"
   ]
  },
  {
   "cell_type": "code",
   "execution_count": 46,
   "id": "85412bcd-f7d8-44e7-a919-50be730984c6",
   "metadata": {},
   "outputs": [],
   "source": [
    "_, predicted = torch.max(outputs, 1)"
   ]
  },
  {
   "cell_type": "code",
   "execution_count": 48,
   "id": "7e79ca77-4421-4013-ad0f-9a1ac8a21e8f",
   "metadata": {},
   "outputs": [
    {
     "name": "stdout",
     "output_type": "stream",
     "text": [
      "Accuracy of the network on the 10000 test images: 91 %\n"
     ]
    }
   ],
   "source": [
    "correct = 0\n",
    "total = 0\n",
    "# since we're not training, we don't need to calculate the gradients for our outputs\n",
    "with torch.no_grad():\n",
    "    for data in loaders['test']:\n",
    "        images, labels = data\n",
    "        # calculate outputs by running images through the network\n",
    "        outputs = net(images)\n",
    "        # the class with the highest energy is what we choose as prediction\n",
    "        _, predicted = torch.max(outputs.data, 1)\n",
    "        total += labels.size(0)\n",
    "        correct += (predicted == labels).sum().item()\n",
    "\n",
    "print(f'Accuracy of the network on the 10000 test images: {100 * correct // total} %')"
   ]
  },
  {
   "cell_type": "code",
   "execution_count": 62,
   "id": "178f8d8d-7052-4123-bd8a-a1206be12c8a",
   "metadata": {},
   "outputs": [
    {
     "name": "stdout",
     "output_type": "stream",
     "text": [
      "Accuracy for class:     0 is 96.8 %\n",
      "Accuracy for class:     1 is 98.0 %\n",
      "Accuracy for class:     2 is 82.5 %\n",
      "Accuracy for class:     3 is 86.1 %\n",
      "Accuracy for class:     4 is 94.0 %\n",
      "Accuracy for class:     5 is 95.3 %\n",
      "Accuracy for class:     6 is 96.9 %\n",
      "Accuracy for class:     7 is 93.6 %\n",
      "Accuracy for class:     8 is 84.3 %\n",
      "Accuracy for class:     9 is 84.5 %\n"
     ]
    }
   ],
   "source": [
    "classes = [i for i in range(10)]\n",
    "# prepare to count predictions for each class\n",
    "correct_pred = {classname: 0 for classname in classes}\n",
    "total_pred = {classname: 0 for classname in classes}\n",
    "\n",
    "# again no gradients needed\n",
    "with torch.no_grad():\n",
    "    for data in loaders['test']:\n",
    "        images, labels = data\n",
    "        outputs = net(images)\n",
    "        _, predictions = torch.max(outputs, 1)\n",
    "        # collect the correct predictions for each class\n",
    "        for label, prediction in zip(labels, predictions):\n",
    "            if label == prediction:\n",
    "                correct_pred[int(label.numpy())] += 1\n",
    "            total_pred[int(label.numpy())] += 1\n",
    "\n",
    "\n",
    "# print accuracy for each class\n",
    "for classname, correct_count in correct_pred.items():\n",
    "    accuracy = 100 * float(correct_count) / total_pred[classname]\n",
    "    print(f'Accuracy for class: {classname:5d} is {accuracy:.1f} %')"
   ]
  },
  {
   "cell_type": "code",
   "execution_count": 71,
   "id": "8edfc166-fdb4-497f-ac07-d98b4598caae",
   "metadata": {},
   "outputs": [
    {
     "data": {
      "text/plain": [
       "<matplotlib.image.AxesImage at 0x7f9f80bc6e20>"
      ]
     },
     "execution_count": 71,
     "metadata": {},
     "output_type": "execute_result"
    },
    {
     "data": {
      "image/png": "[encoded data removed]",
      "text/plain": [
       "<Figure size 640x480 with 1 Axes>"
      ]
     },
     "metadata": {},
     "output_type": "display_data"
    }
   ],
   "source": [
    "plt.imshow(mura.FFT_convolve(images[0][0].numpy(), G))"
   ]
  },
  {
   "cell_type": "code",
   "execution_count": 66,
   "id": "3400906b-86a6-4e40-a981-a710559fe614",
   "metadata": {},
   "outputs": [
    {
     "name": "stdout",
     "output_type": "stream",
     "text": [
      "tensor(8)\n"
     ]
    },
    {
     "data": {
      "image/png": "[encoded data removed]",
      "text/plain": [
       "<Figure size 640x480 with 1 Axes>"
      ]
     },
     "metadata": {},
     "output_type": "display_data"
    }
   ],
   "source": [
    "plt.imshow(images[0][0])\n",
    "print(labels[0])"
   ]
  },
  {
   "cell_type": "code",
   "execution_count": null,
   "id": "72383b9c-6a16-474c-86e6-cc023480649f",
   "metadata": {},
   "outputs": [],
   "source": []
  }
 ],
 "metadata": {
  "kernelspec": {
   "display_name": "Python 3 (ipykernel)",
   "language": "python",
   "name": "python3"
  },
  "language_info": {
   "codemirror_mode": {
    "name": "ipython",
    "version": 3
   },
   "file_extension": ".py",
   "mimetype": "text/x-python",
   "name": "python",
   "nbconvert_exporter": "python",
   "pygments_lexer": "ipython3",
   "version": "3.9.15"
  }
 },
 "nbformat": 4,
 "nbformat_minor": 5
}
