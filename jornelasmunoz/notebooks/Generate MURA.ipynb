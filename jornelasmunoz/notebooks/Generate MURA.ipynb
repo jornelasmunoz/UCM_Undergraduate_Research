{
 "cells": [
  {
   "cell_type": "markdown",
   "id": "0b4bceb5-3d29-4309-ba9e-f055cce358e4",
   "metadata": {},
   "source": [
    "# Generate MURA"
   ]
  },
  {
   "cell_type": "code",
   "execution_count": 2,
   "id": "e2390339-62ed-41b2-93fc-a50cf766403a",
   "metadata": {},
   "outputs": [],
   "source": [
    "%load_ext autoreload\n",
    "%autoreload 2"
   ]
  },
  {
   "cell_type": "code",
   "execution_count": 3,
   "id": "35292a2a-93d9-445e-a1f8-abb13d90946c",
   "metadata": {},
   "outputs": [],
   "source": [
    "import numpy as np\n",
    "import matplotlib.pyplot as plt"
   ]
  },
  {
   "cell_type": "code",
   "execution_count": 23,
   "id": "2f8a17a8-157e-4eb1-a063-70f726af2072",
   "metadata": {},
   "outputs": [
    {
     "data": {
      "image/png": "[encoded data removed]",
      "text/plain": [
       "<Figure size 432x288 with 1 Axes>"
      ]
     },
     "metadata": {
      "needs_background": "light"
     },
     "output_type": "display_data"
    }
   ],
   "source": [
    "# A is the 5x5 MURA aperture\n",
    "A = [[0,0,0,0,0], [1,1,0,0,1], [1,0,1,1,0], [1,0,1,1,0],[1,1,0,0,1]]\n",
    "plt.imshow(A, cmap='gray')\n",
    "plt.show()"
   ]
  },
  {
   "cell_type": "code",
   "execution_count": 35,
   "id": "bdb8658c-0832-4fb6-8c1b-dd7dde850b30",
   "metadata": {},
   "outputs": [
    {
     "data": {
      "text/plain": [
       "<matplotlib.image.AxesImage at 0x7fe9a7d868e0>"
      ]
     },
     "execution_count": 35,
     "metadata": {},
     "output_type": "execute_result"
    },
    {
     "data": {
      "image/png": "[encoded data removed]",
      "text/plain": [
       "<Figure size 432x288 with 4 Axes>"
      ]
     },
     "metadata": {
      "needs_background": "light"
     },
     "output_type": "display_data"
    }
   ],
   "source": [
    "# A[::-1] is all items in the array, reversed\n",
    "fig, axs = plt.subplots(2,2)\n",
    "axs = axs.ravel()\n",
    "axs[0].imshow(np.fliplr(A[::-1]), cmap='gray')\n",
    "axs[1].imshow(A[::-1], cmap='gray')\n",
    "axs[2].imshow(np.fliplr(A), cmap='gray')\n",
    "axs[3].imshow(A, cmap='gray')"
   ]
  },
  {
   "cell_type": "code",
   "execution_count": 44,
   "id": "a631b76d-9847-4735-bd6e-e56b8a4f0758",
   "metadata": {},
   "outputs": [
    {
     "data": {
      "text/plain": [
       "array([[[0, 0, 0, 0, 0],\n",
       "        [1, 1, 0, 0, 1]],\n",
       "\n",
       "       [[1, 1, 0, 0, 1],\n",
       "        [1, 0, 1, 1, 0]],\n",
       "\n",
       "       [[1, 0, 1, 1, 0],\n",
       "        [1, 0, 1, 1, 0]],\n",
       "\n",
       "       [[1, 0, 1, 1, 0],\n",
       "        [1, 1, 0, 0, 1]],\n",
       "\n",
       "       [[1, 1, 0, 0, 1],\n",
       "        [0, 0, 0, 0, 0]]])"
      ]
     },
     "execution_count": 44,
     "metadata": {},
     "output_type": "execute_result"
    }
   ],
   "source": [
    "np.stack((A,A[::-1]), axis=1)"
   ]
  },
  {
   "cell_type": "code",
   "execution_count": 42,
   "id": "b92bda0e-9ecc-443f-8cee-6433e7b88251",
   "metadata": {},
   "outputs": [],
   "source": [
    "p = 5 # size of array\n",
    "MURA_5 = np.zeros((2*p-1,2*p-1))\n",
    "A_5 = np.zeros((p,p))"
   ]
  },
  {
   "cell_type": "code",
   "execution_count": 43,
   "id": "73551f2d-fa5d-4aba-9e95-1450aab1ded9",
   "metadata": {},
   "outputs": [
    {
     "ename": "SyntaxError",
     "evalue": "unexpected EOF while parsing (406782100.py, line 2)",
     "output_type": "error",
     "traceback": [
      "\u001b[0;36m  Input \u001b[0;32mIn [43]\u001b[0;36m\u001b[0m\n\u001b[0;31m    for j in range(0,p-1):\u001b[0m\n\u001b[0m                          ^\u001b[0m\n\u001b[0;31mSyntaxError\u001b[0m\u001b[0;31m:\u001b[0m unexpected EOF while parsing\n"
     ]
    }
   ],
   "source": [
    "for i in range(0,p-1):\n",
    "    for j in range(0,p-1):\n",
    "        \n",
    "        if i == 0:\n",
    "            A[i,j] = 0\n",
    "        elif j == 0:\n",
    "            A[i,j] = 1\n",
    "        elif\n",
    "            "
   ]
  },
  {
   "cell_type": "code",
   "execution_count": null,
   "id": "79d4f32d-479d-4576-a210-a4371afec427",
   "metadata": {},
   "outputs": [],
   "source": []
  }
 ],
 "metadata": {
  "kernelspec": {
   "display_name": "Python 3 (ipykernel)",
   "language": "python",
   "name": "python3"
  },
  "language_info": {
   "codemirror_mode": {
    "name": "ipython",
    "version": 3
   },
   "file_extension": ".py",
   "mimetype": "text/x-python",
   "name": "python",
   "nbconvert_exporter": "python",
   "pygments_lexer": "ipython3",
   "version": "3.8.13"
  }
 },
 "nbformat": 4,
 "nbformat_minor": 5
}
