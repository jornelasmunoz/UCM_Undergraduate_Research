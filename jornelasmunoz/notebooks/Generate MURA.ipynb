{
 "cells": [
  {
   "cell_type": "code",
   "execution_count": 1,
   "id": "e2390339-62ed-41b2-93fc-a50cf766403a",
   "metadata": {},
   "outputs": [],
   "source": [
    "%load_ext autoreload\n",
    "%autoreload 2"
   ]
  },
  {
   "cell_type": "markdown",
   "id": "0b4bceb5-3d29-4309-ba9e-f055cce358e4",
   "metadata": {},
   "source": [
    "# Generate MURA -- Modified Uniformly Redundant Arrays\n",
    "\n",
    "The purpose of this notebook is to generate MURAs as defined by Gottesman and Fenimore (1989) in “New family of binary arrays for coded aperture imaging”. These MURAs will be used in the pre-processing step of the MNIST data to make encode the training data and make he images irrecognizable. "
   ]
  },
  {
   "cell_type": "code",
   "execution_count": 5,
   "id": "35292a2a-93d9-445e-a1f8-abb13d90946c",
   "metadata": {},
   "outputs": [],
   "source": [
    "import numpy as np\n",
    "import matplotlib.pyplot as plt\n",
    "\n",
    "from scipy.signal import correlate2d\n",
    "from scipy.signal import convolve2d\n",
    "from scipy.fft import fft2, ifft2\n",
    "\n",
    "from torchvision import datasets\n",
    "import torchvision.transforms as transforms"
   ]
  },
  {
   "cell_type": "markdown",
   "id": "fd5bfc4e-e2c3-4d5a-a95d-38ab3a3c22d5",
   "metadata": {},
   "source": [
    "# Define functions"
   ]
  },
  {
   "cell_type": "code",
   "execution_count": 6,
   "id": "a2ed05e5-bfda-4e27-ab55-45c0ad293820",
   "metadata": {},
   "outputs": [],
   "source": [
    "def FFT_convolve(A, B, p=None):\n",
    "    '''\n",
    "    Compute convolution using FFT between A and B\n",
    "    Inputs: \n",
    "        A,B: np.ndarrays\n",
    "        \n",
    "    Outputs:\n",
    "        conv_AB: nd.array. Convolution between A and B\n",
    "    '''\n",
    "    # Check A and B are the same size\n",
    "    if np.array(A).shape != np.array(B).shape:\n",
    "        raise Exception(\"The arrays A and B are not the same shape\")\n",
    "    \n",
    "    # Define p if it is not given already\n",
    "    if p is None:\n",
    "        p = A.shape[0]\n",
    "        \n",
    "    # Do convolution via FFT   \n",
    "    fft_A = fft2(A)\n",
    "    fft_B = fft2(B)\n",
    "    conv_AB = np.real(ifft2(np.multiply(fft_A,fft_B)))\n",
    "    conv_AB = np.roll(conv_AB, [int((p-1)/2),int((p-1)/2)], axis=(0,1))\n",
    "    \n",
    "    return conv_AB"
   ]
  },
  {
   "cell_type": "code",
   "execution_count": 7,
   "id": "b3d77c62-2c1c-4e5f-8ac7-05b332f21d19",
   "metadata": {},
   "outputs": [],
   "source": [
    "# normalize \n",
    "\n",
    "def normalize(data):\n",
    "    normalized_data = (data-np.min(data))/(np.max(data)-np.min(data))\n",
    "    return normalized_data"
   ]
  },
  {
   "cell_type": "code",
   "execution_count": 8,
   "id": "2f8efd16-3982-4ead-80a4-6bd75501a66c",
   "metadata": {
    "tags": []
   },
   "outputs": [],
   "source": [
    "def add_Gaussian_noise(image, mean=0, var=0.1):\n",
    "    \"\"\"\n",
    "    Inputs:\n",
    "        image: np.array of size [height, width]. Image to which Gaussian filter will be added\n",
    "        mean:  Mean for Gaussian distribution\n",
    "        var:   Variance for Gaussian distribution\n",
    "        \n",
    "    Outputs:\n",
    "        noisy: Image with added Gaussian noise\n",
    "    \"\"\"\n",
    "    \n",
    "    row,col = image.shape\n",
    "    \n",
    "    # Calculate Gaussian filter\n",
    "    sigma = var**0.5\n",
    "    gauss = np.random.normal(mean,sigma,(row,col))\n",
    "    gauss = gauss.reshape(row,col)\n",
    "    \n",
    "    # Add Gaussian filter to image\n",
    "    noisy = image + gauss\n",
    "    return noisy\n",
    "\n",
    "\n",
    "def get_Gaussian_filter(image, mean=0, var=0.1):\n",
    "    \"\"\"\n",
    "    Inputs:\n",
    "        image: np.array of size [height, width]. Provides dimensions for filter\n",
    "        mean:  Mean for Gaussian distribution\n",
    "        var:   Variance for Gaussian distribution\n",
    "        \n",
    "    Outputs:\n",
    "        noisy: Gaussian filter\n",
    "    \"\"\"\n",
    "    \n",
    "    row,col = image.shape\n",
    "    \n",
    "    # Calculate Gaussian filter\n",
    "    sigma = var**0.5\n",
    "    gauss = np.random.normal(mean,sigma,(row,col))\n",
    "    gauss = gauss.reshape(row,col)\n",
    "    \n",
    "    return gauss "
   ]
  },
  {
   "cell_type": "code",
   "execution_count": 9,
   "id": "73551f2d-fa5d-4aba-9e95-1450aab1ded9",
   "metadata": {},
   "outputs": [],
   "source": [
    "def create_binary_aperture_arr(p):\n",
    "    '''\n",
    "    Inputs\n",
    "        p: int. prime integer\n",
    "        \n",
    "    Output\n",
    "        A: np.array. Binary aperture array \n",
    "    '''\n",
    "    A = np.zeros((p,p)) # binary aperture array\n",
    "    # Aperture function p. 4350 in Gottesman and Fenimore (1989)\n",
    "    for i in range(0,p):\n",
    "        for j in range(0,p):\n",
    "            C_i = legendre_symbol(i,p)\n",
    "            C_j = legendre_symbol(j,p)\n",
    "\n",
    "            if i == 0:\n",
    "                A[i,j] = 0\n",
    "            elif (j == 0 and i != 0):\n",
    "                A[i,j] = 1\n",
    "            elif (C_i * C_j) == 1:\n",
    "                A[i,j] = 1\n",
    "            else:\n",
    "                A[i,j] = 0\n",
    "    return A\n",
    "                \n",
    "# copied from https://eli.thegreenplace.net/2009/03/07/computing-modular-square-roots-in-python on 10/05/22\n",
    "def legendre_symbol(a, p):\n",
    "    \"\"\" Compute the Legendre symbol a|p using\n",
    "        Euler's criterion. p is a prime, a is\n",
    "        relatively prime to p (if p divides\n",
    "        a, then a|p = 0)\n",
    "\n",
    "        Returns 1 if a has a square root modulo\n",
    "        p, -1 otherwise.\n",
    "    \"\"\"\n",
    "    ls = pow(a, (p - 1) // 2, p)\n",
    "    return -1 if ls == p - 1 else ls"
   ]
  },
  {
   "cell_type": "code",
   "execution_count": 10,
   "id": "d67803bb-07a2-44fa-89bd-a336c11b2513",
   "metadata": {},
   "outputs": [],
   "source": [
    "def create_decoding_arr(A):\n",
    "    '''\n",
    "    Inputs\n",
    "        A: np.array. Binary aperture array\n",
    "        \n",
    "    Output\n",
    "        G: np.array of same size as A. Decoding function \n",
    "    '''\n",
    "    \n",
    "    G = np.zeros_like(A) # initialize decoding function\n",
    "    p = G.shape[0]\n",
    "    \n",
    "    # Decoding function p. 4350 in Gottesman and Fenimore (1989)\n",
    "    for i in range(0,p):\n",
    "        for j in range(0,p):\n",
    "\n",
    "            if (i + j) == 0:\n",
    "                G[i,j] = 1\n",
    "            elif (A[i,j] == 1 and (i + j) != 0):\n",
    "                G[i,j] = 1\n",
    "            elif (A[i,j] == 0 and (i + j) != 0):\n",
    "                G[i,j] = -1\n",
    "                \n",
    "                \n",
    "    return G"
   ]
  },
  {
   "cell_type": "markdown",
   "id": "bdd4273f-e7ad-468d-a342-12833d40a3ec",
   "metadata": {
    "tags": []
   },
   "source": [
    "# Encoder and decoder from the paper"
   ]
  },
  {
   "cell_type": "code",
   "execution_count": 11,
   "id": "2f8a17a8-157e-4eb1-a063-70f726af2072",
   "metadata": {},
   "outputs": [
    {
     "data": {
      "image/png": "[encoded data removed]",
      "text/plain": [
       "<Figure size 432x288 with 2 Axes>"
      ]
     },
     "metadata": {
      "needs_background": "light"
     },
     "output_type": "display_data"
    }
   ],
   "source": [
    "# A is the 5x5 MURA aperture\n",
    "# from the Gottesman and Fenimore paper\n",
    "A = [[0,0,0,0,0], \n",
    "     [1,1,0,0,1], \n",
    "     [1,0,1,1,0], \n",
    "     [1,0,1,1,0],\n",
    "     [1,1,0,0,1]]\n",
    "G = [[1,-1,-1,-1,-1], \n",
    "     [1,1,-1,-1,1], \n",
    "     [1,-1,1,1,-1], \n",
    "     [1,-1,1,1,-1],\n",
    "     [1,1,-1,-1,1]]\n",
    "\n",
    "fig, axs = plt.subplots(1,2)\n",
    "axs = axs.ravel()\n",
    "axs[0].imshow(A, cmap='gray')\n",
    "axs[1].imshow(G, cmap='gray')\n",
    "axs[0].set_title(\"Encoder (Paper)\")\n",
    "axs[1].set_title(\"Decoder (Paper)\")\n",
    "plt.show()"
   ]
  },
  {
   "cell_type": "code",
   "execution_count": 5,
   "id": "bdb8658c-0832-4fb6-8c1b-dd7dde850b30",
   "metadata": {
    "collapsed": true,
    "jupyter": {
     "outputs_hidden": true,
     "source_hidden": true
    },
    "tags": []
   },
   "outputs": [
    {
     "data": {
      "text/plain": [
       "<matplotlib.image.AxesImage at 0x7fb403bb82b0>"
      ]
     },
     "execution_count": 5,
     "metadata": {},
     "output_type": "execute_result"
    },
    {
     "data": {
      "image/png": "[encoded data removed]",
      "text/plain": [
       "<Figure size 640x480 with 4 Axes>"
      ]
     },
     "metadata": {},
     "output_type": "display_data"
    }
   ],
   "source": [
    "# Testing how to do reflections for mosaic\n",
    "# A[::-1] is all items in the array, reversed\n",
    "fig, axs = plt.subplots(2,2)\n",
    "axs = axs.ravel()\n",
    "axs[0].imshow(np.fliplr(A[::-1]), cmap='gray')\n",
    "axs[1].imshow(A[::-1], cmap='gray')\n",
    "axs[2].imshow(np.fliplr(A), cmap='gray')\n",
    "axs[3].imshow(A, cmap='gray')"
   ]
  },
  {
   "cell_type": "markdown",
   "id": "36d13d14-3d50-44de-95f4-2712f0e1264e",
   "metadata": {},
   "source": [
    "# Make MURA"
   ]
  },
  {
   "cell_type": "code",
   "execution_count": 12,
   "id": "bdb379b1-c3ed-44e6-a482-a50ec8337ced",
   "metadata": {
    "tags": []
   },
   "outputs": [
    {
     "data": {
      "image/png": "[encoded data removed]",
      "text/plain": [
       "<Figure size 432x288 with 2 Axes>"
      ]
     },
     "metadata": {
      "needs_background": "light"
     },
     "output_type": "display_data"
    }
   ],
   "source": [
    "# Test with p=5 to check with paper \n",
    "p = 5 # size of array\n",
    "A = create_binary_aperture_arr(p)\n",
    "G = create_decoding_arr(A)\n",
    "\n",
    "fig, axs = plt.subplots(1,2)\n",
    "axs = axs.ravel()\n",
    "axs[0].imshow(A, cmap='gray')\n",
    "axs[1].imshow(G, cmap='gray')\n",
    "axs[0].set_title(\"Encoder\")\n",
    "axs[1].set_title(\"Decoder\")\n",
    "plt.show()"
   ]
  },
  {
   "cell_type": "code",
   "execution_count": 14,
   "id": "f6b36976-06a2-477e-915a-686ca44edeb2",
   "metadata": {},
   "outputs": [
    {
     "data": {
      "image/png": "[encoded data removed]",
      "text/plain": [
       "<Figure size 432x288 with 2 Axes>"
      ]
     },
     "metadata": {
      "needs_background": "light"
     },
     "output_type": "display_data"
    }
   ],
   "source": [
    "p = 23 # size of array\n",
    "# First, create A and G\n",
    "A = create_binary_aperture_arr(p)\n",
    "G = create_decoding_arr(A)\n",
    "\n",
    "# Note: This mosaic technique didn't work (i.e. when we convolve encoder * decoder, we don't get \\delta)\n",
    "# # Make mosaic by stacking matrix horizontally and then vertically\n",
    "# h_stack = np.concatenate((A,A), axis=1)\n",
    "# v_stack = np.concatenate((h_stack, h_stack), axis=0)\n",
    "# cut out top and left edges (not needed)\n",
    "# encoder = v_stack[1:,1:]\n",
    "# decoder = create_decoding_arr(encoder)\n",
    "\n",
    "\n",
    "\n",
    "#plt.imshow(A, cmap='gray');plt.show()\n",
    "fig, axs = plt.subplots(1,2)\n",
    "axs = axs.ravel()\n",
    "axs[0].imshow(A, cmap='gray')\n",
    "axs[1].imshow(G, cmap='gray')\n",
    "axs[0].set_title(\"Encoder\")\n",
    "axs[1].set_title(\"Decoder\")\n",
    "plt.show()"
   ]
  },
  {
   "cell_type": "markdown",
   "id": "93a45f1a-8015-46e5-b951-86dedb31c012",
   "metadata": {},
   "source": [
    "# Load MNIST to test encoding"
   ]
  },
  {
   "cell_type": "code",
   "execution_count": 15,
   "id": "d0647dc5-b68c-4c0e-bfbd-88a06306d37d",
   "metadata": {
    "tags": []
   },
   "outputs": [],
   "source": [
    "# Load training and testing data from PyTorch\n",
    "size = A.shape[0]\n",
    "train_data = datasets.MNIST(\n",
    "    root = '../data/',\n",
    "    train = True,                         \n",
    "    transform = transforms.Compose([\n",
    "                    transforms.ToTensor(),\n",
    "                    transforms.Resize(size),\n",
    "                    transforms.Normalize(mean=0., std=(1/255.))\n",
    "                    #transforms.Normalize(0, 1)\n",
    "                ]), \n",
    "    download = False,            \n",
    ")\n",
    "test_data = datasets.MNIST(\n",
    "    root = '../data/', \n",
    "    train = False, \n",
    "    transform = transforms.Compose([\n",
    "                    transforms.ToTensor(),\n",
    "                    transforms.Resize(size),\n",
    "                    transforms.Normalize(mean=0., std=(1/255.))\n",
    "                    #transforms.Normalize(0, 1)\n",
    "                ]) \n",
    ")"
   ]
  },
  {
   "cell_type": "code",
   "execution_count": 17,
   "id": "8d43a0f2-0379-4f49-8099-307778e33a46",
   "metadata": {},
   "outputs": [
    {
     "data": {
      "image/png": "[encoded data removed]",
      "text/plain": [
       "<Figure size 432x288 with 2 Axes>"
      ]
     },
     "metadata": {
      "needs_background": "light"
     },
     "output_type": "display_data"
    },
    {
     "data": {
      "image/png": "[encoded data removed]",
      "text/plain": [
       "<Figure size 432x288 with 2 Axes>"
      ]
     },
     "metadata": {
      "needs_background": "light"
     },
     "output_type": "display_data"
    },
    {
     "data": {
      "image/png": "[encoded data removed]",
      "text/plain": [
       "<Figure size 432x288 with 2 Axes>"
      ]
     },
     "metadata": {
      "needs_background": "light"
     },
     "output_type": "display_data"
    },
    {
     "data": {
      "image/png": "[encoded data removed]",
      "text/plain": [
       "<Figure size 432x288 with 2 Axes>"
      ]
     },
     "metadata": {
      "needs_background": "light"
     },
     "output_type": "display_data"
    },
    {
     "data": {
      "image/png": "[encoded data removed]",
      "text/plain": [
       "<Figure size 432x288 with 2 Axes>"
      ]
     },
     "metadata": {
      "needs_background": "light"
     },
     "output_type": "display_data"
    },
    {
     "data": {
      "image/png": "[encoded data removed]",
      "text/plain": [
       "<Figure size 432x288 with 2 Axes>"
      ]
     },
     "metadata": {
      "needs_background": "light"
     },
     "output_type": "display_data"
    },
    {
     "name": "stdout",
     "output_type": "stream",
     "text": [
      "264.0\n"
     ]
    }
   ],
   "source": [
    "# S = original data\n",
    "# B = background noise (Gaussian in this case)\n",
    "# kroneker_delta = (A * G)\n",
    "# D = S * A + B Observed data \n",
    "# S_hat = (S*A)*G + B*G = S + B*G Reconstructed data\n",
    "# N = sum_ij A_ij\n",
    "\n",
    "S = train_data[9][0][0].numpy().astype('int64') \n",
    "B = get_Gaussian_filter(S, mean=0, var=0.1) \n",
    "kroneker_delta = FFT_convolve(A,G,p)\n",
    "D = FFT_convolve(S,A,p) #+ B\n",
    "S_hat = FFT_convolve(D,G,p) \n",
    "S_tilde = FFT_convolve(S, kroneker_delta,p)\n",
    "N = np.sum(A)\n",
    "diff_Shat_Stilde = np.abs(S_hat - S_tilde)\n",
    "S_normed = normalize(S)\n",
    "\n",
    "cmap = 'viridis'\n",
    "\n",
    "# fig, axs = plt.subplots(2,2, figsize=(15,10))\n",
    "# axs = axs.ravel()\n",
    "# axs[0].imshow(S, cmap=cmap)\n",
    "# axs[1].imshow(D, cmap=cmap)\n",
    "# axs[2].imshow(S_hat, cmap=cmap)\n",
    "# axs[3].imshow(S_tilde, cmap=cmap)\n",
    "\n",
    "# axs[0].set_title(\"Original signal $S$\")\n",
    "# axs[1].set_title(\"Observed signal $D = S * A$\")\n",
    "# axs[2].set_title(\"Reconstructed signal $\\hat{S} = (S*A)*G$\")\n",
    "# axs[3].set_title(\"Reconstructed signal $\\~{S} = (S*\\delta)$\")\n",
    "# plt.show()\n",
    "\n",
    "plt.imshow(S, cmap=cmap); plt.colorbar()\n",
    "plt.title(\"Original signal $S$\")\n",
    "plt.show()\n",
    "\n",
    "plt.imshow(D, cmap=cmap); plt.colorbar()\n",
    "plt.title(\"Observed signal $D = S * A$\")\n",
    "plt.show()\n",
    "\n",
    "plt.imshow(S_hat, cmap=cmap); plt.colorbar()\n",
    "plt.title(\"Reconstructed signal $\\hat{S} = (S*A)*G$\")\n",
    "plt.show()\n",
    "\n",
    "plt.imshow(S_tilde, cmap=cmap); plt.colorbar()\n",
    "plt.title(\"Reconstructed signal $\\~{S} = (S*\\delta)$\")\n",
    "plt.show()\n",
    "\n",
    "plt.imshow(diff_Shat_Stilde); plt.colorbar()\n",
    "plt.title(\"Difference\")\n",
    "plt.show()\n",
    "plt.imshow(kroneker_delta); plt.colorbar();\n",
    "plt.title(\"$A*G \\equiv \\delta$\")\n",
    "plt.show()\n",
    "print(np.max(kroneker_delta))"
   ]
  },
  {
   "cell_type": "code",
   "execution_count": 23,
   "id": "a5ad204b-13ca-4f83-8e68-1e79c4c21ecd",
   "metadata": {},
   "outputs": [
    {
     "data": {
      "text/plain": [
       "264.5"
      ]
     },
     "execution_count": 23,
     "metadata": {},
     "output_type": "execute_result"
    }
   ],
   "source": [
    "# should be peak of kronecker delta\n",
    "p**2/2"
   ]
  }
 ],
 "metadata": {
  "kernelspec": {
   "display_name": "Python 3 (ipykernel)",
   "language": "python",
   "name": "python3"
  },
  "language_info": {
   "codemirror_mode": {
    "name": "ipython",
    "version": 3
   },
   "file_extension": ".py",
   "mimetype": "text/x-python",
   "name": "python",
   "nbconvert_exporter": "python",
   "pygments_lexer": "ipython3",
   "version": "3.9.7"
  }
 },
 "nbformat": 4,
 "nbformat_minor": 5
}
