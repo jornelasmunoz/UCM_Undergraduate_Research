{
 "cells": [
  {
   "cell_type": "markdown",
   "id": "3aab9e70-7dec-4acc-9d47-5d80aca06344",
   "metadata": {},
   "source": [
    "# Evaluation of Learned Decoder\n",
    "The purpose of this notebook is to evaluate the effectiveness of the learned decoders from CNN and GAN"
   ]
  },
  {
   "cell_type": "code",
   "execution_count": 1,
   "id": "5283d75d-8a66-4b82-92b2-5c1ae2ac60d7",
   "metadata": {
    "tags": []
   },
   "outputs": [],
   "source": [
    "%load_ext autoreload\n",
    "%autoreload 2"
   ]
  },
  {
   "cell_type": "code",
   "execution_count": 2,
   "id": "18a98262-0eb9-4894-a91b-6c1ac2c0b165",
   "metadata": {
    "tags": []
   },
   "outputs": [
    {
     "name": "stdout",
     "output_type": "stream",
     "text": [
      "Using path =  /Users/jornelasmunoz/Desktop/UC Merced/Research/coded-aperture/jornelasmunoz/\n",
      "Using cpu device\n"
     ]
    }
   ],
   "source": [
    "import os, sys\n",
    "import numpy as np\n",
    "import pandas as pd\n",
    "import matplotlib.pyplot as plt\n",
    "import seaborn as sns\n",
    "\n",
    "import torchvision\n",
    "import torchvision.transforms as transforms\n",
    "import torch\n",
    "from torch.utils.data import DataLoader\n",
    "from torchmetrics.image import StructuralSimilarityIndexMeasure \n",
    "import wandb\n",
    "import datetime\n",
    "desktop_path = '/Users/jornelasmunoz/Desktop/UC Merced/Research/coded-aperture/jornelasmunoz/'\n",
    "laptop_path = '/Users/jocelynornelas/iCloud Drive (Archive)/Desktop/UC Merced/Research/coded-aperture/jornelasmunoz/'\n",
    "if desktop_path in sys.path[0]: sys.path.insert(0, desktop_path + 'lib/'); path = desktop_path\n",
    "elif laptop_path in sys.path[0]: sys.path.insert(0, laptop_path + 'lib/'); path = laptop_path\n",
    "print('Using path = ', path)\n",
    "\n",
    "from dataset import MNIST_MURA, FashionMURA\n",
    "from utils.data import load_data\n",
    "from utils.transforms import Noise_dB, Normalize_01\n",
    "from reconstruct import RECON_CNN\n",
    "from MURA import FFT_convolve\n",
    "\n",
    "\n",
    "# Change plotting parameters\n",
    "plt.rcParams.update({\n",
    "    \"text.usetex\": True,\n",
    "    \"font.family\": \"Times\", #\"Computer Modern Serif\"\n",
    "    \"figure.figsize\" : [15,10],\n",
    "})\n",
    "device = \"cuda\" if torch.cuda.is_available() else \"cpu\"\n",
    "print(f\"Using {device} device\")\n",
    "\n",
    "# Log into WandB\n",
    "# wandb.login()"
   ]
  },
  {
   "cell_type": "code",
   "execution_count": 3,
   "id": "f5f1e161-55f9-44fe-bf66-0f6ad3bd75e7",
   "metadata": {
    "tags": []
   },
   "outputs": [
    {
     "name": "stderr",
     "output_type": "stream",
     "text": [
      "\u001b[34m\u001b[1mwandb\u001b[0m: Currently logged in as: \u001b[33mjocelynornelasmunoz\u001b[0m. Use \u001b[1m`wandb login --relogin`\u001b[0m to force relogin\n"
     ]
    },
    {
     "data": {
      "text/plain": [
       "True"
      ]
     },
     "execution_count": 3,
     "metadata": {},
     "output_type": "execute_result"
    }
   ],
   "source": [
    "# Log into WandB for logging project training runs\n",
    "wandb.login()"
   ]
  },
  {
   "cell_type": "code",
   "execution_count": 4,
   "id": "49c063d5-6039-4ab2-a865-b7ae6655c583",
   "metadata": {
    "tags": []
   },
   "outputs": [
    {
     "name": "stdout",
     "output_type": "stream",
     "text": [
      "Using the following parameters:\n",
      "image_size: 23\n",
      "batch_size: 100\n",
      "learning_rate: 0.001\n",
      "epochs: 5\n",
      "model: decoder_cnn_2024-01-11\n",
      "dataset: MNIST_mura_noiseless\n",
      "scheduler_patience: 1\n",
      "snr: None\n"
     ]
    }
   ],
   "source": [
    "# Create params dict\n",
    "date = '2024-01-11'#str(datetime.datetime.now().date())\n",
    "params = {\n",
    "    \"image_size\": 23,\n",
    "    \"batch_size\":100,\n",
    "    \"learning_rate\": 0.001, \n",
    "    \"epochs\": 5,\n",
    "    \"model\": f\"decoder_cnn_{date}\",\n",
    "    \"dataset\": \"MNIST_mura_noiseless\",\n",
    "    \"scheduler_patience\": 1,\n",
    "    \"snr\": None, \n",
    "}\n",
    "\n",
    "if params['image_size'] != 23:\n",
    "    params['model'] = f\"decoder_cnn_{date}_{params['image_size']}x{params['image_size']}_{params['dataset']}\"\n",
    "wandb.config = params\n",
    "\n",
    "# Load data\n",
    "train_data, test_data, loaders = load_data(params)"
   ]
  },
  {
   "cell_type": "markdown",
   "id": "3255c26a-d342-4550-8055-92aa22550fe7",
   "metadata": {},
   "source": [
    "# Define Model"
   ]
  },
  {
   "cell_type": "code",
   "execution_count": 5,
   "id": "0b4fd69b-b3d7-4d02-a9fc-79a7baa7d4dd",
   "metadata": {
    "tags": []
   },
   "outputs": [
    {
     "name": "stdout",
     "output_type": "stream",
     "text": [
      "Using the following parameters:\n",
      "image_size: 23\n",
      "batch_size: 100\n",
      "learning_rate: 0.001\n",
      "epochs: 5\n",
      "model: decoder_cnn_2024-01-11\n",
      "dataset: MNIST_mura_noiseless\n",
      "scheduler_patience: 1\n",
      "snr: None\n",
      "kernel_size: 23\n",
      "loss: MSELoss()\n",
      "model_save_path: ../runs/decoder_cnn_2024-01-112222222/decoder_cnn_2024-01-11.pth\n"
     ]
    },
    {
     "data": {
      "text/plain": [
       "<All keys matched successfully>"
      ]
     },
     "execution_count": 5,
     "metadata": {},
     "output_type": "execute_result"
    }
   ],
   "source": [
    "# Instantiate model \n",
    "model = RECON_CNN(params)#.to(device)\n",
    "model.load_state_dict(torch.load('../runs/decoder_cnn_2024-01-11/decoder_cnn_2024-01-11.pth'))"
   ]
  },
  {
   "cell_type": "markdown",
   "id": "449e3d73-88d0-4d76-b7c8-6e61b37fdb05",
   "metadata": {},
   "source": [
    "## $A*G_L \\approx \\delta$"
   ]
  },
  {
   "cell_type": "code",
   "execution_count": 8,
   "id": "739a1448-a8bd-4888-bf67-0ad3e905b664",
   "metadata": {},
   "outputs": [
    {
     "name": "stdout",
     "output_type": "stream",
     "text": [
      "../runs/decoder_cnn_2024-01-112222222\n",
      "Learned weights Shape: torch.Size([23, 23])\n"
     ]
    },
    {
     "data": {
      "image/png": "[encoded data removed]",
      "text/plain": [
       "<Figure size 2100x500 with 6 Axes>"
      ]
     },
     "metadata": {},
     "output_type": "display_data"
    }
   ],
   "source": [
    "## Plot weights\n",
    "print(model.RUN_DIR)\n",
    "# ----------- Plot learned weights and target weights---- \n",
    "weight_map = list(model.parameters())[0].detach().squeeze(0).squeeze(0)\n",
    "print('Learned weights Shape: {}'.format(weight_map.shape))\n",
    "\n",
    "target_weights = train_data.G\n",
    "aperture = train_data.A\n",
    "FFT_A_G_L = FFT_convolve(aperture, weight_map)\n",
    "fig, axs = plt.subplots(1,3, figsize=(21,5))\n",
    "axs = axs.ravel()\n",
    "sns.heatmap(target_weights, cmap='gray', ax= axs[0])\n",
    "sns.heatmap(weight_map, cmap='gray', ax= axs[1])\n",
    "sns.heatmap(FFT_A_G_L, cmap='gray', ax= axs[2])\n",
    "# axs[0].imshow(weight_map, cmap='gray')\n",
    "# axs[1].imshow(target_weights, cmap='gray')\n",
    "axs[0].set_title(\"True decoder $G$\", fontsize=28)\n",
    "axs[1].set_title(\"Learned decoder $G_L$\", fontsize=28)\n",
    "axs[2].set_title(\"$A*G_L$\", fontsize=28)\n",
    "axs[0].axis('off')\n",
    "axs[1].axis('off')\n",
    "axs[2].axis('off')\n",
    "# axs[0].patch.set_edgecolor('black') \n",
    "# fig.savefig(model.RUN_DIR+'learned_vs_target_weights_v2.png',dpi=400)\n",
    "# fig.savefig(model.RUN_DIR+'learned_vs_target_weights_delta.png',dpi=400)\n",
    "plt.show()"
   ]
  },
  {
   "cell_type": "markdown",
   "id": "bdbea672-004d-429b-813c-2475ea5cd44e",
   "metadata": {},
   "source": [
    "# Test set evaluation"
   ]
  },
  {
   "cell_type": "code",
   "execution_count": 9,
   "id": "def271bb-201e-4fb7-8791-59c56f059c65",
   "metadata": {
    "tags": []
   },
   "outputs": [
    {
     "data": {
      "image/png": "[encoded data removed]",
      "text/plain": [
       "<Figure size 1000x700 with 4 Axes>"
      ]
     },
     "metadata": {},
     "output_type": "display_data"
    }
   ],
   "source": [
    "# Visualize data\n",
    "fig, axs = plt.subplots(1,2, figsize=(10,7))\n",
    "idx=0\n",
    "sns.heatmap(loaders['train'].dataset[idx]['target'].squeeze(0), cmap= 'gray', ax=axs[0])\n",
    "sns.heatmap(loaders['train'].dataset[idx]['img'].squeeze(0), cmap= 'gray', ax=axs[1])\n",
    "# axs[0].axis('off')\n",
    "# axs[1].axis('off')\n",
    "plt.show()"
   ]
  },
  {
   "cell_type": "code",
   "execution_count": 41,
   "id": "bb9465f0-a58e-4869-9cd5-bb2345b0f2d5",
   "metadata": {},
   "outputs": [
    {
     "name": "stdout",
     "output_type": "stream",
     "text": [
      "Using the following parameters:\n",
      "image_size: 23\n",
      "batch_size: 100\n",
      "learning_rate: 0.001\n",
      "epochs: 5\n",
      "model: decoder_cnn_2024-01-11\n",
      "dataset: Fashion\n",
      "scheduler_patience: 1\n",
      "snr: 5\n",
      "kernel_size: 23\n",
      "loss: MSELoss()\n",
      "model_save_path: ../runs/decoder_cnn_2024-01-112222222/decoder_cnn_2024-01-11.pth\n"
     ]
    }
   ],
   "source": [
    "SSIM = StructuralSimilarityIndexMeasure()\n",
    "result_dict = {}\n",
    "\n",
    "# This is to load test sets with different levels of noise. Change level of noise\n",
    "model.params['snr'] = 5\n",
    "model.params['dataset'] = 'Fashion' #MNIST or Fashion\n",
    "# Load data\n",
    "train_data, test_data, loaders = load_data(model.params)\n",
    "\n",
    "if model.params.get('snr') is None:\n",
    "    model.params['snr'] = 'noiseless'"
   ]
  },
  {
   "cell_type": "markdown",
   "id": "737cf99c-104d-4cc3-8fc9-88acdafa4e10",
   "metadata": {},
   "source": [
    "# Calculate results with model"
   ]
  },
  {
   "cell_type": "code",
   "execution_count": 42,
   "id": "e381538f-299d-46b4-be1e-a98c67fe5f3b",
   "metadata": {},
   "outputs": [],
   "source": [
    "# Save MSE and SSIM evaluations in list\n",
    "results = []\n",
    "for i, data in enumerate(loaders['test']):\n",
    "    inputs, targets, digits = data['img'], data['target'], data['digit']\n",
    "    outputs = model(inputs.to(device))\n",
    "    # outputs = Normalize_01()(outputs)\n",
    "    mse_loss = model.criterion(outputs, targets)\n",
    "    ssim_loss = SSIM(outputs, targets)\n",
    "    results.append((inputs, outputs, targets, digits, mse_loss.item(), ssim_loss.item(), model.params['snr']))\n",
    "\n",
    "# Put results in dataframe\n",
    "df = pd.DataFrame(results, columns=['inputs', 'outputs', 'targets', 'digits', f'mse_{model.params[\"snr\"]}', f'ssim_{model.params[\"snr\"]}','snr'])\n",
    "# df.to_csv(model.RUN_DIR + f'results_{model.params[\"dataset\"]}_{model.params[\"snr\"]}.csv')\n",
    "result_dict[f'{model.params[\"snr\"]}_results'] = df\n",
    "# df.head(5)"
   ]
  },
  {
   "cell_type": "code",
   "execution_count": 43,
   "id": "e6dd8c99-f1be-416b-8dec-c0e961dc6ffd",
   "metadata": {},
   "outputs": [
    {
     "data": {
      "image/png": "[encoded data removed]",
      "text/plain": [
       "<Figure size 1500x1000 with 40 Axes>"
      ]
     },
     "metadata": {},
     "output_type": "display_data"
    }
   ],
   "source": [
    "count = 0\n",
    "for idx in range(5):\n",
    "    img_D = inputs[idx].squeeze(0).detach()\n",
    "    decoder_G = test_data.G\n",
    "    FFT_D_G = FFT_convolve(img_D, decoder_G)\n",
    "    plt.subplot(4, 5, count + 1)\n",
    "    sns.heatmap(img_D, cmap='gray')\n",
    "    plt.title(f'Encoded image: {digits[idx]}')\n",
    "    plt.axis('off')\n",
    "    plt.subplot(4, 5, count + 6)\n",
    "    sns.heatmap(targets[idx].squeeze(0), cmap='gray')\n",
    "    plt.title('Original image')\n",
    "    plt.axis('off')\n",
    "    plt.subplot(4, 5, count + 11)\n",
    "    sns.heatmap(outputs[idx].squeeze(0).detach(), cmap='gray')\n",
    "    plt.title('Reconstructed image')\n",
    "    plt.axis('off')\n",
    "    plt.subplot(4, 5, count + 16)\n",
    "    sns.heatmap(FFT_D_G, cmap='gray')\n",
    "    plt.title('$D*G$')\n",
    "    plt.axis('off')        \n",
    "    count += 1\n",
    "plt.tight_layout()"
   ]
  },
  {
   "cell_type": "raw",
   "id": "fcd447df-7996-46b1-85d0-878af94cd68f",
   "metadata": {
    "collapsed": true,
    "jupyter": {
     "outputs_hidden": true
    }
   },
   "source": [
    "# Get descriptive statistics summary\n",
    "summary = df.describe()\n",
    "\n",
    "# Convert to LaTeX table format\n",
    "latex_table = summary.to_latex()\n",
    "\n",
    "# Print LaTeX table\n",
    "print(latex_table)"
   ]
  },
  {
   "cell_type": "markdown",
   "id": "0438e38f-84ec-45cf-ad77-13b58631670b",
   "metadata": {},
   "source": [
    "# Plot examples from different quartiles"
   ]
  },
  {
   "cell_type": "code",
   "execution_count": 44,
   "id": "4d502d8d-843b-4095-8e27-66d02177441b",
   "metadata": {},
   "outputs": [],
   "source": [
    "# Compute quartiles\n",
    "q1 = df[f'ssim_{model.params[\"snr\"]}'].quantile(0.25)\n",
    "q2 = df[f'ssim_{model.params[\"snr\"]}'].quantile(0.50)\n",
    "q3 = df[f'ssim_{model.params[\"snr\"]}'].quantile(0.75)\n",
    "\n",
    "# # Select rows from each quartile\n",
    "row_q1 = df[df[f'ssim_{model.params[\"snr\"]}'] <= q1].sort_values(by=f'ssim_{model.params[\"snr\"]}').iloc[0]\n",
    "row_q2 = df[(df[f'ssim_{model.params[\"snr\"]}'] > q1) & (df[f'ssim_{model.params[\"snr\"]}'] <= q2)].sort_values(by=f'ssim_{model.params[\"snr\"]}').iloc[-10]\n",
    "row_q3 = df[(df[f'ssim_{model.params[\"snr\"]}'] > q2) & (df[f'ssim_{model.params[\"snr\"]}'] <= q3)].sort_values(by=f'ssim_{model.params[\"snr\"]}').iloc[-10]\n",
    "row_q4 = df[df[f'ssim_{model.params[\"snr\"]}'] > q3].sort_values(by=f'ssim_{model.params[\"snr\"]}').iloc[-1]\n",
    "\n",
    "# # Display the selected rows\n",
    "# print(\"Row from Quartile 1:\")\n",
    "# print(row_q1)\n",
    "# print(\"\\nRow from Quartile 2:\")\n",
    "# print(row_q2)\n",
    "# print(\"\\nRow from Quartile 3:\")\n",
    "# print(row_q3)\n",
    "# print(\"\\nRow from Quartile 4:\")\n",
    "# print(row_q4)"
   ]
  },
  {
   "cell_type": "code",
   "execution_count": 45,
   "id": "73645f36-9328-478c-a745-fe5e520a61b9",
   "metadata": {},
   "outputs": [
    {
     "data": {
      "image/png": "[encoded data removed]",
      "text/plain": [
       "<Figure size 1500x1300 with 32 Axes>"
      ]
     },
     "metadata": {},
     "output_type": "display_data"
    }
   ],
   "source": [
    "fig, axs = plt.subplots(4,4, figsize=(15,13))\n",
    "axs = axs.ravel()\n",
    "idx = np.random.randint(0,row_q1['inputs'].shape[0])\n",
    "model.RUN_DIR = '../runs/decoder_cnn_2024-01-11/'\n",
    "\n",
    "snr = model.params['snr']\n",
    "if model.params.get('snr') is None:\n",
    "    snr = 'noiseless'\n",
    "sns.heatmap(row_q1['inputs'][idx].squeeze(0), cmap='gray', ax =axs[0])\n",
    "sns.heatmap(row_q2['inputs'][idx].squeeze(0), cmap='gray', ax =axs[1])\n",
    "sns.heatmap(row_q3['inputs'][idx].squeeze(0), cmap='gray', ax =axs[2])\n",
    "sns.heatmap(row_q4['inputs'][idx].squeeze(0), cmap='gray', ax =axs[3])\n",
    "\n",
    "sns.heatmap(row_q1['targets'][idx].squeeze(0), cmap='gray', ax =axs[4+0])\n",
    "sns.heatmap(row_q2['targets'][idx].squeeze(0), cmap='gray', ax =axs[4+1])\n",
    "sns.heatmap(row_q3['targets'][idx].squeeze(0), cmap='gray', ax =axs[4+2])\n",
    "sns.heatmap(row_q4['targets'][idx].squeeze(0), cmap='gray', ax =axs[4+3])\n",
    "\n",
    "\n",
    "sns.heatmap(row_q1['outputs'][idx].squeeze(0).detach(), cmap='gray', ax =axs[8+0])\n",
    "sns.heatmap(row_q2['outputs'][idx].squeeze(0).detach(), cmap='gray', ax =axs[8+1])\n",
    "sns.heatmap(row_q3['outputs'][idx].squeeze(0).detach(), cmap='gray', ax =axs[8+2])\n",
    "sns.heatmap(row_q4['outputs'][idx].squeeze(0).detach(), cmap='gray', ax =axs[8+3])\n",
    "\n",
    "sns.heatmap(FFT_convolve(row_q1['inputs'][idx].squeeze(0), target_weights), cmap='gray', ax =axs[12+0])\n",
    "sns.heatmap(FFT_convolve(row_q2['inputs'][idx].squeeze(0), target_weights), cmap='gray', ax =axs[12+1])\n",
    "sns.heatmap(FFT_convolve(row_q3['inputs'][idx].squeeze(0), target_weights), cmap='gray', ax =axs[12+2])\n",
    "sns.heatmap(FFT_convolve(row_q4['inputs'][idx].squeeze(0), target_weights), cmap='gray', ax =axs[12+3])\n",
    "\n",
    "axs[8+0].set_title(f\"MSE = {row_q1[f'mse_{snr}']:.4f} \\nSSIM = {row_q1[f'ssim_{snr}']:.4f}\",y=-0.3, fontsize=20)\n",
    "axs[8+1].set_title(f\"MSE = {row_q2[f'mse_{snr}']:.4f} \\nSSIM = {row_q2[f'ssim_{snr}']:.4f}\",y=-0.3, fontsize=20)\n",
    "axs[8+2].set_title(f\"MSE = {row_q3[f'mse_{snr}']:.4f} \\nSSIM = {row_q3[f'ssim_{snr}']:.4f}\",y=-0.3, fontsize=20)\n",
    "axs[8+3].set_title(f\"MSE = {row_q4[f'mse_{snr}']:.4f} \\nSSIM = {row_q4[f'ssim_{snr}']:.4f}\",y=-0.3, fontsize=20)\n",
    "\n",
    "for i in range(4*4):\n",
    "    axs[i].axis('off')\n",
    "plt.tight_layout()\n",
    "plt.grid(False)\n",
    "# Adjust the spacing between subplots\n",
    "# plt.subplots_adjust(hspace=0.1)  # Adjust the value as needed\n",
    "fig.savefig(model.RUN_DIR+f'recon_examples_{model.params[\"snr\"]}dB_{model.params[\"dataset\"]}_v2.png',dpi=400)\n",
    "# fig.savefig(model.RUN_DIR+'recon_examples.svg')\n",
    "plt.show()"
   ]
  },
  {
   "cell_type": "markdown",
   "id": "59664a05-952a-48d0-a45a-036d23c2db08",
   "metadata": {},
   "source": [
    "# Plot results"
   ]
  },
  {
   "cell_type": "code",
   "execution_count": 24,
   "id": "c21b8d0b-39b1-49b8-825b-538cd47915e0",
   "metadata": {},
   "outputs": [],
   "source": [
    "import plotly.express as px\n",
    "import plotly.io as pio\n",
    "import plotly.graph_objects as go\n",
    "# pio.renderers.default = 'notebook'"
   ]
  },
  {
   "cell_type": "code",
   "execution_count": 25,
   "id": "f94ffd84-87b7-44df-ad63-ab80fd9c4c16",
   "metadata": {},
   "outputs": [
    {
     "data": {
      "application/vnd.plotly.v1+json": {
       "config": {
        "plotlyServerURL": "https://plot.ly"
       },
       "data": [
        {
         "marker": {
          "color": "darkblue"
         },
         "name": "MSE",
         "type": "box",
         "y": [
          null,
          null,
          0.008745530620217323,
          0.008502855896949768,
          0.009195803664624691,
          0.007755942642688751,
          0.008090803399682045,
          0.007946019060909748,
          0.0076546757481992245,
          0.009014050476253033,
          null,
          0.0076370625756680965,
          null,
          0.008371908217668533,
          0.007476330269128084,
          0.008199455216526985,
          0.007905897684395313,
          0.00921295303851366,
          0.00864440482109785,
          0.008615746162831783,
          0.0080935163423419,
          0.007608293555676937,
          0.009209194220602512,
          0.007528392132371664,
          0.008381602354347706,
          0.008672630414366722,
          0.008363505825400352,
          0.008796478621661663,
          0.00801189336925745,
          0.007890596054494381,
          0.009476657956838608,
          0.008247707039117813,
          0.007969221100211143,
          0.007840744219720364,
          0.00832714606076479,
          0.008690611459314823,
          0.008070639334619045,
          0.008631095290184021,
          0.007262929808348417,
          0.007946132682263851,
          0.008258816786110401,
          0.00885079987347126,
          0.007298620883375406,
          0.008601333014667034,
          0.007873991504311562,
          0.008256391622126102,
          0.008027363568544388,
          0.008470221422612667,
          0.008412585593760014,
          0.00955100730061531,
          0.007130325306206942,
          0.0073381331749260426,
          0.008102841675281525,
          0.005462802015244961,
          0.006529659498482943,
          0.005198463331907988,
          0.007180879358202219,
          0.006748340092599392,
          0.00605279766023159,
          0.007812750525772572,
          0.007324969861656427,
          0.005964172072708607,
          0.005297531373798847,
          0.006371611263602972,
          0.006642619147896767,
          0.01164209470152855,
          0.01261981949210167,
          0.0071128676645457745,
          0.006100604776293039,
          0.007094882428646088,
          0.0061955759301781654,
          0.008733530528843403,
          0.008382412604987621,
          0.004871283192187548,
          0.011510787531733513,
          0.006828799843788147,
          0.007081910502165556,
          0.006258580833673477,
          0.007984787225723267,
          0.006907820701599121,
          0.006654434837400913,
          0.008137919008731842,
          0.008780132047832012,
          0.006806136574596167,
          0.006646872963756323,
          0.005896186921745539,
          0.006290850695222616,
          0.004757373593747616,
          0.006960892118513584,
          0.007751781027764082,
          0.0073211221024394035,
          0.00546253053471446,
          0.007115235086530447,
          0.008330381475389004,
          0.007240323815494776,
          0.00614817813038826,
          0.010195421986281872,
          0.008497929200530052,
          0.009555726312100887,
          0.0090824319049716
         ]
        },
        {
         "marker": {
          "color": "royalblue"
         },
         "name": "SSIM",
         "type": "box",
         "y": [
          null,
          null,
          0.8344119191169739,
          0.829732358455658,
          0.8466074466705322,
          0.8657251596450806,
          0.8439198136329651,
          0.8475978374481201,
          0.8605079054832458,
          0.8339123725891113,
          null,
          0.8627569675445557,
          null,
          0.8405082821846008,
          0.8628073334693909,
          0.8554539680480957,
          0.8450267910957336,
          0.8250264525413513,
          0.8330631852149963,
          0.8426802158355713,
          0.8501153588294983,
          0.8683152794837952,
          0.839714765548706,
          0.8487339615821838,
          0.8487785458564758,
          0.8394935131072998,
          0.8478448987007141,
          0.8428941965103149,
          0.8631708025932312,
          0.8409023880958557,
          0.8303287029266357,
          0.849376916885376,
          0.8466005921363831,
          0.8648877143859863,
          0.8416807651519775,
          0.854337751865387,
          0.8401608467102051,
          0.8446827530860901,
          0.869433581829071,
          0.8587681651115417,
          0.8397361636161804,
          0.8311195373535156,
          0.864001989364624,
          0.8419392108917236,
          0.860690176486969,
          0.844006359577179,
          0.8449474573135376,
          0.8438459634780884,
          0.8489174842834473,
          0.8293301463127136,
          0.8695202469825745,
          0.8714240789413452,
          0.8585701584815979,
          0.8925126791000366,
          0.8853939771652222,
          0.9064964056015015,
          0.8699357509613037,
          0.8695420622825623,
          0.8889637589454651,
          0.872046709060669,
          0.8869397044181824,
          0.9248431324958801,
          0.9032121300697327,
          0.8917195796966553,
          0.8904979825019836,
          0.8068820834159851,
          0.7958232760429382,
          0.8909528851509094,
          0.873684287071228,
          0.8653411865234375,
          0.8722802996635437,
          0.8547071814537048,
          0.8680202960968018,
          0.9090045094490051,
          0.8098942637443542,
          0.8741811513900757,
          0.8676586747169495,
          0.9130144715309143,
          0.9127943515777588,
          0.9102718234062195,
          0.9082101583480835,
          0.8866364359855652,
          0.8754981160163879,
          0.8870841860771179,
          0.9004402160644531,
          0.9019535779953003,
          0.8835453987121582,
          0.9064867496490479,
          0.8856326937675476,
          0.8761192560195923,
          0.9003483057022095,
          0.9121066927909851,
          0.873435914516449,
          0.8408802151679993,
          0.8700626492500305,
          0.8853596448898315,
          0.8320549130439758,
          0.8535279035568237,
          0.8047215342521667,
          0.8531619906425476
         ]
        }
       ],
       "layout": {
        "autosize": false,
        "font": {
         "size": 30
        },
        "height": 900,
        "template": {
         "data": {
          "bar": [
           {
            "error_x": {
             "color": "#2a3f5f"
            },
            "error_y": {
             "color": "#2a3f5f"
            },
            "marker": {
             "line": {
              "color": "#E5ECF6",
              "width": 0.5
             },
             "pattern": {
              "fillmode": "overlay",
              "size": 10,
              "solidity": 0.2
             }
            },
            "type": "bar"
           }
          ],
          "barpolar": [
           {
            "marker": {
             "line": {
              "color": "#E5ECF6",
              "width": 0.5
             },
             "pattern": {
              "fillmode": "overlay",
              "size": 10,
              "solidity": 0.2
             }
            },
            "type": "barpolar"
           }
          ],
          "carpet": [
           {
            "aaxis": {
             "endlinecolor": "#2a3f5f",
             "gridcolor": "white",
             "linecolor": "white",
             "minorgridcolor": "white",
             "startlinecolor": "#2a3f5f"
            },
            "baxis": {
             "endlinecolor": "#2a3f5f",
             "gridcolor": "white",
             "linecolor": "white",
             "minorgridcolor": "white",
             "startlinecolor": "#2a3f5f"
            },
            "type": "carpet"
           }
          ],
          "choropleth": [
           {
            "colorbar": {
             "outlinewidth": 0,
             "ticks": ""
            },
            "type": "choropleth"
           }
          ],
          "contour": [
           {
            "colorbar": {
             "outlinewidth": 0,
             "ticks": ""
            },
            "colorscale": [
             [
              0,
              "#0d0887"
             ],
             [
              0.1111111111111111,
              "#46039f"
             ],
             [
              0.2222222222222222,
              "#7201a8"
             ],
             [
              0.3333333333333333,
              "#9c179e"
             ],
             [
              0.4444444444444444,
              "#bd3786"
             ],
             [
              0.5555555555555556,
              "#d8576b"
             ],
             [
              0.6666666666666666,
              "#ed7953"
             ],
             [
              0.7777777777777778,
              "#fb9f3a"
             ],
             [
              0.8888888888888888,
              "#fdca26"
             ],
             [
              1,
              "#f0f921"
             ]
            ],
            "type": "contour"
           }
          ],
          "contourcarpet": [
           {
            "colorbar": {
             "outlinewidth": 0,
             "ticks": ""
            },
            "type": "contourcarpet"
           }
          ],
          "heatmap": [
           {
            "colorbar": {
             "outlinewidth": 0,
             "ticks": ""
            },
            "colorscale": [
             [
              0,
              "#0d0887"
             ],
             [
              0.1111111111111111,
              "#46039f"
             ],
             [
              0.2222222222222222,
              "#7201a8"
             ],
             [
              0.3333333333333333,
              "#9c179e"
             ],
             [
              0.4444444444444444,
              "#bd3786"
             ],
             [
              0.5555555555555556,
              "#d8576b"
             ],
             [
              0.6666666666666666,
              "#ed7953"
             ],
             [
              0.7777777777777778,
              "#fb9f3a"
             ],
             [
              0.8888888888888888,
              "#fdca26"
             ],
             [
              1,
              "#f0f921"
             ]
            ],
            "type": "heatmap"
           }
          ],
          "heatmapgl": [
           {
            "colorbar": {
             "outlinewidth": 0,
             "ticks": ""
            },
            "colorscale": [
             [
              0,
              "#0d0887"
             ],
             [
              0.1111111111111111,
              "#46039f"
             ],
             [
              0.2222222222222222,
              "#7201a8"
             ],
             [
              0.3333333333333333,
              "#9c179e"
             ],
             [
              0.4444444444444444,
              "#bd3786"
             ],
             [
              0.5555555555555556,
              "#d8576b"
             ],
             [
              0.6666666666666666,
              "#ed7953"
             ],
             [
              0.7777777777777778,
              "#fb9f3a"
             ],
             [
              0.8888888888888888,
              "#fdca26"
             ],
             [
              1,
              "#f0f921"
             ]
            ],
            "type": "heatmapgl"
           }
          ],
          "histogram": [
           {
            "marker": {
             "pattern": {
              "fillmode": "overlay",
              "size": 10,
              "solidity": 0.2
             }
            },
            "type": "histogram"
           }
          ],
          "histogram2d": [
           {
            "colorbar": {
             "outlinewidth": 0,
             "ticks": ""
            },
            "colorscale": [
             [
              0,
              "#0d0887"
             ],
             [
              0.1111111111111111,
              "#46039f"
             ],
             [
              0.2222222222222222,
              "#7201a8"
             ],
             [
              0.3333333333333333,
              "#9c179e"
             ],
             [
              0.4444444444444444,
              "#bd3786"
             ],
             [
              0.5555555555555556,
              "#d8576b"
             ],
             [
              0.6666666666666666,
              "#ed7953"
             ],
             [
              0.7777777777777778,
              "#fb9f3a"
             ],
             [
              0.8888888888888888,
              "#fdca26"
             ],
             [
              1,
              "#f0f921"
             ]
            ],
            "type": "histogram2d"
           }
          ],
          "histogram2dcontour": [
           {
            "colorbar": {
             "outlinewidth": 0,
             "ticks": ""
            },
            "colorscale": [
             [
              0,
              "#0d0887"
             ],
             [
              0.1111111111111111,
              "#46039f"
             ],
             [
              0.2222222222222222,
              "#7201a8"
             ],
             [
              0.3333333333333333,
              "#9c179e"
             ],
             [
              0.4444444444444444,
              "#bd3786"
             ],
             [
              0.5555555555555556,
              "#d8576b"
             ],
             [
              0.6666666666666666,
              "#ed7953"
             ],
             [
              0.7777777777777778,
              "#fb9f3a"
             ],
             [
              0.8888888888888888,
              "#fdca26"
             ],
             [
              1,
              "#f0f921"
             ]
            ],
            "type": "histogram2dcontour"
           }
          ],
          "mesh3d": [
           {
            "colorbar": {
             "outlinewidth": 0,
             "ticks": ""
            },
            "type": "mesh3d"
           }
          ],
          "parcoords": [
           {
            "line": {
             "colorbar": {
              "outlinewidth": 0,
              "ticks": ""
             }
            },
            "type": "parcoords"
           }
          ],
          "pie": [
           {
            "automargin": true,
            "type": "pie"
           }
          ],
          "scatter": [
           {
            "fillpattern": {
             "fillmode": "overlay",
             "size": 10,
             "solidity": 0.2
            },
            "type": "scatter"
           }
          ],
          "scatter3d": [
           {
            "line": {
             "colorbar": {
              "outlinewidth": 0,
              "ticks": ""
             }
            },
            "marker": {
             "colorbar": {
              "outlinewidth": 0,
              "ticks": ""
             }
            },
            "type": "scatter3d"
           }
          ],
          "scattercarpet": [
           {
            "marker": {
             "colorbar": {
              "outlinewidth": 0,
              "ticks": ""
             }
            },
            "type": "scattercarpet"
           }
          ],
          "scattergeo": [
           {
            "marker": {
             "colorbar": {
              "outlinewidth": 0,
              "ticks": ""
             }
            },
            "type": "scattergeo"
           }
          ],
          "scattergl": [
           {
            "marker": {
             "colorbar": {
              "outlinewidth": 0,
              "ticks": ""
             }
            },
            "type": "scattergl"
           }
          ],
          "scattermapbox": [
           {
            "marker": {
             "colorbar": {
              "outlinewidth": 0,
              "ticks": ""
             }
            },
            "type": "scattermapbox"
           }
          ],
          "scatterpolar": [
           {
            "marker": {
             "colorbar": {
              "outlinewidth": 0,
              "ticks": ""
             }
            },
            "type": "scatterpolar"
           }
          ],
          "scatterpolargl": [
           {
            "marker": {
             "colorbar": {
              "outlinewidth": 0,
              "ticks": ""
             }
            },
            "type": "scatterpolargl"
           }
          ],
          "scatterternary": [
           {
            "marker": {
             "colorbar": {
              "outlinewidth": 0,
              "ticks": ""
             }
            },
            "type": "scatterternary"
           }
          ],
          "surface": [
           {
            "colorbar": {
             "outlinewidth": 0,
             "ticks": ""
            },
            "colorscale": [
             [
              0,
              "#0d0887"
             ],
             [
              0.1111111111111111,
              "#46039f"
             ],
             [
              0.2222222222222222,
              "#7201a8"
             ],
             [
              0.3333333333333333,
              "#9c179e"
             ],
             [
              0.4444444444444444,
              "#bd3786"
             ],
             [
              0.5555555555555556,
              "#d8576b"
             ],
             [
              0.6666666666666666,
              "#ed7953"
             ],
             [
              0.7777777777777778,
              "#fb9f3a"
             ],
             [
              0.8888888888888888,
              "#fdca26"
             ],
             [
              1,
              "#f0f921"
             ]
            ],
            "type": "surface"
           }
          ],
          "table": [
           {
            "cells": {
             "fill": {
              "color": "#EBF0F8"
             },
             "line": {
              "color": "white"
             }
            },
            "header": {
             "fill": {
              "color": "#C8D4E3"
             },
             "line": {
              "color": "white"
             }
            },
            "type": "table"
           }
          ]
         },
         "layout": {
          "annotationdefaults": {
           "arrowcolor": "#2a3f5f",
           "arrowhead": 0,
           "arrowwidth": 1
          },
          "autotypenumbers": "strict",
          "coloraxis": {
           "colorbar": {
            "outlinewidth": 0,
            "ticks": ""
           }
          },
          "colorscale": {
           "diverging": [
            [
             0,
             "#8e0152"
            ],
            [
             0.1,
             "#c51b7d"
            ],
            [
             0.2,
             "#de77ae"
            ],
            [
             0.3,
             "#f1b6da"
            ],
            [
             0.4,
             "#fde0ef"
            ],
            [
             0.5,
             "#f7f7f7"
            ],
            [
             0.6,
             "#e6f5d0"
            ],
            [
             0.7,
             "#b8e186"
            ],
            [
             0.8,
             "#7fbc41"
            ],
            [
             0.9,
             "#4d9221"
            ],
            [
             1,
             "#276419"
            ]
           ],
           "sequential": [
            [
             0,
             "#0d0887"
            ],
            [
             0.1111111111111111,
             "#46039f"
            ],
            [
             0.2222222222222222,
             "#7201a8"
            ],
            [
             0.3333333333333333,
             "#9c179e"
            ],
            [
             0.4444444444444444,
             "#bd3786"
            ],
            [
             0.5555555555555556,
             "#d8576b"
            ],
            [
             0.6666666666666666,
             "#ed7953"
            ],
            [
             0.7777777777777778,
             "#fb9f3a"
            ],
            [
             0.8888888888888888,
             "#fdca26"
            ],
            [
             1,
             "#f0f921"
            ]
           ],
           "sequentialminus": [
            [
             0,
             "#0d0887"
            ],
            [
             0.1111111111111111,
             "#46039f"
            ],
            [
             0.2222222222222222,
             "#7201a8"
            ],
            [
             0.3333333333333333,
             "#9c179e"
            ],
            [
             0.4444444444444444,
             "#bd3786"
            ],
            [
             0.5555555555555556,
             "#d8576b"
            ],
            [
             0.6666666666666666,
             "#ed7953"
            ],
            [
             0.7777777777777778,
             "#fb9f3a"
            ],
            [
             0.8888888888888888,
             "#fdca26"
            ],
            [
             1,
             "#f0f921"
            ]
           ]
          },
          "colorway": [
           "#636efa",
           "#EF553B",
           "#00cc96",
           "#ab63fa",
           "#FFA15A",
           "#19d3f3",
           "#FF6692",
           "#B6E880",
           "#FF97FF",
           "#FECB52"
          ],
          "font": {
           "color": "#2a3f5f"
          },
          "geo": {
           "bgcolor": "white",
           "lakecolor": "white",
           "landcolor": "#E5ECF6",
           "showlakes": true,
           "showland": true,
           "subunitcolor": "white"
          },
          "hoverlabel": {
           "align": "left"
          },
          "hovermode": "closest",
          "mapbox": {
           "style": "light"
          },
          "paper_bgcolor": "white",
          "plot_bgcolor": "#E5ECF6",
          "polar": {
           "angularaxis": {
            "gridcolor": "white",
            "linecolor": "white",
            "ticks": ""
           },
           "bgcolor": "#E5ECF6",
           "radialaxis": {
            "gridcolor": "white",
            "linecolor": "white",
            "ticks": ""
           }
          },
          "scene": {
           "xaxis": {
            "backgroundcolor": "#E5ECF6",
            "gridcolor": "white",
            "gridwidth": 2,
            "linecolor": "white",
            "showbackground": true,
            "ticks": "",
            "zerolinecolor": "white"
           },
           "yaxis": {
            "backgroundcolor": "#E5ECF6",
            "gridcolor": "white",
            "gridwidth": 2,
            "linecolor": "white",
            "showbackground": true,
            "ticks": "",
            "zerolinecolor": "white"
           },
           "zaxis": {
            "backgroundcolor": "#E5ECF6",
            "gridcolor": "white",
            "gridwidth": 2,
            "linecolor": "white",
            "showbackground": true,
            "ticks": "",
            "zerolinecolor": "white"
           }
          },
          "shapedefaults": {
           "line": {
            "color": "#2a3f5f"
           }
          },
          "ternary": {
           "aaxis": {
            "gridcolor": "white",
            "linecolor": "white",
            "ticks": ""
           },
           "baxis": {
            "gridcolor": "white",
            "linecolor": "white",
            "ticks": ""
           },
           "bgcolor": "#E5ECF6",
           "caxis": {
            "gridcolor": "white",
            "linecolor": "white",
            "ticks": ""
           }
          },
          "title": {
           "x": 0.05
          },
          "xaxis": {
           "automargin": true,
           "gridcolor": "white",
           "linecolor": "white",
           "ticks": "",
           "title": {
            "standoff": 15
           },
           "zerolinecolor": "white",
           "zerolinewidth": 2
          },
          "yaxis": {
           "automargin": true,
           "gridcolor": "white",
           "linecolor": "white",
           "ticks": "",
           "title": {
            "standoff": 15
           },
           "zerolinecolor": "white",
           "zerolinewidth": 2
          }
         }
        },
        "width": 1200,
        "xaxis": {
         "autorange": true,
         "range": [
          -0.5,
          1.5
         ],
         "type": "category"
        },
        "yaxis": {
         "range": [
          0,
          1
         ],
         "tickmode": "array",
         "title": {
          "font": {
           "size": 30
          }
         },
         "type": "linear"
        }
       }
      },
      "image/png": "[encoded data removed]"
     },
     "metadata": {},
     "output_type": "display_data"
    }
   ],
   "source": [
    "y0 = df.mse_noiseless\n",
    "y1 = df.ssim_noiseless\n",
    "\n",
    "fig = go.Figure()\n",
    "fig.add_trace(go.Box(y=y0, name='MSE',\n",
    "                marker_color = 'darkblue'))\n",
    "fig.add_trace(go.Box(y=y1, name = 'SSIM',\n",
    "                marker_color = 'royalblue'))\n",
    "fig.update_layout(\n",
    "    autosize=False,\n",
    "    width=1200,\n",
    "    height=900,\n",
    "    yaxis=dict(\n",
    "        # title_text=\"Y-axis Title\",\n",
    "        # ticktext=[\"Very long label\", \"long label\", \"3\", \"label\"],\n",
    "        # tickvals=,\n",
    "        tickmode=\"array\",\n",
    "        titlefont=dict(size=30),\n",
    "    ),\n",
    "    yaxis_range=[0,1],\n",
    "    font=dict(size=30),\n",
    ")\n",
    "fig.show(renderer=\"jupyterlab\")\n",
    "# fig.write_image(model.RUN_DIR + f'boxplot_metrics_snr_{model.params[\"snr\"]}_{model.params[\"dataset\"]}.png')"
   ]
  },
  {
   "cell_type": "code",
   "execution_count": 60,
   "id": "e9ca9a38-049a-41c9-9118-457ae13b5cc4",
   "metadata": {},
   "outputs": [
    {
     "data": {
      "text/plain": [
       "dict_keys(['noiseless_results', '1_results', '5_results', '10_results', '15_results'])"
      ]
     },
     "execution_count": 60,
     "metadata": {},
     "output_type": "execute_result"
    }
   ],
   "source": [
    "result_dict.keys()"
   ]
  },
  {
   "cell_type": "code",
   "execution_count": 61,
   "id": "fdf6b58b-5bc8-4b70-b2fc-830466128e02",
   "metadata": {},
   "outputs": [
    {
     "data": {
      "application/vnd.plotly.v1+json": {
       "config": {
        "plotlyServerURL": "https://plot.ly"
       },
       "data": [
        {
         "marker": {
          "color": "darkblue"
         },
         "name": "Noiseless",
         "showlegend": false,
         "type": "box",
         "y": [
          null,
          0.046633388847112656,
          0.0399487130343914,
          0.046684782952070236,
          0.03932461142539978,
          0.03569779917597771,
          0.049868836998939514,
          0.03621070086956024,
          0.03418870270252228,
          0.04543989524245262,
          0.035658445209264755,
          0.041496772319078445,
          0.042766422033309937,
          0.05007218196988106,
          0.04675329476594925,
          0.03276773914694786,
          0.03701481223106384,
          0.0437801368534565,
          0.03498506918549538,
          0.04189690202474594,
          0.044827014207839966,
          0.03963197022676468,
          0.03742750361561775,
          0.036436911672353745,
          0.048591248691082,
          0.037704672664403915,
          0.04967598244547844,
          0.04412581026554108,
          0.03990910202264786,
          0.03850967064499855,
          0.03880472108721733,
          0.04049580544233322,
          0.04316294565796852,
          0.037844978272914886,
          0.03700428083539009,
          0.04068657383322716,
          0.03567349538207054,
          0.04263041540980339,
          0.035542283207178116,
          0.04462931305170059,
          0.05176746845245361,
          0.0462615042924881,
          0.04579329118132591,
          0.03506898880004883,
          0.03836893290281296,
          0.04354492202401161,
          0.031099418178200722,
          0.04259867966175079,
          0.04858383536338806,
          0.04156506061553955,
          0.03782084956765175,
          0.04457023739814758,
          0.03646855056285858,
          0.039176955819129944,
          0.04606622830033302,
          0.03766193613409996,
          0.04763587936758995,
          0.05002550408244133,
          0.04199147969484329,
          0.04216580092906952,
          0.04195503517985344,
          0.0341724194586277,
          0.04579226300120354,
          0.03381092846393585,
          0.042736563831567764,
          0.043231479823589325,
          0.037675920873880386,
          0.03335793688893318,
          0.029584886506199837,
          0.04458240792155266,
          0.04263993725180626,
          0.0444602444767952,
          0.04229692369699478,
          0.04379603639245033,
          0.03224094212055206,
          0.03599582985043526,
          0.035302359610795975,
          0.042181406170129776,
          0.0366385392844677,
          0.038262806832790375,
          0.04350576549768448,
          0.0361630953848362,
          0.0420166440308094,
          0.04046115279197693,
          0.04034152626991272,
          0.03975902497768402,
          0.031101388856768608,
          0.039819106459617615,
          0.04169002175331116,
          0.04160144180059433,
          0.04485980048775673,
          0.04133666306734085,
          0.04318005219101906,
          0.05097965523600578,
          0.034348014742136,
          0.04867848753929138,
          0.04381381720304489,
          0.044813286513090134,
          0.03498854115605354,
          0.041184552013874054
         ]
        },
        {
         "marker": {
          "color": "darkblue"
         },
         "name": "15dB",
         "showlegend": false,
         "type": "box",
         "y": [
          0.049449656158685684,
          0.048979490995407104,
          0.04243062436580658,
          0.04932670667767525,
          0.04233177751302719,
          0.0385354682803154,
          0.052685536444187164,
          0.03890111669898033,
          0.03746156021952629,
          0.047667041420936584,
          0.03873147815465927,
          0.04377034306526184,
          0.045418448746204376,
          0.05360405519604683,
          0.049010030925273895,
          0.03604229912161827,
          0.03985798358917236,
          0.0461655929684639,
          0.03827175125479698,
          0.04462921991944313,
          0.047859251499176025,
          0.04245378449559212,
          0.04055571183562279,
          0.03877384215593338,
          0.05075300112366676,
          0.040866170078516006,
          0.0524144321680069,
          0.04705717787146568,
          0.042207829654216766,
          0.04091696813702583,
          0.04158621281385422,
          0.042729075998067856,
          0.045408256351947784,
          0.04025004431605339,
          0.04017262905836105,
          0.04401738569140434,
          0.038696322590112686,
          0.04499754309654236,
          0.037933070212602615,
          0.04664885997772217,
          0.054474759846925735,
          0.04854210838675499,
          0.04849458113312721,
          0.037845756858587265,
          0.04117085039615631,
          0.0463729090988636,
          0.03377459570765495,
          0.04460931196808815,
          0.05133486166596413,
          0.0445050485432148,
          0.040017928928136826,
          0.04714225232601166,
          0.038533154875040054,
          0.04280388727784157,
          0.04853975772857666,
          0.04025565832853317,
          0.0498381182551384,
          0.05275922268629074,
          0.04510354623198509,
          0.045103978365659714,
          0.044865384697914124,
          0.03666982427239418,
          0.04839184880256653,
          0.03606623411178589,
          0.04569706693291664,
          0.046170108020305634,
          0.0404474139213562,
          0.03612598776817322,
          0.032357264310121536,
          0.04691760614514351,
          0.04523612931370735,
          0.047101400792598724,
          0.045623864978551865,
          0.0467078797519207,
          0.034630369395017624,
          0.03857440501451492,
          0.03776926174759865,
          0.04494977742433548,
          0.03917016461491585,
          0.04076601192355156,
          0.046480387449264526,
          0.038181185722351074,
          0.044484466314315796,
          0.04349973052740097,
          0.04336012154817581,
          0.04194432497024536,
          0.033398572355508804,
          0.04247736558318138,
          0.04493510350584984,
          0.04460754618048668,
          0.04740248993039131,
          0.043713588267564774,
          0.04598775878548622,
          0.05355342850089073,
          0.0364043153822422,
          0.0511346310377121,
          0.04621449485421181,
          0.047440506517887115,
          0.036899108439683914,
          0.043521735817193985
         ]
        },
        {
         "marker": {
          "color": "darkblue"
         },
         "name": "10dB",
         "showlegend": false,
         "type": "box",
         "y": [
          0.055936697870492935,
          0.05567421019077301,
          0.047573551535606384,
          0.054468587040901184,
          0.04821387305855751,
          0.043445687741041183,
          null,
          null,
          null,
          null,
          0.04394260048866272,
          0.04969855770468712,
          0.05114907771348953,
          0.05884194374084473,
          0.054101571440696716,
          0.041582684963941574,
          0.04501155763864517,
          0.05071233958005905,
          0.0446593277156353,
          0.05033412575721741,
          0.05338921770453453,
          0.04950336366891861,
          0.045086607336997986,
          0.0449608638882637,
          0.055690109729766846,
          0.045670684427022934,
          0.05773594230413437,
          0.052770502865314484,
          0.047467317432165146,
          0.046717237681150436,
          0.04702320694923401,
          0.0475955568253994,
          0.05059197545051575,
          0.04708871245384216,
          0.04502595588564873,
          0.048689957708120346,
          0.044620733708143234,
          0.05070897564291954,
          0.04375853016972542,
          0.052400995045900345,
          0.06011753901839256,
          0.05502058193087578,
          0.05413789302110672,
          0.044631995260715485,
          0.04612593725323677,
          0.052910950034856796,
          0.03945603221654892,
          0.05096585676074028,
          0.05718766525387764,
          0.05143849924206734,
          0.046334750950336456,
          0.05302201956510544,
          0.04411676153540611,
          0.04849664121866226,
          0.05405575409531593,
          0.0457601360976696,
          0.05680385231971741,
          0.05894273892045021,
          0.04992864653468132,
          0.051933713257312775,
          0.05177715793251991,
          0.0424170196056366,
          0.053318560123443604,
          0.041686877608299255,
          0.05156686156988144,
          0.05281386151909828,
          0.04588929936289787,
          0.04113864526152611,
          0.0377388633787632,
          0.05219145119190216,
          0.051063042134046555,
          0.053791165351867676,
          0.05062343180179596,
          0.051982346922159195,
          0.041178371757268906,
          0.0445576012134552,
          0.042665693908929825,
          0.050391871482133865,
          0.04495962709188461,
          0.046057965606451035,
          0.05248229578137398,
          0.042688995599746704,
          0.049937039613723755,
          0.04881766811013222,
          0.049374058842659,
          0.04765547066926956,
          0.03911752626299858,
          0.048652783036231995,
          0.04985332116484642,
          0.05017470940947533,
          0.053010959178209305,
          0.048808712512254715,
          0.050728268921375275,
          0.05899370089173317,
          0.042830463498830795,
          0.05678360536694527,
          0.053521282970905304,
          0.05321416258811951,
          0.04213407635688782,
          0.05037866160273552
         ]
        },
        {
         "marker": {
          "color": "darkblue"
         },
         "name": "5dB",
         "showlegend": false,
         "type": "box",
         "y": [
          null,
          0.0703907161951065,
          null,
          null,
          null,
          0.05772383511066437,
          0.0720377266407013,
          0.059221528470516205,
          0.05792561173439026,
          0.06857286393642426,
          0.05806239694356918,
          0.06272222101688385,
          0.06454144418239594,
          0.07462751120328903,
          0.06844424456357956,
          0.0547390840947628,
          0.05826209858059883,
          0.06309418380260468,
          0.05959368869662285,
          0.0645216777920723,
          0.06786622852087021,
          0.06255440413951874,
          0.058834630995988846,
          0.05703410133719444,
          0.07119777053594589,
          0.059647854417562485,
          0.073459193110466,
          0.0661788135766983,
          0.06158754974603653,
          0.06202416121959686,
          0.060805544257164,
          0.06190084293484688,
          0.06386653333902359,
          0.06163356453180313,
          0.06002466008067131,
          0.06362099200487137,
          0.05911292880773544,
          0.06505367159843445,
          0.05771532282233238,
          0.06754065304994583,
          0.07522248476743698,
          0.06776958703994751,
          0.06826241314411163,
          0.05887678265571594,
          0.06066025793552399,
          0.06893277913331985,
          0.05416712909936905,
          0.064429372549057,
          0.07185811549425125,
          0.0650453045964241,
          0.05973886325955391,
          0.06736484915018082,
          0.05867190659046173,
          0.0640593096613884,
          0.06728675961494446,
          0.05958127975463867,
          0.07066233456134796,
          0.07168079912662506,
          0.06522640585899353,
          0.06698440760374069,
          0.06503783166408539,
          0.057623445987701416,
          0.06846818327903748,
          0.055644843727350235,
          0.0644744485616684,
          0.06790396571159363,
          0.060193274170160294,
          0.0556374192237854,
          0.050487205386161804,
          0.06660578399896622,
          0.06711366027593613,
          0.06898117810487747,
          0.06580235064029694,
          0.06616183370351791,
          0.0567326694726944,
          0.05878908932209015,
          0.057451456785202026,
          0.06442082673311234,
          0.05940539389848709,
          0.06106719374656677,
          0.06723926961421967,
          0.05590072274208069,
          0.06373769789934158,
          0.06421913206577301,
          0.06362085789442062,
          0.06431505084037781,
          0.05289942026138306,
          0.06309866905212402,
          0.06563853472471237,
          0.06465544551610947,
          0.06783303618431091,
          0.06319447606801987,
          0.06428811699151993,
          0.07274822145700455,
          0.057307738810777664,
          0.07220655679702759,
          0.06766743957996368,
          0.06844761967658997,
          0.05651739239692688,
          0.06568117439746857
         ]
        },
        {
         "marker": {
          "color": "darkblue"
         },
         "name": "1dB",
         "showlegend": false,
         "type": "box",
         "y": [
          0.090334452688694,
          0.0909774973988533,
          0.08195223659276962,
          null,
          0.08371122926473618,
          0.07978680729866028,
          0.09100744128227234,
          0.08062435686588287,
          0.07916693389415741,
          0.0899980440735817,
          0.07867155969142914,
          0.08258166909217834,
          0.08511559665203094,
          0.09507662057876587,
          0.08822066336870193,
          0.07645959407091141,
          0.07919000834226608,
          0.0832158625125885,
          0.08114132285118103,
          0.08595175296068192,
          0.09087266772985458,
          0.08444760739803314,
          0.07883720844984055,
          0.0792183056473732,
          0.09259004890918732,
          0.08101688325405121,
          0.09580632299184799,
          0.08818110078573227,
          0.08170823752880096,
          0.08189759403467178,
          0.08101613819599152,
          0.08212949335575104,
          0.08590831607580185,
          0.08281727135181427,
          0.07803260535001755,
          0.08407521992921829,
          0.07991720736026764,
          0.08467010408639908,
          0.07910261303186417,
          0.08851148933172226,
          0.09726262837648392,
          0.08980027586221695,
          0.09047877043485641,
          0.08059995621442795,
          0.08209288865327835,
          0.09033504128456116,
          0.07420967519283295,
          0.08401784300804138,
          0.09336031973361969,
          0.08580977469682693,
          0.08164451271295547,
          0.08983767777681351,
          0.07867637276649475,
          0.08439648896455765,
          0.08746369183063507,
          0.07841486483812332,
          0.09144752472639084,
          0.09300243109464645,
          0.08563505858182907,
          0.08992593735456467,
          0.0877343937754631,
          0.07824230194091797,
          0.08761061728000641,
          0.07400456070899963,
          0.08618747442960739,
          0.08726973831653595,
          0.08054174482822418,
          0.0752246305346489,
          0.07097551971673965,
          0.08765367418527603,
          0.08626779913902283,
          0.08949984610080719,
          0.08642341941595078,
          0.08566952496767044,
          0.07653062045574188,
          0.07810553908348083,
          0.07597602903842926,
          0.0849141925573349,
          0.07905405759811401,
          0.08226979523897171,
          0.08926434814929962,
          0.07539878785610199,
          0.08412531763315201,
          0.0856056958436966,
          0.08469121158123016,
          0.08463769406080246,
          0.07322356849908829,
          0.0842391699552536,
          0.08654990792274475,
          0.0840558335185051,
          0.0875721275806427,
          0.08387752622365952,
          0.08424472063779831,
          0.09333888441324234,
          0.0794602483510971,
          0.09194681793451309,
          0.08874126523733139,
          0.08971821516752243,
          0.07783437520265579,
          0.08663410693407059
         ]
        },
        {
         "marker": {
          "color": "darkblue"
         },
         "name": "MSE",
         "type": "box",
         "visible": true,
         "y": [
          ""
         ]
        },
        {
         "marker": {
          "color": "royalblue"
         },
         "name": "Noiseless",
         "showlegend": false,
         "type": "box",
         "y": [
          null,
          0.8177784085273743,
          0.8282269239425659,
          0.8098676800727844,
          0.8253670334815979,
          0.8284434676170349,
          0.8130056858062744,
          0.821718156337738,
          0.8212782144546509,
          0.8227994441986084,
          0.8189647197723389,
          0.8424792289733887,
          0.8250271081924438,
          0.8206291794776917,
          0.7848908305168152,
          0.8400946259498596,
          0.8229103088378906,
          0.8200361728668213,
          0.8213638067245483,
          0.8254260420799255,
          0.8033689856529236,
          0.8120574951171875,
          0.8122419118881226,
          0.8154013752937317,
          0.7964010834693909,
          0.8206850290298462,
          0.8216387033462524,
          0.8291339874267578,
          0.8226191997528076,
          0.842552900314331,
          0.7985080480575562,
          0.8267399072647095,
          0.8235918283462524,
          0.8345144391059875,
          0.8416230082511902,
          0.811797022819519,
          0.8293222188949585,
          0.8229223489761353,
          0.8239121437072754,
          0.798353374004364,
          0.8101673722267151,
          0.8109422326087952,
          0.8189651966094971,
          0.8312802314758301,
          0.812440037727356,
          0.8121446967124939,
          0.8162094354629517,
          0.8137244582176208,
          0.7994532585144043,
          0.8146530389785767,
          0.8386646509170532,
          0.8168724179267883,
          0.8174882531166077,
          0.8237670660018921,
          0.8034864664077759,
          0.8244121670722961,
          0.8185614943504333,
          0.7981529235839844,
          0.8033729791641235,
          0.8157356381416321,
          0.8229832649230957,
          0.8058382272720337,
          0.8325668573379517,
          0.8113080859184265,
          0.8108304738998413,
          0.8449530601501465,
          0.8213828802108765,
          0.8105394840240479,
          0.84122633934021,
          0.8161606788635254,
          0.791591465473175,
          0.8059704303741455,
          0.820771336555481,
          0.7949178218841553,
          0.8390133380889893,
          0.8084879517555237,
          0.8150137066841125,
          0.8207855820655823,
          0.8343244194984436,
          0.8279199004173279,
          0.8106953501701355,
          0.8157081604003906,
          0.83148592710495,
          0.8047811985015869,
          0.8236726522445679,
          0.8340768218040466,
          0.8261498808860779,
          0.8264486789703369,
          0.8230827450752258,
          0.8068645000457764,
          0.8114064931869507,
          0.8275847434997559,
          0.8156771659851074,
          0.7991939783096313,
          0.8155853152275085,
          0.794349193572998,
          0.8206004500389099,
          0.8183509707450867,
          0.8125255703926086,
          0.833780825138092
         ]
        },
        {
         "marker": {
          "color": "royalblue"
         },
         "name": "15dB",
         "showlegend": false,
         "type": "box",
         "y": [
          0.7635315656661987,
          0.765687882900238,
          0.7774389386177063,
          0.7482386827468872,
          0.7699683904647827,
          0.7733678221702576,
          0.7575645446777344,
          0.7699814438819885,
          0.7682803273200989,
          0.7607331871986389,
          0.765094518661499,
          0.7890713214874268,
          0.766284167766571,
          0.7602171301841736,
          0.7289809584617615,
          0.783169686794281,
          0.7688235640525818,
          0.7618449330329895,
          0.7527221441268921,
          0.7677607536315918,
          0.7444035410881042,
          0.7619920969009399,
          0.7513188123703003,
          0.7685203552246094,
          0.7419024109840393,
          0.7633996605873108,
          0.7380601763725281,
          0.7566890120506287,
          0.7579622864723206,
          0.7866380214691162,
          0.7563523650169373,
          0.7651270031929016,
          0.7726176977157593,
          0.7761701941490173,
          0.7902717590332031,
          0.7520860433578491,
          0.7641175985336304,
          0.7599541544914246,
          0.7663255929946899,
          0.7460694909095764,
          0.7594059705734253,
          0.7555391192436218,
          0.7624587416648865,
          0.7724881768226624,
          0.7700321674346924,
          0.744933009147644,
          0.7658814787864685,
          0.7646922469139099,
          0.7371630072593689,
          0.7602201104164124,
          0.7995588779449463,
          0.7394198775291443,
          0.769229531288147,
          0.7661906480789185,
          0.7373504042625427,
          0.7727936506271362,
          0.7619375586509705,
          0.7417711019515991,
          0.7469215393066406,
          0.752235472202301,
          0.760752260684967,
          0.7632167935371399,
          0.7659245133399963,
          0.7600278258323669,
          0.767223060131073,
          0.7901297211647034,
          0.7648754119873047,
          0.7584369778633118,
          0.7931466698646545,
          0.7507802844047546,
          0.737358033657074,
          0.7521980404853821,
          0.7569766044616699,
          0.740511953830719,
          0.7799296379089355,
          0.7609075903892517,
          0.7683432698249817,
          0.7668460607528687,
          0.7744933366775513,
          0.7619035243988037,
          0.7578250169754028,
          0.7673490643501282,
          0.7715129852294922,
          0.7492333054542542,
          0.7670168280601501,
          0.7665918469429016,
          0.7825181484222412,
          0.7588173747062683,
          0.7637590765953064,
          0.7573339939117432,
          0.7551798224449158,
          0.7716826796531677,
          0.7537484765052795,
          0.731757402420044,
          0.7621762752532959,
          0.7399283051490784,
          0.756914496421814,
          0.7520597577095032,
          0.778306782245636,
          0.7807345390319824
         ]
        },
        {
         "marker": {
          "color": "royalblue"
         },
         "name": "10dB",
         "showlegend": false,
         "type": "box",
         "y": [
          0.6826750040054321,
          0.6825545430183411,
          0.7002206444740295,
          0.6714345812797546,
          0.6983224749565125,
          0.6990792751312256,
          null,
          null,
          null,
          null,
          0.679527223110199,
          0.7023875713348389,
          0.6915902495384216,
          0.680874228477478,
          0.6672030687332153,
          0.7138303518295288,
          0.6884109377861023,
          0.6795055866241455,
          0.678417980670929,
          0.6969623565673828,
          0.674031674861908,
          0.6860373020172119,
          0.6877833008766174,
          0.696976900100708,
          0.6668074727058411,
          0.6923920512199402,
          0.6506527662277222,
          0.6741909980773926,
          0.681684136390686,
          0.7028884887695312,
          0.6922326683998108,
          0.690554678440094,
          0.6960402131080627,
          0.6910229325294495,
          0.7091194987297058,
          0.681155800819397,
          0.6905934810638428,
          0.6842572093009949,
          0.6942539215087891,
          0.6818422675132751,
          0.6790910959243774,
          0.6760897040367126,
          0.6954359412193298,
          0.6898680925369263,
          0.7017630934715271,
          0.6654728055000305,
          0.6876016855239868,
          0.6872100234031677,
          0.660875141620636,
          0.6764762997627258,
          0.7214582562446594,
          0.6562137007713318,
          0.7002766132354736,
          0.6889442205429077,
          0.6609793901443481,
          0.694633960723877,
          0.680206835269928,
          0.6674702167510986,
          0.6858758330345154,
          0.6777794361114502,
          0.6864405870437622,
          0.7061387896537781,
          0.6866868734359741,
          0.6933330297470093,
          0.6997162103652954,
          0.7161972522735596,
          0.685508668422699,
          0.6895274519920349,
          0.719045877456665,
          0.6719481945037842,
          0.6637730598449707,
          0.6717967391014099,
          0.6878517270088196,
          0.6690620183944702,
          0.6953742504119873,
          0.6909997463226318,
          0.6997054219245911,
          0.690756618976593,
          0.7058393955230713,
          0.6824248433113098,
          0.6790547966957092,
          0.7010949850082397,
          0.6977459788322449,
          0.6835744976997375,
          0.6911234855651855,
          0.6919711828231812,
          0.7279106378555298,
          0.6863528490066528,
          0.6994320750236511,
          0.6845604181289673,
          0.6843384504318237,
          0.7056838870048523,
          0.6805006265640259,
          0.6545902490615845,
          0.6921966075897217,
          0.6648268699645996,
          0.6813190579414368,
          0.6713914275169373,
          0.7197097539901733,
          0.6982621550559998
         ]
        },
        {
         "marker": {
          "color": "royalblue"
         },
         "name": "5dB",
         "showlegend": false,
         "type": "box",
         "y": [
          null,
          0.5592948794364929,
          null,
          null,
          null,
          0.5887828469276428,
          0.5474634170532227,
          0.5747964978218079,
          0.5932239294052124,
          0.5604958534240723,
          0.5720987319946289,
          0.5702962279319763,
          0.5556073784828186,
          0.5420129895210266,
          0.5459008812904358,
          0.5941401124000549,
          0.5671840906143188,
          0.5496833920478821,
          0.5626490712165833,
          0.5753470659255981,
          0.5552052855491638,
          0.5782817006111145,
          0.5680139660835266,
          0.5776052474975586,
          0.5533289909362793,
          0.5655419826507568,
          0.5305591225624084,
          0.5529592633247375,
          0.560001015663147,
          0.5762637853622437,
          0.5807024836540222,
          0.5662464499473572,
          0.5764788389205933,
          0.5618323683738708,
          0.5812112092971802,
          0.5685182213783264,
          0.5667235851287842,
          0.5552765130996704,
          0.573483407497406,
          0.5498310327529907,
          0.5573191046714783,
          0.5552361607551575,
          0.5742557644844055,
          0.5809578895568848,
          0.5894176363945007,
          0.5460855960845947,
          0.5722631812095642,
          0.5682462453842163,
          0.5444561839103699,
          0.5540469288825989,
          0.6018757820129395,
          0.5313586592674255,
          0.5800865888595581,
          0.5756624341011047,
          0.5489855408668518,
          0.5807712078094482,
          0.5608884692192078,
          0.545255720615387,
          0.5673444867134094,
          0.5610558986663818,
          0.5586085915565491,
          0.5932450294494629,
          0.5647096633911133,
          0.5814930200576782,
          0.5805137753486633,
          0.5760430097579956,
          0.5668666958808899,
          0.5757113099098206,
          0.5985182523727417,
          0.557125449180603,
          0.5510213375091553,
          0.555147647857666,
          0.5650815367698669,
          0.554621160030365,
          0.5738294720649719,
          0.5787923336029053,
          0.5867885947227478,
          0.5704638957977295,
          0.5756189227104187,
          0.5556435585021973,
          0.5459171533584595,
          0.5870200991630554,
          0.575026273727417,
          0.5603229999542236,
          0.5593253970146179,
          0.5662975907325745,
          0.6159858703613281,
          0.5620011687278748,
          0.5641612410545349,
          0.5751944780349731,
          0.5598766803741455,
          0.5834503769874573,
          0.5646697282791138,
          0.5352992415428162,
          0.577544629573822,
          0.5467213988304138,
          0.5660072565078735,
          0.5522879958152771,
          0.6013107895851135,
          0.5714184045791626
         ]
        },
        {
         "marker": {
          "color": "royalblue"
         },
         "name": "1dB",
         "showlegend": false,
         "type": "box",
         "y": [
          0.43617308139801025,
          0.42932701110839844,
          0.45140591263771057,
          null,
          0.44081351161003113,
          0.45678943395614624,
          0.4201277494430542,
          0.44511985778808594,
          0.46410515904426575,
          0.4283958077430725,
          0.43573710322380066,
          0.4385507106781006,
          0.440283864736557,
          0.4273219406604767,
          0.438793420791626,
          0.4629255533218384,
          0.4450153112411499,
          0.4208469092845917,
          0.44213104248046875,
          0.4482477605342865,
          0.42841559648513794,
          0.4471396207809448,
          0.44447749853134155,
          0.4384974539279938,
          0.4303675591945648,
          0.44471117854118347,
          0.4036295413970947,
          0.4303591251373291,
          0.43886908888816833,
          0.4401552677154541,
          0.46099045872688293,
          0.4399600625038147,
          0.44263625144958496,
          0.4431428909301758,
          0.45685288310050964,
          0.4498533606529236,
          0.43716979026794434,
          0.42883533239364624,
          0.44863831996917725,
          0.43147072196006775,
          0.4234914481639862,
          0.4340270161628723,
          0.42188727855682373,
          0.4554383158683777,
          0.47042763233184814,
          0.4200762212276459,
          0.4476458728313446,
          0.44349080324172974,
          0.4216027557849884,
          0.4260714054107666,
          0.4555072784423828,
          0.41275250911712646,
          0.4624985456466675,
          0.43409329652786255,
          0.4186890125274658,
          0.45523780584335327,
          0.442851722240448,
          0.4226059317588806,
          0.448394775390625,
          0.43384549021720886,
          0.4306991696357727,
          0.4595997929573059,
          0.4424552619457245,
          0.45777061581611633,
          0.44779136776924133,
          0.4400549829006195,
          0.4413782060146332,
          0.4552610516548157,
          0.46279609203338623,
          0.4413009285926819,
          0.4260089099407196,
          0.4305533170700073,
          0.44059234857559204,
          0.4370531439781189,
          0.44778990745544434,
          0.44647830724716187,
          0.45415470004081726,
          0.4523521363735199,
          0.4512370824813843,
          0.43210044503211975,
          0.42463618516921997,
          0.458446741104126,
          0.43936607241630554,
          0.4387698769569397,
          0.43320178985595703,
          0.4434471130371094,
          0.4852069914340973,
          0.43330588936805725,
          0.44047316908836365,
          0.43699127435684204,
          0.4426251947879791,
          0.44802674651145935,
          0.4317512512207031,
          0.40770313143730164,
          0.45245495438575745,
          0.4179561138153076,
          0.4434089660644531,
          0.4351530373096466,
          0.48320725560188293,
          0.44031697511672974
         ]
        },
        {
         "marker": {
          "color": "royalblue"
         },
         "name": "SSIM",
         "type": "box",
         "visible": true,
         "y": [
          ""
         ]
        }
       ],
       "layout": {
        "autosize": false,
        "font": {
         "size": 30
        },
        "height": 900,
        "template": {
         "data": {
          "bar": [
           {
            "error_x": {
             "color": "#2a3f5f"
            },
            "error_y": {
             "color": "#2a3f5f"
            },
            "marker": {
             "line": {
              "color": "#E5ECF6",
              "width": 0.5
             },
             "pattern": {
              "fillmode": "overlay",
              "size": 10,
              "solidity": 0.2
             }
            },
            "type": "bar"
           }
          ],
          "barpolar": [
           {
            "marker": {
             "line": {
              "color": "#E5ECF6",
              "width": 0.5
             },
             "pattern": {
              "fillmode": "overlay",
              "size": 10,
              "solidity": 0.2
             }
            },
            "type": "barpolar"
           }
          ],
          "carpet": [
           {
            "aaxis": {
             "endlinecolor": "#2a3f5f",
             "gridcolor": "white",
             "linecolor": "white",
             "minorgridcolor": "white",
             "startlinecolor": "#2a3f5f"
            },
            "baxis": {
             "endlinecolor": "#2a3f5f",
             "gridcolor": "white",
             "linecolor": "white",
             "minorgridcolor": "white",
             "startlinecolor": "#2a3f5f"
            },
            "type": "carpet"
           }
          ],
          "choropleth": [
           {
            "colorbar": {
             "outlinewidth": 0,
             "ticks": ""
            },
            "type": "choropleth"
           }
          ],
          "contour": [
           {
            "colorbar": {
             "outlinewidth": 0,
             "ticks": ""
            },
            "colorscale": [
             [
              0,
              "#0d0887"
             ],
             [
              0.1111111111111111,
              "#46039f"
             ],
             [
              0.2222222222222222,
              "#7201a8"
             ],
             [
              0.3333333333333333,
              "#9c179e"
             ],
             [
              0.4444444444444444,
              "#bd3786"
             ],
             [
              0.5555555555555556,
              "#d8576b"
             ],
             [
              0.6666666666666666,
              "#ed7953"
             ],
             [
              0.7777777777777778,
              "#fb9f3a"
             ],
             [
              0.8888888888888888,
              "#fdca26"
             ],
             [
              1,
              "#f0f921"
             ]
            ],
            "type": "contour"
           }
          ],
          "contourcarpet": [
           {
            "colorbar": {
             "outlinewidth": 0,
             "ticks": ""
            },
            "type": "contourcarpet"
           }
          ],
          "heatmap": [
           {
            "colorbar": {
             "outlinewidth": 0,
             "ticks": ""
            },
            "colorscale": [
             [
              0,
              "#0d0887"
             ],
             [
              0.1111111111111111,
              "#46039f"
             ],
             [
              0.2222222222222222,
              "#7201a8"
             ],
             [
              0.3333333333333333,
              "#9c179e"
             ],
             [
              0.4444444444444444,
              "#bd3786"
             ],
             [
              0.5555555555555556,
              "#d8576b"
             ],
             [
              0.6666666666666666,
              "#ed7953"
             ],
             [
              0.7777777777777778,
              "#fb9f3a"
             ],
             [
              0.8888888888888888,
              "#fdca26"
             ],
             [
              1,
              "#f0f921"
             ]
            ],
            "type": "heatmap"
           }
          ],
          "heatmapgl": [
           {
            "colorbar": {
             "outlinewidth": 0,
             "ticks": ""
            },
            "colorscale": [
             [
              0,
              "#0d0887"
             ],
             [
              0.1111111111111111,
              "#46039f"
             ],
             [
              0.2222222222222222,
              "#7201a8"
             ],
             [
              0.3333333333333333,
              "#9c179e"
             ],
             [
              0.4444444444444444,
              "#bd3786"
             ],
             [
              0.5555555555555556,
              "#d8576b"
             ],
             [
              0.6666666666666666,
              "#ed7953"
             ],
             [
              0.7777777777777778,
              "#fb9f3a"
             ],
             [
              0.8888888888888888,
              "#fdca26"
             ],
             [
              1,
              "#f0f921"
             ]
            ],
            "type": "heatmapgl"
           }
          ],
          "histogram": [
           {
            "marker": {
             "pattern": {
              "fillmode": "overlay",
              "size": 10,
              "solidity": 0.2
             }
            },
            "type": "histogram"
           }
          ],
          "histogram2d": [
           {
            "colorbar": {
             "outlinewidth": 0,
             "ticks": ""
            },
            "colorscale": [
             [
              0,
              "#0d0887"
             ],
             [
              0.1111111111111111,
              "#46039f"
             ],
             [
              0.2222222222222222,
              "#7201a8"
             ],
             [
              0.3333333333333333,
              "#9c179e"
             ],
             [
              0.4444444444444444,
              "#bd3786"
             ],
             [
              0.5555555555555556,
              "#d8576b"
             ],
             [
              0.6666666666666666,
              "#ed7953"
             ],
             [
              0.7777777777777778,
              "#fb9f3a"
             ],
             [
              0.8888888888888888,
              "#fdca26"
             ],
             [
              1,
              "#f0f921"
             ]
            ],
            "type": "histogram2d"
           }
          ],
          "histogram2dcontour": [
           {
            "colorbar": {
             "outlinewidth": 0,
             "ticks": ""
            },
            "colorscale": [
             [
              0,
              "#0d0887"
             ],
             [
              0.1111111111111111,
              "#46039f"
             ],
             [
              0.2222222222222222,
              "#7201a8"
             ],
             [
              0.3333333333333333,
              "#9c179e"
             ],
             [
              0.4444444444444444,
              "#bd3786"
             ],
             [
              0.5555555555555556,
              "#d8576b"
             ],
             [
              0.6666666666666666,
              "#ed7953"
             ],
             [
              0.7777777777777778,
              "#fb9f3a"
             ],
             [
              0.8888888888888888,
              "#fdca26"
             ],
             [
              1,
              "#f0f921"
             ]
            ],
            "type": "histogram2dcontour"
           }
          ],
          "mesh3d": [
           {
            "colorbar": {
             "outlinewidth": 0,
             "ticks": ""
            },
            "type": "mesh3d"
           }
          ],
          "parcoords": [
           {
            "line": {
             "colorbar": {
              "outlinewidth": 0,
              "ticks": ""
             }
            },
            "type": "parcoords"
           }
          ],
          "pie": [
           {
            "automargin": true,
            "type": "pie"
           }
          ],
          "scatter": [
           {
            "fillpattern": {
             "fillmode": "overlay",
             "size": 10,
             "solidity": 0.2
            },
            "type": "scatter"
           }
          ],
          "scatter3d": [
           {
            "line": {
             "colorbar": {
              "outlinewidth": 0,
              "ticks": ""
             }
            },
            "marker": {
             "colorbar": {
              "outlinewidth": 0,
              "ticks": ""
             }
            },
            "type": "scatter3d"
           }
          ],
          "scattercarpet": [
           {
            "marker": {
             "colorbar": {
              "outlinewidth": 0,
              "ticks": ""
             }
            },
            "type": "scattercarpet"
           }
          ],
          "scattergeo": [
           {
            "marker": {
             "colorbar": {
              "outlinewidth": 0,
              "ticks": ""
             }
            },
            "type": "scattergeo"
           }
          ],
          "scattergl": [
           {
            "marker": {
             "colorbar": {
              "outlinewidth": 0,
              "ticks": ""
             }
            },
            "type": "scattergl"
           }
          ],
          "scattermapbox": [
           {
            "marker": {
             "colorbar": {
              "outlinewidth": 0,
              "ticks": ""
             }
            },
            "type": "scattermapbox"
           }
          ],
          "scatterpolar": [
           {
            "marker": {
             "colorbar": {
              "outlinewidth": 0,
              "ticks": ""
             }
            },
            "type": "scatterpolar"
           }
          ],
          "scatterpolargl": [
           {
            "marker": {
             "colorbar": {
              "outlinewidth": 0,
              "ticks": ""
             }
            },
            "type": "scatterpolargl"
           }
          ],
          "scatterternary": [
           {
            "marker": {
             "colorbar": {
              "outlinewidth": 0,
              "ticks": ""
             }
            },
            "type": "scatterternary"
           }
          ],
          "surface": [
           {
            "colorbar": {
             "outlinewidth": 0,
             "ticks": ""
            },
            "colorscale": [
             [
              0,
              "#0d0887"
             ],
             [
              0.1111111111111111,
              "#46039f"
             ],
             [
              0.2222222222222222,
              "#7201a8"
             ],
             [
              0.3333333333333333,
              "#9c179e"
             ],
             [
              0.4444444444444444,
              "#bd3786"
             ],
             [
              0.5555555555555556,
              "#d8576b"
             ],
             [
              0.6666666666666666,
              "#ed7953"
             ],
             [
              0.7777777777777778,
              "#fb9f3a"
             ],
             [
              0.8888888888888888,
              "#fdca26"
             ],
             [
              1,
              "#f0f921"
             ]
            ],
            "type": "surface"
           }
          ],
          "table": [
           {
            "cells": {
             "fill": {
              "color": "#EBF0F8"
             },
             "line": {
              "color": "white"
             }
            },
            "header": {
             "fill": {
              "color": "#C8D4E3"
             },
             "line": {
              "color": "white"
             }
            },
            "type": "table"
           }
          ]
         },
         "layout": {
          "annotationdefaults": {
           "arrowcolor": "#2a3f5f",
           "arrowhead": 0,
           "arrowwidth": 1
          },
          "autotypenumbers": "strict",
          "coloraxis": {
           "colorbar": {
            "outlinewidth": 0,
            "ticks": ""
           }
          },
          "colorscale": {
           "diverging": [
            [
             0,
             "#8e0152"
            ],
            [
             0.1,
             "#c51b7d"
            ],
            [
             0.2,
             "#de77ae"
            ],
            [
             0.3,
             "#f1b6da"
            ],
            [
             0.4,
             "#fde0ef"
            ],
            [
             0.5,
             "#f7f7f7"
            ],
            [
             0.6,
             "#e6f5d0"
            ],
            [
             0.7,
             "#b8e186"
            ],
            [
             0.8,
             "#7fbc41"
            ],
            [
             0.9,
             "#4d9221"
            ],
            [
             1,
             "#276419"
            ]
           ],
           "sequential": [
            [
             0,
             "#0d0887"
            ],
            [
             0.1111111111111111,
             "#46039f"
            ],
            [
             0.2222222222222222,
             "#7201a8"
            ],
            [
             0.3333333333333333,
             "#9c179e"
            ],
            [
             0.4444444444444444,
             "#bd3786"
            ],
            [
             0.5555555555555556,
             "#d8576b"
            ],
            [
             0.6666666666666666,
             "#ed7953"
            ],
            [
             0.7777777777777778,
             "#fb9f3a"
            ],
            [
             0.8888888888888888,
             "#fdca26"
            ],
            [
             1,
             "#f0f921"
            ]
           ],
           "sequentialminus": [
            [
             0,
             "#0d0887"
            ],
            [
             0.1111111111111111,
             "#46039f"
            ],
            [
             0.2222222222222222,
             "#7201a8"
            ],
            [
             0.3333333333333333,
             "#9c179e"
            ],
            [
             0.4444444444444444,
             "#bd3786"
            ],
            [
             0.5555555555555556,
             "#d8576b"
            ],
            [
             0.6666666666666666,
             "#ed7953"
            ],
            [
             0.7777777777777778,
             "#fb9f3a"
            ],
            [
             0.8888888888888888,
             "#fdca26"
            ],
            [
             1,
             "#f0f921"
            ]
           ]
          },
          "colorway": [
           "#636efa",
           "#EF553B",
           "#00cc96",
           "#ab63fa",
           "#FFA15A",
           "#19d3f3",
           "#FF6692",
           "#B6E880",
           "#FF97FF",
           "#FECB52"
          ],
          "font": {
           "color": "#2a3f5f"
          },
          "geo": {
           "bgcolor": "white",
           "lakecolor": "white",
           "landcolor": "#E5ECF6",
           "showlakes": true,
           "showland": true,
           "subunitcolor": "white"
          },
          "hoverlabel": {
           "align": "left"
          },
          "hovermode": "closest",
          "mapbox": {
           "style": "light"
          },
          "paper_bgcolor": "white",
          "plot_bgcolor": "#E5ECF6",
          "polar": {
           "angularaxis": {
            "gridcolor": "white",
            "linecolor": "white",
            "ticks": ""
           },
           "bgcolor": "#E5ECF6",
           "radialaxis": {
            "gridcolor": "white",
            "linecolor": "white",
            "ticks": ""
           }
          },
          "scene": {
           "xaxis": {
            "backgroundcolor": "#E5ECF6",
            "gridcolor": "white",
            "gridwidth": 2,
            "linecolor": "white",
            "showbackground": true,
            "ticks": "",
            "zerolinecolor": "white"
           },
           "yaxis": {
            "backgroundcolor": "#E5ECF6",
            "gridcolor": "white",
            "gridwidth": 2,
            "linecolor": "white",
            "showbackground": true,
            "ticks": "",
            "zerolinecolor": "white"
           },
           "zaxis": {
            "backgroundcolor": "#E5ECF6",
            "gridcolor": "white",
            "gridwidth": 2,
            "linecolor": "white",
            "showbackground": true,
            "ticks": "",
            "zerolinecolor": "white"
           }
          },
          "shapedefaults": {
           "line": {
            "color": "#2a3f5f"
           }
          },
          "ternary": {
           "aaxis": {
            "gridcolor": "white",
            "linecolor": "white",
            "ticks": ""
           },
           "baxis": {
            "gridcolor": "white",
            "linecolor": "white",
            "ticks": ""
           },
           "bgcolor": "#E5ECF6",
           "caxis": {
            "gridcolor": "white",
            "linecolor": "white",
            "ticks": ""
           }
          },
          "title": {
           "x": 0.05
          },
          "xaxis": {
           "automargin": true,
           "gridcolor": "white",
           "linecolor": "white",
           "ticks": "",
           "title": {
            "standoff": 15
           },
           "zerolinecolor": "white",
           "zerolinewidth": 2
          },
          "yaxis": {
           "automargin": true,
           "gridcolor": "white",
           "linecolor": "white",
           "ticks": "",
           "title": {
            "standoff": 15
           },
           "zerolinecolor": "white",
           "zerolinewidth": 2
          }
         }
        },
        "width": 1200,
        "xaxis": {
         "autorange": true,
         "range": [
          -0.5,
          4.5
         ],
         "type": "category"
        },
        "yaxis": {
         "nticks": 20,
         "range": [
          0,
          1
         ],
         "tickmode": "auto",
         "title": {
          "font": {
           "size": 30
          }
         },
         "type": "linear"
        }
       }
      },
      "image/png": "[encoded data removed]"
     },
     "metadata": {},
     "output_type": "display_data"
    }
   ],
   "source": [
    "m0 = result_dict['noiseless_results'].mse_noiseless\n",
    "s0 = result_dict['noiseless_results'].ssim_noiseless\n",
    "\n",
    "m1 = result_dict['1_results'].mse_1\n",
    "s1 = result_dict['1_results'].ssim_1\n",
    "\n",
    "m5 = result_dict['5_results'].mse_5\n",
    "s5 = result_dict['5_results'].ssim_5\n",
    "\n",
    "m10 = result_dict['10_results'].mse_10\n",
    "s10 = result_dict['10_results'].ssim_10\n",
    "\n",
    "m15 = result_dict['15_results'].mse_15\n",
    "s15 = result_dict['15_results'].ssim_15\n",
    "\n",
    "fig = go.Figure()\n",
    "fig.add_trace(go.Box(y=m0, name='Noiseless', marker_color = 'darkblue', showlegend=False))\n",
    "fig.add_trace(go.Box(y=m15, name='15dB', marker_color = 'darkblue',showlegend=False))\n",
    "fig.add_trace(go.Box(y=m10, name='10dB', marker_color = 'darkblue',showlegend=False))\n",
    "fig.add_trace(go.Box(y=m5, name='5dB', marker_color = 'darkblue',showlegend=False))\n",
    "fig.add_trace(go.Box(y=m1, name='1dB', marker_color = 'darkblue',showlegend=False))\n",
    "\n",
    "\n",
    "fig.add_traces(go.Box(y=[''], name='MSE', marker_color = 'darkblue', visible='legendonly'))\n",
    "\n",
    "fig.add_trace(go.Box(y=s0, name = 'Noiseless',marker_color = 'royalblue', showlegend=False))\n",
    "fig.add_trace(go.Box(y=s15, name = '15dB',marker_color = 'royalblue',showlegend=False))\n",
    "fig.add_trace(go.Box(y=s10, name = '10dB',marker_color = 'royalblue',showlegend=False))\n",
    "fig.add_trace(go.Box(y=s5, name = '5dB',marker_color = 'royalblue',showlegend=False))\n",
    "fig.add_trace(go.Box(y=s1, name = '1dB',marker_color = 'royalblue',showlegend=False))\n",
    "fig.add_trace(go.Box(y=[''], name='SSIM', marker_color = 'royalblue', visible='legendonly'))\n",
    "\n",
    "\n",
    "fig.update_layout(\n",
    "    # title = '',\n",
    "    autosize=False,\n",
    "    width=1200,\n",
    "    height=900,\n",
    "    yaxis=dict(\n",
    "        # title_text=\"Y-axis Title\",\n",
    "        # ticktext=[\"Very long label\", \"long label\", \"3\", \"label\"],\n",
    "        # tickvals=,\n",
    "        nticks=20,\n",
    "        tickmode=\"auto\",\n",
    "        titlefont=dict(size=30),\n",
    "    ),\n",
    "    yaxis_range=[0,1],\n",
    "    font=dict(size=30),\n",
    "    # legend_title_text='Custom Legend Title',\n",
    "    # legend=dict(\n",
    "    #     x=0,\n",
    "    #     y=1,\n",
    "    #     traceorder='normal',\n",
    "    #     font=dict(\n",
    "    #         family='sans-serif',\n",
    "    #         size=12,\n",
    "    #         color='black'\n",
    "    #     ),\n",
    "    # # bgcolor='LightSteelBlue',\n",
    "    # bordercolor='Black',\n",
    "    # borderwidth=2)\n",
    ")\n",
    "fig.show(renderer=\"jupyterlab\")\n",
    "# fig.write_image(model.RUN_DIR + f'boxplot_metrics_snr_{model.params[\"snr\"]}.png')\n",
    "# fig.write_image(model.RUN_DIR + f'FashionMNIST_all_noise_levels_results.png')"
   ]
  },
  {
   "cell_type": "markdown",
   "id": "8d3a5563-9f72-4d98-b047-9207a18f5cd5",
   "metadata": {
    "jp-MarkdownHeadingCollapsed": true
   },
   "source": [
    "# Deconvolution method"
   ]
  },
  {
   "cell_type": "code",
   "execution_count": 23,
   "id": "77d65a79-5611-4b56-9664-6165ce395a20",
   "metadata": {},
   "outputs": [],
   "source": [
    "D = testset.dataset[10]['img']\n",
    "fft_D = torch.fft.fft2(D.squeeze(0))\n",
    "fft_A = torch.fft.fft2(torch.Tensor(train_data.A))\n",
    "invert = torch.fft.ifft2(fft_D/fft_A)\n",
    "# recenter = torch.roll(invert, [int((model.img_size+1)/2),int((model.img_size+1)/2)], dims=(0,1))\n",
    "recenter = torch.roll(invert, [round((model.img_size-1)/2),round((model.img_size-1)/2)], dims=(0,1))"
   ]
  },
  {
   "cell_type": "code",
   "execution_count": 24,
   "id": "4fc30bb5-ba97-4932-bb92-3335a87bf523",
   "metadata": {},
   "outputs": [
    {
     "data": {
      "image/png": "[encoded data removed]",
      "text/plain": [
       "<Figure size 2000x700 with 8 Axes>"
      ]
     },
     "metadata": {},
     "output_type": "display_data"
    }
   ],
   "source": [
    "fig, axs = plt.subplots(1,4, figsize= (20,7))\n",
    "axs = axs.ravel()\n",
    "sns.heatmap(fft_D.real, ax=axs[0], cmap='gray')\n",
    "sns.heatmap(fft_A.real, ax=axs[1], cmap='gray')\n",
    "sns.heatmap(invert.real, ax=axs[2], cmap='gray')\n",
    "sns.heatmap(recenter.real, ax=axs[3], cmap='gray')\n",
    "plt.show()"
   ]
  },
  {
   "cell_type": "markdown",
   "id": "f0142e25-a091-430d-acac-5a17be1d1fea",
   "metadata": {},
   "source": [
    "# Rotate the weights"
   ]
  },
  {
   "cell_type": "code",
   "execution_count": 43,
   "id": "60bdfa7f-37ad-4e49-95fe-7f355909a7c4",
   "metadata": {},
   "outputs": [
    {
     "data": {
      "text/plain": [
       "<matplotlib.image.AxesImage at 0x1675ffbd0>"
      ]
     },
     "execution_count": 43,
     "metadata": {},
     "output_type": "execute_result"
    },
    {
     "data": {
      "image/png": "[encoded data removed]",
      "text/plain": [
       "<Figure size 1700x800 with 1 Axes>"
      ]
     },
     "metadata": {},
     "output_type": "display_data"
    }
   ],
   "source": [
    "# Rotate the weights 180 degrees\n",
    "weight_map = list(model.parameters())[0].squeeze(0).squeeze(0).detach()\n",
    "w_rot90 = torch.rot90(torch.Tensor(weight_map), 1, [0, 1])\n",
    "w_rot180 = torch.rot90(w_rot90, 1, [0, 1])\n",
    "plt.imshow(w_rot180, cmap='gray')"
   ]
  },
  {
   "cell_type": "code",
   "execution_count": 8,
   "id": "a8dc5f15-7cdd-4d60-b4dd-08097df39b5f",
   "metadata": {},
   "outputs": [],
   "source": [
    "from MURA import FFT_convolve"
   ]
  },
  {
   "cell_type": "code",
   "execution_count": 44,
   "id": "d0572331-f675-4a43-8656-fb48b76980c4",
   "metadata": {},
   "outputs": [
    {
     "data": {
      "text/plain": [
       "<Axes: >"
      ]
     },
     "execution_count": 44,
     "metadata": {},
     "output_type": "execute_result"
    },
    {
     "data": {
      "image/png": "[encoded data removed]",
      "text/plain": [
       "<Figure size 1500x700 with 4 Axes>"
      ]
     },
     "metadata": {},
     "output_type": "display_data"
    }
   ],
   "source": [
    "convolve_G_A = torch.Tensor(FFT_convolve(train_data.G, train_data.A))\n",
    "convolve_G_L_A = torch.Tensor(FFT_convolve(w_rot180.numpy(), train_data.A))\n",
    "\n",
    "fig, axs = plt.subplots(1,2, figsize=(15,7))\n",
    "axs = axs.ravel()\n",
    "sns.heatmap(convolve_G_L_A, ax= axs[0])\n",
    "sns.heatmap(convolve_G_A, ax= axs[1])"
   ]
  },
  {
   "cell_type": "code",
   "execution_count": 28,
   "id": "c70b6ff0-3648-4042-8979-bbf5d0725385",
   "metadata": {},
   "outputs": [],
   "source": [
    "padded_ex = torch.nn.functional.pad(loaders['train'].dataset[idx]['target'].unsqueeze(0), pad=(11,11,11,11), mode='circular')\n",
    "padded_ex = padded_ex.squeeze(0).squeeze(0)"
   ]
  },
  {
   "cell_type": "code",
   "execution_count": 34,
   "id": "576aa903-ae03-4e34-a87a-9657029465c9",
   "metadata": {},
   "outputs": [
    {
     "data": {
      "image/png": "[encoded data removed]",
      "text/plain": [
       "<Figure size 640x480 with 1 Axes>"
      ]
     },
     "metadata": {},
     "output_type": "display_data"
    }
   ],
   "source": [
    "plt.imshow(padded_ex, cmap='gray')\n",
    "plt.show()"
   ]
  },
  {
   "cell_type": "markdown",
   "id": "e79d7838-9afd-4406-8c46-4627e82842e5",
   "metadata": {
    "jp-MarkdownHeadingCollapsed": true
   },
   "source": [
    "# Parking code here"
   ]
  },
  {
   "cell_type": "code",
   "execution_count": 31,
   "id": "f5993155-81f8-4644-85d3-7f5de3b91f01",
   "metadata": {},
   "outputs": [
    {
     "data": {
      "image/png": "[encoded data removed]",
      "text/plain": [
       "<Figure size 1700x800 with 20 Axes>"
      ]
     },
     "metadata": {},
     "output_type": "display_data"
    }
   ],
   "source": [
    "# Change plotting parameters\n",
    "plt.rcParams.update({\n",
    "    \"text.usetex\": False,\n",
    "    \"font.family\": \"Times\", #\"Computer Modern Serif\"\n",
    "    \"figure.figsize\" : [17,8],\n",
    "})\n",
    "# Printing 25 random images from the test dataset\n",
    "random_samples = np.random.randint(1, len(test_data), (5))\n",
    "count = 0\n",
    "for idx in random_samples: #range(random_samples.shape[0]):\n",
    "    plt.subplot(2, 5, count + 1)\n",
    "    sns.heatmap(loaders['test'].dataset[idx]['img'].squeeze(0), cmap='gray')\n",
    "    plt.title(f'Encoded image: {loaders[\"test\"].dataset[idx][\"digit\"]}')\n",
    "    plt.axis('off')\n",
    "    plt.subplot(2, 5, count + 6)\n",
    "    sns.heatmap(loaders['test'].dataset[idx]['target'].squeeze(0), cmap='gray')\n",
    "    plt.title('Original image')\n",
    "    plt.axis('off')\n",
    "    \n",
    "    count += 1\n",
    "plt.tight_layout()\n",
    "# plt.savefig(model.RUN_DIR+ f\"encoded_examples_snr_{model.params['snr']}.png\")\n",
    "plt.show()"
   ]
  }
 ],
 "metadata": {
  "kernelspec": {
   "display_name": "Python 3 (ipykernel)",
   "language": "python",
   "name": "python3"
  },
  "language_info": {
   "codemirror_mode": {
    "name": "ipython",
    "version": 3
   },
   "file_extension": ".py",
   "mimetype": "text/x-python",
   "name": "python",
   "nbconvert_exporter": "python",
   "pygments_lexer": "ipython3",
   "version": "3.11.7"
  }
 },
 "nbformat": 4,
 "nbformat_minor": 5
}
