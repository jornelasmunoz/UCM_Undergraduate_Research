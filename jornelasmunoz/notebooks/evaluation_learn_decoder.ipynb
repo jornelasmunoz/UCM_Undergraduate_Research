{
 "cells": [
  {
   "cell_type": "markdown",
   "id": "3aab9e70-7dec-4acc-9d47-5d80aca06344",
   "metadata": {},
   "source": [
    "# Evaluation of Learned Decoder\n",
    "The purpose of this notebook is to evaluate the effectiveness of the learned decoders from CNN and GAN"
   ]
  },
  {
   "cell_type": "code",
   "execution_count": 1,
   "id": "5283d75d-8a66-4b82-92b2-5c1ae2ac60d7",
   "metadata": {
    "tags": []
   },
   "outputs": [],
   "source": [
    "%load_ext autoreload\n",
    "%autoreload 2"
   ]
  },
  {
   "cell_type": "code",
   "execution_count": 2,
   "id": "18a98262-0eb9-4894-a91b-6c1ac2c0b165",
   "metadata": {
    "tags": []
   },
   "outputs": [
    {
     "name": "stdout",
     "output_type": "stream",
     "text": [
      "Using path =  /Users/jornelasmunoz/Desktop/UC Merced/Research/coded-aperture/jornelasmunoz/\n",
      "Using cpu device\n"
     ]
    }
   ],
   "source": [
    "import os, sys\n",
    "import numpy as np\n",
    "import pandas as pd\n",
    "import matplotlib.pyplot as plt\n",
    "import seaborn as sns\n",
    "\n",
    "import torchvision\n",
    "import torchvision.transforms as transforms\n",
    "import torch\n",
    "from torch.utils.data import DataLoader\n",
    "\n",
    "import wandb\n",
    "import datetime\n",
    "desktop_path = '/Users/jornelasmunoz/Desktop/UC Merced/Research/coded-aperture/jornelasmunoz/'\n",
    "laptop_path = '/Users/jocelynornelas/iCloud Drive (Archive)/Desktop/UC Merced/Research/coded-aperture/jornelasmunoz/'\n",
    "if desktop_path in sys.path[0]: sys.path.insert(0, desktop_path + 'lib/'); path = desktop_path\n",
    "elif laptop_path in sys.path[0]: sys.path.insert(0, laptop_path + 'lib/'); path = laptop_path\n",
    "print('Using path = ', path)\n",
    "\n",
    "from dataset import MNIST_MURA\n",
    "from utils import Noise_dB, Normalize_01\n",
    "\n",
    "# # Change plotting parameters\n",
    "# plt.rcParams.update({\n",
    "#     \"text.usetex\": True,\n",
    "#     \"font.family\": \"Times\", #\"Computer Modern Serif\"\n",
    "#     \"figure.figsize\" : [15,10],\n",
    "# })\n",
    "\n",
    "device = \"cuda\" if torch.cuda.is_available() else \"cpu\"\n",
    "print(f\"Using {device} device\")\n",
    "\n",
    "# Log into WandB\n",
    "# wandb.login()"
   ]
  },
  {
   "cell_type": "code",
   "execution_count": 3,
   "id": "f5f1e161-55f9-44fe-bf66-0f6ad3bd75e7",
   "metadata": {
    "tags": []
   },
   "outputs": [
    {
     "name": "stderr",
     "output_type": "stream",
     "text": [
      "\u001b[34m\u001b[1mwandb\u001b[0m: Currently logged in as: \u001b[33mjocelynornelasmunoz\u001b[0m. Use \u001b[1m`wandb login --relogin`\u001b[0m to force relogin\n"
     ]
    },
    {
     "data": {
      "text/plain": [
       "True"
      ]
     },
     "execution_count": 3,
     "metadata": {},
     "output_type": "execute_result"
    }
   ],
   "source": [
    "# Log into WandB for logging project training runs\n",
    "wandb.login()"
   ]
  },
  {
   "cell_type": "code",
   "execution_count": 4,
   "id": "49c063d5-6039-4ab2-a865-b7ae6655c583",
   "metadata": {
    "tags": []
   },
   "outputs": [],
   "source": [
    "# Create params dict\n",
    "date = '2024-01-11'#str(datetime.datetime.now().date())\n",
    "params = {\n",
    "    \"image_size\": 23,\n",
    "    \"batch_size\":100,\n",
    "    \"learning_rate\": 0.001, \n",
    "    \"epochs\": 10,\n",
    "    \"model\": f\"decoder_cnn_{date}\",\n",
    "    \"dataset\": \"mnist_mura_noiseless\",\n",
    "    \"scheduler_patience\": 2,\n",
    "    \"snr\": None, \n",
    "}\n",
    "wandb.config = params"
   ]
  },
  {
   "cell_type": "code",
   "execution_count": 5,
   "id": "c13e1b7a-0a08-4db8-8c84-e340fa4081b6",
   "metadata": {
    "tags": []
   },
   "outputs": [],
   "source": [
    "# Define transforms\n",
    "transform_list = transforms.Compose(\n",
    "            [   transforms.Grayscale(),\n",
    "                transforms.ToTensor(),\n",
    "                transforms.Resize(params['image_size'], antialias=True),\n",
    "                # Noise_dB(desired_snr=params['snr']),\n",
    "                # transforms.Normalize(0, 1),\n",
    "                Normalize_01(),\n",
    "                ])\n",
    "target_transform = transforms.Compose(\n",
    "            [   transforms.Grayscale(),\n",
    "                transforms.ToTensor(),\n",
    "                transforms.Resize((params['image_size'],params['image_size']), antialias=True),\n",
    "                Normalize_01(),\n",
    "                ])"
   ]
  },
  {
   "cell_type": "code",
   "execution_count": 6,
   "id": "6a6e757d-5b6e-427b-a406-715d55290b22",
   "metadata": {
    "tags": []
   },
   "outputs": [],
   "source": [
    "# Load dataset\n",
    "mnist_mura = MNIST_MURA('../data/MNIST/', params, transform=transform_list, target_transform=target_transform, train=True)\n",
    "\n",
    "loaders = {}\n",
    "# Define DataLoader\n",
    "loaders['train'] = DataLoader(mnist_mura, batch_size=1, shuffle=False)"
   ]
  },
  {
   "cell_type": "code",
   "execution_count": 7,
   "id": "900cc389-487e-4fab-a03e-847a46dbf3e3",
   "metadata": {
    "tags": []
   },
   "outputs": [
    {
     "data": {
      "image/png": "[encoded data removed]",
      "text/plain": [
       "<Figure size 1000x700 with 4 Axes>"
      ]
     },
     "metadata": {},
     "output_type": "display_data"
    }
   ],
   "source": [
    "fig, axs = plt.subplots(1,2, figsize=(10,7))\n",
    "idx=2\n",
    "sns.heatmap(loaders['train'].dataset[idx]['target'].squeeze(0), cmap= 'gray', ax=axs[0])\n",
    "sns.heatmap(loaders['train'].dataset[idx]['img'].squeeze(0), cmap= 'gray', ax=axs[1])\n",
    "axs[0].axis('off')\n",
    "axs[1].axis('off')\n",
    "plt.show()"
   ]
  },
  {
   "cell_type": "markdown",
   "id": "24af062d-09da-4c93-9694-c05e6e4c0032",
   "metadata": {},
   "source": [
    "# Define Model"
   ]
  },
  {
   "cell_type": "code",
   "execution_count": 8,
   "id": "d6ba0e00-43b7-4fcc-9b1a-2e2d9c3201b6",
   "metadata": {
    "tags": []
   },
   "outputs": [],
   "source": [
    "class RECON_CNN(torch.nn.Module):\n",
    "    '''\n",
    "    Define a model with only one convolutional layer, NO activation function, and NO bias\n",
    "    '''\n",
    "    def __init__(self, params):\n",
    "        super().__init__() \n",
    "        \n",
    "        # Define model basic info -- gets model/data parameters from dictionary params\n",
    "        self.params = params\n",
    "        self.img_size = self.params['image_size']\n",
    "        self.kernel_size = self.params['image_size'] if self.params['image_size'] is not None else self.params['kernel_size']\n",
    "        self.params[\"kernel_size\"] = self.kernel_size\n",
    "        self.criterion = torch.nn.MSELoss() if self.params.get('loss') is None else torch.nn.L1Loss() #\n",
    "        self.params['model_save_path'] = f'../models/learned_decoder_cnn/{params[\"model\"]}.pth'\n",
    "        # if os.path.exists(self.params[\"model_save_path\"]):\n",
    "        #     self.load_state_dict(torch.load(self.params[\"model_save_path\"]))\n",
    "        #     print(\"Weights loaded from {}\".format(self.params[\"model_save_path\"]))\n",
    "        \n",
    "        # Define model architecture elements\n",
    "        # Padding is circular -- mathematical motivation\n",
    "        self.conv  = torch.nn.Conv2d(1,1,kernel_size=self.kernel_size, padding='same', padding_mode='circular', bias=False)#(self.kernel_size-1)//2)\n",
    "        print(\"Using the following parameters:\")\n",
    "        for key, val in self.params.items():\n",
    "            print(f\"{key}: {val}\")\n",
    "        \n",
    "    def forward(self, x):\n",
    "        output = self.conv(x)\n",
    "        return output"
   ]
  },
  {
   "cell_type": "code",
   "execution_count": 9,
   "id": "158ff68d-be2d-4f2b-a3d6-7ebbac1975f3",
   "metadata": {
    "tags": []
   },
   "outputs": [
    {
     "name": "stdout",
     "output_type": "stream",
     "text": [
      "Using the following parameters:\n",
      "image_size: 23\n",
      "batch_size: 100\n",
      "learning_rate: 0.001\n",
      "epochs: 10\n",
      "model: decoder_cnn_2024-01-11\n",
      "dataset: mnist_mura_noiseless\n",
      "scheduler_patience: 2\n",
      "snr: None\n",
      "kernel_size: 23\n",
      "model_save_path: ../models/learned_decoder_cnn/decoder_cnn_2024-01-11.pth\n"
     ]
    },
    {
     "data": {
      "text/plain": [
       "<All keys matched successfully>"
      ]
     },
     "execution_count": 9,
     "metadata": {},
     "output_type": "execute_result"
    }
   ],
   "source": [
    "# Instantiate model \n",
    "model = RECON_CNN(params)#.to(device)\n",
    "model.optimizer = torch.optim.Adam(model.parameters(), lr = model.params['learning_rate'])\n",
    "model.scheduler = torch.optim.lr_scheduler.ReduceLROnPlateau(model.optimizer, 'min',patience=model.params['scheduler_patience'])\n",
    "\n",
    "RUN_DIR = path+f'runs/{model.params[\"model\"]}/'\n",
    "# LOAD MODEL\n",
    "# model.load_state_dict(torch.load('../models/learned_decoder_cnn/decoder_cnn.pth'))\n",
    "model.load_state_dict(torch.load(RUN_DIR+f\"{model.params['model']}.pth\"))"
   ]
  },
  {
   "cell_type": "code",
   "execution_count": 11,
   "id": "c3cba199-a415-4520-9af7-a4b15a80391a",
   "metadata": {
    "tags": []
   },
   "outputs": [
    {
     "data": {
      "image/png": "[encoded data removed]",
      "text/plain": [
       "<Figure size 1500x700 with 4 Axes>"
      ]
     },
     "metadata": {},
     "output_type": "display_data"
    }
   ],
   "source": [
    "# Pot weights\n",
    "weight_map = list(model.parameters())[0].cpu().detach().squeeze(0).squeeze(0)\n",
    "fig, axs = plt.subplots(1,2, figsize = (15,7))\n",
    "sns.heatmap(weight_map, cmap='gray', ax=axs[0])\n",
    "sns.heatmap(mnist_mura.G, cmap='gray', ax=axs[1])\n",
    "\n",
    "axs[0].set_title(\"Learned decoder $G_L$\")\n",
    "axs[1].set_title(\"True decoder $G$\")\n",
    "# fig.savefig('../figs/learned_decoder_cnn_20_epochs_circular_pad.png')\n",
    "\n",
    "plt.show()"
   ]
  },
  {
   "cell_type": "markdown",
   "id": "bdbea672-004d-429b-813c-2475ea5cd44e",
   "metadata": {},
   "source": [
    "# Test set evaluation"
   ]
  },
  {
   "cell_type": "code",
   "execution_count": 12,
   "id": "1fed846f-e0a9-4cbd-9332-4eab64cd51a6",
   "metadata": {},
   "outputs": [],
   "source": [
    "from torchmetrics.image import StructuralSimilarityIndexMeasure "
   ]
  },
  {
   "cell_type": "code",
   "execution_count": 13,
   "id": "bb9465f0-a58e-4869-9cd5-bb2345b0f2d5",
   "metadata": {},
   "outputs": [],
   "source": [
    "SSIM = StructuralSimilarityIndexMeasure()"
   ]
  },
  {
   "cell_type": "code",
   "execution_count": 32,
   "id": "aecd0262-9fc8-4f29-b38f-8442179f8e13",
   "metadata": {},
   "outputs": [],
   "source": [
    "# This is to load test sets with different levels of noise. Change level of noise\n",
    "model.params['snr'] = 1\n",
    "\n",
    "# Define transforms \n",
    "train_transform_list =[transforms.Grayscale(),\n",
    "                       transforms.ToTensor(),\n",
    "                       transforms.Resize(params['image_size'], antialias=True), \n",
    "                      ]\n",
    "# For noiseless data, just normalize values between [0,1]\n",
    "# If noise, add desired SNR noise\n",
    "if model.params.get('snr') is None: \n",
    "    train_transform_list.append(Normalize_01())\n",
    "else:\n",
    "    train_transform_list.append(Noise_dB(desired_snr=model.params['snr']))\n",
    "    train_transform_list.append(Normalize_01())\n",
    "\n",
    "train_transform = transforms.Compose(train_transform_list)\n",
    "target_transform = transforms.Compose(\n",
    "            [   transforms.Grayscale(),\n",
    "                transforms.ToTensor(),\n",
    "                transforms.Resize((params['image_size'],params['image_size']), antialias=True),\n",
    "                Normalize_01(),\n",
    "                ])\n",
    "\n",
    "# Define test set\n",
    "test_mnist_mura = MNIST_MURA('../data/MNIST/', params, transform=train_transform, target_transform=target_transform, train=False)\n",
    "testset = DataLoader(test_mnist_mura, batch_size=10, shuffle=True)"
   ]
  },
  {
   "cell_type": "code",
   "execution_count": 15,
   "id": "f5993155-81f8-4644-85d3-7f5de3b91f01",
   "metadata": {
    "collapsed": true,
    "jupyter": {
     "outputs_hidden": true,
     "source_hidden": true
    }
   },
   "outputs": [
    {
     "data": {
      "image/png": "[encoded data removed]",
      "text/plain": [
       "<Figure size 1700x800 with 20 Axes>"
      ]
     },
     "metadata": {},
     "output_type": "display_data"
    }
   ],
   "source": [
    "# Change plotting parameters\n",
    "plt.rcParams.update({\n",
    "    \"text.usetex\": False,\n",
    "    \"font.family\": \"Times\", #\"Computer Modern Serif\"\n",
    "    \"figure.figsize\" : [17,8],\n",
    "})\n",
    "# Printing 25 random images from the test dataset\n",
    "random_samples = np.random.randint(1, len(testset), (5))\n",
    "count = 0\n",
    "for idx in random_samples: #range(random_samples.shape[0]):\n",
    "    plt.subplot(2, 5, count + 1)\n",
    "    sns.heatmap(testset.dataset[idx]['img'].squeeze(0), cmap='gray')\n",
    "    plt.title(f'Encoded image: {testset.dataset[idx][\"digit\"]}')\n",
    "    plt.axis('off')\n",
    "    plt.subplot(2, 5, count + 6)\n",
    "    sns.heatmap(testset.dataset[idx]['target'].squeeze(0), cmap='gray')\n",
    "    plt.title('Original image')\n",
    "    plt.axis('off')\n",
    "    \n",
    "    count += 1\n",
    "plt.tight_layout()\n",
    "# plt.savefig(RUN_DIR+ f\"encoded_examples_snr_{model.params['snr']}.png\")\n",
    "plt.show()"
   ]
  },
  {
   "cell_type": "markdown",
   "id": "737cf99c-104d-4cc3-8fc9-88acdafa4e10",
   "metadata": {},
   "source": [
    "# Calculate results with model"
   ]
  },
  {
   "cell_type": "code",
   "execution_count": 36,
   "id": "e381538f-299d-46b4-be1e-a98c67fe5f3b",
   "metadata": {},
   "outputs": [],
   "source": [
    "# Save MSE and SSIM evaluations in list\n",
    "results = []\n",
    "for i, data in enumerate(testset):\n",
    "    inputs, targets, digits = data['img'], data['target'], data['digit']\n",
    "    outputs = model(inputs.to(device))\n",
    "    mse_loss = model.criterion(outputs, targets)\n",
    "    ssim_loss = SSIM(outputs, targets)\n",
    "    results.append((inputs, outputs, targets, digits, mse_loss.item(), ssim_loss.item(), model.params['snr']))\n",
    "    # show_outputs(outputs, targets, inputs, iterator=i)"
   ]
  },
  {
   "cell_type": "code",
   "execution_count": 37,
   "id": "f8fba6e4-52fe-4218-b99a-4ab62a84acef",
   "metadata": {},
   "outputs": [
    {
     "data": {
      "text/html": [
       "<div>\n",
       "<style scoped>\n",
       "    .dataframe tbody tr th:only-of-type {\n",
       "        vertical-align: middle;\n",
       "    }\n",
       "\n",
       "    .dataframe tbody tr th {\n",
       "        vertical-align: top;\n",
       "    }\n",
       "\n",
       "    .dataframe thead th {\n",
       "        text-align: right;\n",
       "    }\n",
       "</style>\n",
       "<table border=\"1\" class=\"dataframe\">\n",
       "  <thead>\n",
       "    <tr style=\"text-align: right;\">\n",
       "      <th></th>\n",
       "      <th>inputs</th>\n",
       "      <th>outputs</th>\n",
       "      <th>targets</th>\n",
       "      <th>digits</th>\n",
       "      <th>mse</th>\n",
       "      <th>ssim</th>\n",
       "      <th>snr</th>\n",
       "    </tr>\n",
       "  </thead>\n",
       "  <tbody>\n",
       "    <tr>\n",
       "      <th>0</th>\n",
       "      <td>[[[tensor([0.4284, 0.4613, 0.4046, 0.2824, 0.4...</td>\n",
       "      <td>[[[tensor([ 0.2352,  0.0389,  0.2310, -0.0638,...</td>\n",
       "      <td>[[[tensor([0., 0., 0., 0., 0., 0., 0., 0., 0.,...</td>\n",
       "      <td>[tensor(0), tensor(6), tensor(7), tensor(6), t...</td>\n",
       "      <td>0.042460</td>\n",
       "      <td>0.643673</td>\n",
       "      <td>1</td>\n",
       "    </tr>\n",
       "    <tr>\n",
       "      <th>1</th>\n",
       "      <td>[[[tensor([0.3332, 0.2621, 0.1043, 0.3249, 0.5...</td>\n",
       "      <td>[[[tensor([ 0.5176,  0.1761, -0.0462, -0.1924,...</td>\n",
       "      <td>[[[tensor([0., 0., 0., 0., 0., 0., 0., 0., 0.,...</td>\n",
       "      <td>[tensor(9), tensor(0), tensor(3), tensor(2), t...</td>\n",
       "      <td>0.046376</td>\n",
       "      <td>0.647146</td>\n",
       "      <td>1</td>\n",
       "    </tr>\n",
       "    <tr>\n",
       "      <th>2</th>\n",
       "      <td>[[[tensor([0.3001, 0.4468, 0.5610, 0.3580, 0.3...</td>\n",
       "      <td>[[[tensor([-0.0866,  0.4403,  0.3330, -0.0392,...</td>\n",
       "      <td>[[[tensor([0., 0., 0., 0., 0., 0., 0., 0., 0.,...</td>\n",
       "      <td>[tensor(7), tensor(1), tensor(3), tensor(7), t...</td>\n",
       "      <td>0.041002</td>\n",
       "      <td>0.631419</td>\n",
       "      <td>1</td>\n",
       "    </tr>\n",
       "    <tr>\n",
       "      <th>3</th>\n",
       "      <td>[[[tensor([0.8260, 0.6795, 0.3710, 0.5124, 0.3...</td>\n",
       "      <td>[[[tensor([-1.8885e-01,  1.4063e-01,  2.5963e-...</td>\n",
       "      <td>[[[tensor([0., 0., 0., 0., 0., 0., 0., 0., 0.,...</td>\n",
       "      <td>[tensor(5), tensor(1), tensor(0), tensor(0), t...</td>\n",
       "      <td>0.044838</td>\n",
       "      <td>0.642144</td>\n",
       "      <td>1</td>\n",
       "    </tr>\n",
       "    <tr>\n",
       "      <th>4</th>\n",
       "      <td>[[[tensor([0.5406, 0.5192, 0.4102, 0.4531, 0.3...</td>\n",
       "      <td>[[[tensor([ 0.0311, -0.0765,  0.2392,  0.4839,...</td>\n",
       "      <td>[[[tensor([0., 0., 0., 0., 0., 0., 0., 0., 0.,...</td>\n",
       "      <td>[tensor(6), tensor(8), tensor(3), tensor(0), t...</td>\n",
       "      <td>0.046255</td>\n",
       "      <td>0.663540</td>\n",
       "      <td>1</td>\n",
       "    </tr>\n",
       "  </tbody>\n",
       "</table>\n",
       "</div>"
      ],
      "text/plain": [
       "                                              inputs  \\\n",
       "0  [[[tensor([0.4284, 0.4613, 0.4046, 0.2824, 0.4...   \n",
       "1  [[[tensor([0.3332, 0.2621, 0.1043, 0.3249, 0.5...   \n",
       "2  [[[tensor([0.3001, 0.4468, 0.5610, 0.3580, 0.3...   \n",
       "3  [[[tensor([0.8260, 0.6795, 0.3710, 0.5124, 0.3...   \n",
       "4  [[[tensor([0.5406, 0.5192, 0.4102, 0.4531, 0.3...   \n",
       "\n",
       "                                             outputs  \\\n",
       "0  [[[tensor([ 0.2352,  0.0389,  0.2310, -0.0638,...   \n",
       "1  [[[tensor([ 0.5176,  0.1761, -0.0462, -0.1924,...   \n",
       "2  [[[tensor([-0.0866,  0.4403,  0.3330, -0.0392,...   \n",
       "3  [[[tensor([-1.8885e-01,  1.4063e-01,  2.5963e-...   \n",
       "4  [[[tensor([ 0.0311, -0.0765,  0.2392,  0.4839,...   \n",
       "\n",
       "                                             targets  \\\n",
       "0  [[[tensor([0., 0., 0., 0., 0., 0., 0., 0., 0.,...   \n",
       "1  [[[tensor([0., 0., 0., 0., 0., 0., 0., 0., 0.,...   \n",
       "2  [[[tensor([0., 0., 0., 0., 0., 0., 0., 0., 0.,...   \n",
       "3  [[[tensor([0., 0., 0., 0., 0., 0., 0., 0., 0.,...   \n",
       "4  [[[tensor([0., 0., 0., 0., 0., 0., 0., 0., 0.,...   \n",
       "\n",
       "                                              digits       mse      ssim  snr  \n",
       "0  [tensor(0), tensor(6), tensor(7), tensor(6), t...  0.042460  0.643673    1  \n",
       "1  [tensor(9), tensor(0), tensor(3), tensor(2), t...  0.046376  0.647146    1  \n",
       "2  [tensor(7), tensor(1), tensor(3), tensor(7), t...  0.041002  0.631419    1  \n",
       "3  [tensor(5), tensor(1), tensor(0), tensor(0), t...  0.044838  0.642144    1  \n",
       "4  [tensor(6), tensor(8), tensor(3), tensor(0), t...  0.046255  0.663540    1  "
      ]
     },
     "execution_count": 37,
     "metadata": {},
     "output_type": "execute_result"
    }
   ],
   "source": [
    "# Put results in dataframe\n",
    "df = pd.DataFrame(results, columns=['inputs', 'outputs', 'targets', 'digits', 'mse', 'ssim','snr'])\n",
    "df.head(5)"
   ]
  },
  {
   "cell_type": "markdown",
   "id": "59664a05-952a-48d0-a45a-036d23c2db08",
   "metadata": {},
   "source": [
    "# Plot results"
   ]
  },
  {
   "cell_type": "code",
   "execution_count": 38,
   "id": "c21b8d0b-39b1-49b8-825b-538cd47915e0",
   "metadata": {},
   "outputs": [],
   "source": [
    "import plotly.express as px\n",
    "import plotly.io as pio\n",
    "import plotly.graph_objects as go\n",
    "# pio.renderers.default = 'notebook'"
   ]
  },
  {
   "cell_type": "code",
   "execution_count": 39,
   "id": "f94ffd84-87b7-44df-ad63-ab80fd9c4c16",
   "metadata": {},
   "outputs": [
    {
     "data": {
      "application/vnd.plotly.v1+json": {
       "config": {
        "plotlyServerURL": "https://plot.ly"
       },
       "data": [
        {
         "marker": {
          "color": "darkblue"
         },
         "name": "MSE",
         "type": "box",
         "y": [
          0.04246026650071144,
          0.04637601599097252,
          0.04100204259157181,
          0.04483821243047714,
          0.04625517129898071,
          0.04260817542672157,
          0.04246332496404648,
          0.04207802191376686,
          0.04617847129702568,
          0.04705986753106117,
          0.04305179789662361,
          0.04481714591383934,
          0.04546043649315834,
          0.045285921543836594,
          0.045771658420562744,
          0.04572388902306557,
          0.04675500467419624,
          0.04902249574661255,
          0.041221097111701965,
          0.04100678116083145,
          0.04610775038599968,
          0.0466729961335659,
          0.042350079864263535,
          0.04386747255921364,
          0.042437683790922165,
          0.042376261204481125,
          0.044728588312864304,
          0.04811539873480797,
          0.042422570288181305,
          0.041814472526311874,
          0.040113259106874466,
          0.04035704955458641,
          0.04415960982441902,
          0.04723077639937401,
          0.049337923526763916,
          0.042367760092020035,
          0.0444289855659008,
          0.04364404082298279,
          0.04366431012749672,
          0.04397530108690262,
          0.0414511077105999,
          0.04219392314553261,
          0.04125485569238663,
          0.04190489649772644,
          0.04534558579325676,
          0.04557662084698677,
          0.040886957198381424,
          0.041343796998262405,
          0.045690469443798065,
          0.040800921618938446,
          0.04503144696354866,
          0.04589831456542015,
          0.04826052486896515,
          0.040865082293748856,
          0.0466027669608593,
          0.043945036828517914,
          0.04597563296556473,
          0.04577504098415375,
          0.045649364590644836,
          0.04223331809043884,
          0.046731237322092056,
          0.04814077913761139,
          0.042321618646383286,
          0.04260781779885292,
          0.04607265815138817,
          0.04479391872882843,
          0.0467500239610672,
          0.0453081950545311,
          0.045394416898489,
          0.042408037930727005,
          0.047506969422101974,
          0.04255449399352074,
          0.04346536844968796,
          0.039751000702381134,
          0.04252124950289726,
          0.04239588975906372,
          0.04265638813376427,
          0.045776285231113434,
          0.044314391911029816,
          0.044016335159540176,
          0.04745441675186157,
          0.04415572062134743,
          0.047765713185071945,
          0.04067699611186981,
          0.04698411747813225,
          0.04407735541462898,
          0.0494263730943203,
          0.04151393845677376,
          0.04420101270079613,
          0.04195324704051018,
          0.04300875589251518,
          0.04443793743848801,
          0.04742990806698799,
          0.04445863887667656,
          0.04399418458342552,
          0.050076477229595184,
          0.045802172273397446,
          0.04420841857790947,
          0.040891777724027634,
          0.047518953680992126,
          0.04042235389351845,
          0.04287026450037956,
          0.04331047087907791,
          0.04407937824726105,
          0.04236084595322609,
          0.041925933212041855,
          0.048284851014614105,
          0.04568333923816681,
          0.04624823480844498,
          0.04270755499601364,
          0.048307470977306366,
          0.04454391822218895,
          0.045365530997514725,
          0.045113176107406616,
          0.04391391947865486,
          0.044153910130262375,
          0.04410949721932411,
          0.04729205369949341,
          0.04547370597720146,
          0.04830116406083107,
          0.045027635991573334,
          0.043261587619781494,
          0.04045317322015762,
          0.041277721524238586,
          0.04636593163013458,
          0.0420667938888073,
          0.04783029854297638,
          0.04131714999675751,
          0.046035151928663254,
          0.04885604605078697,
          0.04168446362018585,
          0.044209644198417664,
          0.046693023294210434,
          0.046206872910261154,
          0.04217563197016716,
          0.04291102662682533,
          0.0412398986518383,
          0.04483836516737938,
          0.04385120049118996,
          0.0420619435608387,
          0.04316025972366333,
          0.04805532470345497,
          0.045585282146930695,
          0.043136272579431534,
          0.04714023694396019,
          0.04473424330353737,
          0.04429931193590164,
          0.04492947459220886,
          0.041155487298965454,
          0.039609283208847046,
          0.04885535314679146,
          0.04419807717204094,
          0.047198738902807236,
          0.04263878986239433,
          0.04583187401294708,
          0.042679328471422195,
          0.04825819656252861,
          0.04305971786379814,
          0.045976925641298294,
          0.05024981126189232,
          0.04596589878201485,
          0.045390866696834564,
          0.047166142612695694,
          0.04341133311390877,
          0.043338023126125336,
          0.03854803740978241,
          0.04578473046422005,
          0.04571790620684624,
          0.04401828348636627,
          0.03972432017326355,
          0.04090757295489311,
          0.040542639791965485,
          0.046752963215112686,
          0.04422754421830177,
          0.046573758125305176,
          0.04284830391407013,
          0.040697645395994186,
          0.0440063439309597,
          0.04448190703988075,
          0.041192054748535156,
          0.04456228017807007,
          0.04682936519384384,
          0.05012832209467888,
          0.04574006795883179,
          0.04218681901693344,
          0.04788336530327797,
          0.043539710342884064,
          0.043924104422330856,
          0.04686488211154938,
          0.044130418449640274,
          0.04281606525182724,
          0.04606613889336586,
          0.040220752358436584,
          0.04167364165186882,
          0.040852077305316925,
          0.043087124824523926,
          0.04354320466518402,
          0.04303484037518501,
          0.045512035489082336,
          0.04490930587053299,
          0.04839587211608887,
          0.045298825949430466,
          0.04132668673992157,
          0.04347291216254234,
          0.04471753537654877,
          0.04531816393136978,
          0.04279834032058716,
          0.043629828840494156,
          0.040337782353162766,
          0.04577942565083504,
          0.043729476630687714,
          0.04076284542679787,
          0.043151963502168655,
          0.04386041313409805,
          0.04204598441720009,
          0.03955145552754402,
          0.04138852655887604,
          0.04445280879735947,
          0.040942929685115814,
          0.041713956743478775,
          0.04818814992904663,
          0.05052190646529198,
          0.04485860839486122,
          0.0449235737323761,
          0.042273152619600296,
          0.043929971754550934,
          0.04736824706196785,
          0.043334800750017166,
          0.04627931863069534,
          0.03958095237612724,
          0.04189165309071541,
          0.04651874676346779,
          0.04891087859869003,
          0.04237595200538635,
          0.04242822527885437,
          0.042302392423152924,
          0.04007395729422569,
          0.04656558856368065,
          0.04726002737879753,
          0.0447806790471077,
          0.04262129217386246,
          0.03954945504665375,
          0.03891848027706146,
          0.046889178454875946,
          0.043112944811582565,
          0.04399760067462921,
          0.04297156259417534,
          0.04391557350754738,
          0.04425421729683876,
          0.042029161006212234,
          0.045465629547834396,
          0.04157466068863869,
          0.04474899172782898,
          0.04771162569522858,
          0.04384226351976395,
          0.05115565285086632,
          0.04365679249167442,
          0.044271014630794525,
          0.04371160641312599,
          0.04807567968964577,
          0.03974610194563866,
          0.045383960008621216,
          0.043735746294260025,
          0.04349932447075844,
          0.04501901939511299,
          0.04559812322258949,
          0.046255167573690414,
          0.0444275364279747,
          0.05111714452505112,
          0.044102299958467484,
          0.04638247936964035,
          0.03962733969092369,
          0.04642008990049362,
          0.04431619495153427,
          0.045163143426179886,
          0.04536114260554314,
          0.04599349573254585,
          0.044646840542554855,
          0.04604066535830498,
          0.04228415712714195,
          0.04356839507818222,
          0.049253709614276886,
          0.04694806784391403,
          0.04070035740733147,
          0.04719305783510208,
          0.044980548322200775,
          0.044442933052778244,
          0.0436161532998085,
          0.0433223657310009,
          0.04081571474671364,
          0.04085379093885422,
          0.04477522149682045,
          0.04100114852190018,
          0.04562476649880409,
          0.04649614170193672,
          0.045432645827531815,
          0.04190519079566002,
          0.04331614449620247,
          0.043138712644577026,
          0.04482933133840561,
          0.043946634978055954,
          0.042570699006319046,
          0.04457267001271248,
          0.04466135799884796,
          0.044140856713056564,
          0.04444120451807976,
          0.04516013711690903,
          0.043818846344947815,
          0.04707309231162071,
          0.04746299609541893,
          0.048585444688797,
          0.04110654816031456,
          0.04203132539987564,
          0.04271310567855835,
          0.04350810497999191,
          0.04769955575466156,
          0.045304860919713974,
          0.0472630076110363,
          0.04650978744029999,
          0.04395024850964546,
          0.04439540207386017,
          0.045827675610780716,
          0.04496503621339798,
          0.04212682321667671,
          0.04242498800158501,
          0.04514439404010773,
          0.0436859205365181,
          0.04317895695567131,
          0.04308626800775528,
          0.04326628893613815,
          0.04736818000674248,
          0.047250475734472275,
          0.04273221641778946,
          0.04096759855747223,
          0.04482923075556755,
          0.043073609471321106,
          0.04177416115999222,
          0.049871381372213364,
          0.0446029007434845,
          0.041395146399736404,
          0.04589178413152695,
          0.04651792719960213,
          0.04315562546253204,
          0.04427003860473633,
          0.042867261916399,
          0.03828009217977524,
          0.04541110619902611,
          0.04275251552462578,
          0.0477137416601181,
          0.043135736137628555,
          0.0433666966855526,
          0.04251129925251007,
          0.04148752614855766,
          0.04450811445713043,
          0.042779188603162766,
          0.04676961153745651,
          0.04706783592700958,
          0.044996194541454315,
          0.04633430019021034,
          0.04434036836028099,
          0.04343472048640251,
          0.03838489204645157,
          0.04264212027192116,
          0.044172752648591995,
          0.04376378655433655,
          0.04833926633000374,
          0.04318387061357498,
          0.04331042245030403,
          0.044572461396455765,
          0.04607635363936424,
          0.045997776091098785,
          0.04917885363101959,
          0.051326751708984375,
          0.04752073436975479,
          0.04612394794821739,
          0.04621728137135506,
          0.044452447444200516,
          0.04293918237090111,
          0.0413714163005352,
          0.04094884544610977,
          0.04388926178216934,
          0.04421349614858627,
          0.04156344011425972,
          0.04391927644610405,
          0.04301786795258522,
          0.04482240229845047,
          0.04187586531043053,
          0.04173222929239273,
          0.04554713889956474,
          0.045449867844581604,
          0.040301837027072906,
          0.04488231986761093,
          0.04729153588414192,
          0.04053341969847679,
          0.04509556666016579,
          0.044440120458602905,
          0.04484672471880913,
          0.04613174498081207,
          0.043923791497945786,
          0.045246779918670654,
          0.044907860457897186,
          0.0406060554087162,
          0.04409947991371155,
          0.04483148828148842,
          0.045394930988550186,
          0.0484556183218956,
          0.04385247454047203,
          0.04591543599963188,
          0.04168770834803581,
          0.04357326775789261,
          0.04427564516663551,
          0.0464150570333004,
          0.044052060693502426,
          0.04881937429308891,
          0.043354108929634094,
          0.044828228652477264,
          0.04458687826991081,
          0.04657137766480446,
          0.048036184161901474,
          0.03963466361165047,
          0.04278716817498207,
          0.045364052057266235,
          0.045014068484306335,
          0.04112052544951439,
          0.041866887360811234,
          0.04067881777882576,
          0.04181310161948204,
          0.043544523417949677,
          0.04431493952870369,
          0.04132174327969551,
          0.04290156811475754,
          0.04360930621623993,
          0.04332217946648598,
          0.04507787525653839,
          0.045105259865522385,
          0.0419251024723053,
          0.045793816447257996,
          0.042352233082056046,
          0.045132722705602646,
          0.041596706956624985,
          0.046468593180179596,
          0.04408140107989311,
          0.04405240714550018,
          0.047373753041028976,
          0.044095441699028015,
          0.045384231954813004,
          0.041696179658174515,
          0.04512276127934456,
          0.04560117796063423,
          0.045257989317178726,
          0.042367707937955856,
          0.042273543775081635,
          0.04492180421948433,
          0.04303900897502899,
          0.05436943471431732,
          0.04490387439727783,
          0.04204472899436951,
          0.043975770473480225,
          0.0454840324819088,
          0.04224727302789688,
          0.041788648813962936,
          0.04593852162361145,
          0.04415316507220268,
          0.04316708818078041,
          0.04088922590017319,
          0.045149557292461395,
          0.04724403843283653,
          0.045032937079668045,
          0.04680183157324791,
          0.043570321053266525,
          0.047427110373973846,
          0.04689878970384598,
          0.04542326182126999,
          0.04668213799595833,
          0.04386558756232262,
          0.04435735568404198,
          0.04107601195573807,
          0.04626410827040672,
          0.04339755326509476,
          0.04804109036922455,
          0.04412244260311127,
          0.04817483201622963,
          0.04734738543629646,
          0.045124296098947525,
          0.04378427937626839,
          0.04162638634443283,
          0.04074840247631073,
          0.04473620653152466,
          0.03992600739002228,
          0.042741406708955765,
          0.04416605830192566,
          0.045939117670059204,
          0.045484162867069244,
          0.0429074801504612,
          0.04583044350147247,
          0.044668614864349365,
          0.041229814291000366,
          0.04127764701843262,
          0.04487797990441322,
          0.04082981497049332,
          0.04556769132614136,
          0.043520256876945496,
          0.043325528502464294,
          0.0499415248632431,
          0.04439408704638481,
          0.04356176778674126,
          0.043498359620571136,
          0.043870337307453156,
          0.039552778005599976,
          0.04541321098804474,
          0.04319321736693382,
          0.04565877467393875,
          0.04724273830652237,
          0.04110284522175789,
          0.0429546982049942,
          0.042717963457107544,
          0.0432577021420002,
          0.04158202186226845,
          0.044690534472465515,
          0.043895017355680466,
          0.0458616241812706,
          0.0464325025677681,
          0.04820864275097847,
          0.048018645495176315,
          0.04209350794553757,
          0.04301374778151512,
          0.04092998802661896,
          0.04715955629944801,
          0.04174809157848358,
          0.04661363363265991,
          0.03857504203915596,
          0.04549913480877876,
          0.04587720334529877,
          0.04688703641295433,
          0.044132333248853683,
          0.04507419094443321,
          0.04658493399620056,
          0.04192240908741951,
          0.047067344188690186,
          0.04118037223815918,
          0.04118729755282402,
          0.04722125455737114,
          0.04905065521597862,
          0.04467988386750221,
          0.042798396199941635,
          0.049962110817432404,
          0.04332852363586426,
          0.04522959887981415,
          0.044003479182720184,
          0.043830595910549164,
          0.044637471437454224,
          0.04471883550286293,
          0.046156883239746094,
          0.04469466209411621,
          0.04363401234149933,
          0.041190892457962036,
          0.046614740043878555,
          0.045489922165870667,
          0.04978717863559723,
          0.04202199727296829,
          0.04367221146821976,
          0.04274404048919678,
          0.04251181706786156,
          0.04486794024705887,
          0.04494313523173332,
          0.04356663301587105,
          0.04568901285529137,
          0.04675081744790077,
          0.04228568449616432,
          0.0459616594016552,
          0.04778236895799637,
          0.04790729656815529,
          0.04089432582259178,
          0.04013850539922714,
          0.04281290993094444,
          0.04453296586871147,
          0.04312503710389137,
          0.04221135005354881,
          0.04391643777489662,
          0.04379718005657196,
          0.04649052396416664,
          0.043289538472890854,
          0.046629611402750015,
          0.041255030781030655,
          0.04181284084916115,
          0.04666319489479065,
          0.04498055577278137,
          0.04720453545451164,
          0.0446162186563015,
          0.04285261407494545,
          0.04441044479608536,
          0.04575146734714508,
          0.042220018804073334,
          0.04394754394888878,
          0.043941136449575424,
          0.045303862541913986,
          0.04626017063856125,
          0.045869871973991394,
          0.044214438647031784,
          0.04187578707933426,
          0.043868716806173325,
          0.04480551928281784,
          0.04050140827894211,
          0.04429999738931656,
          0.04567643627524376,
          0.04564104229211807,
          0.04200251027941704,
          0.04666734114289284,
          0.04632028192281723,
          0.04086335748434067,
          0.043590594083070755,
          0.041904717683792114,
          0.04787170886993408,
          0.04480469226837158,
          0.04541075974702835,
          0.047231338918209076,
          0.042127374559640884,
          0.04119160398840904,
          0.04407517611980438,
          0.049793750047683716,
          0.046923186630010605,
          0.04234139621257782,
          0.044326961040496826,
          0.0460423082113266,
          0.03985752537846565,
          0.04294024407863617,
          0.04665070027112961,
          0.04057130590081215,
          0.04393291845917702,
          0.044183529913425446,
          0.03942478075623512,
          0.04462967440485954,
          0.04347347468137741,
          0.041552308946847916,
          0.04398611932992935,
          0.04719714820384979,
          0.047622524201869965,
          0.04135063290596008,
          0.0456736795604229,
          0.04339062422513962,
          0.04186307638883591,
          0.0432368665933609,
          0.048645973205566406,
          0.040638502687215805,
          0.04348994791507721,
          0.041017498821020126,
          0.044772714376449585,
          0.04156425967812538,
          0.0464247427880764,
          0.04239640012383461,
          0.04827627167105675,
          0.04844903200864792,
          0.044629793614149094,
          0.047394342720508575,
          0.04169422760605812,
          0.04187216982245445,
          0.047902993857860565,
          0.04744025692343712,
          0.04494529217481613,
          0.04241548478603363,
          0.041474901139736176,
          0.04255567491054535,
          0.043590616434812546,
          0.043780043721199036,
          0.044572461396455765,
          0.042226310819387436,
          0.04534954950213432,
          0.043148223310709,
          0.04249915853142738,
          0.04948335140943527,
          0.04569234326481819,
          0.043838538229465485,
          0.04376200959086418,
          0.046090200543403625,
          0.0447099544107914,
          0.04559978470206261,
          0.04507268965244293,
          0.04461429640650749,
          0.04444713518023491,
          0.045159243047237396,
          0.04725645110011101,
          0.04501734673976898,
          0.0434933640062809,
          0.04780076816678047,
          0.046175338327884674,
          0.04489825293421745,
          0.044505637139081955,
          0.046434346586465836,
          0.044606078416109085,
          0.04561779648065567,
          0.04475734382867813,
          0.04576187580823898,
          0.045592181384563446,
          0.04268599674105644,
          0.04505112022161484,
          0.04193997383117676,
          0.04351581633090973,
          0.0397806391119957,
          0.04273218661546707,
          0.047058071941137314,
          0.045860424637794495,
          0.0430089496076107,
          0.04126400128006935,
          0.04437656328082085,
          0.04173943027853966,
          0.04723567143082619,
          0.04055413976311684,
          0.042838916182518005,
          0.043915797024965286,
          0.04315614327788353,
          0.04324532672762871,
          0.04308293014764786,
          0.04414205253124237,
          0.04848398640751839,
          0.043523211032152176,
          0.045701052993535995,
          0.041474200785160065,
          0.044307559728622437,
          0.044844165444374084,
          0.043445613235235214,
          0.04771929234266281,
          0.04361288249492645,
          0.04918210580945015,
          0.042193956673145294,
          0.041555166244506836,
          0.04508151113986969,
          0.04664577916264534,
          0.046159565448760986,
          0.042055875062942505,
          0.044841449707746506,
          0.04340086877346039,
          0.0408930629491806,
          0.04379608854651451,
          0.046850886195898056,
          0.042925599962472916,
          0.04306606948375702,
          0.044444117695093155,
          0.045251429080963135,
          0.04131891205906868,
          0.04542633518576622,
          0.04701050743460655,
          0.047859951853752136,
          0.043623775243759155,
          0.04117927700281143,
          0.03945876285433769,
          0.042313411831855774,
          0.04468584060668945,
          0.04241073876619339,
          0.0445791631937027,
          0.04325081780552864,
          0.046549126505851746,
          0.040906332433223724,
          0.04377659782767296,
          0.046551790088415146,
          0.04414023086428642,
          0.04234310984611511,
          0.041482243686914444,
          0.04563518241047859,
          0.03993789479136467,
          0.04199759289622307,
          0.04640950635075569,
          0.045861124992370605,
          0.04749352112412453,
          0.04400113224983215,
          0.04490360617637634,
          0.04417021945118904,
          0.04481632262468338,
          0.04481716454029083,
          0.042162761092185974,
          0.04537089169025421,
          0.0451536625623703,
          0.03999638184905052,
          0.0458538681268692,
          0.04534013196825981,
          0.04183828830718994,
          0.045256152749061584,
          0.040899261832237244,
          0.043580908328294754,
          0.042658235877752304,
          0.04488741606473923,
          0.047226980328559875,
          0.04229705408215523,
          0.044049013406038284,
          0.044056255370378494,
          0.04631267860531807,
          0.042297184467315674,
          0.046980857849121094,
          0.042980872094631195,
          0.04610752686858177,
          0.04292873665690422,
          0.04060228914022446,
          0.04163914918899536,
          0.042616602033376694,
          0.046237196773290634,
          0.042350318282842636,
          0.04390142112970352,
          0.04547160491347313,
          0.04738377407193184,
          0.047228969633579254,
          0.0470656119287014,
          0.04935014992952347,
          0.048094458878040314,
          0.04541005194187164,
          0.04534057900309563,
          0.04266245290637016,
          0.0457100048661232,
          0.04626627638936043,
          0.04280424490571022,
          0.04605688899755478,
          0.04572981223464012,
          0.04767242446541786,
          0.04194841533899307,
          0.043855249881744385,
          0.04492529109120369,
          0.04614990949630737,
          0.048538099974393845,
          0.041957736015319824,
          0.04719695448875427,
          0.04571104049682617,
          0.044593364000320435,
          0.039903949946165085,
          0.05034597963094711,
          0.04697190225124359,
          0.04016193374991417,
          0.04437492787837982,
          0.047829218208789825,
          0.043605074286460876,
          0.04284854978322983,
          0.04446950927376747,
          0.04463823139667511,
          0.04112837836146355,
          0.04522076994180679,
          0.04630836471915245,
          0.04385978356003761,
          0.04400492087006569,
          0.03992600366473198,
          0.04580795392394066,
          0.04644686356186867,
          0.041407838463783264,
          0.04405535012483597,
          0.0448860339820385,
          0.04575572907924652,
          0.04413215443491936,
          0.04662942513823509,
          0.04640713334083557,
          0.043696481734514236,
          0.04373027756810188,
          0.04147041589021683,
          0.04331852123141289,
          0.04558629170060158,
          0.04465280473232269,
          0.04826490581035614,
          0.04398898780345917,
          0.04142681509256363,
          0.04749707505106926,
          0.0478597916662693,
          0.04085491970181465,
          0.042858824133872986,
          0.04276955500245094,
          0.04534103721380234,
          0.039229195564985275,
          0.04770892113447189,
          0.0431925393640995,
          0.041701093316078186,
          0.042416051030159,
          0.04162875562906265,
          0.04608035460114479,
          0.042280565947294235,
          0.04378806799650192,
          0.04507056996226311,
          0.0444500632584095,
          0.04434451460838318,
          0.04436257854104042,
          0.04521571099758148,
          0.04045320674777031,
          0.03965701535344124,
          0.04578635096549988,
          0.046963825821876526,
          0.043829500675201416,
          0.042928218841552734,
          0.044577449560165405,
          0.0455755852162838,
          0.039665088057518005,
          0.047732170671224594,
          0.046343881636857986,
          0.04485548287630081,
          0.04440949112176895,
          0.046244993805885315,
          0.04171069711446762,
          0.040019311010837555,
          0.046020060777664185,
          0.04272023215889931,
          0.04264125972986221,
          0.04657094553112984,
          0.0393298901617527,
          0.04869209975004196,
          0.04354982078075409,
          0.04493679478764534,
          0.04577077180147171,
          0.039552100002765656,
          0.04428287222981453,
          0.04254456236958504,
          0.04735283926129341,
          0.04257401078939438,
          0.045966483652591705,
          0.04307115823030472,
          0.04578573629260063,
          0.04541252180933952,
          0.040864311158657074,
          0.044489867985248566,
          0.041439156979322433,
          0.04448940232396126,
          0.0454569011926651,
          0.04647314175963402,
          0.045584022998809814,
          0.04390397295355797,
          0.041311122477054596,
          0.042901743203401566,
          0.04171313717961311,
          0.045865532010793686,
          0.04460329934954643,
          0.043069370090961456,
          0.03959758207201958,
          0.04420715197920799,
          0.04329057037830353,
          0.04429497942328453,
          0.04248606413602829,
          0.044219061732292175,
          0.04682506248354912,
          0.05084846541285515,
          0.043945249170064926,
          0.040139999240636826,
          0.04109109938144684,
          0.04331614077091217,
          0.045027218759059906,
          0.044641971588134766,
          0.04447022080421448,
          0.04610084369778633,
          0.046136628836393356,
          0.0435958132147789,
          0.04880080372095108,
          0.044366028159856796,
          0.044954393059015274,
          0.04255398362874985,
          0.04349775239825249,
          0.04554763063788414,
          0.04438832402229309,
          0.04500427097082138,
          0.04177221283316612,
          0.04667716100811958,
          0.045726921409368515,
          0.04348331317305565,
          0.04508858546614647,
          0.04808859899640083,
          0.04494788870215416,
          0.04258498549461365,
          0.0449531152844429,
          0.044175151735544205,
          0.04211840033531189,
          0.041761305183172226,
          0.042330268770456314,
          0.0422065332531929,
          0.04144952818751335,
          0.04345962777733803,
          0.042784541845321655,
          0.0417822040617466,
          0.05068667605519295,
          0.0477200448513031,
          0.04610910639166832,
          0.04406355321407318,
          0.04353265464305878,
          0.04283676669001579,
          0.04353233426809311,
          0.04790164902806282,
          0.0453537218272686,
          0.04338300600647926,
          0.045058149844408035,
          0.045151613652706146,
          0.03977378085255623,
          0.044978708028793335,
          0.043227825313806534,
          0.04386113956570625,
          0.04598729684948921,
          0.045299869030714035,
          0.04536537826061249,
          0.043667569756507874,
          0.04415605589747429,
          0.04601559415459633,
          0.04484078288078308,
          0.04448799416422844,
          0.04508736729621887,
          0.0413174070417881,
          0.04840875789523125,
          0.04137502610683441,
          0.047438956797122955,
          0.045805830508470535,
          0.049897681921720505,
          0.04077843576669693,
          0.04213152825832367,
          0.042673587799072266
         ]
        },
        {
         "marker": {
          "color": "royalblue"
         },
         "name": "SSIM",
         "type": "box",
         "y": [
          0.6436731219291687,
          0.6471463441848755,
          0.6314185857772827,
          0.6421438455581665,
          0.6635395884513855,
          0.6592782735824585,
          0.6110327839851379,
          0.631269633769989,
          0.6213428974151611,
          0.6308030486106873,
          0.6166217923164368,
          0.6319588422775269,
          0.6828019618988037,
          0.6691921353340149,
          0.6489140391349792,
          0.6131292581558228,
          0.6516793966293335,
          0.6194368600845337,
          0.6408519148826599,
          0.6747245788574219,
          0.6716145277023315,
          0.6405472159385681,
          0.6515190005302429,
          0.6353522539138794,
          0.6501367092132568,
          0.6863535642623901,
          0.6434214115142822,
          0.6497623324394226,
          0.6477821469306946,
          0.6529979109764099,
          0.6612566709518433,
          0.6515544652938843,
          0.700212299823761,
          0.5931561589241028,
          0.6562561988830566,
          0.6642208099365234,
          0.6779848337173462,
          0.6910392642021179,
          0.6428772211074829,
          0.6458414793014526,
          0.703579306602478,
          0.6822876334190369,
          0.6862523555755615,
          0.6926459074020386,
          0.616736888885498,
          0.6701213121414185,
          0.6765738725662231,
          0.648517370223999,
          0.6227542757987976,
          0.6629263758659363,
          0.630447506904602,
          0.6428550481796265,
          0.5959402322769165,
          0.6791864633560181,
          0.6042327880859375,
          0.6403558850288391,
          0.6368127465248108,
          0.6521288156509399,
          0.6340595483779907,
          0.6737647652626038,
          0.642501711845398,
          0.5847654342651367,
          0.6946588754653931,
          0.6402636766433716,
          0.6250739097595215,
          0.6220489740371704,
          0.6542872190475464,
          0.66612708568573,
          0.6341233253479004,
          0.6038801670074463,
          0.670046329498291,
          0.6782885789871216,
          0.6353240013122559,
          0.6398081183433533,
          0.6776072382926941,
          0.6983466148376465,
          0.668523907661438,
          0.6742013692855835,
          0.7123731374740601,
          0.5741373896598816,
          0.6462639570236206,
          0.6619428396224976,
          0.6308272480964661,
          0.6928102374076843,
          0.6269238591194153,
          0.6628702878952026,
          0.6507526636123657,
          0.650866687297821,
          0.7123038172721863,
          0.6317804455757141,
          0.655727207660675,
          0.6630827188491821,
          0.6419363021850586,
          0.6276299357414246,
          0.6367505192756653,
          0.6167131066322327,
          0.6911593675613403,
          0.6437028646469116,
          0.6792417168617249,
          0.6603249311447144,
          0.6386260986328125,
          0.6492162942886353,
          0.6620827913284302,
          0.6842541694641113,
          0.6865761280059814,
          0.6499921083450317,
          0.6421868801116943,
          0.6407440900802612,
          0.6612640023231506,
          0.6820749044418335,
          0.6381405591964722,
          0.6438221335411072,
          0.624713659286499,
          0.6649476885795593,
          0.6607757806777954,
          0.686240553855896,
          0.6349387168884277,
          0.6334937214851379,
          0.6818374395370483,
          0.6391680836677551,
          0.6441938281059265,
          0.6565935015678406,
          0.6917183995246887,
          0.6862484812736511,
          0.6168962121009827,
          0.6408551931381226,
          0.6355617642402649,
          0.6503220796585083,
          0.6428084969520569,
          0.6371743083000183,
          0.6803156733512878,
          0.6892242431640625,
          0.6315453052520752,
          0.6917627453804016,
          0.6697437167167664,
          0.6600474119186401,
          0.6673115491867065,
          0.6944575905799866,
          0.7005056142807007,
          0.6431147456169128,
          0.6391491293907166,
          0.6366190314292908,
          0.6471127867698669,
          0.6636179685592651,
          0.6335523724555969,
          0.6450137495994568,
          0.6430376768112183,
          0.6443219780921936,
          0.6549612879753113,
          0.665899395942688,
          0.6192933320999146,
          0.6840845346450806,
          0.6128594279289246,
          0.6746330857276917,
          0.6509893536567688,
          0.6846986413002014,
          0.6390478610992432,
          0.6069920659065247,
          0.6603430509567261,
          0.6198712587356567,
          0.6750560998916626,
          0.6837886571884155,
          0.6720138788223267,
          0.6742783188819885,
          0.6421611309051514,
          0.6331589818000793,
          0.6736085414886475,
          0.6501909494400024,
          0.647696852684021,
          0.6432926654815674,
          0.6685607433319092,
          0.6570833325386047,
          0.6418659090995789,
          0.6800194978713989,
          0.6180886030197144,
          0.5961625576019287,
          0.6319184899330139,
          0.6360329389572144,
          0.6334229707717896,
          0.6214340329170227,
          0.6118780970573425,
          0.6867938041687012,
          0.6774528622627258,
          0.6549862623214722,
          0.6638073325157166,
          0.6518310308456421,
          0.6655532121658325,
          0.6488619446754456,
          0.6672273278236389,
          0.6721035242080688,
          0.594807505607605,
          0.6585246920585632,
          0.6593005657196045,
          0.6490136384963989,
          0.6983575820922852,
          0.6532489657402039,
          0.6062742471694946,
          0.6129047870635986,
          0.6664136052131653,
          0.6586691737174988,
          0.6742847561836243,
          0.6896613836288452,
          0.6697496175765991,
          0.6246205568313599,
          0.6492270231246948,
          0.6494648456573486,
          0.6518885493278503,
          0.6530994176864624,
          0.6503247022628784,
          0.6685625314712524,
          0.6404973268508911,
          0.6634835004806519,
          0.6208128929138184,
          0.664421558380127,
          0.658120334148407,
          0.6240664720535278,
          0.6479889154434204,
          0.6397570371627808,
          0.6549848318099976,
          0.6745375394821167,
          0.6627417802810669,
          0.6447445154190063,
          0.6556752920150757,
          0.6533116102218628,
          0.6568687558174133,
          0.6971790790557861,
          0.6251693964004517,
          0.615995466709137,
          0.6669036149978638,
          0.6279504299163818,
          0.66163569688797,
          0.6689585447311401,
          0.663174569606781,
          0.6350091099739075,
          0.6630246639251709,
          0.631780207157135,
          0.6490920186042786,
          0.6761876940727234,
          0.6457467079162598,
          0.6076285243034363,
          0.667758584022522,
          0.6880486607551575,
          0.6843820214271545,
          0.651370644569397,
          0.6875890493392944,
          0.6713728308677673,
          0.6593097448348999,
          0.6696673631668091,
          0.6405174136161804,
          0.6709084510803223,
          0.6352183818817139,
          0.6386671662330627,
          0.6478152275085449,
          0.6420654058456421,
          0.6406899690628052,
          0.6668167114257812,
          0.6561256647109985,
          0.6528530716896057,
          0.6232131123542786,
          0.658302903175354,
          0.6738443374633789,
          0.6418744921684265,
          0.654852569103241,
          0.6577479243278503,
          0.6821569204330444,
          0.6716307401657104,
          0.6436814665794373,
          0.6246414184570312,
          0.6401935815811157,
          0.6906884908676147,
          0.6647000312805176,
          0.6638910174369812,
          0.6686715483665466,
          0.6503080129623413,
          0.6220526695251465,
          0.6625841856002808,
          0.6744936108589172,
          0.6866104602813721,
          0.5494927167892456,
          0.6400511860847473,
          0.6789954900741577,
          0.6381557583808899,
          0.6523462533950806,
          0.6261271834373474,
          0.677996814250946,
          0.6588923931121826,
          0.6888153553009033,
          0.6796144843101501,
          0.6203668713569641,
          0.6610981225967407,
          0.6423455476760864,
          0.6613982319831848,
          0.6727055311203003,
          0.6253648400306702,
          0.6753481030464172,
          0.6218336224555969,
          0.6318691968917847,
          0.6735588312149048,
          0.6717122793197632,
          0.6779576539993286,
          0.650891125202179,
          0.6833623647689819,
          0.6468498110771179,
          0.6467292904853821,
          0.6170818209648132,
          0.6370594501495361,
          0.6699012517929077,
          0.6643565893173218,
          0.6808921694755554,
          0.638188362121582,
          0.6217684745788574,
          0.6370056867599487,
          0.6449627876281738,
          0.6614848971366882,
          0.672376811504364,
          0.673647940158844,
          0.6553663611412048,
          0.661309003829956,
          0.6677389144897461,
          0.6027895212173462,
          0.6765118837356567,
          0.6459895372390747,
          0.6731560826301575,
          0.6464830636978149,
          0.6670728921890259,
          0.6268983483314514,
          0.6312954425811768,
          0.6705052256584167,
          0.6392353177070618,
          0.694837749004364,
          0.6407300233840942,
          0.6384881734848022,
          0.6370693445205688,
          0.6290170550346375,
          0.6805095672607422,
          0.6817322969436646,
          0.6435909271240234,
          0.5946130752563477,
          0.6695753335952759,
          0.68159019947052,
          0.6564443707466125,
          0.6734524965286255,
          0.667845606803894,
          0.6720790266990662,
          0.6619606614112854,
          0.6206642985343933,
          0.6604262590408325,
          0.6185622215270996,
          0.6179851293563843,
          0.6602258086204529,
          0.6448466181755066,
          0.6737892627716064,
          0.6272037029266357,
          0.6440273523330688,
          0.6498244404792786,
          0.7052884697914124,
          0.602373480796814,
          0.6246291995048523,
          0.6788106560707092,
          0.7031120657920837,
          0.6447271108627319,
          0.619074285030365,
          0.6911877989768982,
          0.6565061807632446,
          0.6599663496017456,
          0.6707254648208618,
          0.6142548322677612,
          0.6653051972389221,
          0.632591962814331,
          0.6660135984420776,
          0.6317274570465088,
          0.6260315179824829,
          0.6114037036895752,
          0.640103816986084,
          0.6263679265975952,
          0.6481083631515503,
          0.6121600866317749,
          0.6750755310058594,
          0.6578989028930664,
          0.615249752998352,
          0.6243353486061096,
          0.6702965497970581,
          0.6842982769012451,
          0.6749622821807861,
          0.648727297782898,
          0.6117300391197205,
          0.6416209936141968,
          0.6494718194007874,
          0.6527164578437805,
          0.6516568064689636,
          0.665744423866272,
          0.657142162322998,
          0.6475695371627808,
          0.6564138531684875,
          0.6162053942680359,
          0.6342136263847351,
          0.6546328663825989,
          0.6162477731704712,
          0.667889416217804,
          0.6395947337150574,
          0.6509051322937012,
          0.6590477228164673,
          0.6655979752540588,
          0.6629339456558228,
          0.6661595702171326,
          0.6470146179199219,
          0.661408543586731,
          0.6606353521347046,
          0.6406251192092896,
          0.664042055606842,
          0.6533990502357483,
          0.6650235056877136,
          0.63319331407547,
          0.6510263681411743,
          0.6596261262893677,
          0.6616483330726624,
          0.6701791882514954,
          0.6165537238121033,
          0.6488657593727112,
          0.6811150312423706,
          0.63800448179245,
          0.6350961923599243,
          0.6487622261047363,
          0.63677978515625,
          0.6689425706863403,
          0.6239272356033325,
          0.6929579973220825,
          0.6377696394920349,
          0.6725233793258667,
          0.6726863384246826,
          0.6431924104690552,
          0.6370172500610352,
          0.6546868085861206,
          0.6683192253112793,
          0.6467231512069702,
          0.6913737058639526,
          0.6023532748222351,
          0.6667037010192871,
          0.6298531293869019,
          0.6084678769111633,
          0.6651252508163452,
          0.6652401685714722,
          0.6185021996498108,
          0.6515896916389465,
          0.6262544393539429,
          0.6846364736557007,
          0.6439768075942993,
          0.6352099776268005,
          0.6050339937210083,
          0.6600848436355591,
          0.6615539789199829,
          0.6906542181968689,
          0.6529833078384399,
          0.6759296655654907,
          0.6430877447128296,
          0.6420650482177734,
          0.633342444896698,
          0.5878380537033081,
          0.6051632165908813,
          0.6881200075149536,
          0.6590366959571838,
          0.6497408151626587,
          0.6400319933891296,
          0.6736582517623901,
          0.6555541157722473,
          0.6487044095993042,
          0.653144121170044,
          0.6348532438278198,
          0.6660318374633789,
          0.6041942238807678,
          0.6228609085083008,
          0.6141511797904968,
          0.656262993812561,
          0.6666213274002075,
          0.6656267046928406,
          0.6763721704483032,
          0.657364010810852,
          0.6530852913856506,
          0.6641329526901245,
          0.6716203689575195,
          0.6792015433311462,
          0.638178825378418,
          0.6322771310806274,
          0.6574344038963318,
          0.6539183259010315,
          0.6737423539161682,
          0.6479533314704895,
          0.6414480209350586,
          0.6105836629867554,
          0.6718970537185669,
          0.6175665855407715,
          0.635918378829956,
          0.6565772294998169,
          0.6857843399047852,
          0.6416555047035217,
          0.6810681819915771,
          0.6991186141967773,
          0.6324433088302612,
          0.6511569619178772,
          0.6990967392921448,
          0.6220604181289673,
          0.6233984231948853,
          0.6337997317314148,
          0.6435613036155701,
          0.6577819585800171,
          0.6617969274520874,
          0.6402249336242676,
          0.6389516592025757,
          0.65310138463974,
          0.668891966342926,
          0.6436455845832825,
          0.6415449976921082,
          0.6436723470687866,
          0.6277921199798584,
          0.6460497975349426,
          0.6299198269844055,
          0.6689518690109253,
          0.6456645131111145,
          0.6770659685134888,
          0.6463476419448853,
          0.589621901512146,
          0.624464213848114,
          0.646779477596283,
          0.6576602458953857,
          0.5986753702163696,
          0.6554345488548279,
          0.678726851940155,
          0.6482521891593933,
          0.6495283842086792,
          0.6441091299057007,
          0.6646972894668579,
          0.6429319381713867,
          0.6672960519790649,
          0.6797676682472229,
          0.6538177132606506,
          0.63905930519104,
          0.6650923490524292,
          0.6723740696907043,
          0.6346195340156555,
          0.6697435975074768,
          0.6996229887008667,
          0.6368340253829956,
          0.6668132543563843,
          0.6526336073875427,
          0.6405021548271179,
          0.6279984712600708,
          0.6494619250297546,
          0.68266361951828,
          0.655787467956543,
          0.6393181085586548,
          0.6644769906997681,
          0.6595650911331177,
          0.618942379951477,
          0.6265743374824524,
          0.6349849700927734,
          0.6289914846420288,
          0.6935276985168457,
          0.6294964551925659,
          0.6722400188446045,
          0.6651250123977661,
          0.5832679271697998,
          0.6601842641830444,
          0.6695469617843628,
          0.6473509073257446,
          0.6276971697807312,
          0.6520141959190369,
          0.6474519968032837,
          0.6658183932304382,
          0.7021605968475342,
          0.6431616544723511,
          0.6676809191703796,
          0.5871108770370483,
          0.6745257377624512,
          0.6567598581314087,
          0.6427801847457886,
          0.6087551116943359,
          0.6869456768035889,
          0.6634097099304199,
          0.6577461361885071,
          0.676085352897644,
          0.6315135955810547,
          0.6481490135192871,
          0.677463710308075,
          0.682542622089386,
          0.6826728582382202,
          0.5980010628700256,
          0.6746399998664856,
          0.6411920785903931,
          0.6400691270828247,
          0.6288537383079529,
          0.6435116529464722,
          0.6131190061569214,
          0.6937081217765808,
          0.6359204053878784,
          0.6944633722305298,
          0.613442599773407,
          0.6530911326408386,
          0.6445984840393066,
          0.6545497179031372,
          0.6341460943222046,
          0.635206401348114,
          0.6544002294540405,
          0.6560025811195374,
          0.6896904110908508,
          0.6211694478988647,
          0.6438833475112915,
          0.6568096876144409,
          0.6578713655471802,
          0.6362212896347046,
          0.690875232219696,
          0.6959498524665833,
          0.6366117596626282,
          0.6273150444030762,
          0.6607782244682312,
          0.6413663625717163,
          0.6857354044914246,
          0.6003736257553101,
          0.6956461668014526,
          0.5882879495620728,
          0.63036048412323,
          0.6772264242172241,
          0.661180317401886,
          0.644381582736969,
          0.6477734446525574,
          0.6381393671035767,
          0.6788290739059448,
          0.6274354457855225,
          0.7110694050788879,
          0.6616142988204956,
          0.6694570779800415,
          0.6399065256118774,
          0.6699996590614319,
          0.6173890829086304,
          0.5941404104232788,
          0.6603862643241882,
          0.5945287942886353,
          0.6545721292495728,
          0.6422719359397888,
          0.6232967376708984,
          0.6522841453552246,
          0.6955938339233398,
          0.6528249979019165,
          0.6433153748512268,
          0.6967955231666565,
          0.6541115045547485,
          0.631823718547821,
          0.6408392786979675,
          0.6449673175811768,
          0.6064716577529907,
          0.6357263922691345,
          0.6557042598724365,
          0.6555474996566772,
          0.658635139465332,
          0.6824427843093872,
          0.676679253578186,
          0.6540539860725403,
          0.64674311876297,
          0.6147184371948242,
          0.5659209489822388,
          0.6205320954322815,
          0.6864153146743774,
          0.6915972828865051,
          0.6737045049667358,
          0.6368411183357239,
          0.6681981086730957,
          0.6651726365089417,
          0.6355956792831421,
          0.697594940662384,
          0.6523606181144714,
          0.6598174571990967,
          0.6637612581253052,
          0.6460956335067749,
          0.664582371711731,
          0.6581292152404785,
          0.619532585144043,
          0.6243695020675659,
          0.6276108026504517,
          0.6512500047683716,
          0.6066115498542786,
          0.6534188985824585,
          0.6449335217475891,
          0.6674922704696655,
          0.6398438215255737,
          0.6745007634162903,
          0.6630070805549622,
          0.6293253302574158,
          0.6758213639259338,
          0.6040941476821899,
          0.6884952187538147,
          0.6571739315986633,
          0.6409056186676025,
          0.6644834280014038,
          0.6165632605552673,
          0.6193756461143494,
          0.6480341553688049,
          0.6727325320243835,
          0.6659741401672363,
          0.6817190051078796,
          0.6319852471351624,
          0.6291077733039856,
          0.6667366027832031,
          0.6273374557495117,
          0.6729848384857178,
          0.6421880722045898,
          0.6746328473091125,
          0.6504803895950317,
          0.6431540250778198,
          0.6611430644989014,
          0.6775718927383423,
          0.6254070997238159,
          0.5999588966369629,
          0.6204439401626587,
          0.6519087553024292,
          0.6229665279388428,
          0.6323689222335815,
          0.6175006628036499,
          0.647219181060791,
          0.6289342641830444,
          0.616951584815979,
          0.6696813702583313,
          0.6486973762512207,
          0.6790841221809387,
          0.6554704904556274,
          0.5996617674827576,
          0.6357795596122742,
          0.605829119682312,
          0.6160509586334229,
          0.6829455494880676,
          0.6851025819778442,
          0.6154636740684509,
          0.6564314961433411,
          0.646859347820282,
          0.6991812586784363,
          0.5997533798217773,
          0.6483253240585327,
          0.6683494448661804,
          0.6695401668548584,
          0.6128242611885071,
          0.6797825694084167,
          0.6644936203956604,
          0.6539555788040161,
          0.6403786540031433,
          0.6412338018417358,
          0.6587398052215576,
          0.6721163392066956,
          0.6966592073440552,
          0.671099066734314,
          0.6373687982559204,
          0.6316238641738892,
          0.6111879348754883,
          0.6468538045883179,
          0.6938661336898804,
          0.6648093461990356,
          0.6645004153251648,
          0.6698068380355835,
          0.6627020239830017,
          0.6621192097663879,
          0.6831231713294983,
          0.652152419090271,
          0.6469244956970215,
          0.5868842005729675,
          0.653900146484375,
          0.6609467267990112,
          0.6367505192756653,
          0.6960500478744507,
          0.6273656487464905,
          0.6252127885818481,
          0.6323162317276001,
          0.6333181858062744,
          0.6829438805580139,
          0.6257480978965759,
          0.6361342668533325,
          0.6593917608261108,
          0.6427118182182312,
          0.6182891726493835,
          0.6810544729232788,
          0.6849395036697388,
          0.6373399496078491,
          0.6388010382652283,
          0.6714131236076355,
          0.684429407119751,
          0.6614267826080322,
          0.6741369962692261,
          0.6431921720504761,
          0.6218658089637756,
          0.65092533826828,
          0.673870861530304,
          0.6729274988174438,
          0.6384671330451965,
          0.6485570073127747,
          0.6785730719566345,
          0.6394400596618652,
          0.65680330991745,
          0.680789053440094,
          0.6602287292480469,
          0.6439432501792908,
          0.6593577265739441,
          0.6549034118652344,
          0.6395341157913208,
          0.6473157405853271,
          0.6536895632743835,
          0.6424729228019714,
          0.6428897976875305,
          0.6565918326377869,
          0.6458451151847839,
          0.6122175455093384,
          0.660086452960968,
          0.6799641251564026,
          0.608840823173523,
          0.6504276990890503,
          0.6368987560272217,
          0.692884087562561,
          0.6700316667556763,
          0.640800952911377,
          0.6099244356155396,
          0.6289035081863403,
          0.6494845747947693,
          0.6492102146148682,
          0.6667535305023193,
          0.6880236268043518,
          0.6916376352310181,
          0.6606162786483765,
          0.6839715242385864,
          0.6557557582855225,
          0.6579325199127197,
          0.6539513468742371,
          0.6582150459289551,
          0.6724718809127808,
          0.6863346695899963,
          0.6700745224952698,
          0.6678106188774109,
          0.6685983538627625,
          0.6654300689697266,
          0.6354039907455444,
          0.6514274477958679,
          0.694184422492981,
          0.5729390382766724,
          0.6611005067825317,
          0.6616610884666443,
          0.6479422450065613,
          0.633339524269104,
          0.6128679513931274,
          0.6493502259254456,
          0.6272656917572021,
          0.6689997315406799,
          0.6881197690963745,
          0.6466988921165466,
          0.623175323009491,
          0.6792929768562317,
          0.6729103922843933,
          0.6411927342414856,
          0.6500293016433716,
          0.6637774705886841,
          0.6475194692611694,
          0.647855818271637,
          0.651175320148468,
          0.65621018409729,
          0.6297478079795837,
          0.6470685601234436,
          0.6390021443367004,
          0.6202662587165833,
          0.6804885864257812,
          0.6439273953437805,
          0.6722568273544312,
          0.6538587808609009,
          0.684104323387146,
          0.6540108919143677,
          0.641834557056427,
          0.6611728072166443,
          0.6380407810211182,
          0.6893348693847656,
          0.6283740997314453,
          0.6326728463172913,
          0.6506590247154236,
          0.6742397546768188,
          0.6705983877182007,
          0.6763696670532227,
          0.6378206014633179,
          0.6714139580726624,
          0.5966448783874512,
          0.6832410097122192,
          0.6818517446517944,
          0.6254166960716248,
          0.66252201795578,
          0.6540030241012573,
          0.6409415006637573,
          0.6050918698310852,
          0.6718366742134094,
          0.650344729423523,
          0.6801913976669312,
          0.6539048552513123,
          0.622422993183136,
          0.6323798298835754,
          0.6386716961860657,
          0.6555863618850708,
          0.6339554786682129,
          0.6408648490905762,
          0.6387766003608704,
          0.6819244027137756,
          0.6277967095375061,
          0.6664534211158752,
          0.6920731067657471,
          0.6397639513015747,
          0.6654819250106812,
          0.6725509166717529,
          0.6829497218132019,
          0.6568633317947388,
          0.6601589322090149,
          0.6425459980964661,
          0.673909604549408,
          0.6682448387145996,
          0.6377524733543396,
          0.6153281927108765,
          0.648192286491394,
          0.6716161966323853,
          0.6759883761405945,
          0.6229457855224609,
          0.6575409173965454,
          0.6594501733779907,
          0.6409163475036621,
          0.6761761903762817,
          0.6674216985702515,
          0.6774211525917053,
          0.6691486239433289,
          0.6704493761062622,
          0.6788469552993774,
          0.6252589225769043,
          0.6684507727622986,
          0.6447846293449402,
          0.6604210138320923,
          0.6574748754501343,
          0.6401848793029785,
          0.638626754283905,
          0.6867774724960327,
          0.6675586104393005,
          0.6869624853134155,
          0.6708751916885376,
          0.6307934522628784,
          0.635154664516449,
          0.6641300320625305,
          0.6101695895195007,
          0.6448267698287964,
          0.6492478847503662,
          0.6268870234489441,
          0.6607540845870972,
          0.6606132984161377,
          0.6631903052330017,
          0.6516345143318176,
          0.6531728506088257,
          0.6563878059387207,
          0.6128894090652466,
          0.6737977862358093,
          0.6505298614501953,
          0.6301760673522949,
          0.6313513517379761,
          0.6562215685844421,
          0.6244134306907654,
          0.6941778659820557,
          0.6689152717590332,
          0.6501389741897583,
          0.6458159685134888,
          0.6412742137908936,
          0.6615790128707886,
          0.6197479367256165,
          0.6518667340278625,
          0.6286236643791199,
          0.6581248044967651,
          0.6438265442848206,
          0.6427071690559387,
          0.630719780921936,
          0.6345686912536621,
          0.6808416247367859,
          0.6898789405822754,
          0.6256725192070007,
          0.668784499168396,
          0.6364837288856506,
          0.6584353446960449,
          0.6471667289733887,
          0.6770610809326172,
          0.6364525556564331,
          0.6614201664924622,
          0.665375828742981,
          0.6462370157241821,
          0.6971396803855896,
          0.6506325602531433,
          0.6416099667549133,
          0.6352090835571289,
          0.6684660315513611,
          0.6726149320602417,
          0.690758466720581,
          0.6577036380767822,
          0.6397432088851929,
          0.6557260751724243,
          0.6652596592903137,
          0.6649966239929199,
          0.6548289060592651,
          0.6530988216400146,
          0.64850252866745,
          0.6887702941894531,
          0.6652844548225403
         ]
        }
       ],
       "layout": {
        "autosize": false,
        "font": {
         "size": 30
        },
        "height": 900,
        "template": {
         "data": {
          "bar": [
           {
            "error_x": {
             "color": "#2a3f5f"
            },
            "error_y": {
             "color": "#2a3f5f"
            },
            "marker": {
             "line": {
              "color": "#E5ECF6",
              "width": 0.5
             },
             "pattern": {
              "fillmode": "overlay",
              "size": 10,
              "solidity": 0.2
             }
            },
            "type": "bar"
           }
          ],
          "barpolar": [
           {
            "marker": {
             "line": {
              "color": "#E5ECF6",
              "width": 0.5
             },
             "pattern": {
              "fillmode": "overlay",
              "size": 10,
              "solidity": 0.2
             }
            },
            "type": "barpolar"
           }
          ],
          "carpet": [
           {
            "aaxis": {
             "endlinecolor": "#2a3f5f",
             "gridcolor": "white",
             "linecolor": "white",
             "minorgridcolor": "white",
             "startlinecolor": "#2a3f5f"
            },
            "baxis": {
             "endlinecolor": "#2a3f5f",
             "gridcolor": "white",
             "linecolor": "white",
             "minorgridcolor": "white",
             "startlinecolor": "#2a3f5f"
            },
            "type": "carpet"
           }
          ],
          "choropleth": [
           {
            "colorbar": {
             "outlinewidth": 0,
             "ticks": ""
            },
            "type": "choropleth"
           }
          ],
          "contour": [
           {
            "colorbar": {
             "outlinewidth": 0,
             "ticks": ""
            },
            "colorscale": [
             [
              0,
              "#0d0887"
             ],
             [
              0.1111111111111111,
              "#46039f"
             ],
             [
              0.2222222222222222,
              "#7201a8"
             ],
             [
              0.3333333333333333,
              "#9c179e"
             ],
             [
              0.4444444444444444,
              "#bd3786"
             ],
             [
              0.5555555555555556,
              "#d8576b"
             ],
             [
              0.6666666666666666,
              "#ed7953"
             ],
             [
              0.7777777777777778,
              "#fb9f3a"
             ],
             [
              0.8888888888888888,
              "#fdca26"
             ],
             [
              1,
              "#f0f921"
             ]
            ],
            "type": "contour"
           }
          ],
          "contourcarpet": [
           {
            "colorbar": {
             "outlinewidth": 0,
             "ticks": ""
            },
            "type": "contourcarpet"
           }
          ],
          "heatmap": [
           {
            "colorbar": {
             "outlinewidth": 0,
             "ticks": ""
            },
            "colorscale": [
             [
              0,
              "#0d0887"
             ],
             [
              0.1111111111111111,
              "#46039f"
             ],
             [
              0.2222222222222222,
              "#7201a8"
             ],
             [
              0.3333333333333333,
              "#9c179e"
             ],
             [
              0.4444444444444444,
              "#bd3786"
             ],
             [
              0.5555555555555556,
              "#d8576b"
             ],
             [
              0.6666666666666666,
              "#ed7953"
             ],
             [
              0.7777777777777778,
              "#fb9f3a"
             ],
             [
              0.8888888888888888,
              "#fdca26"
             ],
             [
              1,
              "#f0f921"
             ]
            ],
            "type": "heatmap"
           }
          ],
          "heatmapgl": [
           {
            "colorbar": {
             "outlinewidth": 0,
             "ticks": ""
            },
            "colorscale": [
             [
              0,
              "#0d0887"
             ],
             [
              0.1111111111111111,
              "#46039f"
             ],
             [
              0.2222222222222222,
              "#7201a8"
             ],
             [
              0.3333333333333333,
              "#9c179e"
             ],
             [
              0.4444444444444444,
              "#bd3786"
             ],
             [
              0.5555555555555556,
              "#d8576b"
             ],
             [
              0.6666666666666666,
              "#ed7953"
             ],
             [
              0.7777777777777778,
              "#fb9f3a"
             ],
             [
              0.8888888888888888,
              "#fdca26"
             ],
             [
              1,
              "#f0f921"
             ]
            ],
            "type": "heatmapgl"
           }
          ],
          "histogram": [
           {
            "marker": {
             "pattern": {
              "fillmode": "overlay",
              "size": 10,
              "solidity": 0.2
             }
            },
            "type": "histogram"
           }
          ],
          "histogram2d": [
           {
            "colorbar": {
             "outlinewidth": 0,
             "ticks": ""
            },
            "colorscale": [
             [
              0,
              "#0d0887"
             ],
             [
              0.1111111111111111,
              "#46039f"
             ],
             [
              0.2222222222222222,
              "#7201a8"
             ],
             [
              0.3333333333333333,
              "#9c179e"
             ],
             [
              0.4444444444444444,
              "#bd3786"
             ],
             [
              0.5555555555555556,
              "#d8576b"
             ],
             [
              0.6666666666666666,
              "#ed7953"
             ],
             [
              0.7777777777777778,
              "#fb9f3a"
             ],
             [
              0.8888888888888888,
              "#fdca26"
             ],
             [
              1,
              "#f0f921"
             ]
            ],
            "type": "histogram2d"
           }
          ],
          "histogram2dcontour": [
           {
            "colorbar": {
             "outlinewidth": 0,
             "ticks": ""
            },
            "colorscale": [
             [
              0,
              "#0d0887"
             ],
             [
              0.1111111111111111,
              "#46039f"
             ],
             [
              0.2222222222222222,
              "#7201a8"
             ],
             [
              0.3333333333333333,
              "#9c179e"
             ],
             [
              0.4444444444444444,
              "#bd3786"
             ],
             [
              0.5555555555555556,
              "#d8576b"
             ],
             [
              0.6666666666666666,
              "#ed7953"
             ],
             [
              0.7777777777777778,
              "#fb9f3a"
             ],
             [
              0.8888888888888888,
              "#fdca26"
             ],
             [
              1,
              "#f0f921"
             ]
            ],
            "type": "histogram2dcontour"
           }
          ],
          "mesh3d": [
           {
            "colorbar": {
             "outlinewidth": 0,
             "ticks": ""
            },
            "type": "mesh3d"
           }
          ],
          "parcoords": [
           {
            "line": {
             "colorbar": {
              "outlinewidth": 0,
              "ticks": ""
             }
            },
            "type": "parcoords"
           }
          ],
          "pie": [
           {
            "automargin": true,
            "type": "pie"
           }
          ],
          "scatter": [
           {
            "fillpattern": {
             "fillmode": "overlay",
             "size": 10,
             "solidity": 0.2
            },
            "type": "scatter"
           }
          ],
          "scatter3d": [
           {
            "line": {
             "colorbar": {
              "outlinewidth": 0,
              "ticks": ""
             }
            },
            "marker": {
             "colorbar": {
              "outlinewidth": 0,
              "ticks": ""
             }
            },
            "type": "scatter3d"
           }
          ],
          "scattercarpet": [
           {
            "marker": {
             "colorbar": {
              "outlinewidth": 0,
              "ticks": ""
             }
            },
            "type": "scattercarpet"
           }
          ],
          "scattergeo": [
           {
            "marker": {
             "colorbar": {
              "outlinewidth": 0,
              "ticks": ""
             }
            },
            "type": "scattergeo"
           }
          ],
          "scattergl": [
           {
            "marker": {
             "colorbar": {
              "outlinewidth": 0,
              "ticks": ""
             }
            },
            "type": "scattergl"
           }
          ],
          "scattermapbox": [
           {
            "marker": {
             "colorbar": {
              "outlinewidth": 0,
              "ticks": ""
             }
            },
            "type": "scattermapbox"
           }
          ],
          "scatterpolar": [
           {
            "marker": {
             "colorbar": {
              "outlinewidth": 0,
              "ticks": ""
             }
            },
            "type": "scatterpolar"
           }
          ],
          "scatterpolargl": [
           {
            "marker": {
             "colorbar": {
              "outlinewidth": 0,
              "ticks": ""
             }
            },
            "type": "scatterpolargl"
           }
          ],
          "scatterternary": [
           {
            "marker": {
             "colorbar": {
              "outlinewidth": 0,
              "ticks": ""
             }
            },
            "type": "scatterternary"
           }
          ],
          "surface": [
           {
            "colorbar": {
             "outlinewidth": 0,
             "ticks": ""
            },
            "colorscale": [
             [
              0,
              "#0d0887"
             ],
             [
              0.1111111111111111,
              "#46039f"
             ],
             [
              0.2222222222222222,
              "#7201a8"
             ],
             [
              0.3333333333333333,
              "#9c179e"
             ],
             [
              0.4444444444444444,
              "#bd3786"
             ],
             [
              0.5555555555555556,
              "#d8576b"
             ],
             [
              0.6666666666666666,
              "#ed7953"
             ],
             [
              0.7777777777777778,
              "#fb9f3a"
             ],
             [
              0.8888888888888888,
              "#fdca26"
             ],
             [
              1,
              "#f0f921"
             ]
            ],
            "type": "surface"
           }
          ],
          "table": [
           {
            "cells": {
             "fill": {
              "color": "#EBF0F8"
             },
             "line": {
              "color": "white"
             }
            },
            "header": {
             "fill": {
              "color": "#C8D4E3"
             },
             "line": {
              "color": "white"
             }
            },
            "type": "table"
           }
          ]
         },
         "layout": {
          "annotationdefaults": {
           "arrowcolor": "#2a3f5f",
           "arrowhead": 0,
           "arrowwidth": 1
          },
          "autotypenumbers": "strict",
          "coloraxis": {
           "colorbar": {
            "outlinewidth": 0,
            "ticks": ""
           }
          },
          "colorscale": {
           "diverging": [
            [
             0,
             "#8e0152"
            ],
            [
             0.1,
             "#c51b7d"
            ],
            [
             0.2,
             "#de77ae"
            ],
            [
             0.3,
             "#f1b6da"
            ],
            [
             0.4,
             "#fde0ef"
            ],
            [
             0.5,
             "#f7f7f7"
            ],
            [
             0.6,
             "#e6f5d0"
            ],
            [
             0.7,
             "#b8e186"
            ],
            [
             0.8,
             "#7fbc41"
            ],
            [
             0.9,
             "#4d9221"
            ],
            [
             1,
             "#276419"
            ]
           ],
           "sequential": [
            [
             0,
             "#0d0887"
            ],
            [
             0.1111111111111111,
             "#46039f"
            ],
            [
             0.2222222222222222,
             "#7201a8"
            ],
            [
             0.3333333333333333,
             "#9c179e"
            ],
            [
             0.4444444444444444,
             "#bd3786"
            ],
            [
             0.5555555555555556,
             "#d8576b"
            ],
            [
             0.6666666666666666,
             "#ed7953"
            ],
            [
             0.7777777777777778,
             "#fb9f3a"
            ],
            [
             0.8888888888888888,
             "#fdca26"
            ],
            [
             1,
             "#f0f921"
            ]
           ],
           "sequentialminus": [
            [
             0,
             "#0d0887"
            ],
            [
             0.1111111111111111,
             "#46039f"
            ],
            [
             0.2222222222222222,
             "#7201a8"
            ],
            [
             0.3333333333333333,
             "#9c179e"
            ],
            [
             0.4444444444444444,
             "#bd3786"
            ],
            [
             0.5555555555555556,
             "#d8576b"
            ],
            [
             0.6666666666666666,
             "#ed7953"
            ],
            [
             0.7777777777777778,
             "#fb9f3a"
            ],
            [
             0.8888888888888888,
             "#fdca26"
            ],
            [
             1,
             "#f0f921"
            ]
           ]
          },
          "colorway": [
           "#636efa",
           "#EF553B",
           "#00cc96",
           "#ab63fa",
           "#FFA15A",
           "#19d3f3",
           "#FF6692",
           "#B6E880",
           "#FF97FF",
           "#FECB52"
          ],
          "font": {
           "color": "#2a3f5f"
          },
          "geo": {
           "bgcolor": "white",
           "lakecolor": "white",
           "landcolor": "#E5ECF6",
           "showlakes": true,
           "showland": true,
           "subunitcolor": "white"
          },
          "hoverlabel": {
           "align": "left"
          },
          "hovermode": "closest",
          "mapbox": {
           "style": "light"
          },
          "paper_bgcolor": "white",
          "plot_bgcolor": "#E5ECF6",
          "polar": {
           "angularaxis": {
            "gridcolor": "white",
            "linecolor": "white",
            "ticks": ""
           },
           "bgcolor": "#E5ECF6",
           "radialaxis": {
            "gridcolor": "white",
            "linecolor": "white",
            "ticks": ""
           }
          },
          "scene": {
           "xaxis": {
            "backgroundcolor": "#E5ECF6",
            "gridcolor": "white",
            "gridwidth": 2,
            "linecolor": "white",
            "showbackground": true,
            "ticks": "",
            "zerolinecolor": "white"
           },
           "yaxis": {
            "backgroundcolor": "#E5ECF6",
            "gridcolor": "white",
            "gridwidth": 2,
            "linecolor": "white",
            "showbackground": true,
            "ticks": "",
            "zerolinecolor": "white"
           },
           "zaxis": {
            "backgroundcolor": "#E5ECF6",
            "gridcolor": "white",
            "gridwidth": 2,
            "linecolor": "white",
            "showbackground": true,
            "ticks": "",
            "zerolinecolor": "white"
           }
          },
          "shapedefaults": {
           "line": {
            "color": "#2a3f5f"
           }
          },
          "ternary": {
           "aaxis": {
            "gridcolor": "white",
            "linecolor": "white",
            "ticks": ""
           },
           "baxis": {
            "gridcolor": "white",
            "linecolor": "white",
            "ticks": ""
           },
           "bgcolor": "#E5ECF6",
           "caxis": {
            "gridcolor": "white",
            "linecolor": "white",
            "ticks": ""
           }
          },
          "title": {
           "x": 0.05
          },
          "xaxis": {
           "automargin": true,
           "gridcolor": "white",
           "linecolor": "white",
           "ticks": "",
           "title": {
            "standoff": 15
           },
           "zerolinecolor": "white",
           "zerolinewidth": 2
          },
          "yaxis": {
           "automargin": true,
           "gridcolor": "white",
           "linecolor": "white",
           "ticks": "",
           "title": {
            "standoff": 15
           },
           "zerolinecolor": "white",
           "zerolinewidth": 2
          }
         }
        },
        "width": 1200,
        "xaxis": {
         "autorange": true,
         "range": [
          -0.5,
          1.5
         ],
         "type": "category"
        },
        "yaxis": {
         "range": [
          0,
          1
         ],
         "tickmode": "array",
         "title": {
          "font": {
           "size": 30
          }
         },
         "type": "linear"
        }
       }
      },
      "image/png": "[encoded data removed]"
     },
     "metadata": {},
     "output_type": "display_data"
    }
   ],
   "source": [
    "y0 = df.mse\n",
    "y1 = df.ssim\n",
    "\n",
    "fig = go.Figure()\n",
    "fig.add_trace(go.Box(y=y0, name='MSE',\n",
    "                marker_color = 'darkblue'))\n",
    "fig.add_trace(go.Box(y=y1, name = 'SSIM',\n",
    "                marker_color = 'royalblue'))\n",
    "fig.update_layout(\n",
    "    autosize=False,\n",
    "    width=1200,\n",
    "    height=900,\n",
    "    yaxis=dict(\n",
    "        # title_text=\"Y-axis Title\",\n",
    "        # ticktext=[\"Very long label\", \"long label\", \"3\", \"label\"],\n",
    "        # tickvals=,\n",
    "        tickmode=\"array\",\n",
    "        titlefont=dict(size=30),\n",
    "    ),\n",
    "    yaxis_range=[0,1],\n",
    "    font=dict(size=30),\n",
    ")\n",
    "fig.show(renderer=\"jupyterlab\")\n",
    "# fig.write_image(RUN_DIR + f'boxplot_metrics_snr_{model.params[\"snr\"]}.png')"
   ]
  },
  {
   "cell_type": "markdown",
   "id": "8d3a5563-9f72-4d98-b047-9207a18f5cd5",
   "metadata": {},
   "source": [
    "# Deconvolution method"
   ]
  },
  {
   "cell_type": "code",
   "execution_count": 42,
   "id": "77d65a79-5611-4b56-9664-6165ce395a20",
   "metadata": {},
   "outputs": [],
   "source": [
    "D = testset.dataset[10]['img']\n",
    "fft_D = torch.fft.fft2(D.squeeze(0))\n",
    "fft_A = torch.fft.fft2(torch.Tensor(mnist_mura.A))\n",
    "invert = torch.fft.ifft2(fft_D/fft_A)\n",
    "recenter = torch.roll(invert, [int((model.img_size-1)/2),int((model.img_size-1)/2)], dims=(0,1))"
   ]
  },
  {
   "cell_type": "code",
   "execution_count": 47,
   "id": "4fc30bb5-ba97-4932-bb92-3335a87bf523",
   "metadata": {},
   "outputs": [
    {
     "data": {
      "image/png": "[encoded data removed]",
      "text/plain": [
       "<Figure size 2000x700 with 8 Axes>"
      ]
     },
     "metadata": {},
     "output_type": "display_data"
    }
   ],
   "source": [
    "fig, axs = plt.subplots(1,4, figsize= (20,7))\n",
    "axs = axs.ravel()\n",
    "sns.heatmap(fft_D.real, ax=axs[0], cmap='gray')\n",
    "sns.heatmap(fft_A.real, ax=axs[1], cmap='gray')\n",
    "sns.heatmap(invert.real, ax=axs[2], cmap='gray')\n",
    "sns.heatmap(recenter.real, ax=axs[3], cmap='gray')\n",
    "plt.show()"
   ]
  },
  {
   "cell_type": "markdown",
   "id": "f0142e25-a091-430d-acac-5a17be1d1fea",
   "metadata": {
    "jp-MarkdownHeadingCollapsed": true
   },
   "source": [
    "# Rotate the weights"
   ]
  },
  {
   "cell_type": "code",
   "execution_count": 42,
   "id": "60bdfa7f-37ad-4e49-95fe-7f355909a7c4",
   "metadata": {},
   "outputs": [
    {
     "data": {
      "text/plain": [
       "<matplotlib.image.AxesImage at 0x287a36510>"
      ]
     },
     "execution_count": 42,
     "metadata": {},
     "output_type": "execute_result"
    },
    {
     "data": {
      "image/png": "[encoded data removed]",
      "text/plain": [
       "<Figure size 640x480 with 1 Axes>"
      ]
     },
     "metadata": {},
     "output_type": "display_data"
    }
   ],
   "source": [
    "# Rotate the weights 180 degrees\n",
    "w_rot90 = torch.rot90(torch.Tensor(weight_map), 1, [0, 1])\n",
    "w_rot180 = torch.rot90(w_rot90, 1, [0, 1])\n",
    "plt.imshow(w_rot180, cmap='gray')"
   ]
  },
  {
   "cell_type": "code",
   "execution_count": 28,
   "id": "c70b6ff0-3648-4042-8979-bbf5d0725385",
   "metadata": {},
   "outputs": [],
   "source": [
    "padded_ex = torch.nn.functional.pad(loaders['train'].dataset[idx]['target'].unsqueeze(0), pad=(11,11,11,11), mode='circular')\n",
    "padded_ex = padded_ex.squeeze(0).squeeze(0)"
   ]
  },
  {
   "cell_type": "code",
   "execution_count": 34,
   "id": "576aa903-ae03-4e34-a87a-9657029465c9",
   "metadata": {},
   "outputs": [
    {
     "data": {
      "image/png": "[encoded data removed]",
      "text/plain": [
       "<Figure size 640x480 with 1 Axes>"
      ]
     },
     "metadata": {},
     "output_type": "display_data"
    }
   ],
   "source": [
    "plt.imshow(padded_ex, cmap='gray')\n",
    "plt.show()"
   ]
  },
  {
   "cell_type": "code",
   "execution_count": null,
   "id": "580f6709-a14d-494a-87a1-8962f84d4595",
   "metadata": {},
   "outputs": [],
   "source": []
  }
 ],
 "metadata": {
  "kernelspec": {
   "display_name": "Python 3 (ipykernel)",
   "language": "python",
   "name": "python3"
  },
  "language_info": {
   "codemirror_mode": {
    "name": "ipython",
    "version": 3
   },
   "file_extension": ".py",
   "mimetype": "text/x-python",
   "name": "python",
   "nbconvert_exporter": "python",
   "pygments_lexer": "ipython3",
   "version": "3.11.7"
  }
 },
 "nbformat": 4,
 "nbformat_minor": 5
}
