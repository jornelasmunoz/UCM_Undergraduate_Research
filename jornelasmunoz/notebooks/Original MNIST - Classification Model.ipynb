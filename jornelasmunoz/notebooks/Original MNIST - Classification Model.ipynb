{
 "cells": [
  {
   "cell_type": "code",
   "execution_count": 1,
   "id": "d1ee478c-9434-475c-96c0-1163e8e2294e",
   "metadata": {},
   "outputs": [],
   "source": [
    "%load_ext autoreload\n",
    "%autoreload 2"
   ]
  },
  {
   "cell_type": "markdown",
   "id": "f31e617f-c412-455a-bd46-e487a810c519",
   "metadata": {},
   "source": [
    "# Classification Task using the Original MNIST Data\n",
    "The purpose of this notebook is to get a baseline accuracy for the original MNIST images. This is so that we cam compare performance of our methods later. "
   ]
  },
  {
   "cell_type": "code",
   "execution_count": 8,
   "id": "4951ea99-3476-46cf-99a6-3f361b5d760d",
   "metadata": {
    "tags": []
   },
   "outputs": [
    {
     "name": "stdout",
     "output_type": "stream",
     "text": [
      "Using path =  /Users/jocelynornelas/iCloud Drive (Archive)/Desktop/UC Merced/Research/coded-aperture/jornelasmunoz/\n"
     ]
    }
   ],
   "source": [
    "import os, sys\n",
    "import numpy as np\n",
    "import pandas as pd\n",
    "import matplotlib.pyplot as plt\n",
    "import seaborn as sns\n",
    "#from scipy.fft import fft2, ifft2, fft, ifft\n",
    "\n",
    "import torchvision.transforms as transforms\n",
    "from torchvision import datasets\n",
    "import torch\n",
    "import sklearn\n",
    "import wandb\n",
    "\n",
    "desktop_path = '/Users/jocelynornelasmunoz/Desktop/Research/coded-aperture/jornelasmunoz/'\n",
    "laptop_path = '/Users/jocelynornelas/iCloud Drive (Archive)/Desktop/UC Merced/Research/coded-aperture/jornelasmunoz/'\n",
    "if desktop_path in sys.path[0]: sys.path.insert(0, desktop_path + 'lib/'); path = desktop_path\n",
    "elif laptop_path in sys.path[0]: sys.path.insert(0, laptop_path + 'lib/'); path = laptop_path\n",
    "print('Using path = ', path)\n",
    "\n",
    "import MURA as mura\n",
    "from CNN import CNN\n",
    "import confusion_matrix as cm"
   ]
  },
  {
   "cell_type": "code",
   "execution_count": 3,
   "id": "45de13a4-1e8d-4c6c-8f2b-d10cea4462cb",
   "metadata": {},
   "outputs": [],
   "source": [
    "# Change plotting parameters\n",
    "plt.rcParams.update({\n",
    "    \"text.usetex\": True,\n",
    "    \"font.family\": \"Times\", #\"Computer Modern Serif\"\n",
    "    \"figure.figsize\" : [15,10],\n",
    "})"
   ]
  },
  {
   "cell_type": "code",
   "execution_count": 4,
   "id": "e05c49da-b92e-42b7-87ae-c6d1d190878a",
   "metadata": {},
   "outputs": [
    {
     "name": "stdout",
     "output_type": "stream",
     "text": [
      "Using cpu device\n"
     ]
    },
    {
     "name": "stderr",
     "output_type": "stream",
     "text": [
      "\u001b[34m\u001b[1mwandb\u001b[0m: Currently logged in as: \u001b[33mjocelynornelasmunoz\u001b[0m. Use \u001b[1m`wandb login --relogin`\u001b[0m to force relogin\n"
     ]
    },
    {
     "data": {
      "text/plain": [
       "True"
      ]
     },
     "execution_count": 4,
     "metadata": {},
     "output_type": "execute_result"
    }
   ],
   "source": [
    "device = \"cuda\" if torch.cuda.is_available() else \"cpu\"\n",
    "print(f\"Using {device} device\")\n",
    "\n",
    "# Log into WandB\n",
    "wandb.login()"
   ]
  },
  {
   "cell_type": "markdown",
   "id": "734f0ec2-62e8-43cd-95b9-631d9bbaf1cd",
   "metadata": {},
   "source": [
    "# Load MNIST Data"
   ]
  },
  {
   "cell_type": "code",
   "execution_count": 6,
   "id": "bc41b3a4-5613-4d05-ad68-d25b228d8327",
   "metadata": {},
   "outputs": [
    {
     "name": "stdout",
     "output_type": "stream",
     "text": [
      "CPU times: user 1.64 ms, sys: 91 µs, total: 1.73 ms\n",
      "Wall time: 1.72 ms\n"
     ]
    }
   ],
   "source": [
    "%%time\n",
    "# define hyperparameters\n",
    "params = {\n",
    "  \"dataset\": \"MNIST- original\",\n",
    " # \"machine\": \"desktop\",\n",
    "  \"model\": \"OG_classification\",\n",
    "  \"learning_rate\": 1e-3,\n",
    "  \"batch_size\": 100,\n",
    "  \"epochs\": 50,\n",
    "  \"kernel_size\":3,\n",
    "  \"p\": 23, # size of array (has to be prime)\n",
    "  \"image_size\": 23\n",
    "}\n",
    "wandb.config = params\n",
    "\n",
    "# Compute MURA encoder and decoder\n",
    "params['A'] = mura.create_binary_aperture_arr(params['p'])\n",
    "params['G'] = mura.create_decoding_arr(params['A'])"
   ]
  },
  {
   "cell_type": "code",
   "execution_count": 10,
   "id": "aeadf618-4497-4b04-9146-00ddbc3c24f0",
   "metadata": {},
   "outputs": [],
   "source": [
    "# Get test and training data\n",
    "train_data = datasets.MNIST(\n",
    "root = '../data/',\n",
    "train = True,                         \n",
    "transform = transforms.Compose([\n",
    "                transforms.ToTensor(),\n",
    "                transforms.Resize(params['image_size']),\n",
    "                transforms.Normalize(0, 1)\n",
    "            ]), \n",
    "download = False,            \n",
    ")\n",
    "\n",
    "test_data = datasets.MNIST(\n",
    "    root = '../data/', \n",
    "    train = False, \n",
    "    transform = transforms.Compose([\n",
    "                    transforms.ToTensor(),\n",
    "                    transforms.Resize(params['image_size']),\n",
    "                    transforms.Normalize(0, 1)\n",
    "                ]) \n",
    ")"
   ]
  },
  {
   "cell_type": "code",
   "execution_count": 12,
   "id": "b761418f-ee7a-496a-8ef4-065251baa2ea",
   "metadata": {},
   "outputs": [],
   "source": [
    "# define CNN and get data\n",
    "model = CNN().to(device)\n",
    "criterion = torch.nn.CrossEntropyLoss()\n",
    "optimizer = torch.optim.Adam(model.parameters(), lr = 1e-3) \n",
    "PATH = f'../models/{params[\"model\"]}_mnist_{params[\"epochs\"]}epochs.pth'"
   ]
  },
  {
   "cell_type": "code",
   "execution_count": 13,
   "id": "d977b2cf-4caf-4d87-bb28-eededd7460d6",
   "metadata": {},
   "outputs": [],
   "source": [
    "loaders = {\n",
    "    'train' : torch.utils.data.DataLoader(train_data, \n",
    "                                          batch_size=params['batch_size'], \n",
    "                                          shuffle=True, \n",
    "                                          num_workers=0),\n",
    "    \n",
    "    'test'  : torch.utils.data.DataLoader(test_data, \n",
    "                                          batch_size=params['batch_size'], \n",
    "                                          shuffle=False, \n",
    "                                          num_workers=0),\n",
    "}"
   ]
  },
  {
   "cell_type": "code",
   "execution_count": 17,
   "id": "27bf218b-c528-4f50-b1c5-53ecdb75a041",
   "metadata": {},
   "outputs": [
    {
     "data": {
      "image/png": "[encoded data removed]",
      "text/plain": [
       "<Figure size 1500x1000 with 5 Axes>"
      ]
     },
     "metadata": {},
     "output_type": "display_data"
    }
   ],
   "source": [
    "# Printing 25 random images from the training dataset\n",
    "random_samples = np.random.randint(1, len(train_data), (5))\n",
    "count = 0\n",
    "for idx in random_samples: #range(random_samples.shape[0]):\n",
    "    plt.subplot(1, 5, count + 1)\n",
    "    plt.imshow(train_data[idx][0][0].numpy(), cmap='gray')\n",
    "    #plt.colorbar()\n",
    "    plt.title(f'Label: {train_data[idx][1]}')\n",
    "    # plt.subplot(2, 5, count + 6)\n",
    "    # plt.imshow(train_data[idx][1][0].numpy(), cmap='gray')\n",
    "    # plt.title('Original image')\n",
    "    # plt.axis('off')\n",
    "    \n",
    "    count += 1\n",
    "plt.tight_layout()\n",
    "plt.show()"
   ]
  },
  {
   "cell_type": "markdown",
   "id": "1c738eca-37cf-4d0e-815f-0542d37b0a48",
   "metadata": {
    "tags": []
   },
   "source": [
    "## Train"
   ]
  },
  {
   "cell_type": "code",
   "execution_count": 20,
   "id": "ab4da39d-aa54-443e-9448-1b3a75c51e57",
   "metadata": {
    "tags": []
   },
   "outputs": [
    {
     "data": {
      "text/html": [
       "wandb version 0.14.0 is available!  To upgrade, please run:\n",
       " $ pip install wandb --upgrade"
      ],
      "text/plain": [
       "<IPython.core.display.HTML object>"
      ]
     },
     "metadata": {},
     "output_type": "display_data"
    },
    {
     "data": {
      "text/html": [
       "Tracking run with wandb version 0.13.11"
      ],
      "text/plain": [
       "<IPython.core.display.HTML object>"
      ]
     },
     "metadata": {},
     "output_type": "display_data"
    },
    {
     "data": {
      "text/html": [
       "Run data is saved locally in <code>/Users/jocelynornelas/iCloud Drive (Archive)/Desktop/UC Merced/Research/coded-aperture/jornelasmunoz/notebooks/wandb/run-20230319_160021-gqa664hv</code>"
      ],
      "text/plain": [
       "<IPython.core.display.HTML object>"
      ]
     },
     "metadata": {},
     "output_type": "display_data"
    },
    {
     "data": {
      "text/html": [
       "Syncing run <strong><a href='https://wandb.ai/jocelynornelasmunoz/coded-aperture-MNIST/runs/gqa664hv' target=\"_blank\">fluent-elevator-50</a></strong> to <a href='https://wandb.ai/jocelynornelasmunoz/coded-aperture-MNIST' target=\"_blank\">Weights & Biases</a> (<a href='https://wandb.me/run' target=\"_blank\">docs</a>)<br/>"
      ],
      "text/plain": [
       "<IPython.core.display.HTML object>"
      ]
     },
     "metadata": {},
     "output_type": "display_data"
    },
    {
     "data": {
      "text/html": [
       " View project at <a href='https://wandb.ai/jocelynornelasmunoz/coded-aperture-MNIST' target=\"_blank\">https://wandb.ai/jocelynornelasmunoz/coded-aperture-MNIST</a>"
      ],
      "text/plain": [
       "<IPython.core.display.HTML object>"
      ]
     },
     "metadata": {},
     "output_type": "display_data"
    },
    {
     "data": {
      "text/html": [
       " View run at <a href='https://wandb.ai/jocelynornelasmunoz/coded-aperture-MNIST/runs/gqa664hv' target=\"_blank\">https://wandb.ai/jocelynornelasmunoz/coded-aperture-MNIST/runs/gqa664hv</a>"
      ],
      "text/plain": [
       "<IPython.core.display.HTML object>"
      ]
     },
     "metadata": {},
     "output_type": "display_data"
    },
    {
     "name": "stdout",
     "output_type": "stream",
     "text": [
      "[1] loss: 0.458\n",
      "[2] loss: 0.114\n",
      "[3] loss: 0.079\n",
      "[4] loss: 0.062\n",
      "[5] loss: 0.050\n",
      "[6] loss: 0.042\n",
      "[7] loss: 0.034\n",
      "[8] loss: 0.030\n",
      "[9] loss: 0.028\n",
      "[10] loss: 0.025\n",
      "[11] loss: 0.022\n",
      "[12] loss: 0.022\n",
      "[13] loss: 0.017\n",
      "[14] loss: 0.015\n",
      "[15] loss: 0.015\n",
      "[16] loss: 0.015\n",
      "[17] loss: 0.012\n",
      "[18] loss: 0.012\n",
      "[19] loss: 0.011\n",
      "[20] loss: 0.011\n",
      "[21] loss: 0.008\n",
      "[22] loss: 0.011\n",
      "[23] loss: 0.008\n",
      "[24] loss: 0.008\n",
      "[25] loss: 0.008\n",
      "[26] loss: 0.006\n",
      "[27] loss: 0.009\n",
      "[28] loss: 0.008\n",
      "[29] loss: 0.006\n",
      "[30] loss: 0.007\n",
      "[31] loss: 0.005\n",
      "[32] loss: 0.007\n",
      "[33] loss: 0.006\n",
      "[34] loss: 0.005\n",
      "[35] loss: 0.005\n",
      "[36] loss: 0.007\n",
      "[37] loss: 0.003\n",
      "[38] loss: 0.006\n",
      "[39] loss: 0.005\n",
      "[40] loss: 0.005\n",
      "[41] loss: 0.004\n",
      "[42] loss: 0.005\n",
      "[43] loss: 0.005\n",
      "[44] loss: 0.005\n",
      "[45] loss: 0.005\n",
      "[46] loss: 0.005\n",
      "[47] loss: 0.004\n",
      "[48] loss: 0.003\n",
      "[49] loss: 0.003\n",
      "[50] loss: 0.002\n",
      "Finished Training\n"
     ]
    },
    {
     "data": {
      "text/html": [
       "Waiting for W&B process to finish... <strong style=\"color:green\">(success).</strong>"
      ],
      "text/plain": [
       "<IPython.core.display.HTML object>"
      ]
     },
     "metadata": {},
     "output_type": "display_data"
    },
    {
     "data": {
      "application/vnd.jupyter.widget-view+json": {
       "model_id": "5317bfeeb34b45c9b6ee727993fcaad2",
       "version_major": 2,
       "version_minor": 0
      },
      "text/plain": [
       "VBox(children=(Label(value='0.001 MB of 0.001 MB uploaded (0.000 MB deduped)\\r'), FloatProgress(value=1.0, max…"
      ]
     },
     "metadata": {},
     "output_type": "display_data"
    },
    {
     "data": {
      "text/html": [
       "<style>\n",
       "    table.wandb td:nth-child(1) { padding: 0 10px; text-align: left ; width: auto;} td:nth-child(2) {text-align: left ; width: 100%}\n",
       "    .wandb-row { display: flex; flex-direction: row; flex-wrap: wrap; justify-content: flex-start; width: 100% }\n",
       "    .wandb-col { display: flex; flex-direction: column; flex-basis: 100%; flex: 1; padding: 10px; }\n",
       "    </style>\n",
       "<div class=\"wandb-row\"><div class=\"wandb-col\"><h3>Run history:</h3><br/><table class=\"wandb\"><tr><td>epoch</td><td>▁▁▁▁▂▂▂▂▂▃▃▃▃▃▃▄▄▄▄▄▅▅▅▅▅▅▆▆▆▆▆▆▇▇▇▇▇███</td></tr><tr><td>loss</td><td>█▃▂▂▂▁▁▁▁▁▁▁▁▁▁▁▁▁▁▁▁▁▁▁▁▁▁▁▁▁▁▁▁▁▁▁▁▁▁▁</td></tr></table><br/></div><div class=\"wandb-col\"><h3>Run summary:</h3><br/><table class=\"wandb\"><tr><td>epoch</td><td>49</td></tr><tr><td>loss</td><td>0.00174</td></tr></table><br/></div></div>"
      ],
      "text/plain": [
       "<IPython.core.display.HTML object>"
      ]
     },
     "metadata": {},
     "output_type": "display_data"
    },
    {
     "data": {
      "text/html": [
       " View run <strong style=\"color:#cdcd00\">fluent-elevator-50</strong> at: <a href='https://wandb.ai/jocelynornelasmunoz/coded-aperture-MNIST/runs/gqa664hv' target=\"_blank\">https://wandb.ai/jocelynornelasmunoz/coded-aperture-MNIST/runs/gqa664hv</a><br/>Synced 6 W&B file(s), 0 media file(s), 0 artifact file(s) and 0 other file(s)"
      ],
      "text/plain": [
       "<IPython.core.display.HTML object>"
      ]
     },
     "metadata": {},
     "output_type": "display_data"
    },
    {
     "data": {
      "text/html": [
       "Find logs at: <code>./wandb/run-20230319_160021-gqa664hv/logs</code>"
      ],
      "text/plain": [
       "<IPython.core.display.HTML object>"
      ]
     },
     "metadata": {},
     "output_type": "display_data"
    }
   ],
   "source": [
    "wandb.init(project=\"coded-aperture-MNIST\", group=params['model'], config=wandb.config)\n",
    "for epoch in range(params['epochs']):  # loop over the dataset multiple times\n",
    "\n",
    "    running_loss = 0.0\n",
    "    for i, data in enumerate(loaders['train']):\n",
    "        # Set mode to train\n",
    "        model.train()\n",
    "        \n",
    "        # get the inputs; data is a list of [inputs, labels]\n",
    "        inputs, labels = data\n",
    "\n",
    "        # zero the parameter gradients\n",
    "        optimizer.zero_grad()\n",
    "        \n",
    "        # forward + backward + optimize\n",
    "        outputs = model(inputs)\n",
    "        loss = criterion(outputs, labels)\n",
    "        loss.backward()\n",
    "        optimizer.step()\n",
    "\n",
    "        # print statistics\n",
    "        running_loss += loss.item()\n",
    "        \n",
    "    # Report training loss every epoch    \n",
    "    running_loss /= len(loaders['train'])\n",
    "    print(f'[{epoch + 1}] loss: {running_loss:.3f}')\n",
    "    \n",
    "    wandb.log({\"epoch\": epoch, \"loss\": running_loss})\n",
    "    \n",
    "print('Finished Training')\n",
    "# Save model\n",
    "\n",
    "torch.save(model.state_dict(), PATH)\n",
    "wandb.finish()"
   ]
  },
  {
   "cell_type": "markdown",
   "id": "3ed40ed9-75ed-412e-ad89-fdc1db0a478b",
   "metadata": {},
   "source": [
    "## Evaluate"
   ]
  },
  {
   "cell_type": "code",
   "execution_count": 21,
   "id": "87df8d42-1109-43a7-a5be-d76f08275544",
   "metadata": {},
   "outputs": [
    {
     "data": {
      "text/plain": [
       "<All keys matched successfully>"
      ]
     },
     "execution_count": 21,
     "metadata": {},
     "output_type": "execute_result"
    }
   ],
   "source": [
    "# Load model if one is not loaded already\n",
    "model.load_state_dict(torch.load(PATH))"
   ]
  },
  {
   "cell_type": "markdown",
   "id": "2c81d2f9-9822-40c3-971c-ff0b5c337042",
   "metadata": {},
   "source": [
    "### One batch"
   ]
  },
  {
   "cell_type": "code",
   "execution_count": 22,
   "id": "02f557d0-b2ec-4aa8-801b-a874b9efa1b7",
   "metadata": {},
   "outputs": [],
   "source": [
    "# Define data iterator to get testing data in batches\n",
    "dataiter = iter(loaders['test'])\n",
    "images, labels = dataiter.next()\n",
    "\n",
    "# Input image batch into model to get predictions\n",
    "outputs = model(images)\n",
    "_, predicted = torch.max(outputs, 1)"
   ]
  },
  {
   "cell_type": "markdown",
   "id": "851105b3-1432-4c16-80c2-76b44005f741",
   "metadata": {},
   "source": [
    "### ALL test set"
   ]
  },
  {
   "cell_type": "code",
   "execution_count": 26,
   "id": "7e79ca77-4421-4013-ad0f-9a1ac8a21e8f",
   "metadata": {},
   "outputs": [
    {
     "name": "stdout",
     "output_type": "stream",
     "text": [
      "Accuracy of the network on the 10000 test images: 98.99 %\n"
     ]
    }
   ],
   "source": [
    "# Initialize variables\n",
    "correct = 0\n",
    "total = 0\n",
    "incorrect_examples = []\n",
    "predicted_all = []\n",
    "labels_all = []\n",
    "\n",
    "# since we're not training, we don't need to calculate the gradients for our outputs\n",
    "with torch.no_grad():\n",
    "    for data in loaders['test']:\n",
    "        # get images and labels from test set\n",
    "        images, labels = data\n",
    "    \n",
    "        # calculate outputs by running images through the network (done in batches)\n",
    "        outputs = model(images)\n",
    "        # the class with the highest energy is what we choose as prediction\n",
    "        _, predicted = torch.max(outputs.data, 1)\n",
    "        total += labels.size(0)\n",
    "        correct += (predicted == labels).sum().item()\n",
    "        idxs_mask = torch.nonzero(predicted != labels) #((predicted == labels) == False).nonzero()\n",
    "        for single_sample in idxs_mask:\n",
    "            incorrect_examples.append([np.squeeze(images[single_sample].numpy()), \n",
    "                                       labels[single_sample].numpy()[0], \n",
    "                                       predicted[single_sample].numpy()[0]])\n",
    "        predicted_all.append(predicted.tolist())\n",
    "        labels_all.append(labels.tolist())\n",
    "\n",
    "print(f'Accuracy of the network on the {total} test images: {100 * correct / total} %')\n",
    "\n",
    "predicted_all = list(np.concatenate(predicted_all).flat) \n",
    "labels_all = list(np.concatenate(labels_all).flat) "
   ]
  },
  {
   "cell_type": "markdown",
   "id": "eda51d48-4028-4838-a5e1-ad53ebfed1c3",
   "metadata": {},
   "source": [
    "## Confusion Matrix"
   ]
  },
  {
   "cell_type": "code",
   "execution_count": 27,
   "id": "c9e7de1d-7525-45be-86b5-ecf6ed73fa12",
   "metadata": {},
   "outputs": [
    {
     "data": {
      "image/png": "[encoded data removed]",
      "text/plain": [
       "<Figure size 1000x700 with 2 Axes>"
      ]
     },
     "metadata": {},
     "output_type": "display_data"
    }
   ],
   "source": [
    "## Confusion Matrix\n",
    "# Converting list of tensors to list of integers\n",
    "preds = [pred for pred in predicted_all]\n",
    "truths = [tru for tru in labels_all]\n",
    "\n",
    "con_mat = sklearn.metrics.confusion_matrix(truths,preds,normalize='true')\n",
    "axlabels= [ str(num) for num in np.arange(10)]\n",
    "\n",
    "fig, ax = plt.subplots(figsize=(10,7))\n",
    "im, cbar = cm.heatmap(con_mat, axlabels, axlabels, ax=ax,cmap = 'Blues', cbarlabel=\"Probability\")\n",
    "plt.ylabel(\"Truth\")\n",
    "plt.xlabel(\"Prediction\")\n",
    "texts = cm.annotate_heatmap(im, valfmt=\"{x:.3f}\")\n",
    "fig1 = plt.gcf()\n",
    "#fig1.savefig(\"../figs/conf_mat.png\")"
   ]
  },
  {
   "cell_type": "markdown",
   "id": "f6e84f2e-c4b7-4197-b836-593739a5851d",
   "metadata": {},
   "source": [
    "## Class-specific accuracy"
   ]
  },
  {
   "cell_type": "code",
   "execution_count": 28,
   "id": "178f8d8d-7052-4123-bd8a-a1206be12c8a",
   "metadata": {},
   "outputs": [
    {
     "name": "stdout",
     "output_type": "stream",
     "text": [
      "Accuracy for class:     0 is 99.592 %\n",
      "Accuracy for class:     1 is 99.736 %\n",
      "Accuracy for class:     2 is 99.128 %\n",
      "Accuracy for class:     3 is 98.911 %\n",
      "Accuracy for class:     4 is 98.676 %\n",
      "Accuracy for class:     5 is 99.103 %\n",
      "Accuracy for class:     6 is 98.747 %\n",
      "Accuracy for class:     7 is 98.833 %\n",
      "Accuracy for class:     8 is 99.179 %\n",
      "Accuracy for class:     9 is 97.919 %\n"
     ]
    }
   ],
   "source": [
    "classes = [i for i in range(10)]\n",
    "# prepare to count predictions for each class\n",
    "correct_pred = {classname: 0 for classname in classes}\n",
    "total_pred = {classname: 0 for classname in classes}\n",
    "\n",
    "# again no gradients needed\n",
    "with torch.no_grad():\n",
    "    for data in loaders['test']:\n",
    "        images, labels = data\n",
    "        outputs = model(images)\n",
    "        _, predictions = torch.max(outputs, 1)\n",
    "        # collect the correct predictions for each class\n",
    "        for label, prediction in zip(labels, predictions):\n",
    "            if label == prediction:\n",
    "                correct_pred[int(label.numpy())] += 1\n",
    "            total_pred[int(label.numpy())] += 1\n",
    "\n",
    "\n",
    "# print accuracy for each class\n",
    "for classname, correct_count in correct_pred.items():\n",
    "    accuracy = 100 * float(correct_count) / total_pred[classname]\n",
    "    print(f'Accuracy for class: {classname:5d} is {accuracy:.3f} %')"
   ]
  },
  {
   "cell_type": "markdown",
   "id": "ffefdad3-de48-46bd-a7bd-0c5c7d71c1bf",
   "metadata": {
    "tags": []
   },
   "source": [
    "# Missclassifications"
   ]
  },
  {
   "cell_type": "code",
   "execution_count": 29,
   "id": "2e575236-a8cb-4d7a-86c7-88344a4f68de",
   "metadata": {
    "collapsed": true,
    "jupyter": {
     "outputs_hidden": true,
     "source_hidden": true
    },
    "tags": []
   },
   "outputs": [
    {
     "ename": "NameError",
     "evalue": "name 'G' is not defined",
     "output_type": "error",
     "traceback": [
      "\u001b[0;31m---------------------------------------------------------------------------\u001b[0m",
      "\u001b[0;31mNameError\u001b[0m                                 Traceback (most recent call last)",
      "Input \u001b[0;32mIn [29]\u001b[0m, in \u001b[0;36m<cell line: 3>\u001b[0;34m()\u001b[0m\n\u001b[1;32m      3\u001b[0m \u001b[38;5;28;01mfor\u001b[39;00m index \u001b[38;5;129;01min\u001b[39;00m \u001b[38;5;28mrange\u001b[39m(\u001b[38;5;241m30\u001b[39m,\u001b[38;5;241m50\u001b[39m):\u001b[38;5;66;03m#len(incorrect_examples)):\u001b[39;00m\n\u001b[1;32m      4\u001b[0m     img \u001b[38;5;241m=\u001b[39m np\u001b[38;5;241m.\u001b[39msqueeze(incorrect_examples[index][\u001b[38;5;241m0\u001b[39m])\n\u001b[0;32m----> 5\u001b[0m     true_img \u001b[38;5;241m=\u001b[39m mura\u001b[38;5;241m.\u001b[39mFFT_convolve(img, \u001b[43mG\u001b[49m)\n\u001b[1;32m      6\u001b[0m     true_lab \u001b[38;5;241m=\u001b[39m incorrect_examples[index][\u001b[38;5;241m1\u001b[39m]\n\u001b[1;32m      7\u001b[0m     pred_lab \u001b[38;5;241m=\u001b[39m incorrect_examples[index][\u001b[38;5;241m2\u001b[39m]\n",
      "\u001b[0;31mNameError\u001b[0m: name 'G' is not defined"
     ]
    }
   ],
   "source": [
    "#index = 1\n",
    "cmap = 'gray'\n",
    "for index in range(30,50):#len(incorrect_examples)):\n",
    "    true_img = np.squeeze(incorrect_examples[index][0])\n",
    "    true_lab = incorrect_examples[index][1]\n",
    "    pred_lab = incorrect_examples[index][2]\n",
    "\n",
    "    if true_lab in [3,5,7]:\n",
    "        fig, axs = plt.subplots(2,1, figsize=(5,7))\n",
    "        axs = axs.ravel()\n",
    "        axs[0].imshow(true_img, cmap=cmap)\n",
    "        axs[1].imshow(img, cmap=cmap)\n",
    "        axs[0].set_title(f\"True label: {true_lab}\", fontsize=16)\n",
    "        axs[1].set_title(f\"Predicted label: {pred_lab}\", fontsize=16)\n",
    "        #fig.savefig(f\"../figs/misclass_{index}\")\n",
    "        plt.show() "
   ]
  },
  {
   "cell_type": "code",
   "execution_count": 32,
   "id": "3d4b5ee4-9f59-4fa0-83d5-d32cc8ab1f3a",
   "metadata": {},
   "outputs": [
    {
     "data": {
      "text/html": [
       "<div>\n",
       "<style scoped>\n",
       "    .dataframe tbody tr th:only-of-type {\n",
       "        vertical-align: middle;\n",
       "    }\n",
       "\n",
       "    .dataframe tbody tr th {\n",
       "        vertical-align: top;\n",
       "    }\n",
       "\n",
       "    .dataframe thead th {\n",
       "        text-align: right;\n",
       "    }\n",
       "</style>\n",
       "<table border=\"1\" class=\"dataframe\">\n",
       "  <thead>\n",
       "    <tr style=\"text-align: right;\">\n",
       "      <th></th>\n",
       "      <th>image_array</th>\n",
       "      <th>label</th>\n",
       "      <th>prediction</th>\n",
       "    </tr>\n",
       "  </thead>\n",
       "  <tbody>\n",
       "    <tr>\n",
       "      <th>0</th>\n",
       "      <td>[[0.0, 0.0, 0.0, 0.0, 0.0, 0.0, 0.0, 0.0, 0.0,...</td>\n",
       "      <td>4</td>\n",
       "      <td>2</td>\n",
       "    </tr>\n",
       "    <tr>\n",
       "      <th>1</th>\n",
       "      <td>[[0.0, 0.0, 0.0, 0.0, 0.0, 0.0, 0.0, 0.0, 0.0,...</td>\n",
       "      <td>6</td>\n",
       "      <td>0</td>\n",
       "    </tr>\n",
       "    <tr>\n",
       "      <th>2</th>\n",
       "      <td>[[0.0, 0.0, 0.0, 0.0, 0.0, 0.0, 0.0, 0.0, 0.0,...</td>\n",
       "      <td>8</td>\n",
       "      <td>2</td>\n",
       "    </tr>\n",
       "    <tr>\n",
       "      <th>3</th>\n",
       "      <td>[[0.0, 0.0, 0.0, 0.0, 0.0, 0.0, 0.0, 0.0, 0.0,...</td>\n",
       "      <td>2</td>\n",
       "      <td>7</td>\n",
       "    </tr>\n",
       "    <tr>\n",
       "      <th>4</th>\n",
       "      <td>[[0.0, 0.0, 0.0, 0.0, 0.0, 0.0, 0.0, 0.0, 0.0,...</td>\n",
       "      <td>5</td>\n",
       "      <td>3</td>\n",
       "    </tr>\n",
       "  </tbody>\n",
       "</table>\n",
       "</div>"
      ],
      "text/plain": [
       "                                         image_array  label  prediction\n",
       "0  [[0.0, 0.0, 0.0, 0.0, 0.0, 0.0, 0.0, 0.0, 0.0,...      4           2\n",
       "1  [[0.0, 0.0, 0.0, 0.0, 0.0, 0.0, 0.0, 0.0, 0.0,...      6           0\n",
       "2  [[0.0, 0.0, 0.0, 0.0, 0.0, 0.0, 0.0, 0.0, 0.0,...      8           2\n",
       "3  [[0.0, 0.0, 0.0, 0.0, 0.0, 0.0, 0.0, 0.0, 0.0,...      2           7\n",
       "4  [[0.0, 0.0, 0.0, 0.0, 0.0, 0.0, 0.0, 0.0, 0.0,...      5           3"
      ]
     },
     "execution_count": 32,
     "metadata": {},
     "output_type": "execute_result"
    }
   ],
   "source": [
    "# Save dataframe with misclassifications\n",
    "df = pd.DataFrame(incorrect_examples, columns=['image_array', 'label', 'prediction'])\n",
    "df.head()"
   ]
  },
  {
   "cell_type": "code",
   "execution_count": 33,
   "id": "64dd7e39-6694-4572-a5ee-c2c5aa4e8a6d",
   "metadata": {
    "tags": []
   },
   "outputs": [
    {
     "data": {
      "image/png": "[encoded data removed]",
      "text/plain": [
       "<Figure size 1500x1000 with 1 Axes>"
      ]
     },
     "metadata": {},
     "output_type": "display_data"
    },
    {
     "name": "stdout",
     "output_type": "stream",
     "text": [
      "prediction  0  1  2  3  4  5  6  7  8   9\n",
      "label                                    \n",
      "0           0  1  1  0  0  0  0  2  0   0\n",
      "1           0  0  0  2  0  0  0  1  0   0\n",
      "2           2  1  0  0  1  0  0  5  0   0\n",
      "3           1  0  1  0  0  4  0  2  2   1\n",
      "4           0  0  1  0  0  0  1  0  0  11\n",
      "5           2  0  0  4  0  0  1  0  1   0\n",
      "6           4  4  0  1  1  1  0  0  1   0\n",
      "7           0  3  5  0  2  1  0  0  0   1\n",
      "8           1  0  2  0  1  1  1  1  0   1\n",
      "9           0  0  0  0  6  5  0  4  6   0\n"
     ]
    }
   ],
   "source": [
    "crosstab_misclass = pd.crosstab(df.label, df.prediction, margins=False)\n",
    "crosstab_misclass.plot(kind=\"bar\", stacked=True, rot=0)\n",
    "plt.ylabel(\"Count\", fontsize=14)\n",
    "plt.xlabel(\"Label\", fontsize=14)\n",
    "plt.title(\"Misclassifications\", fontsize=16)\n",
    "#plt.savefig(\"../figs/misclassifications_counts.png\")\n",
    "plt.show()\n",
    "print(crosstab_misclass)"
   ]
  },
  {
   "cell_type": "code",
   "execution_count": null,
   "id": "a5996718-9b66-4052-8242-49f12aab6ed5",
   "metadata": {},
   "outputs": [],
   "source": []
  }
 ],
 "metadata": {
  "kernelspec": {
   "display_name": "Python 3 (ipykernel)",
   "language": "python",
   "name": "python3"
  },
  "language_info": {
   "codemirror_mode": {
    "name": "ipython",
    "version": 3
   },
   "file_extension": ".py",
   "mimetype": "text/x-python",
   "name": "python",
   "nbconvert_exporter": "python",
   "pygments_lexer": "ipython3",
   "version": "3.8.5"
  }
 },
 "nbformat": 4,
 "nbformat_minor": 5
}
