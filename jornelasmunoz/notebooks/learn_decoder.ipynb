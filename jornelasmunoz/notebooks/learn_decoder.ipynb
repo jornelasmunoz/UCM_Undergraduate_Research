{
 "cells": [
  {
   "cell_type": "markdown",
   "id": "3aab9e70-7dec-4acc-9d47-5d80aca06344",
   "metadata": {},
   "source": [
    "# Learned Decoder\n",
    "The purpose of this notebook is to investigate whether we can learn the MURA decoder"
   ]
  },
  {
   "cell_type": "code",
   "execution_count": 1,
   "id": "5283d75d-8a66-4b82-92b2-5c1ae2ac60d7",
   "metadata": {
    "tags": []
   },
   "outputs": [],
   "source": [
    "%load_ext autoreload\n",
    "%autoreload 2"
   ]
  },
  {
   "cell_type": "code",
   "execution_count": 2,
   "id": "18a98262-0eb9-4894-a91b-6c1ac2c0b165",
   "metadata": {
    "tags": []
   },
   "outputs": [
    {
     "name": "stdout",
     "output_type": "stream",
     "text": [
      "Using path =  /Users/jornelasmunoz/Desktop/UC Merced/Research/coded-aperture/jornelasmunoz/\n",
      "Using cpu device\n"
     ]
    }
   ],
   "source": [
    "import os, sys\n",
    "import numpy as np\n",
    "import pandas as pd\n",
    "import matplotlib.pyplot as plt\n",
    "import seaborn as sns\n",
    "\n",
    "import torchvision\n",
    "import torchvision.transforms as transforms\n",
    "import torch\n",
    "from torch.utils.data import DataLoader\n",
    "\n",
    "import wandb\n",
    "import datetime\n",
    "desktop_path = '/Users/jornelasmunoz/Desktop/UC Merced/Research/coded-aperture/jornelasmunoz/'\n",
    "laptop_path = '/Users/jocelynornelas/iCloud Drive (Archive)/Desktop/UC Merced/Research/coded-aperture/jornelasmunoz/'\n",
    "if desktop_path in sys.path[0]: sys.path.insert(0, desktop_path + 'lib/'); path = desktop_path\n",
    "elif laptop_path in sys.path[0]: sys.path.insert(0, laptop_path + 'lib/'); path = laptop_path\n",
    "print('Using path = ', path)\n",
    "\n",
    "from dataset import MNIST_MURA\n",
    "from utils import Noise_dB, Normalize_01\n",
    "\n",
    "# # Change plotting parameters\n",
    "# plt.rcParams.update({\n",
    "#     \"text.usetex\": True,\n",
    "#     \"font.family\": \"Times\", #\"Computer Modern Serif\"\n",
    "#     \"figure.figsize\" : [15,10],\n",
    "# })\n",
    "\n",
    "device = \"cuda\" if torch.cuda.is_available() else \"cpu\"\n",
    "print(f\"Using {device} device\")\n",
    "\n",
    "# Log into WandB\n",
    "# wandb.login()"
   ]
  },
  {
   "cell_type": "code",
   "execution_count": 3,
   "id": "f5f1e161-55f9-44fe-bf66-0f6ad3bd75e7",
   "metadata": {
    "tags": []
   },
   "outputs": [
    {
     "name": "stderr",
     "output_type": "stream",
     "text": [
      "\u001b[34m\u001b[1mwandb\u001b[0m: Currently logged in as: \u001b[33mjocelynornelasmunoz\u001b[0m. Use \u001b[1m`wandb login --relogin`\u001b[0m to force relogin\n"
     ]
    },
    {
     "data": {
      "text/plain": [
       "True"
      ]
     },
     "execution_count": 3,
     "metadata": {},
     "output_type": "execute_result"
    }
   ],
   "source": [
    "# Log into WandB for logging project training runs\n",
    "wandb.login()"
   ]
  },
  {
   "cell_type": "code",
   "execution_count": 4,
   "id": "49c063d5-6039-4ab2-a865-b7ae6655c583",
   "metadata": {
    "tags": []
   },
   "outputs": [],
   "source": [
    "# Create params dict\n",
    "date = str(datetime.datetime.now().date())\n",
    "params = {\n",
    "    \"image_size\": 47,\n",
    "    \"batch_size\":100,\n",
    "    \"learning_rate\": 0.001, \n",
    "    \"epochs\": 10,\n",
    "    \"model\": f\"decoder_cnn_{date}\",\n",
    "    \"dataset\": \"mnist_mura_noiseless\",\n",
    "    \"scheduler_patience\": 2,\n",
    "    \"snr\": None, \n",
    "}\n",
    "wandb.config = params"
   ]
  },
  {
   "cell_type": "code",
   "execution_count": 5,
   "id": "c13e1b7a-0a08-4db8-8c84-e340fa4081b6",
   "metadata": {
    "tags": []
   },
   "outputs": [],
   "source": [
    "# Define transforms\n",
    "transform_list = transforms.Compose(\n",
    "            [   transforms.Grayscale(),\n",
    "                transforms.ToTensor(),\n",
    "                transforms.Resize(params['image_size'], antialias=True),\n",
    "                # Noise_dB(desired_snr=params['snr']),\n",
    "                # transforms.Normalize(0, 1),\n",
    "                Normalize_01(),\n",
    "                ])\n",
    "target_transform = transforms.Compose(\n",
    "            [   transforms.Grayscale(),\n",
    "                transforms.ToTensor(),\n",
    "                transforms.Resize((params['image_size'],params['image_size']), antialias=True),\n",
    "                Normalize_01(),\n",
    "                ])"
   ]
  },
  {
   "cell_type": "code",
   "execution_count": 8,
   "id": "6a6e757d-5b6e-427b-a406-715d55290b22",
   "metadata": {
    "tags": []
   },
   "outputs": [],
   "source": [
    "# Load dataset\n",
    "mnist_mura = MNIST_MURA('../data/MNIST/', params, transform=transform_list, target_transform=target_transform, train=True)\n",
    "\n",
    "loaders = {}\n",
    "# Define DataLoader\n",
    "loaders['train'] = DataLoader(mnist_mura, batch_size=1, shuffle=False)"
   ]
  },
  {
   "cell_type": "code",
   "execution_count": 9,
   "id": "900cc389-487e-4fab-a03e-847a46dbf3e3",
   "metadata": {
    "tags": []
   },
   "outputs": [
    {
     "data": {
      "image/png": "[encoded data removed]",
      "text/plain": [
       "<Figure size 1000x700 with 4 Axes>"
      ]
     },
     "metadata": {},
     "output_type": "display_data"
    }
   ],
   "source": [
    "fig, axs = plt.subplots(1,2, figsize=(10,7))\n",
    "idx=2\n",
    "sns.heatmap(loaders['train'].dataset[idx]['target'].squeeze(0), cmap= 'gray', ax=axs[0])\n",
    "sns.heatmap(loaders['train'].dataset[idx]['img'].squeeze(0), cmap= 'gray', ax=axs[1])\n",
    "axs[0].axis('off')\n",
    "axs[1].axis('off')\n",
    "plt.show()"
   ]
  },
  {
   "cell_type": "markdown",
   "id": "24af062d-09da-4c93-9694-c05e6e4c0032",
   "metadata": {},
   "source": [
    "# Define Model"
   ]
  },
  {
   "cell_type": "code",
   "execution_count": 10,
   "id": "d6ba0e00-43b7-4fcc-9b1a-2e2d9c3201b6",
   "metadata": {
    "tags": []
   },
   "outputs": [],
   "source": [
    "class RECON_CNN(torch.nn.Module):\n",
    "    '''\n",
    "    Define a model with only one convolutional layer, NO activation function, and NO bias\n",
    "    '''\n",
    "    def __init__(self, params):\n",
    "        super().__init__() \n",
    "        \n",
    "        # Define model basic info -- gets model/data parameters from dictionary params\n",
    "        self.params = params\n",
    "        self.img_size = self.params['image_size']\n",
    "        self.kernel_size = self.params['image_size'] if self.params['image_size'] is not None else self.params['kernel_size']\n",
    "        self.params[\"kernel_size\"] = self.kernel_size\n",
    "        self.criterion = torch.nn.MSELoss() if self.params.get('loss') is None else torch.nn.L1Loss() #\n",
    "        self.params['model_save_path'] = f'../models/learned_decoder_cnn/{params[\"model\"]}.pth'\n",
    "        # if os.path.exists(self.params[\"model_save_path\"]):\n",
    "        #     self.load_state_dict(torch.load(self.params[\"model_save_path\"]))\n",
    "        #     print(\"Weights loaded from {}\".format(self.params[\"model_save_path\"]))\n",
    "        \n",
    "        # Define model architecture elements\n",
    "        # Padding is circular -- mathematical motivation\n",
    "        self.conv  = torch.nn.Conv2d(1,1,kernel_size=self.kernel_size, padding='same', padding_mode='circular', bias=False)#(self.kernel_size-1)//2)\n",
    "        print(\"Using the following parameters:\")\n",
    "        for key, val in self.params.items():\n",
    "            print(f\"{key}: {val}\")\n",
    "        \n",
    "    def forward(self, x):\n",
    "        output = self.conv(x)\n",
    "        return output"
   ]
  },
  {
   "cell_type": "code",
   "execution_count": 11,
   "id": "158ff68d-be2d-4f2b-a3d6-7ebbac1975f3",
   "metadata": {
    "tags": []
   },
   "outputs": [
    {
     "name": "stdout",
     "output_type": "stream",
     "text": [
      "Using the following parameters:\n",
      "image_size: 47\n",
      "batch_size: 100\n",
      "learning_rate: 0.001\n",
      "epochs: 10\n",
      "model: decoder_cnn_2024-01-22\n",
      "dataset: mnist_mura_noiseless\n",
      "scheduler_patience: 2\n",
      "snr: None\n",
      "kernel_size: 47\n",
      "model_save_path: ../models/learned_decoder_cnn/decoder_cnn_2024-01-22.pth\n"
     ]
    }
   ],
   "source": [
    "# Instantiate model \n",
    "model = RECON_CNN(params)#.to(device)\n",
    "model.optimizer = torch.optim.Adam(model.parameters(), lr = model.params['learning_rate'])\n",
    "model.scheduler = torch.optim.lr_scheduler.ReduceLROnPlateau(model.optimizer, 'min',patience=model.params['scheduler_patience'])"
   ]
  },
  {
   "cell_type": "code",
   "execution_count": 12,
   "id": "115bd990-0966-4714-a3eb-e071365e1071",
   "metadata": {
    "tags": []
   },
   "outputs": [
    {
     "name": "stdout",
     "output_type": "stream",
     "text": [
      "Total number of parameters: 2209\n"
     ]
    }
   ],
   "source": [
    "# Count total number of parameters in model\n",
    "total_params = sum(p.numel() for p in model.parameters())\n",
    "print(f\"Total number of parameters: {total_params}\")"
   ]
  },
  {
   "cell_type": "code",
   "execution_count": 15,
   "id": "d441b5c2-5428-4122-82fd-e854251bcfde",
   "metadata": {
    "scrolled": true,
    "tags": []
   },
   "outputs": [
    {
     "name": "stdout",
     "output_type": "stream",
     "text": [
      "Initial weights Shape: torch.Size([1, 1, 47, 47])\n"
     ]
    },
    {
     "data": {
      "image/png": "[encoded data removed]",
      "text/plain": [
       "<Figure size 1500x1500 with 2 Axes>"
      ]
     },
     "metadata": {},
     "output_type": "display_data"
    },
    {
     "name": "stdout",
     "output_type": "stream",
     "text": [
      "Target weights shape: (47, 47)\n"
     ]
    },
    {
     "data": {
      "image/png": "[encoded data removed]",
      "text/plain": [
       "<Figure size 1500x1500 with 2 Axes>"
      ]
     },
     "metadata": {},
     "output_type": "display_data"
    }
   ],
   "source": [
    "## Plot initial weights\n",
    "RUN_DIR = path+f'runs/{model.params[\"model\"]}/'\n",
    "if not os.path.exists(RUN_DIR):\n",
    "    os.makedirs(RUN_DIR)\n",
    "# ----------- Plot initial weights and target weights---- \n",
    "# From Jacky's SAR stuff\n",
    "# Define initial weights from the CNN model\n",
    "init_weights = list(model.parameters())\n",
    "init_weight_map = init_weights[0].detach()\n",
    "print('Initial weights Shape: {}'.format(init_weights[0].shape))\n",
    "\n",
    "# Plot initial weights\n",
    "plt.figure(figsize=(15,15))\n",
    "heat = sns.heatmap(np.squeeze(init_weight_map.cpu().numpy()), cmap='gray')\n",
    "figure = heat.get_figure()\n",
    "figure.savefig(RUN_DIR+f'heat_init_weights.png',dpi=400)\n",
    "#plt.close()\n",
    "plt.show()\n",
    "\n",
    "# Define and plot target weights\n",
    "target_weights = mnist_mura.G\n",
    "print('Target weights shape: {}'.format(target_weights.shape))\n",
    "plt.figure(figsize=(15,15))\n",
    "heat = sns.heatmap(target_weights, cmap='gray')\n",
    "figure = heat.get_figure()\n",
    "figure.savefig(RUN_DIR+'heat_target_weights.png',dpi=400)\n",
    "#plt.close()\n",
    "plt.show()"
   ]
  },
  {
   "cell_type": "markdown",
   "id": "be7c38c9-e862-43a9-b155-750b4d131338",
   "metadata": {},
   "source": [
    "# Training"
   ]
  },
  {
   "cell_type": "code",
   "execution_count": 14,
   "id": "3c876fc9-e3d7-4489-a0b8-d06922820f1e",
   "metadata": {
    "tags": []
   },
   "outputs": [
    {
     "data": {
      "text/html": [
       "wandb version 0.16.2 is available!  To upgrade, please run:\n",
       " $ pip install wandb --upgrade"
      ],
      "text/plain": [
       "<IPython.core.display.HTML object>"
      ]
     },
     "metadata": {},
     "output_type": "display_data"
    },
    {
     "data": {
      "text/html": [
       "Tracking run with wandb version 0.15.12"
      ],
      "text/plain": [
       "<IPython.core.display.HTML object>"
      ]
     },
     "metadata": {},
     "output_type": "display_data"
    },
    {
     "data": {
      "text/html": [
       "Run data is saved locally in <code>/Users/jornelasmunoz/Desktop/UC Merced/Research/coded-aperture/jornelasmunoz/notebooks/wandb/run-20240122_151924-490rhqbe</code>"
      ],
      "text/plain": [
       "<IPython.core.display.HTML object>"
      ]
     },
     "metadata": {},
     "output_type": "display_data"
    },
    {
     "data": {
      "text/html": [
       "Syncing run <strong><a href='https://wandb.ai/jocelynornelasmunoz/ca-learned-decoder/runs/490rhqbe' target=\"_blank\">2024-01-22 15:19:24.852625</a></strong> to <a href='https://wandb.ai/jocelynornelasmunoz/ca-learned-decoder' target=\"_blank\">Weights & Biases</a> (<a href='https://wandb.me/run' target=\"_blank\">docs</a>)<br/>"
      ],
      "text/plain": [
       "<IPython.core.display.HTML object>"
      ]
     },
     "metadata": {},
     "output_type": "display_data"
    },
    {
     "data": {
      "text/html": [
       " View project at <a href='https://wandb.ai/jocelynornelasmunoz/ca-learned-decoder' target=\"_blank\">https://wandb.ai/jocelynornelasmunoz/ca-learned-decoder</a>"
      ],
      "text/plain": [
       "<IPython.core.display.HTML object>"
      ]
     },
     "metadata": {},
     "output_type": "display_data"
    },
    {
     "data": {
      "text/html": [
       " View run at <a href='https://wandb.ai/jocelynornelasmunoz/ca-learned-decoder/runs/490rhqbe' target=\"_blank\">https://wandb.ai/jocelynornelasmunoz/ca-learned-decoder/runs/490rhqbe</a>"
      ],
      "text/plain": [
       "<IPython.core.display.HTML object>"
      ]
     },
     "metadata": {},
     "output_type": "display_data"
    },
    {
     "name": "stdout",
     "output_type": "stream",
     "text": [
      "Epoch 1 | Loss: 0.0173999\n",
      "Epoch 2 | Loss: 0.0167753\n",
      "Epoch 3 | Loss: 0.0167103\n",
      "Epoch 4 | Loss: 0.0166833\n",
      "Epoch 5 | Loss: 0.0166694\n",
      "Epoch 6 | Loss: 0.0166611\n",
      "Epoch 7 | Loss: 0.0166558\n",
      "Epoch 8 | Loss: 0.0166520\n",
      "Epoch 9 | Loss: 0.0166493\n",
      "Epoch 10 | Loss: 0.0166472\n"
     ]
    },
    {
     "data": {
      "text/html": [
       "Waiting for W&B process to finish... <strong style=\"color:green\">(success).</strong>"
      ],
      "text/plain": [
       "<IPython.core.display.HTML object>"
      ]
     },
     "metadata": {},
     "output_type": "display_data"
    },
    {
     "data": {
      "text/html": [
       "<style>\n",
       "    table.wandb td:nth-child(1) { padding: 0 10px; text-align: left ; width: auto;} td:nth-child(2) {text-align: left ; width: 100%}\n",
       "    .wandb-row { display: flex; flex-direction: row; flex-wrap: wrap; justify-content: flex-start; width: 100% }\n",
       "    .wandb-col { display: flex; flex-direction: column; flex-basis: 100%; flex: 1; padding: 10px; }\n",
       "    </style>\n",
       "<div class=\"wandb-row\"><div class=\"wandb-col\"><h3>Run history:</h3><br/><table class=\"wandb\"><tr><td>epoch</td><td>▁▂▃▃▄▅▆▆▇█</td></tr><tr><td>loss</td><td>█▂▂▁▁▁▁▁▁▁</td></tr></table><br/></div><div class=\"wandb-col\"><h3>Run summary:</h3><br/><table class=\"wandb\"><tr><td>epoch</td><td>9</td></tr><tr><td>loss</td><td>0.01665</td></tr></table><br/></div></div>"
      ],
      "text/plain": [
       "<IPython.core.display.HTML object>"
      ]
     },
     "metadata": {},
     "output_type": "display_data"
    },
    {
     "data": {
      "text/html": [
       " View run <strong style=\"color:#cdcd00\">2024-01-22 15:19:24.852625</strong> at: <a href='https://wandb.ai/jocelynornelasmunoz/ca-learned-decoder/runs/490rhqbe' target=\"_blank\">https://wandb.ai/jocelynornelasmunoz/ca-learned-decoder/runs/490rhqbe</a><br/> View job at <a href='https://wandb.ai/jocelynornelasmunoz/ca-learned-decoder/jobs/QXJ0aWZhY3RDb2xsZWN0aW9uOjEzMjgwNjM2Nw==/version_details/v0' target=\"_blank\">https://wandb.ai/jocelynornelasmunoz/ca-learned-decoder/jobs/QXJ0aWZhY3RDb2xsZWN0aW9uOjEzMjgwNjM2Nw==/version_details/v0</a><br/>Synced 6 W&B file(s), 0 media file(s), 2 artifact file(s) and 0 other file(s)"
      ],
      "text/plain": [
       "<IPython.core.display.HTML object>"
      ]
     },
     "metadata": {},
     "output_type": "display_data"
    },
    {
     "data": {
      "text/html": [
       "Find logs at: <code>./wandb/run-20240122_151924-490rhqbe/logs</code>"
      ],
      "text/plain": [
       "<IPython.core.display.HTML object>"
      ]
     },
     "metadata": {},
     "output_type": "display_data"
    },
    {
     "name": "stdout",
     "output_type": "stream",
     "text": [
      "CPU times: user 49min 16s, sys: 37min 55s, total: 1h 27min 12s\n",
      "Wall time: 33min 11s\n"
     ]
    }
   ],
   "source": [
    "%%time\n",
    "# Initialize project in Weights and Biases\n",
    "wandb.init(config=wandb.config, \n",
    "           project=\"ca-learned-decoder\", \n",
    "           group=\"cnn\", \n",
    "           name=str(datetime.datetime.now()))\n",
    "\n",
    "# Store values for later \n",
    "train_loss = []\n",
    "frob_per_epoch = []\n",
    "weights_epoch = {}\n",
    "\n",
    "#Dictionary that will store different images and outputs for various epochs (not sure if needed)\n",
    "outputs = {}\n",
    "\n",
    "# Training loop starts\n",
    "for epoch in range(params['epochs']):\n",
    "    \n",
    "    # Initialize variable to store loss\n",
    "    running_loss = 0\n",
    "    model.train()\n",
    "    # Iterate over training set\n",
    "    for i, data in enumerate(loaders['train']):\n",
    "        # zero the parameter gradients\n",
    "        model.optimizer.zero_grad()\n",
    "        \n",
    "        # get the inputs; data is a dict of [images, labels, digit]\n",
    "        inputs, targets, digits = data['img'], data['target'], data['digit']\n",
    "            \n",
    "        # Generate output\n",
    "        out = model(inputs)\n",
    "        \n",
    "        # Calculate loss\n",
    "        loss = model.criterion(out, targets)\n",
    "        \n",
    "        # # Modified (04/06/23) to include l_1 penalty\n",
    "        # l_1_pen = sum((w.abs()-1).abs().sum() for w in model.parameters())\n",
    "        # loss = loss + (model.params['lambda']/(model.params['p']**2)) * l_1_pen\n",
    "\n",
    "        \n",
    "        # Backprop and update weights\n",
    "        loss.backward()\n",
    "        model.optimizer.step()\n",
    "        \n",
    "        # Increment loss\n",
    "        running_loss += loss.item()\n",
    "        \n",
    "    \n",
    "    # Average loss over entire dataset\n",
    "    running_loss/= len(loaders['train'].dataset)#params['batch_size']\n",
    "    train_loss.append(running_loss)\n",
    "\n",
    "    # Scheduler step every epoch\n",
    "    model.scheduler.step(loss)\n",
    "    \n",
    "    print(f\"Epoch {epoch +1} | Loss: {running_loss:.7f}\")\n",
    "    wandb.log({\"epoch\": epoch, \"loss\": running_loss, }) \n",
    "    \n",
    "    # Storing images, reconstructed outputs, and labels\n",
    "    outputs[epoch+1] = {'img': inputs, 'out': out, 'targets': targets, 'digits': digits}\n",
    "    \n",
    "    # Save weights every 10 epochs\n",
    "    if epoch % 2 == 1:\n",
    "        torch.save(model.state_dict(), model.params['model_save_path'])\n",
    "        # epoch_save_model = path+f'models/CNN/{params[\"model\"]}_model_epoch_'+str(epoch)+'.pth'\n",
    "        # torch.save(model.state_dict(),epoch_save_model)\n",
    "        weight_epoch_list = list(model.parameters())\n",
    "        weights_epoch[f'{epoch}'] = np.squeeze(weight_epoch_list[0].detach().cpu().numpy())\n",
    "        \n",
    "\n",
    "    # Calculate Frobenius norm between weights and decoder every epoch\n",
    "    weights = list(model.parameters())\n",
    "    weight_map = np.squeeze(weights[0].detach().cpu().numpy())\n",
    "    diff_block = mnist_mura.G - weight_map\n",
    "    frob_per_epoch.append(np.linalg.norm(np.abs(diff_block),ord='fro'))\n",
    "\n",
    "#torch.save(model.state_dict(), PATH)\n",
    "# End WandB run\n",
    "wandb.finish()"
   ]
  },
  {
   "cell_type": "code",
   "execution_count": 21,
   "id": "c93ac155-c2ee-42d5-b121-f26ad4807ab8",
   "metadata": {},
   "outputs": [
    {
     "name": "stdout",
     "output_type": "stream",
     "text": [
      "Dictionary saved to /Users/jornelasmunoz/Desktop/UC Merced/Research/coded-aperture/jornelasmunoz/runs/decoder_cnn_2024-01-11/weights_epoch.pkl\n"
     ]
    }
   ],
   "source": [
    "# Save model weights from last epoch\n",
    "torch.save(model.state_dict(), RUN_DIR+f\"{model.params['model']}.pth\")\n",
    "\n",
    "# Save weight progression\n",
    "dict_path = RUN_DIR+'weights_epoch.pkl'\n",
    "\n",
    "import pickle\n",
    "# Save weights dictionary to file\n",
    "with open(dict_path, 'wb') as pickle_file:\n",
    "    pickle.dump(weights_epoch, pickle_file)\n",
    "print(f'Dictionary saved to {dict_path}')\n",
    "\n",
    "# save frobenius per epoch\n",
    "with open(RUN_DIR+'frob_per_epoch.pkl', 'wb') as pickle_file:\n",
    "    pickle.dump(frob_per_epoch, pickle_file)\n",
    "print(f'Frobenius saved to {RUN_DIR+\"frob_per_epoch.pkl\"}')"
   ]
  },
  {
   "cell_type": "markdown",
   "id": "5cecbb74-2bb3-4f86-80d7-806f7110e278",
   "metadata": {},
   "source": [
    "# Load model"
   ]
  },
  {
   "cell_type": "code",
   "execution_count": 14,
   "id": "c0d4b347-47a2-49e8-9754-f3e04881ac52",
   "metadata": {
    "tags": []
   },
   "outputs": [
    {
     "data": {
      "text/plain": [
       "<All keys matched successfully>"
      ]
     },
     "execution_count": 14,
     "metadata": {},
     "output_type": "execute_result"
    }
   ],
   "source": [
    "# model.load_state_dict(torch.load('../models/learned_decoder_cnn/decoder_cnn.pth'))\n",
    "model.load_state_dict(torch.load(RUN_DIR+f\"{model.params['model']}.pth\"))"
   ]
  },
  {
   "cell_type": "code",
   "execution_count": 15,
   "id": "9ca356c3-88c3-488a-9fb1-10359d6986f2",
   "metadata": {
    "tags": []
   },
   "outputs": [],
   "source": [
    "weight_map = list(model.parameters())[0].cpu().detach().squeeze(0).squeeze(0)"
   ]
  },
  {
   "cell_type": "code",
   "execution_count": 16,
   "id": "c3cba199-a415-4520-9af7-a4b15a80391a",
   "metadata": {
    "tags": []
   },
   "outputs": [
    {
     "data": {
      "image/png": "[encoded data removed]",
      "text/plain": [
       "<Figure size 1500x700 with 4 Axes>"
      ]
     },
     "metadata": {},
     "output_type": "display_data"
    }
   ],
   "source": [
    "fig, axs = plt.subplots(1,2, figsize = (15,7))\n",
    "sns.heatmap(weight_map, cmap='gray', ax=axs[0])\n",
    "sns.heatmap(mnist_mura.G, cmap='gray', ax=axs[1])\n",
    "\n",
    "axs[0].set_title(\"Learned decoder $G_L$\")\n",
    "axs[1].set_title(\"True decoder $G$\")\n",
    "# fig.savefig('../figs/learned_decoder_cnn_20_epochs_circular_pad.png')\n",
    "\n",
    "plt.show()"
   ]
  },
  {
   "cell_type": "markdown",
   "id": "bdbea672-004d-429b-813c-2475ea5cd44e",
   "metadata": {},
   "source": [
    "# Test set evaluation"
   ]
  },
  {
   "cell_type": "code",
   "execution_count": 20,
   "id": "1fed846f-e0a9-4cbd-9332-4eab64cd51a6",
   "metadata": {},
   "outputs": [],
   "source": [
    "from torchmetrics.image import StructuralSimilarityIndexMeasure "
   ]
  },
  {
   "cell_type": "code",
   "execution_count": 21,
   "id": "bb9465f0-a58e-4869-9cd5-bb2345b0f2d5",
   "metadata": {},
   "outputs": [],
   "source": [
    "SSIM = StructuralSimilarityIndexMeasure()"
   ]
  },
  {
   "cell_type": "code",
   "execution_count": 61,
   "id": "aecd0262-9fc8-4f29-b38f-8442179f8e13",
   "metadata": {},
   "outputs": [],
   "source": [
    "model.params['snr'] = 'noiseless'\n",
    "# Define transforms \n",
    "transform_list = transforms.Compose(\n",
    "            [   transforms.Grayscale(),\n",
    "                transforms.ToTensor(),\n",
    "                transforms.Resize(params['image_size'], antialias=True),\n",
    "                # Noise_dB(desired_snr=model.params['snr']),\n",
    "                # transforms.Normalize(0, 1),\n",
    "                Normalize_01(),\n",
    "                ])\n",
    "target_transform = transforms.Compose(\n",
    "            [   transforms.Grayscale(),\n",
    "                transforms.ToTensor(),\n",
    "                transforms.Resize((params['image_size'],params['image_size']), antialias=True),\n",
    "                Normalize_01(),\n",
    "                ])\n",
    "\n",
    "# Define test set\n",
    "test_mnist_mura = MNIST_MURA('../data/MNIST/', params, transform=transform_list, target_transform=target_transform, train=False)\n",
    "testset = DataLoader(test_mnist_mura, batch_size=10, shuffle=True)"
   ]
  },
  {
   "cell_type": "code",
   "execution_count": 62,
   "id": "f5993155-81f8-4644-85d3-7f5de3b91f01",
   "metadata": {},
   "outputs": [
    {
     "data": {
      "image/png": "[encoded data removed]",
      "text/plain": [
       "<Figure size 1700x800 with 20 Axes>"
      ]
     },
     "metadata": {},
     "output_type": "display_data"
    }
   ],
   "source": [
    "# Change plotting parameters\n",
    "plt.rcParams.update({\n",
    "    \"text.usetex\": False,\n",
    "    \"font.family\": \"Times\", #\"Computer Modern Serif\"\n",
    "    \"figure.figsize\" : [17,8],\n",
    "})\n",
    "# Printing 25 random images from the test dataset\n",
    "random_samples = np.random.randint(1, len(testset), (5))\n",
    "count = 0\n",
    "for idx in random_samples: #range(random_samples.shape[0]):\n",
    "    plt.subplot(2, 5, count + 1)\n",
    "    sns.heatmap(testset.dataset[idx]['img'].squeeze(0), cmap='gray')\n",
    "    plt.title(f'Encoded image: {testset.dataset[idx][\"digit\"]}')\n",
    "    plt.axis('off')\n",
    "    plt.subplot(2, 5, count + 6)\n",
    "    sns.heatmap(testset.dataset[idx]['target'].squeeze(0), cmap='gray')\n",
    "    plt.title('Original image')\n",
    "    plt.axis('off')\n",
    "    \n",
    "    count += 1\n",
    "plt.tight_layout()\n",
    "plt.savefig(RUN_DIR+ f\"encoded_examples_snr_{model.params['snr']}.png\")\n",
    "plt.show()"
   ]
  },
  {
   "cell_type": "code",
   "execution_count": 63,
   "id": "e381538f-299d-46b4-be1e-a98c67fe5f3b",
   "metadata": {},
   "outputs": [],
   "source": [
    "results = []\n",
    "for i, data in enumerate(testset):\n",
    "    inputs, targets, digits = data['img'], data['target'], data['digit']\n",
    "    outputs = model(inputs.to(device))\n",
    "    mse_loss = model.criterion(outputs, targets)\n",
    "    ssim_loss = SSIM(outputs, targets)\n",
    "    results.append((inputs, outputs, targets, digits, mse_loss.item(), ssim_loss.item()))\n",
    "    # show_outputs(outputs, targets, inputs, iterator=i)"
   ]
  },
  {
   "cell_type": "code",
   "execution_count": 64,
   "id": "ed1b6502-c784-4da7-afd0-4aca61fe1125",
   "metadata": {},
   "outputs": [],
   "source": [
    "df = pd.DataFrame(results, columns=['inputs', 'outputs', 'targets', 'digits', 'mse', 'ssim'])"
   ]
  },
  {
   "cell_type": "code",
   "execution_count": 65,
   "id": "c21b8d0b-39b1-49b8-825b-538cd47915e0",
   "metadata": {},
   "outputs": [],
   "source": [
    "import plotly.express as px\n",
    "import plotly.io as pio\n",
    "import plotly.graph_objects as go\n",
    "# pio.renderers.default = 'notebook'"
   ]
  },
  {
   "cell_type": "code",
   "execution_count": 66,
   "id": "f94ffd84-87b7-44df-ad63-ab80fd9c4c16",
   "metadata": {},
   "outputs": [
    {
     "data": {
      "application/vnd.plotly.v1+json": {
       "config": {
        "plotlyServerURL": "https://plot.ly"
       },
       "data": [
        {
         "marker": {
          "color": "darkblue"
         },
         "name": "MSE",
         "type": "box",
         "y": [
          null,
          null,
          0.007328335661441088,
          null,
          0.01070266030728817,
          0.012337866239249706,
          0.005541597958654165,
          0.007754683028906584,
          0.007864519953727722,
          0.006169751286506653,
          0.009542196057736874,
          0.008804724551737309,
          0.009083261713385582,
          0.01113266684114933,
          0.007937360554933548,
          0.005887821316719055,
          0.008533003740012646,
          0.008145498111844063,
          0.006984256207942963,
          0.006840973626822233,
          0.007879971526563168,
          0.006809088867157698,
          0.0067942095920443535,
          0.008428072556853294,
          0.007746220100671053,
          0.010526591911911964,
          0.008187342435121536,
          0.007364722900092602,
          0.00636378163471818,
          0.007715574931353331,
          0.008568283170461655,
          0.008258734829723835,
          0.0046721938997507095,
          0.00895571056753397,
          0.0052070883102715015,
          0.010377014055848122,
          0.006599445827305317,
          0.009213444776833057,
          0.008809085004031658,
          0.0037805556785315275,
          0.008132842369377613,
          0.005716117098927498,
          0.01118307001888752,
          0.006347373593598604,
          0.007169946562498808,
          0.005322584416717291,
          0.008045251481235027,
          0.011694502085447311,
          0.008944344706833363,
          0.00649537518620491,
          0.009779067710042,
          0.009316741488873959,
          0.0068053905852139,
          0.00792836956679821,
          0.0070197670720517635,
          0.008196624927222729,
          0.007337537594139576,
          0.009871971793472767,
          0.012914258986711502,
          0.00579299870878458,
          0.008251246064901352,
          0.005175680387765169,
          0.009494547732174397,
          0.006870528683066368,
          0.005975490901619196,
          0.00962231308221817,
          0.009401155635714531,
          0.010358908213675022,
          0.003216302487999201,
          0.007925448939204216,
          0.008393830619752407,
          0.009095597080886364,
          0.006855737883597612,
          0.006917514838278294,
          0.012503281235694885,
          0.006694931536912918,
          0.009025517851114273,
          0.010019727051258087,
          0.009727535769343376,
          0.012052949517965317,
          0.008677000179886818,
          0.004366944078356028,
          0.009708859957754612,
          0.007516374345868826,
          0.00789397582411766,
          0.01044604554772377,
          0.009294074028730392,
          0.009735268540680408,
          0.010048222728073597,
          0.00960767176002264,
          0.008136805146932602,
          0.004798090551048517,
          0.006284655537456274,
          0.005170178133994341,
          0.006307253614068031,
          0.007282466161996126,
          0.008457698859274387,
          0.008397633209824562,
          0.00842233281582594,
          0.006978080607950687,
          0.009137903340160847,
          0.006455394439399242,
          0.007894936017692089,
          0.006590616423636675,
          0.011979917995631695,
          0.007968987338244915,
          0.008769853971898556,
          0.006200836505740881,
          0.008122126571834087,
          0.007779222913086414,
          0.007236863020807505,
          0.0069913119077682495,
          0.009719996713101864,
          0.006273677106946707,
          0.007895617745816708,
          0.006685398984700441,
          0.008377199992537498,
          0.007177973631769419,
          0.0077612209133803844,
          0.006747968029230833,
          0.00693763280287385,
          0.008580220863223076,
          0.010773036628961563,
          0.006262405309826136,
          0.006488529499620199,
          0.006893126294016838,
          0.009289824403822422,
          0.006132041569799185,
          0.009066794067621231,
          0.007233618758618832,
          0.010836301371455193,
          0.006177681498229504,
          0.006705454550683498,
          0.007443493232131004,
          0.005278305616229773,
          0.00831835437566042,
          0.006852437276393175,
          0.006619635503739119,
          0.00811021402478218,
          0.007387246936559677,
          0.008229206316173077,
          0.010010840371251106,
          0.00946761667728424,
          0.008478326722979546,
          0.00953154917806387,
          0.008281898684799671,
          0.009079334326088428,
          0.009909767657518387,
          0.005624640733003616,
          0.00634651817381382,
          0.008230584673583508,
          0.007089984603226185,
          0.0046760509721934795,
          0.008552520535886288,
          0.00639687106013298,
          0.01082780584692955,
          0.007573249749839306,
          0.010299229063093662,
          0.00676897494122386,
          0.01098292600363493,
          0.005275974981486797,
          0.0065395706333220005,
          0.005372333340346813,
          0.009254679083824158,
          0.008615968748927116,
          0.005065815523266792,
          0.009014825336635113,
          0.006692391820251942,
          0.008610177785158157,
          0.007169595919549465,
          0.011263798922300339,
          0.007698520552366972,
          0.005546036642044783,
          0.0074133602902293205,
          0.0059381271712481976,
          0.005232643336057663,
          0.007292552385479212,
          0.00651666522026062,
          0.007369461469352245,
          0.006346404552459717,
          0.007122342474758625,
          0.005637733731418848,
          0.004811917431652546,
          0.006038878578692675,
          0.00903899036347866,
          0.010995548218488693,
          0.011402622796595097,
          0.006520343013107777,
          0.011070727370679379,
          0.00993338692933321,
          0.003767463844269514,
          0.004372234921902418,
          0.008150836452841759,
          0.006832549814134836,
          0.008034260012209415,
          0.006638349033892155,
          0.009818898513913155,
          0.009101185016334057,
          0.011751375161111355,
          0.0073325070552527905,
          0.006747353821992874,
          0.0064544109627604485,
          0.008162547834217548,
          0.0045804898254573345,
          0.007410777732729912,
          0.005184717010706663,
          0.006733651738613844,
          0.006328043527901173,
          0.010933572426438332,
          0.003806536318734288,
          0.006895237602293491,
          0.007047257386147976,
          0.00545473862439394,
          0.007227705325931311,
          0.010290700010955334,
          0.010974513366818428,
          0.00844359491020441,
          0.009710332378745079,
          0.0053620291873812675,
          0.01003042422235012,
          0.007841426879167557,
          0.008194337598979473,
          0.00731647340580821,
          0.008095870725810528,
          0.007735032122582197,
          0.00756119703873992,
          0.011256801895797253,
          0.006354753393679857,
          0.007208456750959158,
          0.006867477670311928,
          0.0097929947078228,
          0.01297973282635212,
          0.006067768670618534,
          0.0053398883901536465,
          0.00933765061199665,
          0.007652760948985815,
          0.005469872150570154,
          0.006987342610955238,
          0.008600138127803802,
          0.007063381373882294,
          0.006292478647083044,
          0.008923335932195187,
          0.006209089886397123,
          0.005777813494205475,
          0.011719738133251667,
          0.007707894314080477,
          0.005328088067471981,
          0.011505449190735817,
          0.004675224423408508,
          0.008155987598001957,
          0.006355703342705965,
          0.00658569997176528,
          0.008696806617081165,
          0.004709385801106691,
          0.005594541784375906,
          0.010173141025006771,
          0.009539850987493992,
          0.008239961229264736,
          0.01289146114140749,
          0.008553201332688332,
          0.005602117162197828,
          0.005188414361327887,
          0.00883540604263544,
          0.009241221472620964,
          0.005400029942393303,
          0.012739842757582664,
          0.006043273024260998,
          0.007008064072579145,
          0.00501229939982295,
          0.011227115988731384,
          0.007016095798462629,
          0.009306080639362335,
          0.008544333279132843,
          0.011925802566111088,
          0.00653334055095911,
          0.008845112286508083,
          0.006134325172752142,
          0.008260054513812065,
          0.007013682276010513,
          0.005870885215699673,
          0.0057023921981453896,
          0.006560915149748325,
          0.0063158306293189526,
          0.005776975303888321,
          0.005776083096861839,
          0.008869446814060211,
          0.00971825048327446,
          0.006214624270796776,
          0.008979112841188908,
          0.006519789807498455,
          0.009595080278813839,
          0.007942003197968006,
          0.006928490940481424,
          0.008998331613838673,
          0.00626676669344306,
          0.009667245671153069,
          0.007230379153043032,
          0.008700030855834484,
          0.009341116063296795,
          0.009523868560791016,
          0.0076139941811561584,
          0.009986482560634613,
          0.008868834003806114,
          0.005236858036369085,
          0.005684484727680683,
          0.0064033218659460545,
          0.009698845446109772,
          0.010671738535165787,
          0.008970067836344242,
          0.005165602080523968,
          0.00970104057341814,
          0.010075568221509457,
          0.008617978543043137,
          0.008106411434710026,
          0.006607317365705967,
          0.011030380614101887,
          0.008374140597879887,
          0.006109332200139761,
          0.0074295420199632645,
          0.006815583910793066,
          0.006724100559949875,
          0.007779466453939676,
          0.004674043972045183,
          0.00803299993276596,
          0.010985249653458595,
          0.009286738000810146,
          0.006474449764937162,
          0.009455437771975994,
          0.005630834959447384,
          0.008654804900288582,
          0.009423445910215378,
          0.007808429189026356,
          0.00934907328337431,
          0.006870179437100887,
          0.007566759828478098,
          0.00612267991527915,
          0.004585620481520891,
          0.008320225402712822,
          0.011120355688035488,
          0.008835620246827602,
          0.008543457835912704,
          0.007728963159024715,
          0.009965253062546253,
          0.0073390924371778965,
          0.010235375724732876,
          0.01024226751178503,
          0.007681217510253191,
          0.00593200046569109,
          0.0031776106916368008,
          0.005182797554880381,
          0.007639466319233179,
          0.010006020776927471,
          0.008086923509836197,
          0.006274264771491289,
          0.0064351679757237434,
          0.007996098138391972,
          0.010641220957040787,
          0.008117184974253178,
          0.006810042075812817,
          0.0037348587065935135,
          0.0060329558327794075,
          0.0070309205912053585,
          0.009169756434857845,
          0.006062791217118502,
          0.005101797170937061,
          0.006284511182457209,
          0.005034348461776972,
          0.010629690252244473,
          0.01077207736670971,
          0.008545265533030033,
          0.007295867428183556,
          0.00431979913264513,
          0.00786397885531187,
          0.005887735169380903,
          0.007375911809504032,
          0.008467530831694603,
          0.00701576704159379,
          0.005555308423936367,
          0.008864624425768852,
          0.009411565959453583,
          0.010358496569097042,
          0.010468820109963417,
          0.00745982863008976,
          0.005890373140573502,
          0.004105915315449238,
          0.00976443663239479,
          0.006899996194988489,
          0.0067223007790744305,
          0.005514824762940407,
          0.007459801156073809,
          0.005823786370456219,
          0.0064287916757166386,
          0.008855353109538555,
          0.004907024092972279,
          0.00870837364345789,
          0.004826182499527931,
          0.00935326237231493,
          0.005320651922374964,
          0.00570413563400507,
          0.005053245462477207,
          0.008184617385268211,
          0.008571581915020943,
          0.00698345759883523,
          0.003666075412184,
          0.0068912324495613575,
          0.008950332179665565,
          0.009921601973474026,
          0.0047003524377942085,
          0.007112727500498295,
          0.007000606041401625,
          0.003992560785263777,
          0.011203987523913383,
          0.009360670112073421,
          0.006522923242300749,
          0.011075381189584732,
          0.007538928650319576,
          0.01011902280151844,
          0.008775228634476662,
          0.006971109192818403,
          0.005981684196740389,
          0.0061845420859754086,
          0.009013266302645206,
          0.0076944101601839066,
          0.006898334715515375,
          0.008678789250552654,
          0.0060694715939462185,
          0.007648906670510769,
          0.007559277582913637,
          0.00700999004766345,
          0.0036802871618419886,
          0.007160564418882132,
          0.0073280795477330685,
          0.009964844211935997,
          0.00888851098716259,
          0.006432684138417244,
          0.008422372862696648,
          0.007362893782556057,
          0.009893263690173626,
          0.008872208185493946,
          0.007675034459680319,
          0.009613776579499245,
          0.004943187348544598,
          0.00991588830947876,
          0.012910949997603893,
          0.010619789361953735,
          0.008274423889815807,
          0.004954594187438488,
          0.009916656650602818,
          0.008505551144480705,
          0.005180191248655319,
          0.007505436427891254,
          0.008718195371329784,
          0.009858825244009495,
          0.0069942292757332325,
          0.006275663152337074,
          0.006773193366825581,
          0.007987064309418201,
          0.007268813904374838,
          0.011433221399784088,
          0.00856710597872734,
          0.007591794244945049,
          0.007027873769402504,
          0.009615396149456501,
          0.010343237780034542,
          0.007783973589539528,
          0.00766181293874979,
          0.005568892695009708,
          0.009016782976686954,
          0.012165757827460766,
          0.00565180741250515,
          0.008031243458390236,
          0.005435757339000702,
          0.009723920375108719,
          0.008019054308533669,
          0.004515996668487787,
          0.00747496634721756,
          0.006299274507910013,
          0.005327313207089901,
          0.0063385386019945145,
          0.00888017937541008,
          0.006634163670241833,
          0.007256374694406986,
          0.007213857024908066,
          0.006486430298537016,
          0.008033862337470055,
          0.010225576348602772,
          0.004627203103154898,
          0.0053498693741858006,
          0.010833829641342163,
          0.007418456021696329,
          0.010246011428534985,
          0.0074376510456204414,
          0.004061739891767502,
          0.007500347215682268,
          0.007058896590024233,
          0.007075008004903793,
          0.011122905649244785,
          0.00914036761969328,
          0.008928167633712292,
          0.011001534759998322,
          0.00923209823668003,
          0.010774058289825916,
          0.005919759161770344,
          0.008096879348158836,
          0.008192469365894794,
          0.00609787879511714,
          0.00691904965788126,
          0.007920961827039719,
          0.013060327619314194,
          0.010271354578435421,
          0.009267863817512989,
          0.0072367265820503235,
          0.007836846634745598,
          0.008388044312596321,
          0.009042089805006981,
          0.006390901282429695,
          0.009604264982044697,
          0.011983457952737808,
          0.00915553979575634,
          0.0093383202329278,
          0.007100852206349373,
          0.00935675110667944,
          0.008668860420584679,
          0.01134040392935276,
          0.010610628873109818,
          0.007318264339119196,
          0.012698420323431492,
          0.007014913950115442,
          0.009316195733845234,
          0.010826475918293,
          0.009919939562678337,
          0.008775743655860424,
          0.006242971867322922,
          0.0068318103440105915,
          0.005766031797975302,
          0.008210011757910252,
          0.007480322849005461,
          0.007409355137497187,
          0.007282485719770193,
          0.007235017605125904,
          0.009160629473626614,
          0.01057768240571022,
          0.013641138561069965,
          0.00724492222070694,
          0.0060050273314118385,
          0.009108358062803745,
          0.004403045866638422,
          0.008741043508052826,
          0.007816411554813385,
          0.006814388558268547,
          0.007593189366161823,
          0.009725620038807392,
          0.007076454348862171,
          0.008384686894714832,
          0.005962811876088381,
          0.006578049622476101,
          0.0048020645044744015,
          0.0068071577697992325,
          0.008721102960407734,
          0.010243803262710571,
          0.009154033847153187,
          0.007601730991154909,
          0.009140914306044579,
          0.007326680701225996,
          0.0088576665148139,
          0.004591125994920731,
          0.007123178336769342,
          0.010157394222915173,
          0.007023718673735857,
          0.006023505702614784,
          0.0072103822603821754,
          0.008168169297277927,
          0.008693735115230083,
          0.005892726592719555,
          0.009764938615262508,
          0.007478260900825262,
          0.0064009553752839565,
          0.008732377551496029,
          0.004075747448951006,
          0.008669651113450527,
          0.005916979629546404,
          0.008117089048027992,
          0.0073018972761929035,
          0.01053717453032732,
          0.006699625868350267,
          0.006851908750832081,
          0.007493913639336824,
          0.007660724222660065,
          0.0056334566324949265,
          0.009157718159258366,
          0.008755662478506565,
          0.0070223938673734665,
          0.01252302061766386,
          0.006066712085157633,
          0.006100230850279331,
          0.008255673572421074,
          0.004902904853224754,
          0.004560375586152077,
          0.01018509641289711,
          0.012953226454555988,
          0.00818568654358387,
          0.005751900840550661,
          0.006577750202268362,
          0.006239013746380806,
          0.008379200473427773,
          0.009032058529555798,
          0.00931074284017086,
          0.004791552666574717,
          0.006197323091328144,
          0.009343956597149372,
          0.005581303499639034,
          0.007132295984774828,
          0.00884491577744484,
          0.005546725820749998,
          0.006238209083676338,
          0.0057112667709589005,
          0.0076086572371423244,
          0.004854065366089344,
          0.005888020619750023,
          0.0065472847782075405,
          0.007951987907290459,
          0.00809451099485159,
          0.011436917819082737,
          0.006963018793612719,
          0.007774956524372101,
          0.006872684229165316,
          0.009382502175867558,
          0.006760920863598585,
          0.008561723865568638,
          0.008504122495651245,
          0.012603184208273888,
          0.006383752450346947,
          0.005472011864185333,
          0.00990026444196701,
          0.0035541176330298185,
          0.011161403730511665,
          0.007589423097670078,
          0.009666770696640015,
          0.008450050838291645,
          0.005374917294830084,
          0.0075795394368469715,
          0.008583835326135159,
          0.006994516588747501,
          0.0073555512353777885,
          0.006655770353972912,
          0.0052834125235676765,
          0.008859498426318169,
          0.005992049816995859,
          0.00919393077492714,
          0.00779651990160346,
          0.00658093998208642,
          0.005682005546987057,
          0.006218397058546543,
          0.008449067361652851,
          0.006633214186877012,
          0.010392297059297562,
          0.005251134280115366,
          0.007576346397399902,
          0.004508609417825937,
          0.005273106973618269,
          0.010429278947412968,
          0.007454173173755407,
          0.005343231372535229,
          0.007243001833558083,
          0.0069262743927538395,
          0.0046857609413564205,
          0.006784371100366116,
          0.008089122362434864,
          0.009215416386723518,
          0.007802329957485199,
          0.00924789160490036,
          0.007533304393291473,
          0.008195249363780022,
          0.009159820154309273,
          0.00740682752802968,
          0.00805792398750782,
          0.006475719157606363,
          0.006175082642585039,
          0.007226908579468727,
          0.0064814346842467785,
          0.011446868069469929,
          0.005555939860641956,
          0.008861280046403408,
          0.008544924668967724,
          0.008350035175681114,
          0.011790095828473568,
          0.009407994337379932,
          0.00704956753179431,
          0.01113877072930336,
          0.007005069404840469,
          0.007880019955337048,
          0.007098064757883549,
          0.009016028605401516,
          0.006190466228872538,
          0.006859589833766222,
          0.007522112224251032,
          0.009449420496821404,
          0.008506941609084606,
          0.008829629980027676,
          0.008939335122704506,
          0.009786415845155716,
          0.008485744707286358,
          0.005941180977970362,
          0.005497127305716276,
          0.006350723095238209,
          0.009540651924908161,
          0.011184652335941792,
          0.007608160376548767,
          0.004727548453956842,
          0.00904605071991682,
          0.007772629614919424,
          0.008923028595745564,
          0.006665477529168129,
          0.006016527768224478,
          0.005908545572310686,
          0.010352935642004013,
          0.007901367731392384,
          0.00526063609868288,
          0.007348853629082441,
          0.00792874488979578,
          0.005287748295813799,
          0.007841461338102818,
          0.006562249269336462,
          0.009542587213218212,
          0.005335812456905842,
          0.008615587837994099,
          0.010848259553313255,
          0.0074256304651498795,
          0.006116547621786594,
          0.01159206498414278,
          0.006397211458534002,
          0.005650869570672512,
          0.010189270600676537,
          0.01149662584066391,
          0.007467214483767748,
          0.005952957086265087,
          null,
          0.009490277618169785,
          0.005472474731504917,
          0.0074752699583768845,
          0.006429624743759632,
          0.006688543129712343,
          0.0069002979435026646,
          0.007324023172259331,
          0.006101375445723534,
          0.010880537331104279,
          0.007845786400139332,
          0.006619575433433056,
          0.011466946452856064,
          0.009019177407026291,
          0.005179617553949356,
          0.007469277363270521,
          0.0057148742489516735,
          0.009760437533259392,
          0.006719121243804693,
          0.011084548197686672,
          0.007738745771348476,
          0.007849385030567646,
          0.007819506339728832,
          0.009587995707988739,
          0.0057085854932665825,
          0.011540575884282589,
          0.007053326349705458,
          0.006371013354510069,
          0.006868664640933275,
          0.009055065922439098,
          0.009377807378768921,
          0.007498268503695726,
          0.006869658827781677,
          0.009652710519731045,
          0.005962203722447157,
          0.007162055931985378,
          0.009462009184062481,
          0.006220527458935976,
          0.005394615698605776,
          0.012501593679189682,
          0.010394465178251266,
          0.007406756281852722,
          0.008430533111095428,
          0.00862008985131979,
          0.005851936526596546,
          0.007058547809720039,
          0.006431297864764929,
          0.006266050506383181,
          0.006122465245425701,
          0.010062865912914276,
          0.009061530232429504,
          0.008586958050727844,
          0.005973224062472582,
          0.011341039091348648,
          0.009002692997455597,
          0.010528444312512875,
          0.006702719256281853,
          0.007445301860570908,
          0.007247490808367729,
          0.009129420854151249,
          0.008369671180844307,
          0.009063453413546085,
          0.009280756115913391,
          0.009361916221678257,
          0.008601561188697815,
          0.0068419333547353745,
          0.01055122073739767,
          0.009102065116167068,
          0.008538836613297462,
          0.004440613556653261,
          0.012697536498308182,
          0.006238571833819151,
          0.010962014086544514,
          0.006512373220175505,
          0.007991882041096687,
          0.005696979817003012,
          0.007846535183489323,
          0.006747301667928696,
          0.009732652455568314,
          0.009852217510342598,
          0.0068398285657167435,
          0.00909444410353899,
          0.0045737000182271,
          0.004815241321921349,
          0.008317072875797749,
          0.008899981155991554,
          0.006980844773352146,
          0.007204144261777401,
          0.005715860053896904,
          0.008954720571637154,
          0.006562733557075262,
          0.010567273944616318,
          0.00785149447619915,
          0.009678761474788189,
          0.00514312693849206,
          0.00520973838865757,
          0.006353031378239393,
          0.006123403087258339,
          0.009527512826025486,
          0.007039505522698164,
          0.009565445594489574,
          0.0052236346527934074,
          null,
          null,
          null,
          0.00792511086910963,
          0.00716461380943656,
          0.007042340934276581,
          0.007055087946355343,
          0.009108875878155231,
          0.007258787751197815,
          0.007815348915755749,
          0.00698065385222435,
          null,
          0.007072834298014641,
          null,
          0.008855118416249752,
          0.005195148754864931,
          0.009539433754980564,
          0.006777516566216946,
          null,
          null,
          0.01040339469909668,
          0.00910108257085085,
          0.006859536748379469,
          0.00626425351947546,
          0.005441981367766857,
          0.010631195269525051,
          0.00880458764731884,
          0.007117241621017456,
          0.009354463778436184,
          0.010591287165880203,
          0.006206963676959276,
          0.0062277535907924175,
          0.0069453842006623745,
          0.005044517572969198,
          0.008388679474592209,
          0.004926934838294983,
          0.007313968148082495,
          0.009004345163702965,
          0.00779884634539485,
          0.009244099259376526,
          0.0077309138141572475,
          0.005318030249327421,
          0.007810393813997507,
          0.008952273987233639,
          0.007900615222752094,
          0.007463839370757341,
          0.00685846945270896,
          0.00930663850158453,
          0.004656270612031221,
          0.0077174752950668335,
          0.00591645110398531,
          0.0071714273653924465,
          0.007298883982002735,
          0.008495948277413845,
          0.005192812066525221,
          0.008223524317145348,
          0.00801085215061903,
          0.008095087483525276,
          0.009941907599568367,
          0.008300328627228737,
          0.006706428248435259,
          0.0070386831648647785,
          0.005435954313725233,
          0.008228552527725697,
          0.008000416681170464,
          0.007914508692920208,
          0.008508528582751751,
          0.013111346401274204,
          0.006192266009747982,
          0.010359089821577072,
          0.00858785305172205,
          0.009333818219602108,
          0.006181926000863314,
          0.008088767528533936,
          0.007302559912204742,
          0.006251251790672541,
          0.007668574806302786,
          0.009443365037441254,
          0.005532459821552038,
          0.007414244115352631,
          0.00892866775393486,
          0.00960382167249918,
          0.006069082301110029,
          0.009136556647717953,
          0.008022304624319077,
          0.0063213082030415535,
          0.007424318231642246,
          0.005737469997256994,
          0.009653492830693722,
          0.006321361288428307,
          0.008274479769170284,
          0.008561459369957447,
          0.008886679075658321,
          0.006562991067767143,
          0.007511881645768881,
          0.007710595615208149,
          0.011251313611865044,
          0.006205701734870672,
          0.01184909325093031,
          0.005958945024758577,
          0.005932786967605352,
          0.008631928823888302,
          0.00609631510451436,
          0.006523769814521074,
          0.006747189909219742,
          0.007899648509919643,
          0.007911542430520058,
          0.008310710079967976,
          0.006910319905728102,
          0.010198821313679218,
          0.00883239135146141,
          0.006197475362569094,
          0.008775998838245869,
          0.010328227654099464,
          0.009201189503073692,
          0.007777794264256954,
          0.008203592151403427,
          0.012200890108942986,
          0.008797942660748959,
          0.005903939250856638,
          0.009397577494382858,
          0.006575802341103554,
          0.00708197895437479,
          0.010287582874298096,
          0.0070343040861189365,
          0.003759794170036912,
          0.009710552170872688,
          0.010592814534902573,
          0.009540441446006298,
          0.01008199155330658,
          0.009668967686593533,
          0.005892757326364517,
          0.008665971457958221,
          0.011255234479904175,
          0.0068075391463935375,
          0.00893627479672432,
          0.008223587647080421,
          0.004649344831705093,
          0.006789890117943287,
          0.006448240950703621,
          0.0076568531803786755,
          0.005784926470369101,
          0.009008136577904224,
          0.008842702023684978,
          0.005878789816051722,
          0.0061949556693434715,
          0.0089256651699543,
          0.004686418920755386,
          0.010146190412342548,
          0.0059468974359333515,
          0.009365622885525227,
          0.008514737710356712,
          0.008073803037405014,
          0.0076992749236524105,
          0.008020257577300072,
          0.009370221756398678,
          0.008342502638697624,
          0.00913520622998476,
          0.008279972709715366,
          0.007010615896433592,
          0.006957797799259424,
          0.009031696245074272
         ]
        },
        {
         "marker": {
          "color": "royalblue"
         },
         "name": "SSIM",
         "type": "box",
         "y": [
          null,
          null,
          0.8608837127685547,
          null,
          0.8409808278083801,
          0.8471589088439941,
          0.9149991273880005,
          0.8661136627197266,
          0.8923795819282532,
          0.8618848919868469,
          0.811005711555481,
          0.8314914703369141,
          0.8748496770858765,
          0.7993485331535339,
          0.8643805384635925,
          0.8727990388870239,
          0.870891273021698,
          0.8652443885803223,
          0.8903782963752747,
          0.8936052322387695,
          0.8682247400283813,
          0.8842369318008423,
          0.857113242149353,
          0.808733344078064,
          0.8757335543632507,
          0.8225075006484985,
          0.8296249508857727,
          0.838913083076477,
          0.9027045965194702,
          0.8576338887214661,
          0.8001713752746582,
          0.8354178667068481,
          0.915056586265564,
          0.8185644149780273,
          0.887825608253479,
          0.843307375907898,
          0.8570080995559692,
          0.8481768369674683,
          0.820473849773407,
          0.9128068685531616,
          0.848812460899353,
          0.9162098169326782,
          0.7375891804695129,
          0.868421196937561,
          0.8633760213851929,
          0.92212975025177,
          0.8330439329147339,
          0.7851009964942932,
          0.8164545297622681,
          0.8604739308357239,
          0.8201654553413391,
          0.8679363131523132,
          0.8702828288078308,
          0.8746398091316223,
          0.8852090835571289,
          0.8125874400138855,
          0.8642748594284058,
          0.8112297058105469,
          0.8099706768989563,
          0.911340057849884,
          0.8653551936149597,
          0.9200870394706726,
          0.8319393992424011,
          0.8395183682441711,
          0.903179943561554,
          0.8280643224716187,
          0.8062251210212708,
          0.8351189494132996,
          0.9513100385665894,
          0.8626385927200317,
          0.860217273235321,
          0.8532038927078247,
          0.8838230967521667,
          0.7952283620834351,
          0.7891421914100647,
          0.8804425001144409,
          0.8333584070205688,
          0.8716236352920532,
          0.8683069944381714,
          0.7730556726455688,
          0.8560867309570312,
          0.8705805540084839,
          0.8146184086799622,
          0.8720793724060059,
          0.8386843800544739,
          0.829480767250061,
          0.8089240789413452,
          0.8192264437675476,
          0.8161045908927917,
          0.7943063378334045,
          0.8633284568786621,
          0.8860723376274109,
          0.9113569259643555,
          0.9225236177444458,
          0.8908168077468872,
          0.8925788998603821,
          0.8840305209159851,
          0.8479369878768921,
          0.8709667325019836,
          0.8212571144104004,
          0.8374276161193848,
          0.8541067838668823,
          0.8559805154800415,
          0.8994356393814087,
          0.7437498569488525,
          0.8341943025588989,
          0.8183762431144714,
          0.8924636840820312,
          0.8624184727668762,
          0.8948614001274109,
          0.8886187672615051,
          0.8134349584579468,
          0.842158317565918,
          0.9032538533210754,
          0.8928850293159485,
          0.8823612928390503,
          0.8448046445846558,
          0.8857297897338867,
          0.8183210492134094,
          0.8610299229621887,
          0.9193453788757324,
          0.8667230606079102,
          0.831709086894989,
          0.8400360941886902,
          0.8837068676948547,
          0.8635104894638062,
          0.8363426327705383,
          0.9019931554794312,
          0.8758360743522644,
          0.8559070825576782,
          0.7321915030479431,
          0.895134449005127,
          0.8491169810295105,
          0.8861603736877441,
          0.9072631001472473,
          0.8352489471435547,
          0.8529454469680786,
          0.8990241885185242,
          0.8916468620300293,
          0.8783091306686401,
          0.8512755632400513,
          0.821448028087616,
          0.8218051791191101,
          0.88829505443573,
          0.8543285131454468,
          0.8121563196182251,
          0.8580577969551086,
          0.8050063252449036,
          0.8998631238937378,
          0.88274747133255,
          0.8729043006896973,
          0.8742268681526184,
          0.9143561124801636,
          0.8644989132881165,
          0.8882733583450317,
          0.8564240336418152,
          0.8643217086791992,
          0.8395382165908813,
          0.9025195240974426,
          0.7948209643363953,
          0.9025505781173706,
          0.8977645039558411,
          0.878520131111145,
          0.8011430501937866,
          0.845042884349823,
          0.9185653924942017,
          0.8767459988594055,
          0.8833171725273132,
          0.8542603254318237,
          0.8268550634384155,
          0.8050166964530945,
          0.8652900457382202,
          0.9258963465690613,
          0.8625653386116028,
          0.9215959310531616,
          0.9066240191459656,
          0.8515559434890747,
          0.8773244023323059,
          0.8489665985107422,
          0.895779013633728,
          0.8774681091308594,
          0.8953661918640137,
          0.9057086110115051,
          0.8790991902351379,
          0.8793344497680664,
          0.8146524429321289,
          0.8142189979553223,
          0.8937199711799622,
          0.7687756419181824,
          0.851414680480957,
          0.9192394018173218,
          0.9351482391357422,
          0.8831877708435059,
          0.9193946719169617,
          0.8482246398925781,
          0.8848541378974915,
          0.8637570142745972,
          0.8450310826301575,
          0.7932674288749695,
          0.8787533640861511,
          0.90577232837677,
          0.8695295453071594,
          0.8205723762512207,
          0.9093881845474243,
          0.8606909513473511,
          0.9035084843635559,
          0.8955219984054565,
          0.8802686929702759,
          0.7820161581039429,
          0.9194103479385376,
          0.8932453989982605,
          0.8966883420944214,
          0.8740420341491699,
          0.888696551322937,
          0.839876651763916,
          0.7999516129493713,
          0.8417269587516785,
          0.8013491630554199,
          0.8960801362991333,
          0.7976833581924438,
          0.8227208852767944,
          0.8487213253974915,
          0.8584396243095398,
          0.8654143214225769,
          0.8426974415779114,
          0.8494789004325867,
          0.8701610565185547,
          0.8748292922973633,
          0.8847541809082031,
          0.8441296815872192,
          0.8572471737861633,
          0.7722811102867126,
          0.9112248420715332,
          0.8805143237113953,
          0.8647611737251282,
          0.8832029104232788,
          0.9197538495063782,
          0.8683984875679016,
          0.8615659475326538,
          0.8973884582519531,
          0.891931414604187,
          0.8287054896354675,
          0.8734501004219055,
          0.9128931164741516,
          0.7659945487976074,
          0.8673275709152222,
          0.8711101412773132,
          0.82757169008255,
          0.9062106013298035,
          0.8677071332931519,
          0.9037414789199829,
          0.884497344493866,
          0.8320149183273315,
          0.9270144701004028,
          0.8356550931930542,
          0.8424317240715027,
          0.7903523445129395,
          0.8719322085380554,
          0.7977002859115601,
          0.8533666729927063,
          0.9042540788650513,
          0.9030782580375671,
          0.8496894836425781,
          0.8504042625427246,
          0.9208551645278931,
          0.7881372570991516,
          0.9206708669662476,
          0.8604366183280945,
          0.9152509570121765,
          0.8116692304611206,
          0.8680726885795593,
          0.8160296678543091,
          0.8605107069015503,
          0.8171426057815552,
          0.8947310447692871,
          0.796184241771698,
          0.8899111747741699,
          0.8526751399040222,
          0.8584541082382202,
          0.8444954752922058,
          0.9188213348388672,
          0.9013704061508179,
          0.8825867772102356,
          0.919592022895813,
          0.866780161857605,
          0.8498499989509583,
          0.8120683431625366,
          0.8379152417182922,
          0.8277532458305359,
          0.8994475603103638,
          0.8869444727897644,
          0.8068435788154602,
          0.8728036880493164,
          0.859338641166687,
          0.8960636258125305,
          0.8017548322677612,
          0.8859485387802124,
          0.8396912813186646,
          0.8455262184143066,
          0.841839611530304,
          0.880843997001648,
          0.8316901922225952,
          0.8393754959106445,
          0.9088317155838013,
          0.9053958058357239,
          0.863791286945343,
          0.8293691873550415,
          0.8163987398147583,
          0.8594974279403687,
          0.8884002566337585,
          0.8305239677429199,
          0.8228253126144409,
          0.8523929715156555,
          0.8987356424331665,
          0.876992404460907,
          0.8060985803604126,
          0.8587013483047485,
          0.8865045309066772,
          0.8726953268051147,
          0.8796135783195496,
          0.8875876665115356,
          0.845057487487793,
          0.8820350766181946,
          0.8812589645385742,
          0.8137916326522827,
          0.8252579569816589,
          0.8731770515441895,
          0.8529979586601257,
          0.9003788232803345,
          0.836495578289032,
          0.8512422442436218,
          0.8644270896911621,
          0.8777742385864258,
          0.8690215945243835,
          0.8339330554008484,
          0.8973073959350586,
          0.9322060346603394,
          0.8433331251144409,
          0.7813655138015747,
          0.8324910998344421,
          0.8608929514884949,
          0.850452721118927,
          0.8185547590255737,
          0.8663773536682129,
          0.775253176689148,
          0.8499518632888794,
          0.8790842890739441,
          0.864184558391571,
          0.9396661520004272,
          0.907246470451355,
          0.867609977722168,
          0.7948633432388306,
          0.8937258720397949,
          0.8756577372550964,
          0.8924930691719055,
          0.8562942743301392,
          0.8240212202072144,
          0.8370789289474487,
          0.8918009996414185,
          0.9338775873184204,
          0.8767444491386414,
          0.8718761205673218,
          0.8205834627151489,
          0.9246846437454224,
          0.8924442529678345,
          0.8921829462051392,
          0.8993260264396667,
          0.8392082452774048,
          0.8409628868103027,
          0.8778966069221497,
          0.8160324096679688,
          0.8987704515457153,
          0.8615586161613464,
          0.8783907890319824,
          0.8854011297225952,
          0.8498250246047974,
          0.8562039136886597,
          0.9081199765205383,
          0.7999845147132874,
          0.8357558250427246,
          0.8357113003730774,
          0.8074241876602173,
          0.8781741857528687,
          0.8693341016769409,
          0.9344930648803711,
          0.8307838439941406,
          0.9070040583610535,
          0.8555165529251099,
          0.9015138745307922,
          0.8323618173599243,
          0.8712798953056335,
          0.899438738822937,
          0.8455090522766113,
          0.9264112710952759,
          0.8444803953170776,
          0.9292048215866089,
          0.863165020942688,
          0.8853899240493774,
          0.9246314764022827,
          0.9153968095779419,
          0.8892291188240051,
          0.8630458116531372,
          0.8539122343063354,
          0.9436419606208801,
          0.8918800354003906,
          0.8657702207565308,
          0.8701475262641907,
          0.8800983428955078,
          0.8361737132072449,
          0.8998051881790161,
          0.9287625551223755,
          0.8209272623062134,
          0.8403192758560181,
          0.8589574098587036,
          0.8351143002510071,
          0.8961232304573059,
          0.856817901134491,
          0.8561520576477051,
          0.8999671936035156,
          0.8797675967216492,
          0.9056119918823242,
          0.8864231109619141,
          0.8461287617683411,
          0.8681467175483704,
          0.8791750073432922,
          0.8931043744087219,
          0.8593248128890991,
          0.8445905447006226,
          0.8837796449661255,
          0.9181674718856812,
          0.8747128248214722,
          0.8855563998222351,
          0.8600704073905945,
          0.8091462254524231,
          0.8622472882270813,
          0.8766230344772339,
          0.8264459371566772,
          0.7873495817184448,
          0.8741732835769653,
          0.8463131189346313,
          0.8512514233589172,
          0.9291303753852844,
          0.8053849935531616,
          0.8204854130744934,
          0.8559402227401733,
          0.8394729495048523,
          0.8859215974807739,
          0.8460907936096191,
          0.8665439486503601,
          0.9254704713821411,
          0.8488243222236633,
          0.868217945098877,
          0.8501685857772827,
          0.9132542610168457,
          0.8921598196029663,
          0.812664806842804,
          0.8338207006454468,
          0.870058536529541,
          0.8101746439933777,
          0.8394635915756226,
          0.8326239585876465,
          0.8679078817367554,
          0.750734269618988,
          0.8359434008598328,
          0.8598324656486511,
          0.8640977740287781,
          0.8743869662284851,
          0.859133243560791,
          0.7622381448745728,
          0.9165350198745728,
          0.8538999557495117,
          0.9173758625984192,
          0.853338360786438,
          0.8366032838821411,
          0.8843497037887573,
          0.8410558700561523,
          0.8917074203491211,
          0.8826940655708313,
          0.872172474861145,
          0.8266137838363647,
          0.8747714757919312,
          0.8710864782333374,
          0.8795883059501648,
          0.8882907032966614,
          0.8584291338920593,
          0.8402299880981445,
          0.9136887788772583,
          0.8981318473815918,
          0.8146710395812988,
          0.8831807374954224,
          0.7732473611831665,
          0.8779458999633789,
          0.8981745839118958,
          0.8831034898757935,
          0.8885210156440735,
          0.8629390001296997,
          0.8249146342277527,
          0.8383156657218933,
          0.8257042169570923,
          0.8251513242721558,
          0.8520477414131165,
          0.8157504796981812,
          0.869337260723114,
          0.8670421838760376,
          0.8712908625602722,
          0.8761585354804993,
          0.8889042735099792,
          0.8674167394638062,
          0.7990838289260864,
          0.815811038017273,
          0.8641980886459351,
          0.8560512661933899,
          0.8661404848098755,
          0.852353572845459,
          0.8894506692886353,
          0.8966444730758667,
          0.7812992930412292,
          0.8408177495002747,
          0.8634373545646667,
          0.8176406025886536,
          0.8822609186172485,
          0.8689000010490417,
          0.8913669586181641,
          0.7998179197311401,
          0.8286875486373901,
          0.8391433954238892,
          0.7741373181343079,
          0.8806502223014832,
          0.8856295347213745,
          0.83467036485672,
          0.8173839449882507,
          0.8625442385673523,
          0.8714494705200195,
          0.8272585868835449,
          0.9188421964645386,
          0.853010356426239,
          0.8710017204284668,
          0.8468262553215027,
          0.9027230143547058,
          0.8762792348861694,
          0.8490870594978333,
          0.8257284164428711,
          0.8047677874565125,
          0.8688672780990601,
          0.8932487368583679,
          0.8267265558242798,
          0.8813867568969727,
          0.855294406414032,
          0.8520800471305847,
          0.8805292248725891,
          0.8689993023872375,
          0.7952970862388611,
          0.8456252813339233,
          0.8697932958602905,
          0.9068424105644226,
          0.874520480632782,
          0.9089078903198242,
          0.9026767015457153,
          0.8699538111686707,
          0.8001699447631836,
          0.8616523742675781,
          0.8674891591072083,
          0.8385270833969116,
          0.8812873959541321,
          0.8470069169998169,
          0.8702746629714966,
          0.8347970843315125,
          0.8669692277908325,
          0.9090577960014343,
          0.8805385828018188,
          0.8468748331069946,
          0.8947561979293823,
          0.8599882125854492,
          0.8813970685005188,
          0.8242718577384949,
          0.845965564250946,
          0.8864396810531616,
          0.8631831407546997,
          0.9272466897964478,
          0.8173936009407043,
          0.9014461636543274,
          0.8333719968795776,
          0.8482561111450195,
          0.8558462858200073,
          0.8915544748306274,
          0.8473612666130066,
          0.87382572889328,
          0.8656424283981323,
          0.904220461845398,
          0.8523213267326355,
          0.8739544153213501,
          0.8535512685775757,
          0.7782796621322632,
          0.9091509580612183,
          0.8952966928482056,
          0.8466924428939819,
          0.8678324818611145,
          0.9071642160415649,
          0.8152158856391907,
          0.795606255531311,
          0.8361002802848816,
          0.897824764251709,
          0.8626744151115417,
          0.9220198392868042,
          0.8513474464416504,
          0.8426975011825562,
          0.8594217300415039,
          0.9296299815177917,
          0.8739855885505676,
          0.7930444478988647,
          0.8916719555854797,
          0.8833714723587036,
          0.8609923124313354,
          0.8800506591796875,
          0.9016761779785156,
          0.9037248492240906,
          0.7991461753845215,
          0.9164201021194458,
          0.9133752584457397,
          0.8861404657363892,
          0.8089639544487,
          0.8274798393249512,
          0.7556891441345215,
          0.8538565635681152,
          0.8596484065055847,
          0.8864853978157043,
          0.8263781666755676,
          0.8688057661056519,
          0.8509947061538696,
          0.8250302076339722,
          0.7884857058525085,
          0.9286326169967651,
          0.8901370763778687,
          0.8108288049697876,
          0.9081328511238098,
          0.7933863401412964,
          0.8670961260795593,
          0.8012871742248535,
          0.8618043661117554,
          0.9094517827033997,
          0.7971357703208923,
          0.8709278106689453,
          0.8672630190849304,
          0.8869657516479492,
          0.9000438451766968,
          0.9148104786872864,
          0.7969074249267578,
          0.878481388092041,
          0.8374186754226685,
          0.8631442189216614,
          0.9034088253974915,
          0.9025647044181824,
          0.9085713624954224,
          0.8807851672172546,
          0.9124841690063477,
          0.7900459170341492,
          0.8793194890022278,
          0.8469305038452148,
          0.9257596731185913,
          0.9010478854179382,
          0.8282554745674133,
          0.8471315503120422,
          0.894172191619873,
          0.8822209239006042,
          0.8853142857551575,
          0.914945125579834,
          0.8693205714225769,
          0.8645933270454407,
          0.8757368326187134,
          0.8541711568832397,
          0.8313859701156616,
          0.8294343948364258,
          0.8474828004837036,
          0.8597077131271362,
          0.8918803930282593,
          0.8690012097358704,
          0.8498799204826355,
          0.8946827054023743,
          0.8644243478775024,
          0.8317680358886719,
          0.8126137852668762,
          0.8805667757987976,
          0.8401525616645813,
          0.8546035885810852,
          0.8566371202468872,
          0.8065170049667358,
          0.848280131816864,
          0.8898202776908875,
          0.8276731371879578,
          0.8789716958999634,
          0.8502397537231445,
          0.8403249979019165,
          0.8070147633552551,
          0.8952056169509888,
          0.8846772909164429,
          0.8832387924194336,
          0.8612062335014343,
          0.8365079164505005,
          0.8586493730545044,
          0.8455120325088501,
          0.811150074005127,
          0.8703103065490723,
          0.9090439677238464,
          0.8728870153427124,
          0.8700984120368958,
          0.8498164415359497,
          0.7785443067550659,
          0.902086615562439,
          0.9230731725692749,
          0.8460070490837097,
          0.8687034845352173,
          0.8398634791374207,
          0.8759326934814453,
          0.890006422996521,
          0.9184660911560059,
          0.8132710456848145,
          0.8256921768188477,
          0.9016534686088562,
          0.8982312083244324,
          0.8644406199455261,
          0.901450514793396,
          0.8524762392044067,
          0.8593843579292297,
          0.7911525368690491,
          0.9058297276496887,
          0.8565359115600586,
          0.752519428730011,
          0.8564751744270325,
          0.8850904703140259,
          0.7759964466094971,
          0.8507059812545776,
          0.906578540802002,
          0.8710978627204895,
          0.8071743845939636,
          0.8937391042709351,
          0.8545277714729309,
          null,
          0.8017209768295288,
          0.9323645830154419,
          0.8627321124076843,
          0.8801957964897156,
          0.8912851214408875,
          0.9017569422721863,
          0.867693305015564,
          0.8706024885177612,
          0.8053638339042664,
          0.8131982088088989,
          0.8847748637199402,
          0.8548232316970825,
          0.8819279670715332,
          0.9066513776779175,
          0.8932185173034668,
          0.9083303213119507,
          0.8581792116165161,
          0.9126684069633484,
          0.7762477993965149,
          0.8397220373153687,
          0.8824288249015808,
          0.8715007901191711,
          0.8842341303825378,
          0.8768306970596313,
          0.7886935472488403,
          0.8420711755752563,
          0.8508121371269226,
          0.8406152725219727,
          0.8216792941093445,
          0.8329639434814453,
          0.8349838256835938,
          0.8940402269363403,
          0.7904860377311707,
          0.9199563264846802,
          0.8518943786621094,
          0.8607915043830872,
          0.8764597773551941,
          0.8331389427185059,
          0.7643519043922424,
          0.8496105074882507,
          0.8803657293319702,
          0.8685039281845093,
          0.8264411091804504,
          0.8899731636047363,
          0.8878558874130249,
          0.8993192911148071,
          0.8482944369316101,
          0.8745515942573547,
          0.8228750228881836,
          0.8329442143440247,
          0.8346658945083618,
          0.8583930134773254,
          0.7746485471725464,
          0.8539265394210815,
          0.8084642291069031,
          0.8771246075630188,
          0.8690986633300781,
          0.8741637468338013,
          0.8469589352607727,
          0.8663460612297058,
          0.8406421542167664,
          0.8056044578552246,
          0.822765052318573,
          0.8429223299026489,
          0.8372862935066223,
          0.793052077293396,
          0.8199491500854492,
          0.8797730207443237,
          0.9303213953971863,
          0.8193025588989258,
          0.8967189788818359,
          0.7907780408859253,
          0.8509601354598999,
          0.847938060760498,
          0.9107300639152527,
          0.831028163433075,
          0.8412963151931763,
          0.818366527557373,
          0.8252227902412415,
          0.847614586353302,
          0.8803818821907043,
          0.8884285092353821,
          0.8773809671401978,
          0.8890077471733093,
          0.8416570425033569,
          0.9243877530097961,
          0.8791619539260864,
          0.8968501091003418,
          0.8856784701347351,
          0.8839756846427917,
          0.8257148861885071,
          0.8398202657699585,
          0.819959282875061,
          0.8964959979057312,
          0.9137530326843262,
          0.8985969424247742,
          0.9029437303543091,
          0.8268229365348816,
          0.8712080121040344,
          0.803613007068634,
          0.9013596773147583,
          null,
          null,
          null,
          0.8779670596122742,
          0.9102279543876648,
          0.84968101978302,
          0.8930255770683289,
          0.8429082036018372,
          0.8918507695198059,
          0.8627718091011047,
          0.8547786474227905,
          null,
          0.8972054719924927,
          null,
          0.829322338104248,
          0.8988750576972961,
          0.8640783429145813,
          0.8949939608573914,
          null,
          null,
          0.8114136457443237,
          0.8676556348800659,
          0.8895986676216125,
          0.8522548675537109,
          0.8929992914199829,
          0.8267375230789185,
          0.8341514468193054,
          0.9043484926223755,
          0.8010880351066589,
          0.8533929586410522,
          0.8842865824699402,
          0.9015792012214661,
          0.8889139890670776,
          0.9050086140632629,
          0.8550704121589661,
          0.9063993692398071,
          0.8834747076034546,
          0.831414520740509,
          0.8353534936904907,
          0.8241897821426392,
          0.8558378219604492,
          0.889855682849884,
          0.8865135312080383,
          0.8147503733634949,
          0.872654139995575,
          0.8813290596008301,
          0.8576064109802246,
          0.8471368551254272,
          0.9056633710861206,
          0.8542332649230957,
          0.8712717890739441,
          0.847533106803894,
          0.8517352342605591,
          0.8086215257644653,
          0.9119096994400024,
          0.872123122215271,
          0.8589811325073242,
          0.8522547483444214,
          0.8138638734817505,
          0.8706362843513489,
          0.877711296081543,
          0.8503572344779968,
          0.8749241828918457,
          0.8538638949394226,
          0.8014639616012573,
          0.8691398501396179,
          0.832047164440155,
          0.7915000319480896,
          0.8813040852546692,
          0.8593071103096008,
          0.8711789846420288,
          0.8363519906997681,
          0.8779338598251343,
          0.8267308473587036,
          0.8510675430297852,
          0.8900077939033508,
          0.8266695737838745,
          0.8652006387710571,
          0.9232068061828613,
          0.9101969003677368,
          0.8617968559265137,
          0.8543359637260437,
          0.9077547192573547,
          0.8263557553291321,
          0.8616366386413574,
          0.822449803352356,
          0.8873299360275269,
          0.8993779420852661,
          0.848835289478302,
          0.8885442614555359,
          0.8576971888542175,
          0.8795943260192871,
          0.8685674667358398,
          0.8792311549186707,
          0.84379643201828,
          0.8756044507026672,
          0.807639479637146,
          0.9263044595718384,
          0.8182703852653503,
          0.8707418441772461,
          0.9029382467269897,
          0.8283735513687134,
          0.909430205821991,
          0.8697541356086731,
          0.8542791604995728,
          0.8684409260749817,
          0.857833206653595,
          0.839739203453064,
          0.8700970411300659,
          0.8072093725204468,
          0.8407150506973267,
          0.8728062510490417,
          0.8530112504959106,
          0.8122369647026062,
          0.7776918411254883,
          0.8211166262626648,
          0.8412798643112183,
          0.8237093091011047,
          0.8244167566299438,
          0.8749561309814453,
          0.8217307925224304,
          0.8697835206985474,
          0.8274980783462524,
          0.8053951263427734,
          0.8480299115180969,
          0.9195464253425598,
          0.8094397783279419,
          0.8228615522384644,
          0.8370755314826965,
          0.854662299156189,
          0.8231015205383301,
          0.8878010511398315,
          0.8196184039115906,
          0.7966048121452332,
          0.8484700322151184,
          0.860619843006134,
          0.8765829801559448,
          0.8905434608459473,
          0.8687087297439575,
          0.8980396389961243,
          0.8162597417831421,
          0.9352327585220337,
          0.829265296459198,
          0.8298371434211731,
          0.8995129466056824,
          0.8939684629440308,
          0.8325117230415344,
          0.9063644409179688,
          0.8142498731613159,
          0.8732741475105286,
          0.8565596342086792,
          0.8808159828186035,
          0.8887492418289185,
          0.8557945489883423,
          0.9187831878662109,
          0.8154179453849792,
          0.834485650062561,
          0.8560028076171875,
          0.8559340238571167,
          0.8855552673339844,
          0.8512827157974243,
          0.7882299423217773
         ]
        }
       ],
       "layout": {
        "autosize": false,
        "font": {
         "size": 30
        },
        "height": 900,
        "template": {
         "data": {
          "bar": [
           {
            "error_x": {
             "color": "#2a3f5f"
            },
            "error_y": {
             "color": "#2a3f5f"
            },
            "marker": {
             "line": {
              "color": "#E5ECF6",
              "width": 0.5
             },
             "pattern": {
              "fillmode": "overlay",
              "size": 10,
              "solidity": 0.2
             }
            },
            "type": "bar"
           }
          ],
          "barpolar": [
           {
            "marker": {
             "line": {
              "color": "#E5ECF6",
              "width": 0.5
             },
             "pattern": {
              "fillmode": "overlay",
              "size": 10,
              "solidity": 0.2
             }
            },
            "type": "barpolar"
           }
          ],
          "carpet": [
           {
            "aaxis": {
             "endlinecolor": "#2a3f5f",
             "gridcolor": "white",
             "linecolor": "white",
             "minorgridcolor": "white",
             "startlinecolor": "#2a3f5f"
            },
            "baxis": {
             "endlinecolor": "#2a3f5f",
             "gridcolor": "white",
             "linecolor": "white",
             "minorgridcolor": "white",
             "startlinecolor": "#2a3f5f"
            },
            "type": "carpet"
           }
          ],
          "choropleth": [
           {
            "colorbar": {
             "outlinewidth": 0,
             "ticks": ""
            },
            "type": "choropleth"
           }
          ],
          "contour": [
           {
            "colorbar": {
             "outlinewidth": 0,
             "ticks": ""
            },
            "colorscale": [
             [
              0,
              "#0d0887"
             ],
             [
              0.1111111111111111,
              "#46039f"
             ],
             [
              0.2222222222222222,
              "#7201a8"
             ],
             [
              0.3333333333333333,
              "#9c179e"
             ],
             [
              0.4444444444444444,
              "#bd3786"
             ],
             [
              0.5555555555555556,
              "#d8576b"
             ],
             [
              0.6666666666666666,
              "#ed7953"
             ],
             [
              0.7777777777777778,
              "#fb9f3a"
             ],
             [
              0.8888888888888888,
              "#fdca26"
             ],
             [
              1,
              "#f0f921"
             ]
            ],
            "type": "contour"
           }
          ],
          "contourcarpet": [
           {
            "colorbar": {
             "outlinewidth": 0,
             "ticks": ""
            },
            "type": "contourcarpet"
           }
          ],
          "heatmap": [
           {
            "colorbar": {
             "outlinewidth": 0,
             "ticks": ""
            },
            "colorscale": [
             [
              0,
              "#0d0887"
             ],
             [
              0.1111111111111111,
              "#46039f"
             ],
             [
              0.2222222222222222,
              "#7201a8"
             ],
             [
              0.3333333333333333,
              "#9c179e"
             ],
             [
              0.4444444444444444,
              "#bd3786"
             ],
             [
              0.5555555555555556,
              "#d8576b"
             ],
             [
              0.6666666666666666,
              "#ed7953"
             ],
             [
              0.7777777777777778,
              "#fb9f3a"
             ],
             [
              0.8888888888888888,
              "#fdca26"
             ],
             [
              1,
              "#f0f921"
             ]
            ],
            "type": "heatmap"
           }
          ],
          "heatmapgl": [
           {
            "colorbar": {
             "outlinewidth": 0,
             "ticks": ""
            },
            "colorscale": [
             [
              0,
              "#0d0887"
             ],
             [
              0.1111111111111111,
              "#46039f"
             ],
             [
              0.2222222222222222,
              "#7201a8"
             ],
             [
              0.3333333333333333,
              "#9c179e"
             ],
             [
              0.4444444444444444,
              "#bd3786"
             ],
             [
              0.5555555555555556,
              "#d8576b"
             ],
             [
              0.6666666666666666,
              "#ed7953"
             ],
             [
              0.7777777777777778,
              "#fb9f3a"
             ],
             [
              0.8888888888888888,
              "#fdca26"
             ],
             [
              1,
              "#f0f921"
             ]
            ],
            "type": "heatmapgl"
           }
          ],
          "histogram": [
           {
            "marker": {
             "pattern": {
              "fillmode": "overlay",
              "size": 10,
              "solidity": 0.2
             }
            },
            "type": "histogram"
           }
          ],
          "histogram2d": [
           {
            "colorbar": {
             "outlinewidth": 0,
             "ticks": ""
            },
            "colorscale": [
             [
              0,
              "#0d0887"
             ],
             [
              0.1111111111111111,
              "#46039f"
             ],
             [
              0.2222222222222222,
              "#7201a8"
             ],
             [
              0.3333333333333333,
              "#9c179e"
             ],
             [
              0.4444444444444444,
              "#bd3786"
             ],
             [
              0.5555555555555556,
              "#d8576b"
             ],
             [
              0.6666666666666666,
              "#ed7953"
             ],
             [
              0.7777777777777778,
              "#fb9f3a"
             ],
             [
              0.8888888888888888,
              "#fdca26"
             ],
             [
              1,
              "#f0f921"
             ]
            ],
            "type": "histogram2d"
           }
          ],
          "histogram2dcontour": [
           {
            "colorbar": {
             "outlinewidth": 0,
             "ticks": ""
            },
            "colorscale": [
             [
              0,
              "#0d0887"
             ],
             [
              0.1111111111111111,
              "#46039f"
             ],
             [
              0.2222222222222222,
              "#7201a8"
             ],
             [
              0.3333333333333333,
              "#9c179e"
             ],
             [
              0.4444444444444444,
              "#bd3786"
             ],
             [
              0.5555555555555556,
              "#d8576b"
             ],
             [
              0.6666666666666666,
              "#ed7953"
             ],
             [
              0.7777777777777778,
              "#fb9f3a"
             ],
             [
              0.8888888888888888,
              "#fdca26"
             ],
             [
              1,
              "#f0f921"
             ]
            ],
            "type": "histogram2dcontour"
           }
          ],
          "mesh3d": [
           {
            "colorbar": {
             "outlinewidth": 0,
             "ticks": ""
            },
            "type": "mesh3d"
           }
          ],
          "parcoords": [
           {
            "line": {
             "colorbar": {
              "outlinewidth": 0,
              "ticks": ""
             }
            },
            "type": "parcoords"
           }
          ],
          "pie": [
           {
            "automargin": true,
            "type": "pie"
           }
          ],
          "scatter": [
           {
            "fillpattern": {
             "fillmode": "overlay",
             "size": 10,
             "solidity": 0.2
            },
            "type": "scatter"
           }
          ],
          "scatter3d": [
           {
            "line": {
             "colorbar": {
              "outlinewidth": 0,
              "ticks": ""
             }
            },
            "marker": {
             "colorbar": {
              "outlinewidth": 0,
              "ticks": ""
             }
            },
            "type": "scatter3d"
           }
          ],
          "scattercarpet": [
           {
            "marker": {
             "colorbar": {
              "outlinewidth": 0,
              "ticks": ""
             }
            },
            "type": "scattercarpet"
           }
          ],
          "scattergeo": [
           {
            "marker": {
             "colorbar": {
              "outlinewidth": 0,
              "ticks": ""
             }
            },
            "type": "scattergeo"
           }
          ],
          "scattergl": [
           {
            "marker": {
             "colorbar": {
              "outlinewidth": 0,
              "ticks": ""
             }
            },
            "type": "scattergl"
           }
          ],
          "scattermapbox": [
           {
            "marker": {
             "colorbar": {
              "outlinewidth": 0,
              "ticks": ""
             }
            },
            "type": "scattermapbox"
           }
          ],
          "scatterpolar": [
           {
            "marker": {
             "colorbar": {
              "outlinewidth": 0,
              "ticks": ""
             }
            },
            "type": "scatterpolar"
           }
          ],
          "scatterpolargl": [
           {
            "marker": {
             "colorbar": {
              "outlinewidth": 0,
              "ticks": ""
             }
            },
            "type": "scatterpolargl"
           }
          ],
          "scatterternary": [
           {
            "marker": {
             "colorbar": {
              "outlinewidth": 0,
              "ticks": ""
             }
            },
            "type": "scatterternary"
           }
          ],
          "surface": [
           {
            "colorbar": {
             "outlinewidth": 0,
             "ticks": ""
            },
            "colorscale": [
             [
              0,
              "#0d0887"
             ],
             [
              0.1111111111111111,
              "#46039f"
             ],
             [
              0.2222222222222222,
              "#7201a8"
             ],
             [
              0.3333333333333333,
              "#9c179e"
             ],
             [
              0.4444444444444444,
              "#bd3786"
             ],
             [
              0.5555555555555556,
              "#d8576b"
             ],
             [
              0.6666666666666666,
              "#ed7953"
             ],
             [
              0.7777777777777778,
              "#fb9f3a"
             ],
             [
              0.8888888888888888,
              "#fdca26"
             ],
             [
              1,
              "#f0f921"
             ]
            ],
            "type": "surface"
           }
          ],
          "table": [
           {
            "cells": {
             "fill": {
              "color": "#EBF0F8"
             },
             "line": {
              "color": "white"
             }
            },
            "header": {
             "fill": {
              "color": "#C8D4E3"
             },
             "line": {
              "color": "white"
             }
            },
            "type": "table"
           }
          ]
         },
         "layout": {
          "annotationdefaults": {
           "arrowcolor": "#2a3f5f",
           "arrowhead": 0,
           "arrowwidth": 1
          },
          "autotypenumbers": "strict",
          "coloraxis": {
           "colorbar": {
            "outlinewidth": 0,
            "ticks": ""
           }
          },
          "colorscale": {
           "diverging": [
            [
             0,
             "#8e0152"
            ],
            [
             0.1,
             "#c51b7d"
            ],
            [
             0.2,
             "#de77ae"
            ],
            [
             0.3,
             "#f1b6da"
            ],
            [
             0.4,
             "#fde0ef"
            ],
            [
             0.5,
             "#f7f7f7"
            ],
            [
             0.6,
             "#e6f5d0"
            ],
            [
             0.7,
             "#b8e186"
            ],
            [
             0.8,
             "#7fbc41"
            ],
            [
             0.9,
             "#4d9221"
            ],
            [
             1,
             "#276419"
            ]
           ],
           "sequential": [
            [
             0,
             "#0d0887"
            ],
            [
             0.1111111111111111,
             "#46039f"
            ],
            [
             0.2222222222222222,
             "#7201a8"
            ],
            [
             0.3333333333333333,
             "#9c179e"
            ],
            [
             0.4444444444444444,
             "#bd3786"
            ],
            [
             0.5555555555555556,
             "#d8576b"
            ],
            [
             0.6666666666666666,
             "#ed7953"
            ],
            [
             0.7777777777777778,
             "#fb9f3a"
            ],
            [
             0.8888888888888888,
             "#fdca26"
            ],
            [
             1,
             "#f0f921"
            ]
           ],
           "sequentialminus": [
            [
             0,
             "#0d0887"
            ],
            [
             0.1111111111111111,
             "#46039f"
            ],
            [
             0.2222222222222222,
             "#7201a8"
            ],
            [
             0.3333333333333333,
             "#9c179e"
            ],
            [
             0.4444444444444444,
             "#bd3786"
            ],
            [
             0.5555555555555556,
             "#d8576b"
            ],
            [
             0.6666666666666666,
             "#ed7953"
            ],
            [
             0.7777777777777778,
             "#fb9f3a"
            ],
            [
             0.8888888888888888,
             "#fdca26"
            ],
            [
             1,
             "#f0f921"
            ]
           ]
          },
          "colorway": [
           "#636efa",
           "#EF553B",
           "#00cc96",
           "#ab63fa",
           "#FFA15A",
           "#19d3f3",
           "#FF6692",
           "#B6E880",
           "#FF97FF",
           "#FECB52"
          ],
          "font": {
           "color": "#2a3f5f"
          },
          "geo": {
           "bgcolor": "white",
           "lakecolor": "white",
           "landcolor": "#E5ECF6",
           "showlakes": true,
           "showland": true,
           "subunitcolor": "white"
          },
          "hoverlabel": {
           "align": "left"
          },
          "hovermode": "closest",
          "mapbox": {
           "style": "light"
          },
          "paper_bgcolor": "white",
          "plot_bgcolor": "#E5ECF6",
          "polar": {
           "angularaxis": {
            "gridcolor": "white",
            "linecolor": "white",
            "ticks": ""
           },
           "bgcolor": "#E5ECF6",
           "radialaxis": {
            "gridcolor": "white",
            "linecolor": "white",
            "ticks": ""
           }
          },
          "scene": {
           "xaxis": {
            "backgroundcolor": "#E5ECF6",
            "gridcolor": "white",
            "gridwidth": 2,
            "linecolor": "white",
            "showbackground": true,
            "ticks": "",
            "zerolinecolor": "white"
           },
           "yaxis": {
            "backgroundcolor": "#E5ECF6",
            "gridcolor": "white",
            "gridwidth": 2,
            "linecolor": "white",
            "showbackground": true,
            "ticks": "",
            "zerolinecolor": "white"
           },
           "zaxis": {
            "backgroundcolor": "#E5ECF6",
            "gridcolor": "white",
            "gridwidth": 2,
            "linecolor": "white",
            "showbackground": true,
            "ticks": "",
            "zerolinecolor": "white"
           }
          },
          "shapedefaults": {
           "line": {
            "color": "#2a3f5f"
           }
          },
          "ternary": {
           "aaxis": {
            "gridcolor": "white",
            "linecolor": "white",
            "ticks": ""
           },
           "baxis": {
            "gridcolor": "white",
            "linecolor": "white",
            "ticks": ""
           },
           "bgcolor": "#E5ECF6",
           "caxis": {
            "gridcolor": "white",
            "linecolor": "white",
            "ticks": ""
           }
          },
          "title": {
           "x": 0.05
          },
          "xaxis": {
           "automargin": true,
           "gridcolor": "white",
           "linecolor": "white",
           "ticks": "",
           "title": {
            "standoff": 15
           },
           "zerolinecolor": "white",
           "zerolinewidth": 2
          },
          "yaxis": {
           "automargin": true,
           "gridcolor": "white",
           "linecolor": "white",
           "ticks": "",
           "title": {
            "standoff": 15
           },
           "zerolinecolor": "white",
           "zerolinewidth": 2
          }
         }
        },
        "width": 1200,
        "xaxis": {
         "autorange": true,
         "range": [
          -0.5,
          1.5
         ],
         "type": "category"
        },
        "yaxis": {
         "range": [
          0,
          1
         ],
         "tickmode": "array",
         "title": {
          "font": {
           "size": 30
          }
         },
         "type": "linear"
        }
       }
      },
      "image/png": "[encoded data removed]"
     },
     "metadata": {},
     "output_type": "display_data"
    }
   ],
   "source": [
    "y0 = df.mse\n",
    "y1 = df.ssim\n",
    "\n",
    "fig = go.Figure()\n",
    "fig.add_trace(go.Box(y=y0, name='MSE',\n",
    "                marker_color = 'darkblue'))\n",
    "fig.add_trace(go.Box(y=y1, name = 'SSIM',\n",
    "                marker_color = 'royalblue'))\n",
    "fig.update_layout(\n",
    "    autosize=False,\n",
    "    width=1200,\n",
    "    height=900,\n",
    "    yaxis=dict(\n",
    "        # title_text=\"Y-axis Title\",\n",
    "        # ticktext=[\"Very long label\", \"long label\", \"3\", \"label\"],\n",
    "        # tickvals=,\n",
    "        tickmode=\"array\",\n",
    "        titlefont=dict(size=30),\n",
    "    ),\n",
    "    yaxis_range=[0,1],\n",
    "    font=dict(size=30),\n",
    ")\n",
    "fig.show(renderer=\"jupyterlab\")\n",
    "fig.write_image(RUN_DIR + f'boxplot_metrics_snr_{model.params[\"snr\"]}.png')"
   ]
  },
  {
   "cell_type": "markdown",
   "id": "f0142e25-a091-430d-acac-5a17be1d1fea",
   "metadata": {
    "jp-MarkdownHeadingCollapsed": true
   },
   "source": [
    "# Rotate the weights"
   ]
  },
  {
   "cell_type": "code",
   "execution_count": 42,
   "id": "60bdfa7f-37ad-4e49-95fe-7f355909a7c4",
   "metadata": {},
   "outputs": [
    {
     "data": {
      "text/plain": [
       "<matplotlib.image.AxesImage at 0x287a36510>"
      ]
     },
     "execution_count": 42,
     "metadata": {},
     "output_type": "execute_result"
    },
    {
     "data": {
      "image/png": "[encoded data removed]",
      "text/plain": [
       "<Figure size 640x480 with 1 Axes>"
      ]
     },
     "metadata": {},
     "output_type": "display_data"
    }
   ],
   "source": [
    "# Rotate the weights 180 degrees\n",
    "w_rot90 = torch.rot90(torch.Tensor(weight_map), 1, [0, 1])\n",
    "w_rot180 = torch.rot90(w_rot90, 1, [0, 1])\n",
    "plt.imshow(w_rot180, cmap='gray')"
   ]
  },
  {
   "cell_type": "code",
   "execution_count": 28,
   "id": "c70b6ff0-3648-4042-8979-bbf5d0725385",
   "metadata": {},
   "outputs": [],
   "source": [
    "padded_ex = torch.nn.functional.pad(loaders['train'].dataset[idx]['target'].unsqueeze(0), pad=(11,11,11,11), mode='circular')\n",
    "padded_ex = padded_ex.squeeze(0).squeeze(0)"
   ]
  },
  {
   "cell_type": "code",
   "execution_count": 34,
   "id": "576aa903-ae03-4e34-a87a-9657029465c9",
   "metadata": {},
   "outputs": [
    {
     "data": {
      "image/png": "[encoded data removed]",
      "text/plain": [
       "<Figure size 640x480 with 1 Axes>"
      ]
     },
     "metadata": {},
     "output_type": "display_data"
    }
   ],
   "source": [
    "plt.imshow(padded_ex, cmap='gray')\n",
    "plt.show()"
   ]
  },
  {
   "cell_type": "code",
   "execution_count": null,
   "id": "580f6709-a14d-494a-87a1-8962f84d4595",
   "metadata": {},
   "outputs": [],
   "source": []
  }
 ],
 "metadata": {
  "kernelspec": {
   "display_name": "Python 3 (ipykernel)",
   "language": "python",
   "name": "python3"
  },
  "language_info": {
   "codemirror_mode": {
    "name": "ipython",
    "version": 3
   },
   "file_extension": ".py",
   "mimetype": "text/x-python",
   "name": "python",
   "nbconvert_exporter": "python",
   "pygments_lexer": "ipython3",
   "version": "3.11.7"
  }
 },
 "nbformat": 4,
 "nbformat_minor": 5
}
