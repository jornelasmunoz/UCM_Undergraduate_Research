{
 "cells": [
  {
   "cell_type": "markdown",
   "id": "3aab9e70-7dec-4acc-9d47-5d80aca06344",
   "metadata": {},
   "source": [
    "# Learned Decoder\n",
    "The purpose of this notebook is to investigate whether we can learn the MURA decoder"
   ]
  },
  {
   "cell_type": "code",
   "execution_count": 1,
   "id": "5283d75d-8a66-4b82-92b2-5c1ae2ac60d7",
   "metadata": {
    "tags": []
   },
   "outputs": [],
   "source": [
    "%load_ext autoreload\n",
    "%autoreload 2"
   ]
  },
  {
   "cell_type": "code",
   "execution_count": 2,
   "id": "18a98262-0eb9-4894-a91b-6c1ac2c0b165",
   "metadata": {
    "tags": []
   },
   "outputs": [
    {
     "name": "stdout",
     "output_type": "stream",
     "text": [
      "Using path =  /Users/jornelasmunoz/Desktop/UC Merced/Research/coded-aperture/jornelasmunoz/\n",
      "Using cpu device\n"
     ]
    }
   ],
   "source": [
    "import os, sys\n",
    "import numpy as np\n",
    "import pandas as pd\n",
    "import matplotlib.pyplot as plt\n",
    "import seaborn as sns\n",
    "\n",
    "import torchvision\n",
    "import torchvision.transforms as transforms\n",
    "import torch\n",
    "from torch.utils.data import DataLoader\n",
    "# from torchsummary import summary\n",
    "# import sklearn\n",
    "import wandb\n",
    "\n",
    "desktop_path = '/Users/jornelasmunoz/Desktop/UC Merced/Research/coded-aperture/jornelasmunoz/'\n",
    "laptop_path = '/Users/jocelynornelas/iCloud Drive (Archive)/Desktop/UC Merced/Research/coded-aperture/jornelasmunoz/'\n",
    "if desktop_path in sys.path[0]: sys.path.insert(0, desktop_path + 'lib/'); path = desktop_path\n",
    "elif laptop_path in sys.path[0]: sys.path.insert(0, laptop_path + 'lib/'); path = laptop_path\n",
    "print('Using path = ', path)\n",
    "\n",
    "from dataset import MNIST_MURA\n",
    "\n",
    "\n",
    "# # Change plotting parameters\n",
    "# plt.rcParams.update({\n",
    "#     \"text.usetex\": True,\n",
    "#     \"font.family\": \"Times\", #\"Computer Modern Serif\"\n",
    "#     \"figure.figsize\" : [15,10],\n",
    "# })\n",
    "\n",
    "device = \"cuda\" if torch.cuda.is_available() else \"cpu\"\n",
    "print(f\"Using {device} device\")\n",
    "\n",
    "# Log into WandB\n",
    "# wandb.login()"
   ]
  },
  {
   "cell_type": "code",
   "execution_count": 3,
   "id": "910e3393-0989-4e46-9ca7-9ddbe08bcbde",
   "metadata": {
    "tags": []
   },
   "outputs": [],
   "source": [
    "# class Noise_dB(object):\n",
    "#     '''\n",
    "#     Given a desired Signal to Noise Ratio (in decibels, dB)\n",
    "#     returns a noisy image\n",
    "    \n",
    "#     Inputs:\n",
    "#         desired_snr: Integer. Signal to noise ration in decibels \n",
    "#     '''\n",
    "\n",
    "#     def __init__(self, desired_snr=10):\n",
    "#         super().__init__()\n",
    "#         self.snr = desired_snr\n",
    "\n",
    "#     def __call__(self, tensor):\n",
    "#          # Calculate the variance of the image pixels\n",
    "#         signal_power = torch.var(tensor)\n",
    "    \n",
    "#         # Calculate the noise power\n",
    "#         noise_power = signal_power / (10**(self.snr/10))\n",
    "    \n",
    "#         # Generate random noise matrix\n",
    "#         noise = torch.normal(0,torch.sqrt(noise_power), size=tensor.shape)\n",
    "    \n",
    "#         # Add the noise to the image\n",
    "#         noisy_image = tensor + noise\n",
    "#         # noisy_image = torch.clip(noisy_image, 0, 1)\n",
    "\n",
    "#         return noisy_image\n",
    "\n",
    "#     def __repr__(self):\n",
    "#         return self.__class__.__name__ + '(snr = {0})'.format(self.snr)\n",
    "\n",
    "class Noise(object):\n",
    "    def __init__(self, mean=0, dev=1):\n",
    "        self.mean = mean\n",
    "        self.dev = dev\n",
    "    \n",
    "    def __call__(self, tensor):\n",
    "        return tensor + torch.randn(tensor.size())*self.dev + self.mean\n",
    "    \n",
    "    def __repr__(self):\n",
    "        return self.__class__.__name__ + 'mean = {0}, dev= {1}', format(self.mean, self.dev)"
   ]
  },
  {
   "cell_type": "raw",
   "id": "6f696a3d-88b4-4db3-b98d-07f622ba9f02",
   "metadata": {
    "jupyter": {
     "source_hidden": true
    },
    "tags": []
   },
   "source": [
    "# Load the data and then do MURA transformations\n",
    "import torch\n",
    "from torchvision.datasets.utils import download_and_extract_archive, extract_archive, verify_str_arg, check_integrity\n",
    "from torchvision.datasets.vision import VisionDataset\n",
    "from torchvision.datasets.mnist import read_image_file, read_label_file\n",
    "from typing import Any, Callable, Dict, List, Optional, Tuple\n",
    "from PIL import Image\n",
    "import MURA as mura\n",
    "\n",
    "class MNIST_MURA(VisionDataset):\n",
    "    \"\"\"`MNIST <http://yann.lecun.com/exdb/mnist/>`_ Dataset.\n",
    "\n",
    "    Args:\n",
    "        root (string): Root directory of dataset where ``MNIST/processed/training.pt``\n",
    "            and  ``MNIST/processed/test.pt`` exist.\n",
    "        train (bool, optional): If True, creates dataset from ``training.pt``,\n",
    "            otherwise from ``test.pt``.\n",
    "        download (bool, optional): If true, downloads the dataset from the internet and\n",
    "            puts it in root directory. If dataset is already downloaded, it is not\n",
    "            downloaded again.\n",
    "        transform (callable, optional): A function/transform that  takes in an PIL image\n",
    "            and returns a transformed version. E.g, ``transforms.RandomCrop``\n",
    "        target_transform (callable, optional): A function/transform that takes in the\n",
    "            target and transforms it.\n",
    "    \"\"\"\n",
    "\n",
    "    mirrors = [\n",
    "        'http://yann.lecun.com/exdb/mnist/',\n",
    "        'https://ossci-datasets.s3.amazonaws.com/mnist/',\n",
    "    ]\n",
    "\n",
    "    resources = [\n",
    "        (\"train-images-idx3-ubyte.gz\", \"f68b3c2dcbeaaa9fbdd348bbdeb94873\"),\n",
    "        (\"train-labels-idx1-ubyte.gz\", \"d53e105ee54ea40749a09fcbcd1e9432\"),\n",
    "        (\"t10k-images-idx3-ubyte.gz\", \"9fb629c4189551a2d022fa330f9573f3\"),\n",
    "        (\"t10k-labels-idx1-ubyte.gz\", \"ec29112dd5afa0611ce80d1b7f02629c\")\n",
    "    ]\n",
    "\n",
    "    training_file = 'training.pt'\n",
    "    test_file = 'test.pt'\n",
    "    classes = ['0 - zero', '1 - one', '2 - two', '3 - three', '4 - four',\n",
    "               '5 - five', '6 - six', '7 - seven', '8 - eight', '9 - nine']\n",
    "\n",
    "    @property\n",
    "    def train_labels(self):\n",
    "        warnings.warn(\"train_labels has been renamed targets\")\n",
    "        return self.targets\n",
    "\n",
    "    @property\n",
    "    def test_labels(self):\n",
    "        warnings.warn(\"test_labels has been renamed targets\")\n",
    "        return self.targets\n",
    "\n",
    "    @property\n",
    "    def train_data(self):\n",
    "        warnings.warn(\"train_data has been renamed data\")\n",
    "        return self.data\n",
    "\n",
    "    @property\n",
    "    def test_data(self):\n",
    "        warnings.warn(\"test_data has been renamed data\")\n",
    "        return self.data\n",
    "\n",
    "    def __init__(self, root, params, train=True, transform=None, target_transform=None, download=False):\n",
    "        super(MNIST_MURA, self).__init__(root, transform=transform,\n",
    "                                    target_transform=target_transform)\n",
    "\n",
    "        self.train = train  # training set or test set\n",
    "        self.params = params\n",
    "        self._read_params(self.params)\n",
    "        \n",
    "        if self._check_legacy_exist():\n",
    "            self.data, self.targets = self._load_legacy_data()\n",
    "            \n",
    "        if download:\n",
    "            self.download()\n",
    "\n",
    "        if not self._check_exists():\n",
    "            raise RuntimeError('Dataset not found.' +\n",
    "                               ' You can use download=True to download it')\n",
    "        # Load data\n",
    "        self.data, self.targets, self.digits = self._load_data()\n",
    "    \n",
    "    \n",
    "    def _check_exists(self):\n",
    "        return all(\n",
    "            check_integrity(os.path.join(self.raw_folder, os.path.splitext(os.path.basename(url))[0]))\n",
    "            for url, _ in self.resources\n",
    "        )\n",
    "    def _check_legacy_exist(self):\n",
    "        processed_folder_exists = os.path.exists(self.processed_folder)\n",
    "        if not processed_folder_exists:\n",
    "            return False\n",
    "    def _load_legacy_data(self):\n",
    "        # This is for BC only. We no longer cache the data in a custom binary, but simply read from the raw data\n",
    "        # directly.\n",
    "        data_file = self.training_file if self.train else self.test_file\n",
    "        return torch.load(os.path.join(self.processed_folder, data_file))\n",
    "        \n",
    "    def _load_data(self):\n",
    "        image_file = f\"{'train' if self.train else 't10k'}-images-idx3-ubyte\"\n",
    "        data = read_image_file(os.path.join(self.raw_folder, image_file))\n",
    "        \n",
    "        # Compute MURA encoder and decoder (numpy)\n",
    "        self.A = mura.create_binary_aperture_arr(self.image_size)\n",
    "        self.G = mura.create_decoding_arr(self.A)\n",
    "        # Resize data to prime number length and convolve with aperture\n",
    "        data_resized = torchvision.transforms.functional.resize(data, [self.image_size,self.image_size], antialias=True)\n",
    "        mura_data = torch.empty(data_resized.size())\n",
    "        for idx, img in enumerate(data_resized):\n",
    "            mura_data[idx] = torch.tensor(\n",
    "                            mura.normalize(mura.FFT_convolve(\n",
    "                            np.squeeze(img.numpy()), self.A,self.image_size)), dtype= torch.float)\n",
    "            \n",
    "        label_file = f\"{'train' if self.train else 't10k'}-labels-idx1-ubyte\"\n",
    "        digits = read_label_file(os.path.join(self.raw_folder, label_file))\n",
    "        \n",
    "        \n",
    "        # #Technically, we do not even need the labels for now\n",
    "        # # We just need the clean images of both types\n",
    "        # randata = data[torch.randperm(data.shape[0]),:,:]\n",
    "        # targets = (data, randata)\n",
    "        \n",
    "        # # Now do the ambiguation here\n",
    "        # data = data + randata\n",
    "        \n",
    "        return mura_data, data_resized, digits\n",
    "\n",
    "    def __getitem__(self, index):\n",
    "        \"\"\"\n",
    "        Args:\n",
    "            index (int): Index\n",
    "\n",
    "        Returns:\n",
    "            tuple: (image, target) where target is index of the target class.\n",
    "        \"\"\"\n",
    "        img, target, digit = self.data[index], self.targets[index], self.digits[index]\n",
    "        #Change img to numpy and range to [0,155]\n",
    "        img = np.uint8((img*255).numpy())\n",
    "        \n",
    "        #doing this so that it is consistent with all other datasets\n",
    "        # to return a PIL Imagedata[torch.randperm(data.shape[0]),:,:]\n",
    "        img = Image.fromarray(img, mode='L')\n",
    "        target = Image.fromarray(target.numpy(), mode='L')\n",
    "\n",
    "        if self.transform is not None:\n",
    "            img = self.transform(img)\n",
    "\n",
    "        if self.target_transform is not None:\n",
    "            target = self.target_transform(target)            \n",
    "\n",
    "        return dict({'img': img, 'target': target, 'digit': digit.item()})\n",
    "\n",
    "    def __len__(self) -> int:\n",
    "        return len(self.data)\n",
    "        \n",
    "    def _read_params(self, params):\n",
    "        self.image_size = self.params['image_size']\n",
    "\n",
    "    @property\n",
    "    def raw_folder(self):\n",
    "        return os.path.join(self.root, 'raw')\n",
    "\n",
    "    @property\n",
    "    def processed_folder(self):\n",
    "        return os.path.join(self.root, 'processed')"
   ]
  },
  {
   "cell_type": "code",
   "execution_count": 4,
   "id": "f5f1e161-55f9-44fe-bf66-0f6ad3bd75e7",
   "metadata": {
    "tags": []
   },
   "outputs": [
    {
     "name": "stderr",
     "output_type": "stream",
     "text": [
      "\u001b[34m\u001b[1mwandb\u001b[0m: Currently logged in as: \u001b[33mjocelynornelasmunoz\u001b[0m. Use \u001b[1m`wandb login --relogin`\u001b[0m to force relogin\n"
     ]
    },
    {
     "data": {
      "text/plain": [
       "True"
      ]
     },
     "execution_count": 4,
     "metadata": {},
     "output_type": "execute_result"
    }
   ],
   "source": [
    "# Log into WandB\n",
    "wandb.login()"
   ]
  },
  {
   "cell_type": "code",
   "execution_count": 5,
   "id": "49c063d5-6039-4ab2-a865-b7ae6655c583",
   "metadata": {
    "tags": []
   },
   "outputs": [],
   "source": [
    "# Create params dict\n",
    "params = {\n",
    "    \"image_size\": 23,\n",
    "    \"batch_size\":100,\n",
    "    \"learning_rate\": 0.001, \n",
    "    \"epochs\": 20,\n",
    "    \"model\": \"decoder_cnn\",\n",
    "    \"dataset\": \"mnist_mura_noiseless\",\n",
    "    \"scheduler_patience\": 2,\n",
    "}\n",
    "wandb.config = params"
   ]
  },
  {
   "cell_type": "code",
   "execution_count": 6,
   "id": "c13e1b7a-0a08-4db8-8c84-e340fa4081b6",
   "metadata": {
    "tags": []
   },
   "outputs": [],
   "source": [
    "# Define transforms\n",
    "transform_list = transforms.Compose(\n",
    "            [   transforms.Grayscale(),\n",
    "                transforms.ToTensor(),\n",
    "                transforms.Resize(params['image_size'], antialias=True),\n",
    "                # Noise_dB(desired_snr=1),\n",
    "                # transforms.Normalize(0, 1),\n",
    "                ])\n",
    "target_transform = transforms.Compose(\n",
    "            [   transforms.Grayscale(),\n",
    "                transforms.ToTensor(),\n",
    "                transforms.Resize((params['image_size'],params['image_size']), antialias=True),\n",
    "                ])"
   ]
  },
  {
   "cell_type": "code",
   "execution_count": 7,
   "id": "6a6e757d-5b6e-427b-a406-715d55290b22",
   "metadata": {
    "tags": []
   },
   "outputs": [],
   "source": [
    "# Load dataset\n",
    "mnist_mura = MNIST_MURA('../data/MNIST/', params, transform=transform_list, target_transform=target_transform, train=True)\n",
    "\n",
    "loaders = {}\n",
    "# Define DataLoader\n",
    "loaders['train'] = DataLoader(mnist_mura, batch_size=1, shuffle=False)"
   ]
  },
  {
   "cell_type": "code",
   "execution_count": 8,
   "id": "900cc389-487e-4fab-a03e-847a46dbf3e3",
   "metadata": {
    "tags": []
   },
   "outputs": [
    {
     "data": {
      "image/png": "[encoded data removed]",
      "text/plain": [
       "<Figure size 1000x700 with 2 Axes>"
      ]
     },
     "metadata": {},
     "output_type": "display_data"
    }
   ],
   "source": [
    "fig, axs = plt.subplots(1,2, figsize=(10,7))\n",
    "idx=1\n",
    "axs[0].imshow(loaders['train'].dataset[idx]['target'].squeeze(0), cmap= 'gray')\n",
    "axs[1].imshow(loaders['train'].dataset[idx]['img'].squeeze(0), cmap= 'gray')\n",
    "axs[0].axis('off')\n",
    "axs[1].axis('off')\n",
    "plt.show()"
   ]
  },
  {
   "cell_type": "markdown",
   "id": "24af062d-09da-4c93-9694-c05e6e4c0032",
   "metadata": {},
   "source": [
    "# Define Model"
   ]
  },
  {
   "cell_type": "code",
   "execution_count": 9,
   "id": "d6ba0e00-43b7-4fcc-9b1a-2e2d9c3201b6",
   "metadata": {
    "tags": []
   },
   "outputs": [],
   "source": [
    "class RECON_CNN(torch.nn.Module):\n",
    "    '''\n",
    "    Define a model with only one convolutional layer and sigmoid activation function\n",
    "    '''\n",
    "    def __init__(self, params):\n",
    "        super().__init__() \n",
    "        \n",
    "        # Define model basic info\n",
    "        self.params = params\n",
    "        self.img_size = self.params['image_size']\n",
    "        self.kernel_size = self.params['image_size'] if self.params['image_size'] is not None else self.params['kernel_size']\n",
    "        self.params[\"kernel_size\"] = self.kernel_size\n",
    "        self.criterion = torch.nn.MSELoss() if self.params.get('loss') is None else torch.nn.L1Loss() #\n",
    "        self.params['model_save_path'] = f'../models/learned_decoder_cnn/{params[\"model\"]}.pth'\n",
    "        \n",
    "        # Define model architecture elements\n",
    "        self.conv  = torch.nn.Conv2d(1,1,kernel_size=self.kernel_size, padding='same', padding_mode='circular')#(self.kernel_size-1)//2)\n",
    "        print(\"Using the following parameters:\")\n",
    "        for key, val in self.params.items():\n",
    "            print(f\"{key}: {val}\")\n",
    "        \n",
    "    def forward(self, x):\n",
    "        if \"activation\" in self.params['model']:\n",
    "            output = torch.sigmoid(self.conv(x))\n",
    "        else:\n",
    "            # 03.20.23 Trying out a model with no activation function -- update 03.28.23 Didnt work if it's just no activation :( \n",
    "            # 04.12.23 Trying no activation function with l_1 penalty\n",
    "            #output = self.conv(x)\n",
    "            \n",
    "            # Trying convolution transpose as test\n",
    "            output = self.conv(x)\n",
    "        return output"
   ]
  },
  {
   "cell_type": "code",
   "execution_count": 10,
   "id": "158ff68d-be2d-4f2b-a3d6-7ebbac1975f3",
   "metadata": {
    "tags": []
   },
   "outputs": [
    {
     "name": "stdout",
     "output_type": "stream",
     "text": [
      "Using the following parameters:\n",
      "image_size: 23\n",
      "batch_size: 100\n",
      "learning_rate: 0.001\n",
      "epochs: 20\n",
      "model: decoder_cnn\n",
      "dataset: mnist_mura_noiseless\n",
      "scheduler_patience: 2\n",
      "kernel_size: 23\n",
      "model_save_path: ../models/learned_decoder_cnn/decoder_cnn.pth\n"
     ]
    }
   ],
   "source": [
    "# Instantiate model \n",
    "model = RECON_CNN(params)#.to(device)\n",
    "model.optimizer = torch.optim.Adam(model.parameters(), lr = model.params['learning_rate']) #torch.optim.SGD(model.parameters(), lr = model.params['learning_rate'])\n",
    "model.scheduler = torch.optim.lr_scheduler.ReduceLROnPlateau(model.optimizer, 'min',patience=model.params['scheduler_patience'])"
   ]
  },
  {
   "cell_type": "raw",
   "id": "f5fdf3c6-d4cc-4e7d-9e48-0f6257878ae3",
   "metadata": {},
   "source": [
    "columns=[\"id\", \"input_image\", \"reconstructed_image\", \"target_image\", \"digit\"]\n",
    "test_table = wandb.Table(columns=columns)"
   ]
  },
  {
   "cell_type": "markdown",
   "id": "be7c38c9-e862-43a9-b155-750b4d131338",
   "metadata": {},
   "source": [
    "# Training"
   ]
  },
  {
   "cell_type": "code",
   "execution_count": 12,
   "id": "3c876fc9-e3d7-4489-a0b8-d06922820f1e",
   "metadata": {
    "jupyter": {
     "source_hidden": true
    }
   },
   "outputs": [
    {
     "data": {
      "text/html": [
       "Tracking run with wandb version 0.15.12"
      ],
      "text/plain": [
       "<IPython.core.display.HTML object>"
      ]
     },
     "metadata": {},
     "output_type": "display_data"
    },
    {
     "data": {
      "text/html": [
       "Run data is saved locally in <code>/Users/jornelasmunoz/Desktop/UC Merced/Research/coded-aperture/jornelasmunoz/notebooks/wandb/run-20231031_101932-lro1nzpj</code>"
      ],
      "text/plain": [
       "<IPython.core.display.HTML object>"
      ]
     },
     "metadata": {},
     "output_type": "display_data"
    },
    {
     "data": {
      "text/html": [
       "Syncing run <strong><a href='https://wandb.ai/jocelynornelasmunoz/ca-learned-decoder/runs/lro1nzpj' target=\"_blank\">2023-10-31 10:19:32.763442</a></strong> to <a href='https://wandb.ai/jocelynornelasmunoz/ca-learned-decoder' target=\"_blank\">Weights & Biases</a> (<a href='https://wandb.me/run' target=\"_blank\">docs</a>)<br/>"
      ],
      "text/plain": [
       "<IPython.core.display.HTML object>"
      ]
     },
     "metadata": {},
     "output_type": "display_data"
    },
    {
     "data": {
      "text/html": [
       " View project at <a href='https://wandb.ai/jocelynornelasmunoz/ca-learned-decoder' target=\"_blank\">https://wandb.ai/jocelynornelasmunoz/ca-learned-decoder</a>"
      ],
      "text/plain": [
       "<IPython.core.display.HTML object>"
      ]
     },
     "metadata": {},
     "output_type": "display_data"
    },
    {
     "data": {
      "text/html": [
       " View run at <a href='https://wandb.ai/jocelynornelasmunoz/ca-learned-decoder/runs/lro1nzpj' target=\"_blank\">https://wandb.ai/jocelynornelasmunoz/ca-learned-decoder/runs/lro1nzpj</a>"
      ],
      "text/plain": [
       "<IPython.core.display.HTML object>"
      ]
     },
     "metadata": {},
     "output_type": "display_data"
    },
    {
     "name": "stdout",
     "output_type": "stream",
     "text": [
      "Epoch 1 | Loss: 0.0075974\n",
      "Epoch 2 | Loss: 0.0069826\n",
      "Epoch 3 | Loss: 0.0069563\n",
      "Epoch 4 | Loss: 0.0069478\n",
      "Epoch 5 | Loss: 0.0069438\n",
      "Epoch 6 | Loss: 0.0069417\n",
      "Epoch 7 | Loss: 0.0069405\n",
      "Epoch 8 | Loss: 0.0069397\n",
      "Epoch 9 | Loss: 0.0069392\n",
      "Epoch 10 | Loss: 0.0040756\n",
      "Epoch 11 | Loss: 0.0040766\n",
      "Epoch 12 | Loss: 0.0040766\n",
      "Epoch 13 | Loss: 0.0040766\n",
      "Epoch 14 | Loss: 0.0037508\n",
      "Epoch 15 | Loss: 0.0037495\n",
      "Epoch 16 | Loss: 0.0037495\n",
      "Epoch 17 | Loss: 0.0037495\n",
      "Epoch 18 | Loss: 0.0037839\n",
      "Epoch 19 | Loss: 0.0037824\n",
      "Epoch 20 | Loss: 0.0037822\n"
     ]
    },
    {
     "data": {
      "text/html": [
       "Waiting for W&B process to finish... <strong style=\"color:green\">(success).</strong>"
      ],
      "text/plain": [
       "<IPython.core.display.HTML object>"
      ]
     },
     "metadata": {},
     "output_type": "display_data"
    },
    {
     "data": {
      "text/html": [
       "<style>\n",
       "    table.wandb td:nth-child(1) { padding: 0 10px; text-align: left ; width: auto;} td:nth-child(2) {text-align: left ; width: 100%}\n",
       "    .wandb-row { display: flex; flex-direction: row; flex-wrap: wrap; justify-content: flex-start; width: 100% }\n",
       "    .wandb-col { display: flex; flex-direction: column; flex-basis: 100%; flex: 1; padding: 10px; }\n",
       "    </style>\n",
       "<div class=\"wandb-row\"><div class=\"wandb-col\"><h3>Run history:</h3><br/><table class=\"wandb\"><tr><td>epoch</td><td>▁▁▂▂▂▃▃▄▄▄▅▅▅▆▆▇▇▇██</td></tr><tr><td>loss</td><td>█▇▇▇▇▇▇▇▇▂▂▂▂▁▁▁▁▁▁▁</td></tr></table><br/></div><div class=\"wandb-col\"><h3>Run summary:</h3><br/><table class=\"wandb\"><tr><td>epoch</td><td>19</td></tr><tr><td>loss</td><td>0.00378</td></tr></table><br/></div></div>"
      ],
      "text/plain": [
       "<IPython.core.display.HTML object>"
      ]
     },
     "metadata": {},
     "output_type": "display_data"
    },
    {
     "data": {
      "text/html": [
       " View run <strong style=\"color:#cdcd00\">2023-10-31 10:19:32.763442</strong> at: <a href='https://wandb.ai/jocelynornelasmunoz/ca-learned-decoder/runs/lro1nzpj' target=\"_blank\">https://wandb.ai/jocelynornelasmunoz/ca-learned-decoder/runs/lro1nzpj</a><br/> View job at <a href='https://wandb.ai/jocelynornelasmunoz/ca-learned-decoder/jobs/QXJ0aWZhY3RDb2xsZWN0aW9uOjExMDUwMzI5OQ==/version_details/v7' target=\"_blank\">https://wandb.ai/jocelynornelasmunoz/ca-learned-decoder/jobs/QXJ0aWZhY3RDb2xsZWN0aW9uOjExMDUwMzI5OQ==/version_details/v7</a><br/>Synced 6 W&B file(s), 0 media file(s), 0 artifact file(s) and 0 other file(s)"
      ],
      "text/plain": [
       "<IPython.core.display.HTML object>"
      ]
     },
     "metadata": {},
     "output_type": "display_data"
    },
    {
     "data": {
      "text/html": [
       "Find logs at: <code>./wandb/run-20231031_101932-lro1nzpj/logs</code>"
      ],
      "text/plain": [
       "<IPython.core.display.HTML object>"
      ]
     },
     "metadata": {},
     "output_type": "display_data"
    },
    {
     "name": "stdout",
     "output_type": "stream",
     "text": [
      "CPU times: user 8min 15s, sys: 2min 46s, total: 11min 2s\n",
      "Wall time: 8min 26s\n"
     ]
    }
   ],
   "source": [
    "%%time\n",
    "import datetime\n",
    "# Initialize project in Weights and Biases\n",
    "wandb.init(config=wandb.config, \n",
    "           project=\"ca-learned-decoder\", \n",
    "           group=\"cnn\", \n",
    "           name=str(datetime.datetime.now()))\n",
    "\n",
    "# Store values for later \n",
    "train_loss = []\n",
    "# val_loss = []\n",
    "frob_per_epoch = []\n",
    "weights_epoch = {}\n",
    "\n",
    "#Dictionary that will store different images and outputs for various epochs (not sure if needed)\n",
    "outputs = {}\n",
    "\n",
    "# Training loop starts\n",
    "for epoch in range(params['epochs']):\n",
    "    \n",
    "    # Initialize variable to store loss\n",
    "    running_loss = 0\n",
    "    model.train()\n",
    "    # Iterate over training set\n",
    "    for i, data in enumerate(loaders['train']):\n",
    "        # zero the parameter gradients\n",
    "        model.optimizer.zero_grad()\n",
    "        \n",
    "        # get the inputs; data is a dict of [images, labels, digit]\n",
    "        inputs, targets, digits = data['img'], data['target'], data['digit']\n",
    "            \n",
    "        # Generate output\n",
    "        out = model(inputs)\n",
    "        \n",
    "        # Calculate loss\n",
    "        loss = model.criterion(out, targets)\n",
    "        \n",
    "        # # Modified (04/06/23) to include l_1 penalty\n",
    "        # l_1_pen = sum((w.abs()-1).abs().sum() for w in model.parameters())\n",
    "        # loss = loss + (model.params['lambda']/(model.params['p']**2)) * l_1_pen\n",
    "\n",
    "        \n",
    "        # Backprop and update weights\n",
    "        loss.backward()\n",
    "        model.optimizer.step()\n",
    "        \n",
    "        # Increment loss\n",
    "        running_loss += loss.item()\n",
    "        \n",
    "        # Add table to wandb\n",
    "        # test_table.add_data(i, wandb.Image(inputs[0]), out[0], wandb.Image(targets[0]), digits[0])\n",
    "    # Average loss over entire dataset\n",
    "    running_loss/= len(loaders['train'].dataset)#params['batch_size']\n",
    "    train_loss.append(running_loss)\n",
    "\n",
    "    # Scheduler step every epoch\n",
    "    model.scheduler.step(loss)\n",
    "    \n",
    "    print(f\"Epoch {epoch +1} | Loss: {running_loss:.7f}\")\n",
    "    wandb.log({\"epoch\": epoch, \"loss\": running_loss, }) #\"table\":test_table\n",
    "    \n",
    "    # Storing images, reconstructed outputs, and labels\n",
    "    outputs[epoch+1] = {'img': inputs, 'out': out, 'targets': targets, 'digits': digits}\n",
    "    \n",
    "    # Save weights every 10 epochs\n",
    "    if epoch % 2 == 1:\n",
    "        torch.save(model.state_dict(), model.params['model_save_path'])\n",
    "        # epoch_save_model = path+f'models/CNN/{params[\"model\"]}_model_epoch_'+str(epoch)+'.pth'\n",
    "        # torch.save(model.state_dict(),epoch_save_model)\n",
    "        weight_epoch_list = list(model.parameters())\n",
    "        weights_epoch[f'{epoch}'] = np.squeeze(weight_epoch_list[0].detach().cpu().numpy())\n",
    "        \n",
    "\n",
    "    # Calculate Frobenius norm between weights and decoder every epoch\n",
    "    weights = list(model.parameters())\n",
    "    weight_map = np.squeeze(weights[0].detach().cpu().numpy())\n",
    "    diff_block = mnist_mura.G - weight_map\n",
    "    frob_per_epoch.append(np.linalg.norm(np.abs(diff_block),ord='fro'))\n",
    "\n",
    "#torch.save(model.state_dict(), PATH)\n",
    "# End WandB run\n",
    "wandb.finish()"
   ]
  },
  {
   "cell_type": "markdown",
   "id": "5cecbb74-2bb3-4f86-80d7-806f7110e278",
   "metadata": {},
   "source": [
    "# Load model"
   ]
  },
  {
   "cell_type": "code",
   "execution_count": 11,
   "id": "c0d4b347-47a2-49e8-9754-f3e04881ac52",
   "metadata": {},
   "outputs": [
    {
     "data": {
      "text/plain": [
       "<All keys matched successfully>"
      ]
     },
     "execution_count": 11,
     "metadata": {},
     "output_type": "execute_result"
    }
   ],
   "source": [
    "model.load_state_dict(torch.load('../models/learned_decoder_cnn/decoder_cnn.pth'))"
   ]
  },
  {
   "cell_type": "code",
   "execution_count": 12,
   "id": "9ca356c3-88c3-488a-9fb1-10359d6986f2",
   "metadata": {},
   "outputs": [],
   "source": [
    "weight_map = list(model.parameters())[0].cpu().detach().squeeze(0).squeeze(0)"
   ]
  },
  {
   "cell_type": "code",
   "execution_count": 13,
   "id": "c3cba199-a415-4520-9af7-a4b15a80391a",
   "metadata": {},
   "outputs": [
    {
     "data": {
      "image/png": "[encoded data removed]",
      "text/plain": [
       "<Figure size 1500x700 with 4 Axes>"
      ]
     },
     "metadata": {},
     "output_type": "display_data"
    }
   ],
   "source": [
    "fig, axs = plt.subplots(1,2, figsize = (15,7))\n",
    "sns.heatmap(weight_map, cmap='gray', ax=axs[0])\n",
    "sns.heatmap(mnist_mura.G, cmap='gray', ax=axs[1])\n",
    "\n",
    "axs[0].set_title(\"Learned decoder $G_L$\")\n",
    "axs[1].set_title(\"True decoder $G$\")\n",
    "# fig.savefig('../figs/learned_decoder_cnn_20_epochs_circular_pad.png')\n",
    "\n",
    "plt.show()"
   ]
  },
  {
   "cell_type": "markdown",
   "id": "bdbea672-004d-429b-813c-2475ea5cd44e",
   "metadata": {},
   "source": [
    "# Test set evaluation"
   ]
  },
  {
   "cell_type": "code",
   "execution_count": 14,
   "id": "1fed846f-e0a9-4cbd-9332-4eab64cd51a6",
   "metadata": {},
   "outputs": [],
   "source": [
    "from torchmetrics.image import StructuralSimilarityIndexMeasure "
   ]
  },
  {
   "cell_type": "code",
   "execution_count": 15,
   "id": "bb9465f0-a58e-4869-9cd5-bb2345b0f2d5",
   "metadata": {},
   "outputs": [],
   "source": [
    "SSIM = StructuralSimilarityIndexMeasure()"
   ]
  },
  {
   "cell_type": "code",
   "execution_count": 16,
   "id": "aecd0262-9fc8-4f29-b38f-8442179f8e13",
   "metadata": {},
   "outputs": [],
   "source": [
    "# Define test set\n",
    "test_mnist_mura = MNIST_MURA('../data/MNIST/', params, transform=transform_list, target_transform=target_transform, train=False)\n",
    "testset = DataLoader(test_mnist_mura, batch_size=10, shuffle=True)"
   ]
  },
  {
   "cell_type": "code",
   "execution_count": 17,
   "id": "e381538f-299d-46b4-be1e-a98c67fe5f3b",
   "metadata": {},
   "outputs": [],
   "source": [
    "results = []\n",
    "for i, data in enumerate(testset):\n",
    "    inputs, targets, digits = data['img'], data['target'], data['digit']\n",
    "    outputs = model(inputs.to(device))\n",
    "    mse_loss = model.criterion(outputs, targets)\n",
    "    ssim_loss = SSIM(outputs, targets)\n",
    "    results.append((inputs, outputs, targets, digits, mse_loss.item(), ssim_loss.item()))\n",
    "    # show_outputs(outputs, targets, inputs, iterator=i)"
   ]
  },
  {
   "cell_type": "code",
   "execution_count": 18,
   "id": "ed1b6502-c784-4da7-afd0-4aca61fe1125",
   "metadata": {},
   "outputs": [],
   "source": [
    "df = pd.DataFrame(results, columns=['inputs', 'outputs', 'targets', 'digits', 'mse', 'ssim'])"
   ]
  },
  {
   "cell_type": "code",
   "execution_count": 19,
   "id": "c21b8d0b-39b1-49b8-825b-538cd47915e0",
   "metadata": {},
   "outputs": [],
   "source": [
    "import plotly.express as px\n",
    "import plotly.io as pio\n",
    "import plotly.graph_objects as go\n",
    "# pio.renderers.default = 'notebook'"
   ]
  },
  {
   "cell_type": "code",
   "execution_count": 20,
   "id": "f94ffd84-87b7-44df-ad63-ab80fd9c4c16",
   "metadata": {},
   "outputs": [
    {
     "data": {
      "application/vnd.plotly.v1+json": {
       "config": {
        "plotlyServerURL": "https://plot.ly"
       },
       "data": [
        {
         "marker": {
          "color": "indianred"
         },
         "name": "MSE",
         "type": "box",
         "y": [
          0.006535938475281,
          0.0035131312906742096,
          0.0032077962532639503,
          0.005700522102415562,
          0.004042232874780893,
          0.004876658786088228,
          0.004395793192088604,
          0.003014009678736329,
          0.005845562554895878,
          0.0022414480336010456,
          0.002257564105093479,
          0.002078112680464983,
          0.003069019876420498,
          0.0014203578466549516,
          0.0037918472662568092,
          0.0022028577513992786,
          0.00345737230964005,
          0.002568046795204282,
          0.0035175506491214037,
          0.0022589750587940216,
          0.006696258205920458,
          0.0024558594450354576,
          0.0026347977109253407,
          0.005965172313153744,
          0.0028439981397241354,
          0.0029370079282671213,
          0.0028768752235919237,
          0.002033563796430826,
          0.002251670928671956,
          0.002068114234134555,
          0.0033692228607833385,
          0.004527112003415823,
          0.003996456973254681,
          0.0010636980878189206,
          0.0023082452826201916,
          0.0036245007067918777,
          0.0020715072751045227,
          0.0025978239718824625,
          0.002779087284579873,
          0.002994477516040206,
          0.004263781476765871,
          0.004557675216346979,
          0.004378319252282381,
          0.0026612882502377033,
          0.005830830428749323,
          0.007063283585011959,
          0.003070020116865635,
          0.0034744117874652147,
          0.0038513720501214266,
          0.002002105349674821,
          0.00239052576944232,
          0.001917949877679348,
          0.006258066277951002,
          0.0016918221954256296,
          0.0012403260916471481,
          0.0035557777155190706,
          0.003618032205849886,
          0.00410581985488534,
          0.005046927835792303,
          0.002974811475723982,
          0.0020720278844237328,
          0.005782826337963343,
          0.0027374785859137774,
          0.0062456559389829636,
          0.00987701304256916,
          0.002701479708775878,
          0.0013831353280693293,
          0.006036465521901846,
          0.0032557935919612646,
          0.006351448595523834,
          0.002546068048104644,
          0.0016038080211728811,
          0.006069288123399019,
          0.0012779668904840946,
          0.004155886359512806,
          0.004073113668709993,
          0.001444552675820887,
          0.003175178309902549,
          0.0024182808119803667,
          0.0024719685316085815,
          0.006236046552658081,
          0.0036655934527516365,
          0.002537541324272752,
          0.0038725656922906637,
          0.002263868460431695,
          0.0059974705800414085,
          0.005126527976244688,
          0.005483949091285467,
          0.0031157766934484243,
          0.002269177930429578,
          0.0014707123627886176,
          0.002279559150338173,
          0.005786067806184292,
          0.0025785425677895546,
          0.0033050028141587973,
          0.002779714297503233,
          0.0025919682811945677,
          0.005875526927411556,
          0.0027180055622011423,
          0.005293489899486303,
          0.002368426648899913,
          0.0012746540596708655,
          0.004489090759307146,
          0.003164047608152032,
          0.0027561397291719913,
          0.00624097790569067,
          0.005381276831030846,
          0.005080211907625198,
          0.00403438787907362,
          0.005447163712233305,
          0.00355441658757627,
          0.005994519684463739,
          0.002194054424762726,
          0.005128658376634121,
          0.003535971511155367,
          0.004241384100168943,
          0.003922812640666962,
          0.004175645764917135,
          0.0045454492792487144,
          0.004851206671446562,
          0.0066895815543830395,
          0.0038204172160476446,
          0.0038771769031882286,
          0.0023932980839163065,
          0.005200293380767107,
          0.0021723799873143435,
          0.00300645362585783,
          0.006067195907235146,
          0.0034030668903142214,
          0.005275788251310587,
          0.005723734386265278,
          0.004802994430065155,
          0.005809050053358078,
          0.006210022605955601,
          0.0030735102482140064,
          0.00438627228140831,
          0.00232955114915967,
          0.003662985283881426,
          0.0018388499738648534,
          0.0019260119879618287,
          0.002088159555569291,
          0.008548262529075146,
          0.004858720116317272,
          0.005140081513673067,
          0.0025641811080276966,
          0.0027940620202571154,
          0.0022031464613974094,
          0.00510746706277132,
          0.003963278140872717,
          0.0036032989155501127,
          0.0020020080264657736,
          0.002960010664537549,
          0.006965046748518944,
          0.002639039419591427,
          0.005584977101534605,
          0.002110050991177559,
          0.0016389258671551943,
          0.0036337554920464754,
          0.00240033445879817,
          0.004831158556044102,
          0.004472866654396057,
          0.0062980917282402515,
          0.003719983622431755,
          0.002966385567560792,
          0.006525835022330284,
          0.0034770776983350515,
          0.004346863366663456,
          0.005060514900833368,
          0.0037746233865618706,
          0.002878371626138687,
          0.004955077078193426,
          0.0018005995079874992,
          0.0038928426802158356,
          0.002670435467734933,
          0.0014945573639124632,
          0.004794674459844828,
          0.002557783154770732,
          0.0025969643611460924,
          0.006210699211806059,
          0.004584956914186478,
          0.003196374047547579,
          0.0056663085706532,
          0.0025884138885885477,
          0.004218725021928549,
          0.007756107486784458,
          0.004852184094488621,
          0.001479649217799306,
          0.005526362918317318,
          0.005465990863740444,
          0.0032659585122019053,
          0.004029878880828619,
          0.008814076893031597,
          0.002692237962037325,
          0.009127671830356121,
          0.004376398865133524,
          0.0039305416867136955,
          0.003276232862845063,
          0.0036614404525607824,
          0.0031195764895528555,
          0.004660346545279026,
          0.003774462966248393,
          0.0023216474801301956,
          0.0032002534717321396,
          0.0021361166145652533,
          0.005698102526366711,
          0.0025150782894343138,
          0.0030749987345188856,
          0.0028216575738042593,
          0.0032093822956085205,
          0.004983140621334314,
          0.0024841248523443937,
          0.0036410759203135967,
          0.0016805792693048716,
          0.005072986241430044,
          0.004201769828796387,
          0.0019547906704247,
          0.0019585846457630396,
          0.004069349728524685,
          0.004843991715461016,
          0.0031700842082500458,
          0.0025525218807160854,
          0.003013471607118845,
          0.004600175656378269,
          0.004443311598151922,
          0.003830050118267536,
          0.0028835872653871775,
          0.004281019791960716,
          0.001617591013200581,
          0.0021516999695450068,
          0.006776010151952505,
          0.005870404653251171,
          0.0032118179369717836,
          0.005747263785451651,
          0.0034582719672471285,
          0.003125757910311222,
          0.004489152692258358,
          0.004570439923554659,
          0.004757003393024206,
          0.003960467875003815,
          0.004799055401235819,
          0.0033602581825107336,
          0.004657452460378408,
          0.003195621306076646,
          0.0037674843333661556,
          0.0052636959590017796,
          0.004047710448503494,
          0.002856760984286666,
          0.0037923119962215424,
          0.004408455919474363,
          0.006550626363605261,
          0.004113125614821911,
          0.0019780711736530066,
          0.0030453549697995186,
          0.005379940383136272,
          0.0030451281927525997,
          0.008275422267615795,
          0.003673589788377285,
          0.00603465037420392,
          0.0031737766694277525,
          0.002575779100880027,
          0.0030673667788505554,
          0.005727708339691162,
          0.0015672746812924743,
          0.0029737502336502075,
          0.002651428570970893,
          0.0038677763659507036,
          0.00172146107070148,
          0.006546310614794493,
          0.0035673342645168304,
          0.0028918199241161346,
          0.002036775927990675,
          0.004442247096449137,
          0.0067215790040791035,
          0.004905809182673693,
          0.0032571980264037848,
          0.004125417210161686,
          0.0016494772862643003,
          0.004561202600598335,
          0.0016317241825163364,
          0.003385612042620778,
          0.0038685547187924385,
          0.0031230896711349487,
          0.0030821743421256542,
          0.0015370296314358711,
          0.004383158404380083,
          0.0031115724705159664,
          0.0034059348981827497,
          0.0023237899877130985,
          0.0033984666224569082,
          0.0033212637063115835,
          0.0031951870769262314,
          0.0031592727173119783,
          0.0024351829197257757,
          0.001700822962448001,
          0.0062957387417554855,
          0.007145888637751341,
          0.0036749362479895353,
          0.004676800686866045,
          0.0028290392365306616,
          0.006038791965693235,
          0.0017263444606214762,
          0.002717249095439911,
          0.004709385335445404,
          0.0030007767491042614,
          0.0024078187998384237,
          0.0029573915526270866,
          0.0059827771037817,
          0.0027648063842207193,
          0.007784057874232531,
          0.0026270123198628426,
          0.00580622861161828,
          0.0029537342488765717,
          0.003597577568143606,
          0.0036752638407051563,
          0.0031266859732568264,
          0.005886345636099577,
          0.002864443464204669,
          0.0053795441053807735,
          0.0028289330657571554,
          0.005634420085698366,
          0.003088414901867509,
          0.005877407733350992,
          0.0023615355603396893,
          0.004778236150741577,
          0.002792101353406906,
          0.0026167314499616623,
          0.0028893607668578625,
          0.004760961979627609,
          0.004455517046153545,
          0.001760925049893558,
          0.00444050645455718,
          0.004050552845001221,
          0.005501089617609978,
          0.0019531127763912082,
          0.00439393101260066,
          0.0038771568797528744,
          0.004913157783448696,
          0.004885909613221884,
          0.003682956099510193,
          0.002526676282286644,
          0.003140687244012952,
          0.004204910714179277,
          0.007315770257264376,
          0.001954111270606518,
          0.003856609109789133,
          0.0033648062963038683,
          0.0037372151855379343,
          0.0064215706661343575,
          0.004003607667982578,
          0.005462662782520056,
          0.0017188303172588348,
          0.00562643026933074,
          0.00525240134447813,
          0.0024856405798345804,
          0.003144575282931328,
          0.0021100982557982206,
          0.0021329368464648724,
          0.0035827686078846455,
          0.0019102846272289753,
          0.004390253685414791,
          0.0039446414448320866,
          0.003175626276060939,
          0.004369006492197514,
          0.004250229336321354,
          0.004578196443617344,
          0.004941524472087622,
          0.006037898361682892,
          0.0013954677851870656,
          0.005775921978056431,
          0.002829048316925764,
          0.0019746774341911077,
          0.0028120060451328754,
          0.006971613969653845,
          0.001839923090301454,
          0.008791930042207241,
          0.0025843868497759104,
          0.0024395238142460585,
          0.004532286431640387,
          0.0021542005706578493,
          0.007120617665350437,
          0.0026676664128899574,
          0.003559372154995799,
          0.0033722587395459414,
          0.004547973163425922,
          0.002915394026786089,
          0.004164755344390869,
          0.002254334045574069,
          0.0027593052946031094,
          0.002378024160861969,
          0.007706469390541315,
          0.0052637262269854546,
          0.0022669259924441576,
          0.0047316523268818855,
          0.00496271438896656,
          0.002763619413599372,
          0.002304935362190008,
          0.0019446044461801648,
          0.0027026759926229715,
          0.0073608411476016045,
          0.003680543275550008,
          0.003120849607512355,
          0.0031924147624522448,
          0.0037784785963594913,
          0.0019395557465031743,
          0.002269329270347953,
          0.0036446540616452694,
          0.002467215759679675,
          0.0019121970981359482,
          0.005587769206613302,
          0.0031693957280367613,
          0.0026107151061296463,
          0.005000611767172813,
          0.003047035541385412,
          0.004206728655844927,
          0.009110590443015099,
          0.002926053712144494,
          0.004512700717896223,
          0.003976162057369947,
          0.003428409807384014,
          0.007857664488255978,
          0.005223556887358427,
          0.0033289804123342037,
          0.0034869296941906214,
          0.004122864454984665,
          0.004345933441072702,
          0.0025145646650344133,
          0.004363314714282751,
          0.005475241225212812,
          0.00209981482475996,
          0.0017523871501907706,
          0.0038958904333412647,
          0.0047405557706952095,
          0.003079526126384735,
          0.0024298308417201042,
          0.00766892870888114,
          0.0025523407384753227,
          0.0027198411989957094,
          0.005043196026235819,
          0.005539825186133385,
          0.008682767860591412,
          0.0020128609612584114,
          0.0047852275893092155,
          0.00363193079829216,
          0.0034756986424326897,
          0.00260465731844306,
          0.004695369862020016,
          0.0053246524184942245,
          0.0038872151635587215,
          0.003870593151077628,
          0.0035476929042488337,
          0.004811271093785763,
          0.0025815353728830814,
          0.0038528942968696356,
          0.001999305095523596,
          0.0026497007347643375,
          0.0015374538488686085,
          0.0019798344001173973,
          0.004657145589590073,
          0.004951114300638437,
          0.0037310307379812002,
          0.005406944081187248,
          0.003604541067034006,
          0.010742748156189919,
          0.003581595839932561,
          0.003788936184719205,
          0.002260268433019519,
          0.0040176245383918285,
          0.004371717572212219,
          0.004881707020103931,
          0.004081034567207098,
          0.00396308209747076,
          0.0028269498143345118,
          0.0032090824097394943,
          0.0069574653171002865,
          0.0032080865930765867,
          0.006791732273995876,
          0.0021757427603006363,
          0.005509038455784321,
          0.0036846452858299017,
          0.0035453871823847294,
          0.007296853698790073,
          0.0062799169681966305,
          0.001962511334568262,
          0.003992624580860138,
          0.0033726049587130547,
          0.006405904423445463,
          0.003307171631604433,
          0.0035760512109845877,
          0.004553454928100109,
          0.005759979598224163,
          0.0009581512422300875,
          0.003165727946907282,
          0.002572799799963832,
          0.0016809995286166668,
          0.0019592216704040766,
          0.0036250243429094553,
          0.0021497101988643408,
          0.0027603053022176027,
          0.00400053896009922,
          0.003981308080255985,
          0.003978829365223646,
          0.004772888030856848,
          0.003454334568232298,
          0.002959188772365451,
          0.0036119918804615736,
          0.005542141385376453,
          0.0055694603361189365,
          0.003154054516926408,
          0.002995976246893406,
          0.0041563003323972225,
          0.0023628678172826767,
          0.004434635862708092,
          0.0030237266328185797,
          0.0025159912183880806,
          0.00299892108887434,
          0.002808389486745,
          0.004242554306983948,
          0.0019472554558888078,
          0.0016229450702667236,
          0.004635340068489313,
          0.0026694172993302345,
          0.0036925170570611954,
          0.002741680946201086,
          0.004138066899031401,
          0.004686302039772272,
          0.004685243591666222,
          0.005786538124084473,
          0.003012518398463726,
          0.0027589434757828712,
          0.002783111995086074,
          0.0067711505107581615,
          0.0022582700476050377,
          0.0035799271427094936,
          0.004681451246142387,
          0.0026684317272156477,
          0.007593757938593626,
          0.003018002025783062,
          0.006001031491905451,
          0.001627183286473155,
          0.004572425037622452,
          0.001904082135297358,
          0.002462463453412056,
          0.0022907834500074387,
          0.00458104582503438,
          0.001969036413356662,
          0.003523655701428652,
          0.002232119208201766,
          0.0032302560284733772,
          0.0036002309061586857,
          0.003296356415376067,
          0.005158653017133474,
          0.0022449244279414415,
          0.006113220471888781,
          0.008574445731937885,
          0.004952545743435621,
          0.009214944206178188,
          0.0017170968931168318,
          0.006330667994916439,
          0.0045671118423342705,
          0.002571037970483303,
          0.004478394519537687,
          0.0020901181269437075,
          0.0055140545591712,
          0.004714522045105696,
          0.0035846217069774866,
          0.00402054563164711,
          0.0043504307977855206,
          0.003123758127912879,
          0.0024468163028359413,
          0.0031490109395235777,
          0.004641066305339336,
          0.005517116282135248,
          0.008358831517398357,
          0.0034951618872582912,
          0.0018709154101088643,
          0.0028418987058103085,
          0.0034303704742342234,
          0.004058062098920345,
          0.0027869106270372868,
          0.0047353473491966724,
          0.0029028772842139006,
          0.004820575937628746,
          0.0027808314189314842,
          0.004412442445755005,
          0.005586812738329172,
          0.006684005260467529,
          0.0021019261330366135,
          0.002096525626257062,
          0.0025992621667683125,
          0.002512547420337796,
          0.0027583050541579723,
          0.0025778827257454395,
          0.006489114370197058,
          0.0022923522628843784,
          0.005987449083477259,
          0.004132729955017567,
          0.004284413065761328,
          0.004072084091603756,
          0.0029371678829193115,
          0.003386882832273841,
          0.00509909400716424,
          0.0037718003150075674,
          0.0016283693257719278,
          0.0049597169272601604,
          0.0024016420356929302,
          0.00291359331458807,
          0.0012959960149601102,
          0.004639794584363699,
          0.004281298723071814,
          0.003558825235813856,
          0.0021671182475984097,
          0.0035357894375920296,
          0.003245471976697445,
          0.0035294177941977978,
          0.0035214191302657127,
          0.003054129658266902,
          0.003478025086224079,
          0.0044686864130198956,
          0.0027925088070333004,
          0.0014618539717048407,
          0.005645487457513809,
          0.0025536557659506798,
          0.0037911084946244955,
          0.002004663459956646,
          0.005101888440549374,
          0.0019969777204096317,
          0.0035842368379235268,
          0.003907922655344009,
          0.003914858214557171,
          0.00305718882009387,
          0.004782490432262421,
          0.003568268148228526,
          0.006088268477469683,
          0.005427516531199217,
          0.004363462794572115,
          0.004760370589792728,
          0.007380181457847357,
          0.003146916162222624,
          0.0024134290870279074,
          0.0026494015473872423,
          0.004317952319979668,
          0.0019905841909348965,
          0.004103905521333218,
          0.004416786599904299,
          0.0026150753255933523,
          0.0045663234777748585,
          0.004773981869220734,
          0.003718269057571888,
          0.004059912171214819,
          0.00653827004134655,
          0.005263037048280239,
          0.0022970568388700485,
          0.0038455238100141287,
          0.007644450757652521,
          0.005121794994920492,
          0.0045386976562440395,
          0.0033561994787305593,
          0.0032684796024113894,
          0.002312126336619258,
          0.0023747612722218037,
          0.003825161838904023,
          0.003236701712012291,
          0.006445887964218855,
          0.0018275640904903412,
          0.0014560396084561944,
          0.0023134141229093075,
          0.006236070767045021,
          0.0022653427440673113,
          0.003075736341997981,
          0.005844657775014639,
          0.0032324576750397682,
          0.0030846165027469397,
          0.00569130340591073,
          0.0009900630684569478,
          0.0033603040501475334,
          0.008521368727087975,
          0.005197628866881132,
          0.003618058282881975,
          0.0018285798141732812,
          0.002197838854044676,
          0.004124543163925409,
          0.0026958880480378866,
          0.002774057909846306,
          0.0015889389906078577,
          0.003140162443742156,
          0.002932467497885227,
          0.0038915788754820824,
          0.0034395826514810324,
          0.0023242132738232613,
          0.0020494034979492426,
          0.0019284271402284503,
          0.0046724784187972546,
          0.002043267944827676,
          0.0045356606133282185,
          0.004338872618973255,
          0.0036361345555633307,
          0.0029138908721506596,
          0.00484328530728817,
          0.003186851041391492,
          0.004149106331169605,
          0.006561549846082926,
          0.004559569526463747,
          0.002248103031888604,
          0.003246416337788105,
          0.005427159834653139,
          0.006090939976274967,
          0.004305446520447731,
          0.0034358466509729624,
          0.002930323127657175,
          0.0047199055552482605,
          0.0035618224646896124,
          0.010181335732340813,
          0.0037533959839493036,
          0.004152035340666771,
          0.001304210047237575,
          0.0050167483277618885,
          0.003848620690405369,
          0.005331217311322689,
          0.0013071170542389154,
          0.004049795679748058,
          0.003863335121423006,
          0.004431284964084625,
          0.004513524007052183,
          0.0016700371634215117,
          0.0037356046959757805,
          0.007460721302777529,
          0.002951676957309246,
          0.0014311799313873053,
          0.004289574921131134,
          0.002455242909491062,
          0.0036922129802405834,
          0.002690437715500593,
          0.003907015081495047,
          0.0021845423616468906,
          0.005361051298677921,
          0.0074016680009663105,
          0.002764820121228695,
          0.00295753451064229,
          0.00092927529476583,
          0.0017766813980415463,
          0.004030308220535517,
          0.006387947592884302,
          0.005725910887122154,
          0.005143172573298216,
          0.008145778439939022,
          0.0028478149324655533,
          0.006408649496734142,
          0.00530247250571847,
          0.0031833916436880827,
          0.005110535304993391,
          0.002680007368326187,
          0.00282928254455328,
          0.0028315656818449497,
          0.0021860452834516764,
          0.0036201162729412317,
          0.0035306718200445175,
          0.00343709415756166,
          0.00920054316520691,
          0.006686529144644737,
          0.0015207743272185326,
          0.0038517701905220747,
          0.0022793905809521675,
          0.004979507531970739,
          0.005586870480328798,
          0.002820784691721201,
          0.007296200376003981,
          0.004159256350249052,
          0.005796343553811312,
          0.005233536008745432,
          0.002570502460002899,
          0.007332782726734877,
          0.004624610301107168,
          0.0042426614090800285,
          0.0037090228870511055,
          0.004072586540132761,
          0.0024127624928951263,
          0.0052627376280725,
          0.004235552158206701,
          0.0019175508059561253,
          0.004068910609930754,
          0.004634937737137079,
          0.0029230641666799784,
          0.0028285528533160686,
          0.005351356230676174,
          0.0017139059491455555,
          0.002944710198789835,
          0.0028001759201288223,
          0.00446154223755002,
          0.0049993484281003475,
          0.002847961150109768,
          0.0038513047620654106,
          0.0055384510196745396,
          0.003903925884515047,
          0.004383100662380457,
          0.0068464940413832664,
          0.0033702547661960125,
          0.005636065267026424,
          0.001787796849384904,
          0.005816794466227293,
          0.003989873919636011,
          0.004054506309330463,
          0.004550069570541382,
          0.0029175395611673594,
          0.0040612067095935345,
          0.004615218844264746,
          0.00400877371430397,
          0.003974918741732836,
          0.00280227093026042,
          0.001746139139868319,
          0.002266477793455124,
          0.004195062909275293,
          0.004007506649941206,
          0.0098269023001194,
          0.0028758563566952944,
          0.0018930041696876287,
          0.0061760819517076015,
          0.004328294191509485,
          0.002783325267955661,
          0.0029642111621797085,
          0.006411956623196602,
          0.005543070379644632,
          0.004778470378369093,
          0.0025791525840759277,
          0.005101323593407869,
          0.003771022893488407,
          0.0015082830796018243,
          0.0038309458177536726,
          0.00547383725643158,
          0.003087171819061041,
          0.005830727051943541,
          0.004043966997414827,
          0.006507489364594221,
          0.004849693272262812,
          0.005432421807199717,
          0.0025496052112430334,
          0.003604237688705325,
          0.002087699482217431,
          0.00693512475118041,
          0.0028388136997818947,
          0.0008304224465973675,
          0.006248364690691233,
          0.004730714950710535,
          0.006806904915720224,
          0.0026241682935506105,
          0.003631311934441328,
          0.009583188220858574,
          0.00322589254938066,
          0.003932345192879438,
          0.0028962183278054,
          0.0038492255844175816,
          0.002555738901719451,
          0.0026860071811825037,
          0.006442773621529341,
          0.0030696303583681583,
          0.0011574671370908618,
          0.004749131388962269,
          0.0021614711731672287,
          0.0072986106388270855,
          0.0031112413853406906,
          0.0015303047839552164,
          0.002755279652774334,
          0.0042312368750572205,
          0.0040618483908474445,
          0.003935074899345636,
          0.002925475826486945,
          0.0027200046461075544,
          0.0018076518317684531,
          0.0034654363989830017,
          0.0016314225504174829,
          0.001913009793497622,
          0.003782643238082528,
          0.006969852838665247,
          0.006003221496939659,
          0.002984203863888979,
          0.0067572384141385555,
          0.0018377314554527402,
          0.003677975619211793,
          0.00427200086414814,
          0.003480806015431881,
          0.001788860303349793,
          0.0043838368728756905,
          0.005451067350804806,
          0.0054409741424024105,
          0.005668160039931536,
          0.002757482696324587,
          0.004151586908847094,
          0.003035465022549033,
          0.0048719667829573154,
          0.004645102191716433,
          0.005994474980980158,
          0.005533544812351465,
          0.004500220064073801,
          0.00217964849434793,
          0.002843049354851246,
          0.004266403149813414,
          0.005980928894132376,
          0.004556900821626186,
          0.003618684597313404,
          0.001225811312906444,
          0.0050539602525532246,
          0.004695178475230932,
          0.0045720674097537994,
          0.004665910732001066,
          0.002942962571978569,
          0.005636116955429316,
          0.003964107949286699,
          0.0021032390650361776,
          0.002522071823477745,
          0.004313705954700708,
          0.0022293429356068373,
          0.0044738068245351315,
          0.004368175286799669,
          0.0025658023077994585,
          0.0056159780360758305,
          0.002257909858599305,
          0.0034301606938242912,
          0.0034435950219631195,
          0.004028215538710356,
          0.004476697184145451,
          0.0021070039365440607,
          0.0016335130203515291,
          0.00830869097262621,
          0.006673701107501984,
          0.004958696663379669,
          0.004129961133003235,
          0.0025419953744858503,
          0.0026919799856841564,
          0.0025317438412457705,
          0.00611890759319067,
          0.0031799147836863995,
          0.002223528688773513,
          0.0038348708767443895,
          0.0029296278953552246,
          0.0039865621365606785,
          0.005554624367505312,
          0.005617286078631878,
          0.0067680212669074535,
          0.0019373209215700626,
          0.002022238913923502,
          0.005159203428775072,
          0.004179876297712326,
          0.0044570122845470905,
          0.006296493113040924,
          0.006035530939698219,
          0.002617404330521822,
          0.005537382792681456,
          0.0025317175313830376,
          0.00403008796274662,
          0.003859862219542265,
          0.00211108080111444,
          0.0033901294227689505,
          0.005116723943501711,
          0.0034471810795366764,
          0.0021259745117276907,
          0.004104122519493103,
          0.002870052121579647,
          0.004477775655686855,
          0.0043215458281338215,
          0.0042513953521847725,
          0.00608946243301034,
          0.0030180911999195814,
          0.004030643031001091,
          0.007686174940317869,
          0.0035049589350819588,
          0.003480123123154044,
          0.003969688434153795,
          0.0031743301078677177,
          0.0033391553442925215,
          0.002947756554931402,
          0.00439296243712306,
          0.0025689168833196163,
          0.004841506015509367,
          0.0017599996645003557,
          0.004544396419078112,
          0.004070977680385113,
          0.003708592848852277,
          0.0047109778970479965,
          0.004129599779844284,
          0.003912076354026794,
          0.006471296306699514,
          0.008493429981172085,
          0.003152859164401889,
          0.0029460827354341745,
          0.003929031081497669,
          0.002725273370742798,
          0.005394943058490753,
          0.005319842137396336,
          0.009046638384461403,
          0.0027434793300926685,
          0.004696636460721493,
          0.008067942224442959,
          0.002167596248909831,
          0.0022289820481091738,
          0.005538619123399258,
          0.002080394886434078,
          0.003319335635751486,
          0.0047070179134607315,
          0.00252385251224041,
          0.004714183509349823,
          0.004599813837558031
         ]
        },
        {
         "marker": {
          "color": "lightseagreen"
         },
         "name": "SSIM",
         "type": "box",
         "y": [
          0.8900616765022278,
          0.8995174169540405,
          0.904711127281189,
          0.911853015422821,
          0.8714656829833984,
          0.8723947405815125,
          0.9035624265670776,
          0.9350636601448059,
          0.8576143383979797,
          0.9299670457839966,
          0.9283636212348938,
          0.8918442726135254,
          0.8776399493217468,
          0.924375057220459,
          0.9009603261947632,
          0.926360011100769,
          0.9196345210075378,
          0.9116465449333191,
          0.8390277028083801,
          0.934429943561554,
          0.866786777973175,
          0.9478046298027039,
          0.9499673843383789,
          0.8514219522476196,
          0.9267333149909973,
          0.8885748982429504,
          0.895415186882019,
          0.9302558898925781,
          0.9355549812316895,
          0.9024292230606079,
          0.893773078918457,
          0.9122964143753052,
          0.9013827443122864,
          0.919751763343811,
          0.9342904090881348,
          0.8890212774276733,
          0.9436613321304321,
          0.9093576669692993,
          0.9168270230293274,
          0.9115085601806641,
          0.9062860608100891,
          0.9150487780570984,
          0.913601279258728,
          0.9294702410697937,
          0.8732037544250488,
          0.8909180760383606,
          0.9329800605773926,
          0.9150546789169312,
          0.8977400064468384,
          0.9323590993881226,
          0.9307588338851929,
          0.9105457067489624,
          0.8775268793106079,
          0.9166581034660339,
          0.9134578704833984,
          0.9025012254714966,
          0.9325311779975891,
          0.8836890459060669,
          0.8742694854736328,
          0.8986385464668274,
          0.9189152717590332,
          0.9101307988166809,
          0.9370765686035156,
          0.9077145457267761,
          0.8772002458572388,
          0.9506534337997437,
          0.9559105634689331,
          0.8408044576644897,
          0.9330159425735474,
          0.8803780674934387,
          0.8895657658576965,
          0.9077122807502747,
          0.9069830179214478,
          0.9527829885482788,
          0.9213607907295227,
          0.9135082364082336,
          0.9478513598442078,
          0.9166864156723022,
          0.9249011278152466,
          0.9604271650314331,
          0.8115105628967285,
          0.8795396685600281,
          0.9303882718086243,
          0.9171249270439148,
          0.9588109850883484,
          0.8930094838142395,
          0.8788361549377441,
          0.9101341366767883,
          0.9354483485221863,
          0.8999446034431458,
          0.9424591064453125,
          0.9042531847953796,
          0.8856760263442993,
          0.9229154586791992,
          0.9341791272163391,
          0.9219450950622559,
          0.9471817016601562,
          0.8587495684623718,
          0.8954659700393677,
          0.8924916982650757,
          0.9324148893356323,
          0.9619504809379578,
          0.8939441442489624,
          0.8929430246353149,
          0.922829806804657,
          0.8900820016860962,
          0.9244295358657837,
          0.87559974193573,
          0.9367853999137878,
          0.8382588624954224,
          0.900048553943634,
          0.8764081001281738,
          0.9232074022293091,
          0.8547028303146362,
          0.9181200265884399,
          0.8720360994338989,
          0.9018597602844238,
          0.9220589399337769,
          0.923128604888916,
          0.8999173045158386,
          0.869488537311554,
          0.9235571026802063,
          0.8584759831428528,
          0.9084895253181458,
          0.8949068784713745,
          0.9158700108528137,
          0.932327151298523,
          0.8982893228530884,
          0.9272898435592651,
          0.8733749389648438,
          0.8973168134689331,
          0.8917535543441772,
          0.8767375946044922,
          0.8837102651596069,
          0.9107766151428223,
          0.9159642457962036,
          0.9429838061332703,
          0.8862286806106567,
          0.9573678970336914,
          0.9309985041618347,
          0.9530311822891235,
          0.9262232780456543,
          0.8813748359680176,
          0.8995358347892761,
          0.9205349683761597,
          0.9183208346366882,
          0.9406188130378723,
          0.8974146842956543,
          0.9134718179702759,
          0.9050616025924683,
          0.9336515665054321,
          0.9348384737968445,
          0.8845618963241577,
          0.9140027761459351,
          0.8427547216415405,
          0.9141799807548523,
          0.942029595375061,
          0.9280322790145874,
          0.9293289184570312,
          0.9222044944763184,
          0.936500072479248,
          0.8876166343688965,
          0.928020179271698,
          0.9497621655464172,
          0.8694947361946106,
          0.8839951753616333,
          0.9229673147201538,
          0.8952344059944153,
          0.8920213580131531,
          0.9095512628555298,
          0.894061267375946,
          0.9564663767814636,
          0.8963295817375183,
          0.9088937640190125,
          0.942851185798645,
          0.9023756980895996,
          0.914649486541748,
          0.9384271502494812,
          0.8537534475326538,
          0.9136465787887573,
          0.9166660308837891,
          0.8879014849662781,
          0.9148211479187012,
          0.8887112736701965,
          0.9036456346511841,
          0.9014768600463867,
          0.9434100389480591,
          0.8634759187698364,
          0.8978231549263,
          0.9143316149711609,
          0.9143908619880676,
          0.8624672889709473,
          0.9247720837593079,
          0.8500602841377258,
          0.9122955203056335,
          0.9253133535385132,
          0.8810962438583374,
          0.9010454416275024,
          0.9541489481925964,
          0.9522809982299805,
          0.9234179258346558,
          0.932490348815918,
          0.8806731104850769,
          0.9256070256233215,
          0.873181939125061,
          0.9455045461654663,
          0.9007579684257507,
          0.9206260442733765,
          0.917369544506073,
          0.8913103342056274,
          0.9324489831924438,
          0.9201992154121399,
          0.9301669001579285,
          0.8715716600418091,
          0.9093057513237,
          0.9339480400085449,
          0.9280336499214172,
          0.9429405927658081,
          0.9051892161369324,
          0.8882273435592651,
          0.9168659448623657,
          0.9296207427978516,
          0.914726734161377,
          0.9336302876472473,
          0.88280189037323,
          0.9221698045730591,
          0.8940720558166504,
          0.9276374578475952,
          0.9318769574165344,
          0.9057008028030396,
          0.8738910555839539,
          0.9053980112075806,
          0.8762847185134888,
          0.9259598851203918,
          0.9097336530685425,
          0.9175184369087219,
          0.9403284192085266,
          0.9128674268722534,
          0.8947280049324036,
          0.8977962732315063,
          0.9354251623153687,
          0.8689611554145813,
          0.8758450746536255,
          0.9160181283950806,
          0.8887451887130737,
          0.9131135940551758,
          0.9248517751693726,
          0.8886920213699341,
          0.8920555114746094,
          0.8679959177970886,
          0.908872127532959,
          0.9577667117118835,
          0.9182225465774536,
          0.9084382057189941,
          0.911848247051239,
          0.8192778825759888,
          0.8821948170661926,
          0.8601463437080383,
          0.8792336583137512,
          0.9293786287307739,
          0.9448820948600769,
          0.8739678263664246,
          0.9264645576477051,
          0.9248955845832825,
          0.9193992614746094,
          0.9323121309280396,
          0.929892897605896,
          0.8129173517227173,
          0.8932960629463196,
          0.9059922099113464,
          0.9266242980957031,
          0.9081739187240601,
          0.8992981910705566,
          0.9090093374252319,
          0.9342230558395386,
          0.9027355313301086,
          0.9226011037826538,
          0.921066164970398,
          0.917034924030304,
          0.92265385389328,
          0.9011135101318359,
          0.9042571783065796,
          0.9245386123657227,
          0.9573275446891785,
          0.8991999626159668,
          0.9439991116523743,
          0.9089280962944031,
          0.9150214195251465,
          0.8883671760559082,
          0.9204662442207336,
          0.9491168856620789,
          0.9127251505851746,
          0.9087298512458801,
          0.9225254058837891,
          0.8461475372314453,
          0.8733088374137878,
          0.8344788551330566,
          0.917411208152771,
          0.9158008694648743,
          0.9099782705307007,
          0.8936858177185059,
          0.8934442400932312,
          0.9034625887870789,
          0.9215385317802429,
          0.9401897192001343,
          0.8896095156669617,
          0.8920742273330688,
          0.9228194952011108,
          0.8539716005325317,
          0.92889404296875,
          0.9123719334602356,
          0.8885404467582703,
          0.918587863445282,
          0.9076471328735352,
          0.8909006118774414,
          0.8974508047103882,
          0.8874006271362305,
          0.8873966336250305,
          0.9145437479019165,
          0.8726363182067871,
          0.9372054934501648,
          0.8615654110908508,
          0.943679690361023,
          0.9021434783935547,
          0.9338186979293823,
          0.9369741678237915,
          0.8989144563674927,
          0.8765767216682434,
          0.9170738458633423,
          0.9406334161758423,
          0.9086569547653198,
          0.8824370503425598,
          0.8943523168563843,
          0.9503348469734192,
          0.8900353312492371,
          0.9242426753044128,
          0.9160833358764648,
          0.8778878450393677,
          0.9396856427192688,
          0.9586976170539856,
          0.9282654523849487,
          0.8928031921386719,
          0.930634617805481,
          0.942439079284668,
          0.9047992825508118,
          0.908316969871521,
          0.9146937131881714,
          0.8363375663757324,
          0.9291712641716003,
          0.8968566656112671,
          0.9350139498710632,
          0.8863794207572937,
          0.8616739511489868,
          0.9326080083847046,
          0.9389051198959351,
          0.9267309904098511,
          0.9451789855957031,
          0.8951292037963867,
          0.9264572858810425,
          0.927815318107605,
          0.9146751165390015,
          0.9129172563552856,
          0.8720232248306274,
          0.8942815661430359,
          0.884353518486023,
          0.9286607503890991,
          0.8563791513442993,
          0.9136932492256165,
          0.9215842485427856,
          0.9074981808662415,
          0.9203729629516602,
          0.9337402582168579,
          0.9150688052177429,
          0.9321794509887695,
          0.8569008111953735,
          0.887782096862793,
          0.914242148399353,
          0.9253263473510742,
          0.9502957463264465,
          0.8741748929023743,
          0.9217002987861633,
          0.9090481996536255,
          0.9184681177139282,
          0.8859268426895142,
          0.9000760912895203,
          0.9173623919487,
          0.9354192018508911,
          0.9098085165023804,
          0.9369599223136902,
          0.8399174809455872,
          0.9187417030334473,
          0.9285870790481567,
          0.8555279970169067,
          0.9165533781051636,
          0.8774032592773438,
          0.9062703251838684,
          0.9157778024673462,
          0.8996149897575378,
          0.8306496739387512,
          0.9177986979484558,
          0.9569185972213745,
          0.9123445749282837,
          0.9077396392822266,
          0.8937743306159973,
          0.9239063262939453,
          0.9285171627998352,
          0.943315327167511,
          0.9371607899665833,
          0.8678227663040161,
          0.904654860496521,
          0.9282005429267883,
          0.9053750038146973,
          0.9119282960891724,
          0.8967927098274231,
          0.8159302473068237,
          0.8991397023200989,
          0.8892955780029297,
          0.9205750226974487,
          0.8962832689285278,
          0.9181221127510071,
          0.8302741050720215,
          0.8779789209365845,
          0.9213665723800659,
          0.9005212783813477,
          0.8973160982131958,
          0.9409353137016296,
          0.9039980173110962,
          0.8769011497497559,
          0.9205856323242188,
          0.9381332397460938,
          0.9428589940071106,
          0.8736478686332703,
          0.9415257573127747,
          0.914003849029541,
          0.8682198524475098,
          0.9563480615615845,
          0.9190047383308411,
          0.8450859189033508,
          0.8765185475349426,
          0.8912715911865234,
          0.9075949788093567,
          0.8855586051940918,
          0.9192909002304077,
          0.9068475961685181,
          0.9094344973564148,
          0.9250666499137878,
          0.8947286605834961,
          0.8911021947860718,
          0.8964716196060181,
          0.9241427183151245,
          0.9425761103630066,
          0.9098194241523743,
          0.913835883140564,
          0.927153468132019,
          0.9396003484725952,
          0.9437268376350403,
          0.9375725984573364,
          0.8682510256767273,
          0.8713070750236511,
          0.8958358764648438,
          0.8604652285575867,
          0.9169610738754272,
          0.8806506991386414,
          0.9122255444526672,
          0.8975305557250977,
          0.944574236869812,
          0.9021867513656616,
          0.9144082069396973,
          0.8631674647331238,
          0.9178627133369446,
          0.9039624929428101,
          0.9171832203865051,
          0.9455215334892273,
          0.9051896929740906,
          0.9227468371391296,
          0.83070307970047,
          0.9213613271713257,
          0.882835865020752,
          0.8545153737068176,
          0.9224261045455933,
          0.9373272061347961,
          0.8829959630966187,
          0.9220134019851685,
          0.9122010469436646,
          0.8775863647460938,
          0.8919059038162231,
          0.9046374559402466,
          0.9044206738471985,
          0.8931235074996948,
          0.9087806940078735,
          0.9592368006706238,
          0.9260551333427429,
          0.9293949007987976,
          0.9451448321342468,
          0.930097758769989,
          0.8995145559310913,
          0.9256874918937683,
          0.8950507044792175,
          0.90460205078125,
          0.9261385202407837,
          0.9053471684455872,
          0.9164625406265259,
          0.9039040803909302,
          0.9219198226928711,
          0.8960908651351929,
          0.8677765130996704,
          0.9014860391616821,
          0.9159809947013855,
          0.957892119884491,
          0.9132999181747437,
          0.9240535497665405,
          0.9244041442871094,
          0.9374111890792847,
          0.9161599278450012,
          0.9349507093429565,
          0.8945351839065552,
          0.902601420879364,
          0.9357064366340637,
          0.9186834096908569,
          0.8943768739700317,
          0.9102311134338379,
          0.890337347984314,
          0.9372904896736145,
          0.8932434916496277,
          0.9416499137878418,
          0.9304343461990356,
          0.9127718806266785,
          0.9092487096786499,
          0.9457235336303711,
          0.9567165374755859,
          0.8316775560379028,
          0.952157199382782,
          0.9121779203414917,
          0.8804699778556824,
          0.9427083730697632,
          0.8711245656013489,
          0.925922691822052,
          0.908913791179657,
          0.9422973394393921,
          0.8991371989250183,
          0.8946772813796997,
          0.9085357785224915,
          0.9033324122428894,
          0.9035382270812988,
          0.9368982315063477,
          0.8844906091690063,
          0.9273430109024048,
          0.9163010716438293,
          0.8967164158821106,
          0.9130395650863647,
          0.9227207899093628,
          0.9214985966682434,
          0.8905858993530273,
          0.8756909370422363,
          0.8530397415161133,
          0.890925407409668,
          0.9397552609443665,
          0.9145025014877319,
          0.889204204082489,
          0.9474509954452515,
          0.893334686756134,
          0.9268444180488586,
          0.9301737546920776,
          0.913188099861145,
          0.8946651220321655,
          0.8831456899642944,
          0.9148438572883606,
          0.9097697138786316,
          0.9509302377700806,
          0.9147872924804688,
          0.9090827703475952,
          0.8884879946708679,
          0.8984693288803101,
          0.9277029037475586,
          0.9127463102340698,
          0.9280911684036255,
          0.909648060798645,
          0.9111213684082031,
          0.9147166013717651,
          0.8538093566894531,
          0.9160242080688477,
          0.9091119766235352,
          0.909614086151123,
          0.9063495397567749,
          0.8710991740226746,
          0.856927216053009,
          0.9360318183898926,
          0.9381405115127563,
          0.9191488027572632,
          0.9437935948371887,
          0.9296696782112122,
          0.932831883430481,
          0.9155399203300476,
          0.9333521723747253,
          0.9069310426712036,
          0.8799091577529907,
          0.9300270080566406,
          0.8915096521377563,
          0.9165736436843872,
          0.9069738388061523,
          0.8890410661697388,
          0.9267862439155579,
          0.9489757418632507,
          0.9300292730331421,
          0.9183750152587891,
          0.9102219343185425,
          0.961860179901123,
          0.9037811160087585,
          0.8786138296127319,
          0.911670982837677,
          0.9188734889030457,
          0.9210432171821594,
          0.9101393818855286,
          0.9204169511795044,
          0.9280675649642944,
          0.9380262494087219,
          0.8996679186820984,
          0.8970000147819519,
          0.8958520889282227,
          0.9761254191398621,
          0.9216879606246948,
          0.9295220375061035,
          0.9190279841423035,
          0.9398874044418335,
          0.8614398241043091,
          0.9178646206855774,
          0.8923913240432739,
          0.9004325866699219,
          0.8599945306777954,
          0.9258513450622559,
          0.8932110071182251,
          0.912051796913147,
          0.8174868822097778,
          0.8961823582649231,
          0.8959258198738098,
          0.9129081964492798,
          0.8346784710884094,
          0.8831620216369629,
          0.9244145154953003,
          0.9064539670944214,
          0.9218826293945312,
          0.9134443402290344,
          0.9064334630966187,
          0.8381465077400208,
          0.9339835047721863,
          0.8828245997428894,
          0.8596559762954712,
          0.8998844027519226,
          0.9210044145584106,
          0.8823598623275757,
          0.8864421844482422,
          0.8982120752334595,
          0.9163796305656433,
          0.8668841123580933,
          0.8770862817764282,
          0.8835017085075378,
          0.8407882452011108,
          0.9112657308578491,
          0.938597559928894,
          0.9321282505989075,
          0.8966141939163208,
          0.9126719236373901,
          0.8886483311653137,
          0.9176045656204224,
          0.9451929330825806,
          0.9298806190490723,
          0.8917421102523804,
          0.9309390783309937,
          0.9142810702323914,
          0.8730219006538391,
          0.9181758761405945,
          0.9066368937492371,
          0.9247825741767883,
          0.9605081677436829,
          0.8937813639640808,
          0.8320422172546387,
          0.9249852895736694,
          0.9173898696899414,
          0.9366416931152344,
          0.9132920503616333,
          0.9026713371276855,
          0.8714680671691895,
          0.9364871978759766,
          0.9288962483406067,
          0.895990252494812,
          0.876030445098877,
          0.8876248598098755,
          0.9141752123832703,
          0.9247902035713196,
          0.935775876045227,
          0.9387083053588867,
          0.8957989811897278,
          0.9395486116409302,
          0.9081152677536011,
          0.9213887453079224,
          0.9078736305236816,
          0.9220903515815735,
          0.9027164578437805,
          0.8970311880111694,
          0.8725635409355164,
          0.8849050402641296,
          0.8937705159187317,
          0.8979488611221313,
          0.9269781112670898,
          0.8792888522148132,
          0.8925283551216125,
          0.8698142170906067,
          0.8746476173400879,
          0.9000439643859863,
          0.9076998829841614,
          0.8887588381767273,
          0.8097286224365234,
          0.9146725535392761,
          0.9188480377197266,
          0.9540570378303528,
          0.9000970125198364,
          0.9395028352737427,
          0.9357367753982544,
          0.955389142036438,
          0.8612796068191528,
          0.9245891571044922,
          0.9047077298164368,
          0.9080501794815063,
          0.9387043714523315,
          0.9147948026657104,
          0.915073573589325,
          0.9364789724349976,
          0.9558099508285522,
          0.9131239652633667,
          0.9002566337585449,
          0.9308024644851685,
          0.9372817277908325,
          0.907565712928772,
          0.9501722455024719,
          0.8808037042617798,
          0.863950252532959,
          0.9093753099441528,
          0.9313558340072632,
          0.9395850896835327,
          0.9488875269889832,
          0.880218505859375,
          0.9327354431152344,
          0.8781934976577759,
          0.8476184010505676,
          0.86424320936203,
          0.9260804057121277,
          0.8718053698539734,
          0.8959664106369019,
          0.9097509384155273,
          0.8870574235916138,
          0.9169710278511047,
          0.914594829082489,
          0.9288398623466492,
          0.9333541989326477,
          0.9037162065505981,
          0.876670241355896,
          0.8599475622177124,
          0.8957303762435913,
          0.8590772747993469,
          0.92860347032547,
          0.8892531394958496,
          0.9286419153213501,
          0.86786949634552,
          0.901368260383606,
          0.9207096099853516,
          0.884307861328125,
          0.906805694103241,
          0.8872756958007812,
          0.8601011037826538,
          0.9373202323913574,
          0.8309019207954407,
          0.8524157404899597,
          0.8897042274475098,
          0.9053094983100891,
          0.9205803871154785,
          0.9244321584701538,
          0.9042817950248718,
          0.9374238848686218,
          0.9420733451843262,
          0.9083105325698853,
          0.9406055212020874,
          0.9404864311218262,
          0.9464990496635437,
          0.8870867490768433,
          0.9416643977165222,
          0.9089648127555847,
          0.8790914416313171,
          0.912723183631897,
          0.8622602224349976,
          0.9351732134819031,
          0.881954550743103,
          0.8828811645507812,
          0.9164230227470398,
          0.8834060430526733,
          0.8919167518615723,
          0.940362811088562,
          0.9029629826545715,
          0.9210255742073059,
          0.8827109336853027,
          0.9244157671928406,
          0.9036971926689148,
          0.8499223589897156,
          0.9169379472732544,
          0.8787853121757507,
          0.920508086681366,
          0.9058650732040405,
          0.8922244906425476,
          0.9311447143554688,
          0.9537181854248047,
          0.917780876159668,
          0.9178770184516907,
          0.9048050045967102,
          0.8576318621635437,
          0.9057238698005676,
          0.948133647441864,
          0.8982027173042297,
          0.918592631816864,
          0.9326320886611938,
          0.9448382258415222,
          0.866138756275177,
          0.9268291592597961,
          0.9110327959060669,
          0.892973780632019,
          0.8668746948242188,
          0.904823899269104,
          0.9440511465072632,
          0.9375389814376831,
          0.8685782551765442,
          0.9187051653862,
          0.864201545715332,
          0.9353812336921692,
          0.8496785163879395,
          0.9356200098991394,
          0.8912318348884583,
          0.9425953030586243,
          0.906642735004425,
          0.9209295511245728,
          0.8914759755134583,
          0.9472054243087769,
          0.9682912826538086,
          0.8621185421943665,
          0.9034517407417297,
          0.9048869013786316,
          0.9184623956680298,
          0.9217478632926941,
          0.9089761972427368,
          0.9197056889533997,
          0.9252598881721497,
          0.908543586730957,
          0.9130541682243347,
          0.9126300811767578,
          0.9119766354560852,
          0.8696759939193726,
          0.8980221748352051,
          0.930005669593811,
          0.8708555102348328,
          0.9227663278579712,
          0.9300243258476257,
          0.9021770358085632,
          0.939444899559021,
          0.911948561668396,
          0.8945249319076538,
          0.9083830118179321,
          0.9111336469650269,
          0.8923550844192505,
          0.9057338833808899,
          0.9331037402153015,
          0.9212741851806641,
          0.9319303631782532,
          0.9245429039001465,
          0.8867906332015991,
          0.8513914942741394,
          0.879806399345398,
          0.8940203785896301,
          0.8597885370254517,
          0.9396735429763794,
          0.8720947504043579,
          0.8892389535903931,
          0.8936284780502319,
          0.9318675994873047,
          0.9033672213554382,
          0.8465214967727661,
          0.8959423303604126,
          0.8439448475837708,
          0.9123433232307434,
          0.8691673278808594,
          0.9439138174057007,
          0.8710020780563354,
          0.8875395059585571,
          0.917492687702179,
          0.9182837605476379,
          0.9413225054740906,
          0.9480615854263306,
          0.9440590143203735,
          0.9177882075309753,
          0.896546483039856,
          0.9284221529960632,
          0.9223324060440063,
          0.9474419355392456,
          0.8855058550834656,
          0.8344915509223938,
          0.8864224553108215,
          0.9159252047538757,
          0.9330571889877319,
          0.8648168444633484,
          0.9018683433532715,
          0.9552461504936218,
          0.9239792823791504,
          0.902687668800354,
          0.9191064834594727,
          0.8831743001937866,
          0.9302291870117188,
          0.915372371673584,
          0.8461048007011414,
          0.9467431306838989,
          0.8960728645324707,
          0.9164657592773438,
          0.9262539744377136,
          0.8856361508369446,
          0.9363825917243958,
          0.9486020803451538,
          0.890017032623291,
          0.8979806900024414,
          0.9131156802177429,
          0.9190901517868042,
          0.9452769160270691,
          0.9266936182975769,
          0.9118097424507141,
          0.9063412547111511,
          0.9284478425979614,
          0.8883167505264282,
          0.9153369665145874,
          0.8885316848754883,
          0.9204845428466797,
          0.8950567245483398,
          0.8353511691093445,
          0.8919720649719238,
          0.9019691348075867,
          0.9374658465385437,
          0.8312777280807495,
          0.9088602066040039,
          0.9261676073074341,
          0.9099577069282532,
          0.8581651449203491,
          0.9241401553153992,
          0.9286702871322632,
          0.92279452085495,
          0.8875991702079773,
          0.914301872253418,
          0.9026503562927246,
          0.9276812672615051,
          0.9307038187980652,
          0.9348560571670532,
          0.9491531252861023,
          0.9156583547592163,
          0.9145926237106323,
          0.9273785352706909,
          0.898078441619873,
          0.897746205329895,
          0.8805655241012573,
          0.8664677739143372,
          0.9047996401786804,
          0.8505913019180298,
          0.929230809211731,
          0.9296164512634277,
          0.9324020147323608,
          0.9060723185539246,
          0.90449458360672,
          0.9020426869392395,
          0.9226983189582825,
          0.9074047207832336,
          0.8562648892402649,
          0.95307856798172,
          0.8831111192703247,
          0.9166935682296753,
          0.9213992357254028,
          0.8950196504592896,
          0.915248692035675,
          0.902370810508728,
          0.892765998840332,
          0.8700361251831055,
          0.9139677882194519,
          0.9255641102790833,
          0.8880130648612976,
          0.9296307563781738,
          0.9259705543518066,
          0.8691723942756653,
          0.866540789604187,
          0.9277807474136353,
          0.9180380702018738,
          0.8513623476028442,
          0.930077850818634,
          0.9212639927864075,
          0.8827192187309265,
          0.9531291723251343,
          0.9171477556228638,
          0.8981839418411255,
          0.9272310137748718,
          0.9370355606079102,
          0.903899073600769
         ]
        }
       ],
       "layout": {
        "autosize": false,
        "height": 900,
        "template": {
         "data": {
          "bar": [
           {
            "error_x": {
             "color": "#2a3f5f"
            },
            "error_y": {
             "color": "#2a3f5f"
            },
            "marker": {
             "line": {
              "color": "#E5ECF6",
              "width": 0.5
             },
             "pattern": {
              "fillmode": "overlay",
              "size": 10,
              "solidity": 0.2
             }
            },
            "type": "bar"
           }
          ],
          "barpolar": [
           {
            "marker": {
             "line": {
              "color": "#E5ECF6",
              "width": 0.5
             },
             "pattern": {
              "fillmode": "overlay",
              "size": 10,
              "solidity": 0.2
             }
            },
            "type": "barpolar"
           }
          ],
          "carpet": [
           {
            "aaxis": {
             "endlinecolor": "#2a3f5f",
             "gridcolor": "white",
             "linecolor": "white",
             "minorgridcolor": "white",
             "startlinecolor": "#2a3f5f"
            },
            "baxis": {
             "endlinecolor": "#2a3f5f",
             "gridcolor": "white",
             "linecolor": "white",
             "minorgridcolor": "white",
             "startlinecolor": "#2a3f5f"
            },
            "type": "carpet"
           }
          ],
          "choropleth": [
           {
            "colorbar": {
             "outlinewidth": 0,
             "ticks": ""
            },
            "type": "choropleth"
           }
          ],
          "contour": [
           {
            "colorbar": {
             "outlinewidth": 0,
             "ticks": ""
            },
            "colorscale": [
             [
              0,
              "#0d0887"
             ],
             [
              0.1111111111111111,
              "#46039f"
             ],
             [
              0.2222222222222222,
              "#7201a8"
             ],
             [
              0.3333333333333333,
              "#9c179e"
             ],
             [
              0.4444444444444444,
              "#bd3786"
             ],
             [
              0.5555555555555556,
              "#d8576b"
             ],
             [
              0.6666666666666666,
              "#ed7953"
             ],
             [
              0.7777777777777778,
              "#fb9f3a"
             ],
             [
              0.8888888888888888,
              "#fdca26"
             ],
             [
              1,
              "#f0f921"
             ]
            ],
            "type": "contour"
           }
          ],
          "contourcarpet": [
           {
            "colorbar": {
             "outlinewidth": 0,
             "ticks": ""
            },
            "type": "contourcarpet"
           }
          ],
          "heatmap": [
           {
            "colorbar": {
             "outlinewidth": 0,
             "ticks": ""
            },
            "colorscale": [
             [
              0,
              "#0d0887"
             ],
             [
              0.1111111111111111,
              "#46039f"
             ],
             [
              0.2222222222222222,
              "#7201a8"
             ],
             [
              0.3333333333333333,
              "#9c179e"
             ],
             [
              0.4444444444444444,
              "#bd3786"
             ],
             [
              0.5555555555555556,
              "#d8576b"
             ],
             [
              0.6666666666666666,
              "#ed7953"
             ],
             [
              0.7777777777777778,
              "#fb9f3a"
             ],
             [
              0.8888888888888888,
              "#fdca26"
             ],
             [
              1,
              "#f0f921"
             ]
            ],
            "type": "heatmap"
           }
          ],
          "heatmapgl": [
           {
            "colorbar": {
             "outlinewidth": 0,
             "ticks": ""
            },
            "colorscale": [
             [
              0,
              "#0d0887"
             ],
             [
              0.1111111111111111,
              "#46039f"
             ],
             [
              0.2222222222222222,
              "#7201a8"
             ],
             [
              0.3333333333333333,
              "#9c179e"
             ],
             [
              0.4444444444444444,
              "#bd3786"
             ],
             [
              0.5555555555555556,
              "#d8576b"
             ],
             [
              0.6666666666666666,
              "#ed7953"
             ],
             [
              0.7777777777777778,
              "#fb9f3a"
             ],
             [
              0.8888888888888888,
              "#fdca26"
             ],
             [
              1,
              "#f0f921"
             ]
            ],
            "type": "heatmapgl"
           }
          ],
          "histogram": [
           {
            "marker": {
             "pattern": {
              "fillmode": "overlay",
              "size": 10,
              "solidity": 0.2
             }
            },
            "type": "histogram"
           }
          ],
          "histogram2d": [
           {
            "colorbar": {
             "outlinewidth": 0,
             "ticks": ""
            },
            "colorscale": [
             [
              0,
              "#0d0887"
             ],
             [
              0.1111111111111111,
              "#46039f"
             ],
             [
              0.2222222222222222,
              "#7201a8"
             ],
             [
              0.3333333333333333,
              "#9c179e"
             ],
             [
              0.4444444444444444,
              "#bd3786"
             ],
             [
              0.5555555555555556,
              "#d8576b"
             ],
             [
              0.6666666666666666,
              "#ed7953"
             ],
             [
              0.7777777777777778,
              "#fb9f3a"
             ],
             [
              0.8888888888888888,
              "#fdca26"
             ],
             [
              1,
              "#f0f921"
             ]
            ],
            "type": "histogram2d"
           }
          ],
          "histogram2dcontour": [
           {
            "colorbar": {
             "outlinewidth": 0,
             "ticks": ""
            },
            "colorscale": [
             [
              0,
              "#0d0887"
             ],
             [
              0.1111111111111111,
              "#46039f"
             ],
             [
              0.2222222222222222,
              "#7201a8"
             ],
             [
              0.3333333333333333,
              "#9c179e"
             ],
             [
              0.4444444444444444,
              "#bd3786"
             ],
             [
              0.5555555555555556,
              "#d8576b"
             ],
             [
              0.6666666666666666,
              "#ed7953"
             ],
             [
              0.7777777777777778,
              "#fb9f3a"
             ],
             [
              0.8888888888888888,
              "#fdca26"
             ],
             [
              1,
              "#f0f921"
             ]
            ],
            "type": "histogram2dcontour"
           }
          ],
          "mesh3d": [
           {
            "colorbar": {
             "outlinewidth": 0,
             "ticks": ""
            },
            "type": "mesh3d"
           }
          ],
          "parcoords": [
           {
            "line": {
             "colorbar": {
              "outlinewidth": 0,
              "ticks": ""
             }
            },
            "type": "parcoords"
           }
          ],
          "pie": [
           {
            "automargin": true,
            "type": "pie"
           }
          ],
          "scatter": [
           {
            "fillpattern": {
             "fillmode": "overlay",
             "size": 10,
             "solidity": 0.2
            },
            "type": "scatter"
           }
          ],
          "scatter3d": [
           {
            "line": {
             "colorbar": {
              "outlinewidth": 0,
              "ticks": ""
             }
            },
            "marker": {
             "colorbar": {
              "outlinewidth": 0,
              "ticks": ""
             }
            },
            "type": "scatter3d"
           }
          ],
          "scattercarpet": [
           {
            "marker": {
             "colorbar": {
              "outlinewidth": 0,
              "ticks": ""
             }
            },
            "type": "scattercarpet"
           }
          ],
          "scattergeo": [
           {
            "marker": {
             "colorbar": {
              "outlinewidth": 0,
              "ticks": ""
             }
            },
            "type": "scattergeo"
           }
          ],
          "scattergl": [
           {
            "marker": {
             "colorbar": {
              "outlinewidth": 0,
              "ticks": ""
             }
            },
            "type": "scattergl"
           }
          ],
          "scattermapbox": [
           {
            "marker": {
             "colorbar": {
              "outlinewidth": 0,
              "ticks": ""
             }
            },
            "type": "scattermapbox"
           }
          ],
          "scatterpolar": [
           {
            "marker": {
             "colorbar": {
              "outlinewidth": 0,
              "ticks": ""
             }
            },
            "type": "scatterpolar"
           }
          ],
          "scatterpolargl": [
           {
            "marker": {
             "colorbar": {
              "outlinewidth": 0,
              "ticks": ""
             }
            },
            "type": "scatterpolargl"
           }
          ],
          "scatterternary": [
           {
            "marker": {
             "colorbar": {
              "outlinewidth": 0,
              "ticks": ""
             }
            },
            "type": "scatterternary"
           }
          ],
          "surface": [
           {
            "colorbar": {
             "outlinewidth": 0,
             "ticks": ""
            },
            "colorscale": [
             [
              0,
              "#0d0887"
             ],
             [
              0.1111111111111111,
              "#46039f"
             ],
             [
              0.2222222222222222,
              "#7201a8"
             ],
             [
              0.3333333333333333,
              "#9c179e"
             ],
             [
              0.4444444444444444,
              "#bd3786"
             ],
             [
              0.5555555555555556,
              "#d8576b"
             ],
             [
              0.6666666666666666,
              "#ed7953"
             ],
             [
              0.7777777777777778,
              "#fb9f3a"
             ],
             [
              0.8888888888888888,
              "#fdca26"
             ],
             [
              1,
              "#f0f921"
             ]
            ],
            "type": "surface"
           }
          ],
          "table": [
           {
            "cells": {
             "fill": {
              "color": "#EBF0F8"
             },
             "line": {
              "color": "white"
             }
            },
            "header": {
             "fill": {
              "color": "#C8D4E3"
             },
             "line": {
              "color": "white"
             }
            },
            "type": "table"
           }
          ]
         },
         "layout": {
          "annotationdefaults": {
           "arrowcolor": "#2a3f5f",
           "arrowhead": 0,
           "arrowwidth": 1
          },
          "autotypenumbers": "strict",
          "coloraxis": {
           "colorbar": {
            "outlinewidth": 0,
            "ticks": ""
           }
          },
          "colorscale": {
           "diverging": [
            [
             0,
             "#8e0152"
            ],
            [
             0.1,
             "#c51b7d"
            ],
            [
             0.2,
             "#de77ae"
            ],
            [
             0.3,
             "#f1b6da"
            ],
            [
             0.4,
             "#fde0ef"
            ],
            [
             0.5,
             "#f7f7f7"
            ],
            [
             0.6,
             "#e6f5d0"
            ],
            [
             0.7,
             "#b8e186"
            ],
            [
             0.8,
             "#7fbc41"
            ],
            [
             0.9,
             "#4d9221"
            ],
            [
             1,
             "#276419"
            ]
           ],
           "sequential": [
            [
             0,
             "#0d0887"
            ],
            [
             0.1111111111111111,
             "#46039f"
            ],
            [
             0.2222222222222222,
             "#7201a8"
            ],
            [
             0.3333333333333333,
             "#9c179e"
            ],
            [
             0.4444444444444444,
             "#bd3786"
            ],
            [
             0.5555555555555556,
             "#d8576b"
            ],
            [
             0.6666666666666666,
             "#ed7953"
            ],
            [
             0.7777777777777778,
             "#fb9f3a"
            ],
            [
             0.8888888888888888,
             "#fdca26"
            ],
            [
             1,
             "#f0f921"
            ]
           ],
           "sequentialminus": [
            [
             0,
             "#0d0887"
            ],
            [
             0.1111111111111111,
             "#46039f"
            ],
            [
             0.2222222222222222,
             "#7201a8"
            ],
            [
             0.3333333333333333,
             "#9c179e"
            ],
            [
             0.4444444444444444,
             "#bd3786"
            ],
            [
             0.5555555555555556,
             "#d8576b"
            ],
            [
             0.6666666666666666,
             "#ed7953"
            ],
            [
             0.7777777777777778,
             "#fb9f3a"
            ],
            [
             0.8888888888888888,
             "#fdca26"
            ],
            [
             1,
             "#f0f921"
            ]
           ]
          },
          "colorway": [
           "#636efa",
           "#EF553B",
           "#00cc96",
           "#ab63fa",
           "#FFA15A",
           "#19d3f3",
           "#FF6692",
           "#B6E880",
           "#FF97FF",
           "#FECB52"
          ],
          "font": {
           "color": "#2a3f5f"
          },
          "geo": {
           "bgcolor": "white",
           "lakecolor": "white",
           "landcolor": "#E5ECF6",
           "showlakes": true,
           "showland": true,
           "subunitcolor": "white"
          },
          "hoverlabel": {
           "align": "left"
          },
          "hovermode": "closest",
          "mapbox": {
           "style": "light"
          },
          "paper_bgcolor": "white",
          "plot_bgcolor": "#E5ECF6",
          "polar": {
           "angularaxis": {
            "gridcolor": "white",
            "linecolor": "white",
            "ticks": ""
           },
           "bgcolor": "#E5ECF6",
           "radialaxis": {
            "gridcolor": "white",
            "linecolor": "white",
            "ticks": ""
           }
          },
          "scene": {
           "xaxis": {
            "backgroundcolor": "#E5ECF6",
            "gridcolor": "white",
            "gridwidth": 2,
            "linecolor": "white",
            "showbackground": true,
            "ticks": "",
            "zerolinecolor": "white"
           },
           "yaxis": {
            "backgroundcolor": "#E5ECF6",
            "gridcolor": "white",
            "gridwidth": 2,
            "linecolor": "white",
            "showbackground": true,
            "ticks": "",
            "zerolinecolor": "white"
           },
           "zaxis": {
            "backgroundcolor": "#E5ECF6",
            "gridcolor": "white",
            "gridwidth": 2,
            "linecolor": "white",
            "showbackground": true,
            "ticks": "",
            "zerolinecolor": "white"
           }
          },
          "shapedefaults": {
           "line": {
            "color": "#2a3f5f"
           }
          },
          "ternary": {
           "aaxis": {
            "gridcolor": "white",
            "linecolor": "white",
            "ticks": ""
           },
           "baxis": {
            "gridcolor": "white",
            "linecolor": "white",
            "ticks": ""
           },
           "bgcolor": "#E5ECF6",
           "caxis": {
            "gridcolor": "white",
            "linecolor": "white",
            "ticks": ""
           }
          },
          "title": {
           "x": 0.05
          },
          "xaxis": {
           "automargin": true,
           "gridcolor": "white",
           "linecolor": "white",
           "ticks": "",
           "title": {
            "standoff": 15
           },
           "zerolinecolor": "white",
           "zerolinewidth": 2
          },
          "yaxis": {
           "automargin": true,
           "gridcolor": "white",
           "linecolor": "white",
           "ticks": "",
           "title": {
            "standoff": 15
           },
           "zerolinecolor": "white",
           "zerolinewidth": 2
          }
         }
        },
        "width": 1200,
        "xaxis": {
         "autorange": true,
         "range": [
          -0.5,
          1.5
         ],
         "type": "category"
        },
        "yaxis": {
         "autorange": true,
         "range": [
          -0.053352632925250665,
          1.0303084745117101
         ],
         "tickmode": "array",
         "ticktext": [
          "Very long label",
          "long label",
          "3",
          "label"
         ],
         "title": {
          "font": {
           "size": 30
          }
         },
         "type": "linear"
        }
       }
      },
      "image/png": "[encoded data removed]"
     },
     "metadata": {},
     "output_type": "display_data"
    }
   ],
   "source": [
    "y0 = df.mse\n",
    "y1 = df.ssim\n",
    "\n",
    "fig = go.Figure()\n",
    "fig.add_trace(go.Box(y=y0, name='MSE',\n",
    "                marker_color = 'indianred'))\n",
    "fig.add_trace(go.Box(y=y1, name = 'SSIM',\n",
    "                marker_color = 'lightseagreen'))\n",
    "fig.update_layout(\n",
    "    autosize=False,\n",
    "    width=1200,\n",
    "    height=900,\n",
    "    yaxis=dict(\n",
    "        # title_text=\"Y-axis Title\",\n",
    "        ticktext=[\"Very long label\", \"long label\", \"3\", \"label\"],\n",
    "        # tickvals=,\n",
    "        tickmode=\"array\",\n",
    "        titlefont=dict(size=30),\n",
    "    )\n",
    ")\n",
    "fig.show(renderer=\"jupyterlab\")\n",
    "fig.write_image('../figs/learned_decoder_cnn_mse_SSIM.png')"
   ]
  },
  {
   "cell_type": "markdown",
   "id": "f0142e25-a091-430d-acac-5a17be1d1fea",
   "metadata": {
    "jp-MarkdownHeadingCollapsed": true
   },
   "source": [
    "# Rotate the weights"
   ]
  },
  {
   "cell_type": "code",
   "execution_count": 42,
   "id": "60bdfa7f-37ad-4e49-95fe-7f355909a7c4",
   "metadata": {},
   "outputs": [
    {
     "data": {
      "text/plain": [
       "<matplotlib.image.AxesImage at 0x287a36510>"
      ]
     },
     "execution_count": 42,
     "metadata": {},
     "output_type": "execute_result"
    },
    {
     "data": {
      "image/png": "[encoded data removed]",
      "text/plain": [
       "<Figure size 640x480 with 1 Axes>"
      ]
     },
     "metadata": {},
     "output_type": "display_data"
    }
   ],
   "source": [
    "# Rotate the weights 180 degrees\n",
    "w_rot90 = torch.rot90(torch.Tensor(weight_map), 1, [0, 1])\n",
    "w_rot180 = torch.rot90(w_rot90, 1, [0, 1])\n",
    "plt.imshow(w_rot180, cmap='gray')"
   ]
  },
  {
   "cell_type": "code",
   "execution_count": null,
   "id": "c70b6ff0-3648-4042-8979-bbf5d0725385",
   "metadata": {},
   "outputs": [],
   "source": []
  }
 ],
 "metadata": {
  "kernelspec": {
   "display_name": "Python 3 (ipykernel)",
   "language": "python",
   "name": "python3"
  },
  "language_info": {
   "codemirror_mode": {
    "name": "ipython",
    "version": 3
   },
   "file_extension": ".py",
   "mimetype": "text/x-python",
   "name": "python",
   "nbconvert_exporter": "python",
   "pygments_lexer": "ipython3",
   "version": "3.11.4"
  }
 },
 "nbformat": 4,
 "nbformat_minor": 5
}
