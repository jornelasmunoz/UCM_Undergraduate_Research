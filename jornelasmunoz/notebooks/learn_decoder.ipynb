{
 "cells": [
  {
   "cell_type": "markdown",
   "id": "3aab9e70-7dec-4acc-9d47-5d80aca06344",
   "metadata": {},
   "source": [
    "# Learned Decoder\n",
    "The purpose of this notebook is to investigate whether we can learn the MURA decoder"
   ]
  },
  {
   "cell_type": "code",
   "execution_count": 1,
   "id": "5283d75d-8a66-4b82-92b2-5c1ae2ac60d7",
   "metadata": {
    "tags": []
   },
   "outputs": [],
   "source": [
    "%load_ext autoreload\n",
    "%autoreload 2"
   ]
  },
  {
   "cell_type": "code",
   "execution_count": 2,
   "id": "18a98262-0eb9-4894-a91b-6c1ac2c0b165",
   "metadata": {
    "tags": []
   },
   "outputs": [
    {
     "name": "stdout",
     "output_type": "stream",
     "text": [
      "Using path =  /Users/jornelasmunoz/Desktop/UC Merced/Research/coded-aperture/jornelasmunoz/\n",
      "Using cpu device\n"
     ]
    }
   ],
   "source": [
    "import os, sys\n",
    "import numpy as np\n",
    "import pandas as pd\n",
    "import matplotlib.pyplot as plt\n",
    "import seaborn as sns\n",
    "\n",
    "import torchvision\n",
    "import torchvision.transforms as transforms\n",
    "import torch\n",
    "# from torchsummary import summary\n",
    "# import sklearn\n",
    "# import wandb\n",
    "\n",
    "desktop_path = '/Users/jornelasmunoz/Desktop/UC Merced/Research/coded-aperture/jornelasmunoz/'\n",
    "laptop_path = '/Users/jocelynornelas/iCloud Drive (Archive)/Desktop/UC Merced/Research/coded-aperture/jornelasmunoz/'\n",
    "if desktop_path in sys.path[0]: sys.path.insert(0, desktop_path + 'lib/'); path = desktop_path\n",
    "elif laptop_path in sys.path[0]: sys.path.insert(0, laptop_path + 'lib/'); path = laptop_path\n",
    "print('Using path = ', path)\n",
    "\n",
    "\n",
    "\n",
    "# # Change plotting parameters\n",
    "# plt.rcParams.update({\n",
    "#     \"text.usetex\": True,\n",
    "#     \"font.family\": \"Times\", #\"Computer Modern Serif\"\n",
    "#     \"figure.figsize\" : [15,10],\n",
    "# })\n",
    "\n",
    "device = \"cuda\" if torch.cuda.is_available() else \"cpu\"\n",
    "print(f\"Using {device} device\")\n",
    "\n",
    "# Log into WandB\n",
    "# wandb.login()"
   ]
  },
  {
   "cell_type": "code",
   "execution_count": 3,
   "id": "49c063d5-6039-4ab2-a865-b7ae6655c583",
   "metadata": {},
   "outputs": [],
   "source": [
    "# Create params dict\n",
    "params = {\n",
    "  \"image_size\": 23,\n",
    "  \"batch_size\":100,\n",
    "}"
   ]
  },
  {
   "cell_type": "code",
   "execution_count": 4,
   "id": "eebe6ded-5176-4689-b640-dc5b2cf7f4f0",
   "metadata": {},
   "outputs": [],
   "source": [
    "# Load MNIST and define dataloader\n",
    "mnist_train = torchvision.datasets.MNIST('../data/MNIST/',download=False)\n",
    "train_data_loader = torch.utils.data.DataLoader(mnist_train,\n",
    "                                          batch_size=params['batch_size'],\n",
    "                                          shuffle=True,\n",
    "                                          num_workers=8)"
   ]
  },
  {
   "cell_type": "code",
   "execution_count": 5,
   "id": "c13e1b7a-0a08-4db8-8c84-e340fa4081b6",
   "metadata": {},
   "outputs": [],
   "source": [
    "# Define transforms\n",
    "transform_list = [\n",
    "                transforms.ToTensor(),\n",
    "                transforms.Resize(params['image_size']),\n",
    "                transforms.Normalize(0, 1),\n",
    "                ]"
   ]
  },
  {
   "cell_type": "code",
   "execution_count": 163,
   "id": "c477d885-9fd0-4134-baf2-319c84c7f34a",
   "metadata": {},
   "outputs": [],
   "source": [
    "# Load the data and then do MURA transformations\n",
    "from torchvision.datasets.vision import VisionDataset\n",
    "from torchvision.datasets.mnist import read_image_file, read_label_file\n",
    "import MURA as mura\n",
    "\n",
    "class MNIST_MURA(VisionDataset):\n",
    "    \"\"\"`MNIST <http://yann.lecun.com/exdb/mnist/>`_ Dataset.\n",
    "\n",
    "    Args:\n",
    "        root (string): Root directory of dataset where ``MNIST/processed/training.pt``\n",
    "            and  ``MNIST/processed/test.pt`` exist.\n",
    "        train (bool, optional): If True, creates dataset from ``training.pt``,\n",
    "            otherwise from ``test.pt``.\n",
    "        download (bool, optional): If true, downloads the dataset from the internet and\n",
    "            puts it in root directory. If dataset is already downloaded, it is not\n",
    "            downloaded again.\n",
    "        transform (callable, optional): A function/transform that  takes in an PIL image\n",
    "            and returns a transformed version. E.g, ``transforms.RandomCrop``\n",
    "        target_transform (callable, optional): A function/transform that takes in the\n",
    "            target and transforms it.\n",
    "    \"\"\"\n",
    "    urls = [\n",
    "        'http://yann.lecun.com/exdb/mnist/train-images-idx3-ubyte.gz',\n",
    "        'http://yann.lecun.com/exdb/mnist/train-labels-idx1-ubyte.gz',\n",
    "        'http://yann.lecun.com/exdb/mnist/t10k-images-idx3-ubyte.gz',\n",
    "        'http://yann.lecun.com/exdb/mnist/t10k-labels-idx1-ubyte.gz',\n",
    "    ]\n",
    "    training_file = 'training.pt'\n",
    "    test_file = 'test.pt'\n",
    "    classes = ['0 - zero', '1 - one', '2 - two', '3 - three', '4 - four',\n",
    "               '5 - five', '6 - six', '7 - seven', '8 - eight', '9 - nine']\n",
    "\n",
    "    @property\n",
    "    def train_labels(self):\n",
    "        warnings.warn(\"train_labels has been renamed targets\")\n",
    "        return self.targets\n",
    "\n",
    "    @property\n",
    "    def test_labels(self):\n",
    "        warnings.warn(\"test_labels has been renamed targets\")\n",
    "        return self.targets\n",
    "\n",
    "    @property\n",
    "    def train_data(self):\n",
    "        warnings.warn(\"train_data has been renamed data\")\n",
    "        return self.data\n",
    "\n",
    "    @property\n",
    "    def test_data(self):\n",
    "        warnings.warn(\"test_data has been renamed data\")\n",
    "        return self.data\n",
    "\n",
    "    def __init__(self, root, params, train=True, transform=None, target_transform=None, download=False):\n",
    "        super(MNIST_MURA, self).__init__(root, transform=transform,\n",
    "                                    target_transform=target_transform)\n",
    "\n",
    "        self.train = train  # training set or test set\n",
    "        self.params = params\n",
    "        self._read_params(self.params)\n",
    "        \n",
    "        if self._check_legacy_exist():\n",
    "            self.data, self.targets = self._load_legacy_data()\n",
    "            \n",
    "        if download:\n",
    "            self.download()\n",
    "\n",
    "        if not self._check_exists():\n",
    "            raise RuntimeError('Dataset not found.' +\n",
    "                               ' You can use download=True to download it')\n",
    "        # Load data\n",
    "        self.data, self.targets = self._load_data()\n",
    "    \n",
    "    \n",
    "    def _check_exists(self):\n",
    "        return all(\n",
    "            check_integrity(os.path.join(self.raw_folder, os.path.splitext(os.path.basename(url))[0]))\n",
    "            for url, _ in self.resources\n",
    "        )\n",
    "    def _check_legacy_exist(self):\n",
    "        processed_folder_exists = os.path.exists(self.processed_folder)\n",
    "        if not processed_folder_exists:\n",
    "            return False\n",
    "    def _load_legacy_data(self):\n",
    "        # This is for BC only. We no longer cache the data in a custom binary, but simply read from the raw data\n",
    "        # directly.\n",
    "        data_file = self.training_file if self.train else self.test_file\n",
    "        return torch.load(os.path.join(self.processed_folder, data_file))\n",
    "        \n",
    "    def _load_data(self):\n",
    "        image_file = f\"{'train' if self.train else 't10k'}-images-idx3-ubyte\"\n",
    "        data = read_image_file(os.path.join(self.raw_folder, image_file))\n",
    "        \n",
    "        # Compute MURA encoder and decoder (numpy)\n",
    "        A = mura.create_binary_aperture_arr(self.image_size)\n",
    "        G = mura.create_decoding_arr(A)\n",
    "        \n",
    "        # Resize data to prime number length and convolve with aperture\n",
    "        data_resized = torchvision.transforms.functional.resize(data, [self.image_size,self.image_size])\n",
    "        mura_data = torch.empty(data_resized.size())\n",
    "        for idx, img in enumerate(data_resized):\n",
    "            mura_data[idx] = torch.tensor(\n",
    "                            mura.normalize(mura.FFT_convolve(\n",
    "                            np.squeeze(img.numpy()), A,self.image_size)), dtype= torch.float)\n",
    "                \n",
    "        # #Technically, we do not even need the labels for now\n",
    "        # # We just need the clean images of both types\n",
    "        # randata = data[torch.randperm(data.shape[0]),:,:]\n",
    "        # targets = (data, randata)\n",
    "        \n",
    "        # # Now do the ambiguation here\n",
    "        # data = data + randata\n",
    "        \n",
    "        return mura_data, data_resized\n",
    "    \n",
    "    def _read_params(self, params):\n",
    "        self.image_size = self.params['image_size']\n",
    "\n",
    "    @property\n",
    "    def raw_folder(self):\n",
    "        return os.path.join(self.root, 'raw')\n",
    "\n",
    "    @property\n",
    "    def processed_folder(self):\n",
    "        return os.path.join(self.root, 'processed')"
   ]
  },
  {
   "cell_type": "code",
   "execution_count": 164,
   "id": "6a6e757d-5b6e-427b-a406-715d55290b22",
   "metadata": {},
   "outputs": [
    {
     "ename": "AttributeError",
     "evalue": "'MNIST_MURA' object has no attribute 'resources'",
     "output_type": "error",
     "traceback": [
      "\u001b[0;31m---------------------------------------------------------------------------\u001b[0m",
      "\u001b[0;31mAttributeError\u001b[0m                            Traceback (most recent call last)",
      "Cell \u001b[0;32mIn[164], line 1\u001b[0m\n\u001b[0;32m----> 1\u001b[0m mnist_mura \u001b[38;5;241m=\u001b[39m \u001b[43mMNIST_MURA\u001b[49m\u001b[43m(\u001b[49m\u001b[38;5;124;43m'\u001b[39;49m\u001b[38;5;124;43m../data/MNIST/\u001b[39;49m\u001b[38;5;124;43m'\u001b[39;49m\u001b[43m,\u001b[49m\u001b[43m \u001b[49m\u001b[43mparams\u001b[49m\u001b[43m)\u001b[49m\n",
      "Cell \u001b[0;32mIn[163], line 67\u001b[0m, in \u001b[0;36mMNIST_MURA.__init__\u001b[0;34m(self, root, params, train, transform, target_transform, download)\u001b[0m\n\u001b[1;32m     64\u001b[0m \u001b[38;5;28;01mif\u001b[39;00m download:\n\u001b[1;32m     65\u001b[0m     \u001b[38;5;28mself\u001b[39m\u001b[38;5;241m.\u001b[39mdownload()\n\u001b[0;32m---> 67\u001b[0m \u001b[38;5;28;01mif\u001b[39;00m \u001b[38;5;129;01mnot\u001b[39;00m \u001b[38;5;28;43mself\u001b[39;49m\u001b[38;5;241;43m.\u001b[39;49m\u001b[43m_check_exists\u001b[49m\u001b[43m(\u001b[49m\u001b[43m)\u001b[49m:\n\u001b[1;32m     68\u001b[0m     \u001b[38;5;28;01mraise\u001b[39;00m \u001b[38;5;167;01mRuntimeError\u001b[39;00m(\u001b[38;5;124m'\u001b[39m\u001b[38;5;124mDataset not found.\u001b[39m\u001b[38;5;124m'\u001b[39m \u001b[38;5;241m+\u001b[39m\n\u001b[1;32m     69\u001b[0m                        \u001b[38;5;124m'\u001b[39m\u001b[38;5;124m You can use download=True to download it\u001b[39m\u001b[38;5;124m'\u001b[39m)\n\u001b[1;32m     70\u001b[0m \u001b[38;5;66;03m# Load data\u001b[39;00m\n",
      "Cell \u001b[0;32mIn[163], line 77\u001b[0m, in \u001b[0;36mMNIST_MURA._check_exists\u001b[0;34m(self)\u001b[0m\n\u001b[1;32m     74\u001b[0m \u001b[38;5;28;01mdef\u001b[39;00m \u001b[38;5;21m_check_exists\u001b[39m(\u001b[38;5;28mself\u001b[39m):\n\u001b[1;32m     75\u001b[0m     \u001b[38;5;28;01mreturn\u001b[39;00m \u001b[38;5;28mall\u001b[39m(\n\u001b[1;32m     76\u001b[0m         check_integrity(os\u001b[38;5;241m.\u001b[39mpath\u001b[38;5;241m.\u001b[39mjoin(\u001b[38;5;28mself\u001b[39m\u001b[38;5;241m.\u001b[39mraw_folder, os\u001b[38;5;241m.\u001b[39mpath\u001b[38;5;241m.\u001b[39msplitext(os\u001b[38;5;241m.\u001b[39mpath\u001b[38;5;241m.\u001b[39mbasename(url))[\u001b[38;5;241m0\u001b[39m]))\n\u001b[0;32m---> 77\u001b[0m         \u001b[38;5;28;01mfor\u001b[39;00m url, _ \u001b[38;5;129;01min\u001b[39;00m \u001b[38;5;28;43mself\u001b[39;49m\u001b[38;5;241;43m.\u001b[39;49m\u001b[43mresources\u001b[49m\n\u001b[1;32m     78\u001b[0m     )\n",
      "\u001b[0;31mAttributeError\u001b[0m: 'MNIST_MURA' object has no attribute 'resources'"
     ]
    }
   ],
   "source": [
    "mnist_mura = MNIST_MURA('../data/MNIST/', params)"
   ]
  },
  {
   "cell_type": "code",
   "execution_count": 53,
   "id": "f334f092-793a-43a2-91d3-ca5f4deef03e",
   "metadata": {
    "scrolled": true
   },
   "outputs": [],
   "source": [
    "data = read_image_file('../data/MNIST/raw/train-images-idx3-ubyte')"
   ]
  },
  {
   "cell_type": "code",
   "execution_count": 54,
   "id": "66f2bb83-42de-4f58-a5c5-d321b212a1e9",
   "metadata": {},
   "outputs": [],
   "source": [
    "targets = read_label_file('../data/MNIST/raw/train-labels-idx1-ubyte')"
   ]
  },
  {
   "cell_type": "code",
   "execution_count": 58,
   "id": "16670c85-25cf-46cd-8351-d7af353ba510",
   "metadata": {},
   "outputs": [],
   "source": [
    "import MURA as mura\n",
    "# Compute MURA encoder and decoder\n",
    "p = params['image_size'] # size of array (has to be prime)\n",
    "A = mura.create_binary_aperture_arr(p)\n",
    "G = mura.create_decoding_arr(A)"
   ]
  },
  {
   "cell_type": "code",
   "execution_count": 62,
   "id": "eacd1f6d-28aa-4fc1-80c8-02ad94d3730b",
   "metadata": {},
   "outputs": [],
   "source": [
    "data_trans = torchvision.transforms.functional.resize(data, [23,23])"
   ]
  },
  {
   "cell_type": "code",
   "execution_count": 63,
   "id": "bd967771-7dab-4e70-83b9-15aa4e50ef58",
   "metadata": {},
   "outputs": [
    {
     "data": {
      "text/plain": [
       "torch.Size([60000, 23, 23])"
      ]
     },
     "execution_count": 63,
     "metadata": {},
     "output_type": "execute_result"
    }
   ],
   "source": [
    "data_trans.shape"
   ]
  },
  {
   "cell_type": "code",
   "execution_count": 127,
   "id": "42120c61-831a-49a7-b364-7c480e5c7b2e",
   "metadata": {},
   "outputs": [],
   "source": [
    "mura_data = torch.empty(data_trans.size())\n",
    "for idx, img in enumerate(data_trans):\n",
    "    mura_data[idx] = torch.tensor(\n",
    "                    mura.normalize(mura.FFT_convolve(\n",
    "                    np.squeeze(img.numpy()), A,p)), dtype= torch.float)"
   ]
  },
  {
   "cell_type": "code",
   "execution_count": 128,
   "id": "82a22fff-526a-4205-8c50-b6013485ecfc",
   "metadata": {},
   "outputs": [
    {
     "data": {
      "text/plain": [
       "<matplotlib.image.AxesImage at 0x17f740e90>"
      ]
     },
     "execution_count": 128,
     "metadata": {},
     "output_type": "execute_result"
    },
    {
     "data": {
      "image/png": "[encoded data removed]",
      "text/plain": [
       "<Figure size 640x480 with 1 Axes>"
      ]
     },
     "metadata": {},
     "output_type": "display_data"
    }
   ],
   "source": [
    "plt.imshow(data_trans[0])"
   ]
  },
  {
   "cell_type": "code",
   "execution_count": 129,
   "id": "289c918f-7b20-4035-a741-ed2a54762c77",
   "metadata": {},
   "outputs": [
    {
     "data": {
      "text/plain": [
       "<matplotlib.image.AxesImage at 0x17f6a7510>"
      ]
     },
     "execution_count": 129,
     "metadata": {},
     "output_type": "execute_result"
    },
    {
     "data": {
      "image/png": "[encoded data removed]",
      "text/plain": [
       "<Figure size 640x480 with 1 Axes>"
      ]
     },
     "metadata": {},
     "output_type": "display_data"
    }
   ],
   "source": [
    "plt.imshow(mura.FFT_convolve(mura_data[0].numpy(),G,p))"
   ]
  },
  {
   "cell_type": "code",
   "execution_count": 130,
   "id": "b054f613-cd3c-4c70-8250-7444eb4e21ad",
   "metadata": {},
   "outputs": [
    {
     "data": {
      "text/plain": [
       "<matplotlib.image.AxesImage at 0x17f73bfd0>"
      ]
     },
     "execution_count": 130,
     "metadata": {},
     "output_type": "execute_result"
    },
    {
     "data": {
      "image/png": "[encoded data removed]",
      "text/plain": [
       "<Figure size 640x480 with 1 Axes>"
      ]
     },
     "metadata": {},
     "output_type": "display_data"
    }
   ],
   "source": [
    "plt.imshow(mura_data[0])"
   ]
  },
  {
   "cell_type": "code",
   "execution_count": 132,
   "id": "b22fbc90-003b-49ac-95a2-a274611538af",
   "metadata": {},
   "outputs": [
    {
     "data": {
      "text/plain": [
       "<matplotlib.image.AxesImage at 0x17e2c68d0>"
      ]
     },
     "execution_count": 132,
     "metadata": {},
     "output_type": "execute_result"
    },
    {
     "data": {
      "image/png": "[encoded data removed]",
      "text/plain": [
       "<Figure size 640x480 with 1 Axes>"
      ]
     },
     "metadata": {},
     "output_type": "display_data"
    }
   ],
   "source": [
    "plt.imshow(mura.FFT_convolve(np.squeeze(data_trans[0].numpy()), A,p))"
   ]
  },
  {
   "cell_type": "code",
   "execution_count": 97,
   "id": "a750308b-7359-4958-94ca-55cff6e2c0bd",
   "metadata": {},
   "outputs": [],
   "source": [
    "ex = torch.tensor(mura.normalize(mura.FFT_convolve(\n",
    "                    np.squeeze(data_trans[0].numpy()), A,p)), dtype= torch.float)"
   ]
  },
  {
   "cell_type": "code",
   "execution_count": 100,
   "id": "acafe428-9824-4258-b8eb-d36aa5cbf01c",
   "metadata": {},
   "outputs": [
    {
     "data": {
      "text/plain": [
       "<matplotlib.image.AxesImage at 0x17ee97510>"
      ]
     },
     "execution_count": 100,
     "metadata": {},
     "output_type": "execute_result"
    },
    {
     "data": {
      "image/png": "[encoded data removed]",
      "text/plain": [
       "<Figure size 640x480 with 1 Axes>"
      ]
     },
     "metadata": {},
     "output_type": "display_data"
    }
   ],
   "source": [
    "plt.imshow(data_trans[1])"
   ]
  },
  {
   "cell_type": "code",
   "execution_count": 101,
   "id": "30307bc5-551f-4491-9e69-d6a07f540ae1",
   "metadata": {},
   "outputs": [
    {
     "data": {
      "text/plain": [
       "<matplotlib.image.AxesImage at 0x17ef96e10>"
      ]
     },
     "execution_count": 101,
     "metadata": {},
     "output_type": "execute_result"
    },
    {
     "data": {
      "image/png": "[encoded data removed]",
      "text/plain": [
       "<Figure size 640x480 with 1 Axes>"
      ]
     },
     "metadata": {},
     "output_type": "display_data"
    }
   ],
   "source": [
    "plt.imshow(ex)"
   ]
  },
  {
   "cell_type": "code",
   "execution_count": null,
   "id": "a258a462-4121-4209-9fc8-c8fcb00b5926",
   "metadata": {},
   "outputs": [],
   "source": []
  }
 ],
 "metadata": {
  "kernelspec": {
   "display_name": "Python 3 (ipykernel)",
   "language": "python",
   "name": "python3"
  },
  "language_info": {
   "codemirror_mode": {
    "name": "ipython",
    "version": 3
   },
   "file_extension": ".py",
   "mimetype": "text/x-python",
   "name": "python",
   "nbconvert_exporter": "python",
   "pygments_lexer": "ipython3",
   "version": "3.11.4"
  }
 },
 "nbformat": 4,
 "nbformat_minor": 5
}
