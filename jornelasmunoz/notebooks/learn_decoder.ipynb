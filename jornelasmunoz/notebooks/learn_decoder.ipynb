{
 "cells": [
  {
   "cell_type": "markdown",
   "id": "3aab9e70-7dec-4acc-9d47-5d80aca06344",
   "metadata": {},
   "source": [
    "# Learned Decoder\n",
    "The purpose of this notebook is to investigate whether we can learn the MURA decoder"
   ]
  },
  {
   "cell_type": "code",
   "execution_count": 1,
   "id": "5283d75d-8a66-4b82-92b2-5c1ae2ac60d7",
   "metadata": {
    "tags": []
   },
   "outputs": [],
   "source": [
    "%load_ext autoreload\n",
    "%autoreload 2"
   ]
  },
  {
   "cell_type": "code",
   "execution_count": 2,
   "id": "18a98262-0eb9-4894-a91b-6c1ac2c0b165",
   "metadata": {
    "tags": []
   },
   "outputs": [
    {
     "name": "stdout",
     "output_type": "stream",
     "text": [
      "Using path =  /Users/jornelasmunoz/Desktop/UC Merced/Research/coded-aperture/jornelasmunoz/\n",
      "Using cpu device\n"
     ]
    }
   ],
   "source": [
    "import os, sys\n",
    "import numpy as np\n",
    "import pandas as pd\n",
    "import matplotlib.pyplot as plt\n",
    "import seaborn as sns\n",
    "\n",
    "import torchvision\n",
    "import torchvision.transforms as transforms\n",
    "import torch\n",
    "from torch.utils.data import DataLoader\n",
    "# from torchsummary import summary\n",
    "# import sklearn\n",
    "import wandb\n",
    "\n",
    "desktop_path = '/Users/jornelasmunoz/Desktop/UC Merced/Research/coded-aperture/jornelasmunoz/'\n",
    "laptop_path = '/Users/jocelynornelas/iCloud Drive (Archive)/Desktop/UC Merced/Research/coded-aperture/jornelasmunoz/'\n",
    "if desktop_path in sys.path[0]: sys.path.insert(0, desktop_path + 'lib/'); path = desktop_path\n",
    "elif laptop_path in sys.path[0]: sys.path.insert(0, laptop_path + 'lib/'); path = laptop_path\n",
    "print('Using path = ', path)\n",
    "\n",
    "from dataset import MNIST_MURA\n",
    "\n",
    "\n",
    "# # Change plotting parameters\n",
    "# plt.rcParams.update({\n",
    "#     \"text.usetex\": True,\n",
    "#     \"font.family\": \"Times\", #\"Computer Modern Serif\"\n",
    "#     \"figure.figsize\" : [15,10],\n",
    "# })\n",
    "\n",
    "device = \"cuda\" if torch.cuda.is_available() else \"cpu\"\n",
    "print(f\"Using {device} device\")\n",
    "\n",
    "# Log into WandB\n",
    "# wandb.login()"
   ]
  },
  {
   "cell_type": "code",
   "execution_count": 3,
   "id": "910e3393-0989-4e46-9ca7-9ddbe08bcbde",
   "metadata": {
    "tags": []
   },
   "outputs": [],
   "source": [
    "class Noise_dB(object):\n",
    "    '''\n",
    "    Given a desired Signal to Noise Ratio (in decibels, dB)\n",
    "    returns a noisy image\n",
    "    \n",
    "    Inputs:\n",
    "        desired_snr: Integer. Signal to noise ration in decibels \n",
    "    '''\n",
    "\n",
    "    def __init__(self, desired_snr=10):\n",
    "        super().__init__()\n",
    "        self.snr = desired_snr\n",
    "\n",
    "    def __call__(self, tensor):\n",
    "         # Calculate the variance of the image pixels\n",
    "        signal_power = torch.var(tensor)\n",
    "    \n",
    "        # Calculate the noise power\n",
    "        noise_power = signal_power / (10**(self.snr/10))\n",
    "    \n",
    "        # Generate random noise matrix\n",
    "        noise = torch.normal(0,torch.sqrt(noise_power), size=tensor.shape)\n",
    "    \n",
    "        # Add the noise to the image\n",
    "        noisy_image = tensor + noise\n",
    "        # noisy_image = torch.clip(noisy_image, 0, 1)\n",
    "\n",
    "        return noisy_image\n",
    "\n",
    "    def __repr__(self):\n",
    "        return self.__class__.__name__ + '(snr = {0})'.format(self.snr)\n",
    "\n",
    "# class Noise(object):\n",
    "#     def __init__(self, mean=0, dev=1):\n",
    "#         self.mean = mean\n",
    "#         self.dev = dev\n",
    "    \n",
    "#     def __call__(self, tensor):\n",
    "#         return tensor + torch.randn(tensor.size())*self.dev + self.mean\n",
    "    \n",
    "#     def __repr__(self):\n",
    "#         return self.__class__.__name__ + 'mean = {0}, dev= {1}', format(self.mean, self.dev)"
   ]
  },
  {
   "cell_type": "raw",
   "id": "6f696a3d-88b4-4db3-b98d-07f622ba9f02",
   "metadata": {
    "jupyter": {
     "source_hidden": true
    },
    "tags": []
   },
   "source": [
    "# Load the data and then do MURA transformations\n",
    "import torch\n",
    "from torchvision.datasets.utils import download_and_extract_archive, extract_archive, verify_str_arg, check_integrity\n",
    "from torchvision.datasets.vision import VisionDataset\n",
    "from torchvision.datasets.mnist import read_image_file, read_label_file\n",
    "from typing import Any, Callable, Dict, List, Optional, Tuple\n",
    "from PIL import Image\n",
    "import MURA as mura\n",
    "\n",
    "class MNIST_MURA(VisionDataset):\n",
    "    \"\"\"`MNIST <http://yann.lecun.com/exdb/mnist/>`_ Dataset.\n",
    "\n",
    "    Args:\n",
    "        root (string): Root directory of dataset where ``MNIST/processed/training.pt``\n",
    "            and  ``MNIST/processed/test.pt`` exist.\n",
    "        train (bool, optional): If True, creates dataset from ``training.pt``,\n",
    "            otherwise from ``test.pt``.\n",
    "        download (bool, optional): If true, downloads the dataset from the internet and\n",
    "            puts it in root directory. If dataset is already downloaded, it is not\n",
    "            downloaded again.\n",
    "        transform (callable, optional): A function/transform that  takes in an PIL image\n",
    "            and returns a transformed version. E.g, ``transforms.RandomCrop``\n",
    "        target_transform (callable, optional): A function/transform that takes in the\n",
    "            target and transforms it.\n",
    "    \"\"\"\n",
    "\n",
    "    mirrors = [\n",
    "        'http://yann.lecun.com/exdb/mnist/',\n",
    "        'https://ossci-datasets.s3.amazonaws.com/mnist/',\n",
    "    ]\n",
    "\n",
    "    resources = [\n",
    "        (\"train-images-idx3-ubyte.gz\", \"f68b3c2dcbeaaa9fbdd348bbdeb94873\"),\n",
    "        (\"train-labels-idx1-ubyte.gz\", \"d53e105ee54ea40749a09fcbcd1e9432\"),\n",
    "        (\"t10k-images-idx3-ubyte.gz\", \"9fb629c4189551a2d022fa330f9573f3\"),\n",
    "        (\"t10k-labels-idx1-ubyte.gz\", \"ec29112dd5afa0611ce80d1b7f02629c\")\n",
    "    ]\n",
    "\n",
    "    training_file = 'training.pt'\n",
    "    test_file = 'test.pt'\n",
    "    classes = ['0 - zero', '1 - one', '2 - two', '3 - three', '4 - four',\n",
    "               '5 - five', '6 - six', '7 - seven', '8 - eight', '9 - nine']\n",
    "\n",
    "    @property\n",
    "    def train_labels(self):\n",
    "        warnings.warn(\"train_labels has been renamed targets\")\n",
    "        return self.targets\n",
    "\n",
    "    @property\n",
    "    def test_labels(self):\n",
    "        warnings.warn(\"test_labels has been renamed targets\")\n",
    "        return self.targets\n",
    "\n",
    "    @property\n",
    "    def train_data(self):\n",
    "        warnings.warn(\"train_data has been renamed data\")\n",
    "        return self.data\n",
    "\n",
    "    @property\n",
    "    def test_data(self):\n",
    "        warnings.warn(\"test_data has been renamed data\")\n",
    "        return self.data\n",
    "\n",
    "    def __init__(self, root, params, train=True, transform=None, target_transform=None, download=False):\n",
    "        super(MNIST_MURA, self).__init__(root, transform=transform,\n",
    "                                    target_transform=target_transform)\n",
    "\n",
    "        self.train = train  # training set or test set\n",
    "        self.params = params\n",
    "        self._read_params(self.params)\n",
    "        \n",
    "        if self._check_legacy_exist():\n",
    "            self.data, self.targets = self._load_legacy_data()\n",
    "            \n",
    "        if download:\n",
    "            self.download()\n",
    "\n",
    "        if not self._check_exists():\n",
    "            raise RuntimeError('Dataset not found.' +\n",
    "                               ' You can use download=True to download it')\n",
    "        # Load data\n",
    "        self.data, self.targets, self.digits = self._load_data()\n",
    "    \n",
    "    \n",
    "    def _check_exists(self):\n",
    "        return all(\n",
    "            check_integrity(os.path.join(self.raw_folder, os.path.splitext(os.path.basename(url))[0]))\n",
    "            for url, _ in self.resources\n",
    "        )\n",
    "    def _check_legacy_exist(self):\n",
    "        processed_folder_exists = os.path.exists(self.processed_folder)\n",
    "        if not processed_folder_exists:\n",
    "            return False\n",
    "    def _load_legacy_data(self):\n",
    "        # This is for BC only. We no longer cache the data in a custom binary, but simply read from the raw data\n",
    "        # directly.\n",
    "        data_file = self.training_file if self.train else self.test_file\n",
    "        return torch.load(os.path.join(self.processed_folder, data_file))\n",
    "        \n",
    "    def _load_data(self):\n",
    "        image_file = f\"{'train' if self.train else 't10k'}-images-idx3-ubyte\"\n",
    "        data = read_image_file(os.path.join(self.raw_folder, image_file))\n",
    "        \n",
    "        # Compute MURA encoder and decoder (numpy)\n",
    "        self.A = mura.create_binary_aperture_arr(self.image_size)\n",
    "        self.G = mura.create_decoding_arr(self.A)\n",
    "        # Resize data to prime number length and convolve with aperture\n",
    "        data_resized = torchvision.transforms.functional.resize(data, [self.image_size,self.image_size], antialias=True)\n",
    "        mura_data = torch.empty(data_resized.size())\n",
    "        for idx, img in enumerate(data_resized):\n",
    "            mura_data[idx] = torch.tensor(\n",
    "                            mura.normalize(mura.FFT_convolve(\n",
    "                            np.squeeze(img.numpy()), self.A,self.image_size)), dtype= torch.float)\n",
    "            \n",
    "        label_file = f\"{'train' if self.train else 't10k'}-labels-idx1-ubyte\"\n",
    "        digits = read_label_file(os.path.join(self.raw_folder, label_file))\n",
    "        \n",
    "        \n",
    "        # #Technically, we do not even need the labels for now\n",
    "        # # We just need the clean images of both types\n",
    "        # randata = data[torch.randperm(data.shape[0]),:,:]\n",
    "        # targets = (data, randata)\n",
    "        \n",
    "        # # Now do the ambiguation here\n",
    "        # data = data + randata\n",
    "        \n",
    "        return mura_data, data_resized, digits\n",
    "\n",
    "    def __getitem__(self, index):\n",
    "        \"\"\"\n",
    "        Args:\n",
    "            index (int): Index\n",
    "\n",
    "        Returns:\n",
    "            tuple: (image, target) where target is index of the target class.\n",
    "        \"\"\"\n",
    "        img, target, digit = self.data[index], self.targets[index], self.digits[index]\n",
    "        #Change img to numpy and range to [0,155]\n",
    "        img = np.uint8((img*255).numpy())\n",
    "        \n",
    "        #doing this so that it is consistent with all other datasets\n",
    "        # to return a PIL Imagedata[torch.randperm(data.shape[0]),:,:]\n",
    "        img = Image.fromarray(img, mode='L')\n",
    "        target = Image.fromarray(target.numpy(), mode='L')\n",
    "\n",
    "        if self.transform is not None:\n",
    "            img = self.transform(img)\n",
    "\n",
    "        if self.target_transform is not None:\n",
    "            target = self.target_transform(target)            \n",
    "\n",
    "        return dict({'img': img, 'target': target, 'digit': digit.item()})\n",
    "\n",
    "    def __len__(self) -> int:\n",
    "        return len(self.data)\n",
    "        \n",
    "    def _read_params(self, params):\n",
    "        self.image_size = self.params['image_size']\n",
    "\n",
    "    @property\n",
    "    def raw_folder(self):\n",
    "        return os.path.join(self.root, 'raw')\n",
    "\n",
    "    @property\n",
    "    def processed_folder(self):\n",
    "        return os.path.join(self.root, 'processed')"
   ]
  },
  {
   "cell_type": "code",
   "execution_count": 4,
   "id": "f5f1e161-55f9-44fe-bf66-0f6ad3bd75e7",
   "metadata": {
    "tags": []
   },
   "outputs": [
    {
     "name": "stderr",
     "output_type": "stream",
     "text": [
      "\u001b[34m\u001b[1mwandb\u001b[0m: Currently logged in as: \u001b[33mjocelynornelasmunoz\u001b[0m. Use \u001b[1m`wandb login --relogin`\u001b[0m to force relogin\n"
     ]
    },
    {
     "data": {
      "text/plain": [
       "True"
      ]
     },
     "execution_count": 4,
     "metadata": {},
     "output_type": "execute_result"
    }
   ],
   "source": [
    "# Log into WandB\n",
    "wandb.login()"
   ]
  },
  {
   "cell_type": "code",
   "execution_count": 5,
   "id": "49c063d5-6039-4ab2-a865-b7ae6655c583",
   "metadata": {
    "tags": []
   },
   "outputs": [],
   "source": [
    "# Create params dict\n",
    "params = {\n",
    "    \"image_size\": 23,\n",
    "    \"batch_size\":100,\n",
    "    \"learning_rate\": 0.001, \n",
    "    \"epochs\": 20,\n",
    "    \"model\": \"decoder_cnn\",\n",
    "    \"dataset\": \"mnist_mura_noiseless\",\n",
    "    \"scheduler_patience\": 2,\n",
    "    \"snr\": 10, \n",
    "}\n",
    "wandb.config = params"
   ]
  },
  {
   "cell_type": "code",
   "execution_count": 6,
   "id": "c13e1b7a-0a08-4db8-8c84-e340fa4081b6",
   "metadata": {
    "tags": []
   },
   "outputs": [],
   "source": [
    "# Define transforms\n",
    "transform_list = transforms.Compose(\n",
    "            [   transforms.Grayscale(),\n",
    "                transforms.ToTensor(),\n",
    "                transforms.Resize(params['image_size'], antialias=True),\n",
    "                Noise_dB(desired_snr=params['snr']),\n",
    "                # Noise(mean=0,dev=params['noise_std']),\n",
    "                transforms.Normalize(0, 1),\n",
    "                ])\n",
    "target_transform = transforms.Compose(\n",
    "            [   transforms.Grayscale(),\n",
    "                transforms.ToTensor(),\n",
    "                transforms.Resize((params['image_size'],params['image_size']), antialias=True),\n",
    "                ])"
   ]
  },
  {
   "cell_type": "code",
   "execution_count": 7,
   "id": "6a6e757d-5b6e-427b-a406-715d55290b22",
   "metadata": {
    "tags": []
   },
   "outputs": [],
   "source": [
    "# Load dataset\n",
    "mnist_mura = MNIST_MURA('../data/MNIST/', params, transform=transform_list, target_transform=target_transform, train=True)\n",
    "\n",
    "loaders = {}\n",
    "# Define DataLoader\n",
    "loaders['train'] = DataLoader(mnist_mura, batch_size=1, shuffle=False)"
   ]
  },
  {
   "cell_type": "code",
   "execution_count": 8,
   "id": "900cc389-487e-4fab-a03e-847a46dbf3e3",
   "metadata": {
    "tags": []
   },
   "outputs": [
    {
     "data": {
      "image/png": "[encoded data removed]",
      "text/plain": [
       "<Figure size 1000x700 with 4 Axes>"
      ]
     },
     "metadata": {},
     "output_type": "display_data"
    }
   ],
   "source": [
    "fig, axs = plt.subplots(1,2, figsize=(10,7))\n",
    "idx=1\n",
    "sns.heatmap(loaders['train'].dataset[idx]['target'].squeeze(0), cmap= 'gray', ax=axs[0])\n",
    "sns.heatmap(loaders['train'].dataset[idx]['img'].squeeze(0), cmap= 'gray', ax=axs[1])\n",
    "axs[0].axis('off')\n",
    "axs[1].axis('off')\n",
    "plt.show()"
   ]
  },
  {
   "cell_type": "markdown",
   "id": "24af062d-09da-4c93-9694-c05e6e4c0032",
   "metadata": {},
   "source": [
    "# Define Model"
   ]
  },
  {
   "cell_type": "code",
   "execution_count": 9,
   "id": "d6ba0e00-43b7-4fcc-9b1a-2e2d9c3201b6",
   "metadata": {
    "tags": []
   },
   "outputs": [],
   "source": [
    "class RECON_CNN(torch.nn.Module):\n",
    "    '''\n",
    "    Define a model with only one convolutional layer and sigmoid activation function\n",
    "    '''\n",
    "    def __init__(self, params):\n",
    "        super().__init__() \n",
    "        \n",
    "        # Define model basic info\n",
    "        self.params = params\n",
    "        self.img_size = self.params['image_size']\n",
    "        self.kernel_size = self.params['image_size'] if self.params['image_size'] is not None else self.params['kernel_size']\n",
    "        self.params[\"kernel_size\"] = self.kernel_size\n",
    "        self.criterion = torch.nn.MSELoss() if self.params.get('loss') is None else torch.nn.L1Loss() #\n",
    "        self.params['model_save_path'] = f'../models/learned_decoder_cnn/{params[\"model\"]}.pth'\n",
    "        \n",
    "        # Define model architecture elements\n",
    "        self.conv  = torch.nn.Conv2d(1,1,kernel_size=self.kernel_size, padding='same', padding_mode='circular')#(self.kernel_size-1)//2)\n",
    "        print(\"Using the following parameters:\")\n",
    "        for key, val in self.params.items():\n",
    "            print(f\"{key}: {val}\")\n",
    "        \n",
    "    def forward(self, x):\n",
    "        if \"activation\" in self.params['model']:\n",
    "            output = torch.sigmoid(self.conv(x))\n",
    "        else:\n",
    "            # 03.20.23 Trying out a model with no activation function -- update 03.28.23 Didnt work if it's just no activation :( \n",
    "            # 04.12.23 Trying no activation function with l_1 penalty\n",
    "            #output = self.conv(x)\n",
    "            \n",
    "            # Trying convolution transpose as test\n",
    "            output = self.conv(x)\n",
    "        return output"
   ]
  },
  {
   "cell_type": "code",
   "execution_count": 10,
   "id": "158ff68d-be2d-4f2b-a3d6-7ebbac1975f3",
   "metadata": {
    "tags": []
   },
   "outputs": [
    {
     "name": "stdout",
     "output_type": "stream",
     "text": [
      "Using the following parameters:\n",
      "image_size: 23\n",
      "batch_size: 100\n",
      "learning_rate: 0.001\n",
      "epochs: 20\n",
      "model: decoder_cnn\n",
      "dataset: mnist_mura_noiseless\n",
      "scheduler_patience: 2\n",
      "snr: 10\n",
      "kernel_size: 23\n",
      "model_save_path: ../models/learned_decoder_cnn/decoder_cnn.pth\n"
     ]
    }
   ],
   "source": [
    "# Instantiate model \n",
    "model = RECON_CNN(params)#.to(device)\n",
    "model.optimizer = torch.optim.Adam(model.parameters(), lr = model.params['learning_rate']) #torch.optim.SGD(model.parameters(), lr = model.params['learning_rate'])\n",
    "model.scheduler = torch.optim.lr_scheduler.ReduceLROnPlateau(model.optimizer, 'min',patience=model.params['scheduler_patience'])"
   ]
  },
  {
   "cell_type": "raw",
   "id": "f5fdf3c6-d4cc-4e7d-9e48-0f6257878ae3",
   "metadata": {},
   "source": [
    "columns=[\"id\", \"input_image\", \"reconstructed_image\", \"target_image\", \"digit\"]\n",
    "test_table = wandb.Table(columns=columns)"
   ]
  },
  {
   "cell_type": "markdown",
   "id": "be7c38c9-e862-43a9-b155-750b4d131338",
   "metadata": {},
   "source": [
    "# Training"
   ]
  },
  {
   "cell_type": "code",
   "execution_count": 12,
   "id": "3c876fc9-e3d7-4489-a0b8-d06922820f1e",
   "metadata": {
    "jupyter": {
     "source_hidden": true
    }
   },
   "outputs": [
    {
     "data": {
      "text/html": [
       "Tracking run with wandb version 0.15.12"
      ],
      "text/plain": [
       "<IPython.core.display.HTML object>"
      ]
     },
     "metadata": {},
     "output_type": "display_data"
    },
    {
     "data": {
      "text/html": [
       "Run data is saved locally in <code>/Users/jornelasmunoz/Desktop/UC Merced/Research/coded-aperture/jornelasmunoz/notebooks/wandb/run-20231031_101932-lro1nzpj</code>"
      ],
      "text/plain": [
       "<IPython.core.display.HTML object>"
      ]
     },
     "metadata": {},
     "output_type": "display_data"
    },
    {
     "data": {
      "text/html": [
       "Syncing run <strong><a href='https://wandb.ai/jocelynornelasmunoz/ca-learned-decoder/runs/lro1nzpj' target=\"_blank\">2023-10-31 10:19:32.763442</a></strong> to <a href='https://wandb.ai/jocelynornelasmunoz/ca-learned-decoder' target=\"_blank\">Weights & Biases</a> (<a href='https://wandb.me/run' target=\"_blank\">docs</a>)<br/>"
      ],
      "text/plain": [
       "<IPython.core.display.HTML object>"
      ]
     },
     "metadata": {},
     "output_type": "display_data"
    },
    {
     "data": {
      "text/html": [
       " View project at <a href='https://wandb.ai/jocelynornelasmunoz/ca-learned-decoder' target=\"_blank\">https://wandb.ai/jocelynornelasmunoz/ca-learned-decoder</a>"
      ],
      "text/plain": [
       "<IPython.core.display.HTML object>"
      ]
     },
     "metadata": {},
     "output_type": "display_data"
    },
    {
     "data": {
      "text/html": [
       " View run at <a href='https://wandb.ai/jocelynornelasmunoz/ca-learned-decoder/runs/lro1nzpj' target=\"_blank\">https://wandb.ai/jocelynornelasmunoz/ca-learned-decoder/runs/lro1nzpj</a>"
      ],
      "text/plain": [
       "<IPython.core.display.HTML object>"
      ]
     },
     "metadata": {},
     "output_type": "display_data"
    },
    {
     "name": "stdout",
     "output_type": "stream",
     "text": [
      "Epoch 1 | Loss: 0.0075974\n",
      "Epoch 2 | Loss: 0.0069826\n",
      "Epoch 3 | Loss: 0.0069563\n",
      "Epoch 4 | Loss: 0.0069478\n",
      "Epoch 5 | Loss: 0.0069438\n",
      "Epoch 6 | Loss: 0.0069417\n",
      "Epoch 7 | Loss: 0.0069405\n",
      "Epoch 8 | Loss: 0.0069397\n",
      "Epoch 9 | Loss: 0.0069392\n",
      "Epoch 10 | Loss: 0.0040756\n",
      "Epoch 11 | Loss: 0.0040766\n",
      "Epoch 12 | Loss: 0.0040766\n",
      "Epoch 13 | Loss: 0.0040766\n",
      "Epoch 14 | Loss: 0.0037508\n",
      "Epoch 15 | Loss: 0.0037495\n",
      "Epoch 16 | Loss: 0.0037495\n",
      "Epoch 17 | Loss: 0.0037495\n",
      "Epoch 18 | Loss: 0.0037839\n",
      "Epoch 19 | Loss: 0.0037824\n",
      "Epoch 20 | Loss: 0.0037822\n"
     ]
    },
    {
     "data": {
      "text/html": [
       "Waiting for W&B process to finish... <strong style=\"color:green\">(success).</strong>"
      ],
      "text/plain": [
       "<IPython.core.display.HTML object>"
      ]
     },
     "metadata": {},
     "output_type": "display_data"
    },
    {
     "data": {
      "text/html": [
       "<style>\n",
       "    table.wandb td:nth-child(1) { padding: 0 10px; text-align: left ; width: auto;} td:nth-child(2) {text-align: left ; width: 100%}\n",
       "    .wandb-row { display: flex; flex-direction: row; flex-wrap: wrap; justify-content: flex-start; width: 100% }\n",
       "    .wandb-col { display: flex; flex-direction: column; flex-basis: 100%; flex: 1; padding: 10px; }\n",
       "    </style>\n",
       "<div class=\"wandb-row\"><div class=\"wandb-col\"><h3>Run history:</h3><br/><table class=\"wandb\"><tr><td>epoch</td><td>▁▁▂▂▂▃▃▄▄▄▅▅▅▆▆▇▇▇██</td></tr><tr><td>loss</td><td>█▇▇▇▇▇▇▇▇▂▂▂▂▁▁▁▁▁▁▁</td></tr></table><br/></div><div class=\"wandb-col\"><h3>Run summary:</h3><br/><table class=\"wandb\"><tr><td>epoch</td><td>19</td></tr><tr><td>loss</td><td>0.00378</td></tr></table><br/></div></div>"
      ],
      "text/plain": [
       "<IPython.core.display.HTML object>"
      ]
     },
     "metadata": {},
     "output_type": "display_data"
    },
    {
     "data": {
      "text/html": [
       " View run <strong style=\"color:#cdcd00\">2023-10-31 10:19:32.763442</strong> at: <a href='https://wandb.ai/jocelynornelasmunoz/ca-learned-decoder/runs/lro1nzpj' target=\"_blank\">https://wandb.ai/jocelynornelasmunoz/ca-learned-decoder/runs/lro1nzpj</a><br/> View job at <a href='https://wandb.ai/jocelynornelasmunoz/ca-learned-decoder/jobs/QXJ0aWZhY3RDb2xsZWN0aW9uOjExMDUwMzI5OQ==/version_details/v7' target=\"_blank\">https://wandb.ai/jocelynornelasmunoz/ca-learned-decoder/jobs/QXJ0aWZhY3RDb2xsZWN0aW9uOjExMDUwMzI5OQ==/version_details/v7</a><br/>Synced 6 W&B file(s), 0 media file(s), 0 artifact file(s) and 0 other file(s)"
      ],
      "text/plain": [
       "<IPython.core.display.HTML object>"
      ]
     },
     "metadata": {},
     "output_type": "display_data"
    },
    {
     "data": {
      "text/html": [
       "Find logs at: <code>./wandb/run-20231031_101932-lro1nzpj/logs</code>"
      ],
      "text/plain": [
       "<IPython.core.display.HTML object>"
      ]
     },
     "metadata": {},
     "output_type": "display_data"
    },
    {
     "name": "stdout",
     "output_type": "stream",
     "text": [
      "CPU times: user 8min 15s, sys: 2min 46s, total: 11min 2s\n",
      "Wall time: 8min 26s\n"
     ]
    }
   ],
   "source": [
    "%%time\n",
    "import datetime\n",
    "# Initialize project in Weights and Biases\n",
    "wandb.init(config=wandb.config, \n",
    "           project=\"ca-learned-decoder\", \n",
    "           group=\"cnn\", \n",
    "           name=str(datetime.datetime.now()))\n",
    "\n",
    "# Store values for later \n",
    "train_loss = []\n",
    "# val_loss = []\n",
    "frob_per_epoch = []\n",
    "weights_epoch = {}\n",
    "\n",
    "#Dictionary that will store different images and outputs for various epochs (not sure if needed)\n",
    "outputs = {}\n",
    "\n",
    "# Training loop starts\n",
    "for epoch in range(params['epochs']):\n",
    "    \n",
    "    # Initialize variable to store loss\n",
    "    running_loss = 0\n",
    "    model.train()\n",
    "    # Iterate over training set\n",
    "    for i, data in enumerate(loaders['train']):\n",
    "        # zero the parameter gradients\n",
    "        model.optimizer.zero_grad()\n",
    "        \n",
    "        # get the inputs; data is a dict of [images, labels, digit]\n",
    "        inputs, targets, digits = data['img'], data['target'], data['digit']\n",
    "            \n",
    "        # Generate output\n",
    "        out = model(inputs)\n",
    "        \n",
    "        # Calculate loss\n",
    "        loss = model.criterion(out, targets)\n",
    "        \n",
    "        # # Modified (04/06/23) to include l_1 penalty\n",
    "        # l_1_pen = sum((w.abs()-1).abs().sum() for w in model.parameters())\n",
    "        # loss = loss + (model.params['lambda']/(model.params['p']**2)) * l_1_pen\n",
    "\n",
    "        \n",
    "        # Backprop and update weights\n",
    "        loss.backward()\n",
    "        model.optimizer.step()\n",
    "        \n",
    "        # Increment loss\n",
    "        running_loss += loss.item()\n",
    "        \n",
    "        # Add table to wandb\n",
    "        # test_table.add_data(i, wandb.Image(inputs[0]), out[0], wandb.Image(targets[0]), digits[0])\n",
    "    # Average loss over entire dataset\n",
    "    running_loss/= len(loaders['train'].dataset)#params['batch_size']\n",
    "    train_loss.append(running_loss)\n",
    "\n",
    "    # Scheduler step every epoch\n",
    "    model.scheduler.step(loss)\n",
    "    \n",
    "    print(f\"Epoch {epoch +1} | Loss: {running_loss:.7f}\")\n",
    "    wandb.log({\"epoch\": epoch, \"loss\": running_loss, }) #\"table\":test_table\n",
    "    \n",
    "    # Storing images, reconstructed outputs, and labels\n",
    "    outputs[epoch+1] = {'img': inputs, 'out': out, 'targets': targets, 'digits': digits}\n",
    "    \n",
    "    # Save weights every 10 epochs\n",
    "    if epoch % 2 == 1:\n",
    "        torch.save(model.state_dict(), model.params['model_save_path'])\n",
    "        # epoch_save_model = path+f'models/CNN/{params[\"model\"]}_model_epoch_'+str(epoch)+'.pth'\n",
    "        # torch.save(model.state_dict(),epoch_save_model)\n",
    "        weight_epoch_list = list(model.parameters())\n",
    "        weights_epoch[f'{epoch}'] = np.squeeze(weight_epoch_list[0].detach().cpu().numpy())\n",
    "        \n",
    "\n",
    "    # Calculate Frobenius norm between weights and decoder every epoch\n",
    "    weights = list(model.parameters())\n",
    "    weight_map = np.squeeze(weights[0].detach().cpu().numpy())\n",
    "    diff_block = mnist_mura.G - weight_map\n",
    "    frob_per_epoch.append(np.linalg.norm(np.abs(diff_block),ord='fro'))\n",
    "\n",
    "#torch.save(model.state_dict(), PATH)\n",
    "# End WandB run\n",
    "wandb.finish()"
   ]
  },
  {
   "cell_type": "markdown",
   "id": "5cecbb74-2bb3-4f86-80d7-806f7110e278",
   "metadata": {},
   "source": [
    "# Load model"
   ]
  },
  {
   "cell_type": "code",
   "execution_count": 11,
   "id": "c0d4b347-47a2-49e8-9754-f3e04881ac52",
   "metadata": {},
   "outputs": [
    {
     "data": {
      "text/plain": [
       "<All keys matched successfully>"
      ]
     },
     "execution_count": 11,
     "metadata": {},
     "output_type": "execute_result"
    }
   ],
   "source": [
    "model.load_state_dict(torch.load('../models/learned_decoder_cnn/decoder_cnn.pth'))"
   ]
  },
  {
   "cell_type": "code",
   "execution_count": 12,
   "id": "9ca356c3-88c3-488a-9fb1-10359d6986f2",
   "metadata": {},
   "outputs": [],
   "source": [
    "weight_map = list(model.parameters())[0].cpu().detach().squeeze(0).squeeze(0)"
   ]
  },
  {
   "cell_type": "code",
   "execution_count": 13,
   "id": "c3cba199-a415-4520-9af7-a4b15a80391a",
   "metadata": {},
   "outputs": [
    {
     "data": {
      "image/png": "[encoded data removed]",
      "text/plain": [
       "<Figure size 1500x700 with 4 Axes>"
      ]
     },
     "metadata": {},
     "output_type": "display_data"
    }
   ],
   "source": [
    "fig, axs = plt.subplots(1,2, figsize = (15,7))\n",
    "sns.heatmap(weight_map, cmap='gray', ax=axs[0])\n",
    "sns.heatmap(mnist_mura.G, cmap='gray', ax=axs[1])\n",
    "\n",
    "axs[0].set_title(\"Learned decoder $G_L$\")\n",
    "axs[1].set_title(\"True decoder $G$\")\n",
    "# fig.savefig('../figs/learned_decoder_cnn_20_epochs_circular_pad.png')\n",
    "\n",
    "plt.show()"
   ]
  },
  {
   "cell_type": "markdown",
   "id": "bdbea672-004d-429b-813c-2475ea5cd44e",
   "metadata": {},
   "source": [
    "# Test set evaluation"
   ]
  },
  {
   "cell_type": "code",
   "execution_count": 14,
   "id": "1fed846f-e0a9-4cbd-9332-4eab64cd51a6",
   "metadata": {},
   "outputs": [],
   "source": [
    "from torchmetrics.image import StructuralSimilarityIndexMeasure "
   ]
  },
  {
   "cell_type": "code",
   "execution_count": 15,
   "id": "bb9465f0-a58e-4869-9cd5-bb2345b0f2d5",
   "metadata": {},
   "outputs": [],
   "source": [
    "SSIM = StructuralSimilarityIndexMeasure()"
   ]
  },
  {
   "cell_type": "code",
   "execution_count": 16,
   "id": "aecd0262-9fc8-4f29-b38f-8442179f8e13",
   "metadata": {},
   "outputs": [],
   "source": [
    "# Define test set\n",
    "test_mnist_mura = MNIST_MURA('../data/MNIST/', params, transform=transform_list, target_transform=target_transform, train=False)\n",
    "testset = DataLoader(test_mnist_mura, batch_size=10, shuffle=True)"
   ]
  },
  {
   "cell_type": "code",
   "execution_count": 17,
   "id": "f5993155-81f8-4644-85d3-7f5de3b91f01",
   "metadata": {},
   "outputs": [
    {
     "data": {
      "image/png": "[encoded data removed]",
      "text/plain": [
       "<Figure size 1500x1000 with 20 Axes>"
      ]
     },
     "metadata": {},
     "output_type": "display_data"
    }
   ],
   "source": [
    "# Change plotting parameters\n",
    "plt.rcParams.update({\n",
    "    \"text.usetex\": False,\n",
    "    \"font.family\": \"Times\", #\"Computer Modern Serif\"\n",
    "    \"figure.figsize\" : [15,10],\n",
    "})\n",
    "# Printing 25 random images from the training dataset\n",
    "random_samples = np.random.randint(1, len(testset), (5))\n",
    "count = 0\n",
    "for idx in random_samples: #range(random_samples.shape[0]):\n",
    "    plt.subplot(2, 5, count + 1)\n",
    "    sns.heatmap(testset.dataset[idx]['img'].squeeze(0), cmap='gray')\n",
    "    plt.title(f'Encoded image: {testset.dataset[idx][\"digit\"]}')\n",
    "    plt.subplot(2, 5, count + 6)\n",
    "    sns.heatmap(testset.dataset[idx]['target'].squeeze(0), cmap='gray')\n",
    "    plt.title('Original image')\n",
    "    plt.axis('off')\n",
    "    \n",
    "    count += 1\n",
    "plt.tight_layout()\n",
    "#plt.savefig(\"../figs/encoded_original_examples.png\")\n",
    "plt.show()"
   ]
  },
  {
   "cell_type": "code",
   "execution_count": 18,
   "id": "e381538f-299d-46b4-be1e-a98c67fe5f3b",
   "metadata": {},
   "outputs": [],
   "source": [
    "results = []\n",
    "for i, data in enumerate(testset):\n",
    "    inputs, targets, digits = data['img'], data['target'], data['digit']\n",
    "    outputs = model(inputs.to(device))\n",
    "    mse_loss = model.criterion(outputs, targets)\n",
    "    ssim_loss = SSIM(outputs, targets)\n",
    "    results.append((inputs, outputs, targets, digits, mse_loss.item(), ssim_loss.item()))\n",
    "    # show_outputs(outputs, targets, inputs, iterator=i)"
   ]
  },
  {
   "cell_type": "code",
   "execution_count": 19,
   "id": "ed1b6502-c784-4da7-afd0-4aca61fe1125",
   "metadata": {},
   "outputs": [],
   "source": [
    "df = pd.DataFrame(results, columns=['inputs', 'outputs', 'targets', 'digits', 'mse', 'ssim'])"
   ]
  },
  {
   "cell_type": "code",
   "execution_count": 20,
   "id": "c21b8d0b-39b1-49b8-825b-538cd47915e0",
   "metadata": {},
   "outputs": [],
   "source": [
    "import plotly.express as px\n",
    "import plotly.io as pio\n",
    "import plotly.graph_objects as go\n",
    "# pio.renderers.default = 'notebook'"
   ]
  },
  {
   "cell_type": "code",
   "execution_count": 21,
   "id": "f94ffd84-87b7-44df-ad63-ab80fd9c4c16",
   "metadata": {},
   "outputs": [
    {
     "data": {
      "application/vnd.plotly.v1+json": {
       "config": {
        "plotlyServerURL": "https://plot.ly"
       },
       "data": [
        {
         "marker": {
          "color": "darkblue"
         },
         "name": "MSE",
         "type": "box",
         "y": [
          0.00894603505730629,
          0.01598334312438965,
          0.00934706162661314,
          0.012226291932165623,
          0.014077894389629364,
          0.009897399693727493,
          0.010723735205829144,
          0.010619483888149261,
          0.013353091664612293,
          0.010042468085885048,
          0.012358465231955051,
          0.009353360161185265,
          0.008326774463057518,
          0.010570867918431759,
          0.01006230991333723,
          0.010131129994988441,
          0.00786304846405983,
          0.009092047810554504,
          0.009079153649508953,
          0.013119327835738659,
          0.0095078619197011,
          0.01259628776460886,
          0.007502919062972069,
          0.009013482369482517,
          0.009049486368894577,
          0.011776045896112919,
          0.009683827869594097,
          0.010888042859733105,
          0.008468171581625938,
          0.011934896931052208,
          0.010021062567830086,
          0.01268765889108181,
          0.01040851790457964,
          0.010985136963427067,
          0.009911106899380684,
          0.01062057912349701,
          0.0080635454505682,
          0.010869817808270454,
          0.012726970948278904,
          0.011486710049211979,
          0.008180693723261356,
          0.011741266585886478,
          0.01076956931501627,
          0.009480081498622894,
          0.011232755146920681,
          0.008837736211717129,
          0.01005930919200182,
          0.008891738019883633,
          0.009722929447889328,
          0.009843423031270504,
          0.010221652686595917,
          0.010446358472108841,
          0.007819205522537231,
          0.010049182921648026,
          0.010759350843727589,
          0.009865081869065762,
          0.00847434438765049,
          0.008985417895019054,
          0.011337773874402046,
          0.014623135328292847,
          0.009632255882024765,
          0.011335271410644054,
          0.010262075811624527,
          0.009650032967329025,
          0.008646074682474136,
          0.010790321044623852,
          0.00975174829363823,
          0.014594458974897861,
          0.01194389071315527,
          0.01110079139471054,
          0.013743061572313309,
          0.010249070823192596,
          0.008632712997496128,
          0.010185361839830875,
          0.009946620091795921,
          0.008174190297722816,
          0.008366250433027744,
          0.014640114270150661,
          0.010475308634340763,
          0.009422175586223602,
          0.010403853841125965,
          0.009176463820040226,
          0.008617041632533073,
          0.011740567162632942,
          0.009331844747066498,
          0.01037005614489317,
          0.00984424352645874,
          0.0107370400801301,
          0.013587680645287037,
          0.00846828892827034,
          0.013085129670798779,
          0.014597229659557343,
          0.014884643256664276,
          0.008780901320278645,
          0.008913989178836346,
          0.009235195815563202,
          0.00926925241947174,
          0.013888011686503887,
          0.008023856207728386,
          0.010131515562534332,
          0.010794178582727909,
          0.008187755942344666,
          0.008164150640368462,
          0.011271259747445583,
          0.010703989304602146,
          0.012154682539403439,
          0.009251578710973263,
          0.009842281229794025,
          0.009937383234500885,
          0.01044396311044693,
          0.01380874216556549,
          0.012203030288219452,
          0.011678289622068405,
          0.0092697162181139,
          0.008412920869886875,
          0.009424863383173943,
          0.011332886293530464,
          0.0091334767639637,
          0.014599908143281937,
          0.010829844512045383,
          0.008212528191506863,
          0.009330980479717255,
          0.00905861146748066,
          0.01149019319564104,
          0.01293232012540102,
          0.010586227290332317,
          0.0077551365830004215,
          0.011462817899882793,
          0.010996940545737743,
          0.012797573581337929,
          0.012107167392969131,
          0.012957515195012093,
          0.009938147850334644,
          0.012243688106536865,
          0.008232644759118557,
          0.010086826048791409,
          0.010870112106204033,
          0.013156496919691563,
          0.011513039469718933,
          0.008865920826792717,
          0.010023926384747028,
          0.00861704908311367,
          0.01062958873808384,
          0.010362888686358929,
          0.008866463787853718,
          0.011436333879828453,
          0.0120495380833745,
          0.008509830571711063,
          0.012047943659126759,
          0.008505923673510551,
          0.009006059728562832,
          0.013476694002747536,
          0.012663858942687511,
          0.009361421689391136,
          0.00788122694939375,
          0.010907438583672047,
          0.01182521227747202,
          0.01177721656858921,
          0.01060999371111393,
          0.012108361348509789,
          0.012256374582648277,
          0.00925709679722786,
          0.011936131864786148,
          0.012618077918887138,
          0.00878317654132843,
          0.010410257615149021,
          0.011238815262913704,
          0.00867605023086071,
          0.009585561230778694,
          0.012325907126069069,
          0.008808471262454987,
          0.010470665991306305,
          0.009954278357326984,
          0.011794652789831161,
          0.01121828518807888,
          0.013149852864444256,
          0.009605064056813717,
          0.014756695367395878,
          0.009221821092069149,
          0.01786571927368641,
          0.00880085676908493,
          0.013949430547654629,
          0.011840990744531155,
          0.011185452342033386,
          0.0076897949911653996,
          0.00998364295810461,
          0.010030395351350307,
          0.012156139127910137,
          0.010931568220257759,
          0.009966055862605572,
          0.015350333414971828,
          0.014208290725946426,
          0.017884399741888046,
          0.008974386379122734,
          0.009019552730023861,
          0.009131570346653461,
          0.008861505426466465,
          0.009395353496074677,
          0.010278966277837753,
          0.009498992934823036,
          0.013254229910671711,
          0.010522160679101944,
          0.011119728907942772,
          0.007919523864984512,
          0.008749186061322689,
          0.011131152510643005,
          0.010228422470390797,
          0.00860330555588007,
          0.016052911058068275,
          0.011161256581544876,
          0.009776264429092407,
          0.010999210178852081,
          0.011360554955899715,
          0.01116505078971386,
          0.009887315332889557,
          0.011778315529227257,
          0.012735480442643166,
          0.01043813768774271,
          0.011472029611468315,
          0.014840461313724518,
          0.011718048714101315,
          0.010495368391275406,
          0.01265089213848114,
          0.01020277850329876,
          0.012410950846970081,
          0.008037040941417217,
          0.009692128747701645,
          0.010880486108362675,
          0.011568977497518063,
          0.012531640939414501,
          0.012251093052327633,
          0.008880543522536755,
          0.012290947139263153,
          0.01116201188415289,
          0.011954869143664837,
          0.011238508857786655,
          0.008950830437242985,
          0.009470578283071518,
          0.010023373179137707,
          0.009432467631995678,
          0.00980816688388586,
          0.016738785430788994,
          0.008191150613129139,
          0.009624797850847244,
          0.01089601032435894,
          0.011094562709331512,
          0.00869939848780632,
          0.015747733414173126,
          0.010976732708513737,
          0.008186405524611473,
          0.011206588707864285,
          0.0088548194617033,
          0.009044993668794632,
          0.012765572406351566,
          0.010226079262793064,
          0.011636074632406235,
          0.016634248197078705,
          0.008502318523824215,
          0.00879448838531971,
          0.007696729153394699,
          0.010315981693565845,
          0.009111198596656322,
          0.012830659747123718,
          0.008707134053111076,
          0.010598527267575264,
          0.009468748234212399,
          0.00841959472745657,
          0.015500458888709545,
          0.008468898013234138,
          0.010058192536234856,
          0.015879614278674126,
          0.009761115536093712,
          0.01110247615724802,
          0.009938891977071762,
          0.009081763215363026,
          0.010424859821796417,
          0.010796687565743923,
          0.009670249186456203,
          0.009020651690661907,
          0.009178528562188148,
          0.011096227914094925,
          0.011599333956837654,
          0.008195734582841396,
          0.010189131833612919,
          0.009482446126639843,
          0.010900904424488544,
          0.01203218474984169,
          0.011116170324385166,
          0.009818610735237598,
          0.012130013667047024,
          0.007889899425208569,
          0.009113768115639687,
          0.011836986988782883,
          0.011100539937615395,
          0.01181867066770792,
          0.008188094943761826,
          0.008696633391082287,
          0.01126095186918974,
          0.008145373314619064,
          0.010503697209060192,
          0.010363790206611156,
          0.012508800253272057,
          0.008891426026821136,
          0.009456136263906956,
          0.008893913589417934,
          0.016552980989217758,
          0.01113094575703144,
          0.013186217285692692,
          0.010820831172168255,
          0.00936621893197298,
          0.01080621499568224,
          0.011883926577866077,
          0.013540206477046013,
          0.014040417037904263,
          0.010462833568453789,
          0.009622998535633087,
          0.010473660193383694,
          0.008381158113479614,
          0.010558987967669964,
          0.009085827507078648,
          0.011506174691021442,
          0.011154213920235634,
          0.010743087157607079,
          0.009985129348933697,
          0.010137908160686493,
          0.012197851203382015,
          0.008289667777717113,
          0.009902197867631912,
          0.01225960347801447,
          0.009566409513354301,
          0.00934484414756298,
          0.011921163648366928,
          0.008813663385808468,
          0.00864785723388195,
          0.011808427982032299,
          0.011335785500705242,
          0.00841220747679472,
          0.007865708321332932,
          0.012457533739507198,
          0.014339148066937923,
          0.010389427654445171,
          0.008775678463280201,
          0.008959049358963966,
          0.009746786206960678,
          0.010472067631781101,
          0.011591757647693157,
          0.00843031331896782,
          0.008613011799752712,
          0.011115115135908127,
          0.009380747564136982,
          0.01074926182627678,
          0.012136291712522507,
          0.011112003587186337,
          0.010692299343645573,
          0.010924207977950573,
          0.008741798810660839,
          0.00829899962991476,
          0.008632604032754898,
          0.00988876260817051,
          0.011883886530995369,
          0.012889840640127659,
          0.010119892656803131,
          0.009927081875503063,
          0.008729545399546623,
          0.0113991042599082,
          0.010842947289347649,
          0.008660053834319115,
          0.01075261551886797,
          0.011037134565412998,
          0.010459319688379765,
          0.011918296106159687,
          0.011873622424900532,
          0.009944618679583073,
          0.014189998619258404,
          0.012161717750132084,
          0.009002224542200565,
          0.009271016344428062,
          0.015067084692418575,
          0.010689050890505314,
          0.011289011687040329,
          0.010831637308001518,
          0.010839377529919147,
          0.009677665308117867,
          0.012182752601802349,
          0.010659147053956985,
          0.008906757459044456,
          0.008375763893127441,
          0.008677707053720951,
          0.011084460653364658,
          0.010329932905733585,
          0.010174443945288658,
          0.011269601061940193,
          0.010464557446539402,
          0.008946049958467484,
          0.009620146825909615,
          0.009164577350020409,
          0.009171504527330399,
          0.00796769093722105,
          0.008188625797629356,
          0.011752583086490631,
          0.010140246711671352,
          0.011376142501831055,
          0.014017920941114426,
          0.011020741425454617,
          0.010097590275108814,
          0.010672942735254765,
          0.01088382862508297,
          0.011280223727226257,
          0.009870568290352821,
          0.011566437780857086,
          0.01284775324165821,
          0.010904183611273766,
          0.01243632659316063,
          0.010508866049349308,
          0.007747904863208532,
          0.00987117551267147,
          0.008535506203770638,
          0.011040344834327698,
          0.012068980373442173,
          0.010547509416937828,
          0.011739547364413738,
          0.009340808726847172,
          0.011069058440625668,
          0.010554641485214233,
          0.014148046262562275,
          0.010317418724298477,
          0.011149310506880283,
          0.009462393820285797,
          0.01259970385581255,
          0.009292731992900372,
          0.01046849600970745,
          0.009415393695235252,
          0.011733566410839558,
          0.013761614449322224,
          0.008173566311597824,
          0.007997661828994751,
          0.010346584022045135,
          0.014934870414435863,
          0.012111606076359749,
          0.010670524090528488,
          0.009862883016467094,
          0.00850472878664732,
          0.009848102927207947,
          0.013005386106669903,
          0.00885606650263071,
          0.009394573047757149,
          0.013378643430769444,
          0.009092469699680805,
          0.010490061715245247,
          0.013671856373548508,
          0.008994461968541145,
          0.012520819902420044,
          0.010274920612573624,
          0.011533833108842373,
          0.01036104466766119,
          0.007969898171722889,
          0.01245554443448782,
          0.012326788157224655,
          0.014898116700351238,
          0.009397085756063461,
          0.01225456316024065,
          0.009761879220604897,
          0.010213438421487808,
          0.0111902030184865,
          0.01047097984701395,
          0.009401724673807621,
          0.011200128123164177,
          0.013698872178792953,
          0.01016964390873909,
          0.010855762287974358,
          0.011633109301328659,
          0.008987586945295334,
          0.009292662143707275,
          0.008775667287409306,
          0.012707923538982868,
          0.01207812875509262,
          0.009227093309164047,
          0.010755404829978943,
          0.010599708184599876,
          0.009787216782569885,
          0.010333860293030739,
          0.010154297575354576,
          0.008779947645962238,
          0.01016638707369566,
          0.014635428786277771,
          0.009028572589159012,
          0.010934537276625633,
          0.010737739503383636,
          0.01016633678227663,
          0.008467971347272396,
          0.01105350349098444,
          0.011259563267230988,
          0.009613276459276676,
          0.006829219404608011,
          0.009984971955418587,
          0.011887885630130768,
          0.012335150502622128,
          0.012273499742150307,
          0.013180514797568321,
          0.011038628406822681,
          0.012710352428257465,
          0.008434656076133251,
          0.009497989900410175,
          0.00966583751142025,
          0.00966363213956356,
          0.010194910690188408,
          0.00859166868031025,
          0.008387865498661995,
          0.009307637810707092,
          0.010238303802907467,
          0.010169623419642448,
          0.01514500007033348,
          0.009434495121240616,
          0.01109122484922409,
          0.01017757598310709,
          0.00891662947833538,
          0.007774472236633301,
          0.010442832484841347,
          0.009845804423093796,
          0.01199334766715765,
          0.011877544224262238,
          0.010845402255654335,
          0.010060041211545467,
          0.011559613980352879,
          0.00708698621019721,
          0.0102586280554533,
          0.013078819029033184,
          0.010475743561983109,
          0.010345885530114174,
          0.012043654918670654,
          0.012659205123782158,
          0.010774248279631138,
          0.007507685571908951,
          0.009506522677838802,
          0.011528701521456242,
          0.009401515126228333,
          0.008058774285018444,
          0.01358034834265709,
          0.010755239985883236,
          0.012613026425242424,
          0.007770363707095385,
          0.011328721418976784,
          0.009592972695827484,
          0.01046572532504797,
          0.008462425321340561,
          0.009170787408947945,
          0.013443942181766033,
          0.01011138129979372,
          0.010762622579932213,
          0.011636262759566307,
          0.01349741593003273,
          0.00964797381311655,
          0.012531724758446217,
          0.009508305229246616,
          0.012428872287273407,
          0.008311789482831955,
          0.01067502610385418,
          0.01090755220502615,
          0.01177853625267744,
          0.009197608567774296,
          0.012991630472242832,
          0.010857917368412018,
          0.008211626671254635,
          0.01285694632679224,
          0.013286393135786057,
          0.012254122644662857,
          0.01226074993610382,
          0.008270727470517159,
          0.009385043755173683,
          0.011524947360157967,
          0.01002980675548315,
          0.008504610508680344,
          0.010833224281668663,
          0.008829197846353054,
          0.009604882448911667,
          0.008775551803410053,
          0.009522619657218456,
          0.010347586125135422,
          0.011503354646265507,
          0.011791243217885494,
          0.013425060547888279,
          0.01403615903109312,
          0.010769500397145748,
          0.009385605342686176,
          0.009980238042771816,
          0.01297715399414301,
          0.009627585299313068,
          0.010892575606703758,
          0.01549876295030117,
          0.010856918059289455,
          0.00993039645254612,
          0.009853927418589592,
          0.01036512665450573,
          0.010338358581066132,
          0.009858353063464165,
          0.010873010382056236,
          0.009618089534342289,
          0.012521598488092422,
          0.009923955425620079,
          0.010875326581299305,
          0.011127881705760956,
          0.010609902441501617,
          0.009591993875801563,
          0.01149735040962696,
          0.00978963915258646,
          0.011209447868168354,
          0.009978125803172588,
          0.011604717001318932,
          0.009689888916909695,
          0.011155888438224792,
          0.011054287664592266,
          0.01330948993563652,
          0.012364358641207218,
          0.009090953506529331,
          0.01061250176280737,
          0.011455914005637169,
          0.012858238071203232,
          0.011261504143476486,
          0.013126777485013008,
          0.011407687328755856,
          0.010044621303677559,
          0.010761076584458351,
          0.014551129192113876,
          0.008334862999618053,
          0.010719371028244495,
          0.012549425475299358,
          0.011306913569569588,
          0.009114638902246952,
          0.010941127315163612,
          0.012524444609880447,
          0.008470548316836357,
          0.014461975544691086,
          0.01062860619276762,
          0.010880572721362114,
          0.009515469893813133,
          0.009996277280151844,
          0.011784319765865803,
          0.008656343445181847,
          0.010717636905610561,
          0.014718059450387955,
          0.011716746725142002,
          0.011505751870572567,
          0.009458651766180992,
          0.012356186285614967,
          0.009612961672246456,
          0.009376268833875656,
          0.01089264266192913,
          0.01052605640143156,
          0.012318938039243221,
          0.00980206485837698,
          0.011335905641317368,
          0.010155700147151947,
          0.012449678033590317,
          0.00929318554699421,
          0.008753153495490551,
          0.009534920565783978,
          0.014054077677428722,
          0.011704975739121437,
          0.00893059279769659,
          0.007764921523630619,
          0.011378774419426918,
          0.013394375331699848,
          0.008544497191905975,
          0.012336863204836845,
          0.00887339934706688,
          0.00892958790063858,
          0.009764201939105988,
          0.010726673528552055,
          0.009815599769353867,
          0.009496619924902916,
          0.009394808672368526,
          0.010139837861061096,
          0.0102759450674057,
          0.008286784403026104,
          0.009280696511268616,
          0.010206826962530613,
          0.010141649283468723,
          0.009945569559931755,
          0.011211065575480461,
          0.012399737723171711,
          0.011241190135478973,
          0.00973060168325901,
          0.016532445326447487,
          0.011177709326148033,
          0.011031153611838818,
          0.013673112727701664,
          0.00929826870560646,
          0.013108537532389164,
          0.011290013790130615,
          0.011091469787061214,
          0.012363710440695286,
          0.01173493079841137,
          0.009912700392305851,
          0.009070196188986301,
          0.008891853503882885,
          0.011666638776659966,
          0.008722199127078056,
          0.013395820744335651,
          0.012086953036487103,
          0.009579433128237724,
          0.011333981528878212,
          0.008281003683805466,
          0.009626422077417374,
          0.009527611546218395,
          0.01217924989759922,
          0.015074489638209343,
          0.011246957816183567,
          0.010216565802693367,
          0.010522909462451935,
          0.008350190706551075,
          0.011030029505491257,
          0.010268052108585835,
          0.009255681186914444,
          0.008728373795747757,
          0.008162210695445538,
          0.01004005316644907,
          0.01018375251442194,
          0.010592457838356495,
          0.009885784238576889,
          0.009928478859364986,
          0.015990007668733597,
          0.008998321369290352,
          0.013574209064245224,
          0.01225236151367426,
          0.01078688632696867,
          0.013148698955774307,
          0.011709505692124367,
          0.012785653583705425,
          0.010526077821850777,
          0.010596503503620625,
          0.011838942766189575,
          0.008377199061214924,
          0.009753954596817493,
          0.010794169269502163,
          0.01120792981237173,
          0.013164270669221878,
          0.012398016639053822,
          0.011771653778851032,
          0.010800054296851158,
          0.008915544487535954,
          0.011479108594357967,
          0.011037502437829971,
          0.010763975791633129,
          0.008056547492742538,
          0.009703492745757103,
          0.0112413065508008,
          0.01198422722518444,
          0.008564346469938755,
          0.013797557912766933,
          0.010811864398419857,
          0.01414742972701788,
          0.013599377125501633,
          0.012287699617445469,
          0.009048801846802235,
          0.009716388769447803,
          0.009500700049102306,
          0.007616611197590828,
          0.009198933839797974,
          0.011095196008682251,
          0.008473619818687439,
          0.008956939913332462,
          0.010299154557287693,
          0.014639629982411861,
          0.009359480813145638,
          0.012441594153642654,
          0.009713114239275455,
          0.010047527961432934,
          0.010362356901168823,
          0.010137348435819149,
          0.01230280939489603,
          0.011291754432022572,
          0.010998206213116646,
          0.011986837722361088,
          0.009793402627110481,
          0.009881580248475075,
          0.007817558944225311,
          0.011453229002654552,
          0.011768033728003502,
          0.010740184225142002,
          0.01020974200218916,
          0.009694358333945274,
          0.01002401951700449,
          0.014282340183854103,
          0.011558919213712215,
          0.010309197008609772,
          0.00896147545427084,
          0.008721131831407547,
          0.008436856791377068,
          0.009517719969153404,
          0.01081877015531063,
          0.010180151090025902,
          0.010138544254004955,
          0.009551447816193104,
          0.011763724498450756,
          0.008109292946755886,
          0.013806059025228024,
          0.00949277076870203,
          0.009609281085431576,
          0.01001593004912138,
          0.01013916451483965,
          0.010887487791478634,
          0.0086232740432024,
          0.012509815394878387,
          0.009116279892623425,
          0.010099852457642555,
          0.010499614290893078,
          0.010848142206668854,
          0.011690553277730942,
          0.011320588178932667,
          0.01106155663728714,
          0.012771001085639,
          0.010085856541991234,
          0.009128249250352383,
          0.008917194791138172,
          0.01753758080303669,
          0.010762665420770645,
          0.012397540733218193,
          0.008943998254835606,
          0.009938805364072323,
          0.01162481214851141,
          0.008973535150289536,
          0.011964920908212662,
          0.0087074413895607,
          0.01105020847171545,
          0.00882114376872778,
          0.008369729854166508,
          0.009477363899350166,
          0.015444541350007057,
          0.009950106032192707,
          0.010211033746600151,
          0.013698199763894081,
          0.015760289505124092,
          0.008279649540781975,
          0.010394747368991375,
          0.009062444791197777,
          0.010306138545274734,
          0.010984853841364384,
          0.013608518987894058,
          0.01024629082530737,
          0.01354275830090046,
          0.011661503463983536,
          0.013167178258299828,
          0.010995236225426197,
          0.015086973085999489,
          0.009360499680042267,
          0.012225095182657242,
          0.010958226397633553,
          0.012282147072255611,
          0.009921656921505928,
          0.011365844868123531,
          0.009667815640568733,
          0.013462402857840061,
          0.009185083210468292,
          0.011732295155525208,
          0.010599958710372448,
          0.009323962032794952,
          0.013075253926217556,
          0.010330607183277607,
          0.010045792907476425,
          0.013538694940507412,
          0.00961119681596756,
          0.009760894812643528,
          0.014522257260978222,
          0.009115006774663925,
          0.011197301559150219,
          0.010553806088864803,
          0.009321142919361591,
          0.009801683016121387,
          0.011517783626914024,
          0.01058559026569128,
          0.01083443034440279,
          0.010264115408062935,
          0.00789929274469614,
          0.011294943280518055,
          0.009006578475236893,
          0.015042228624224663,
          0.008859187364578247,
          0.008021194487810135,
          0.008126439526677132,
          0.009621106088161469,
          0.0080275172367692,
          0.011018972843885422,
          0.008641153573989868,
          0.011020477861166,
          0.013058699667453766,
          0.008461563847959042,
          0.011353272944688797,
          0.009978502057492733,
          0.011698490008711815,
          0.01092938706278801,
          0.010152383707463741,
          0.008942827582359314,
          0.009295833297073841,
          0.009303392842411995,
          0.010747816413640976,
          0.010177325457334518,
          0.009082378819584846,
          0.008773359470069408,
          0.010416846722364426,
          0.009755271486938,
          0.011737208813428879,
          0.011064733378589153,
          0.011758777312934399,
          0.013507342897355556,
          0.010125495493412018,
          0.008033019490540028,
          0.010538090020418167,
          0.009951498359441757,
          0.008139843121170998,
          0.012333944439888,
          0.009415535256266594,
          0.012170327827334404,
          0.011928283609449863,
          0.009260868653655052,
          0.008958476595580578,
          0.010229828767478466,
          0.009090681560337543,
          0.013294522650539875,
          0.008723583072423935,
          0.010855579748749733,
          0.010456169955432415,
          0.009476938284933567,
          0.01238054409623146,
          0.016049332916736603,
          0.010360034182667732,
          0.012352731078863144,
          0.009486476890742779,
          0.013738302513957024,
          0.010822204872965813,
          0.011423619464039803,
          0.008305411785840988,
          0.010220339521765709,
          0.010955984704196453,
          0.012072554789483547,
          0.012884662486612797,
          0.008125629276037216,
          0.012364237569272518,
          0.00969613529741764,
          0.008983075618743896,
          0.011632336303591728,
          0.00869723316282034,
          0.011305227875709534,
          0.01086836401373148,
          0.009388115257024765,
          0.010866595432162285,
          0.009381153620779514,
          0.008159507997334003,
          0.01165972650051117,
          0.012309473939239979,
          0.01240217313170433,
          0.011881901882588863,
          0.01046128198504448,
          0.008278220891952515,
          0.009843331761658192,
          0.01204362791031599,
          0.01010848581790924,
          0.009306690655648708,
          0.014325800351798534,
          0.012364914640784264,
          0.010857812128961086,
          0.013594361022114754,
          0.010149779729545116,
          0.014627806842327118,
          0.01050618477165699,
          0.014638004824519157,
          0.011689647100865841,
          0.009038152173161507,
          0.013941314071416855,
          0.008627109229564667,
          0.010160481557250023,
          0.011549525894224644,
          0.008682223968207836,
          0.009332641027867794,
          0.010434279218316078,
          0.008753838017582893,
          0.012380014173686504,
          0.01121440064162016,
          0.009542413987219334,
          0.011237287893891335,
          0.012401017360389233,
          0.009413963183760643,
          0.012392371892929077,
          0.011949868872761726,
          0.01239315140992403,
          0.009760364890098572,
          0.008334929123520851,
          0.010860438458621502,
          0.011142066679894924,
          0.01520251203328371,
          0.008358128368854523,
          0.010298199020326138,
          0.010317744687199593,
          0.008966767229139805,
          0.010003647767007351,
          0.0107196606695652,
          0.008713016286492348,
          0.010585788637399673,
          0.010297732427716255,
          0.011066151782870293,
          0.009191678836941719
         ]
        },
        {
         "marker": {
          "color": "royalblue"
         },
         "name": "SSIM",
         "type": "box",
         "y": [
          0.8651267886161804,
          0.8623749613761902,
          0.8844629526138306,
          0.8621687889099121,
          0.8113211393356323,
          0.8677774667739868,
          0.845798134803772,
          0.8465495109558105,
          0.8010643720626831,
          0.8349317312240601,
          0.8682990074157715,
          0.8624434471130371,
          0.8657151460647583,
          0.8296470642089844,
          0.8636139035224915,
          0.8520649671554565,
          0.8851804733276367,
          0.8801426887512207,
          0.8482555150985718,
          0.7742530703544617,
          0.8698732256889343,
          0.8492540121078491,
          0.8684400320053101,
          0.8644291758537292,
          0.88301020860672,
          0.8513522148132324,
          0.8762717247009277,
          0.8758240938186646,
          0.8894869089126587,
          0.800926685333252,
          0.8764550089836121,
          0.8608289957046509,
          0.8354601860046387,
          0.8789536356925964,
          0.8749308586120605,
          0.8413826823234558,
          0.8903414607048035,
          0.8398545384407043,
          0.8048756718635559,
          0.8399282693862915,
          0.8829035758972168,
          0.8582035899162292,
          0.8608452081680298,
          0.8615013957023621,
          0.8567094802856445,
          0.8434147834777832,
          0.8649042844772339,
          0.8723503947257996,
          0.8807415962219238,
          0.8677335977554321,
          0.8515115976333618,
          0.8267105221748352,
          0.852090060710907,
          0.8852308988571167,
          0.8194673657417297,
          0.8973166346549988,
          0.8923289179801941,
          0.8686506152153015,
          0.8298335075378418,
          0.8105570077896118,
          0.8360632658004761,
          0.8227556943893433,
          0.8831971287727356,
          0.8619773983955383,
          0.8899502754211426,
          0.8717435598373413,
          0.8421031832695007,
          0.8428122401237488,
          0.8409646153450012,
          0.8270922899246216,
          0.8456279039382935,
          0.8442915678024292,
          0.8848419189453125,
          0.8560395240783691,
          0.8724265098571777,
          0.8695120811462402,
          0.8801454305648804,
          0.8289999961853027,
          0.823786735534668,
          0.8616557121276855,
          0.8773897886276245,
          0.8666402101516724,
          0.8859195709228516,
          0.8526231050491333,
          0.9030992388725281,
          0.9048708081245422,
          0.8713424801826477,
          0.8380071520805359,
          0.7478949427604675,
          0.8259140849113464,
          0.7882992625236511,
          0.843994140625,
          0.83134925365448,
          0.8630894422531128,
          0.8798701167106628,
          0.8598954081535339,
          0.8764117956161499,
          0.8247464895248413,
          0.880818247795105,
          0.8350234031677246,
          0.8353007435798645,
          0.889560341835022,
          0.8867303133010864,
          0.8432399034500122,
          0.8638303875923157,
          0.8495821952819824,
          0.8604799509048462,
          0.8392899632453918,
          0.8398227691650391,
          0.8382495045661926,
          0.8118234872817993,
          0.8442720174789429,
          0.8672712445259094,
          0.8138117790222168,
          0.8840745687484741,
          0.8826120495796204,
          0.8756207227706909,
          0.8788525462150574,
          0.8316440582275391,
          0.8558333516120911,
          0.8775870203971863,
          0.8837491869926453,
          0.8785834312438965,
          0.8335946202278137,
          0.8639599084854126,
          0.8563870191574097,
          0.894885241985321,
          0.8206860423088074,
          0.8715277910232544,
          0.8361870050430298,
          0.8521611094474792,
          0.8243354558944702,
          0.8692532777786255,
          0.860844612121582,
          0.8753297924995422,
          0.8554478883743286,
          0.854420006275177,
          0.7904125452041626,
          0.8570009469985962,
          0.8817005157470703,
          0.8864228129386902,
          0.8901141285896301,
          0.7975552678108215,
          0.8698974847793579,
          0.912030041217804,
          0.8764990568161011,
          0.8101312518119812,
          0.8702772855758667,
          0.8035167455673218,
          0.8494440317153931,
          0.8919399976730347,
          0.8517336845397949,
          0.817306399345398,
          0.8710900545120239,
          0.8964041471481323,
          0.8865846395492554,
          0.8507404327392578,
          0.8826166391372681,
          0.8735432624816895,
          0.7733012437820435,
          0.8583124279975891,
          0.8538256883621216,
          0.8501591682434082,
          0.8053647875785828,
          0.8633864521980286,
          0.8353955149650574,
          0.8034911155700684,
          0.8568915128707886,
          0.8703439831733704,
          0.8593344688415527,
          0.8596543073654175,
          0.864823043346405,
          0.856109619140625,
          0.8696144223213196,
          0.8329062461853027,
          0.8446316719055176,
          0.845483124256134,
          0.7789069414138794,
          0.846906304359436,
          0.7756038904190063,
          0.8748690485954285,
          0.8504824638366699,
          0.8830171823501587,
          0.8548541069030762,
          0.8809207677841187,
          0.8589327931404114,
          0.8947785496711731,
          0.8438155055046082,
          0.8201150894165039,
          0.8297864198684692,
          0.8078141212463379,
          0.8240618705749512,
          0.7715497612953186,
          0.8551267385482788,
          0.881243109703064,
          0.8649150729179382,
          0.8594613075256348,
          0.8290600776672363,
          0.8416072726249695,
          0.8581951856613159,
          0.8619458079338074,
          0.8866530656814575,
          0.8691226243972778,
          0.8782575726509094,
          0.853123664855957,
          0.7912828922271729,
          0.8565059900283813,
          0.8966141939163208,
          0.8153189420700073,
          0.8202664256095886,
          0.8419632911682129,
          0.8338303565979004,
          0.8020421862602234,
          0.8448591232299805,
          0.8498552441596985,
          0.855141818523407,
          0.8058307766914368,
          0.8689578771591187,
          0.811198890209198,
          0.8245958089828491,
          0.7393831014633179,
          0.8151871562004089,
          0.7909700274467468,
          0.8310370445251465,
          0.8329523801803589,
          0.8768707513809204,
          0.8547394871711731,
          0.8795250058174133,
          0.7998889684677124,
          0.8278831243515015,
          0.8501306772232056,
          0.8746331930160522,
          0.8147592544555664,
          0.8494771718978882,
          0.844233512878418,
          0.8597949743270874,
          0.8813494443893433,
          0.8670312166213989,
          0.8482412099838257,
          0.8907228708267212,
          0.8585504293441772,
          0.8122065663337708,
          0.8873602747917175,
          0.8555358648300171,
          0.8388500213623047,
          0.853345513343811,
          0.8702548146247864,
          0.8441365361213684,
          0.7945066094398499,
          0.9046018719673157,
          0.8608198165893555,
          0.8762384653091431,
          0.8459864854812622,
          0.8030415773391724,
          0.8429452776908875,
          0.8376146554946899,
          0.8347026109695435,
          0.8817993402481079,
          0.8844650983810425,
          0.8780966997146606,
          0.8667499423027039,
          0.8740426898002625,
          0.8358058929443359,
          0.8843334317207336,
          0.8563140630722046,
          0.8646756410598755,
          0.88837069272995,
          0.8324443101882935,
          0.8954521417617798,
          0.8628556132316589,
          0.8300111889839172,
          0.878089427947998,
          0.8751447796821594,
          0.848529040813446,
          0.858918309211731,
          0.8527771830558777,
          0.8228151202201843,
          0.8720220327377319,
          0.8654404878616333,
          0.8677675127983093,
          0.8700895309448242,
          0.891180694103241,
          0.8517917394638062,
          0.8234943151473999,
          0.8415797352790833,
          0.8332281112670898,
          0.8563434481620789,
          0.8414355516433716,
          0.86326664686203,
          0.8273037672042847,
          0.88909912109375,
          0.8755189180374146,
          0.8175119161605835,
          0.8431293368339539,
          0.8323616981506348,
          0.8876397013664246,
          0.8810485601425171,
          0.8746187090873718,
          0.8759945631027222,
          0.8045686483383179,
          0.8253434896469116,
          0.7956345081329346,
          0.8842931985855103,
          0.8616068959236145,
          0.8837080001831055,
          0.7326826453208923,
          0.8496338725090027,
          0.846686840057373,
          0.8692365884780884,
          0.8761278390884399,
          0.8552009463310242,
          0.846042275428772,
          0.8154174089431763,
          0.8693364858627319,
          0.8435811996459961,
          0.8414368629455566,
          0.8382375836372375,
          0.8975393176078796,
          0.8690484762191772,
          0.8600414395332336,
          0.865530788898468,
          0.8811905980110168,
          0.8793547749519348,
          0.8806737065315247,
          0.832685112953186,
          0.8666393160820007,
          0.8769046664237976,
          0.8683279156684875,
          0.8748123049736023,
          0.8901907205581665,
          0.8792740106582642,
          0.8807865381240845,
          0.8718755841255188,
          0.8899415135383606,
          0.8424679636955261,
          0.861949622631073,
          0.8825794458389282,
          0.909010112285614,
          0.8084899187088013,
          0.8144547343254089,
          0.8388813734054565,
          0.8542436361312866,
          0.8859326243400574,
          0.8744748830795288,
          0.8576142191886902,
          0.8482426404953003,
          0.8845885992050171,
          0.8550395965576172,
          0.869432270526886,
          0.9016107320785522,
          0.8388971090316772,
          0.8702672123908997,
          0.8132057189941406,
          0.8465861082077026,
          0.8281487226486206,
          0.8704806566238403,
          0.8729316592216492,
          0.8465375900268555,
          0.8459327816963196,
          0.8073214292526245,
          0.8351985812187195,
          0.8772808313369751,
          0.8923547863960266,
          0.8910629153251648,
          0.8773082494735718,
          0.8371298909187317,
          0.8580383062362671,
          0.8652421236038208,
          0.8726791143417358,
          0.8810328245162964,
          0.8457514047622681,
          0.8121855854988098,
          0.8487273454666138,
          0.8260819315910339,
          0.8469476699829102,
          0.8739674687385559,
          0.8437418937683105,
          0.8296324610710144,
          0.8218809366226196,
          0.7994478344917297,
          0.8611675500869751,
          0.8398969769477844,
          0.8405855894088745,
          0.8547065854072571,
          0.8729530572891235,
          0.8384415507316589,
          0.829943060874939,
          0.8713691830635071,
          0.851872444152832,
          0.8691021800041199,
          0.8291374444961548,
          0.8339231610298157,
          0.8865353465080261,
          0.8601852655410767,
          0.8723708987236023,
          0.8767876625061035,
          0.84605473279953,
          0.9013268351554871,
          0.9177123308181763,
          0.856870174407959,
          0.8734833598136902,
          0.8390024304389954,
          0.8210464715957642,
          0.8245145082473755,
          0.8539074063301086,
          0.8623006939888,
          0.8422479629516602,
          0.8000401258468628,
          0.8760032653808594,
          0.8146007657051086,
          0.8419225811958313,
          0.8424345254898071,
          0.8532682657241821,
          0.8719915151596069,
          0.8634213209152222,
          0.8558761477470398,
          0.8916333317756653,
          0.8764690160751343,
          0.8287252187728882,
          0.813754677772522,
          0.8429220914840698,
          0.851564884185791,
          0.8442071676254272,
          0.8070634007453918,
          0.7944947481155396,
          0.8572155833244324,
          0.8541574478149414,
          0.8753744959831238,
          0.8658409118652344,
          0.8228321075439453,
          0.8380032777786255,
          0.9072941541671753,
          0.8523848652839661,
          0.8299892544746399,
          0.8496613502502441,
          0.8731712102890015,
          0.8347378969192505,
          0.8434087634086609,
          0.8944818377494812,
          0.8270052075386047,
          0.860001266002655,
          0.8508121371269226,
          0.8622504472732544,
          0.7930008172988892,
          0.8894907236099243,
          0.8465096354484558,
          0.8305530548095703,
          0.8467891812324524,
          0.8597278594970703,
          0.8176025152206421,
          0.8634147644042969,
          0.826927661895752,
          0.8366628885269165,
          0.8446586728096008,
          0.8475440144538879,
          0.8867164850234985,
          0.7940446734428406,
          0.8523052334785461,
          0.8312592506408691,
          0.8545125722885132,
          0.8561050295829773,
          0.8678153157234192,
          0.8349875211715698,
          0.873947024345398,
          0.825130820274353,
          0.8496822118759155,
          0.8716158866882324,
          0.837525486946106,
          0.835426926612854,
          0.8841066360473633,
          0.856712818145752,
          0.8648020625114441,
          0.843306839466095,
          0.8670129776000977,
          0.8239359855651855,
          0.8115805387496948,
          0.8588706851005554,
          0.8618016242980957,
          0.8659218549728394,
          0.8392995595932007,
          0.841192901134491,
          0.8493468165397644,
          0.8669077754020691,
          0.8830728530883789,
          0.8431553840637207,
          0.8478420376777649,
          0.9009852409362793,
          0.8636530041694641,
          0.8913059234619141,
          0.8451827764511108,
          0.8502460718154907,
          0.8566522598266602,
          0.8623389005661011,
          0.8994277715682983,
          0.8693870306015015,
          0.8208398818969727,
          0.767961859703064,
          0.8114778399467468,
          0.8430594205856323,
          0.8663111925125122,
          0.8795046806335449,
          0.8874468803405762,
          0.8705938458442688,
          0.8696724772453308,
          0.8877795338630676,
          0.8626340627670288,
          0.8462851643562317,
          0.8809789419174194,
          0.8757327795028687,
          0.8484739065170288,
          0.8365907669067383,
          0.8642943501472473,
          0.8638198971748352,
          0.8687413334846497,
          0.8355575799942017,
          0.8867332339286804,
          0.8694959878921509,
          0.8397005796432495,
          0.8629056215286255,
          0.7829777598381042,
          0.7785528898239136,
          0.7872653603553772,
          0.8618332147598267,
          0.8607330322265625,
          0.8849611282348633,
          0.8475877642631531,
          0.8164783716201782,
          0.8634713888168335,
          0.8421002626419067,
          0.8531478643417358,
          0.8453913927078247,
          0.8808692097663879,
          0.8855055570602417,
          0.8620426058769226,
          0.8484295010566711,
          0.8741326332092285,
          0.8912671208381653,
          0.8151389360427856,
          0.8584621548652649,
          0.8520533442497253,
          0.8899855613708496,
          0.8288010358810425,
          0.8839600682258606,
          0.8702309727668762,
          0.8749141693115234,
          0.8539349436759949,
          0.8633629083633423,
          0.851871132850647,
          0.8304647207260132,
          0.8985403776168823,
          0.8131078481674194,
          0.8827849626541138,
          0.8111511468887329,
          0.8421533703804016,
          0.8080728650093079,
          0.814073920249939,
          0.8584824800491333,
          0.8153413534164429,
          0.8672841191291809,
          0.8757615089416504,
          0.800148606300354,
          0.8652911186218262,
          0.8733035922050476,
          0.8375279307365417,
          0.821493923664093,
          0.8458832502365112,
          0.8013765215873718,
          0.8948909640312195,
          0.8460496068000793,
          0.8421975374221802,
          0.8492413759231567,
          0.8785126805305481,
          0.8160815238952637,
          0.8538820147514343,
          0.8871200680732727,
          0.8715729713439941,
          0.8291326761245728,
          0.8524244427680969,
          0.8686235547065735,
          0.8514986038208008,
          0.8434159159660339,
          0.8443540334701538,
          0.8498315811157227,
          0.85186767578125,
          0.858956515789032,
          0.8365319967269897,
          0.8632974624633789,
          0.8329006433486938,
          0.8399065136909485,
          0.8504025340080261,
          0.878805935382843,
          0.8845289945602417,
          0.7984892129898071,
          0.8641865849494934,
          0.8859812021255493,
          0.8543616533279419,
          0.8817178606987,
          0.879622757434845,
          0.8759249448776245,
          0.8512659072875977,
          0.8241416215896606,
          0.8638728857040405,
          0.8494716882705688,
          0.8653095364570618,
          0.8667546510696411,
          0.8415135145187378,
          0.8369454145431519,
          0.8491231203079224,
          0.868852972984314,
          0.8457450866699219,
          0.8163341283798218,
          0.8354402780532837,
          0.863376259803772,
          0.835452675819397,
          0.818169891834259,
          0.8689530491828918,
          0.8304159045219421,
          0.851208508014679,
          0.7758796811103821,
          0.8449701070785522,
          0.8651132583618164,
          0.8520406484603882,
          0.8446032404899597,
          0.8631137609481812,
          0.8575641512870789,
          0.8261931538581848,
          0.8863280415534973,
          0.8683077096939087,
          0.8789989352226257,
          0.8066943287849426,
          0.8833975791931152,
          0.842154860496521,
          0.8829644918441772,
          0.8214853405952454,
          0.8725679516792297,
          0.8475291132926941,
          0.8272625207901001,
          0.8933444023132324,
          0.8451423645019531,
          0.7916499376296997,
          0.8813856244087219,
          0.8369854092597961,
          0.8640019297599792,
          0.8245081901550293,
          0.9003568887710571,
          0.8645632863044739,
          0.8242202997207642,
          0.8804745674133301,
          0.871197521686554,
          0.8618891835212708,
          0.8140233755111694,
          0.8547779321670532,
          0.8673989176750183,
          0.8432164192199707,
          0.904767632484436,
          0.8579692840576172,
          0.8311024904251099,
          0.8152366876602173,
          0.8462454676628113,
          0.8883101344108582,
          0.8536122441291809,
          0.8036528825759888,
          0.835717499256134,
          0.8347762227058411,
          0.8682230114936829,
          0.8639667630195618,
          0.8617229461669922,
          0.8567355275154114,
          0.882595419883728,
          0.8649364709854126,
          0.8751401901245117,
          0.8925381898880005,
          0.8724443316459656,
          0.9151660799980164,
          0.8896134495735168,
          0.8259779810905457,
          0.8498561978340149,
          0.8621268272399902,
          0.8169916272163391,
          0.8375104665756226,
          0.8363609313964844,
          0.8562780618667603,
          0.831453800201416,
          0.8625057935714722,
          0.8279920816421509,
          0.8344087600708008,
          0.876236617565155,
          0.8725132942199707,
          0.8792020678520203,
          0.786340594291687,
          0.8105674982070923,
          0.839205265045166,
          0.879988968372345,
          0.8798792958259583,
          0.8547526597976685,
          0.8640506863594055,
          0.887527346611023,
          0.8252602815628052,
          0.8839051127433777,
          0.8650741577148438,
          0.8422558903694153,
          0.9072219133377075,
          0.849215030670166,
          0.8810615539550781,
          0.807205855846405,
          0.835401713848114,
          0.8564338684082031,
          0.8450504541397095,
          0.8540458679199219,
          0.875697135925293,
          0.8680518865585327,
          0.8521210551261902,
          0.8462336659431458,
          0.9030472636222839,
          0.8816997408866882,
          0.8711296916007996,
          0.851070761680603,
          0.8486638069152832,
          0.8918880224227905,
          0.8692836761474609,
          0.8237069249153137,
          0.8413966298103333,
          0.8649817705154419,
          0.8539716005325317,
          0.8367786407470703,
          0.8155534863471985,
          0.8513826131820679,
          0.803017258644104,
          0.8612886667251587,
          0.8519527316093445,
          0.8172855377197266,
          0.885505199432373,
          0.8721871376037598,
          0.8454777002334595,
          0.852523148059845,
          0.832443118095398,
          0.8077322840690613,
          0.8556507229804993,
          0.8507140278816223,
          0.8276975750923157,
          0.8639541864395142,
          0.8345130681991577,
          0.8432822227478027,
          0.8921182751655579,
          0.8805431127548218,
          0.8130297660827637,
          0.8060475587844849,
          0.8833146095275879,
          0.8735260963439941,
          0.8029146194458008,
          0.8111542463302612,
          0.858397364616394,
          0.8490415811538696,
          0.860959529876709,
          0.8110606074333191,
          0.863868236541748,
          0.8909884691238403,
          0.8779875636100769,
          0.8354263305664062,
          0.8574565649032593,
          0.8549389839172363,
          0.887205958366394,
          0.808444619178772,
          0.867144763469696,
          0.8162349462509155,
          0.8584438562393188,
          0.820114016532898,
          0.8857585787773132,
          0.8162837028503418,
          0.8794182538986206,
          0.8819069862365723,
          0.8277559280395508,
          0.8767174482345581,
          0.8550321459770203,
          0.871518611907959,
          0.8800838589668274,
          0.8341161012649536,
          0.8811664581298828,
          0.8530398607254028,
          0.8378516435623169,
          0.8600616455078125,
          0.8772410154342651,
          0.8341301083564758,
          0.8715184926986694,
          0.849105715751648,
          0.8792165517807007,
          0.8915507197380066,
          0.8727703094482422,
          0.8516608476638794,
          0.8021398782730103,
          0.8801509141921997,
          0.8202333450317383,
          0.8760229349136353,
          0.8069321513175964,
          0.90342777967453,
          0.802243709564209,
          0.8461706042289734,
          0.8469445109367371,
          0.8578101992607117,
          0.877448558807373,
          0.8466587066650391,
          0.8855071067810059,
          0.8452258110046387,
          0.857249915599823,
          0.8947362899780273,
          0.8607752919197083,
          0.8102928996086121,
          0.8443687558174133,
          0.8471065759658813,
          0.824979305267334,
          0.8555346727371216,
          0.8729192018508911,
          0.8679043650627136,
          0.8410670161247253,
          0.8089806437492371,
          0.8568194508552551,
          0.8144608736038208,
          0.8553374409675598,
          0.8502784967422485,
          0.8050976991653442,
          0.8878386616706848,
          0.8404496908187866,
          0.8780800104141235,
          0.8782270550727844,
          0.8887807130813599,
          0.8851081728935242,
          0.8603307604789734,
          0.8333587646484375,
          0.8428206443786621,
          0.8452435731887817,
          0.8300307393074036,
          0.7597498297691345,
          0.8922742009162903,
          0.8390828371047974,
          0.8891606330871582,
          0.8508905172348022,
          0.8771411776542664,
          0.8187493085861206,
          0.863836407661438,
          0.7682543396949768,
          0.8413408994674683,
          0.8606668710708618,
          0.8496856689453125,
          0.7660502195358276,
          0.8597505688667297,
          0.8273704648017883,
          0.8517019152641296,
          0.863213062286377,
          0.8738256692886353,
          0.820252537727356,
          0.8575128316879272,
          0.8574414253234863,
          0.9003473520278931,
          0.8058903813362122,
          0.8421177864074707,
          0.8546237945556641,
          0.8437955975532532,
          0.885744571685791,
          0.8261057734489441,
          0.8658064603805542,
          0.8759406805038452,
          0.872136116027832,
          0.8561108708381653,
          0.8639847040176392,
          0.8367215991020203,
          0.8553325533866882,
          0.8781183958053589,
          0.8641683459281921,
          0.8445823788642883,
          0.8400892019271851,
          0.8425953984260559,
          0.8466547131538391,
          0.840578556060791,
          0.8195965886116028,
          0.8386419415473938,
          0.8000508546829224,
          0.872895359992981,
          0.8819597363471985,
          0.8585797548294067,
          0.8856565356254578,
          0.8757756948471069,
          0.8220130801200867,
          0.8652747273445129,
          0.8357892036437988,
          0.7873839735984802,
          0.8956901431083679,
          0.8102419972419739,
          0.8331521153450012,
          0.8560075759887695,
          0.8349791765213013,
          0.875360369682312,
          0.8670667409896851,
          0.8580144643783569,
          0.8932418823242188,
          0.8389406204223633,
          0.8787635564804077,
          0.8480116128921509,
          0.8687013387680054,
          0.851442813873291,
          0.8381567001342773,
          0.8332931399345398,
          0.859583854675293,
          0.8359700441360474,
          0.7846598625183105,
          0.8759204745292664,
          0.8673263788223267,
          0.8247982859611511,
          0.861498236656189,
          0.8917807340621948,
          0.8355873227119446,
          0.8975743055343628,
          0.8545761108398438,
          0.8307219743728638,
          0.8828099966049194,
          0.8569774627685547,
          0.8373931646347046,
          0.8685870170593262,
          0.8451336026191711,
          0.8793109059333801,
          0.8049553036689758,
          0.8747793436050415,
          0.8714988827705383,
          0.8539592027664185,
          0.8605057001113892,
          0.844091534614563,
          0.8584095239639282,
          0.8889517784118652,
          0.8447257876396179,
          0.7895353436470032,
          0.8415061831474304,
          0.8965009450912476,
          0.8477340936660767,
          0.8451509475708008,
          0.8566604852676392,
          0.8236601948738098,
          0.9017642140388489,
          0.8220710754394531,
          0.8118171691894531,
          0.8787468075752258,
          0.823019802570343,
          0.8818046450614929,
          0.8388075828552246,
          0.8229309320449829,
          0.8676053881645203,
          0.8871995210647583,
          0.8614215850830078,
          0.8485158085823059,
          0.8216366767883301,
          0.8610698580741882,
          0.8674085736274719,
          0.8211890459060669,
          0.8731228113174438,
          0.8999180793762207,
          0.8318192362785339,
          0.840330958366394,
          0.819689154624939,
          0.8791839480400085,
          0.8194859623908997,
          0.858855128288269,
          0.8118502497673035,
          0.8107013702392578,
          0.8680616617202759,
          0.8220070004463196,
          0.875885009765625,
          0.7621015310287476,
          0.8174871206283569,
          0.8784831166267395,
          0.8562980890274048,
          0.8737390637397766,
          0.8352198600769043,
          0.8674205541610718,
          0.8349647521972656,
          0.8969553112983704,
          0.865391731262207,
          0.8778198957443237,
          0.8438722491264343,
          0.8018096089363098,
          0.850147545337677,
          0.8540472984313965,
          0.8444751501083374,
          0.8670452833175659,
          0.8247019052505493,
          0.8246877789497375,
          0.871496319770813,
          0.8532510995864868,
          0.885883629322052,
          0.8249099850654602,
          0.8924748301506042,
          0.8628522753715515,
          0.8612288236618042,
          0.790382981300354,
          0.8388632535934448,
          0.8619998097419739,
          0.8758977651596069,
          0.8138666152954102,
          0.8780673146247864,
          0.8490917086601257,
          0.8737291097640991,
          0.8526272773742676,
          0.872576117515564
         ]
        }
       ],
       "layout": {
        "autosize": false,
        "font": {
         "size": 30
        },
        "height": 900,
        "template": {
         "data": {
          "bar": [
           {
            "error_x": {
             "color": "#2a3f5f"
            },
            "error_y": {
             "color": "#2a3f5f"
            },
            "marker": {
             "line": {
              "color": "#E5ECF6",
              "width": 0.5
             },
             "pattern": {
              "fillmode": "overlay",
              "size": 10,
              "solidity": 0.2
             }
            },
            "type": "bar"
           }
          ],
          "barpolar": [
           {
            "marker": {
             "line": {
              "color": "#E5ECF6",
              "width": 0.5
             },
             "pattern": {
              "fillmode": "overlay",
              "size": 10,
              "solidity": 0.2
             }
            },
            "type": "barpolar"
           }
          ],
          "carpet": [
           {
            "aaxis": {
             "endlinecolor": "#2a3f5f",
             "gridcolor": "white",
             "linecolor": "white",
             "minorgridcolor": "white",
             "startlinecolor": "#2a3f5f"
            },
            "baxis": {
             "endlinecolor": "#2a3f5f",
             "gridcolor": "white",
             "linecolor": "white",
             "minorgridcolor": "white",
             "startlinecolor": "#2a3f5f"
            },
            "type": "carpet"
           }
          ],
          "choropleth": [
           {
            "colorbar": {
             "outlinewidth": 0,
             "ticks": ""
            },
            "type": "choropleth"
           }
          ],
          "contour": [
           {
            "colorbar": {
             "outlinewidth": 0,
             "ticks": ""
            },
            "colorscale": [
             [
              0,
              "#0d0887"
             ],
             [
              0.1111111111111111,
              "#46039f"
             ],
             [
              0.2222222222222222,
              "#7201a8"
             ],
             [
              0.3333333333333333,
              "#9c179e"
             ],
             [
              0.4444444444444444,
              "#bd3786"
             ],
             [
              0.5555555555555556,
              "#d8576b"
             ],
             [
              0.6666666666666666,
              "#ed7953"
             ],
             [
              0.7777777777777778,
              "#fb9f3a"
             ],
             [
              0.8888888888888888,
              "#fdca26"
             ],
             [
              1,
              "#f0f921"
             ]
            ],
            "type": "contour"
           }
          ],
          "contourcarpet": [
           {
            "colorbar": {
             "outlinewidth": 0,
             "ticks": ""
            },
            "type": "contourcarpet"
           }
          ],
          "heatmap": [
           {
            "colorbar": {
             "outlinewidth": 0,
             "ticks": ""
            },
            "colorscale": [
             [
              0,
              "#0d0887"
             ],
             [
              0.1111111111111111,
              "#46039f"
             ],
             [
              0.2222222222222222,
              "#7201a8"
             ],
             [
              0.3333333333333333,
              "#9c179e"
             ],
             [
              0.4444444444444444,
              "#bd3786"
             ],
             [
              0.5555555555555556,
              "#d8576b"
             ],
             [
              0.6666666666666666,
              "#ed7953"
             ],
             [
              0.7777777777777778,
              "#fb9f3a"
             ],
             [
              0.8888888888888888,
              "#fdca26"
             ],
             [
              1,
              "#f0f921"
             ]
            ],
            "type": "heatmap"
           }
          ],
          "heatmapgl": [
           {
            "colorbar": {
             "outlinewidth": 0,
             "ticks": ""
            },
            "colorscale": [
             [
              0,
              "#0d0887"
             ],
             [
              0.1111111111111111,
              "#46039f"
             ],
             [
              0.2222222222222222,
              "#7201a8"
             ],
             [
              0.3333333333333333,
              "#9c179e"
             ],
             [
              0.4444444444444444,
              "#bd3786"
             ],
             [
              0.5555555555555556,
              "#d8576b"
             ],
             [
              0.6666666666666666,
              "#ed7953"
             ],
             [
              0.7777777777777778,
              "#fb9f3a"
             ],
             [
              0.8888888888888888,
              "#fdca26"
             ],
             [
              1,
              "#f0f921"
             ]
            ],
            "type": "heatmapgl"
           }
          ],
          "histogram": [
           {
            "marker": {
             "pattern": {
              "fillmode": "overlay",
              "size": 10,
              "solidity": 0.2
             }
            },
            "type": "histogram"
           }
          ],
          "histogram2d": [
           {
            "colorbar": {
             "outlinewidth": 0,
             "ticks": ""
            },
            "colorscale": [
             [
              0,
              "#0d0887"
             ],
             [
              0.1111111111111111,
              "#46039f"
             ],
             [
              0.2222222222222222,
              "#7201a8"
             ],
             [
              0.3333333333333333,
              "#9c179e"
             ],
             [
              0.4444444444444444,
              "#bd3786"
             ],
             [
              0.5555555555555556,
              "#d8576b"
             ],
             [
              0.6666666666666666,
              "#ed7953"
             ],
             [
              0.7777777777777778,
              "#fb9f3a"
             ],
             [
              0.8888888888888888,
              "#fdca26"
             ],
             [
              1,
              "#f0f921"
             ]
            ],
            "type": "histogram2d"
           }
          ],
          "histogram2dcontour": [
           {
            "colorbar": {
             "outlinewidth": 0,
             "ticks": ""
            },
            "colorscale": [
             [
              0,
              "#0d0887"
             ],
             [
              0.1111111111111111,
              "#46039f"
             ],
             [
              0.2222222222222222,
              "#7201a8"
             ],
             [
              0.3333333333333333,
              "#9c179e"
             ],
             [
              0.4444444444444444,
              "#bd3786"
             ],
             [
              0.5555555555555556,
              "#d8576b"
             ],
             [
              0.6666666666666666,
              "#ed7953"
             ],
             [
              0.7777777777777778,
              "#fb9f3a"
             ],
             [
              0.8888888888888888,
              "#fdca26"
             ],
             [
              1,
              "#f0f921"
             ]
            ],
            "type": "histogram2dcontour"
           }
          ],
          "mesh3d": [
           {
            "colorbar": {
             "outlinewidth": 0,
             "ticks": ""
            },
            "type": "mesh3d"
           }
          ],
          "parcoords": [
           {
            "line": {
             "colorbar": {
              "outlinewidth": 0,
              "ticks": ""
             }
            },
            "type": "parcoords"
           }
          ],
          "pie": [
           {
            "automargin": true,
            "type": "pie"
           }
          ],
          "scatter": [
           {
            "fillpattern": {
             "fillmode": "overlay",
             "size": 10,
             "solidity": 0.2
            },
            "type": "scatter"
           }
          ],
          "scatter3d": [
           {
            "line": {
             "colorbar": {
              "outlinewidth": 0,
              "ticks": ""
             }
            },
            "marker": {
             "colorbar": {
              "outlinewidth": 0,
              "ticks": ""
             }
            },
            "type": "scatter3d"
           }
          ],
          "scattercarpet": [
           {
            "marker": {
             "colorbar": {
              "outlinewidth": 0,
              "ticks": ""
             }
            },
            "type": "scattercarpet"
           }
          ],
          "scattergeo": [
           {
            "marker": {
             "colorbar": {
              "outlinewidth": 0,
              "ticks": ""
             }
            },
            "type": "scattergeo"
           }
          ],
          "scattergl": [
           {
            "marker": {
             "colorbar": {
              "outlinewidth": 0,
              "ticks": ""
             }
            },
            "type": "scattergl"
           }
          ],
          "scattermapbox": [
           {
            "marker": {
             "colorbar": {
              "outlinewidth": 0,
              "ticks": ""
             }
            },
            "type": "scattermapbox"
           }
          ],
          "scatterpolar": [
           {
            "marker": {
             "colorbar": {
              "outlinewidth": 0,
              "ticks": ""
             }
            },
            "type": "scatterpolar"
           }
          ],
          "scatterpolargl": [
           {
            "marker": {
             "colorbar": {
              "outlinewidth": 0,
              "ticks": ""
             }
            },
            "type": "scatterpolargl"
           }
          ],
          "scatterternary": [
           {
            "marker": {
             "colorbar": {
              "outlinewidth": 0,
              "ticks": ""
             }
            },
            "type": "scatterternary"
           }
          ],
          "surface": [
           {
            "colorbar": {
             "outlinewidth": 0,
             "ticks": ""
            },
            "colorscale": [
             [
              0,
              "#0d0887"
             ],
             [
              0.1111111111111111,
              "#46039f"
             ],
             [
              0.2222222222222222,
              "#7201a8"
             ],
             [
              0.3333333333333333,
              "#9c179e"
             ],
             [
              0.4444444444444444,
              "#bd3786"
             ],
             [
              0.5555555555555556,
              "#d8576b"
             ],
             [
              0.6666666666666666,
              "#ed7953"
             ],
             [
              0.7777777777777778,
              "#fb9f3a"
             ],
             [
              0.8888888888888888,
              "#fdca26"
             ],
             [
              1,
              "#f0f921"
             ]
            ],
            "type": "surface"
           }
          ],
          "table": [
           {
            "cells": {
             "fill": {
              "color": "#EBF0F8"
             },
             "line": {
              "color": "white"
             }
            },
            "header": {
             "fill": {
              "color": "#C8D4E3"
             },
             "line": {
              "color": "white"
             }
            },
            "type": "table"
           }
          ]
         },
         "layout": {
          "annotationdefaults": {
           "arrowcolor": "#2a3f5f",
           "arrowhead": 0,
           "arrowwidth": 1
          },
          "autotypenumbers": "strict",
          "coloraxis": {
           "colorbar": {
            "outlinewidth": 0,
            "ticks": ""
           }
          },
          "colorscale": {
           "diverging": [
            [
             0,
             "#8e0152"
            ],
            [
             0.1,
             "#c51b7d"
            ],
            [
             0.2,
             "#de77ae"
            ],
            [
             0.3,
             "#f1b6da"
            ],
            [
             0.4,
             "#fde0ef"
            ],
            [
             0.5,
             "#f7f7f7"
            ],
            [
             0.6,
             "#e6f5d0"
            ],
            [
             0.7,
             "#b8e186"
            ],
            [
             0.8,
             "#7fbc41"
            ],
            [
             0.9,
             "#4d9221"
            ],
            [
             1,
             "#276419"
            ]
           ],
           "sequential": [
            [
             0,
             "#0d0887"
            ],
            [
             0.1111111111111111,
             "#46039f"
            ],
            [
             0.2222222222222222,
             "#7201a8"
            ],
            [
             0.3333333333333333,
             "#9c179e"
            ],
            [
             0.4444444444444444,
             "#bd3786"
            ],
            [
             0.5555555555555556,
             "#d8576b"
            ],
            [
             0.6666666666666666,
             "#ed7953"
            ],
            [
             0.7777777777777778,
             "#fb9f3a"
            ],
            [
             0.8888888888888888,
             "#fdca26"
            ],
            [
             1,
             "#f0f921"
            ]
           ],
           "sequentialminus": [
            [
             0,
             "#0d0887"
            ],
            [
             0.1111111111111111,
             "#46039f"
            ],
            [
             0.2222222222222222,
             "#7201a8"
            ],
            [
             0.3333333333333333,
             "#9c179e"
            ],
            [
             0.4444444444444444,
             "#bd3786"
            ],
            [
             0.5555555555555556,
             "#d8576b"
            ],
            [
             0.6666666666666666,
             "#ed7953"
            ],
            [
             0.7777777777777778,
             "#fb9f3a"
            ],
            [
             0.8888888888888888,
             "#fdca26"
            ],
            [
             1,
             "#f0f921"
            ]
           ]
          },
          "colorway": [
           "#636efa",
           "#EF553B",
           "#00cc96",
           "#ab63fa",
           "#FFA15A",
           "#19d3f3",
           "#FF6692",
           "#B6E880",
           "#FF97FF",
           "#FECB52"
          ],
          "font": {
           "color": "#2a3f5f"
          },
          "geo": {
           "bgcolor": "white",
           "lakecolor": "white",
           "landcolor": "#E5ECF6",
           "showlakes": true,
           "showland": true,
           "subunitcolor": "white"
          },
          "hoverlabel": {
           "align": "left"
          },
          "hovermode": "closest",
          "mapbox": {
           "style": "light"
          },
          "paper_bgcolor": "white",
          "plot_bgcolor": "#E5ECF6",
          "polar": {
           "angularaxis": {
            "gridcolor": "white",
            "linecolor": "white",
            "ticks": ""
           },
           "bgcolor": "#E5ECF6",
           "radialaxis": {
            "gridcolor": "white",
            "linecolor": "white",
            "ticks": ""
           }
          },
          "scene": {
           "xaxis": {
            "backgroundcolor": "#E5ECF6",
            "gridcolor": "white",
            "gridwidth": 2,
            "linecolor": "white",
            "showbackground": true,
            "ticks": "",
            "zerolinecolor": "white"
           },
           "yaxis": {
            "backgroundcolor": "#E5ECF6",
            "gridcolor": "white",
            "gridwidth": 2,
            "linecolor": "white",
            "showbackground": true,
            "ticks": "",
            "zerolinecolor": "white"
           },
           "zaxis": {
            "backgroundcolor": "#E5ECF6",
            "gridcolor": "white",
            "gridwidth": 2,
            "linecolor": "white",
            "showbackground": true,
            "ticks": "",
            "zerolinecolor": "white"
           }
          },
          "shapedefaults": {
           "line": {
            "color": "#2a3f5f"
           }
          },
          "ternary": {
           "aaxis": {
            "gridcolor": "white",
            "linecolor": "white",
            "ticks": ""
           },
           "baxis": {
            "gridcolor": "white",
            "linecolor": "white",
            "ticks": ""
           },
           "bgcolor": "#E5ECF6",
           "caxis": {
            "gridcolor": "white",
            "linecolor": "white",
            "ticks": ""
           }
          },
          "title": {
           "x": 0.05
          },
          "xaxis": {
           "automargin": true,
           "gridcolor": "white",
           "linecolor": "white",
           "ticks": "",
           "title": {
            "standoff": 15
           },
           "zerolinecolor": "white",
           "zerolinewidth": 2
          },
          "yaxis": {
           "automargin": true,
           "gridcolor": "white",
           "linecolor": "white",
           "ticks": "",
           "title": {
            "standoff": 15
           },
           "zerolinecolor": "white",
           "zerolinewidth": 2
          }
         }
        },
        "width": 1200,
        "xaxis": {
         "autorange": true,
         "range": [
          -0.5,
          1.5
         ],
         "type": "category"
        },
        "yaxis": {
         "range": [
          0,
          1
         ],
         "tickmode": "array",
         "title": {
          "font": {
           "size": 30
          }
         },
         "type": "linear"
        }
       }
      },
      "image/png": "[encoded data removed]"
     },
     "metadata": {},
     "output_type": "display_data"
    }
   ],
   "source": [
    "y0 = df.mse\n",
    "y1 = df.ssim\n",
    "\n",
    "fig = go.Figure()\n",
    "fig.add_trace(go.Box(y=y0, name='MSE',\n",
    "                marker_color = 'darkblue'))\n",
    "fig.add_trace(go.Box(y=y1, name = 'SSIM',\n",
    "                marker_color = 'royalblue'))\n",
    "fig.update_layout(\n",
    "    autosize=False,\n",
    "    width=1200,\n",
    "    height=900,\n",
    "    yaxis=dict(\n",
    "        # title_text=\"Y-axis Title\",\n",
    "        # ticktext=[\"Very long label\", \"long label\", \"3\", \"label\"],\n",
    "        # tickvals=,\n",
    "        tickmode=\"array\",\n",
    "        titlefont=dict(size=30),\n",
    "    ),\n",
    "    yaxis_range=[0,1],\n",
    "    font=dict(size=30),\n",
    ")\n",
    "fig.show(renderer=\"jupyterlab\")\n",
    "# fig.write_image('../figs/learned_decoder_cnn_mse_SSIM.png')"
   ]
  },
  {
   "cell_type": "markdown",
   "id": "f0142e25-a091-430d-acac-5a17be1d1fea",
   "metadata": {
    "jp-MarkdownHeadingCollapsed": true
   },
   "source": [
    "# Rotate the weights"
   ]
  },
  {
   "cell_type": "code",
   "execution_count": 42,
   "id": "60bdfa7f-37ad-4e49-95fe-7f355909a7c4",
   "metadata": {},
   "outputs": [
    {
     "data": {
      "text/plain": [
       "<matplotlib.image.AxesImage at 0x287a36510>"
      ]
     },
     "execution_count": 42,
     "metadata": {},
     "output_type": "execute_result"
    },
    {
     "data": {
      "image/png": "[encoded data removed]",
      "text/plain": [
       "<Figure size 640x480 with 1 Axes>"
      ]
     },
     "metadata": {},
     "output_type": "display_data"
    }
   ],
   "source": [
    "# Rotate the weights 180 degrees\n",
    "w_rot90 = torch.rot90(torch.Tensor(weight_map), 1, [0, 1])\n",
    "w_rot180 = torch.rot90(w_rot90, 1, [0, 1])\n",
    "plt.imshow(w_rot180, cmap='gray')"
   ]
  },
  {
   "cell_type": "code",
   "execution_count": 28,
   "id": "c70b6ff0-3648-4042-8979-bbf5d0725385",
   "metadata": {},
   "outputs": [],
   "source": [
    "padded_ex = torch.nn.functional.pad(loaders['train'].dataset[idx]['target'].unsqueeze(0), pad=(11,11,11,11), mode='circular')\n",
    "padded_ex = padded_ex.squeeze(0).squeeze(0)"
   ]
  },
  {
   "cell_type": "code",
   "execution_count": 34,
   "id": "576aa903-ae03-4e34-a87a-9657029465c9",
   "metadata": {},
   "outputs": [
    {
     "data": {
      "image/png": "[encoded data removed]",
      "text/plain": [
       "<Figure size 640x480 with 1 Axes>"
      ]
     },
     "metadata": {},
     "output_type": "display_data"
    }
   ],
   "source": [
    "plt.imshow(padded_ex, cmap='gray')\n",
    "plt.show()"
   ]
  },
  {
   "cell_type": "code",
   "execution_count": null,
   "id": "580f6709-a14d-494a-87a1-8962f84d4595",
   "metadata": {},
   "outputs": [],
   "source": []
  }
 ],
 "metadata": {
  "kernelspec": {
   "display_name": "Python 3 (ipykernel)",
   "language": "python",
   "name": "python3"
  },
  "language_info": {
   "codemirror_mode": {
    "name": "ipython",
    "version": 3
   },
   "file_extension": ".py",
   "mimetype": "text/x-python",
   "name": "python",
   "nbconvert_exporter": "python",
   "pygments_lexer": "ipython3",
   "version": "3.8.5"
  }
 },
 "nbformat": 4,
 "nbformat_minor": 5
}
