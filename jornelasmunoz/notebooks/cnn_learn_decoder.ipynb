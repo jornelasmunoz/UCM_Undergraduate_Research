{
 "cells": [
  {
   "cell_type": "markdown",
   "id": "3aab9e70-7dec-4acc-9d47-5d80aca06344",
   "metadata": {},
   "source": [
    "# Learned Decoder\n",
    "The purpose of this notebook is to train a CNN to learn the decoded for a Coded Aperture Imaging system"
   ]
  },
  {
   "cell_type": "markdown",
   "id": "4003e9e6-627a-4de5-a2b1-888216e1b444",
   "metadata": {},
   "source": [
    "## Import libraries"
   ]
  },
  {
   "cell_type": "code",
   "execution_count": 1,
   "id": "5283d75d-8a66-4b82-92b2-5c1ae2ac60d7",
   "metadata": {
    "tags": []
   },
   "outputs": [],
   "source": [
    "%load_ext autoreload\n",
    "%autoreload 2"
   ]
  },
  {
   "cell_type": "code",
   "execution_count": 2,
   "id": "18a98262-0eb9-4894-a91b-6c1ac2c0b165",
   "metadata": {
    "tags": []
   },
   "outputs": [
    {
     "name": "stdout",
     "output_type": "stream",
     "text": [
      "Using path =  /Users/jornelasmunoz/Desktop/UC Merced/Research/coded-aperture/jornelasmunoz/\n",
      "Using cpu device\n"
     ]
    }
   ],
   "source": [
    "import os, sys\n",
    "import numpy as np\n",
    "import pandas as pd\n",
    "import matplotlib.pyplot as plt\n",
    "import seaborn as sns\n",
    "\n",
    "import torchvision\n",
    "import torchvision.transforms as transforms\n",
    "import torch\n",
    "from torch.utils.data import DataLoader\n",
    "\n",
    "import wandb\n",
    "import datetime\n",
    "desktop_path = '/Users/jornelasmunoz/Desktop/UC Merced/Research/coded-aperture/jornelasmunoz/'\n",
    "laptop_path = '/Users/jocelynornelas/iCloud Drive (Archive)/Desktop/UC Merced/Research/coded-aperture/jornelasmunoz/'\n",
    "if desktop_path in sys.path[0]: sys.path.insert(0, desktop_path + 'lib/'); path = desktop_path\n",
    "elif laptop_path in sys.path[0]: sys.path.insert(0, laptop_path + 'lib/'); path = laptop_path\n",
    "print('Using path = ', path)\n",
    "\n",
    "from dataset import MNIST_MURA, FashionMURA\n",
    "from utils.data import load_data\n",
    "from utils.transforms import Noise_dB, Normalize_01\n",
    "from reconstruct import RECON_CNN\n",
    "# # Change plotting parameters\n",
    "# plt.rcParams.update({\n",
    "#     \"text.usetex\": True,\n",
    "#     \"font.family\": \"Times\", #\"Computer Modern Serif\"\n",
    "#     \"figure.figsize\" : [15,10],\n",
    "# })\n",
    "\n",
    "device = \"cuda\" if torch.cuda.is_available() else \"cpu\"\n",
    "print(f\"Using {device} device\")\n",
    "\n",
    "# Log into WandB\n",
    "# wandb.login()"
   ]
  },
  {
   "cell_type": "code",
   "execution_count": 3,
   "id": "f5f1e161-55f9-44fe-bf66-0f6ad3bd75e7",
   "metadata": {
    "tags": []
   },
   "outputs": [
    {
     "name": "stderr",
     "output_type": "stream",
     "text": [
      "\u001b[34m\u001b[1mwandb\u001b[0m: Currently logged in as: \u001b[33mjocelynornelasmunoz\u001b[0m. Use \u001b[1m`wandb login --relogin`\u001b[0m to force relogin\n"
     ]
    },
    {
     "data": {
      "text/plain": [
       "True"
      ]
     },
     "execution_count": 3,
     "metadata": {},
     "output_type": "execute_result"
    }
   ],
   "source": [
    "# Log into WandB for logging project training runs\n",
    "wandb.login()"
   ]
  },
  {
   "cell_type": "markdown",
   "id": "746ef804-bc60-4ab1-8b9c-1df023866756",
   "metadata": {},
   "source": [
    "## Define hyperparameters and load data"
   ]
  },
  {
   "cell_type": "code",
   "execution_count": 4,
   "id": "49c063d5-6039-4ab2-a865-b7ae6655c583",
   "metadata": {
    "tags": []
   },
   "outputs": [
    {
     "name": "stdout",
     "output_type": "stream",
     "text": [
      "Using the following parameters:\n",
      "image_size: 23\n",
      "batch_size: 100\n",
      "learning_rate: 0.001\n",
      "epochs: 10\n",
      "model: decoder_cnn_2024-03-21_16-37-36\n",
      "dataset: MNIST_mura_noiseless\n",
      "scheduler_patience: 1\n",
      "snr: None\n"
     ]
    },
    {
     "ename": "TypeError",
     "evalue": "new() received an invalid combination of arguments - got (Tensor, dtype=torch.dtype), but expected one of:\n * (*, torch.device device)\n      didn't match because some of the keywords were incorrect: dtype\n * (torch.Storage storage)\n * (Tensor other)\n * (tuple of ints size, *, torch.device device)\n * (object data, *, torch.device device)\n",
     "output_type": "error",
     "traceback": [
      "\u001b[0;31m---------------------------------------------------------------------------\u001b[0m",
      "\u001b[0;31mTypeError\u001b[0m                                 Traceback (most recent call last)",
      "Cell \u001b[0;32mIn[4], line 20\u001b[0m\n\u001b[1;32m     17\u001b[0m wandb\u001b[38;5;241m.\u001b[39mconfig \u001b[38;5;241m=\u001b[39m params\n\u001b[1;32m     19\u001b[0m \u001b[38;5;66;03m# Load data\u001b[39;00m\n\u001b[0;32m---> 20\u001b[0m train_data, test_data, loaders \u001b[38;5;241m=\u001b[39m load_data(params)\n",
      "File \u001b[0;32m~/Desktop/UC Merced/Research/coded-aperture/jornelasmunoz/lib/utils/data.py:42\u001b[0m, in \u001b[0;36mload_data\u001b[0;34m(params)\u001b[0m\n\u001b[1;32m     40\u001b[0m \u001b[38;5;66;03m# Load Data\u001b[39;00m\n\u001b[1;32m     41\u001b[0m \u001b[38;5;28;01mif\u001b[39;00m dataset \u001b[38;5;241m==\u001b[39m \u001b[38;5;124m'\u001b[39m\u001b[38;5;124mMNIST\u001b[39m\u001b[38;5;124m'\u001b[39m:\n\u001b[0;32m---> 42\u001b[0m     train_data \u001b[38;5;241m=\u001b[39m MNIST_MURA(\u001b[38;5;124m'\u001b[39m\u001b[38;5;124m../data/MNIST/\u001b[39m\u001b[38;5;124m'\u001b[39m, params, transform\u001b[38;5;241m=\u001b[39mtrain_transform, target_transform\u001b[38;5;241m=\u001b[39mtarget_transform, train\u001b[38;5;241m=\u001b[39m\u001b[38;5;28;01mTrue\u001b[39;00m)\n\u001b[1;32m     43\u001b[0m     test_data  \u001b[38;5;241m=\u001b[39m MNIST_MURA(\u001b[38;5;124m'\u001b[39m\u001b[38;5;124m../data/MNIST/\u001b[39m\u001b[38;5;124m'\u001b[39m, params, transform\u001b[38;5;241m=\u001b[39mtrain_transform, target_transform\u001b[38;5;241m=\u001b[39mtarget_transform, train\u001b[38;5;241m=\u001b[39m\u001b[38;5;28;01mFalse\u001b[39;00m)\n\u001b[1;32m     45\u001b[0m \u001b[38;5;28;01melif\u001b[39;00m dataset \u001b[38;5;241m==\u001b[39m \u001b[38;5;124m'\u001b[39m\u001b[38;5;124mFashionMNIST\u001b[39m\u001b[38;5;124m'\u001b[39m:\n",
      "File \u001b[0;32m~/Desktop/UC Merced/Research/coded-aperture/jornelasmunoz/lib/dataset.py:85\u001b[0m, in \u001b[0;36mMNIST_MURA.__init__\u001b[0;34m(self, root, params, train, transform, target_transform, download)\u001b[0m\n\u001b[1;32m     82\u001b[0m     \u001b[38;5;28;01mraise\u001b[39;00m \u001b[38;5;167;01mRuntimeError\u001b[39;00m(\u001b[38;5;124m'\u001b[39m\u001b[38;5;124mDataset not found.\u001b[39m\u001b[38;5;124m'\u001b[39m \u001b[38;5;241m+\u001b[39m\n\u001b[1;32m     83\u001b[0m                        \u001b[38;5;124m'\u001b[39m\u001b[38;5;124m You can use download=True to download it\u001b[39m\u001b[38;5;124m'\u001b[39m)\n\u001b[1;32m     84\u001b[0m \u001b[38;5;66;03m# Load data\u001b[39;00m\n\u001b[0;32m---> 85\u001b[0m \u001b[38;5;28mself\u001b[39m\u001b[38;5;241m.\u001b[39mdata, \u001b[38;5;28mself\u001b[39m\u001b[38;5;241m.\u001b[39mtargets, \u001b[38;5;28mself\u001b[39m\u001b[38;5;241m.\u001b[39mdigits \u001b[38;5;241m=\u001b[39m \u001b[38;5;28mself\u001b[39m\u001b[38;5;241m.\u001b[39m_load_data()\n",
      "File \u001b[0;32m~/Desktop/UC Merced/Research/coded-aperture/jornelasmunoz/lib/dataset.py:118\u001b[0m, in \u001b[0;36mMNIST_MURA._load_data\u001b[0;34m(self)\u001b[0m\n\u001b[1;32m    116\u001b[0m mura_data \u001b[38;5;241m=\u001b[39m torch\u001b[38;5;241m.\u001b[39mempty(data_resized\u001b[38;5;241m.\u001b[39msize())\n\u001b[1;32m    117\u001b[0m \u001b[38;5;28;01mfor\u001b[39;00m idx, img \u001b[38;5;129;01min\u001b[39;00m \u001b[38;5;28menumerate\u001b[39m(data_resized):\n\u001b[0;32m--> 118\u001b[0m     mura_data[idx] \u001b[38;5;241m=\u001b[39m torch\u001b[38;5;241m.\u001b[39mTensor(mura\u001b[38;5;241m.\u001b[39mnormalize(\n\u001b[1;32m    119\u001b[0m                         mura\u001b[38;5;241m.\u001b[39mFFT_convolve(img\u001b[38;5;241m.\u001b[39msqueeze(\u001b[38;5;241m0\u001b[39m), \u001b[38;5;28mself\u001b[39m\u001b[38;5;241m.\u001b[39mA,\u001b[38;5;28mself\u001b[39m\u001b[38;5;241m.\u001b[39mimage_size)),\n\u001b[1;32m    120\u001b[0m                         dtype\u001b[38;5;241m=\u001b[39m torch\u001b[38;5;241m.\u001b[39mfloat)\n\u001b[1;32m    121\u001b[0m                     \u001b[38;5;66;03m#mura.FFT_convolve(img.squeeze(0), self.A,self.image_size)\u001b[39;00m\n\u001b[1;32m    123\u001b[0m label_file \u001b[38;5;241m=\u001b[39m \u001b[38;5;124mf\u001b[39m\u001b[38;5;124m\"\u001b[39m\u001b[38;5;132;01m{\u001b[39;00m\u001b[38;5;124m'\u001b[39m\u001b[38;5;124mtrain\u001b[39m\u001b[38;5;124m'\u001b[39m\u001b[38;5;250m \u001b[39m\u001b[38;5;28;01mif\u001b[39;00m\u001b[38;5;250m \u001b[39m\u001b[38;5;28mself\u001b[39m\u001b[38;5;241m.\u001b[39mtrain\u001b[38;5;250m \u001b[39m\u001b[38;5;28;01melse\u001b[39;00m\u001b[38;5;250m \u001b[39m\u001b[38;5;124m'\u001b[39m\u001b[38;5;124mt10k\u001b[39m\u001b[38;5;124m'\u001b[39m\u001b[38;5;132;01m}\u001b[39;00m\u001b[38;5;124m-labels-idx1-ubyte\u001b[39m\u001b[38;5;124m\"\u001b[39m\n",
      "\u001b[0;31mTypeError\u001b[0m: new() received an invalid combination of arguments - got (Tensor, dtype=torch.dtype), but expected one of:\n * (*, torch.device device)\n      didn't match because some of the keywords were incorrect: dtype\n * (torch.Storage storage)\n * (Tensor other)\n * (tuple of ints size, *, torch.device device)\n * (object data, *, torch.device device)\n"
     ]
    }
   ],
   "source": [
    "# Params dictionary for model params and logging experiments\n",
    "date = datetime.datetime.now().strftime(\"%Y-%m-%d_%H-%M-%S\") #str(datetime.datetime.now().date())\n",
    "params = {\n",
    "    \"image_size\": 23,\n",
    "    \"batch_size\":100,\n",
    "    \"learning_rate\": 0.001, \n",
    "    \"epochs\": 10,\n",
    "    \"model\": f\"decoder_cnn_{date}\",\n",
    "    \"dataset\": \"MNIST_mura_noiseless\",\n",
    "    \"scheduler_patience\": 1,\n",
    "    \"snr\": None,\n",
    "    # \"loss\": None\n",
    "}\n",
    "\n",
    "if params['image_size'] != 23:\n",
    "    params['model'] = f\"decoder_cnn_{date}_{params['image_size']}x{params['image_size']}_{params['dataset']}\"\n",
    "wandb.config = params\n",
    "\n",
    "# Load data\n",
    "train_data, test_data, loaders = load_data(params)"
   ]
  },
  {
   "cell_type": "code",
   "execution_count": null,
   "id": "03cb474b-aa5d-4c2c-8b5a-10bb3638cb17",
   "metadata": {},
   "outputs": [],
   "source": [
    "# Visualize data\n",
    "fig, axs = plt.subplots(1,2, figsize=(12,7))\n",
    "idx=0\n",
    "img = train_data.data[idx]\n",
    "target = train_data.targets[idx]\n",
    "sns.heatmap(img, cmap= 'gray', ax=axs[0])\n",
    "sns.heatmap(target, cmap= 'gray', ax=axs[1])\n",
    "# axs[0].axis('off')\n",
    "# axs[1].axis('off')\n",
    "axs[0].set_title(\"Training Data\")\n",
    "axs[1].set_title(\"Target\")\n",
    "# plt.savefig(model.RUN_DIR+'/example.png', dpi=400)\n",
    "plt.show()"
   ]
  },
  {
   "cell_type": "code",
   "execution_count": 5,
   "id": "ebe91960-82ee-4bea-a546-6383b37bb020",
   "metadata": {},
   "outputs": [
    {
     "data": {
      "text/plain": [
       "<Axes: ylabel='Count'>"
      ]
     },
     "execution_count": 5,
     "metadata": {},
     "output_type": "execute_result"
    },
    {
     "data": {
      "image/png": "[encoded data removed]",
      "text/plain": [
       "<Figure size 640x480 with 1 Axes>"
      ]
     },
     "metadata": {},
     "output_type": "display_data"
    }
   ],
   "source": [
    "avg_vals = [train_data.data[i].max().item()/train_data.targets[i].max().item() for i in range(len(train_data.data))]\n",
    "sns.histplot(avg_vals)"
   ]
  },
  {
   "cell_type": "code",
   "execution_count": 6,
   "id": "a375bbe1-a550-4441-9d74-5b33113e309c",
   "metadata": {},
   "outputs": [
    {
     "data": {
      "text/plain": [
       "<Axes: ylabel='Count'>"
      ]
     },
     "execution_count": 6,
     "metadata": {},
     "output_type": "execute_result"
    },
    {
     "data": {
      "image/png": "[encoded data removed]",
      "text/plain": [
       "<Figure size 640x480 with 1 Axes>"
      ]
     },
     "metadata": {},
     "output_type": "display_data"
    }
   ],
   "source": [
    "sums = [train_data.data[i].sum().item()/train_data.targets[i].sum().item() for i in range(len(train_data.data))]\n",
    "sns.histplot(sums)"
   ]
  },
  {
   "cell_type": "code",
   "execution_count": 7,
   "id": "e100be67-3cc2-42e3-9aa2-370928408ff4",
   "metadata": {},
   "outputs": [
    {
     "data": {
      "text/plain": [
       "tensor(1.)"
      ]
     },
     "execution_count": 7,
     "metadata": {},
     "output_type": "execute_result"
    }
   ],
   "source": [
    "train_data.G.sum()"
   ]
  },
  {
   "cell_type": "code",
   "execution_count": 8,
   "id": "88d74f44-b631-49ee-a882-a8bf2743d8a0",
   "metadata": {},
   "outputs": [
    {
     "data": {
      "text/plain": [
       "tensor(72.8431)"
      ]
     },
     "execution_count": 8,
     "metadata": {},
     "output_type": "execute_result"
    }
   ],
   "source": [
    "target.sum()"
   ]
  },
  {
   "cell_type": "code",
   "execution_count": 9,
   "id": "54d06bad-42c3-4589-ae19-e2f743c090b4",
   "metadata": {},
   "outputs": [
    {
     "data": {
      "text/plain": [
       "tensor(0.2857)"
      ]
     },
     "execution_count": 9,
     "metadata": {},
     "output_type": "execute_result"
    }
   ],
   "source": [
    "img.sum()/train_data.A.sum()"
   ]
  },
  {
   "cell_type": "code",
   "execution_count": 10,
   "id": "b8161703-868a-4d25-a3a6-5f2543753244",
   "metadata": {},
   "outputs": [
    {
     "data": {
      "text/plain": [
       "tensor(1.0353)"
      ]
     },
     "execution_count": 10,
     "metadata": {},
     "output_type": "execute_result"
    }
   ],
   "source": [
    "img.sum()/target.sum()"
   ]
  },
  {
   "cell_type": "markdown",
   "id": "24af062d-09da-4c93-9694-c05e6e4c0032",
   "metadata": {},
   "source": [
    "# Define Model"
   ]
  },
  {
   "cell_type": "code",
   "execution_count": 11,
   "id": "158ff68d-be2d-4f2b-a3d6-7ebbac1975f3",
   "metadata": {
    "tags": []
   },
   "outputs": [
    {
     "name": "stdout",
     "output_type": "stream",
     "text": [
      "Using the following parameters:\n",
      "image_size: 23\n",
      "batch_size: 100\n",
      "learning_rate: 0.001\n",
      "epochs: 10\n",
      "model: decoder_cnn_2024-03-21_14-41-51\n",
      "dataset: MNIST_mura_noiseless\n",
      "scheduler_patience: 1\n",
      "snr: None\n",
      "kernel_size: 23\n",
      "loss: MSELoss()\n",
      "model_save_path: ../runs/decoder_cnn_2024-03-21_14-41-51/decoder_cnn_2024-03-21_14-41-51.pth\n"
     ]
    },
    {
     "data": {
      "text/plain": [
       "RECON_CNN(\n",
       "  (criterion): MSELoss()\n",
       "  (conv): Conv2d(1, 1, kernel_size=(23, 23), stride=(1, 1), padding=same, bias=False, padding_mode=circular)\n",
       ")"
      ]
     },
     "execution_count": 11,
     "metadata": {},
     "output_type": "execute_result"
    }
   ],
   "source": [
    "# Instantiate model \n",
    "model = RECON_CNN(params)#.to(device)\n",
    "model.apply(model.weights_init)"
   ]
  },
  {
   "cell_type": "code",
   "execution_count": 12,
   "id": "d441b5c2-5428-4122-82fd-e854251bcfde",
   "metadata": {
    "scrolled": true,
    "tags": []
   },
   "outputs": [
    {
     "name": "stdout",
     "output_type": "stream",
     "text": [
      "../runs/decoder_cnn_2024-03-21_14-41-51\n",
      "Initial weights Shape: torch.Size([1, 1, 23, 23])\n"
     ]
    },
    {
     "data": {
      "image/png": "[encoded data removed]",
      "text/plain": [
       "<Figure size 1500x1500 with 2 Axes>"
      ]
     },
     "metadata": {},
     "output_type": "display_data"
    },
    {
     "name": "stdout",
     "output_type": "stream",
     "text": [
      "Target weights shape: torch.Size([23, 23])\n"
     ]
    },
    {
     "data": {
      "image/png": "[encoded data removed]",
      "text/plain": [
       "<Figure size 1500x1500 with 2 Axes>"
      ]
     },
     "metadata": {},
     "output_type": "display_data"
    }
   ],
   "source": [
    "## Plot initial weights\n",
    "# RUN_DIR = path+f'runs/{model.params[\"model\"]}/'\n",
    "# if not os.path.exists(RUN_DIR):\n",
    "#     os.makedirs(RUN_DIR)\n",
    "print(model.RUN_DIR)\n",
    "# ----------- Plot initial weights and target weights---- \n",
    "# From Jacky's SAR stuff\n",
    "# Define initial weights from the CNN model\n",
    "init_weights = list(model.parameters())\n",
    "init_weight_map = init_weights[0].detach()\n",
    "print('Initial weights Shape: {}'.format(init_weights[0].shape))\n",
    "\n",
    "# Plot initial weights\n",
    "plt.figure(figsize=(15,15))\n",
    "heat = sns.heatmap(np.squeeze(init_weight_map.cpu().numpy()), cmap='gray')\n",
    "figure = heat.get_figure()\n",
    "figure.savefig(model.RUN_DIR+f'/heat_init_weights.png',dpi=400)\n",
    "#plt.close()\n",
    "plt.show()\n",
    "\n",
    "# Define and plot target weights\n",
    "target_weights = train_data.G\n",
    "print('Target weights shape: {}'.format(target_weights.shape))\n",
    "plt.figure(figsize=(15,15))\n",
    "heat = sns.heatmap(target_weights, cmap='gray')\n",
    "figure = heat.get_figure()\n",
    "figure.savefig(model.RUN_DIR+'/heat_target_weights.png',dpi=400)\n",
    "#plt.close()\n",
    "plt.show()"
   ]
  },
  {
   "cell_type": "code",
   "execution_count": 13,
   "id": "900cc389-487e-4fab-a03e-847a46dbf3e3",
   "metadata": {
    "tags": []
   },
   "outputs": [
    {
     "data": {
      "image/png": "[encoded data removed]",
      "text/plain": [
       "<Figure size 1200x700 with 4 Axes>"
      ]
     },
     "metadata": {},
     "output_type": "display_data"
    }
   ],
   "source": [
    "# Visualize data\n",
    "fig, axs = plt.subplots(1,2, figsize=(12,7))\n",
    "idx=10\n",
    "sns.heatmap(loaders['train'].dataset[idx]['target'].squeeze(0), cmap= 'gray', ax=axs[0])\n",
    "sns.heatmap(loaders['train'].dataset[idx]['img'].squeeze(0), cmap= 'gray', ax=axs[1])\n",
    "# axs[0].axis('off')\n",
    "# axs[1].axis('off')\n",
    "plt.savefig(model.RUN_DIR+'/example.png', dpi=400)\n",
    "plt.show()"
   ]
  },
  {
   "cell_type": "markdown",
   "id": "be7c38c9-e862-43a9-b155-750b4d131338",
   "metadata": {},
   "source": [
    "# Training"
   ]
  },
  {
   "cell_type": "code",
   "execution_count": 14,
   "id": "3c876fc9-e3d7-4489-a0b8-d06922820f1e",
   "metadata": {
    "scrolled": true,
    "tags": []
   },
   "outputs": [
    {
     "data": {
      "text/html": [
       "wandb version 0.16.4 is available!  To upgrade, please run:\n",
       " $ pip install wandb --upgrade"
      ],
      "text/plain": [
       "<IPython.core.display.HTML object>"
      ]
     },
     "metadata": {},
     "output_type": "display_data"
    },
    {
     "data": {
      "text/html": [
       "Tracking run with wandb version 0.15.12"
      ],
      "text/plain": [
       "<IPython.core.display.HTML object>"
      ]
     },
     "metadata": {},
     "output_type": "display_data"
    },
    {
     "data": {
      "text/html": [
       "Run data is saved locally in <code>/Users/jornelasmunoz/Desktop/UC Merced/Research/coded-aperture/jornelasmunoz/notebooks/wandb/run-20240321_144254-u748f6ea</code>"
      ],
      "text/plain": [
       "<IPython.core.display.HTML object>"
      ]
     },
     "metadata": {},
     "output_type": "display_data"
    },
    {
     "data": {
      "text/html": [
       "Syncing run <strong><a href='https://wandb.ai/jocelynornelasmunoz/ca-learned-decoder/runs/u748f6ea' target=\"_blank\">2024-03-21 14:42:54.423690</a></strong> to <a href='https://wandb.ai/jocelynornelasmunoz/ca-learned-decoder' target=\"_blank\">Weights & Biases</a> (<a href='https://wandb.me/run' target=\"_blank\">docs</a>)<br/>"
      ],
      "text/plain": [
       "<IPython.core.display.HTML object>"
      ]
     },
     "metadata": {},
     "output_type": "display_data"
    },
    {
     "data": {
      "text/html": [
       " View project at <a href='https://wandb.ai/jocelynornelasmunoz/ca-learned-decoder' target=\"_blank\">https://wandb.ai/jocelynornelasmunoz/ca-learned-decoder</a>"
      ],
      "text/plain": [
       "<IPython.core.display.HTML object>"
      ]
     },
     "metadata": {},
     "output_type": "display_data"
    },
    {
     "data": {
      "text/html": [
       " View run at <a href='https://wandb.ai/jocelynornelasmunoz/ca-learned-decoder/runs/u748f6ea' target=\"_blank\">https://wandb.ai/jocelynornelasmunoz/ca-learned-decoder/runs/u748f6ea</a>"
      ],
      "text/plain": [
       "<IPython.core.display.HTML object>"
      ]
     },
     "metadata": {},
     "output_type": "display_data"
    },
    {
     "name": "stdout",
     "output_type": "stream",
     "text": [
      "Epoch: 0, batch 1\n",
      "Epoch: 0, batch 2\n",
      "Epoch: 0, batch 3\n",
      "Epoch: 0, batch 4\n",
      "Epoch: 0, batch 5\n",
      "Epoch: 0, batch 6\n",
      "Epoch: 0, batch 7\n",
      "Epoch: 0, batch 8\n",
      "Epoch: 0, batch 9\n",
      "Epoch: 0, batch 10\n",
      "Epoch: 0, batch 11\n",
      "Epoch: 0, batch 12\n",
      "Epoch: 0, batch 13\n",
      "Epoch: 0, batch 14\n",
      "Epoch: 0, batch 15\n",
      "Epoch: 0, batch 16\n",
      "Epoch: 0, batch 17\n",
      "Epoch: 0, batch 18\n",
      "Epoch: 0, batch 19\n",
      "Epoch: 0, batch 20\n",
      "Epoch: 0, batch 21\n",
      "Epoch: 0, batch 22\n",
      "Epoch: 0, batch 23\n",
      "Epoch: 0, batch 24\n",
      "Epoch: 0, batch 25\n",
      "Epoch: 0, batch 26\n",
      "Epoch: 0, batch 27\n",
      "Epoch: 0, batch 28\n",
      "Epoch: 0, batch 29\n",
      "Epoch: 0, batch 30\n",
      "Epoch: 0, batch 31\n",
      "Epoch: 0, batch 32\n",
      "Epoch: 0, batch 33\n",
      "Epoch: 0, batch 34\n",
      "Epoch: 0, batch 35\n",
      "Epoch: 0, batch 36\n",
      "Epoch: 0, batch 37\n",
      "Epoch: 0, batch 38\n",
      "Epoch: 0, batch 39\n",
      "Epoch: 0, batch 40\n",
      "Epoch: 0, batch 41\n",
      "Epoch: 0, batch 42\n",
      "Epoch: 0, batch 43\n",
      "Epoch: 0, batch 44\n",
      "Epoch: 0, batch 45\n",
      "Epoch: 0, batch 46\n",
      "Epoch: 0, batch 47\n",
      "Epoch: 0, batch 48\n",
      "Epoch: 0, batch 49\n",
      "Epoch: 0, batch 50\n",
      "Epoch: 0, batch 51\n",
      "Epoch: 0, batch 52\n",
      "Epoch: 0, batch 53\n",
      "Epoch: 0, batch 54\n",
      "Epoch: 0, batch 55\n",
      "Epoch: 0, batch 56\n",
      "Epoch: 0, batch 57\n",
      "Epoch: 0, batch 58\n",
      "Epoch: 0, batch 59\n",
      "Epoch: 0, batch 60\n",
      "Epoch: 0, batch 61\n",
      "Epoch: 0, batch 62\n",
      "Epoch: 0, batch 63\n",
      "Epoch: 0, batch 64\n",
      "Epoch: 0, batch 65\n",
      "Epoch: 0, batch 66\n",
      "Epoch: 0, batch 67\n",
      "Epoch: 0, batch 68\n",
      "Epoch: 0, batch 69\n",
      "Epoch: 0, batch 70\n",
      "Epoch: 0, batch 71\n",
      "Epoch: 0, batch 72\n",
      "Epoch: 0, batch 73\n",
      "Epoch: 0, batch 74\n",
      "Epoch: 0, batch 75\n",
      "Epoch: 0, batch 76\n",
      "Epoch: 0, batch 77\n",
      "Epoch: 0, batch 78\n",
      "Epoch: 0, batch 79\n",
      "Epoch: 0, batch 80\n",
      "Epoch: 0, batch 81\n",
      "Epoch: 0, batch 82\n",
      "Epoch: 0, batch 83\n",
      "Epoch: 0, batch 84\n",
      "Epoch: 0, batch 85\n",
      "Epoch: 0, batch 86\n",
      "Epoch: 0, batch 87\n",
      "Epoch: 0, batch 88\n",
      "Epoch: 0, batch 89\n",
      "Epoch: 0, batch 90\n",
      "Epoch: 0, batch 91\n",
      "Epoch: 0, batch 92\n",
      "Epoch: 0, batch 93\n",
      "Epoch: 0, batch 94\n",
      "Epoch: 0, batch 95\n",
      "Epoch: 0, batch 96\n",
      "Epoch: 0, batch 97\n",
      "Epoch: 0, batch 98\n",
      "Epoch: 0, batch 99\n",
      "Epoch: 0, batch 100\n",
      "Epoch: 0, batch 101\n",
      "Epoch: 0, batch 102\n",
      "Epoch: 0, batch 103\n",
      "Epoch: 0, batch 104\n",
      "Epoch: 0, batch 105\n",
      "Epoch: 0, batch 106\n",
      "Epoch: 0, batch 107\n",
      "Epoch: 0, batch 108\n",
      "Epoch: 0, batch 109\n",
      "Epoch: 0, batch 110\n",
      "Epoch: 0, batch 111\n",
      "Epoch: 0, batch 112\n",
      "Epoch: 0, batch 113\n",
      "Epoch: 0, batch 114\n",
      "Epoch: 0, batch 115\n",
      "Epoch: 0, batch 116\n",
      "Epoch: 0, batch 117\n",
      "Epoch: 0, batch 118\n",
      "Epoch: 0, batch 119\n",
      "Epoch: 0, batch 120\n",
      "Epoch: 0, batch 121\n",
      "Epoch: 0, batch 122\n",
      "Epoch: 0, batch 123\n",
      "Epoch: 0, batch 124\n",
      "Epoch: 0, batch 125\n",
      "Epoch: 0, batch 126\n",
      "Epoch: 0, batch 127\n",
      "Epoch: 0, batch 128\n",
      "Epoch: 0, batch 129\n",
      "Epoch: 0, batch 130\n",
      "Epoch: 0, batch 131\n",
      "Epoch: 0, batch 132\n",
      "Epoch: 0, batch 133\n",
      "Epoch: 0, batch 134\n",
      "Epoch: 0, batch 135\n",
      "Epoch: 0, batch 136\n",
      "Epoch: 0, batch 137\n",
      "Epoch: 0, batch 138\n",
      "Epoch: 0, batch 139\n",
      "Epoch: 0, batch 140\n",
      "Epoch: 0, batch 141\n",
      "Epoch: 0, batch 142\n",
      "Epoch: 0, batch 143\n",
      "Epoch: 0, batch 144\n",
      "Epoch: 0, batch 145\n",
      "Epoch: 0, batch 146\n",
      "Epoch: 0, batch 147\n",
      "Epoch: 0, batch 148\n",
      "Epoch: 0, batch 149\n",
      "Epoch: 0, batch 150\n",
      "Epoch: 0, batch 151\n",
      "Epoch: 0, batch 152\n",
      "Epoch: 0, batch 153\n",
      "Epoch: 0, batch 154\n",
      "Epoch: 0, batch 155\n",
      "Epoch: 0, batch 156\n",
      "Epoch: 0, batch 157\n",
      "Epoch: 0, batch 158\n",
      "Epoch: 0, batch 159\n",
      "Epoch: 0, batch 160\n",
      "Epoch: 0, batch 161\n",
      "Epoch: 0, batch 162\n",
      "Epoch: 0, batch 163\n",
      "Epoch: 0, batch 164\n",
      "Epoch: 0, batch 165\n",
      "Epoch: 0, batch 166\n",
      "Epoch: 0, batch 167\n",
      "Epoch: 0, batch 168\n",
      "Epoch: 0, batch 169\n",
      "Epoch: 0, batch 170\n",
      "Epoch: 0, batch 171\n",
      "Epoch: 0, batch 172\n",
      "Epoch: 0, batch 173\n",
      "Epoch: 0, batch 174\n",
      "Epoch: 0, batch 175\n",
      "Epoch: 0, batch 176\n",
      "Epoch: 0, batch 177\n",
      "Epoch: 0, batch 178\n",
      "Epoch: 0, batch 179\n",
      "Epoch: 0, batch 180\n",
      "Epoch: 0, batch 181\n",
      "Epoch: 0, batch 182\n",
      "Epoch: 0, batch 183\n",
      "Epoch: 0, batch 184\n",
      "Epoch: 0, batch 185\n",
      "Epoch: 0, batch 186\n",
      "Epoch: 0, batch 187\n",
      "Epoch: 0, batch 188\n",
      "Epoch: 0, batch 189\n",
      "Epoch: 0, batch 190\n",
      "Epoch: 0, batch 191\n",
      "Epoch: 0, batch 192\n",
      "Epoch: 0, batch 193\n",
      "Epoch: 0, batch 194\n",
      "Epoch: 0, batch 195\n",
      "Epoch: 0, batch 196\n",
      "Epoch: 0, batch 197\n",
      "Epoch: 0, batch 198\n",
      "Epoch: 0, batch 199\n",
      "Epoch: 0, batch 200\n",
      "Epoch: 0, batch 201\n",
      "Epoch: 0, batch 202\n",
      "Epoch: 0, batch 203\n",
      "Epoch: 0, batch 204\n",
      "Epoch: 0, batch 205\n",
      "Epoch: 0, batch 206\n",
      "Epoch: 0, batch 207\n",
      "Epoch: 0, batch 208\n",
      "Epoch: 0, batch 209\n",
      "Epoch: 0, batch 210\n",
      "Epoch: 0, batch 211\n",
      "Epoch: 0, batch 212\n",
      "Epoch: 0, batch 213\n",
      "Epoch: 0, batch 214\n",
      "Epoch: 0, batch 215\n",
      "Epoch: 0, batch 216\n",
      "Epoch: 0, batch 217\n",
      "Epoch: 0, batch 218\n",
      "Epoch: 0, batch 219\n",
      "Epoch: 0, batch 220\n",
      "Epoch: 0, batch 221\n",
      "Epoch: 0, batch 222\n",
      "Epoch: 0, batch 223\n",
      "Epoch: 0, batch 224\n",
      "Epoch: 0, batch 225\n",
      "Epoch: 0, batch 226\n",
      "Epoch: 0, batch 227\n",
      "Epoch: 0, batch 228\n",
      "Epoch: 0, batch 229\n",
      "Epoch: 0, batch 230\n",
      "Epoch: 0, batch 231\n",
      "Epoch: 0, batch 232\n",
      "Epoch: 0, batch 233\n",
      "Epoch: 0, batch 234\n",
      "Epoch: 0, batch 235\n",
      "Epoch: 0, batch 236\n",
      "Epoch: 0, batch 237\n",
      "Epoch: 0, batch 238\n",
      "Epoch: 0, batch 239\n",
      "Epoch: 0, batch 240\n",
      "Epoch: 0, batch 241\n",
      "Epoch: 0, batch 242\n",
      "Epoch: 0, batch 243\n",
      "Epoch: 0, batch 244\n",
      "Epoch: 0, batch 245\n",
      "Epoch: 0, batch 246\n",
      "Epoch: 0, batch 247\n",
      "Epoch: 0, batch 248\n",
      "Epoch: 0, batch 249\n",
      "Epoch: 0, batch 250\n",
      "Epoch: 0, batch 251\n",
      "Epoch: 0, batch 252\n",
      "Epoch: 0, batch 253\n",
      "Epoch: 0, batch 254\n",
      "Epoch: 0, batch 255\n",
      "Epoch: 0, batch 256\n",
      "Epoch: 0, batch 257\n",
      "Epoch: 0, batch 258\n",
      "Epoch: 0, batch 259\n",
      "Epoch: 0, batch 260\n",
      "Epoch: 0, batch 261\n",
      "Epoch: 0, batch 262\n",
      "Epoch: 0, batch 263\n",
      "Epoch: 0, batch 264\n",
      "Epoch: 0, batch 265\n",
      "Epoch: 0, batch 266\n",
      "Epoch: 0, batch 267\n",
      "Epoch: 0, batch 268\n",
      "Epoch: 0, batch 269\n",
      "Epoch: 0, batch 270\n",
      "Epoch: 0, batch 271\n",
      "Epoch: 0, batch 272\n",
      "Epoch: 0, batch 273\n",
      "Epoch: 0, batch 274\n",
      "Epoch: 0, batch 275\n",
      "Epoch: 0, batch 276\n",
      "Epoch: 0, batch 277\n",
      "Epoch: 0, batch 278\n",
      "Epoch: 0, batch 279\n",
      "Epoch: 0, batch 280\n",
      "Epoch: 0, batch 281\n",
      "Epoch: 0, batch 282\n",
      "Epoch: 0, batch 283\n",
      "Epoch: 0, batch 284\n",
      "Epoch: 0, batch 285\n",
      "Epoch: 0, batch 286\n",
      "Epoch: 0, batch 287\n",
      "Epoch: 0, batch 288\n",
      "Epoch: 0, batch 289\n",
      "Epoch: 0, batch 290\n",
      "Epoch: 0, batch 291\n",
      "Epoch: 0, batch 292\n",
      "Epoch: 0, batch 293\n",
      "Epoch: 0, batch 294\n",
      "Epoch: 0, batch 295\n",
      "Epoch: 0, batch 296\n",
      "Epoch: 0, batch 297\n",
      "Epoch: 0, batch 298\n",
      "Epoch: 0, batch 299\n",
      "Epoch: 0, batch 300\n",
      "Epoch: 0, batch 301\n",
      "Epoch: 0, batch 302\n",
      "Epoch: 0, batch 303\n",
      "Epoch: 0, batch 304\n",
      "Epoch: 0, batch 305\n",
      "Epoch: 0, batch 306\n",
      "Epoch: 0, batch 307\n",
      "Epoch: 0, batch 308\n",
      "Epoch: 0, batch 309\n",
      "Epoch: 0, batch 310\n",
      "Epoch: 0, batch 311\n",
      "Epoch: 0, batch 312\n",
      "Epoch: 0, batch 313\n",
      "Epoch: 0, batch 314\n",
      "Epoch: 0, batch 315\n",
      "Epoch: 0, batch 316\n",
      "Epoch: 0, batch 317\n",
      "Epoch: 0, batch 318\n",
      "Epoch: 0, batch 319\n",
      "Epoch: 0, batch 320\n",
      "Epoch: 0, batch 321\n",
      "Epoch: 0, batch 322\n",
      "Epoch: 0, batch 323\n",
      "Epoch: 0, batch 324\n",
      "Epoch: 0, batch 325\n",
      "Epoch: 0, batch 326\n",
      "Epoch: 0, batch 327\n",
      "Epoch: 0, batch 328\n",
      "Epoch: 0, batch 329\n",
      "Epoch: 0, batch 330\n",
      "Epoch: 0, batch 331\n",
      "Epoch: 0, batch 332\n",
      "Epoch: 0, batch 333\n",
      "Epoch: 0, batch 334\n",
      "Epoch: 0, batch 335\n",
      "Epoch: 0, batch 336\n",
      "Epoch: 0, batch 337\n",
      "Epoch: 0, batch 338\n",
      "Epoch: 0, batch 339\n",
      "Epoch: 0, batch 340\n",
      "Epoch: 0, batch 341\n",
      "Epoch: 0, batch 342\n",
      "Epoch: 0, batch 343\n",
      "Epoch: 0, batch 344\n",
      "Epoch: 0, batch 345\n",
      "Epoch: 0, batch 346\n",
      "Epoch: 0, batch 347\n",
      "Epoch: 0, batch 348\n",
      "Epoch: 0, batch 349\n",
      "Epoch: 0, batch 350\n",
      "Epoch: 0, batch 351\n",
      "Epoch: 0, batch 352\n",
      "Epoch: 0, batch 353\n",
      "Epoch: 0, batch 354\n",
      "Epoch: 0, batch 355\n",
      "Epoch: 0, batch 356\n",
      "Epoch: 0, batch 357\n",
      "Epoch: 0, batch 358\n",
      "Epoch: 0, batch 359\n",
      "Epoch: 0, batch 360\n",
      "Epoch: 0, batch 361\n",
      "Epoch: 0, batch 362\n",
      "Epoch: 0, batch 363\n",
      "Epoch: 0, batch 364\n",
      "Epoch: 0, batch 365\n",
      "Epoch: 0, batch 366\n",
      "Epoch: 0, batch 367\n",
      "Epoch: 0, batch 368\n",
      "Epoch: 0, batch 369\n",
      "Epoch: 0, batch 370\n",
      "Epoch: 0, batch 371\n",
      "Epoch: 0, batch 372\n",
      "Epoch: 0, batch 373\n",
      "Epoch: 0, batch 374\n",
      "Epoch: 0, batch 375\n",
      "Epoch: 0, batch 376\n",
      "Epoch: 0, batch 377\n",
      "Epoch: 0, batch 378\n",
      "Epoch: 0, batch 379\n",
      "Epoch: 0, batch 380\n",
      "Epoch: 0, batch 381\n",
      "Epoch: 0, batch 382\n",
      "Epoch: 0, batch 383\n",
      "Epoch: 0, batch 384\n",
      "Epoch: 0, batch 385\n",
      "Epoch: 0, batch 386\n",
      "Epoch: 0, batch 387\n",
      "Epoch: 0, batch 388\n",
      "Epoch: 0, batch 389\n",
      "Epoch: 0, batch 390\n",
      "Epoch: 0, batch 391\n",
      "Epoch: 0, batch 392\n",
      "Epoch: 0, batch 393\n",
      "Epoch: 0, batch 394\n",
      "Epoch: 0, batch 395\n",
      "Epoch: 0, batch 396\n",
      "Epoch: 0, batch 397\n",
      "Epoch: 0, batch 398\n",
      "Epoch: 0, batch 399\n",
      "Epoch: 0, batch 400\n",
      "Epoch: 0, batch 401\n",
      "Epoch: 0, batch 402\n",
      "Epoch: 0, batch 403\n",
      "Epoch: 0, batch 404\n",
      "Epoch: 0, batch 405\n",
      "Epoch: 0, batch 406\n",
      "Epoch: 0, batch 407\n",
      "Epoch: 0, batch 408\n",
      "Epoch: 0, batch 409\n",
      "Epoch: 0, batch 410\n",
      "Epoch: 0, batch 411\n",
      "Epoch: 0, batch 412\n",
      "Epoch: 0, batch 413\n",
      "Epoch: 0, batch 414\n",
      "Epoch: 0, batch 415\n",
      "Epoch: 0, batch 416\n",
      "Epoch: 0, batch 417\n",
      "Epoch: 0, batch 418\n",
      "Epoch: 0, batch 419\n",
      "Epoch: 0, batch 420\n",
      "Epoch: 0, batch 421\n",
      "Epoch: 0, batch 422\n",
      "Epoch: 0, batch 423\n",
      "Epoch: 0, batch 424\n",
      "Epoch: 0, batch 425\n",
      "Epoch: 0, batch 426\n",
      "Epoch: 0, batch 427\n",
      "Epoch: 0, batch 428\n",
      "Epoch: 0, batch 429\n",
      "Epoch: 0, batch 430\n",
      "Epoch: 0, batch 431\n",
      "Epoch: 0, batch 432\n",
      "Epoch: 0, batch 433\n",
      "Epoch: 0, batch 434\n",
      "Epoch: 0, batch 435\n",
      "Epoch: 0, batch 436\n",
      "Epoch: 0, batch 437\n",
      "Epoch: 0, batch 438\n",
      "Epoch: 0, batch 439\n",
      "Epoch: 0, batch 440\n",
      "Epoch: 0, batch 441\n",
      "Epoch: 0, batch 442\n",
      "Epoch: 0, batch 443\n",
      "Epoch: 0, batch 444\n",
      "Epoch: 0, batch 445\n",
      "Epoch: 0, batch 446\n",
      "Epoch: 0, batch 447\n",
      "Epoch: 0, batch 448\n",
      "Epoch: 0, batch 449\n",
      "Epoch: 0, batch 450\n",
      "Epoch: 0, batch 451\n",
      "Epoch: 0, batch 452\n",
      "Epoch: 0, batch 453\n",
      "Epoch: 0, batch 454\n",
      "Epoch: 0, batch 455\n",
      "Epoch: 0, batch 456\n",
      "Epoch: 0, batch 457\n",
      "Epoch: 0, batch 458\n",
      "Epoch: 0, batch 459\n",
      "Epoch: 0, batch 460\n",
      "Epoch: 0, batch 461\n",
      "Epoch: 0, batch 462\n",
      "Epoch: 0, batch 463\n",
      "Epoch: 0, batch 464\n",
      "Epoch: 0, batch 465\n",
      "Epoch: 0, batch 466\n",
      "Epoch: 0, batch 467\n",
      "Epoch: 0, batch 468\n",
      "Epoch: 0, batch 469\n",
      "Epoch: 0, batch 470\n",
      "Epoch: 0, batch 471\n",
      "Epoch: 0, batch 472\n",
      "Epoch: 0, batch 473\n",
      "Epoch: 0, batch 474\n",
      "Epoch: 0, batch 475\n",
      "Epoch: 0, batch 476\n",
      "Epoch: 0, batch 477\n",
      "Epoch: 0, batch 478\n",
      "Epoch: 0, batch 479\n",
      "Epoch: 0, batch 480\n",
      "Epoch: 0, batch 481\n",
      "Epoch: 0, batch 482\n",
      "Epoch: 0, batch 483\n",
      "Epoch: 0, batch 484\n",
      "Epoch: 0, batch 485\n",
      "Epoch: 0, batch 486\n",
      "Epoch: 0, batch 487\n",
      "Epoch: 0, batch 488\n",
      "Epoch: 0, batch 489\n",
      "Epoch: 0, batch 490\n",
      "Epoch: 0, batch 491\n",
      "Epoch: 0, batch 492\n",
      "Epoch: 0, batch 493\n",
      "Epoch: 0, batch 494\n",
      "Epoch: 0, batch 495\n",
      "Epoch: 0, batch 496\n",
      "Epoch: 0, batch 497\n",
      "Epoch: 0, batch 498\n",
      "Epoch: 0, batch 499\n",
      "Epoch: 0, batch 500\n",
      "Epoch: 0, batch 501\n",
      "Epoch: 0, batch 502\n",
      "Epoch: 0, batch 503\n",
      "Epoch: 0, batch 504\n",
      "Epoch: 0, batch 505\n",
      "Epoch: 0, batch 506\n",
      "Epoch: 0, batch 507\n",
      "Epoch: 0, batch 508\n",
      "Epoch: 0, batch 509\n",
      "Epoch: 0, batch 510\n",
      "Epoch: 0, batch 511\n",
      "Epoch: 0, batch 512\n",
      "Epoch: 0, batch 513\n",
      "Epoch: 0, batch 514\n",
      "Epoch: 0, batch 515\n",
      "Epoch: 0, batch 516\n",
      "Epoch: 0, batch 517\n",
      "Epoch: 0, batch 518\n",
      "Epoch: 0, batch 519\n",
      "Epoch: 0, batch 520\n",
      "Epoch: 0, batch 521\n",
      "Epoch: 0, batch 522\n",
      "Epoch: 0, batch 523\n",
      "Epoch: 0, batch 524\n",
      "Epoch: 0, batch 525\n",
      "Epoch: 0, batch 526\n",
      "Epoch: 0, batch 527\n",
      "Epoch: 0, batch 528\n",
      "Epoch: 0, batch 529\n",
      "Epoch: 0, batch 530\n",
      "Epoch: 0, batch 531\n",
      "Epoch: 0, batch 532\n",
      "Epoch: 0, batch 533\n",
      "Epoch: 0, batch 534\n",
      "Epoch: 0, batch 535\n",
      "Epoch: 0, batch 536\n",
      "Epoch: 0, batch 537\n",
      "Epoch: 0, batch 538\n",
      "Epoch: 0, batch 539\n",
      "Epoch: 0, batch 540\n",
      "Epoch: 0, batch 541\n",
      "Epoch: 0, batch 542\n",
      "Epoch: 0, batch 543\n",
      "Epoch: 0, batch 544\n",
      "Epoch: 0, batch 545\n",
      "Epoch: 0, batch 546\n",
      "Epoch: 0, batch 547\n",
      "Epoch: 0, batch 548\n",
      "Epoch: 0, batch 549\n",
      "Epoch: 0, batch 550\n",
      "Epoch: 0, batch 551\n",
      "Epoch: 0, batch 552\n",
      "Epoch: 0, batch 553\n",
      "Epoch: 0, batch 554\n",
      "Epoch: 0, batch 555\n",
      "Epoch: 0, batch 556\n",
      "Epoch: 0, batch 557\n",
      "Epoch: 0, batch 558\n",
      "Epoch: 0, batch 559\n",
      "Epoch: 0, batch 560\n",
      "Epoch: 0, batch 561\n",
      "Epoch: 0, batch 562\n",
      "Epoch: 0, batch 563\n",
      "Epoch: 0, batch 564\n",
      "Epoch: 0, batch 565\n",
      "Epoch: 0, batch 566\n",
      "Epoch: 0, batch 567\n",
      "Epoch: 0, batch 568\n",
      "Epoch: 0, batch 569\n",
      "Epoch: 0, batch 570\n",
      "Epoch: 0, batch 571\n",
      "Epoch: 0, batch 572\n",
      "Epoch: 0, batch 573\n",
      "Epoch: 0, batch 574\n",
      "Epoch: 0, batch 575\n",
      "Epoch: 0, batch 576\n",
      "Epoch: 0, batch 577\n",
      "Epoch: 0, batch 578\n",
      "Epoch: 0, batch 579\n",
      "Epoch: 0, batch 580\n",
      "Epoch: 0, batch 581\n",
      "Epoch: 0, batch 582\n",
      "Epoch: 0, batch 583\n",
      "Epoch: 0, batch 584\n",
      "Epoch: 0, batch 585\n",
      "Epoch: 0, batch 586\n",
      "Epoch: 0, batch 587\n",
      "Epoch: 0, batch 588\n",
      "Epoch: 0, batch 589\n",
      "Epoch: 0, batch 590\n",
      "Epoch: 0, batch 591\n",
      "Epoch: 0, batch 592\n",
      "Epoch: 0, batch 593\n",
      "Epoch: 0, batch 594\n",
      "Epoch: 0, batch 595\n",
      "Epoch: 0, batch 596\n",
      "Epoch: 0, batch 597\n",
      "Epoch: 0, batch 598\n",
      "Epoch: 0, batch 599\n",
      "Epoch 1 | Loss: nan\n"
     ]
    },
    {
     "name": "stderr",
     "output_type": "stream",
     "text": [
      "/Users/jornelasmunoz/anaconda3/envs/pytorch/lib/python3.11/site-packages/seaborn/matrix.py:202: RuntimeWarning: All-NaN slice encountered\n",
      "  vmin = np.nanmin(calc_data)\n",
      "/Users/jornelasmunoz/anaconda3/envs/pytorch/lib/python3.11/site-packages/seaborn/matrix.py:207: RuntimeWarning: All-NaN slice encountered\n",
      "  vmax = np.nanmax(calc_data)\n"
     ]
    },
    {
     "name": "stdout",
     "output_type": "stream",
     "text": [
      "Epoch: 1, batch 0\n",
      "Epoch: 1, batch 1\n",
      "Epoch: 1, batch 2\n",
      "Epoch: 1, batch 3\n",
      "Epoch: 1, batch 4\n",
      "Epoch: 1, batch 5\n",
      "Epoch: 1, batch 6\n",
      "Epoch: 1, batch 7\n",
      "Epoch: 1, batch 8\n",
      "Epoch: 1, batch 9\n",
      "Epoch: 1, batch 10\n",
      "Epoch: 1, batch 11\n",
      "Epoch: 1, batch 12\n",
      "Epoch: 1, batch 13\n",
      "Epoch: 1, batch 14\n",
      "Epoch: 1, batch 15\n",
      "Epoch: 1, batch 16\n",
      "Epoch: 1, batch 17\n",
      "Epoch: 1, batch 18\n",
      "Epoch: 1, batch 19\n",
      "Epoch: 1, batch 20\n",
      "Epoch: 1, batch 21\n",
      "Epoch: 1, batch 22\n",
      "Epoch: 1, batch 23\n",
      "Epoch: 1, batch 24\n",
      "Epoch: 1, batch 25\n",
      "Epoch: 1, batch 26\n",
      "Epoch: 1, batch 27\n",
      "Epoch: 1, batch 28\n",
      "Epoch: 1, batch 29\n",
      "Epoch: 1, batch 30\n",
      "Epoch: 1, batch 31\n",
      "Epoch: 1, batch 32\n",
      "Epoch: 1, batch 33\n",
      "Epoch: 1, batch 34\n",
      "Epoch: 1, batch 35\n",
      "Epoch: 1, batch 36\n",
      "Epoch: 1, batch 37\n",
      "Epoch: 1, batch 38\n",
      "Epoch: 1, batch 39\n",
      "Epoch: 1, batch 40\n",
      "Epoch: 1, batch 41\n",
      "Epoch: 1, batch 42\n",
      "Epoch: 1, batch 43\n",
      "Epoch: 1, batch 44\n",
      "Epoch: 1, batch 45\n",
      "Epoch: 1, batch 46\n",
      "Epoch: 1, batch 47\n",
      "Epoch: 1, batch 48\n",
      "Epoch: 1, batch 49\n",
      "Epoch: 1, batch 50\n",
      "Epoch: 1, batch 51\n",
      "Epoch: 1, batch 52\n",
      "Epoch: 1, batch 53\n",
      "Epoch: 1, batch 54\n",
      "Epoch: 1, batch 55\n",
      "Epoch: 1, batch 56\n",
      "Epoch: 1, batch 57\n",
      "Epoch: 1, batch 58\n",
      "Epoch: 1, batch 59\n",
      "Epoch: 1, batch 60\n",
      "Epoch: 1, batch 61\n",
      "Epoch: 1, batch 62\n",
      "Epoch: 1, batch 63\n",
      "Epoch: 1, batch 64\n",
      "Epoch: 1, batch 65\n",
      "Epoch: 1, batch 66\n",
      "Epoch: 1, batch 67\n",
      "Epoch: 1, batch 68\n",
      "Epoch: 1, batch 69\n",
      "Epoch: 1, batch 70\n",
      "Epoch: 1, batch 71\n",
      "Epoch: 1, batch 72\n",
      "Epoch: 1, batch 73\n",
      "Epoch: 1, batch 74\n",
      "Epoch: 1, batch 75\n",
      "Epoch: 1, batch 76\n",
      "Epoch: 1, batch 77\n",
      "Epoch: 1, batch 78\n",
      "Epoch: 1, batch 79\n",
      "Epoch: 1, batch 80\n",
      "Epoch: 1, batch 81\n",
      "Epoch: 1, batch 82\n",
      "Epoch: 1, batch 83\n",
      "Epoch: 1, batch 84\n",
      "Epoch: 1, batch 85\n",
      "Epoch: 1, batch 86\n",
      "Epoch: 1, batch 87\n",
      "Epoch: 1, batch 88\n",
      "Epoch: 1, batch 89\n",
      "Epoch: 1, batch 90\n",
      "Epoch: 1, batch 91\n",
      "Epoch: 1, batch 92\n",
      "Epoch: 1, batch 93\n",
      "Epoch: 1, batch 94\n",
      "Epoch: 1, batch 95\n",
      "Epoch: 1, batch 96\n",
      "Epoch: 1, batch 97\n",
      "Epoch: 1, batch 98\n",
      "Epoch: 1, batch 99\n",
      "Epoch: 1, batch 100\n",
      "Epoch: 1, batch 101\n",
      "Epoch: 1, batch 102\n",
      "Epoch: 1, batch 103\n",
      "Epoch: 1, batch 104\n",
      "Epoch: 1, batch 105\n",
      "Epoch: 1, batch 106\n",
      "Epoch: 1, batch 107\n",
      "Epoch: 1, batch 108\n",
      "Epoch: 1, batch 109\n",
      "Epoch: 1, batch 110\n",
      "Epoch: 1, batch 111\n",
      "Epoch: 1, batch 112\n",
      "Epoch: 1, batch 113\n",
      "Epoch: 1, batch 114\n",
      "Epoch: 1, batch 115\n",
      "Epoch: 1, batch 116\n",
      "Epoch: 1, batch 117\n",
      "Epoch: 1, batch 118\n",
      "Epoch: 1, batch 119\n",
      "Epoch: 1, batch 120\n",
      "Epoch: 1, batch 121\n",
      "Epoch: 1, batch 122\n",
      "Epoch: 1, batch 123\n",
      "Epoch: 1, batch 124\n",
      "Epoch: 1, batch 125\n",
      "Epoch: 1, batch 126\n",
      "Epoch: 1, batch 127\n",
      "Epoch: 1, batch 128\n",
      "Epoch: 1, batch 129\n",
      "Epoch: 1, batch 130\n",
      "Epoch: 1, batch 131\n",
      "Epoch: 1, batch 132\n",
      "Epoch: 1, batch 133\n",
      "Epoch: 1, batch 134\n",
      "Epoch: 1, batch 135\n",
      "Epoch: 1, batch 136\n",
      "Epoch: 1, batch 137\n",
      "Epoch: 1, batch 138\n",
      "Epoch: 1, batch 139\n",
      "Epoch: 1, batch 140\n",
      "Epoch: 1, batch 141\n",
      "Epoch: 1, batch 142\n",
      "Epoch: 1, batch 143\n",
      "Epoch: 1, batch 144\n",
      "Epoch: 1, batch 145\n",
      "Epoch: 1, batch 146\n",
      "Epoch: 1, batch 147\n",
      "Epoch: 1, batch 148\n",
      "Epoch: 1, batch 149\n",
      "Epoch: 1, batch 150\n",
      "Epoch: 1, batch 151\n",
      "Epoch: 1, batch 152\n",
      "Epoch: 1, batch 153\n",
      "Epoch: 1, batch 154\n",
      "Epoch: 1, batch 155\n",
      "Epoch: 1, batch 156\n",
      "Epoch: 1, batch 157\n",
      "Epoch: 1, batch 158\n",
      "Epoch: 1, batch 159\n",
      "Epoch: 1, batch 160\n",
      "Epoch: 1, batch 161\n",
      "Epoch: 1, batch 162\n",
      "Epoch: 1, batch 163\n",
      "Epoch: 1, batch 164\n",
      "Epoch: 1, batch 165\n",
      "Epoch: 1, batch 166\n",
      "Epoch: 1, batch 167\n",
      "Epoch: 1, batch 168\n",
      "Epoch: 1, batch 169\n",
      "Epoch: 1, batch 170\n",
      "Epoch: 1, batch 171\n",
      "Epoch: 1, batch 172\n",
      "Epoch: 1, batch 173\n",
      "Epoch: 1, batch 174\n",
      "Epoch: 1, batch 175\n",
      "Epoch: 1, batch 176\n",
      "Epoch: 1, batch 177\n",
      "Epoch: 1, batch 178\n",
      "Epoch: 1, batch 179\n",
      "Epoch: 1, batch 180\n",
      "Epoch: 1, batch 181\n",
      "Epoch: 1, batch 182\n",
      "Epoch: 1, batch 183\n",
      "Epoch: 1, batch 184\n",
      "Epoch: 1, batch 185\n",
      "Epoch: 1, batch 186\n",
      "Epoch: 1, batch 187\n",
      "Epoch: 1, batch 188\n",
      "Epoch: 1, batch 189\n",
      "Epoch: 1, batch 190\n",
      "Epoch: 1, batch 191\n",
      "Epoch: 1, batch 192\n",
      "Epoch: 1, batch 193\n",
      "Epoch: 1, batch 194\n",
      "Epoch: 1, batch 195\n",
      "Epoch: 1, batch 196\n",
      "Epoch: 1, batch 197\n",
      "Epoch: 1, batch 198\n",
      "Epoch: 1, batch 199\n",
      "Epoch: 1, batch 200\n",
      "Epoch: 1, batch 201\n",
      "Epoch: 1, batch 202\n",
      "Epoch: 1, batch 203\n",
      "Epoch: 1, batch 204\n",
      "Epoch: 1, batch 205\n",
      "Epoch: 1, batch 206\n",
      "Epoch: 1, batch 207\n",
      "Epoch: 1, batch 208\n",
      "Epoch: 1, batch 209\n",
      "Epoch: 1, batch 210\n",
      "Epoch: 1, batch 211\n",
      "Epoch: 1, batch 212\n",
      "Epoch: 1, batch 213\n",
      "Epoch: 1, batch 214\n",
      "Epoch: 1, batch 215\n",
      "Epoch: 1, batch 216\n",
      "Epoch: 1, batch 217\n",
      "Epoch: 1, batch 218\n",
      "Epoch: 1, batch 219\n",
      "Epoch: 1, batch 220\n",
      "Epoch: 1, batch 221\n",
      "Epoch: 1, batch 222\n",
      "Epoch: 1, batch 223\n",
      "Epoch: 1, batch 224\n",
      "Epoch: 1, batch 225\n",
      "Epoch: 1, batch 226\n",
      "Epoch: 1, batch 227\n",
      "Epoch: 1, batch 228\n",
      "Epoch: 1, batch 229\n",
      "Epoch: 1, batch 230\n",
      "Epoch: 1, batch 231\n",
      "Epoch: 1, batch 232\n",
      "Epoch: 1, batch 233\n",
      "Epoch: 1, batch 234\n",
      "Epoch: 1, batch 235\n",
      "Epoch: 1, batch 236\n",
      "Epoch: 1, batch 237\n",
      "Epoch: 1, batch 238\n",
      "Epoch: 1, batch 239\n",
      "Epoch: 1, batch 240\n",
      "Epoch: 1, batch 241\n",
      "Epoch: 1, batch 242\n",
      "Epoch: 1, batch 243\n",
      "Epoch: 1, batch 244\n",
      "Epoch: 1, batch 245\n",
      "Epoch: 1, batch 246\n",
      "Epoch: 1, batch 247\n",
      "Epoch: 1, batch 248\n",
      "Epoch: 1, batch 249\n",
      "Epoch: 1, batch 250\n",
      "Epoch: 1, batch 251\n",
      "Epoch: 1, batch 252\n",
      "Epoch: 1, batch 253\n",
      "Epoch: 1, batch 254\n",
      "Epoch: 1, batch 255\n",
      "Epoch: 1, batch 256\n",
      "Epoch: 1, batch 257\n",
      "Epoch: 1, batch 258\n",
      "Epoch: 1, batch 259\n",
      "Epoch: 1, batch 260\n",
      "Epoch: 1, batch 261\n",
      "Epoch: 1, batch 262\n",
      "Epoch: 1, batch 263\n",
      "Epoch: 1, batch 264\n",
      "Epoch: 1, batch 265\n",
      "Epoch: 1, batch 266\n",
      "Epoch: 1, batch 267\n",
      "Epoch: 1, batch 268\n",
      "Epoch: 1, batch 269\n",
      "Epoch: 1, batch 270\n",
      "Epoch: 1, batch 271\n",
      "Epoch: 1, batch 272\n",
      "Epoch: 1, batch 273\n",
      "Epoch: 1, batch 274\n",
      "Epoch: 1, batch 275\n",
      "Epoch: 1, batch 276\n",
      "Epoch: 1, batch 277\n",
      "Epoch: 1, batch 278\n",
      "Epoch: 1, batch 279\n",
      "Epoch: 1, batch 280\n",
      "Epoch: 1, batch 281\n",
      "Epoch: 1, batch 282\n",
      "Epoch: 1, batch 283\n",
      "Epoch: 1, batch 284\n",
      "Epoch: 1, batch 285\n",
      "Epoch: 1, batch 286\n",
      "Epoch: 1, batch 287\n",
      "Epoch: 1, batch 288\n",
      "Epoch: 1, batch 289\n",
      "Epoch: 1, batch 290\n",
      "Epoch: 1, batch 291\n",
      "Epoch: 1, batch 292\n",
      "Epoch: 1, batch 293\n",
      "Epoch: 1, batch 294\n",
      "Epoch: 1, batch 295\n",
      "Epoch: 1, batch 296\n",
      "Epoch: 1, batch 297\n",
      "Epoch: 1, batch 298\n",
      "Epoch: 1, batch 299\n",
      "Epoch: 1, batch 300\n",
      "Epoch: 1, batch 301\n",
      "Epoch: 1, batch 302\n",
      "Epoch: 1, batch 303\n",
      "Epoch: 1, batch 304\n",
      "Epoch: 1, batch 305\n",
      "Epoch: 1, batch 306\n",
      "Epoch: 1, batch 307\n",
      "Epoch: 1, batch 308\n",
      "Epoch: 1, batch 309\n",
      "Epoch: 1, batch 310\n",
      "Epoch: 1, batch 311\n",
      "Epoch: 1, batch 312\n",
      "Epoch: 1, batch 313\n",
      "Epoch: 1, batch 314\n",
      "Epoch: 1, batch 315\n",
      "Epoch: 1, batch 316\n",
      "Epoch: 1, batch 317\n",
      "Epoch: 1, batch 318\n",
      "Epoch: 1, batch 319\n",
      "Epoch: 1, batch 320\n",
      "Epoch: 1, batch 321\n",
      "Epoch: 1, batch 322\n",
      "Epoch: 1, batch 323\n",
      "Epoch: 1, batch 324\n",
      "Epoch: 1, batch 325\n",
      "Epoch: 1, batch 326\n",
      "Epoch: 1, batch 327\n",
      "Epoch: 1, batch 328\n",
      "Epoch: 1, batch 329\n",
      "Epoch: 1, batch 330\n",
      "Epoch: 1, batch 331\n",
      "Epoch: 1, batch 332\n",
      "Epoch: 1, batch 333\n",
      "Epoch: 1, batch 334\n",
      "Epoch: 1, batch 335\n",
      "Epoch: 1, batch 336\n",
      "Epoch: 1, batch 337\n",
      "Epoch: 1, batch 338\n",
      "Epoch: 1, batch 339\n",
      "Epoch: 1, batch 340\n",
      "Epoch: 1, batch 341\n",
      "Epoch: 1, batch 342\n",
      "Epoch: 1, batch 343\n",
      "Epoch: 1, batch 344\n",
      "Epoch: 1, batch 345\n",
      "Epoch: 1, batch 346\n",
      "Epoch: 1, batch 347\n",
      "Epoch: 1, batch 348\n",
      "Epoch: 1, batch 349\n",
      "Epoch: 1, batch 350\n",
      "Epoch: 1, batch 351\n",
      "Epoch: 1, batch 352\n",
      "Epoch: 1, batch 353\n",
      "Epoch: 1, batch 354\n",
      "Epoch: 1, batch 355\n",
      "Epoch: 1, batch 356\n",
      "Epoch: 1, batch 357\n"
     ]
    },
    {
     "ename": "KeyboardInterrupt",
     "evalue": "",
     "output_type": "error",
     "traceback": [
      "\u001b[0;31m---------------------------------------------------------------------------\u001b[0m",
      "\u001b[0;31mKeyboardInterrupt\u001b[0m                         Traceback (most recent call last)",
      "File \u001b[0;32m<timed exec>:30\u001b[0m\n",
      "File \u001b[0;32m~/anaconda3/envs/pytorch/lib/python3.11/site-packages/torch/nn/modules/module.py:1501\u001b[0m, in \u001b[0;36mModule._call_impl\u001b[0;34m(self, *args, **kwargs)\u001b[0m\n\u001b[1;32m   1496\u001b[0m \u001b[38;5;66;03m# If we don't have any hooks, we want to skip the rest of the logic in\u001b[39;00m\n\u001b[1;32m   1497\u001b[0m \u001b[38;5;66;03m# this function, and just call forward.\u001b[39;00m\n\u001b[1;32m   1498\u001b[0m \u001b[38;5;28;01mif\u001b[39;00m \u001b[38;5;129;01mnot\u001b[39;00m (\u001b[38;5;28mself\u001b[39m\u001b[38;5;241m.\u001b[39m_backward_hooks \u001b[38;5;129;01mor\u001b[39;00m \u001b[38;5;28mself\u001b[39m\u001b[38;5;241m.\u001b[39m_backward_pre_hooks \u001b[38;5;129;01mor\u001b[39;00m \u001b[38;5;28mself\u001b[39m\u001b[38;5;241m.\u001b[39m_forward_hooks \u001b[38;5;129;01mor\u001b[39;00m \u001b[38;5;28mself\u001b[39m\u001b[38;5;241m.\u001b[39m_forward_pre_hooks\n\u001b[1;32m   1499\u001b[0m         \u001b[38;5;129;01mor\u001b[39;00m _global_backward_pre_hooks \u001b[38;5;129;01mor\u001b[39;00m _global_backward_hooks\n\u001b[1;32m   1500\u001b[0m         \u001b[38;5;129;01mor\u001b[39;00m _global_forward_hooks \u001b[38;5;129;01mor\u001b[39;00m _global_forward_pre_hooks):\n\u001b[0;32m-> 1501\u001b[0m     \u001b[38;5;28;01mreturn\u001b[39;00m forward_call(\u001b[38;5;241m*\u001b[39margs, \u001b[38;5;241m*\u001b[39m\u001b[38;5;241m*\u001b[39mkwargs)\n\u001b[1;32m   1502\u001b[0m \u001b[38;5;66;03m# Do not call functions when jit is used\u001b[39;00m\n\u001b[1;32m   1503\u001b[0m full_backward_hooks, non_full_backward_hooks \u001b[38;5;241m=\u001b[39m [], []\n",
      "File \u001b[0;32m~/Desktop/UC Merced/Research/coded-aperture/jornelasmunoz/lib/reconstruct.py:44\u001b[0m, in \u001b[0;36mRECON_CNN.forward\u001b[0;34m(self, x)\u001b[0m\n\u001b[1;32m     43\u001b[0m \u001b[38;5;28;01mdef\u001b[39;00m \u001b[38;5;21mforward\u001b[39m(\u001b[38;5;28mself\u001b[39m, x):\n\u001b[0;32m---> 44\u001b[0m     output \u001b[38;5;241m=\u001b[39m \u001b[38;5;28mself\u001b[39m\u001b[38;5;241m.\u001b[39mconv(x)\n\u001b[1;32m     45\u001b[0m     \u001b[38;5;28;01mreturn\u001b[39;00m output\n",
      "File \u001b[0;32m~/anaconda3/envs/pytorch/lib/python3.11/site-packages/torch/nn/modules/module.py:1501\u001b[0m, in \u001b[0;36mModule._call_impl\u001b[0;34m(self, *args, **kwargs)\u001b[0m\n\u001b[1;32m   1496\u001b[0m \u001b[38;5;66;03m# If we don't have any hooks, we want to skip the rest of the logic in\u001b[39;00m\n\u001b[1;32m   1497\u001b[0m \u001b[38;5;66;03m# this function, and just call forward.\u001b[39;00m\n\u001b[1;32m   1498\u001b[0m \u001b[38;5;28;01mif\u001b[39;00m \u001b[38;5;129;01mnot\u001b[39;00m (\u001b[38;5;28mself\u001b[39m\u001b[38;5;241m.\u001b[39m_backward_hooks \u001b[38;5;129;01mor\u001b[39;00m \u001b[38;5;28mself\u001b[39m\u001b[38;5;241m.\u001b[39m_backward_pre_hooks \u001b[38;5;129;01mor\u001b[39;00m \u001b[38;5;28mself\u001b[39m\u001b[38;5;241m.\u001b[39m_forward_hooks \u001b[38;5;129;01mor\u001b[39;00m \u001b[38;5;28mself\u001b[39m\u001b[38;5;241m.\u001b[39m_forward_pre_hooks\n\u001b[1;32m   1499\u001b[0m         \u001b[38;5;129;01mor\u001b[39;00m _global_backward_pre_hooks \u001b[38;5;129;01mor\u001b[39;00m _global_backward_hooks\n\u001b[1;32m   1500\u001b[0m         \u001b[38;5;129;01mor\u001b[39;00m _global_forward_hooks \u001b[38;5;129;01mor\u001b[39;00m _global_forward_pre_hooks):\n\u001b[0;32m-> 1501\u001b[0m     \u001b[38;5;28;01mreturn\u001b[39;00m forward_call(\u001b[38;5;241m*\u001b[39margs, \u001b[38;5;241m*\u001b[39m\u001b[38;5;241m*\u001b[39mkwargs)\n\u001b[1;32m   1502\u001b[0m \u001b[38;5;66;03m# Do not call functions when jit is used\u001b[39;00m\n\u001b[1;32m   1503\u001b[0m full_backward_hooks, non_full_backward_hooks \u001b[38;5;241m=\u001b[39m [], []\n",
      "File \u001b[0;32m~/anaconda3/envs/pytorch/lib/python3.11/site-packages/torch/nn/modules/conv.py:463\u001b[0m, in \u001b[0;36mConv2d.forward\u001b[0;34m(self, input)\u001b[0m\n\u001b[1;32m    462\u001b[0m \u001b[38;5;28;01mdef\u001b[39;00m \u001b[38;5;21mforward\u001b[39m(\u001b[38;5;28mself\u001b[39m, \u001b[38;5;28minput\u001b[39m: Tensor) \u001b[38;5;241m-\u001b[39m\u001b[38;5;241m>\u001b[39m Tensor:\n\u001b[0;32m--> 463\u001b[0m     \u001b[38;5;28;01mreturn\u001b[39;00m \u001b[38;5;28mself\u001b[39m\u001b[38;5;241m.\u001b[39m_conv_forward(\u001b[38;5;28minput\u001b[39m, \u001b[38;5;28mself\u001b[39m\u001b[38;5;241m.\u001b[39mweight, \u001b[38;5;28mself\u001b[39m\u001b[38;5;241m.\u001b[39mbias)\n",
      "File \u001b[0;32m~/anaconda3/envs/pytorch/lib/python3.11/site-packages/torch/nn/modules/conv.py:456\u001b[0m, in \u001b[0;36mConv2d._conv_forward\u001b[0;34m(self, input, weight, bias)\u001b[0m\n\u001b[1;32m    454\u001b[0m \u001b[38;5;28;01mdef\u001b[39;00m \u001b[38;5;21m_conv_forward\u001b[39m(\u001b[38;5;28mself\u001b[39m, \u001b[38;5;28minput\u001b[39m: Tensor, weight: Tensor, bias: Optional[Tensor]):\n\u001b[1;32m    455\u001b[0m     \u001b[38;5;28;01mif\u001b[39;00m \u001b[38;5;28mself\u001b[39m\u001b[38;5;241m.\u001b[39mpadding_mode \u001b[38;5;241m!=\u001b[39m \u001b[38;5;124m'\u001b[39m\u001b[38;5;124mzeros\u001b[39m\u001b[38;5;124m'\u001b[39m:\n\u001b[0;32m--> 456\u001b[0m         \u001b[38;5;28;01mreturn\u001b[39;00m F\u001b[38;5;241m.\u001b[39mconv2d(F\u001b[38;5;241m.\u001b[39mpad(\u001b[38;5;28minput\u001b[39m, \u001b[38;5;28mself\u001b[39m\u001b[38;5;241m.\u001b[39m_reversed_padding_repeated_twice, mode\u001b[38;5;241m=\u001b[39m\u001b[38;5;28mself\u001b[39m\u001b[38;5;241m.\u001b[39mpadding_mode),\n\u001b[1;32m    457\u001b[0m                         weight, bias, \u001b[38;5;28mself\u001b[39m\u001b[38;5;241m.\u001b[39mstride,\n\u001b[1;32m    458\u001b[0m                         _pair(\u001b[38;5;241m0\u001b[39m), \u001b[38;5;28mself\u001b[39m\u001b[38;5;241m.\u001b[39mdilation, \u001b[38;5;28mself\u001b[39m\u001b[38;5;241m.\u001b[39mgroups)\n\u001b[1;32m    459\u001b[0m     \u001b[38;5;28;01mreturn\u001b[39;00m F\u001b[38;5;241m.\u001b[39mconv2d(\u001b[38;5;28minput\u001b[39m, weight, bias, \u001b[38;5;28mself\u001b[39m\u001b[38;5;241m.\u001b[39mstride,\n\u001b[1;32m    460\u001b[0m                     \u001b[38;5;28mself\u001b[39m\u001b[38;5;241m.\u001b[39mpadding, \u001b[38;5;28mself\u001b[39m\u001b[38;5;241m.\u001b[39mdilation, \u001b[38;5;28mself\u001b[39m\u001b[38;5;241m.\u001b[39mgroups)\n",
      "\u001b[0;31mKeyboardInterrupt\u001b[0m: "
     ]
    },
    {
     "data": {
      "image/png": "[encoded data removed]",
      "text/plain": [
       "<Figure size 1000x700 with 2 Axes>"
      ]
     },
     "metadata": {},
     "output_type": "display_data"
    },
    {
     "name": "stdout",
     "output_type": "stream",
     "text": [
      "Error in callback <bound method _WandbInit._pause_backend of <wandb.sdk.wandb_init._WandbInit object at 0x1648ee990>> (for post_run_cell), with arguments args (<ExecutionResult object at 16b81f510, execution_count=14 error_before_exec=None error_in_exec=None info=<ExecutionInfo object at 16ae2fd90, raw_cell=\"%%time\n",
      "# Initialize project in Weights and Biases\n",
      "..\" store_history=True silent=False shell_futures=True cell_id=3c876fc9-e3d7-4489-a0b8-d06922820f1e> result=None>,),kwargs {}:\n"
     ]
    },
    {
     "ename": "TypeError",
     "evalue": "_WandbInit._pause_backend() takes 1 positional argument but 2 were given",
     "output_type": "error",
     "traceback": [
      "\u001b[0;31m---------------------------------------------------------------------------\u001b[0m",
      "\u001b[0;31mTypeError\u001b[0m                                 Traceback (most recent call last)",
      "\u001b[0;31mTypeError\u001b[0m: _WandbInit._pause_backend() takes 1 positional argument but 2 were given"
     ]
    }
   ],
   "source": [
    "%%time\n",
    "# Initialize project in Weights and Biases\n",
    "wandb.init(config=wandb.config, \n",
    "           project=\"ca-learned-decoder\", \n",
    "           group=f\"cnn_{params['image_size']}x{params['image_size']}\", \n",
    "           name=str(datetime.datetime.now()))\n",
    "\n",
    "# Store values for later \n",
    "train_loss = []\n",
    "frob_per_epoch = []\n",
    "weights_epoch = {}\n",
    "\n",
    "#Dictionary that will store different images and outputs for various epochs (not sure if needed)\n",
    "outputs = {}\n",
    "\n",
    "# Training loop starts\n",
    "for epoch in range(params['epochs']):\n",
    "    \n",
    "    # Initialize variable to store loss\n",
    "    running_loss = 0\n",
    "    model.train()\n",
    "    # Iterate over training set\n",
    "    for i, data in enumerate(loaders['train']):\n",
    "        # zero the parameter gradients\n",
    "        model.optimizer.zero_grad()\n",
    "        \n",
    "        # get the inputs; data is a dict of [images, labels, digit]\n",
    "        inputs, targets, digits = data['img'], data['target'], data['digit']\n",
    "            \n",
    "        # Generate output\n",
    "        out = model(inputs)\n",
    "        \n",
    "        # Calculate loss\n",
    "        loss = model.criterion(out, targets)\n",
    "        \n",
    "        # # Modified (04/06/23) to include l_1 penalty\n",
    "        # l_1_pen = sum((w.abs()-1).abs().sum() for w in model.parameters())\n",
    "        # loss = loss + (model.params['lambda']/(model.params['p']**2)) * l_1_pen\n",
    "\n",
    "        weights = list(model.parameters())\n",
    "        weight_map = np.squeeze(weights[0].detach().cpu().numpy())\n",
    "        if np.isnan(weight_map).any():\n",
    "            print(\"Epoch: {}, batch {}\".format(epoch, i))\n",
    "        \n",
    "        # Backprop and update weights\n",
    "        loss.backward()\n",
    "        model.optimizer.step()\n",
    "        \n",
    "        # Increment loss\n",
    "        running_loss += loss.item()\n",
    "        \n",
    "        \n",
    "        \n",
    "    # Average loss over entire dataset\n",
    "    running_loss/= len(loaders['train'].dataset)#params['batch_size']\n",
    "    train_loss.append(running_loss)\n",
    "\n",
    "    # Scheduler step every epoch\n",
    "    model.scheduler.step(loss)\n",
    "        \n",
    "    print(f\"Epoch {epoch +1} | Loss: {running_loss:.7f}\")\n",
    "    wandb.log({\"epoch\": epoch, \"loss\": running_loss, }) \n",
    "    \n",
    "    # Storing images, reconstructed outputs, and labels\n",
    "    outputs[epoch+1] = {'img': inputs, 'out': out, 'targets': targets, 'digits': digits}\n",
    "    \n",
    "    # Save weights every 2 epochs\n",
    "    if epoch % 2 == 1:\n",
    "        torch.save(model.state_dict(), model.params['model_save_path'])\n",
    "        # epoch_save_model = path+f'models/CNN/{params[\"model\"]}_model_epoch_'+str(epoch)+'.pth'\n",
    "        # torch.save(model.state_dict(),epoch_save_model)\n",
    "        weight_epoch_list = list(model.parameters())\n",
    "        weights_epoch[f'{epoch}'] = np.squeeze(weight_epoch_list[0].detach().cpu().numpy())\n",
    "        \n",
    "\n",
    "    # Calculate Frobenius norm between weights and decoder every epoch\n",
    "    weights = list(model.parameters())\n",
    "    weight_map = np.squeeze(weights[0].detach().cpu().numpy())\n",
    "    diff_block = train_data.G - weight_map\n",
    "    frob_per_epoch.append(np.linalg.norm(np.abs(diff_block),ord='fro'))\n",
    "    fig, axs = plt.subplots(1,1, figsize=(10,7))\n",
    "    sns.heatmap(weight_map, cmap='gray', ax=axs)\n",
    "    fig.savefig(os.path.join(model.RUN_DIR,f'weights_epoch{epoch+1}.png'),dpi=400)\n",
    "    # weight_heatmap = sns.heatmap(weight_map, cmap='gray')\n",
    "    # figure = weight_heatmap.get_figure()\n",
    "    # figure.savefig(model.RUN_DIR+f'weights_epoch{epoch+1}.png',dpi=400)\n",
    "#torch.save(model.state_dict(), PATH)\n",
    "# End WandB run\n",
    "wandb.finish()"
   ]
  },
  {
   "cell_type": "code",
   "execution_count": 15,
   "id": "c2120292-291e-4eb7-b26f-07541ed477da",
   "metadata": {},
   "outputs": [
    {
     "name": "stdout",
     "output_type": "stream",
     "text": [
      "Error in callback <bound method _WandbInit._resume_backend of <wandb.sdk.wandb_init._WandbInit object at 0x1648ee990>> (for pre_run_cell), with arguments args (<ExecutionInfo object at 16b89e750, raw_cell=\"wandb.finish()\" store_history=True silent=False shell_futures=True cell_id=c2120292-291e-4eb7-b26f-07541ed477da>,),kwargs {}:\n"
     ]
    },
    {
     "ename": "TypeError",
     "evalue": "_WandbInit._resume_backend() takes 1 positional argument but 2 were given",
     "output_type": "error",
     "traceback": [
      "\u001b[0;31m---------------------------------------------------------------------------\u001b[0m",
      "\u001b[0;31mTypeError\u001b[0m                                 Traceback (most recent call last)",
      "\u001b[0;31mTypeError\u001b[0m: _WandbInit._resume_backend() takes 1 positional argument but 2 were given"
     ]
    },
    {
     "data": {
      "text/html": [
       "Waiting for W&B process to finish... <strong style=\"color:green\">(success).</strong>"
      ],
      "text/plain": [
       "<IPython.core.display.HTML object>"
      ]
     },
     "metadata": {},
     "output_type": "display_data"
    },
    {
     "data": {
      "text/html": [
       "<style>\n",
       "    table.wandb td:nth-child(1) { padding: 0 10px; text-align: left ; width: auto;} td:nth-child(2) {text-align: left ; width: 100%}\n",
       "    .wandb-row { display: flex; flex-direction: row; flex-wrap: wrap; justify-content: flex-start; width: 100% }\n",
       "    .wandb-col { display: flex; flex-direction: column; flex-basis: 100%; flex: 1; padding: 10px; }\n",
       "    </style>\n",
       "<div class=\"wandb-row\"><div class=\"wandb-col\"><h3>Run history:</h3><br/><table class=\"wandb\"><tr><td>epoch</td><td>▁</td></tr></table><br/></div><div class=\"wandb-col\"><h3>Run summary:</h3><br/><table class=\"wandb\"><tr><td>epoch</td><td>0</td></tr><tr><td>loss</td><td>nan</td></tr></table><br/></div></div>"
      ],
      "text/plain": [
       "<IPython.core.display.HTML object>"
      ]
     },
     "metadata": {},
     "output_type": "display_data"
    },
    {
     "data": {
      "text/html": [
       " View run <strong style=\"color:#cdcd00\">2024-03-21 14:42:54.423690</strong> at: <a href='https://wandb.ai/jocelynornelasmunoz/ca-learned-decoder/runs/u748f6ea' target=\"_blank\">https://wandb.ai/jocelynornelasmunoz/ca-learned-decoder/runs/u748f6ea</a><br/> View job at <a href='https://wandb.ai/jocelynornelasmunoz/ca-learned-decoder/jobs/QXJ0aWZhY3RDb2xsZWN0aW9uOjE1MTIyODgwOQ==/version_details/v3' target=\"_blank\">https://wandb.ai/jocelynornelasmunoz/ca-learned-decoder/jobs/QXJ0aWZhY3RDb2xsZWN0aW9uOjE1MTIyODgwOQ==/version_details/v3</a><br/>Synced 6 W&B file(s), 0 media file(s), 0 artifact file(s) and 0 other file(s)"
      ],
      "text/plain": [
       "<IPython.core.display.HTML object>"
      ]
     },
     "metadata": {},
     "output_type": "display_data"
    },
    {
     "data": {
      "text/html": [
       "Find logs at: <code>./wandb/run-20240321_144254-u748f6ea/logs</code>"
      ],
      "text/plain": [
       "<IPython.core.display.HTML object>"
      ]
     },
     "metadata": {},
     "output_type": "display_data"
    }
   ],
   "source": [
    "wandb.finish()"
   ]
  },
  {
   "cell_type": "code",
   "execution_count": 9,
   "id": "c93ac155-c2ee-42d5-b121-f26ad4807ab8",
   "metadata": {
    "tags": []
   },
   "outputs": [
    {
     "name": "stdout",
     "output_type": "stream",
     "text": [
      "Dictionary saved to ../runs/decoder_cnn_2024-03-21_14-18-55/weights_epoch.pkl\n",
      "Frobenius saved to ../runs/decoder_cnn_2024-03-21_14-18-55/frob_per_epoch.pkl\n"
     ]
    }
   ],
   "source": [
    "# Save model weights from last epoch\n",
    "torch.save(model.state_dict(), model.params['model_save_path'])\n",
    "\n",
    "# Save weight progression\n",
    "dict_path = model.RUN_DIR+'/weights_epoch.pkl'\n",
    "\n",
    "import pickle\n",
    "# Save weights dictionary to file\n",
    "with open(dict_path, 'wb') as pickle_file:\n",
    "    pickle.dump(weights_epoch, pickle_file)\n",
    "print(f'Dictionary saved to {dict_path}')\n",
    "\n",
    "# save frobenius per epoch\n",
    "with open(model.RUN_DIR+'/frob_per_epoch.pkl', 'wb') as pickle_file:\n",
    "    pickle.dump(frob_per_epoch, pickle_file)\n",
    "print(f'Frobenius saved to {model.RUN_DIR+\"/frob_per_epoch.pkl\"}')"
   ]
  },
  {
   "cell_type": "markdown",
   "id": "5cecbb74-2bb3-4f86-80d7-806f7110e278",
   "metadata": {
    "jp-MarkdownHeadingCollapsed": true
   },
   "source": [
    "# Load model"
   ]
  },
  {
   "cell_type": "code",
   "execution_count": 11,
   "id": "c0d4b347-47a2-49e8-9754-f3e04881ac52",
   "metadata": {
    "tags": []
   },
   "outputs": [],
   "source": [
    "# model.load_state_dict(torch.load('../models/learned_decoder_cnn/decoder_cnn.pth'))\n",
    "# model.load_state_dict(torch.load(model.RUN_DIR+f\"{model.params['model']}.pth\"))"
   ]
  },
  {
   "cell_type": "code",
   "execution_count": 12,
   "id": "9ca356c3-88c3-488a-9fb1-10359d6986f2",
   "metadata": {
    "tags": []
   },
   "outputs": [],
   "source": [
    "weight_map = list(model.parameters())[0].cpu().detach().squeeze(0).squeeze(0)"
   ]
  },
  {
   "cell_type": "code",
   "execution_count": 17,
   "id": "c3cba199-a415-4520-9af7-a4b15a80391a",
   "metadata": {
    "tags": []
   },
   "outputs": [
    {
     "data": {
      "image/png": "[encoded data removed]",
      "text/plain": [
       "<Figure size 1500x700 with 4 Axes>"
      ]
     },
     "metadata": {},
     "output_type": "display_data"
    }
   ],
   "source": [
    "fig, axs = plt.subplots(1,2, figsize = (15,7))\n",
    "sns.heatmap(weight_map, cmap='gray', ax=axs[0])\n",
    "sns.heatmap(train_data.G, cmap='gray', ax=axs[1])\n",
    "\n",
    "axs[0].set_title(\"Learned decoder $G_L$\")\n",
    "axs[1].set_title(\"True decoder $G$\")\n",
    "# fig.savefig('../figs/learned_decoder_cnn_47x47_20_epochs_circular_pad.png')\n",
    "fig.savefig(model.RUN_DIR+'/heat_learned_weights.png',dpi=400)\n",
    "plt.show()"
   ]
  },
  {
   "cell_type": "markdown",
   "id": "bdbea672-004d-429b-813c-2475ea5cd44e",
   "metadata": {
    "jp-MarkdownHeadingCollapsed": true
   },
   "source": [
    "# Test set evaluation"
   ]
  },
  {
   "cell_type": "code",
   "execution_count": 14,
   "id": "1fed846f-e0a9-4cbd-9332-4eab64cd51a6",
   "metadata": {
    "tags": []
   },
   "outputs": [],
   "source": [
    "from torchmetrics.image import StructuralSimilarityIndexMeasure "
   ]
  },
  {
   "cell_type": "code",
   "execution_count": 21,
   "id": "bb9465f0-a58e-4869-9cd5-bb2345b0f2d5",
   "metadata": {
    "tags": []
   },
   "outputs": [],
   "source": [
    "SSIM = StructuralSimilarityIndexMeasure()"
   ]
  },
  {
   "cell_type": "code",
   "execution_count": 23,
   "id": "aecd0262-9fc8-4f29-b38f-8442179f8e13",
   "metadata": {
    "tags": []
   },
   "outputs": [],
   "source": [
    "model.params['snr'] = 'noiseless'\n",
    "# Define transforms \n",
    "transform_list = transforms.Compose(\n",
    "            [   transforms.Grayscale(),\n",
    "                transforms.ToTensor(),\n",
    "                transforms.Resize(params['image_size'], antialias=True),\n",
    "                # Noise_dB(desired_snr=model.params['snr']),\n",
    "                # transforms.Normalize(0, 1),\n",
    "                Normalize_01(),\n",
    "                ])\n",
    "target_transform = transforms.Compose(\n",
    "            [   transforms.Grayscale(),\n",
    "                transforms.ToTensor(),\n",
    "                transforms.Resize((params['image_size'],params['image_size']), antialias=True),\n",
    "                Normalize_01(),\n",
    "                ])\n",
    "\n",
    "# Define test set\n",
    "# test_mnist_mura = MNIST_MURA('../data/MNIST/', params, transform=transform_list, target_transform=target_transform, train=False)\n",
    "test_mura = FashionMURA('../data/FashionMNIST/', params, transform=transform_list, target_transform=target_transform, train=False)\n",
    "testset = DataLoader(test_mura, batch_size=100, shuffle=True)"
   ]
  },
  {
   "cell_type": "code",
   "execution_count": 25,
   "id": "f5993155-81f8-4644-85d3-7f5de3b91f01",
   "metadata": {
    "tags": []
   },
   "outputs": [
    {
     "data": {
      "image/png": "[encoded data removed]",
      "text/plain": [
       "<Figure size 1700x800 with 20 Axes>"
      ]
     },
     "metadata": {},
     "output_type": "display_data"
    }
   ],
   "source": [
    "# Change plotting parameters\n",
    "plt.rcParams.update({\n",
    "    \"text.usetex\": False,\n",
    "    \"font.family\": \"Times\", #\"Computer Modern Serif\"\n",
    "    \"figure.figsize\" : [17,8],\n",
    "})\n",
    "# Printing 25 random images from the test dataset\n",
    "random_samples = np.random.randint(1, len(testset), (5))\n",
    "count = 0\n",
    "for idx in random_samples: #range(random_samples.shape[0]):\n",
    "    plt.subplot(2, 5, count + 1)\n",
    "    sns.heatmap(testset.dataset[idx]['img'].squeeze(0), cmap='gray')\n",
    "    plt.title(f'Encoded image: {testset.dataset[idx][\"digit\"]}')\n",
    "    plt.axis('off')\n",
    "    plt.subplot(2, 5, count + 6)\n",
    "    sns.heatmap(testset.dataset[idx]['target'].squeeze(0), cmap='gray')\n",
    "    plt.title('Original image')\n",
    "    plt.axis('off')\n",
    "    \n",
    "    count += 1\n",
    "plt.tight_layout()\n",
    "plt.savefig(model.RUN_DIR+ f\"encoded_examples_snr_{model.params['snr']}.png\")\n",
    "plt.show()"
   ]
  },
  {
   "cell_type": "code",
   "execution_count": 26,
   "id": "e381538f-299d-46b4-be1e-a98c67fe5f3b",
   "metadata": {
    "tags": []
   },
   "outputs": [],
   "source": [
    "results = []\n",
    "for i, data in enumerate(testset):\n",
    "    inputs, targets, digits = data['img'], data['target'], data['digit']\n",
    "    outputs = model(inputs.to(device))\n",
    "    mse_loss = model.criterion(outputs, targets)\n",
    "    ssim_loss = SSIM(outputs, targets)\n",
    "    results.append((inputs, outputs, targets, digits, mse_loss.item(), ssim_loss.item()))\n",
    "    # show_outputs(outputs, targets, inputs, iterator=i)"
   ]
  },
  {
   "cell_type": "code",
   "execution_count": 27,
   "id": "ed1b6502-c784-4da7-afd0-4aca61fe1125",
   "metadata": {
    "tags": []
   },
   "outputs": [],
   "source": [
    "df = pd.DataFrame(results, columns=['inputs', 'outputs', 'targets', 'digits', 'mse', 'ssim'])"
   ]
  },
  {
   "cell_type": "code",
   "execution_count": 28,
   "id": "c21b8d0b-39b1-49b8-825b-538cd47915e0",
   "metadata": {
    "tags": []
   },
   "outputs": [],
   "source": [
    "import plotly.express as px\n",
    "import plotly.io as pio\n",
    "import plotly.graph_objects as go\n",
    "# pio.renderers.default = 'notebook'"
   ]
  },
  {
   "cell_type": "code",
   "execution_count": 29,
   "id": "f94ffd84-87b7-44df-ad63-ab80fd9c4c16",
   "metadata": {
    "tags": []
   },
   "outputs": [
    {
     "data": {
      "application/vnd.plotly.v1+json": {
       "config": {
        "plotlyServerURL": "https://plot.ly"
       },
       "data": [
        {
         "marker": {
          "color": "darkblue"
         },
         "name": "MSE",
         "type": "box",
         "y": [
          0.02557578682899475,
          0.027314309030771255,
          0.03339488431811333,
          0.02779616042971611,
          0.03026065230369568,
          0.02563341148197651,
          0.026534970849752426,
          0.02626146376132965,
          0.028840309008955956,
          0.02333432249724865,
          0.028720561414957047,
          0.023234130814671516,
          0.026459144428372383,
          0.029434818774461746,
          0.026904137805104256,
          0.02797522582113743,
          0.02832634188234806,
          0.021494781598448753,
          0.02287391945719719,
          0.029263241216540337,
          0.025007080286741257,
          0.025935806334018707,
          0.029922347515821457,
          0.027836155146360397,
          0.028838301077485085,
          0.02770131640136242,
          0.025785014033317566,
          0.022528529167175293,
          0.02688376046717167,
          0.031322699040174484,
          0.027471300214529037,
          0.03157263249158859,
          0.02925780415534973,
          0.02323617972433567,
          0.024644123390316963,
          0.02055961638689041,
          0.033350620418787,
          0.031221751123666763,
          0.029948947951197624,
          0.026853062212467194,
          0.02317677065730095,
          0.025497175753116608,
          0.02443649433553219,
          0.026648178696632385,
          0.024570856243371964,
          0.03468508645892143,
          0.026174494996666908,
          0.029850751161575317,
          0.02993137575685978,
          0.027839334681630135,
          0.025340750813484192,
          0.025255700573325157,
          0.02925270050764084,
          0.03349149599671364,
          0.026817113161087036,
          0.020531490445137024,
          0.027560554444789886,
          0.02324335090816021,
          0.028620827943086624,
          0.025538567453622818,
          0.027587134391069412,
          0.02841389738023281,
          0.02624194696545601,
          0.024319613352417946,
          0.024133548140525818,
          0.026728371158242226,
          0.02585245482623577,
          0.027103014290332794,
          0.031322769820690155,
          0.027995482087135315,
          0.022571448236703873,
          0.02814108319580555,
          0.028279732912778854,
          0.031198224052786827,
          0.025882288813591003,
          0.029551491141319275,
          0.028659943491220474,
          0.02733612433075905,
          0.026876235380768776,
          0.024866053834557533,
          0.02773761749267578,
          0.02471209317445755,
          0.024929838255047798,
          0.02813354693353176,
          0.029887119308114052,
          0.03110450506210327,
          0.02775353565812111,
          0.025006335228681564,
          0.022951995953917503,
          0.02707335539162159,
          0.026470934972167015,
          0.02614683099091053,
          0.03304005414247513,
          0.03009796142578125,
          0.02844865992665291,
          0.02423613891005516,
          0.02683412656188011,
          0.030070871114730835,
          0.025253038853406906,
          0.03210432454943657
         ]
        },
        {
         "marker": {
          "color": "royalblue"
         },
         "name": "SSIM",
         "type": "box",
         "y": [
          0.7480670213699341,
          0.723814070224762,
          0.6821221113204956,
          0.7082822322845459,
          0.6674496531486511,
          0.7060986161231995,
          0.7359177470207214,
          0.7110674381256104,
          0.7284218072891235,
          0.7127273082733154,
          0.7513247132301331,
          0.6937476992607117,
          0.704713761806488,
          0.7055984735488892,
          0.699931263923645,
          0.6924100518226624,
          0.7024917602539062,
          0.7594402432441711,
          0.7121893167495728,
          0.6953892707824707,
          0.7120059728622437,
          0.6911773681640625,
          0.7087587118148804,
          0.7289053201675415,
          0.7189363837242126,
          0.7160797715187073,
          0.713402271270752,
          0.7079857587814331,
          0.7103314399719238,
          0.7080764770507812,
          0.7153669595718384,
          0.689985990524292,
          0.683265745639801,
          0.7118569016456604,
          0.7318229675292969,
          0.7662814855575562,
          0.6919363141059875,
          0.6788491606712341,
          0.7429392337799072,
          0.7374426126480103,
          0.7450939416885376,
          0.7143653631210327,
          0.7310452461242676,
          0.7183048129081726,
          0.7257737517356873,
          0.6750183701515198,
          0.6982380747795105,
          0.7314453125,
          0.7201725244522095,
          0.7378730773925781,
          0.7130922675132751,
          0.7303314208984375,
          0.7039397954940796,
          0.6653791069984436,
          0.7242025136947632,
          0.7623586058616638,
          0.70814049243927,
          0.723921537399292,
          0.7185360789299011,
          0.686706006526947,
          0.7173593640327454,
          0.7134113311767578,
          0.6950473785400391,
          0.7310145497322083,
          0.7262946367263794,
          0.7022106647491455,
          0.7022625803947449,
          0.728665292263031,
          0.6819237470626831,
          0.7276144623756409,
          0.7205540537834167,
          0.7038907408714294,
          0.7548660039901733,
          0.7002594470977783,
          0.7248671650886536,
          0.6867218613624573,
          0.6816109418869019,
          0.7104406952857971,
          0.6957844495773315,
          0.7287513017654419,
          0.7169879078865051,
          0.6985574960708618,
          0.7388885021209717,
          0.7105625867843628,
          0.6976274251937866,
          0.6882980465888977,
          0.6838335990905762,
          0.6869089007377625,
          0.6942241191864014,
          0.7204927206039429,
          0.7213618755340576,
          0.7127788662910461,
          0.6524930000305176,
          0.6978313326835632,
          0.6989782452583313,
          0.7205947637557983,
          0.7116127610206604,
          0.7013731598854065,
          0.7246955037117004,
          0.685299813747406
         ]
        }
       ],
       "layout": {
        "autosize": false,
        "font": {
         "size": 30
        },
        "height": 900,
        "template": {
         "data": {
          "bar": [
           {
            "error_x": {
             "color": "#2a3f5f"
            },
            "error_y": {
             "color": "#2a3f5f"
            },
            "marker": {
             "line": {
              "color": "#E5ECF6",
              "width": 0.5
             },
             "pattern": {
              "fillmode": "overlay",
              "size": 10,
              "solidity": 0.2
             }
            },
            "type": "bar"
           }
          ],
          "barpolar": [
           {
            "marker": {
             "line": {
              "color": "#E5ECF6",
              "width": 0.5
             },
             "pattern": {
              "fillmode": "overlay",
              "size": 10,
              "solidity": 0.2
             }
            },
            "type": "barpolar"
           }
          ],
          "carpet": [
           {
            "aaxis": {
             "endlinecolor": "#2a3f5f",
             "gridcolor": "white",
             "linecolor": "white",
             "minorgridcolor": "white",
             "startlinecolor": "#2a3f5f"
            },
            "baxis": {
             "endlinecolor": "#2a3f5f",
             "gridcolor": "white",
             "linecolor": "white",
             "minorgridcolor": "white",
             "startlinecolor": "#2a3f5f"
            },
            "type": "carpet"
           }
          ],
          "choropleth": [
           {
            "colorbar": {
             "outlinewidth": 0,
             "ticks": ""
            },
            "type": "choropleth"
           }
          ],
          "contour": [
           {
            "colorbar": {
             "outlinewidth": 0,
             "ticks": ""
            },
            "colorscale": [
             [
              0,
              "#0d0887"
             ],
             [
              0.1111111111111111,
              "#46039f"
             ],
             [
              0.2222222222222222,
              "#7201a8"
             ],
             [
              0.3333333333333333,
              "#9c179e"
             ],
             [
              0.4444444444444444,
              "#bd3786"
             ],
             [
              0.5555555555555556,
              "#d8576b"
             ],
             [
              0.6666666666666666,
              "#ed7953"
             ],
             [
              0.7777777777777778,
              "#fb9f3a"
             ],
             [
              0.8888888888888888,
              "#fdca26"
             ],
             [
              1,
              "#f0f921"
             ]
            ],
            "type": "contour"
           }
          ],
          "contourcarpet": [
           {
            "colorbar": {
             "outlinewidth": 0,
             "ticks": ""
            },
            "type": "contourcarpet"
           }
          ],
          "heatmap": [
           {
            "colorbar": {
             "outlinewidth": 0,
             "ticks": ""
            },
            "colorscale": [
             [
              0,
              "#0d0887"
             ],
             [
              0.1111111111111111,
              "#46039f"
             ],
             [
              0.2222222222222222,
              "#7201a8"
             ],
             [
              0.3333333333333333,
              "#9c179e"
             ],
             [
              0.4444444444444444,
              "#bd3786"
             ],
             [
              0.5555555555555556,
              "#d8576b"
             ],
             [
              0.6666666666666666,
              "#ed7953"
             ],
             [
              0.7777777777777778,
              "#fb9f3a"
             ],
             [
              0.8888888888888888,
              "#fdca26"
             ],
             [
              1,
              "#f0f921"
             ]
            ],
            "type": "heatmap"
           }
          ],
          "heatmapgl": [
           {
            "colorbar": {
             "outlinewidth": 0,
             "ticks": ""
            },
            "colorscale": [
             [
              0,
              "#0d0887"
             ],
             [
              0.1111111111111111,
              "#46039f"
             ],
             [
              0.2222222222222222,
              "#7201a8"
             ],
             [
              0.3333333333333333,
              "#9c179e"
             ],
             [
              0.4444444444444444,
              "#bd3786"
             ],
             [
              0.5555555555555556,
              "#d8576b"
             ],
             [
              0.6666666666666666,
              "#ed7953"
             ],
             [
              0.7777777777777778,
              "#fb9f3a"
             ],
             [
              0.8888888888888888,
              "#fdca26"
             ],
             [
              1,
              "#f0f921"
             ]
            ],
            "type": "heatmapgl"
           }
          ],
          "histogram": [
           {
            "marker": {
             "pattern": {
              "fillmode": "overlay",
              "size": 10,
              "solidity": 0.2
             }
            },
            "type": "histogram"
           }
          ],
          "histogram2d": [
           {
            "colorbar": {
             "outlinewidth": 0,
             "ticks": ""
            },
            "colorscale": [
             [
              0,
              "#0d0887"
             ],
             [
              0.1111111111111111,
              "#46039f"
             ],
             [
              0.2222222222222222,
              "#7201a8"
             ],
             [
              0.3333333333333333,
              "#9c179e"
             ],
             [
              0.4444444444444444,
              "#bd3786"
             ],
             [
              0.5555555555555556,
              "#d8576b"
             ],
             [
              0.6666666666666666,
              "#ed7953"
             ],
             [
              0.7777777777777778,
              "#fb9f3a"
             ],
             [
              0.8888888888888888,
              "#fdca26"
             ],
             [
              1,
              "#f0f921"
             ]
            ],
            "type": "histogram2d"
           }
          ],
          "histogram2dcontour": [
           {
            "colorbar": {
             "outlinewidth": 0,
             "ticks": ""
            },
            "colorscale": [
             [
              0,
              "#0d0887"
             ],
             [
              0.1111111111111111,
              "#46039f"
             ],
             [
              0.2222222222222222,
              "#7201a8"
             ],
             [
              0.3333333333333333,
              "#9c179e"
             ],
             [
              0.4444444444444444,
              "#bd3786"
             ],
             [
              0.5555555555555556,
              "#d8576b"
             ],
             [
              0.6666666666666666,
              "#ed7953"
             ],
             [
              0.7777777777777778,
              "#fb9f3a"
             ],
             [
              0.8888888888888888,
              "#fdca26"
             ],
             [
              1,
              "#f0f921"
             ]
            ],
            "type": "histogram2dcontour"
           }
          ],
          "mesh3d": [
           {
            "colorbar": {
             "outlinewidth": 0,
             "ticks": ""
            },
            "type": "mesh3d"
           }
          ],
          "parcoords": [
           {
            "line": {
             "colorbar": {
              "outlinewidth": 0,
              "ticks": ""
             }
            },
            "type": "parcoords"
           }
          ],
          "pie": [
           {
            "automargin": true,
            "type": "pie"
           }
          ],
          "scatter": [
           {
            "fillpattern": {
             "fillmode": "overlay",
             "size": 10,
             "solidity": 0.2
            },
            "type": "scatter"
           }
          ],
          "scatter3d": [
           {
            "line": {
             "colorbar": {
              "outlinewidth": 0,
              "ticks": ""
             }
            },
            "marker": {
             "colorbar": {
              "outlinewidth": 0,
              "ticks": ""
             }
            },
            "type": "scatter3d"
           }
          ],
          "scattercarpet": [
           {
            "marker": {
             "colorbar": {
              "outlinewidth": 0,
              "ticks": ""
             }
            },
            "type": "scattercarpet"
           }
          ],
          "scattergeo": [
           {
            "marker": {
             "colorbar": {
              "outlinewidth": 0,
              "ticks": ""
             }
            },
            "type": "scattergeo"
           }
          ],
          "scattergl": [
           {
            "marker": {
             "colorbar": {
              "outlinewidth": 0,
              "ticks": ""
             }
            },
            "type": "scattergl"
           }
          ],
          "scattermapbox": [
           {
            "marker": {
             "colorbar": {
              "outlinewidth": 0,
              "ticks": ""
             }
            },
            "type": "scattermapbox"
           }
          ],
          "scatterpolar": [
           {
            "marker": {
             "colorbar": {
              "outlinewidth": 0,
              "ticks": ""
             }
            },
            "type": "scatterpolar"
           }
          ],
          "scatterpolargl": [
           {
            "marker": {
             "colorbar": {
              "outlinewidth": 0,
              "ticks": ""
             }
            },
            "type": "scatterpolargl"
           }
          ],
          "scatterternary": [
           {
            "marker": {
             "colorbar": {
              "outlinewidth": 0,
              "ticks": ""
             }
            },
            "type": "scatterternary"
           }
          ],
          "surface": [
           {
            "colorbar": {
             "outlinewidth": 0,
             "ticks": ""
            },
            "colorscale": [
             [
              0,
              "#0d0887"
             ],
             [
              0.1111111111111111,
              "#46039f"
             ],
             [
              0.2222222222222222,
              "#7201a8"
             ],
             [
              0.3333333333333333,
              "#9c179e"
             ],
             [
              0.4444444444444444,
              "#bd3786"
             ],
             [
              0.5555555555555556,
              "#d8576b"
             ],
             [
              0.6666666666666666,
              "#ed7953"
             ],
             [
              0.7777777777777778,
              "#fb9f3a"
             ],
             [
              0.8888888888888888,
              "#fdca26"
             ],
             [
              1,
              "#f0f921"
             ]
            ],
            "type": "surface"
           }
          ],
          "table": [
           {
            "cells": {
             "fill": {
              "color": "#EBF0F8"
             },
             "line": {
              "color": "white"
             }
            },
            "header": {
             "fill": {
              "color": "#C8D4E3"
             },
             "line": {
              "color": "white"
             }
            },
            "type": "table"
           }
          ]
         },
         "layout": {
          "annotationdefaults": {
           "arrowcolor": "#2a3f5f",
           "arrowhead": 0,
           "arrowwidth": 1
          },
          "autotypenumbers": "strict",
          "coloraxis": {
           "colorbar": {
            "outlinewidth": 0,
            "ticks": ""
           }
          },
          "colorscale": {
           "diverging": [
            [
             0,
             "#8e0152"
            ],
            [
             0.1,
             "#c51b7d"
            ],
            [
             0.2,
             "#de77ae"
            ],
            [
             0.3,
             "#f1b6da"
            ],
            [
             0.4,
             "#fde0ef"
            ],
            [
             0.5,
             "#f7f7f7"
            ],
            [
             0.6,
             "#e6f5d0"
            ],
            [
             0.7,
             "#b8e186"
            ],
            [
             0.8,
             "#7fbc41"
            ],
            [
             0.9,
             "#4d9221"
            ],
            [
             1,
             "#276419"
            ]
           ],
           "sequential": [
            [
             0,
             "#0d0887"
            ],
            [
             0.1111111111111111,
             "#46039f"
            ],
            [
             0.2222222222222222,
             "#7201a8"
            ],
            [
             0.3333333333333333,
             "#9c179e"
            ],
            [
             0.4444444444444444,
             "#bd3786"
            ],
            [
             0.5555555555555556,
             "#d8576b"
            ],
            [
             0.6666666666666666,
             "#ed7953"
            ],
            [
             0.7777777777777778,
             "#fb9f3a"
            ],
            [
             0.8888888888888888,
             "#fdca26"
            ],
            [
             1,
             "#f0f921"
            ]
           ],
           "sequentialminus": [
            [
             0,
             "#0d0887"
            ],
            [
             0.1111111111111111,
             "#46039f"
            ],
            [
             0.2222222222222222,
             "#7201a8"
            ],
            [
             0.3333333333333333,
             "#9c179e"
            ],
            [
             0.4444444444444444,
             "#bd3786"
            ],
            [
             0.5555555555555556,
             "#d8576b"
            ],
            [
             0.6666666666666666,
             "#ed7953"
            ],
            [
             0.7777777777777778,
             "#fb9f3a"
            ],
            [
             0.8888888888888888,
             "#fdca26"
            ],
            [
             1,
             "#f0f921"
            ]
           ]
          },
          "colorway": [
           "#636efa",
           "#EF553B",
           "#00cc96",
           "#ab63fa",
           "#FFA15A",
           "#19d3f3",
           "#FF6692",
           "#B6E880",
           "#FF97FF",
           "#FECB52"
          ],
          "font": {
           "color": "#2a3f5f"
          },
          "geo": {
           "bgcolor": "white",
           "lakecolor": "white",
           "landcolor": "#E5ECF6",
           "showlakes": true,
           "showland": true,
           "subunitcolor": "white"
          },
          "hoverlabel": {
           "align": "left"
          },
          "hovermode": "closest",
          "mapbox": {
           "style": "light"
          },
          "paper_bgcolor": "white",
          "plot_bgcolor": "#E5ECF6",
          "polar": {
           "angularaxis": {
            "gridcolor": "white",
            "linecolor": "white",
            "ticks": ""
           },
           "bgcolor": "#E5ECF6",
           "radialaxis": {
            "gridcolor": "white",
            "linecolor": "white",
            "ticks": ""
           }
          },
          "scene": {
           "xaxis": {
            "backgroundcolor": "#E5ECF6",
            "gridcolor": "white",
            "gridwidth": 2,
            "linecolor": "white",
            "showbackground": true,
            "ticks": "",
            "zerolinecolor": "white"
           },
           "yaxis": {
            "backgroundcolor": "#E5ECF6",
            "gridcolor": "white",
            "gridwidth": 2,
            "linecolor": "white",
            "showbackground": true,
            "ticks": "",
            "zerolinecolor": "white"
           },
           "zaxis": {
            "backgroundcolor": "#E5ECF6",
            "gridcolor": "white",
            "gridwidth": 2,
            "linecolor": "white",
            "showbackground": true,
            "ticks": "",
            "zerolinecolor": "white"
           }
          },
          "shapedefaults": {
           "line": {
            "color": "#2a3f5f"
           }
          },
          "ternary": {
           "aaxis": {
            "gridcolor": "white",
            "linecolor": "white",
            "ticks": ""
           },
           "baxis": {
            "gridcolor": "white",
            "linecolor": "white",
            "ticks": ""
           },
           "bgcolor": "#E5ECF6",
           "caxis": {
            "gridcolor": "white",
            "linecolor": "white",
            "ticks": ""
           }
          },
          "title": {
           "x": 0.05
          },
          "xaxis": {
           "automargin": true,
           "gridcolor": "white",
           "linecolor": "white",
           "ticks": "",
           "title": {
            "standoff": 15
           },
           "zerolinecolor": "white",
           "zerolinewidth": 2
          },
          "yaxis": {
           "automargin": true,
           "gridcolor": "white",
           "linecolor": "white",
           "ticks": "",
           "title": {
            "standoff": 15
           },
           "zerolinecolor": "white",
           "zerolinewidth": 2
          }
         }
        },
        "width": 1200,
        "xaxis": {
         "autorange": true,
         "range": [
          -0.5,
          1.5
         ],
         "type": "category"
        },
        "yaxis": {
         "range": [
          0,
          1
         ],
         "tickmode": "array",
         "title": {
          "font": {
           "size": 30
          }
         },
         "type": "linear"
        }
       }
      },
      "image/png": "[encoded data removed]"
     },
     "metadata": {},
     "output_type": "display_data"
    }
   ],
   "source": [
    "y0 = df.mse\n",
    "y1 = df.ssim\n",
    "\n",
    "fig = go.Figure()\n",
    "fig.add_trace(go.Box(y=y0, name='MSE',\n",
    "                marker_color = 'darkblue'))\n",
    "fig.add_trace(go.Box(y=y1, name = 'SSIM',\n",
    "                marker_color = 'royalblue'))\n",
    "fig.update_layout(\n",
    "    autosize=False,\n",
    "    width=1200,\n",
    "    height=900,\n",
    "    yaxis=dict(\n",
    "        # title_text=\"Y-axis Title\",\n",
    "        # ticktext=[\"Very long label\", \"long label\", \"3\", \"label\"],\n",
    "        # tickvals=,\n",
    "        tickmode=\"array\",\n",
    "        titlefont=dict(size=30),\n",
    "    ),\n",
    "    yaxis_range=[0,1],\n",
    "    font=dict(size=30),\n",
    ")\n",
    "fig.show(renderer=\"jupyterlab\")\n",
    "fig.write_image(model.RUN_DIR + f'boxplot_metrics_snr_{model.params[\"snr\"]}.png')"
   ]
  },
  {
   "cell_type": "markdown",
   "id": "f0142e25-a091-430d-acac-5a17be1d1fea",
   "metadata": {
    "jp-MarkdownHeadingCollapsed": true
   },
   "source": [
    "# Rotate the weights"
   ]
  },
  {
   "cell_type": "code",
   "execution_count": 10,
   "id": "60bdfa7f-37ad-4e49-95fe-7f355909a7c4",
   "metadata": {
    "tags": []
   },
   "outputs": [
    {
     "data": {
      "text/plain": [
       "<matplotlib.image.AxesImage at 0x16af795d0>"
      ]
     },
     "execution_count": 10,
     "metadata": {},
     "output_type": "execute_result"
    },
    {
     "data": {
      "image/png": "[encoded data removed]",
      "text/plain": [
       "<Figure size 640x480 with 1 Axes>"
      ]
     },
     "metadata": {},
     "output_type": "display_data"
    }
   ],
   "source": [
    "# Rotate the weights 180 degrees\n",
    "w_rot90 = torch.rot90(torch.Tensor(weight_map), 1, [0, 1])\n",
    "w_rot180 = torch.rot90(w_rot90, 1, [0, 1])\n",
    "plt.imshow(w_rot180, cmap='gray')"
   ]
  },
  {
   "cell_type": "code",
   "execution_count": 12,
   "id": "a13acb36-a00d-465a-9354-63bdf6b3bb02",
   "metadata": {
    "tags": []
   },
   "outputs": [
    {
     "data": {
      "text/plain": [
       "46.22061846670332"
      ]
     },
     "execution_count": 12,
     "metadata": {},
     "output_type": "execute_result"
    }
   ],
   "source": [
    "np.linalg.norm(np.abs(w_rot180 - train_data.G),ord='fro')"
   ]
  },
  {
   "cell_type": "code",
   "execution_count": 14,
   "id": "c70b6ff0-3648-4042-8979-bbf5d0725385",
   "metadata": {
    "tags": []
   },
   "outputs": [],
   "source": [
    "pad = params['image_size']//2\n",
    "padded_ex = torch.nn.functional.pad(loaders['train'].dataset[idx]['target'].unsqueeze(0), pad=(pad,pad,pad,pad), mode='circular')\n",
    "padded_ex = padded_ex.squeeze(0).squeeze(0)"
   ]
  },
  {
   "cell_type": "code",
   "execution_count": 15,
   "id": "576aa903-ae03-4e34-a87a-9657029465c9",
   "metadata": {
    "tags": []
   },
   "outputs": [
    {
     "data": {
      "image/png": "[encoded data removed]",
      "text/plain": [
       "<Figure size 640x480 with 1 Axes>"
      ]
     },
     "metadata": {},
     "output_type": "display_data"
    }
   ],
   "source": [
    "plt.imshow(padded_ex, cmap='gray')\n",
    "plt.show()"
   ]
  },
  {
   "cell_type": "code",
   "execution_count": null,
   "id": "580f6709-a14d-494a-87a1-8962f84d4595",
   "metadata": {},
   "outputs": [],
   "source": []
  },
  {
   "cell_type": "markdown",
   "id": "9c452ef0-004c-4779-bc32-c4982f26811b",
   "metadata": {},
   "source": [
    "# To be deleted"
   ]
  },
  {
   "cell_type": "code",
   "execution_count": 5,
   "id": "473cc739-fb74-418b-a62e-d8b7ccdd62d1",
   "metadata": {},
   "outputs": [],
   "source": [
    "from tqdm import tqdm"
   ]
  },
  {
   "cell_type": "code",
   "execution_count": 7,
   "id": "87c23966-edd2-48a2-b8da-4d6f11e69f48",
   "metadata": {},
   "outputs": [
    {
     "name": "stderr",
     "output_type": "stream",
     "text": [
      "100%|████████████████████████████████████████| 600/600 [00:01<00:00, 365.19it/s]\n"
     ]
    }
   ],
   "source": [
    "##### COMPUTE PIXEL SUM AND SQUARED SUM\n",
    "\n",
    "# placeholders\n",
    "psum    = torch.tensor([0.0])\n",
    "psum_sq = torch.tensor([0.0])\n",
    "\n",
    "# loop through images\n",
    "for inputs in tqdm(loaders['train']):\n",
    "    img, target, digits = inputs.values()\n",
    "    psum    += img.sum()\n",
    "    psum_sq += (img ** 2).sum()"
   ]
  },
  {
   "cell_type": "code",
   "execution_count": 8,
   "id": "aa857620-a038-422c-85fe-bd2692584f22",
   "metadata": {},
   "outputs": [
    {
     "name": "stdout",
     "output_type": "stream",
     "text": [
      "Training data stats:\n",
      "- mean: 344.8359\n",
      "- std:  nan\n"
     ]
    }
   ],
   "source": [
    "# pixel count\n",
    "count = len(loaders['train']) * params['image_size'] * params['image_size']\n",
    "\n",
    "# mean and STD\n",
    "total_mean = psum / count\n",
    "total_var  = (psum_sq / count) - (total_mean ** 2)\n",
    "total_std  = torch.sqrt(total_var)\n",
    "\n",
    "# output\n",
    "print('Training data stats:')\n",
    "print('- mean: {:.4f}'.format(total_mean.item()))\n",
    "print('- std:  {:.4f}'.format(total_std.item()))"
   ]
  },
  {
   "cell_type": "code",
   "execution_count": null,
   "id": "ae23a01b-c516-433e-a558-27dcd54e4598",
   "metadata": {},
   "outputs": [],
   "source": []
  },
  {
   "cell_type": "code",
   "execution_count": null,
   "id": "6f8681aa-3fa6-4d31-8e2e-21bf3ba65859",
   "metadata": {},
   "outputs": [],
   "source": []
  },
  {
   "cell_type": "code",
   "execution_count": 12,
   "id": "539f658b-a5d3-49ba-a5e0-da98cb9e3d0b",
   "metadata": {},
   "outputs": [
    {
     "name": "stdout",
     "output_type": "stream",
     "text": [
      "Target min 0.0 | max 0.5\n",
      "Image min 14.6 | max 23.3\n"
     ]
    }
   ],
   "source": [
    "print(\"Target min {:.1f} | max {:.1f}\".format(target.min(), target.max()))\n",
    "print(\"Image min {:.1f} | max {:.1f}\".format(img.min(), img.max()))"
   ]
  },
  {
   "cell_type": "code",
   "execution_count": 13,
   "id": "003f6780-39d8-4152-a54a-854a9abd7d85",
   "metadata": {},
   "outputs": [
    {
     "data": {
      "text/plain": [
       "tensor(46.0593)"
      ]
     },
     "execution_count": 13,
     "metadata": {},
     "output_type": "execute_result"
    }
   ],
   "source": [
    "img.max()/target.max()"
   ]
  },
  {
   "cell_type": "code",
   "execution_count": 14,
   "id": "f1928073-2a2c-4805-b464-51a582b75ce5",
   "metadata": {},
   "outputs": [
    {
     "data": {
      "text/plain": [
       "tensor(264.)"
      ]
     },
     "execution_count": 14,
     "metadata": {},
     "output_type": "execute_result"
    }
   ],
   "source": [
    "train_data.A.sum()"
   ]
  },
  {
   "cell_type": "code",
   "execution_count": 15,
   "id": "5b30e0e8-3bb8-4108-957e-e643a000328f",
   "metadata": {},
   "outputs": [],
   "source": [
    "min_vals = [train_data.data[i].min().item() for i in range(len(train_data.data))]\n",
    "max_vals = [train_data.data[i].max().item() for i in range(len(train_data.data))]"
   ]
  },
  {
   "cell_type": "code",
   "execution_count": 7,
   "id": "ab9f0178-8748-4f52-a056-4dc613b3246b",
   "metadata": {},
   "outputs": [
    {
     "data": {
      "text/plain": [
       "<Axes: ylabel='Count'>"
      ]
     },
     "execution_count": 7,
     "metadata": {},
     "output_type": "execute_result"
    },
    {
     "data": {
      "image/png": "[encoded data removed]",
      "text/plain": [
       "<Figure size 640x480 with 1 Axes>"
      ]
     },
     "metadata": {},
     "output_type": "display_data"
    }
   ],
   "source": [
    "avg_vals = [train_data.data[i].max().item()/train_data.data[i].min().item() for i in range(len(train_data.data))]\n",
    "sns.histplot(avg_vals)"
   ]
  },
  {
   "cell_type": "code",
   "execution_count": null,
   "id": "497b348f-b5d3-4ff9-8857-61b1ace1c399",
   "metadata": {},
   "outputs": [],
   "source": []
  },
  {
   "cell_type": "code",
   "execution_count": 9,
   "id": "4e82e552-1f2e-404f-9323-95d16dc83724",
   "metadata": {},
   "outputs": [
    {
     "data": {
      "text/plain": [
       "0.04215248952415204"
      ]
     },
     "execution_count": 9,
     "metadata": {},
     "output_type": "execute_result"
    }
   ],
   "source": [
    "np.mean(max_vals)/(23*23)"
   ]
  },
  {
   "cell_type": "code",
   "execution_count": 10,
   "id": "b354e84f-ee11-4784-9f08-2641957de6ca",
   "metadata": {},
   "outputs": [
    {
     "data": {
      "text/plain": [
       "<Axes: ylabel='Count'>"
      ]
     },
     "execution_count": 10,
     "metadata": {},
     "output_type": "execute_result"
    },
    {
     "data": {
      "image/png": "[encoded data removed]",
      "text/plain": [
       "<Figure size 640x480 with 1 Axes>"
      ]
     },
     "metadata": {},
     "output_type": "display_data"
    }
   ],
   "source": [
    "sns.histplot(min_vals)\n",
    "sns.histplot(max_vals)"
   ]
  }
 ],
 "metadata": {
  "kernelspec": {
   "display_name": "Python 3 (ipykernel)",
   "language": "python",
   "name": "python3"
  },
  "language_info": {
   "codemirror_mode": {
    "name": "ipython",
    "version": 3
   },
   "file_extension": ".py",
   "mimetype": "text/x-python",
   "name": "python",
   "nbconvert_exporter": "python",
   "pygments_lexer": "ipython3",
   "version": "3.11.7"
  }
 },
 "nbformat": 4,
 "nbformat_minor": 5
}
