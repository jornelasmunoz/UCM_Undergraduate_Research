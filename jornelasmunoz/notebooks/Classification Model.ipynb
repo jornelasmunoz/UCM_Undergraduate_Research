{
 "cells": [
  {
   "cell_type": "code",
   "execution_count": 1,
   "id": "d1ee478c-9434-475c-96c0-1163e8e2294e",
   "metadata": {},
   "outputs": [],
   "source": [
    "%load_ext autoreload\n",
    "%autoreload 2"
   ]
  },
  {
   "cell_type": "markdown",
   "id": "f31e617f-c412-455a-bd46-e487a810c519",
   "metadata": {},
   "source": [
    "# Classification Task"
   ]
  },
  {
   "cell_type": "code",
   "execution_count": 2,
   "id": "4951ea99-3476-46cf-99a6-3f361b5d760d",
   "metadata": {
    "tags": []
   },
   "outputs": [
    {
     "name": "stdout",
     "output_type": "stream",
     "text": [
      "Using path =  /Users/jocelynornelas/iCloud Drive (Archive)/Desktop/UC Merced/Research/coded-aperture/jornelasmunoz/\n"
     ]
    }
   ],
   "source": [
    "import os, sys\n",
    "import numpy as np\n",
    "import matplotlib.pyplot as plt\n",
    "#from scipy.fft import fft2, ifft2, fft, ifft\n",
    "\n",
    "#from torchvision import datasets\n",
    "import torchvision.transforms as transforms\n",
    "import torch\n",
    "#import torch.nn as nn\n",
    "#import torch.nn.functional as F\n",
    "import wandb\n",
    "\n",
    "desktop_path = '/Users/jocelynornelasmunoz/Desktop/Research/coded-aperture/jornelasmunoz/'\n",
    "laptop_path = '/Users/jocelynornelas/iCloud Drive (Archive)/Desktop/UC Merced/Research/coded-aperture/jornelasmunoz/'\n",
    "if desktop_path in sys.path[0]: sys.path.insert(0, desktop_path + 'lib/'); path = desktop_path\n",
    "elif laptop_path in sys.path[0]: sys.path.insert(0, laptop_path + 'lib/'); path = laptop_path\n",
    "print('Using path = ', path)\n",
    "#sys.path.insert(0, '/Users/jocelynornelas/iCloud Drive (Archive)/Desktop/UC Merced/Research/coded-aperture/jornelasmunoz/lib/')\n",
    "import MURA as mura\n",
    "from CNN import CNN"
   ]
  },
  {
   "cell_type": "code",
   "execution_count": 3,
   "id": "45de13a4-1e8d-4c6c-8f2b-d10cea4462cb",
   "metadata": {},
   "outputs": [],
   "source": [
    "plt.rcParams.update({\n",
    "    \"text.usetex\": True,\n",
    "    \"font.family\": \"Times\" #\"Computer Modern Serif\"\n",
    "})"
   ]
  },
  {
   "cell_type": "code",
   "execution_count": 4,
   "id": "e05c49da-b92e-42b7-87ae-c6d1d190878a",
   "metadata": {},
   "outputs": [
    {
     "name": "stdout",
     "output_type": "stream",
     "text": [
      "Using cpu device\n"
     ]
    }
   ],
   "source": [
    "device = \"cuda\" if torch.cuda.is_available() else \"cpu\"\n",
    "print(f\"Using {device} device\")"
   ]
  },
  {
   "cell_type": "code",
   "execution_count": 5,
   "id": "13b95311-0f5e-4514-820b-7af1581849a0",
   "metadata": {
    "tags": []
   },
   "outputs": [
    {
     "name": "stderr",
     "output_type": "stream",
     "text": [
      "\u001b[34m\u001b[1mwandb\u001b[0m: Currently logged in as: \u001b[33mjocelynornelasmunoz\u001b[0m. Use \u001b[1m`wandb login --relogin`\u001b[0m to force relogin\n"
     ]
    },
    {
     "data": {
      "text/html": [
       "Tracking run with wandb version 0.13.5"
      ],
      "text/plain": [
       "<IPython.core.display.HTML object>"
      ]
     },
     "metadata": {},
     "output_type": "display_data"
    },
    {
     "data": {
      "text/html": [
       "Run data is saved locally in <code>/Users/jocelynornelas/iCloud Drive (Archive)/Desktop/UC Merced/Research/coded-aperture/jornelasmunoz/notebooks/wandb/run-20221130_145204-3bdzsl4t</code>"
      ],
      "text/plain": [
       "<IPython.core.display.HTML object>"
      ]
     },
     "metadata": {},
     "output_type": "display_data"
    },
    {
     "data": {
      "text/html": [
       "Syncing run <strong><a href=\"https://wandb.ai/jocelynornelasmunoz/coded-aperture-MNIST/runs/3bdzsl4t\" target=\"_blank\">rural-totem-28</a></strong> to <a href=\"https://wandb.ai/jocelynornelasmunoz/coded-aperture-MNIST\" target=\"_blank\">Weights & Biases</a> (<a href=\"https://wandb.me/run\" target=\"_blank\">docs</a>)<br/>"
      ],
      "text/plain": [
       "<IPython.core.display.HTML object>"
      ]
     },
     "metadata": {},
     "output_type": "display_data"
    },
    {
     "data": {
      "text/html": [
       "<button onClick=\"this.nextSibling.style.display='block';this.style.display='none';\">Display W&B run</button><iframe src=\"https://wandb.ai/jocelynornelasmunoz/coded-aperture-MNIST/runs/3bdzsl4t?jupyter=true\" style=\"border:none;width:100%;height:420px;display:none;\"></iframe>"
      ],
      "text/plain": [
       "<wandb.sdk.wandb_run.Run at 0x7f785920ef10>"
      ]
     },
     "execution_count": 5,
     "metadata": {},
     "output_type": "execute_result"
    }
   ],
   "source": [
    "wandb.init(project=\"coded-aperture-MNIST\", group=\"2_convolutions\")"
   ]
  },
  {
   "cell_type": "code",
   "execution_count": 6,
   "id": "bc41b3a4-5613-4d05-ad68-d25b228d8327",
   "metadata": {},
   "outputs": [],
   "source": [
    "# capture a dictionary of hyperparameters with config\n",
    "params = {\n",
    " # \"dataset\": \"MNIST\",\n",
    " # \"machine\": \"desktop\",\n",
    " # \"model\": \"CNN -- 2 conv\",\n",
    "  \"learning_rate\": 1e-3,\n",
    "  \"batch_size\": 100,\n",
    "  \"epochs\": 50,\n",
    "}\n",
    "wandb.config = params"
   ]
  },
  {
   "cell_type": "markdown",
   "id": "734f0ec2-62e8-43cd-95b9-631d9bbaf1cd",
   "metadata": {},
   "source": [
    "# Load MNIST Data"
   ]
  },
  {
   "cell_type": "raw",
   "id": "6856974f-b8d4-425a-ad45-870fadeb6294",
   "metadata": {
    "jupyter": {
     "source_hidden": true
    },
    "tags": []
   },
   "source": [
    "class FFT_convolve(object):\n",
    "   \n",
    "   #     Parameters\n",
    "   #    ----------\n",
    "   #   img: 2D numpy array\n",
    "   #         The original image with format of [c, h, w]\n",
    "   #     \n",
    "   # \n",
    "     \n",
    "    def __init__(self, A):\n",
    "        self.encoder = A\n",
    "        self.p = A.shape[0]\n",
    "        \n",
    "    def __call__(self, img):\n",
    "        # Do convolution via FFT   \n",
    "        fft_A = torch.fft.fft2(self.A)\n",
    "        fft_img = torch.fft.fft2(img)\n",
    "        conv_Aimg = torch.real(torch.fft.ifft2(torch.mul(fft_A,fft_img)))\n",
    "        conv_Aimg = torch.roll(conv_Aimg, [int((self.p-1)/2),int((self.p-1)/2)], axis=(0,1))\n",
    "        #img = FFT_convolve(np.squeeze(img.numpy()), self.A, self.p)\n",
    "        #img = torch.unsqueeze(torch.tensor(img), 0)\n",
    "\n",
    "        return conv_Aimg#Image.fromarray(img)\n",
    "\n",
    "    def __repr__(self):\n",
    "        return self.__class__.__name__+'()'"
   ]
  },
  {
   "cell_type": "code",
   "execution_count": 8,
   "id": "b761418f-ee7a-496a-8ef4-065251baa2ea",
   "metadata": {},
   "outputs": [],
   "source": [
    "# Compute MURA encoder and decoder\n",
    "p = 23 # size of array\n",
    "A = mura.create_binary_aperture_arr(p)\n",
    "G = mura.create_decoding_arr(A)\n",
    "\n",
    "# define CNN and get data\n",
    "model = CNN()\n",
    "train_data, test_data = model._get_dataset(A)\n",
    "\n",
    "criterion = torch.nn.CrossEntropyLoss()\n",
    "optimizer = torch.optim.Adam(model.parameters(), lr = 1e-3) \n",
    "PATH = f'../models/mnist_{params[\"epochs\"]}epochs.pth'\n",
    "#wandb.watch(net)"
   ]
  },
  {
   "cell_type": "code",
   "execution_count": 9,
   "id": "d977b2cf-4caf-4d87-bb28-eededd7460d6",
   "metadata": {},
   "outputs": [],
   "source": [
    "loaders = {\n",
    "    'train' : torch.utils.data.DataLoader(train_data, \n",
    "                                          batch_size=params['batch_size'], \n",
    "                                          shuffle=True, \n",
    "                                          num_workers=0),\n",
    "    \n",
    "    'test'  : torch.utils.data.DataLoader(test_data, \n",
    "                                          batch_size=params['batch_size'], \n",
    "                                          shuffle=False, \n",
    "                                          num_workers=0),\n",
    "}"
   ]
  },
  {
   "cell_type": "markdown",
   "id": "1c738eca-37cf-4d0e-815f-0542d37b0a48",
   "metadata": {},
   "source": [
    "## Train"
   ]
  },
  {
   "cell_type": "code",
   "execution_count": 10,
   "id": "ab4da39d-aa54-443e-9448-1b3a75c51e57",
   "metadata": {
    "collapsed": true,
    "jupyter": {
     "outputs_hidden": true
    },
    "tags": []
   },
   "outputs": [
    {
     "name": "stdout",
     "output_type": "stream",
     "text": [
      "[1,   100] loss: 0.112\n",
      "[1,   200] loss: 0.080\n",
      "[1,   300] loss: 0.052\n",
      "[1,   400] loss: 0.040\n",
      "[1,   500] loss: 0.032\n",
      "[1,   600] loss: 0.030\n",
      "[2,   100] loss: 0.026\n",
      "[2,   200] loss: 0.024\n",
      "[2,   300] loss: 0.021\n",
      "[2,   400] loss: 0.021\n",
      "[2,   500] loss: 0.018\n",
      "[2,   600] loss: 0.016\n",
      "[3,   100] loss: 0.017\n",
      "[3,   200] loss: 0.015\n",
      "[3,   300] loss: 0.015\n",
      "[3,   400] loss: 0.014\n",
      "[3,   500] loss: 0.015\n",
      "[3,   600] loss: 0.014\n",
      "[4,   100] loss: 0.012\n",
      "[4,   200] loss: 0.012\n",
      "[4,   300] loss: 0.012\n",
      "[4,   400] loss: 0.012\n",
      "[4,   500] loss: 0.012\n",
      "[4,   600] loss: 0.012\n",
      "[5,   100] loss: 0.011\n",
      "[5,   200] loss: 0.011\n",
      "[5,   300] loss: 0.010\n",
      "[5,   400] loss: 0.011\n",
      "[5,   500] loss: 0.011\n",
      "[5,   600] loss: 0.012\n",
      "[6,   100] loss: 0.011\n",
      "[6,   200] loss: 0.010\n",
      "[6,   300] loss: 0.010\n",
      "[6,   400] loss: 0.009\n",
      "[6,   500] loss: 0.010\n",
      "[6,   600] loss: 0.009\n",
      "[7,   100] loss: 0.009\n",
      "[7,   200] loss: 0.010\n",
      "[7,   300] loss: 0.009\n",
      "[7,   400] loss: 0.010\n",
      "[7,   500] loss: 0.009\n",
      "[7,   600] loss: 0.009\n",
      "[8,   100] loss: 0.009\n",
      "[8,   200] loss: 0.009\n",
      "[8,   300] loss: 0.008\n",
      "[8,   400] loss: 0.009\n",
      "[8,   500] loss: 0.009\n",
      "[8,   600] loss: 0.009\n",
      "[9,   100] loss: 0.008\n",
      "[9,   200] loss: 0.009\n",
      "[9,   300] loss: 0.009\n",
      "[9,   400] loss: 0.008\n",
      "[9,   500] loss: 0.008\n",
      "[9,   600] loss: 0.009\n",
      "[10,   100] loss: 0.008\n",
      "[10,   200] loss: 0.008\n",
      "[10,   300] loss: 0.007\n",
      "[10,   400] loss: 0.008\n",
      "[10,   500] loss: 0.008\n",
      "[10,   600] loss: 0.008\n",
      "[11,   100] loss: 0.007\n",
      "[11,   200] loss: 0.007\n",
      "[11,   300] loss: 0.007\n",
      "[11,   400] loss: 0.008\n",
      "[11,   500] loss: 0.008\n",
      "[11,   600] loss: 0.008\n",
      "[12,   100] loss: 0.007\n",
      "[12,   200] loss: 0.007\n",
      "[12,   300] loss: 0.007\n",
      "[12,   400] loss: 0.007\n",
      "[12,   500] loss: 0.007\n",
      "[12,   600] loss: 0.008\n",
      "[13,   100] loss: 0.006\n",
      "[13,   200] loss: 0.007\n",
      "[13,   300] loss: 0.006\n",
      "[13,   400] loss: 0.007\n",
      "[13,   500] loss: 0.007\n",
      "[13,   600] loss: 0.008\n",
      "[14,   100] loss: 0.006\n",
      "[14,   200] loss: 0.007\n",
      "[14,   300] loss: 0.006\n",
      "[14,   400] loss: 0.007\n",
      "[14,   500] loss: 0.007\n",
      "[14,   600] loss: 0.008\n",
      "[15,   100] loss: 0.006\n",
      "[15,   200] loss: 0.006\n",
      "[15,   300] loss: 0.006\n",
      "[15,   400] loss: 0.007\n",
      "[15,   500] loss: 0.006\n",
      "[15,   600] loss: 0.006\n",
      "[16,   100] loss: 0.006\n",
      "[16,   200] loss: 0.006\n",
      "[16,   300] loss: 0.006\n",
      "[16,   400] loss: 0.006\n",
      "[16,   500] loss: 0.006\n",
      "[16,   600] loss: 0.007\n",
      "[17,   100] loss: 0.006\n",
      "[17,   200] loss: 0.006\n",
      "[17,   300] loss: 0.006\n",
      "[17,   400] loss: 0.006\n",
      "[17,   500] loss: 0.006\n",
      "[17,   600] loss: 0.006\n",
      "[18,   100] loss: 0.005\n",
      "[18,   200] loss: 0.005\n",
      "[18,   300] loss: 0.007\n",
      "[18,   400] loss: 0.005\n",
      "[18,   500] loss: 0.006\n",
      "[18,   600] loss: 0.005\n",
      "[19,   100] loss: 0.005\n",
      "[19,   200] loss: 0.006\n",
      "[19,   300] loss: 0.005\n",
      "[19,   400] loss: 0.006\n",
      "[19,   500] loss: 0.006\n",
      "[19,   600] loss: 0.005\n",
      "[20,   100] loss: 0.005\n",
      "[20,   200] loss: 0.006\n",
      "[20,   300] loss: 0.005\n",
      "[20,   400] loss: 0.006\n",
      "[20,   500] loss: 0.005\n",
      "[20,   600] loss: 0.006\n",
      "[21,   100] loss: 0.005\n",
      "[21,   200] loss: 0.004\n",
      "[21,   300] loss: 0.005\n",
      "[21,   400] loss: 0.005\n",
      "[21,   500] loss: 0.005\n",
      "[21,   600] loss: 0.005\n",
      "[22,   100] loss: 0.005\n",
      "[22,   200] loss: 0.005\n",
      "[22,   300] loss: 0.004\n",
      "[22,   400] loss: 0.005\n",
      "[22,   500] loss: 0.005\n",
      "[22,   600] loss: 0.005\n",
      "[23,   100] loss: 0.004\n",
      "[23,   200] loss: 0.004\n",
      "[23,   300] loss: 0.004\n",
      "[23,   400] loss: 0.005\n",
      "[23,   500] loss: 0.005\n",
      "[23,   600] loss: 0.005\n",
      "[24,   100] loss: 0.005\n",
      "[24,   200] loss: 0.004\n",
      "[24,   300] loss: 0.005\n",
      "[24,   400] loss: 0.004\n",
      "[24,   500] loss: 0.005\n",
      "[24,   600] loss: 0.005\n",
      "[25,   100] loss: 0.004\n",
      "[25,   200] loss: 0.004\n",
      "[25,   300] loss: 0.005\n",
      "[25,   400] loss: 0.005\n",
      "[25,   500] loss: 0.004\n",
      "[25,   600] loss: 0.005\n",
      "[26,   100] loss: 0.004\n",
      "[26,   200] loss: 0.004\n",
      "[26,   300] loss: 0.004\n",
      "[26,   400] loss: 0.004\n",
      "[26,   500] loss: 0.004\n",
      "[26,   600] loss: 0.005\n",
      "[27,   100] loss: 0.004\n",
      "[27,   200] loss: 0.004\n",
      "[27,   300] loss: 0.004\n",
      "[27,   400] loss: 0.004\n",
      "[27,   500] loss: 0.004\n",
      "[27,   600] loss: 0.004\n",
      "[28,   100] loss: 0.004\n",
      "[28,   200] loss: 0.004\n",
      "[28,   300] loss: 0.004\n",
      "[28,   400] loss: 0.004\n",
      "[28,   500] loss: 0.004\n",
      "[28,   600] loss: 0.004\n",
      "[29,   100] loss: 0.003\n",
      "[29,   200] loss: 0.004\n",
      "[29,   300] loss: 0.004\n",
      "[29,   400] loss: 0.004\n",
      "[29,   500] loss: 0.004\n",
      "[29,   600] loss: 0.003\n",
      "[30,   100] loss: 0.003\n",
      "[30,   200] loss: 0.004\n",
      "[30,   300] loss: 0.003\n",
      "[30,   400] loss: 0.003\n",
      "[30,   500] loss: 0.004\n",
      "[30,   600] loss: 0.004\n",
      "[31,   100] loss: 0.003\n",
      "[31,   200] loss: 0.003\n",
      "[31,   300] loss: 0.004\n",
      "[31,   400] loss: 0.003\n",
      "[31,   500] loss: 0.004\n",
      "[31,   600] loss: 0.004\n",
      "[32,   100] loss: 0.004\n",
      "[32,   200] loss: 0.003\n",
      "[32,   300] loss: 0.004\n",
      "[32,   400] loss: 0.003\n",
      "[32,   500] loss: 0.004\n",
      "[32,   600] loss: 0.004\n",
      "[33,   100] loss: 0.003\n",
      "[33,   200] loss: 0.003\n",
      "[33,   300] loss: 0.004\n",
      "[33,   400] loss: 0.004\n",
      "[33,   500] loss: 0.004\n",
      "[33,   600] loss: 0.004\n",
      "[34,   100] loss: 0.003\n",
      "[34,   200] loss: 0.003\n",
      "[34,   300] loss: 0.003\n",
      "[34,   400] loss: 0.003\n",
      "[34,   500] loss: 0.003\n",
      "[34,   600] loss: 0.004\n",
      "[35,   100] loss: 0.003\n",
      "[35,   200] loss: 0.003\n",
      "[35,   300] loss: 0.004\n",
      "[35,   400] loss: 0.003\n",
      "[35,   500] loss: 0.003\n",
      "[35,   600] loss: 0.003\n",
      "[36,   100] loss: 0.003\n",
      "[36,   200] loss: 0.003\n",
      "[36,   300] loss: 0.003\n",
      "[36,   400] loss: 0.003\n",
      "[36,   500] loss: 0.004\n",
      "[36,   600] loss: 0.003\n",
      "[37,   100] loss: 0.003\n",
      "[37,   200] loss: 0.003\n",
      "[37,   300] loss: 0.004\n",
      "[37,   400] loss: 0.003\n",
      "[37,   500] loss: 0.003\n",
      "[37,   600] loss: 0.003\n",
      "[38,   100] loss: 0.003\n",
      "[38,   200] loss: 0.003\n",
      "[38,   300] loss: 0.003\n",
      "[38,   400] loss: 0.003\n",
      "[38,   500] loss: 0.002\n",
      "[38,   600] loss: 0.003\n",
      "[39,   100] loss: 0.003\n",
      "[39,   200] loss: 0.004\n",
      "[39,   300] loss: 0.003\n",
      "[39,   400] loss: 0.003\n",
      "[39,   500] loss: 0.003\n",
      "[39,   600] loss: 0.003\n",
      "[40,   100] loss: 0.002\n",
      "[40,   200] loss: 0.002\n",
      "[40,   300] loss: 0.003\n",
      "[40,   400] loss: 0.003\n",
      "[40,   500] loss: 0.003\n",
      "[40,   600] loss: 0.003\n",
      "[41,   100] loss: 0.002\n",
      "[41,   200] loss: 0.002\n",
      "[41,   300] loss: 0.003\n",
      "[41,   400] loss: 0.003\n",
      "[41,   500] loss: 0.004\n",
      "[41,   600] loss: 0.003\n",
      "[42,   100] loss: 0.002\n",
      "[42,   200] loss: 0.002\n",
      "[42,   300] loss: 0.002\n",
      "[42,   400] loss: 0.004\n",
      "[42,   500] loss: 0.003\n",
      "[42,   600] loss: 0.003\n",
      "[43,   100] loss: 0.002\n",
      "[43,   200] loss: 0.002\n",
      "[43,   300] loss: 0.002\n",
      "[43,   400] loss: 0.002\n",
      "[43,   500] loss: 0.002\n",
      "[43,   600] loss: 0.002\n",
      "[44,   100] loss: 0.002\n",
      "[44,   200] loss: 0.002\n",
      "[44,   300] loss: 0.002\n",
      "[44,   400] loss: 0.003\n",
      "[44,   500] loss: 0.003\n",
      "[44,   600] loss: 0.002\n",
      "[45,   100] loss: 0.002\n",
      "[45,   200] loss: 0.002\n",
      "[45,   300] loss: 0.003\n",
      "[45,   400] loss: 0.002\n",
      "[45,   500] loss: 0.003\n",
      "[45,   600] loss: 0.002\n",
      "[46,   100] loss: 0.002\n",
      "[46,   200] loss: 0.002\n",
      "[46,   300] loss: 0.003\n",
      "[46,   400] loss: 0.003\n",
      "[46,   500] loss: 0.002\n",
      "[46,   600] loss: 0.003\n",
      "[47,   100] loss: 0.002\n",
      "[47,   200] loss: 0.002\n",
      "[47,   300] loss: 0.003\n",
      "[47,   400] loss: 0.002\n",
      "[47,   500] loss: 0.002\n",
      "[47,   600] loss: 0.002\n",
      "[48,   100] loss: 0.002\n",
      "[48,   200] loss: 0.003\n",
      "[48,   300] loss: 0.002\n",
      "[48,   400] loss: 0.002\n",
      "[48,   500] loss: 0.003\n",
      "[48,   600] loss: 0.003\n",
      "[49,   100] loss: 0.003\n",
      "[49,   200] loss: 0.002\n",
      "[49,   300] loss: 0.003\n",
      "[49,   400] loss: 0.002\n",
      "[49,   500] loss: 0.002\n",
      "[49,   600] loss: 0.002\n",
      "[50,   100] loss: 0.002\n",
      "[50,   200] loss: 0.002\n",
      "[50,   300] loss: 0.002\n",
      "[50,   400] loss: 0.002\n",
      "[50,   500] loss: 0.001\n",
      "[50,   600] loss: 0.003\n",
      "Finished Training\n"
     ]
    },
    {
     "data": {
      "text/html": [
       "Waiting for W&B process to finish... <strong style=\"color:green\">(success).</strong>"
      ],
      "text/plain": [
       "<IPython.core.display.HTML object>"
      ]
     },
     "metadata": {},
     "output_type": "display_data"
    },
    {
     "data": {
      "application/vnd.jupyter.widget-view+json": {
       "model_id": "a33b31e7bdae40e197c6795d24b2e71f",
       "version_major": 2,
       "version_minor": 0
      },
      "text/plain": [
       "VBox(children=(Label(value='0.001 MB of 0.001 MB uploaded (0.000 MB deduped)\\r'), FloatProgress(value=1.0, max…"
      ]
     },
     "metadata": {},
     "output_type": "display_data"
    },
    {
     "data": {
      "text/html": [
       "<style>\n",
       "    table.wandb td:nth-child(1) { padding: 0 10px; text-align: left ; width: auto;} td:nth-child(2) {text-align: left ; width: 100%}\n",
       "    .wandb-row { display: flex; flex-direction: row; flex-wrap: wrap; justify-content: flex-start; width: 100% }\n",
       "    .wandb-col { display: flex; flex-direction: column; flex-basis: 100%; flex: 1; padding: 10px; }\n",
       "    </style>\n",
       "<div class=\"wandb-row\"><div class=\"wandb-col\"><h3>Run history:</h3><br/><table class=\"wandb\"><tr><td>epoch</td><td>▁▁▁▁▂▂▂▂▂▃▃▃▃▃▃▄▄▄▄▄▅▅▅▅▅▅▆▆▆▆▆▇▇▇▇▇████</td></tr><tr><td>loss</td><td>█▅▂▁▃▂▁▂▂▁▂▂▁▂▂▁▂▂▁▂▂▁▂▂▁▁▂▁▁▁▁▁▂▁▁▂▁▁▁▁</td></tr></table><br/></div><div class=\"wandb-col\"><h3>Run summary:</h3><br/><table class=\"wandb\"><tr><td>epoch</td><td>49</td></tr><tr><td>loss</td><td>0.0</td></tr></table><br/></div></div>"
      ],
      "text/plain": [
       "<IPython.core.display.HTML object>"
      ]
     },
     "metadata": {},
     "output_type": "display_data"
    },
    {
     "data": {
      "text/html": [
       "Synced <strong style=\"color:#cdcd00\">rural-totem-28</strong>: <a href=\"https://wandb.ai/jocelynornelasmunoz/coded-aperture-MNIST/runs/3bdzsl4t\" target=\"_blank\">https://wandb.ai/jocelynornelasmunoz/coded-aperture-MNIST/runs/3bdzsl4t</a><br/>Synced 6 W&B file(s), 0 media file(s), 0 artifact file(s) and 0 other file(s)"
      ],
      "text/plain": [
       "<IPython.core.display.HTML object>"
      ]
     },
     "metadata": {},
     "output_type": "display_data"
    },
    {
     "data": {
      "text/html": [
       "Find logs at: <code>./wandb/run-20221130_145204-3bdzsl4t/logs</code>"
      ],
      "text/plain": [
       "<IPython.core.display.HTML object>"
      ]
     },
     "metadata": {},
     "output_type": "display_data"
    }
   ],
   "source": [
    "for epoch in range(params['epochs']):  # loop over the dataset multiple times\n",
    "\n",
    "    running_loss = 0.0\n",
    "    for i, data in enumerate(loaders['train']):\n",
    "        # get the inputs; data is a list of [inputs, labels]\n",
    "        inputs, labels = data\n",
    "\n",
    "        # zero the parameter gradients\n",
    "        optimizer.zero_grad()\n",
    "        \n",
    "        # forward + backward + optimize\n",
    "        outputs = model(inputs)\n",
    "        loss = criterion(outputs, labels)\n",
    "        loss.backward()\n",
    "        optimizer.step()\n",
    "\n",
    "        # print statistics\n",
    "        running_loss += loss.item()\n",
    "        if i % 100 == 99:    # print every 2000 mini-batches\n",
    "            print(f'[{epoch + 1}, {i + 1:5d}] loss: {running_loss / 2000:.3f}')\n",
    "            running_loss = 0.0\n",
    "        wandb.log({\"epoch\": epoch, \"loss\": running_loss})\n",
    "print('Finished Training')\n",
    "# Save model\n",
    "\n",
    "torch.save(model.state_dict(), PATH)\n",
    "wandb.finish()"
   ]
  },
  {
   "cell_type": "markdown",
   "id": "3ed40ed9-75ed-412e-ad89-fdc1db0a478b",
   "metadata": {},
   "source": [
    "## Evaluate"
   ]
  },
  {
   "cell_type": "code",
   "execution_count": 11,
   "id": "87df8d42-1109-43a7-a5be-d76f08275544",
   "metadata": {},
   "outputs": [
    {
     "data": {
      "text/plain": [
       "<All keys matched successfully>"
      ]
     },
     "execution_count": 11,
     "metadata": {},
     "output_type": "execute_result"
    }
   ],
   "source": [
    "# Load model if one is not loaded already\n",
    "#PATH = '../models/mnist_net.pth'\n",
    "model.load_state_dict(torch.load(PATH))"
   ]
  },
  {
   "cell_type": "code",
   "execution_count": 12,
   "id": "02f557d0-b2ec-4aa8-801b-a874b9efa1b7",
   "metadata": {},
   "outputs": [],
   "source": [
    "dataiter = iter(loaders['test'])\n",
    "images, labels = dataiter.next()\n",
    "outputs = model(images)\n",
    "_, predicted = torch.max(outputs, 1)"
   ]
  },
  {
   "cell_type": "code",
   "execution_count": 13,
   "id": "7e79ca77-4421-4013-ad0f-9a1ac8a21e8f",
   "metadata": {},
   "outputs": [
    {
     "name": "stdout",
     "output_type": "stream",
     "text": [
      "Accuracy of the network on the 10000 test images: 95 %\n"
     ]
    }
   ],
   "source": [
    "correct = 0\n",
    "total = 0\n",
    "# since we're not training, we don't need to calculate the gradients for our outputs\n",
    "with torch.no_grad():\n",
    "    for data in loaders['test']:\n",
    "        images, labels = data\n",
    "    \n",
    "        # calculate outputs by running images through the network (done in batches)\n",
    "        outputs = model(images)\n",
    "        # the class with the highest energy is what we choose as prediction\n",
    "        _, predicted = torch.max(outputs.data, 1)\n",
    "        total += labels.size(0)\n",
    "        correct += (predicted == labels).sum().item()\n",
    "\n",
    "print(f'Accuracy of the network on the 10000 test images: {100 * correct // total} %')"
   ]
  },
  {
   "cell_type": "code",
   "execution_count": 14,
   "id": "178f8d8d-7052-4123-bd8a-a1206be12c8a",
   "metadata": {},
   "outputs": [
    {
     "name": "stdout",
     "output_type": "stream",
     "text": [
      "Accuracy for class:     0 is 97.9 %\n",
      "Accuracy for class:     1 is 98.8 %\n",
      "Accuracy for class:     2 is 95.9 %\n",
      "Accuracy for class:     3 is 93.6 %\n",
      "Accuracy for class:     4 is 95.8 %\n",
      "Accuracy for class:     5 is 92.2 %\n",
      "Accuracy for class:     6 is 97.4 %\n",
      "Accuracy for class:     7 is 93.5 %\n",
      "Accuracy for class:     8 is 93.4 %\n",
      "Accuracy for class:     9 is 94.4 %\n"
     ]
    }
   ],
   "source": [
    "classes = [i for i in range(10)]\n",
    "# prepare to count predictions for each class\n",
    "correct_pred = {classname: 0 for classname in classes}\n",
    "total_pred = {classname: 0 for classname in classes}\n",
    "\n",
    "# again no gradients needed\n",
    "with torch.no_grad():\n",
    "    for data in loaders['test']:\n",
    "        images, labels = data\n",
    "        outputs = model(images)\n",
    "        _, predictions = torch.max(outputs, 1)\n",
    "        # collect the correct predictions for each class\n",
    "        for label, prediction in zip(labels, predictions):\n",
    "            if label == prediction:\n",
    "                correct_pred[int(label.numpy())] += 1\n",
    "            total_pred[int(label.numpy())] += 1\n",
    "\n",
    "\n",
    "# print accuracy for each class\n",
    "for classname, correct_count in correct_pred.items():\n",
    "    accuracy = 100 * float(correct_count) / total_pred[classname]\n",
    "    print(f'Accuracy for class: {classname:5d} is {accuracy:.1f} %')"
   ]
  },
  {
   "cell_type": "code",
   "execution_count": 15,
   "id": "eb61feeb-9b00-4f7f-a483-74fffd736ac5",
   "metadata": {},
   "outputs": [
    {
     "data": {
      "image/png": "[encoded data removed]",
      "text/plain": [
       "<Figure size 1000x700 with 2 Axes>"
      ]
     },
     "metadata": {},
     "output_type": "display_data"
    }
   ],
   "source": [
    "index = 0\n",
    "img = images[index][0]\n",
    "true_img = mura.FFT_convolve(img.numpy(), G)\n",
    "pred_lab = predicted[index]\n",
    "true_lab = labels[index]\n",
    "\n",
    "fig, axs = plt.subplots(1,2, figsize=(10,7))\n",
    "axs = axs.ravel()\n",
    "axs[0].imshow(img)\n",
    "axs[1].imshow(true_img)\n",
    "axs[0].set_title(f\"True label: {true_lab} \\n Predicted label: {pred_lab}\")\n",
    "axs[1].set_title(\"Decoded image\")\n",
    "plt.show()"
   ]
  },
  {
   "cell_type": "code",
   "execution_count": null,
   "id": "72383b9c-6a16-474c-86e6-cc023480649f",
   "metadata": {},
   "outputs": [],
   "source": []
  },
  {
   "cell_type": "code",
   "execution_count": null,
   "id": "294ad918-1c19-4935-b8c7-ccbe24ae8ffa",
   "metadata": {},
   "outputs": [],
   "source": []
  },
  {
   "cell_type": "code",
   "execution_count": null,
   "id": "a5996718-9b66-4052-8242-49f12aab6ed5",
   "metadata": {},
   "outputs": [],
   "source": []
  },
  {
   "cell_type": "code",
   "execution_count": null,
   "id": "e7b3546a-dca7-48f4-92df-2cde711a9b19",
   "metadata": {},
   "outputs": [],
   "source": []
  },
  {
   "cell_type": "markdown",
   "id": "dd95fd1e-fac4-4e63-bb62-ef0b1c4d43e7",
   "metadata": {},
   "source": [
    "# To be deleted"
   ]
  },
  {
   "cell_type": "raw",
   "id": "df46078f-a8a8-494a-83f1-eeb671c1202f",
   "metadata": {},
   "source": [
    "class Net(nn.Module):\n",
    "    def __init__(self):\n",
    "        super(Net, self).__init__()\n",
    "        self.kernel = 3\n",
    "        # 1 input image channel, 8 output channels, 2x2 square convolution kernel\n",
    "        self.conv1 = nn.Conv2d(1, 8, self.kernel)\n",
    "        self.pool = nn.MaxPool2d(2, 2)\n",
    "        self.conv2 = nn.Conv2d(8, 16, self.kernel)\n",
    "        self.pool = nn.MaxPool2d(2, 2)\n",
    "        self.fc1 = nn.Linear(16 * 4 * 4, 512)\n",
    "        self.fc2 = nn.Linear(512, 256)\n",
    "        self.fc3 = nn.Linear(256, 128)\n",
    "        self.fc4 = nn.Linear(128, 64)\n",
    "        self.fc5 = nn.Linear(64, 10)\n",
    "\n",
    "    def forward(self, x):\n",
    "        x = self.pool(F.relu(self.conv1(x)))\n",
    "        x = self.pool(F.relu(self.conv2(x)))\n",
    "        #x = (F.relu(self.conv3(x)))\n",
    "        x = x.view(-1, 16 * 4* 4)\n",
    "        x = F.relu(self.fc1(x))\n",
    "        x = F.relu(self.fc2(x))\n",
    "        x = F.relu(self.fc3(x))\n",
    "        x = F.relu(self.fc4(x))\n",
    "        x = self.fc5(x)\n",
    "        return x\n"
   ]
  },
  {
   "cell_type": "raw",
   "id": "a0c07151-68a1-4aa1-ac11-c47a0b0c340f",
   "metadata": {},
   "source": [
    "# Compute MURA encoder and decoder\n",
    "p = 23 # size of array\n",
    "A = mura.create_binary_aperture_arr(p)\n",
    "G = mura.create_decoding_arr(A)\n",
    "\n",
    "# fig, axs = plt.subplots(1,2)\n",
    "# axs = axs.ravel()\n",
    "# axs[0].imshow(A, cmap='gray')\n",
    "# axs[1].imshow(G, cmap='gray')\n",
    "# axs[0].set_title(\"Encoder\")\n",
    "# axs[1].set_title(\"Decoder\")\n",
    "# plt.show()\n",
    "\n",
    "# Load training and testing data from PyTorch\n",
    "size = A.shape[0]\n",
    "train_data = datasets.MNIST(\n",
    "    root = '../data/',\n",
    "    train = True,                         \n",
    "    transform = transforms.Compose([\n",
    "                    transforms.ToTensor(),\n",
    "                    transforms.Resize(size),\n",
    "                    #transforms.Normalize(mean=0., std=(1/255.)),\n",
    "                    # Apply MURA encoder\n",
    "                    transforms.Lambda(lambda x: torch.unsqueeze(torch.tensor(mura.FFT_convolve(np.squeeze(x.numpy()), A,p), dtype= torch.float), 0)),\n",
    "                    #transforms.Lambda(mura.get_D),\n",
    "                    transforms.Normalize(0, 1)\n",
    "                ]), \n",
    "    download = False,            \n",
    ")\n",
    "test_data = datasets.MNIST(\n",
    "    root = '../data/', \n",
    "    train = False, \n",
    "    transform = transforms.Compose([\n",
    "                    transforms.ToTensor(),\n",
    "                    transforms.Resize(size),\n",
    "                    #transforms.Normalize(mean=0., std=(1/255.)),\n",
    "                    # Apply MURA encoder\n",
    "                    #transforms.Lambda(mura.get_D),\n",
    "                    transforms.Lambda(lambda x: torch.unsqueeze(torch.tensor(mura.FFT_convolve(np.squeeze(x.numpy()), A,p), dtype= torch.float), 0)),\n",
    "                    transforms.Normalize(0, 1)\n",
    "                ]) \n",
    ")"
   ]
  }
 ],
 "metadata": {
  "kernelspec": {
   "display_name": "Python 3 (ipykernel)",
   "language": "python",
   "name": "python3"
  },
  "language_info": {
   "codemirror_mode": {
    "name": "ipython",
    "version": 3
   },
   "file_extension": ".py",
   "mimetype": "text/x-python",
   "name": "python",
   "nbconvert_exporter": "python",
   "pygments_lexer": "ipython3",
   "version": "3.8.5"
  }
 },
 "nbformat": 4,
 "nbformat_minor": 5
}
