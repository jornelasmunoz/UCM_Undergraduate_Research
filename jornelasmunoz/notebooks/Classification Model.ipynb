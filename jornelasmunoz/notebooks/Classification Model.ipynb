{
 "cells": [
  {
   "cell_type": "code",
   "execution_count": 1,
   "id": "d1ee478c-9434-475c-96c0-1163e8e2294e",
   "metadata": {},
   "outputs": [],
   "source": [
    "%load_ext autoreload\n",
    "%autoreload 2"
   ]
  },
  {
   "cell_type": "markdown",
   "id": "f31e617f-c412-455a-bd46-e487a810c519",
   "metadata": {},
   "source": [
    "# Classification Task"
   ]
  },
  {
   "cell_type": "code",
   "execution_count": 46,
   "id": "4951ea99-3476-46cf-99a6-3f361b5d760d",
   "metadata": {},
   "outputs": [],
   "source": [
    "import os, sys\n",
    "import numpy as np\n",
    "import matplotlib.pyplot as plt\n",
    "from scipy.fft import fft2, ifft2, fft, ifft\n",
    "\n",
    "from torchvision import datasets\n",
    "import torchvision.transforms as transforms\n",
    "import torch\n",
    "\n",
    "sys.path.insert(0, '/Users/jocelynornelas/iCloud Drive (Archive)/Desktop/UC Merced/Research/coded-aperture/jornelasmunoz/lib/')\n",
    "import MURA as mura"
   ]
  },
  {
   "cell_type": "code",
   "execution_count": 5,
   "id": "168d2c2c-9b03-4771-ba4f-8a1a8d08daa0",
   "metadata": {},
   "outputs": [
    {
     "data": {
      "image/png": "[encoded data removed]",
      "text/plain": [
       "<Figure size 640x480 with 2 Axes>"
      ]
     },
     "metadata": {},
     "output_type": "display_data"
    }
   ],
   "source": [
    "# Test with p=5 to check with paper \n",
    "p = 23 # size of array\n",
    "A = mura.create_binary_aperture_arr(p)\n",
    "G = mura.create_decoding_arr(A)\n",
    "\n",
    "fig, axs = plt.subplots(1,2)\n",
    "axs = axs.ravel()\n",
    "axs[0].imshow(A, cmap='gray')\n",
    "axs[1].imshow(G, cmap='gray')\n",
    "axs[0].set_title(\"Encoder\")\n",
    "axs[1].set_title(\"Decoder\")\n",
    "plt.show()"
   ]
  },
  {
   "cell_type": "markdown",
   "id": "734f0ec2-62e8-43cd-95b9-631d9bbaf1cd",
   "metadata": {},
   "source": [
    "# Load MNIST Data"
   ]
  },
  {
   "cell_type": "code",
   "execution_count": 101,
   "id": "36aab613-cfd7-429d-a197-6dfb9246c43d",
   "metadata": {},
   "outputs": [],
   "source": [
    "# Compute MURA encoder and decoder\n",
    "p = 23 # size of array\n",
    "A = mura.create_binary_aperture_arr(p)\n",
    "G = mura.create_decoding_arr(A)\n",
    "\n",
    "# Load training and testing data from PyTorch\n",
    "size = A.shape[0]\n",
    "train_data = datasets.MNIST(\n",
    "    root = '../data/',\n",
    "    train = True,                         \n",
    "    transform = transforms.Compose([\n",
    "                    transforms.ToTensor(),\n",
    "                    transforms.Resize(size),\n",
    "                    #transforms.Normalize(mean=0., std=(1/255.)),\n",
    "                    # Apply MURA encoder\n",
    "                    lambda x: torch.unsqueeze(torch.tensor(mura.FFT_convolve(np.squeeze(x.numpy()), A,p)), 0),\n",
    "                    transforms.Normalize(0, 1)\n",
    "                ]), \n",
    "    download = False,            \n",
    ")\n",
    "test_data = datasets.MNIST(\n",
    "    root = '../data/', \n",
    "    train = False, \n",
    "    transform = transforms.Compose([\n",
    "                    transforms.ToTensor(),\n",
    "                    transforms.Resize(size),\n",
    "                    #transforms.Normalize(mean=0., std=(1/255.)),\n",
    "                    # Apply MURA encoder\n",
    "                    lambda x: torch.unsqueeze(torch.tensor(mura.FFT_convolve(np.squeeze(x.numpy()), A,p)), 0),\n",
    "                    transforms.Normalize(0, 1)\n",
    "                ]) \n",
    ")"
   ]
  },
  {
   "cell_type": "code",
   "execution_count": null,
   "id": "d977b2cf-4caf-4d87-bb28-eededd7460d6",
   "metadata": {},
   "outputs": [],
   "source": []
  }
 ],
 "metadata": {
  "kernelspec": {
   "display_name": "Python 3 (ipykernel)",
   "language": "python",
   "name": "python3"
  },
  "language_info": {
   "codemirror_mode": {
    "name": "ipython",
    "version": 3
   },
   "file_extension": ".py",
   "mimetype": "text/x-python",
   "name": "python",
   "nbconvert_exporter": "python",
   "pygments_lexer": "ipython3",
   "version": "3.8.5"
  }
 },
 "nbformat": 4,
 "nbformat_minor": 5
}
